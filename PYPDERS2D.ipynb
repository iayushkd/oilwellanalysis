{
  "nbformat": 4,
  "nbformat_minor": 0,
  "metadata": {
    "colab": {
      "name": "PYPDERS2D.ipynb",
      "provenance": [],
      "authorship_tag": "ABX9TyOGA63L9vPF3vk83fKeOt+w",
      "include_colab_link": true
    },
    "kernelspec": {
      "name": "python3",
      "display_name": "Python 3"
    },
    "widgets": {
      "application/vnd.jupyter.widget-state+json": {
        "dfe80c1d368f431d88498ade4fdb19d8": {
          "model_module": "@jupyter-widgets/controls",
          "model_name": "HBoxModel",
          "state": {
            "_view_name": "HBoxView",
            "_dom_classes": [],
            "_model_name": "HBoxModel",
            "_view_module": "@jupyter-widgets/controls",
            "_model_module_version": "1.5.0",
            "_view_count": null,
            "_view_module_version": "1.5.0",
            "box_style": "",
            "layout": "IPY_MODEL_c27a2d32e5654ab3a256ac2e6b1df3bd",
            "_model_module": "@jupyter-widgets/controls",
            "children": [
              "IPY_MODEL_c167b00e492944b999a0d6924611a0d3",
              "IPY_MODEL_6206591be9144fb3b3c4d320357155dc"
            ]
          }
        },
        "c27a2d32e5654ab3a256ac2e6b1df3bd": {
          "model_module": "@jupyter-widgets/base",
          "model_name": "LayoutModel",
          "state": {
            "_view_name": "LayoutView",
            "grid_template_rows": null,
            "right": null,
            "justify_content": null,
            "_view_module": "@jupyter-widgets/base",
            "overflow": null,
            "_model_module_version": "1.2.0",
            "_view_count": null,
            "flex_flow": null,
            "width": null,
            "min_width": null,
            "border": null,
            "align_items": null,
            "bottom": null,
            "_model_module": "@jupyter-widgets/base",
            "top": null,
            "grid_column": null,
            "overflow_y": null,
            "overflow_x": null,
            "grid_auto_flow": null,
            "grid_area": null,
            "grid_template_columns": null,
            "flex": null,
            "_model_name": "LayoutModel",
            "justify_items": null,
            "grid_row": null,
            "max_height": null,
            "align_content": null,
            "visibility": null,
            "align_self": null,
            "height": null,
            "min_height": null,
            "padding": null,
            "grid_auto_rows": null,
            "grid_gap": null,
            "max_width": null,
            "order": null,
            "_view_module_version": "1.2.0",
            "grid_template_areas": null,
            "object_position": null,
            "object_fit": null,
            "grid_auto_columns": null,
            "margin": null,
            "display": null,
            "left": null
          }
        },
        "c167b00e492944b999a0d6924611a0d3": {
          "model_module": "@jupyter-widgets/controls",
          "model_name": "FloatProgressModel",
          "state": {
            "_view_name": "ProgressView",
            "style": "IPY_MODEL_08e1b5d0cefb41f89bdde75b3e66b021",
            "_dom_classes": [],
            "description": "100%",
            "_model_name": "FloatProgressModel",
            "bar_style": "success",
            "max": 100,
            "_view_module": "@jupyter-widgets/controls",
            "_model_module_version": "1.5.0",
            "value": 100,
            "_view_count": null,
            "_view_module_version": "1.5.0",
            "orientation": "horizontal",
            "min": 0,
            "description_tooltip": null,
            "_model_module": "@jupyter-widgets/controls",
            "layout": "IPY_MODEL_221971cb45124c09b74ea373b9ccc4dd"
          }
        },
        "6206591be9144fb3b3c4d320357155dc": {
          "model_module": "@jupyter-widgets/controls",
          "model_name": "HTMLModel",
          "state": {
            "_view_name": "HTMLView",
            "style": "IPY_MODEL_7a6e10d4313f45c18dd14a1410b67098",
            "_dom_classes": [],
            "description": "",
            "_model_name": "HTMLModel",
            "placeholder": "​",
            "_view_module": "@jupyter-widgets/controls",
            "_model_module_version": "1.5.0",
            "value": " 100.0/100.0 [00:01&lt;00:00, 54.45it/s]",
            "_view_count": null,
            "_view_module_version": "1.5.0",
            "description_tooltip": null,
            "_model_module": "@jupyter-widgets/controls",
            "layout": "IPY_MODEL_825cbcc47cf642799b0afde73c086881"
          }
        },
        "08e1b5d0cefb41f89bdde75b3e66b021": {
          "model_module": "@jupyter-widgets/controls",
          "model_name": "ProgressStyleModel",
          "state": {
            "_view_name": "StyleView",
            "_model_name": "ProgressStyleModel",
            "description_width": "initial",
            "_view_module": "@jupyter-widgets/base",
            "_model_module_version": "1.5.0",
            "_view_count": null,
            "_view_module_version": "1.2.0",
            "bar_color": null,
            "_model_module": "@jupyter-widgets/controls"
          }
        },
        "221971cb45124c09b74ea373b9ccc4dd": {
          "model_module": "@jupyter-widgets/base",
          "model_name": "LayoutModel",
          "state": {
            "_view_name": "LayoutView",
            "grid_template_rows": null,
            "right": null,
            "justify_content": null,
            "_view_module": "@jupyter-widgets/base",
            "overflow": null,
            "_model_module_version": "1.2.0",
            "_view_count": null,
            "flex_flow": null,
            "width": null,
            "min_width": null,
            "border": null,
            "align_items": null,
            "bottom": null,
            "_model_module": "@jupyter-widgets/base",
            "top": null,
            "grid_column": null,
            "overflow_y": null,
            "overflow_x": null,
            "grid_auto_flow": null,
            "grid_area": null,
            "grid_template_columns": null,
            "flex": null,
            "_model_name": "LayoutModel",
            "justify_items": null,
            "grid_row": null,
            "max_height": null,
            "align_content": null,
            "visibility": null,
            "align_self": null,
            "height": null,
            "min_height": null,
            "padding": null,
            "grid_auto_rows": null,
            "grid_gap": null,
            "max_width": null,
            "order": null,
            "_view_module_version": "1.2.0",
            "grid_template_areas": null,
            "object_position": null,
            "object_fit": null,
            "grid_auto_columns": null,
            "margin": null,
            "display": null,
            "left": null
          }
        },
        "7a6e10d4313f45c18dd14a1410b67098": {
          "model_module": "@jupyter-widgets/controls",
          "model_name": "DescriptionStyleModel",
          "state": {
            "_view_name": "StyleView",
            "_model_name": "DescriptionStyleModel",
            "description_width": "",
            "_view_module": "@jupyter-widgets/base",
            "_model_module_version": "1.5.0",
            "_view_count": null,
            "_view_module_version": "1.2.0",
            "_model_module": "@jupyter-widgets/controls"
          }
        },
        "825cbcc47cf642799b0afde73c086881": {
          "model_module": "@jupyter-widgets/base",
          "model_name": "LayoutModel",
          "state": {
            "_view_name": "LayoutView",
            "grid_template_rows": null,
            "right": null,
            "justify_content": null,
            "_view_module": "@jupyter-widgets/base",
            "overflow": null,
            "_model_module_version": "1.2.0",
            "_view_count": null,
            "flex_flow": null,
            "width": null,
            "min_width": null,
            "border": null,
            "align_items": null,
            "bottom": null,
            "_model_module": "@jupyter-widgets/base",
            "top": null,
            "grid_column": null,
            "overflow_y": null,
            "overflow_x": null,
            "grid_auto_flow": null,
            "grid_area": null,
            "grid_template_columns": null,
            "flex": null,
            "_model_name": "LayoutModel",
            "justify_items": null,
            "grid_row": null,
            "max_height": null,
            "align_content": null,
            "visibility": null,
            "align_self": null,
            "height": null,
            "min_height": null,
            "padding": null,
            "grid_auto_rows": null,
            "grid_gap": null,
            "max_width": null,
            "order": null,
            "_view_module_version": "1.2.0",
            "grid_template_areas": null,
            "object_position": null,
            "object_fit": null,
            "grid_auto_columns": null,
            "margin": null,
            "display": null,
            "left": null
          }
        },
        "ddf914b949cb49e0a2f052551ad62bd4": {
          "model_module": "@jupyter-widgets/controls",
          "model_name": "HBoxModel",
          "state": {
            "_view_name": "HBoxView",
            "_dom_classes": [],
            "_model_name": "HBoxModel",
            "_view_module": "@jupyter-widgets/controls",
            "_model_module_version": "1.5.0",
            "_view_count": null,
            "_view_module_version": "1.5.0",
            "box_style": "",
            "layout": "IPY_MODEL_890b4a43827644149c65dafe69509fde",
            "_model_module": "@jupyter-widgets/controls",
            "children": [
              "IPY_MODEL_4d7178b7da0945d9a8dc836d7d0b1218",
              "IPY_MODEL_0c5df27864294f1983eff4a945840d39"
            ]
          }
        },
        "890b4a43827644149c65dafe69509fde": {
          "model_module": "@jupyter-widgets/base",
          "model_name": "LayoutModel",
          "state": {
            "_view_name": "LayoutView",
            "grid_template_rows": null,
            "right": null,
            "justify_content": null,
            "_view_module": "@jupyter-widgets/base",
            "overflow": null,
            "_model_module_version": "1.2.0",
            "_view_count": null,
            "flex_flow": null,
            "width": null,
            "min_width": null,
            "border": null,
            "align_items": null,
            "bottom": null,
            "_model_module": "@jupyter-widgets/base",
            "top": null,
            "grid_column": null,
            "overflow_y": null,
            "overflow_x": null,
            "grid_auto_flow": null,
            "grid_area": null,
            "grid_template_columns": null,
            "flex": null,
            "_model_name": "LayoutModel",
            "justify_items": null,
            "grid_row": null,
            "max_height": null,
            "align_content": null,
            "visibility": null,
            "align_self": null,
            "height": null,
            "min_height": null,
            "padding": null,
            "grid_auto_rows": null,
            "grid_gap": null,
            "max_width": null,
            "order": null,
            "_view_module_version": "1.2.0",
            "grid_template_areas": null,
            "object_position": null,
            "object_fit": null,
            "grid_auto_columns": null,
            "margin": null,
            "display": null,
            "left": null
          }
        },
        "4d7178b7da0945d9a8dc836d7d0b1218": {
          "model_module": "@jupyter-widgets/controls",
          "model_name": "FloatProgressModel",
          "state": {
            "_view_name": "ProgressView",
            "style": "IPY_MODEL_b2f002cef3ef4247aa75f6024ebcc36d",
            "_dom_classes": [],
            "description": "100%",
            "_model_name": "FloatProgressModel",
            "bar_style": "success",
            "max": 100,
            "_view_module": "@jupyter-widgets/controls",
            "_model_module_version": "1.5.0",
            "value": 100,
            "_view_count": null,
            "_view_module_version": "1.5.0",
            "orientation": "horizontal",
            "min": 0,
            "description_tooltip": null,
            "_model_module": "@jupyter-widgets/controls",
            "layout": "IPY_MODEL_37469c26929647bd920e928a12bc1a9c"
          }
        },
        "0c5df27864294f1983eff4a945840d39": {
          "model_module": "@jupyter-widgets/controls",
          "model_name": "HTMLModel",
          "state": {
            "_view_name": "HTMLView",
            "style": "IPY_MODEL_7bb2e74c6aa44e308e67603a5812995f",
            "_dom_classes": [],
            "description": "",
            "_model_name": "HTMLModel",
            "placeholder": "​",
            "_view_module": "@jupyter-widgets/controls",
            "_model_module_version": "1.5.0",
            "value": " 100.0/100.0 [00:20&lt;00:00,  4.84it/s]",
            "_view_count": null,
            "_view_module_version": "1.5.0",
            "description_tooltip": null,
            "_model_module": "@jupyter-widgets/controls",
            "layout": "IPY_MODEL_11ee4e42919e48bcbc65c3b5c29d9e71"
          }
        },
        "b2f002cef3ef4247aa75f6024ebcc36d": {
          "model_module": "@jupyter-widgets/controls",
          "model_name": "ProgressStyleModel",
          "state": {
            "_view_name": "StyleView",
            "_model_name": "ProgressStyleModel",
            "description_width": "initial",
            "_view_module": "@jupyter-widgets/base",
            "_model_module_version": "1.5.0",
            "_view_count": null,
            "_view_module_version": "1.2.0",
            "bar_color": null,
            "_model_module": "@jupyter-widgets/controls"
          }
        },
        "37469c26929647bd920e928a12bc1a9c": {
          "model_module": "@jupyter-widgets/base",
          "model_name": "LayoutModel",
          "state": {
            "_view_name": "LayoutView",
            "grid_template_rows": null,
            "right": null,
            "justify_content": null,
            "_view_module": "@jupyter-widgets/base",
            "overflow": null,
            "_model_module_version": "1.2.0",
            "_view_count": null,
            "flex_flow": null,
            "width": null,
            "min_width": null,
            "border": null,
            "align_items": null,
            "bottom": null,
            "_model_module": "@jupyter-widgets/base",
            "top": null,
            "grid_column": null,
            "overflow_y": null,
            "overflow_x": null,
            "grid_auto_flow": null,
            "grid_area": null,
            "grid_template_columns": null,
            "flex": null,
            "_model_name": "LayoutModel",
            "justify_items": null,
            "grid_row": null,
            "max_height": null,
            "align_content": null,
            "visibility": null,
            "align_self": null,
            "height": null,
            "min_height": null,
            "padding": null,
            "grid_auto_rows": null,
            "grid_gap": null,
            "max_width": null,
            "order": null,
            "_view_module_version": "1.2.0",
            "grid_template_areas": null,
            "object_position": null,
            "object_fit": null,
            "grid_auto_columns": null,
            "margin": null,
            "display": null,
            "left": null
          }
        },
        "7bb2e74c6aa44e308e67603a5812995f": {
          "model_module": "@jupyter-widgets/controls",
          "model_name": "DescriptionStyleModel",
          "state": {
            "_view_name": "StyleView",
            "_model_name": "DescriptionStyleModel",
            "description_width": "",
            "_view_module": "@jupyter-widgets/base",
            "_model_module_version": "1.5.0",
            "_view_count": null,
            "_view_module_version": "1.2.0",
            "_model_module": "@jupyter-widgets/controls"
          }
        },
        "11ee4e42919e48bcbc65c3b5c29d9e71": {
          "model_module": "@jupyter-widgets/base",
          "model_name": "LayoutModel",
          "state": {
            "_view_name": "LayoutView",
            "grid_template_rows": null,
            "right": null,
            "justify_content": null,
            "_view_module": "@jupyter-widgets/base",
            "overflow": null,
            "_model_module_version": "1.2.0",
            "_view_count": null,
            "flex_flow": null,
            "width": null,
            "min_width": null,
            "border": null,
            "align_items": null,
            "bottom": null,
            "_model_module": "@jupyter-widgets/base",
            "top": null,
            "grid_column": null,
            "overflow_y": null,
            "overflow_x": null,
            "grid_auto_flow": null,
            "grid_area": null,
            "grid_template_columns": null,
            "flex": null,
            "_model_name": "LayoutModel",
            "justify_items": null,
            "grid_row": null,
            "max_height": null,
            "align_content": null,
            "visibility": null,
            "align_self": null,
            "height": null,
            "min_height": null,
            "padding": null,
            "grid_auto_rows": null,
            "grid_gap": null,
            "max_width": null,
            "order": null,
            "_view_module_version": "1.2.0",
            "grid_template_areas": null,
            "object_position": null,
            "object_fit": null,
            "grid_auto_columns": null,
            "margin": null,
            "display": null,
            "left": null
          }
        },
        "dc1675fe41164b8fb27f1be7407ea26c": {
          "model_module": "@jupyter-widgets/output",
          "model_name": "OutputModel",
          "state": {
            "_view_name": "OutputView",
            "msg_id": "",
            "_dom_classes": [],
            "_model_name": "OutputModel",
            "outputs": [
              {
                "output_type": "display_data",
                "metadata": {
                  "tags": []
                },
                "image/png": "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\n",
                "text/plain": "<Figure size 640x480 with 1 Axes>"
              }
            ],
            "_view_module": "@jupyter-widgets/output",
            "_model_module_version": "1.0.0",
            "_view_count": null,
            "_view_module_version": "1.0.0",
            "layout": "IPY_MODEL_ddde837452b342cfa3321a002556fc41",
            "_model_module": "@jupyter-widgets/output"
          }
        },
        "ddde837452b342cfa3321a002556fc41": {
          "model_module": "@jupyter-widgets/base",
          "model_name": "LayoutModel",
          "state": {
            "_view_name": "LayoutView",
            "grid_template_rows": null,
            "right": null,
            "justify_content": null,
            "_view_module": "@jupyter-widgets/base",
            "overflow": null,
            "_model_module_version": "1.2.0",
            "_view_count": null,
            "flex_flow": null,
            "width": null,
            "min_width": null,
            "border": null,
            "align_items": null,
            "bottom": null,
            "_model_module": "@jupyter-widgets/base",
            "top": null,
            "grid_column": null,
            "overflow_y": null,
            "overflow_x": null,
            "grid_auto_flow": null,
            "grid_area": null,
            "grid_template_columns": null,
            "flex": null,
            "_model_name": "LayoutModel",
            "justify_items": null,
            "grid_row": null,
            "max_height": null,
            "align_content": null,
            "visibility": null,
            "align_self": null,
            "height": null,
            "min_height": null,
            "padding": null,
            "grid_auto_rows": null,
            "grid_gap": null,
            "max_width": null,
            "order": null,
            "_view_module_version": "1.2.0",
            "grid_template_areas": null,
            "object_position": null,
            "object_fit": null,
            "grid_auto_columns": null,
            "margin": null,
            "display": null,
            "left": null
          }
        },
        "c9b643d1f1d74467b7fb57dd4a43e578": {
          "model_module": "@jupyter-widgets/controls",
          "model_name": "HBoxModel",
          "state": {
            "_view_name": "HBoxView",
            "_dom_classes": [],
            "_model_name": "HBoxModel",
            "_view_module": "@jupyter-widgets/controls",
            "_model_module_version": "1.5.0",
            "_view_count": null,
            "_view_module_version": "1.5.0",
            "box_style": "",
            "layout": "IPY_MODEL_a041277726c44d2bbe85eb0bb29ab749",
            "_model_module": "@jupyter-widgets/controls",
            "children": [
              "IPY_MODEL_8e54418a13e2434188f6092676ba9ea3",
              "IPY_MODEL_608c39ea385444778f787c0bd5eb65c9"
            ]
          }
        },
        "a041277726c44d2bbe85eb0bb29ab749": {
          "model_module": "@jupyter-widgets/base",
          "model_name": "LayoutModel",
          "state": {
            "_view_name": "LayoutView",
            "grid_template_rows": null,
            "right": null,
            "justify_content": null,
            "_view_module": "@jupyter-widgets/base",
            "overflow": null,
            "_model_module_version": "1.2.0",
            "_view_count": null,
            "flex_flow": null,
            "width": null,
            "min_width": null,
            "border": null,
            "align_items": null,
            "bottom": null,
            "_model_module": "@jupyter-widgets/base",
            "top": null,
            "grid_column": null,
            "overflow_y": null,
            "overflow_x": null,
            "grid_auto_flow": null,
            "grid_area": null,
            "grid_template_columns": null,
            "flex": null,
            "_model_name": "LayoutModel",
            "justify_items": null,
            "grid_row": null,
            "max_height": null,
            "align_content": null,
            "visibility": null,
            "align_self": null,
            "height": null,
            "min_height": null,
            "padding": null,
            "grid_auto_rows": null,
            "grid_gap": null,
            "max_width": null,
            "order": null,
            "_view_module_version": "1.2.0",
            "grid_template_areas": null,
            "object_position": null,
            "object_fit": null,
            "grid_auto_columns": null,
            "margin": null,
            "display": null,
            "left": null
          }
        },
        "8e54418a13e2434188f6092676ba9ea3": {
          "model_module": "@jupyter-widgets/controls",
          "model_name": "FloatProgressModel",
          "state": {
            "_view_name": "ProgressView",
            "style": "IPY_MODEL_80b463a3261b47419c3cdc929f966573",
            "_dom_classes": [],
            "description": "100%",
            "_model_name": "FloatProgressModel",
            "bar_style": "success",
            "max": 100,
            "_view_module": "@jupyter-widgets/controls",
            "_model_module_version": "1.5.0",
            "value": 100,
            "_view_count": null,
            "_view_module_version": "1.5.0",
            "orientation": "horizontal",
            "min": 0,
            "description_tooltip": null,
            "_model_module": "@jupyter-widgets/controls",
            "layout": "IPY_MODEL_71d68b2279bd4ace8095bb6ef303e652"
          }
        },
        "608c39ea385444778f787c0bd5eb65c9": {
          "model_module": "@jupyter-widgets/controls",
          "model_name": "HTMLModel",
          "state": {
            "_view_name": "HTMLView",
            "style": "IPY_MODEL_51e1f5ea7aaf4118867f046bddc723c1",
            "_dom_classes": [],
            "description": "",
            "_model_name": "HTMLModel",
            "placeholder": "​",
            "_view_module": "@jupyter-widgets/controls",
            "_model_module_version": "1.5.0",
            "value": " 100.0/100.0 [00:20&lt;00:00,  4.80it/s]",
            "_view_count": null,
            "_view_module_version": "1.5.0",
            "description_tooltip": null,
            "_model_module": "@jupyter-widgets/controls",
            "layout": "IPY_MODEL_d7923a3be11f4cbd9bd486558dacbeb5"
          }
        },
        "80b463a3261b47419c3cdc929f966573": {
          "model_module": "@jupyter-widgets/controls",
          "model_name": "ProgressStyleModel",
          "state": {
            "_view_name": "StyleView",
            "_model_name": "ProgressStyleModel",
            "description_width": "initial",
            "_view_module": "@jupyter-widgets/base",
            "_model_module_version": "1.5.0",
            "_view_count": null,
            "_view_module_version": "1.2.0",
            "bar_color": null,
            "_model_module": "@jupyter-widgets/controls"
          }
        },
        "71d68b2279bd4ace8095bb6ef303e652": {
          "model_module": "@jupyter-widgets/base",
          "model_name": "LayoutModel",
          "state": {
            "_view_name": "LayoutView",
            "grid_template_rows": null,
            "right": null,
            "justify_content": null,
            "_view_module": "@jupyter-widgets/base",
            "overflow": null,
            "_model_module_version": "1.2.0",
            "_view_count": null,
            "flex_flow": null,
            "width": null,
            "min_width": null,
            "border": null,
            "align_items": null,
            "bottom": null,
            "_model_module": "@jupyter-widgets/base",
            "top": null,
            "grid_column": null,
            "overflow_y": null,
            "overflow_x": null,
            "grid_auto_flow": null,
            "grid_area": null,
            "grid_template_columns": null,
            "flex": null,
            "_model_name": "LayoutModel",
            "justify_items": null,
            "grid_row": null,
            "max_height": null,
            "align_content": null,
            "visibility": null,
            "align_self": null,
            "height": null,
            "min_height": null,
            "padding": null,
            "grid_auto_rows": null,
            "grid_gap": null,
            "max_width": null,
            "order": null,
            "_view_module_version": "1.2.0",
            "grid_template_areas": null,
            "object_position": null,
            "object_fit": null,
            "grid_auto_columns": null,
            "margin": null,
            "display": null,
            "left": null
          }
        },
        "51e1f5ea7aaf4118867f046bddc723c1": {
          "model_module": "@jupyter-widgets/controls",
          "model_name": "DescriptionStyleModel",
          "state": {
            "_view_name": "StyleView",
            "_model_name": "DescriptionStyleModel",
            "description_width": "",
            "_view_module": "@jupyter-widgets/base",
            "_model_module_version": "1.5.0",
            "_view_count": null,
            "_view_module_version": "1.2.0",
            "_model_module": "@jupyter-widgets/controls"
          }
        },
        "d7923a3be11f4cbd9bd486558dacbeb5": {
          "model_module": "@jupyter-widgets/base",
          "model_name": "LayoutModel",
          "state": {
            "_view_name": "LayoutView",
            "grid_template_rows": null,
            "right": null,
            "justify_content": null,
            "_view_module": "@jupyter-widgets/base",
            "overflow": null,
            "_model_module_version": "1.2.0",
            "_view_count": null,
            "flex_flow": null,
            "width": null,
            "min_width": null,
            "border": null,
            "align_items": null,
            "bottom": null,
            "_model_module": "@jupyter-widgets/base",
            "top": null,
            "grid_column": null,
            "overflow_y": null,
            "overflow_x": null,
            "grid_auto_flow": null,
            "grid_area": null,
            "grid_template_columns": null,
            "flex": null,
            "_model_name": "LayoutModel",
            "justify_items": null,
            "grid_row": null,
            "max_height": null,
            "align_content": null,
            "visibility": null,
            "align_self": null,
            "height": null,
            "min_height": null,
            "padding": null,
            "grid_auto_rows": null,
            "grid_gap": null,
            "max_width": null,
            "order": null,
            "_view_module_version": "1.2.0",
            "grid_template_areas": null,
            "object_position": null,
            "object_fit": null,
            "grid_auto_columns": null,
            "margin": null,
            "display": null,
            "left": null
          }
        },
        "691b5544b39d46639157e96ec8cc6a88": {
          "model_module": "@jupyter-widgets/output",
          "model_name": "OutputModel",
          "state": {
            "_view_name": "OutputView",
            "msg_id": "",
            "_dom_classes": [],
            "_model_name": "OutputModel",
            "outputs": [
              {
                "output_type": "display_data",
                "metadata": {
                  "tags": []
                },
                "image/png": "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\n",
                "text/plain": "<Figure size 640x480 with 1 Axes>"
              }
            ],
            "_view_module": "@jupyter-widgets/output",
            "_model_module_version": "1.0.0",
            "_view_count": null,
            "_view_module_version": "1.0.0",
            "layout": "IPY_MODEL_5f5ec03b5c7042ebbbaaba68fb73c3af",
            "_model_module": "@jupyter-widgets/output"
          }
        },
        "5f5ec03b5c7042ebbbaaba68fb73c3af": {
          "model_module": "@jupyter-widgets/base",
          "model_name": "LayoutModel",
          "state": {
            "_view_name": "LayoutView",
            "grid_template_rows": null,
            "right": null,
            "justify_content": null,
            "_view_module": "@jupyter-widgets/base",
            "overflow": null,
            "_model_module_version": "1.2.0",
            "_view_count": null,
            "flex_flow": null,
            "width": null,
            "min_width": null,
            "border": null,
            "align_items": null,
            "bottom": null,
            "_model_module": "@jupyter-widgets/base",
            "top": null,
            "grid_column": null,
            "overflow_y": null,
            "overflow_x": null,
            "grid_auto_flow": null,
            "grid_area": null,
            "grid_template_columns": null,
            "flex": null,
            "_model_name": "LayoutModel",
            "justify_items": null,
            "grid_row": null,
            "max_height": null,
            "align_content": null,
            "visibility": null,
            "align_self": null,
            "height": null,
            "min_height": null,
            "padding": null,
            "grid_auto_rows": null,
            "grid_gap": null,
            "max_width": null,
            "order": null,
            "_view_module_version": "1.2.0",
            "grid_template_areas": null,
            "object_position": null,
            "object_fit": null,
            "grid_auto_columns": null,
            "margin": null,
            "display": null,
            "left": null
          }
        }
      }
    }
  },
  "cells": [
    {
      "cell_type": "markdown",
      "metadata": {
        "id": "view-in-github",
        "colab_type": "text"
      },
      "source": [
        "<a href=\"https://colab.research.google.com/github/Divyanshu-ISM/Oil-and-Gas-data-analysis/blob/master/PYPDERS2D.ipynb\" target=\"_parent\"><img src=\"https://colab.research.google.com/assets/colab-badge.svg\" alt=\"Open In Colab\"/></a>"
      ]
    },
    {
      "cell_type": "code",
      "metadata": {
        "id": "8wmamAQfCNDk",
        "colab_type": "code",
        "colab": {
          "base_uri": "https://localhost:8080/",
          "height": 547
        },
        "outputId": "17335921-1fd5-4985-8b67-3e9fde9be4b9"
      },
      "source": [
        "!pip install py-pde\n",
        "\n",
        "!pip install h5py pandas pyfftw tqdm"
      ],
      "execution_count": 2,
      "outputs": [
        {
          "output_type": "stream",
          "text": [
            "Collecting py-pde\n",
            "\u001b[?25l  Downloading https://files.pythonhosted.org/packages/f2/2a/45a24610e33c92f07b52c036c196890228f6dc87232bf8d34de64b163ce2/py_pde-0.9.4-py3-none-any.whl (278kB)\n",
            "\r\u001b[K     |█▏                              | 10kB 8.2MB/s eta 0:00:01\r\u001b[K     |██▍                             | 20kB 1.8MB/s eta 0:00:01\r\u001b[K     |███▌                            | 30kB 2.3MB/s eta 0:00:01\r\u001b[K     |████▊                           | 40kB 2.5MB/s eta 0:00:01\r\u001b[K     |█████▉                          | 51kB 2.0MB/s eta 0:00:01\r\u001b[K     |███████                         | 61kB 2.3MB/s eta 0:00:01\r\u001b[K     |████████▎                       | 71kB 2.5MB/s eta 0:00:01\r\u001b[K     |█████████▍                      | 81kB 2.7MB/s eta 0:00:01\r\u001b[K     |██████████▋                     | 92kB 3.0MB/s eta 0:00:01\r\u001b[K     |███████████▊                    | 102kB 2.8MB/s eta 0:00:01\r\u001b[K     |█████████████                   | 112kB 2.8MB/s eta 0:00:01\r\u001b[K     |██████████████▏                 | 122kB 2.8MB/s eta 0:00:01\r\u001b[K     |███████████████▎                | 133kB 2.8MB/s eta 0:00:01\r\u001b[K     |████████████████▌               | 143kB 2.8MB/s eta 0:00:01\r\u001b[K     |█████████████████▋              | 153kB 2.8MB/s eta 0:00:01\r\u001b[K     |██████████████████▉             | 163kB 2.8MB/s eta 0:00:01\r\u001b[K     |████████████████████            | 174kB 2.8MB/s eta 0:00:01\r\u001b[K     |█████████████████████▏          | 184kB 2.8MB/s eta 0:00:01\r\u001b[K     |██████████████████████▍         | 194kB 2.8MB/s eta 0:00:01\r\u001b[K     |███████████████████████▌        | 204kB 2.8MB/s eta 0:00:01\r\u001b[K     |████████████████████████▊       | 215kB 2.8MB/s eta 0:00:01\r\u001b[K     |██████████████████████████      | 225kB 2.8MB/s eta 0:00:01\r\u001b[K     |███████████████████████████     | 235kB 2.8MB/s eta 0:00:01\r\u001b[K     |████████████████████████████▎   | 245kB 2.8MB/s eta 0:00:01\r\u001b[K     |█████████████████████████████▍  | 256kB 2.8MB/s eta 0:00:01\r\u001b[K     |██████████████████████████████▋ | 266kB 2.8MB/s eta 0:00:01\r\u001b[K     |███████████████████████████████▉| 276kB 2.8MB/s eta 0:00:01\r\u001b[K     |████████████████████████████████| 286kB 2.8MB/s \n",
            "\u001b[?25hRequirement already satisfied: numpy in /usr/local/lib/python3.6/dist-packages (from py-pde) (1.18.5)\n",
            "Requirement already satisfied: scipy in /usr/local/lib/python3.6/dist-packages (from py-pde) (1.4.1)\n",
            "Requirement already satisfied: numba in /usr/local/lib/python3.6/dist-packages (from py-pde) (0.48.0)\n",
            "Requirement already satisfied: sympy in /usr/local/lib/python3.6/dist-packages (from py-pde) (1.1.1)\n",
            "Requirement already satisfied: matplotlib in /usr/local/lib/python3.6/dist-packages (from py-pde) (3.2.2)\n",
            "Requirement already satisfied: llvmlite<0.32.0,>=0.31.0dev0 in /usr/local/lib/python3.6/dist-packages (from numba->py-pde) (0.31.0)\n",
            "Requirement already satisfied: setuptools in /usr/local/lib/python3.6/dist-packages (from numba->py-pde) (49.6.0)\n",
            "Requirement already satisfied: mpmath>=0.19 in /usr/local/lib/python3.6/dist-packages (from sympy->py-pde) (1.1.0)\n",
            "Requirement already satisfied: cycler>=0.10 in /usr/local/lib/python3.6/dist-packages (from matplotlib->py-pde) (0.10.0)\n",
            "Requirement already satisfied: python-dateutil>=2.1 in /usr/local/lib/python3.6/dist-packages (from matplotlib->py-pde) (2.8.1)\n",
            "Requirement already satisfied: pyparsing!=2.0.4,!=2.1.2,!=2.1.6,>=2.0.1 in /usr/local/lib/python3.6/dist-packages (from matplotlib->py-pde) (2.4.7)\n",
            "Requirement already satisfied: kiwisolver>=1.0.1 in /usr/local/lib/python3.6/dist-packages (from matplotlib->py-pde) (1.2.0)\n",
            "Requirement already satisfied: six in /usr/local/lib/python3.6/dist-packages (from cycler>=0.10->matplotlib->py-pde) (1.15.0)\n",
            "Installing collected packages: py-pde\n",
            "Successfully installed py-pde-0.9.4\n",
            "Requirement already satisfied: h5py in /usr/local/lib/python3.6/dist-packages (2.10.0)\n",
            "Requirement already satisfied: pandas in /usr/local/lib/python3.6/dist-packages (1.0.5)\n",
            "Collecting pyfftw\n",
            "\u001b[?25l  Downloading https://files.pythonhosted.org/packages/dc/77/2a039e2c411b6532ae5b8e5e922d31fdb6140246f92379d9a1dce4872a20/pyFFTW-0.12.0-cp36-cp36m-manylinux1_x86_64.whl (2.6MB)\n",
            "\u001b[K     |████████████████████████████████| 2.6MB 2.8MB/s \n",
            "\u001b[?25hRequirement already satisfied: tqdm in /usr/local/lib/python3.6/dist-packages (4.41.1)\n",
            "Requirement already satisfied: six in /usr/local/lib/python3.6/dist-packages (from h5py) (1.15.0)\n",
            "Requirement already satisfied: numpy>=1.7 in /usr/local/lib/python3.6/dist-packages (from h5py) (1.18.5)\n",
            "Requirement already satisfied: python-dateutil>=2.6.1 in /usr/local/lib/python3.6/dist-packages (from pandas) (2.8.1)\n",
            "Requirement already satisfied: pytz>=2017.2 in /usr/local/lib/python3.6/dist-packages (from pandas) (2018.9)\n",
            "Installing collected packages: pyfftw\n",
            "Successfully installed pyfftw-0.12.0\n"
          ],
          "name": "stdout"
        }
      ]
    },
    {
      "cell_type": "code",
      "metadata": {
        "id": "wgTlbVJGCePD",
        "colab_type": "code",
        "colab": {}
      },
      "source": [
        "import numpy as np\n",
        "import matplotlib.pyplot as plt\n",
        "import scipy as sc\n",
        "import numba as nu\n",
        "import sympy as sym"
      ],
      "execution_count": 3,
      "outputs": []
    },
    {
      "cell_type": "markdown",
      "metadata": {
        "id": "rusaX-Gla6Rx",
        "colab_type": "text"
      },
      "source": [
        "#Simple Diffusivity Equation in 2D"
      ]
    },
    {
      "cell_type": "code",
      "metadata": {
        "id": "enbEBK9zCiAM",
        "colab_type": "code",
        "colab": {}
      },
      "source": [
        "from pde import DiffusionPDE, ScalarField, UnitGrid"
      ],
      "execution_count": null,
      "outputs": []
    },
    {
      "cell_type": "code",
      "metadata": {
        "id": "x4XPmnIPccHR",
        "colab_type": "code",
        "colab": {
          "base_uri": "https://localhost:8080/",
          "height": 51
        },
        "outputId": "0eaa8924-86e9-4adb-98e3-4329d5cea7ac"
      },
      "source": [
        "plt.style.use('default')\n",
        "plt.figure(figsize=(10,6))"
      ],
      "execution_count": null,
      "outputs": [
        {
          "output_type": "execute_result",
          "data": {
            "text/plain": [
              "<Figure size 1000x600 with 0 Axes>"
            ]
          },
          "metadata": {
            "tags": []
          },
          "execution_count": 55
        },
        {
          "output_type": "display_data",
          "data": {
            "text/plain": [
              "<Figure size 1000x600 with 0 Axes>"
            ]
          },
          "metadata": {
            "tags": []
          }
        }
      ]
    },
    {
      "cell_type": "code",
      "metadata": {
        "id": "ydmxHcNFCmgF",
        "colab_type": "code",
        "colab": {
          "base_uri": "https://localhost:8080/",
          "height": 521,
          "referenced_widgets": [
            "dfe80c1d368f431d88498ade4fdb19d8",
            "c27a2d32e5654ab3a256ac2e6b1df3bd",
            "c167b00e492944b999a0d6924611a0d3",
            "6206591be9144fb3b3c4d320357155dc",
            "08e1b5d0cefb41f89bdde75b3e66b021",
            "221971cb45124c09b74ea373b9ccc4dd",
            "7a6e10d4313f45c18dd14a1410b67098",
            "825cbcc47cf642799b0afde73c086881"
          ]
        },
        "outputId": "fa4e520d-4400-40b6-ea00-c6b850d1e361"
      },
      "source": [
        "#1. Generate a Grid \n",
        "grid = UnitGrid([100,100])\n",
        "\n",
        "#2. Give the Initial Condition to the grid\n",
        "#Here We're creating a Field With Uniformly distributed Values (Let's say of Porosity)\n",
        "i_state = ScalarField.random_uniform(grid=grid,vmin=0.10,vmax=0.40,label='Porosity')\n",
        "\n",
        "#3. Now Let's Define the PDE\n",
        "eq = DiffusionPDE(diffusivity=0.1)  # define the pde\n",
        "\n",
        "#4. Results\n",
        "result = eq.solve(i_state, t_range=100)\n",
        "\n",
        "#5. Plot Results\n",
        "result.plot()"
      ],
      "execution_count": null,
      "outputs": [
        {
          "output_type": "display_data",
          "data": {
            "application/vnd.jupyter.widget-view+json": {
              "model_id": "dfe80c1d368f431d88498ade4fdb19d8",
              "version_minor": 0,
              "version_major": 2
            },
            "text/plain": [
              "HBox(children=(FloatProgress(value=0.0), HTML(value='')))"
            ]
          },
          "metadata": {
            "tags": []
          }
        },
        {
          "output_type": "display_data",
          "data": {
            "image/png": "[encoded data removed]",
            "text/plain": [
              "<Figure size 640x480 with 1 Axes>"
            ]
          },
          "metadata": {
            "tags": []
          }
        },
        {
          "output_type": "execute_result",
          "data": {
            "text/plain": [
              "<pde.tools.plotting.PlotReference at 0x7f2d25260088>"
            ]
          },
          "metadata": {
            "tags": []
          },
          "execution_count": 15
        }
      ]
    },
    {
      "cell_type": "code",
      "metadata": {
        "id": "4vhKX0F83ewi",
        "colab_type": "code",
        "colab": {}
      },
      "source": [
        "import pde\n",
        "grid = pde.UnitGrid([100, 100])"
      ],
      "execution_count": 5,
      "outputs": []
    },
    {
      "cell_type": "code",
      "metadata": {
        "id": "WBdQs6933xL8",
        "colab_type": "code",
        "colab": {
          "base_uri": "https://localhost:8080/",
          "height": 51
        },
        "outputId": "b21f5cb9-2c1e-49ae-93b6-e438e59d7359"
      },
      "source": [
        "plt.style.use('default')\n",
        "plt.figure(figsize=(10,10))\n",
        "grid = pde.UnitGrid([100, 100])\n",
        "grid"
      ],
      "execution_count": 8,
      "outputs": [
        {
          "output_type": "execute_result",
          "data": {
            "text/plain": [
              "UnitGrid(shape=(100, 100), periodic=[False, False])"
            ]
          },
          "metadata": {
            "tags": []
          },
          "execution_count": 8
        },
        {
          "output_type": "display_data",
          "data": {
            "text/plain": [
              "<Figure size 1000x1000 with 0 Axes>"
            ]
          },
          "metadata": {
            "tags": []
          }
        }
      ]
    },
    {
      "cell_type": "code",
      "metadata": {
        "id": "3QXWrcFE39xI",
        "colab_type": "code",
        "colab": {}
      },
      "source": [
        "Pi = np.ones(grid.shape)*5000\n",
        "Pi[20:30,60:70] = 100\n",
        "Pi[60:70,60:70] = 1000\n",
        "\n",
        "Pi[20:30,20:30] = 100\n",
        "Pi[60:70,20:30] = 1000"
      ],
      "execution_count": 23,
      "outputs": []
    },
    {
      "cell_type": "code",
      "metadata": {
        "id": "Yt1lY89rCokc",
        "colab_type": "code",
        "colab": {
          "base_uri": "https://localhost:8080/",
          "height": 1000,
          "referenced_widgets": [
            "ddf914b949cb49e0a2f052551ad62bd4",
            "890b4a43827644149c65dafe69509fde",
            "4d7178b7da0945d9a8dc836d7d0b1218",
            "0c5df27864294f1983eff4a945840d39",
            "b2f002cef3ef4247aa75f6024ebcc36d",
            "37469c26929647bd920e928a12bc1a9c",
            "7bb2e74c6aa44e308e67603a5812995f",
            "11ee4e42919e48bcbc65c3b5c29d9e71",
            "dc1675fe41164b8fb27f1be7407ea26c",
            "ddde837452b342cfa3321a002556fc41"
          ]
        },
        "cellView": "code",
        "outputId": "8a5fad3c-8bcf-45d6-aad7-f9ab3ce9a4a7"
      },
      "source": [
        "#@title Default title text\n",
        "import pde\n",
        "\n",
        " # generate grid\n",
        "state = pde.ScalarField(grid=grid,data=Pi)  # generate initial condition\n",
        "\n",
        "storage = pde.MemoryStorage()\n",
        "\n",
        "trackers = [\n",
        "    \"progress\",  # show progress bar during simulation\n",
        "    \"steady_state\",  # abort when steady state is reached\n",
        "    storage.tracker(interval=1),  # store data every simulation time unit\n",
        "    pde.PlotTracker(show=True,title=\"Interference in a High-(Kh/mu) Reservoir\"),  # show images during simulation\n",
        "    # print some output every 5 real seconds:\n",
        "    pde.PrintTracker(interval=pde.RealtimeIntervals(duration=100))\n",
        "]\n",
        "\n",
        "eq = pde.DiffusionPDE(1)  # define the PDE\n",
        "eq.solve(state, 100, dt=0.1, tracker=trackers)\n",
        "\n",
        "for field in storage:\n",
        "    print(field.integral)\n",
        "\n",
        "\n",
        "\n",
        "\n",
        "\n",
        "\n",
        "\n",
        "\n",
        "\n",
        "\n",
        "# plt.colorbar()"
      ],
      "execution_count": 32,
      "outputs": [
        {
          "output_type": "display_data",
          "data": {
            "application/vnd.jupyter.widget-view+json": {
              "model_id": "ddf914b949cb49e0a2f052551ad62bd4",
              "version_minor": 0,
              "version_major": 2
            },
            "text/plain": [
              "HBox(children=(FloatProgress(value=0.0), HTML(value='')))"
            ]
          },
          "metadata": {
            "tags": []
          }
        },
        {
          "output_type": "display_data",
          "data": {
            "application/vnd.jupyter.widget-view+json": {
              "model_id": "dc1675fe41164b8fb27f1be7407ea26c",
              "version_minor": 0,
              "version_major": 2
            },
            "text/plain": [
              "Output()"
            ]
          },
          "metadata": {
            "tags": []
          }
        },
        {
          "output_type": "stream",
          "text": [
            "t=0, c=4.82e+03±877\n",
            "t=0.2, c=4.82e+03±821\n",
            "t=1.7, c=4.82e+03±688\n",
            "t=36, c=4.82e+03±221\n"
          ],
          "name": "stdout"
        },
        {
          "output_type": "stream",
          "text": [
            "Spent more time on handling trackers (18.77126859199973) than on the actual simulation (1.1008868360002566)\n"
          ],
          "name": "stderr"
        },
        {
          "output_type": "stream",
          "text": [
            "48220000.0\n",
            "48220000.0\n",
            "48220000.00000001\n",
            "48220000.0\n",
            "48220000.0\n",
            "48220000.0\n",
            "48220000.0\n",
            "48220000.0\n",
            "48220000.0\n",
            "48219999.99999999\n",
            "48220000.0\n",
            "48220000.0\n",
            "48220000.0\n",
            "48220000.0\n",
            "48220000.0\n",
            "48220000.0\n",
            "48220000.00000001\n",
            "48220000.0\n",
            "48220000.000000015\n",
            "48220000.0\n",
            "48219999.99999999\n",
            "48220000.0\n",
            "48220000.0\n",
            "48220000.0\n",
            "48220000.0\n",
            "48220000.0\n",
            "48220000.00000001\n",
            "48220000.0\n",
            "48220000.0\n",
            "48220000.0\n",
            "48220000.0\n",
            "48220000.0\n",
            "48220000.0\n",
            "48220000.00000001\n",
            "48220000.0\n",
            "48220000.0\n",
            "48220000.0\n",
            "48220000.0\n",
            "48220000.0\n",
            "48220000.00000001\n",
            "48220000.0\n",
            "48220000.0\n",
            "48220000.0\n",
            "48220000.0\n",
            "48220000.0\n",
            "48220000.0\n",
            "48220000.0\n",
            "48220000.0\n",
            "48220000.0\n",
            "48220000.0\n",
            "48219999.99999999\n",
            "48220000.0\n",
            "48220000.0\n",
            "48220000.0\n",
            "48220000.0\n",
            "48219999.99999999\n",
            "48220000.0\n",
            "48220000.0\n",
            "48220000.0\n",
            "48220000.0\n",
            "48220000.0\n",
            "48220000.0\n",
            "48220000.00000001\n",
            "48220000.0\n",
            "48220000.0\n",
            "48220000.0\n",
            "48220000.0\n",
            "48220000.0\n",
            "48220000.0\n",
            "48220000.0\n",
            "48220000.0\n",
            "48220000.0\n",
            "48220000.0\n",
            "48220000.0\n",
            "48220000.0\n",
            "48220000.0\n",
            "48220000.0\n",
            "48220000.0\n",
            "48220000.0\n",
            "48220000.0\n",
            "48220000.0\n",
            "48220000.0\n",
            "48220000.00000001\n",
            "48220000.0\n",
            "48219999.99999999\n",
            "48220000.0\n",
            "48220000.0\n",
            "48220000.00000001\n",
            "48220000.0\n",
            "48220000.0\n",
            "48220000.0\n",
            "48220000.0\n",
            "48220000.0\n",
            "48219999.99999999\n",
            "48220000.00000001\n",
            "48219999.99999999\n",
            "48220000.0\n",
            "48220000.0\n",
            "48220000.0\n",
            "48220000.0\n",
            "48220000.0\n"
          ],
          "name": "stdout"
        }
      ]
    },
    {
      "cell_type": "code",
      "metadata": {
        "id": "YU90mkkLdgo9",
        "colab_type": "code",
        "colab": {}
      },
      "source": [
        "Pi = np.ones(grid.shape)*5000\n",
        "Pi[15:20,15:20] = 100"
      ],
      "execution_count": null,
      "outputs": []
    },
    {
      "cell_type": "code",
      "metadata": {
        "id": "SBf3f7nvd4K4",
        "colab_type": "code",
        "colab": {}
      },
      "source": [
        "#"
      ],
      "execution_count": null,
      "outputs": []
    },
    {
      "cell_type": "code",
      "metadata": {
        "id": "NFB-nl1ojDlo",
        "colab_type": "code",
        "colab": {}
      },
      "source": [
        ""
      ],
      "execution_count": null,
      "outputs": []
    },
    {
      "cell_type": "code",
      "metadata": {
        "id": "kho8bbXbjX41",
        "colab_type": "code",
        "colab": {
          "base_uri": "https://localhost:8080/",
          "height": 1000,
          "referenced_widgets": [
            "c9b643d1f1d74467b7fb57dd4a43e578",
            "a041277726c44d2bbe85eb0bb29ab749",
            "8e54418a13e2434188f6092676ba9ea3",
            "608c39ea385444778f787c0bd5eb65c9",
            "80b463a3261b47419c3cdc929f966573",
            "71d68b2279bd4ace8095bb6ef303e652",
            "51e1f5ea7aaf4118867f046bddc723c1",
            "d7923a3be11f4cbd9bd486558dacbeb5",
            "691b5544b39d46639157e96ec8cc6a88",
            "5f5ec03b5c7042ebbbaaba68fb73c3af"
          ]
        },
        "outputId": "f3173d5a-277a-4116-f6fd-ba72c817f895"
      },
      "source": [
        "import pde\n",
        "\n",
        " # generate grid\n",
        "state = pde.ScalarField(grid=grid,data=Pi)  # generate initial condition\n",
        "\n",
        "storage = pde.MemoryStorage()\n",
        "\n",
        "trackers = [\n",
        "    \"progress\",  # show progress bar during simulation\n",
        "    \"steady_state\",  # abort when steady state is reached\n",
        "    storage.tracker(interval=1),  # store data every simulation time unit\n",
        "    pde.PlotTracker(show=True,title='Pressure Diffusion in a (Tight) Reservoir'),  # show images during simulation\n",
        "    # print some output every 5 real seconds:\n",
        "    pde.PrintTracker(interval=pde.RealtimeIntervals(duration=100))\n",
        "]\n",
        "\n",
        "eq = pde.DiffusionPDE(0.3)  # define the PDE\n",
        "eq.solve(state, 100, dt=0.1, tracker=trackers)\n",
        "\n",
        "for field in storage:\n",
        "    print(field.integral)\n",
        "\n",
        "\n",
        "\n",
        "\n",
        "\n",
        "\n",
        "\n",
        "\n",
        "\n",
        "\n",
        "\n",
        "\n",
        "\n",
        "\n",
        "#"
      ],
      "execution_count": 33,
      "outputs": [
        {
          "output_type": "display_data",
          "data": {
            "application/vnd.jupyter.widget-view+json": {
              "model_id": "c9b643d1f1d74467b7fb57dd4a43e578",
              "version_minor": 0,
              "version_major": 2
            },
            "text/plain": [
              "HBox(children=(FloatProgress(value=0.0), HTML(value='')))"
            ]
          },
          "metadata": {
            "tags": []
          }
        },
        {
          "output_type": "display_data",
          "data": {
            "application/vnd.jupyter.widget-view+json": {
              "model_id": "691b5544b39d46639157e96ec8cc6a88",
              "version_minor": 0,
              "version_major": 2
            },
            "text/plain": [
              "Output()"
            ]
          },
          "metadata": {
            "tags": []
          }
        },
        {
          "output_type": "stream",
          "text": [
            "t=0, c=4.82e+03±877\n",
            "t=0.2, c=4.82e+03±857\n",
            "t=1.5, c=4.82e+03±786\n",
            "t=30.7, c=4.82e+03±451\n"
          ],
          "name": "stdout"
        },
        {
          "output_type": "stream",
          "text": [
            "Spent more time on handling trackers (18.816123430000403) than on the actual simulation (1.010091898999633)\n"
          ],
          "name": "stderr"
        },
        {
          "output_type": "stream",
          "text": [
            "48220000.0\n",
            "48220000.0\n",
            "48220000.0\n",
            "48220000.0\n",
            "48220000.0\n",
            "48220000.0\n",
            "48220000.0\n",
            "48220000.00000001\n",
            "48220000.0\n",
            "48220000.00000001\n",
            "48220000.0\n",
            "48220000.0\n",
            "48220000.00000001\n",
            "48220000.0\n",
            "48220000.000000015\n",
            "48220000.0\n",
            "48220000.0\n",
            "48220000.0\n",
            "48220000.0\n",
            "48220000.0\n",
            "48220000.00000001\n",
            "48220000.00000001\n",
            "48220000.00000001\n",
            "48220000.0\n",
            "48220000.00000001\n",
            "48220000.00000001\n",
            "48220000.0\n",
            "48220000.00000001\n",
            "48220000.0\n",
            "48220000.0\n",
            "48220000.000000015\n",
            "48220000.0\n",
            "48220000.0\n",
            "48220000.0\n",
            "48220000.00000001\n",
            "48220000.0\n",
            "48220000.0\n",
            "48220000.0\n",
            "48220000.00000001\n",
            "48220000.00000001\n",
            "48220000.00000001\n",
            "48220000.000000015\n",
            "48220000.0\n",
            "48220000.0\n",
            "48220000.0\n",
            "48220000.0\n",
            "48220000.0\n",
            "48220000.0\n",
            "48220000.0\n",
            "48220000.0\n",
            "48220000.0\n",
            "48220000.0\n",
            "48220000.0\n",
            "48220000.0\n",
            "48220000.00000001\n",
            "48220000.0\n",
            "48220000.00000001\n",
            "48220000.0\n",
            "48220000.00000001\n",
            "48220000.000000015\n",
            "48220000.0\n",
            "48220000.0\n",
            "48220000.00000001\n",
            "48220000.00000001\n",
            "48220000.00000001\n",
            "48220000.00000001\n",
            "48220000.00000001\n",
            "48220000.0\n",
            "48220000.0\n",
            "48220000.0\n",
            "48220000.0\n",
            "48220000.0\n",
            "48220000.00000001\n",
            "48220000.00000001\n",
            "48220000.0\n",
            "48220000.00000001\n",
            "48220000.0\n",
            "48220000.0\n",
            "48220000.0\n",
            "48220000.0\n",
            "48220000.00000001\n",
            "48220000.000000015\n",
            "48220000.0\n",
            "48220000.0\n",
            "48220000.0\n",
            "48220000.0\n",
            "48220000.0\n",
            "48220000.0\n",
            "48220000.00000001\n",
            "48220000.00000001\n",
            "48220000.0\n",
            "48220000.0\n",
            "48220000.0\n",
            "48220000.0\n",
            "48220000.00000001\n",
            "48220000.00000001\n",
            "48220000.00000001\n",
            "48220000.0\n",
            "48220000.00000001\n",
            "48220000.0\n",
            "48220000.0\n"
          ],
          "name": "stdout"
        }
      ]
    },
    {
      "cell_type": "code",
      "metadata": {
        "id": "jN7BgNII6gDR",
        "colab_type": "code",
        "colab": {}
      },
      "source": [
        ""
      ],
      "execution_count": null,
      "outputs": []
    }
  ]
}