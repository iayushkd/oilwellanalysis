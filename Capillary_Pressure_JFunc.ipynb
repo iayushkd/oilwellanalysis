{
  "nbformat": 4,
  "nbformat_minor": 0,
  "metadata": {
    "colab": {
      "name": "Capillary Pressure JFunc.ipynb",
      "provenance": [],
      "authorship_tag": "ABX9TyOFg6o8Hvlx88JCDCaHlAVj",
      "include_colab_link": true
    },
    "kernelspec": {
      "name": "python3",
      "display_name": "Python 3"
    }
  },
  "cells": [
    {
      "cell_type": "markdown",
      "metadata": {
        "id": "view-in-github",
        "colab_type": "text"
      },
      "source": [
        "<a href=\"https://colab.research.google.com/github/Divyanshu-ISM/Oil-and-Gas-data-analysis/blob/master/Capillary_Pressure_JFunc.ipynb\" target=\"_parent\"><img src=\"https://colab.research.google.com/assets/colab-badge.svg\" alt=\"Open In Colab\"/></a>"
      ]
    },
    {
      "cell_type": "code",
      "metadata": {
        "id": "1IhFp_uQFQWT",
        "colab_type": "code",
        "colab": {}
      },
      "source": [
        "import numpy as np\n",
        "import pandas as pd\n",
        "import matplotlib.pyplot as plt\n",
        "%matplotlib inline"
      ],
      "execution_count": 1,
      "outputs": []
    },
    {
      "cell_type": "code",
      "metadata": {
        "id": "qTqaSA_pFZVO",
        "colab_type": "code",
        "colab": {}
      },
      "source": [
        "sigma = 50 #IFT, dyn/cm\n",
        "\n",
        "phi_lab = 0.16\n",
        "k_lab = 80\n",
        "\n",
        "phi = 0.19 #porosity\n",
        "\n",
        "k = 120 #md\n",
        "\n",
        "pc_lab = {'Sw':[1.0,0.8,0.6,0.4,0.25,0.23,0.21,0.20],\n",
        "      'Pc_lab':[0.5,0.6,0.75,1.05,1.50,1.75,3.0,8.0]}\n",
        "\n",
        "df = pd.DataFrame(pc_lab)"
      ],
      "execution_count": 30,
      "outputs": []
    },
    {
      "cell_type": "code",
      "metadata": {
        "id": "KNwBn8AyGrLl",
        "colab_type": "code",
        "colab": {
          "base_uri": "https://localhost:8080/",
          "height": 287
        },
        "outputId": "6118aa21-3ddd-4906-f16f-054b2c583a64"
      },
      "source": [
        "df"
      ],
      "execution_count": 31,
      "outputs": [
        {
          "output_type": "execute_result",
          "data": {
            "text/html": [
              "<div>\n",
              "<style scoped>\n",
              "    .dataframe tbody tr th:only-of-type {\n",
              "        vertical-align: middle;\n",
              "    }\n",
              "\n",
              "    .dataframe tbody tr th {\n",
              "        vertical-align: top;\n",
              "    }\n",
              "\n",
              "    .dataframe thead th {\n",
              "        text-align: right;\n",
              "    }\n",
              "</style>\n",
              "<table border=\"1\" class=\"dataframe\">\n",
              "  <thead>\n",
              "    <tr style=\"text-align: right;\">\n",
              "      <th></th>\n",
              "      <th>Sw</th>\n",
              "      <th>Pc_lab</th>\n",
              "    </tr>\n",
              "  </thead>\n",
              "  <tbody>\n",
              "    <tr>\n",
              "      <th>0</th>\n",
              "      <td>1.00</td>\n",
              "      <td>0.50</td>\n",
              "    </tr>\n",
              "    <tr>\n",
              "      <th>1</th>\n",
              "      <td>0.80</td>\n",
              "      <td>0.60</td>\n",
              "    </tr>\n",
              "    <tr>\n",
              "      <th>2</th>\n",
              "      <td>0.60</td>\n",
              "      <td>0.75</td>\n",
              "    </tr>\n",
              "    <tr>\n",
              "      <th>3</th>\n",
              "      <td>0.40</td>\n",
              "      <td>1.05</td>\n",
              "    </tr>\n",
              "    <tr>\n",
              "      <th>4</th>\n",
              "      <td>0.25</td>\n",
              "      <td>1.50</td>\n",
              "    </tr>\n",
              "    <tr>\n",
              "      <th>5</th>\n",
              "      <td>0.23</td>\n",
              "      <td>1.75</td>\n",
              "    </tr>\n",
              "    <tr>\n",
              "      <th>6</th>\n",
              "      <td>0.21</td>\n",
              "      <td>3.00</td>\n",
              "    </tr>\n",
              "    <tr>\n",
              "      <th>7</th>\n",
              "      <td>0.20</td>\n",
              "      <td>8.00</td>\n",
              "    </tr>\n",
              "  </tbody>\n",
              "</table>\n",
              "</div>"
            ],
            "text/plain": [
              "     Sw  Pc_lab\n",
              "0  1.00    0.50\n",
              "1  0.80    0.60\n",
              "2  0.60    0.75\n",
              "3  0.40    1.05\n",
              "4  0.25    1.50\n",
              "5  0.23    1.75\n",
              "6  0.21    3.00\n",
              "7  0.20    8.00"
            ]
          },
          "metadata": {
            "tags": []
          },
          "execution_count": 31
        }
      ]
    },
    {
      "cell_type": "code",
      "metadata": {
        "id": "imdNVpLcFx4j",
        "colab_type": "code",
        "colab": {
          "base_uri": "https://localhost:8080/",
          "height": 410
        },
        "outputId": "bca05c08-2196-4796-8d81-e7154c14d609"
      },
      "source": [
        "plt.style.use('default')\n",
        "\n",
        "plt.figure(figsize=(8,4))\n",
        "\n",
        "plt.plot(df['Sw'],df['Pc_lab'],label='Pc v/s Sw',color='red',linewidth=3)\n",
        "\n",
        "plt.title('Laboratory Data')\n",
        "plt.xlabel('Sw')\n",
        "plt.ylabel('Pc')\n",
        "\n",
        "plt.legend()\n",
        "\n",
        "plt.grid()"
      ],
      "execution_count": 32,
      "outputs": [
        {
          "output_type": "display_data",
          "data": {
            "image/png": "[encoded data removed]",
            "text/plain": [
              "<Figure size 800x400 with 1 Axes>"
            ]
          },
          "metadata": {
            "tags": []
          }
        }
      ]
    },
    {
      "cell_type": "markdown",
      "metadata": {
        "id": "NbINfr9RIQbg",
        "colab_type": "text"
      },
      "source": [
        "Now our task is to convert this lab data to reservoir data. \n",
        "\n",
        "Concept: J function."
      ]
    },
    {
      "cell_type": "markdown",
      "metadata": {
        "id": "2fDQRdWjIbnx",
        "colab_type": "text"
      },
      "source": [
        "> $J(Sw) = 0.21645 \\frac{Pc}{\\sigma} root(k/phi) $"
      ]
    },
    {
      "cell_type": "code",
      "metadata": {
        "id": "qbWw-XvoF26I",
        "colab_type": "code",
        "colab": {}
      },
      "source": [
        "df['J'] = 0.21645*(df['Pc_lab']/sigma)*(np.sqrt(k_lab/phi_lab))"
      ],
      "execution_count": 33,
      "outputs": []
    },
    {
      "cell_type": "code",
      "metadata": {
        "id": "eEajfbTZJM5C",
        "colab_type": "code",
        "colab": {
          "base_uri": "https://localhost:8080/",
          "height": 287
        },
        "outputId": "d77db40d-6b8c-448a-bd44-17323a089d46"
      },
      "source": [
        "df"
      ],
      "execution_count": 34,
      "outputs": [
        {
          "output_type": "execute_result",
          "data": {
            "text/html": [
              "<div>\n",
              "<style scoped>\n",
              "    .dataframe tbody tr th:only-of-type {\n",
              "        vertical-align: middle;\n",
              "    }\n",
              "\n",
              "    .dataframe tbody tr th {\n",
              "        vertical-align: top;\n",
              "    }\n",
              "\n",
              "    .dataframe thead th {\n",
              "        text-align: right;\n",
              "    }\n",
              "</style>\n",
              "<table border=\"1\" class=\"dataframe\">\n",
              "  <thead>\n",
              "    <tr style=\"text-align: right;\">\n",
              "      <th></th>\n",
              "      <th>Sw</th>\n",
              "      <th>Pc_lab</th>\n",
              "      <th>J</th>\n",
              "    </tr>\n",
              "  </thead>\n",
              "  <tbody>\n",
              "    <tr>\n",
              "      <th>0</th>\n",
              "      <td>1.00</td>\n",
              "      <td>0.50</td>\n",
              "      <td>0.048400</td>\n",
              "    </tr>\n",
              "    <tr>\n",
              "      <th>1</th>\n",
              "      <td>0.80</td>\n",
              "      <td>0.60</td>\n",
              "      <td>0.058080</td>\n",
              "    </tr>\n",
              "    <tr>\n",
              "      <th>2</th>\n",
              "      <td>0.60</td>\n",
              "      <td>0.75</td>\n",
              "      <td>0.072600</td>\n",
              "    </tr>\n",
              "    <tr>\n",
              "      <th>3</th>\n",
              "      <td>0.40</td>\n",
              "      <td>1.05</td>\n",
              "      <td>0.101639</td>\n",
              "    </tr>\n",
              "    <tr>\n",
              "      <th>4</th>\n",
              "      <td>0.25</td>\n",
              "      <td>1.50</td>\n",
              "      <td>0.145199</td>\n",
              "    </tr>\n",
              "    <tr>\n",
              "      <th>5</th>\n",
              "      <td>0.23</td>\n",
              "      <td>1.75</td>\n",
              "      <td>0.169399</td>\n",
              "    </tr>\n",
              "    <tr>\n",
              "      <th>6</th>\n",
              "      <td>0.21</td>\n",
              "      <td>3.00</td>\n",
              "      <td>0.290398</td>\n",
              "    </tr>\n",
              "    <tr>\n",
              "      <th>7</th>\n",
              "      <td>0.20</td>\n",
              "      <td>8.00</td>\n",
              "      <td>0.774395</td>\n",
              "    </tr>\n",
              "  </tbody>\n",
              "</table>\n",
              "</div>"
            ],
            "text/plain": [
              "     Sw  Pc_lab         J\n",
              "0  1.00    0.50  0.048400\n",
              "1  0.80    0.60  0.058080\n",
              "2  0.60    0.75  0.072600\n",
              "3  0.40    1.05  0.101639\n",
              "4  0.25    1.50  0.145199\n",
              "5  0.23    1.75  0.169399\n",
              "6  0.21    3.00  0.290398\n",
              "7  0.20    8.00  0.774395"
            ]
          },
          "metadata": {
            "tags": []
          },
          "execution_count": 34
        }
      ]
    },
    {
      "cell_type": "code",
      "metadata": {
        "id": "GdYan_6SJr5V",
        "colab_type": "code",
        "colab": {}
      },
      "source": [
        "df['Pc_reservoir'] = (df['J']*sigma)/(0.21645*np.sqrt(k/phi))"
      ],
      "execution_count": 35,
      "outputs": []
    },
    {
      "cell_type": "code",
      "metadata": {
        "id": "-ei-LJBPKhqP",
        "colab_type": "code",
        "colab": {
          "base_uri": "https://localhost:8080/",
          "height": 287
        },
        "outputId": "f38b56a7-2dbb-434e-9428-3e81a3eeea87"
      },
      "source": [
        "df"
      ],
      "execution_count": 36,
      "outputs": [
        {
          "output_type": "execute_result",
          "data": {
            "text/html": [
              "<div>\n",
              "<style scoped>\n",
              "    .dataframe tbody tr th:only-of-type {\n",
              "        vertical-align: middle;\n",
              "    }\n",
              "\n",
              "    .dataframe tbody tr th {\n",
              "        vertical-align: top;\n",
              "    }\n",
              "\n",
              "    .dataframe thead th {\n",
              "        text-align: right;\n",
              "    }\n",
              "</style>\n",
              "<table border=\"1\" class=\"dataframe\">\n",
              "  <thead>\n",
              "    <tr style=\"text-align: right;\">\n",
              "      <th></th>\n",
              "      <th>Sw</th>\n",
              "      <th>Pc_lab</th>\n",
              "      <th>J</th>\n",
              "      <th>Pc_reservoir</th>\n",
              "    </tr>\n",
              "  </thead>\n",
              "  <tbody>\n",
              "    <tr>\n",
              "      <th>0</th>\n",
              "      <td>1.00</td>\n",
              "      <td>0.50</td>\n",
              "      <td>0.048400</td>\n",
              "      <td>0.444878</td>\n",
              "    </tr>\n",
              "    <tr>\n",
              "      <th>1</th>\n",
              "      <td>0.80</td>\n",
              "      <td>0.60</td>\n",
              "      <td>0.058080</td>\n",
              "      <td>0.533854</td>\n",
              "    </tr>\n",
              "    <tr>\n",
              "      <th>2</th>\n",
              "      <td>0.60</td>\n",
              "      <td>0.75</td>\n",
              "      <td>0.072600</td>\n",
              "      <td>0.667317</td>\n",
              "    </tr>\n",
              "    <tr>\n",
              "      <th>3</th>\n",
              "      <td>0.40</td>\n",
              "      <td>1.05</td>\n",
              "      <td>0.101639</td>\n",
              "      <td>0.934244</td>\n",
              "    </tr>\n",
              "    <tr>\n",
              "      <th>4</th>\n",
              "      <td>0.25</td>\n",
              "      <td>1.50</td>\n",
              "      <td>0.145199</td>\n",
              "      <td>1.334635</td>\n",
              "    </tr>\n",
              "    <tr>\n",
              "      <th>5</th>\n",
              "      <td>0.23</td>\n",
              "      <td>1.75</td>\n",
              "      <td>0.169399</td>\n",
              "      <td>1.557074</td>\n",
              "    </tr>\n",
              "    <tr>\n",
              "      <th>6</th>\n",
              "      <td>0.21</td>\n",
              "      <td>3.00</td>\n",
              "      <td>0.290398</td>\n",
              "      <td>2.669270</td>\n",
              "    </tr>\n",
              "    <tr>\n",
              "      <th>7</th>\n",
              "      <td>0.20</td>\n",
              "      <td>8.00</td>\n",
              "      <td>0.774395</td>\n",
              "      <td>7.118052</td>\n",
              "    </tr>\n",
              "  </tbody>\n",
              "</table>\n",
              "</div>"
            ],
            "text/plain": [
              "     Sw  Pc_lab         J  Pc_reservoir\n",
              "0  1.00    0.50  0.048400      0.444878\n",
              "1  0.80    0.60  0.058080      0.533854\n",
              "2  0.60    0.75  0.072600      0.667317\n",
              "3  0.40    1.05  0.101639      0.934244\n",
              "4  0.25    1.50  0.145199      1.334635\n",
              "5  0.23    1.75  0.169399      1.557074\n",
              "6  0.21    3.00  0.290398      2.669270\n",
              "7  0.20    8.00  0.774395      7.118052"
            ]
          },
          "metadata": {
            "tags": []
          },
          "execution_count": 36
        }
      ]
    },
    {
      "cell_type": "code",
      "metadata": {
        "id": "XrtihhaUKik1",
        "colab_type": "code",
        "colab": {
          "base_uri": "https://localhost:8080/",
          "height": 564
        },
        "outputId": "b984e2a8-d923-4382-a2f3-d0371b25ede1"
      },
      "source": [
        "plt.style.use('default')\n",
        "\n",
        "plt.figure(figsize=(12,6))\n",
        "\n",
        "plt.plot(df['Sw'],df['Pc_lab'],label='Pc(Lab) v/s Sw',linewidth=2)\n",
        "plt.plot(df['Sw'],df['Pc_reservoir'],label='Pc(Actual) v/s Sw',linewidth=2)\n",
        "\n",
        "plt.title('Application of Leverett-J function')\n",
        "plt.xlabel('Sw(Fraction)')\n",
        "plt.ylabel('Pc(Psi)')\n",
        "\n",
        "plt.legend()\n",
        "\n",
        "plt.grid()"
      ],
      "execution_count": 42,
      "outputs": [
        {
          "output_type": "display_data",
          "data": {
            "image/png": "[encoded data removed]",
            "text/plain": [
              "<Figure size 1200x600 with 1 Axes>"
            ]
          },
          "metadata": {
            "tags": []
          }
        }
      ]
    },
    {
      "cell_type": "code",
      "metadata": {
        "id": "rrbS3AknK3iS",
        "colab_type": "code",
        "colab": {}
      },
      "source": [
        ""
      ],
      "execution_count": null,
      "outputs": []
    }
  ]
}