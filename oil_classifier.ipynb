{
  "nbformat": 4,
  "nbformat_minor": 0,
  "metadata": {
    "colab": {
      "name": "oil classifier.ipynb",
      "provenance": [],
      "authorship_tag": "ABX9TyOp+VGm9D+OcKmlxS56WkW/",
      "include_colab_link": true
    },
    "kernelspec": {
      "name": "python3",
      "display_name": "Python 3"
    }
  },
  "cells": [
    {
      "cell_type": "markdown",
      "metadata": {
        "id": "view-in-github",
        "colab_type": "text"
      },
      "source": [
        "<a href=\"https://colab.research.google.com/github/Divyanshu-ISM/Oil-and-Gas-data-analysis/blob/master/oil_classifier.ipynb\" target=\"_parent\"><img src=\"https://colab.research.google.com/assets/colab-badge.svg\" alt=\"Open In Colab\"/></a>"
      ]
    },
    {
      "cell_type": "code",
      "metadata": {
        "id": "g0xsaA3-Vwq0",
        "colab_type": "code",
        "colab": {
          "base_uri": "https://localhost:8080/",
          "height": 168
        },
        "outputId": "6bb05c91-6fea-4d6b-872d-d88cf6c7e961"
      },
      "source": [
        "#Hello! Welcome To the Crude Oil Classifier - Python 3.0 code.\n",
        "\n",
        "API = float(input(\"\\n Enter the API gravity : \"))\n",
        "GOR = float(input(\"\\n Enter the Gas Oil Ratio : \"))\n",
        "Bo = float(input(\"\\n Enter the Formation Oil Volume Factor : \"))\n",
        "\n",
        "\n",
        "if API < 35.0 and GOR < 200.0 and Bo <1.2:\n",
        "  print(f\"\\n Low Shrinkage Crude, with: \\nAPI:{API} Deg. \\t GOR:{GOR} SCF/STB \\t Bo:{Bo} RB/STB\")\n",
        "elif 35 <= API <=45 and 200<=GOR<=700 and 1.2<=Bo<=1.5:\n",
        "  print(f\"\\n Ordinary Black Oil, with: \\nAPI:{API} Deg. \\t GOR:{GOR} SCF/STB \\t Bo:{Bo} RB/STB\")\n",
        "elif 45<API<=55 and 2000<=GOR<=3000 and 1.5<=Bo<=2 :\n",
        "  print(f\"\\n High Shrinkage Crude Oil, with: \\nAPI:{API} Deg. \\t GOR:{GOR} SCF/STB \\t Bo:{Bo} RB/STB\")\n",
        "elif 50<=API<=55 and GOR>=3000 and Bo >2:\n",
        "  print(f\"\\n Near Critical Crude Oil, with: \\nAPI:{API} Deg. \\t GOR:{GOR} SCF/STB \\t Bo:{Bo} RB/STB\")\n",
        "else:\n",
        "  print(\"\\n The entered properties don't fit into anny classification!\")\n",
        "\n"
      ],
      "execution_count": 3,
      "outputs": [
        {
          "output_type": "stream",
          "text": [
            "\n",
            " Enter the API gravity : 36\n",
            "\n",
            " Enter the Gas Oil Ratio : 203\n",
            "\n",
            " Enter the Formation Oil Volume Factor : 1.3\n",
            "\n",
            " Ordinary Black Oil, with: \n",
            "API:36.0 Deg. \t GOR:203.0 SCF/STB \t Bo:1.3 RB/STB\n"
          ],
          "name": "stdout"
        }
      ]
    },
    {
      "cell_type": "code",
      "metadata": {
        "id": "3CUkmadPbm0Z",
        "colab_type": "code",
        "colab": {}
      },
      "source": [
        ""
      ],
      "execution_count": 0,
      "outputs": []
    }
  ]
}