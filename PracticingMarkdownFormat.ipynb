{
  "nbformat": 4,
  "nbformat_minor": 0,
  "metadata": {
    "colab": {
      "name": "PracticingMarkdownFormat.ipynb",
      "provenance": [],
      "authorship_tag": "ABX9TyOWdXpwHHAfoyvfEWgDcCtW",
      "include_colab_link": true
    },
    "kernelspec": {
      "name": "python3",
      "display_name": "Python 3"
    }
  },
  "cells": [
    {
      "cell_type": "markdown",
      "metadata": {
        "id": "view-in-github",
        "colab_type": "text"
      },
      "source": [
        "<a href=\"https://colab.research.google.com/github/Divyanshu-ISM/Oil-and-Gas-data-analysis/blob/master/PracticingMarkdownFormat.ipynb\" target=\"_parent\"><img src=\"https://colab.research.google.com/assets/colab-badge.svg\" alt=\"Open In Colab\"/></a>"
      ]
    },
    {
      "cell_type": "code",
      "metadata": {
        "id": "veNLrDl5oc0e",
        "colab_type": "code",
        "colab": {}
      },
      "source": [
        "#headings. no of hashes = heading number"
      ],
      "execution_count": null,
      "outputs": []
    },
    {
      "cell_type": "markdown",
      "metadata": {
        "id": "-2p6K5yDoxyq",
        "colab_type": "text"
      },
      "source": [
        "#Heading 1"
      ]
    },
    {
      "cell_type": "code",
      "metadata": {
        "id": "ncV5ZHA8oz5Y",
        "colab_type": "code",
        "colab": {}
      },
      "source": [
        ""
      ],
      "execution_count": null,
      "outputs": []
    },
    {
      "cell_type": "markdown",
      "metadata": {
        "id": "JuaqMgLao1lx",
        "colab_type": "text"
      },
      "source": [
        "##Heading 2"
      ]
    },
    {
      "cell_type": "code",
      "metadata": {
        "id": "_T1EJ1ufo44c",
        "colab_type": "code",
        "colab": {}
      },
      "source": [
        ""
      ],
      "execution_count": null,
      "outputs": []
    },
    {
      "cell_type": "markdown",
      "metadata": {
        "id": "qnf4A6X6o6EV",
        "colab_type": "text"
      },
      "source": [
        "###Heading 3"
      ]
    },
    {
      "cell_type": "code",
      "metadata": {
        "id": "WAQZItmso8Ll",
        "colab_type": "code",
        "colab": {}
      },
      "source": [
        "#bold and italic **BOLD** *ITALIC*"
      ],
      "execution_count": null,
      "outputs": []
    },
    {
      "cell_type": "markdown",
      "metadata": {
        "id": "XznrRQbXpH91",
        "colab_type": "text"
      },
      "source": [
        "**BOLD**\n",
        "*ITALIC*"
      ]
    },
    {
      "cell_type": "code",
      "metadata": {
        "id": "EeBcFpIFpNbQ",
        "colab_type": "code",
        "colab": {}
      },
      "source": [
        "#code format printing - ````python --code-- ````"
      ],
      "execution_count": 2,
      "outputs": []
    },
    {
      "cell_type": "markdown",
      "metadata": {
        "id": "MnHUGTkCpXGv",
        "colab_type": "text"
      },
      "source": [
        "````python\n",
        "\n",
        "def sum(a,b):\n",
        "    ans = a+b\n",
        "    return ans\n",
        "\n",
        "````"
      ]
    },
    {
      "cell_type": "code",
      "metadata": {
        "id": "z-TeOhSRpWY0",
        "colab_type": "code",
        "colab": {}
      },
      "source": [
        "#quote text"
      ],
      "execution_count": 3,
      "outputs": []
    },
    {
      "cell_type": "markdown",
      "metadata": {
        "id": "OmiFQpYdqE6P",
        "colab_type": "text"
      },
      "source": [
        ">QUOTE TEXT"
      ]
    },
    {
      "cell_type": "code",
      "metadata": {
        "id": "AvA8x0E7qD4l",
        "colab_type": "code",
        "colab": {}
      },
      "source": [
        "#fancy stuff"
      ],
      "execution_count": 4,
      "outputs": []
    },
    {
      "cell_type": "markdown",
      "metadata": {
        "id": "Lh3vzXBpqO_6",
        "colab_type": "text"
      },
      "source": [
        "$\\LATEX$"
      ]
    },
    {
      "cell_type": "code",
      "metadata": {
        "id": "k9vTXlmMqOR9",
        "colab_type": "code",
        "colab": {}
      },
      "source": [
        "#equation"
      ],
      "execution_count": 5,
      "outputs": []
    },
    {
      "cell_type": "markdown",
      "metadata": {
        "id": "aYcTAm-jqbRu",
        "colab_type": "text"
      },
      "source": [
        "$$\n",
        "\\frac{\\partial p}{\\partial t} = \\frac 1\\alpha \\frac{\\partial^2 p}{\\partial x^2}\n",
        "$$"
      ]
    },
    {
      "cell_type": "code",
      "metadata": {
        "id": "wmkweT01qZQb",
        "colab_type": "code",
        "colab": {}
      },
      "source": [
        ""
      ],
      "execution_count": null,
      "outputs": []
    }
  ]
}