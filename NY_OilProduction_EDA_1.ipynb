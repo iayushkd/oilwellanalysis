{
  "nbformat": 4,
  "nbformat_minor": 0,
  "metadata": {
    "colab": {
      "name": "NY_OilProduction_EDA_1.ipynb",
      "provenance": [],
      "authorship_tag": "ABX9TyP55K5I9dXaszfFaIKvtI8n",
      "include_colab_link": true
    },
    "kernelspec": {
      "name": "python3",
      "display_name": "Python 3"
    }
  },
  "cells": [
    {
      "cell_type": "markdown",
      "metadata": {
        "id": "view-in-github",
        "colab_type": "text"
      },
      "source": [
        "<a href=\"https://colab.research.google.com/github/Divyanshu-ISM/Oil-and-Gas-data-analysis/blob/master/NY_OilProduction_EDA_1.ipynb\" target=\"_parent\"><img src=\"https://colab.research.google.com/assets/colab-badge.svg\" alt=\"Open In Colab\"/></a>"
      ]
    },
    {
      "cell_type": "code",
      "metadata": {
        "id": "VIbbpopkvrLO",
        "colab_type": "code",
        "colab": {}
      },
      "source": [
        "import numpy as np\n",
        "import pandas as pd\n",
        "import matplotlib.pyplot as plt\n",
        "import seaborn as sns\n",
        "%matplotlib inline"
      ],
      "execution_count": null,
      "outputs": []
    },
    {
      "cell_type": "code",
      "metadata": {
        "id": "7mOUY3V5xhC3",
        "colab_type": "code",
        "colab": {}
      },
      "source": [
        "df = pd.read_csv('NYC_production_data.csv')"
      ],
      "execution_count": null,
      "outputs": []
    },
    {
      "cell_type": "code",
      "metadata": {
        "id": "qVq6LLqVxrZH",
        "colab_type": "code",
        "colab": {
          "base_uri": "https://localhost:8080/",
          "height": 227
        },
        "outputId": "3a74194a-54f2-4ea9-9fa2-41d731343189"
      },
      "source": [
        "df.head(2)"
      ],
      "execution_count": 78,
      "outputs": [
        {
          "output_type": "execute_result",
          "data": {
            "text/html": [
              "<div>\n",
              "<style scoped>\n",
              "    .dataframe tbody tr th:only-of-type {\n",
              "        vertical-align: middle;\n",
              "    }\n",
              "\n",
              "    .dataframe tbody tr th {\n",
              "        vertical-align: top;\n",
              "    }\n",
              "\n",
              "    .dataframe thead th {\n",
              "        text-align: right;\n",
              "    }\n",
              "</style>\n",
              "<table border=\"1\" class=\"dataframe\">\n",
              "  <thead>\n",
              "    <tr style=\"text-align: right;\">\n",
              "      <th></th>\n",
              "      <th>Production Year</th>\n",
              "      <th>Production Date Entered</th>\n",
              "      <th>Operator</th>\n",
              "      <th>County</th>\n",
              "      <th>Town</th>\n",
              "      <th>Field</th>\n",
              "      <th>Producing Formation</th>\n",
              "      <th>Active Oil Wells</th>\n",
              "      <th>Inactive Oil Wells</th>\n",
              "      <th>Active Gas Wells</th>\n",
              "      <th>Inactive Gas Wells</th>\n",
              "      <th>Injection Wells</th>\n",
              "      <th>Disposal Wells</th>\n",
              "      <th>Self-use Well</th>\n",
              "      <th>Oil Produced, bbl</th>\n",
              "      <th>Gas Produced, Mcf</th>\n",
              "      <th>Water produced, bbl</th>\n",
              "      <th>Taxable Gas, Mcf</th>\n",
              "      <th>Purchaser Codes</th>\n",
              "      <th>Location</th>\n",
              "    </tr>\n",
              "  </thead>\n",
              "  <tbody>\n",
              "    <tr>\n",
              "      <th>0</th>\n",
              "      <td>1995</td>\n",
              "      <td>12/03/1996</td>\n",
              "      <td>Buffalo China, Inc.</td>\n",
              "      <td>Erie</td>\n",
              "      <td>BUFFALO</td>\n",
              "      <td>BUFFALO</td>\n",
              "      <td>MEDINA</td>\n",
              "      <td>0</td>\n",
              "      <td>0</td>\n",
              "      <td>1</td>\n",
              "      <td>0</td>\n",
              "      <td>0</td>\n",
              "      <td>0</td>\n",
              "      <td>YES</td>\n",
              "      <td>0</td>\n",
              "      <td>106</td>\n",
              "      <td>0</td>\n",
              "      <td>0</td>\n",
              "      <td>NaN</td>\n",
              "      <td>BUFFALO, NY\\n(42.887691, -78.879374)</td>\n",
              "    </tr>\n",
              "    <tr>\n",
              "      <th>1</th>\n",
              "      <td>1995</td>\n",
              "      <td>03/29/1996</td>\n",
              "      <td>Copper Ridge Oil, Inc.</td>\n",
              "      <td>Steuben</td>\n",
              "      <td>WEST UNION</td>\n",
              "      <td>BEECH HILL-INDEPENDENCE</td>\n",
              "      <td>FULMER VALLEY</td>\n",
              "      <td>28</td>\n",
              "      <td>0</td>\n",
              "      <td>0</td>\n",
              "      <td>0</td>\n",
              "      <td>7</td>\n",
              "      <td>0</td>\n",
              "      <td>NO</td>\n",
              "      <td>1229</td>\n",
              "      <td>0</td>\n",
              "      <td>180</td>\n",
              "      <td>0</td>\n",
              "      <td>OA</td>\n",
              "      <td>WEST UNION, NY\\n(42.094951, -77.725816)</td>\n",
              "    </tr>\n",
              "  </tbody>\n",
              "</table>\n",
              "</div>"
            ],
            "text/plain": [
              "   Production Year  ...                                 Location\n",
              "0             1995  ...     BUFFALO, NY\\n(42.887691, -78.879374)\n",
              "1             1995  ...  WEST UNION, NY\\n(42.094951, -77.725816)\n",
              "\n",
              "[2 rows x 20 columns]"
            ]
          },
          "metadata": {
            "tags": []
          },
          "execution_count": 78
        }
      ]
    },
    {
      "cell_type": "code",
      "metadata": {
        "id": "muIbqeuyxtWg",
        "colab_type": "code",
        "colab": {
          "base_uri": "https://localhost:8080/",
          "height": 134
        },
        "outputId": "8d418150-b8db-424c-926e-f9ff82fd8bcb"
      },
      "source": [
        "df.columns"
      ],
      "execution_count": null,
      "outputs": [
        {
          "output_type": "execute_result",
          "data": {
            "text/plain": [
              "Index(['Production Year', 'Production Date Entered', 'Operator', 'County',\n",
              "       'Town', 'Field', 'Producing Formation', 'Active Oil Wells',\n",
              "       'Inactive Oil Wells', 'Active Gas Wells', 'Inactive Gas Wells',\n",
              "       'Injection Wells', 'Disposal Wells', 'Self-use Well',\n",
              "       'Oil Produced, bbl', 'Gas Produced, Mcf', 'Water produced, bbl',\n",
              "       'Taxable Gas, Mcf', 'Purchaser Codes', 'Location'],\n",
              "      dtype='object')"
            ]
          },
          "metadata": {
            "tags": []
          },
          "execution_count": 5
        }
      ]
    },
    {
      "cell_type": "code",
      "metadata": {
        "id": "GUDfarxdx3mY",
        "colab_type": "code",
        "colab": {}
      },
      "source": [
        "df_fieldwise =df.groupby('Field').sum()[['Active Oil Wells',\n",
        "       'Inactive Oil Wells', 'Active Gas Wells', 'Inactive Gas Wells',\n",
        "       'Injection Wells', 'Disposal Wells',\n",
        "       'Oil Produced, bbl', 'Gas Produced, Mcf', 'Water produced, bbl']]"
      ],
      "execution_count": null,
      "outputs": []
    },
    {
      "cell_type": "code",
      "metadata": {
        "id": "bU1myT6G1z9G",
        "colab_type": "code",
        "colab": {}
      },
      "source": [
        "df_fieldwise = df_fieldwise.reset_index()"
      ],
      "execution_count": null,
      "outputs": []
    },
    {
      "cell_type": "code",
      "metadata": {
        "id": "jsuylI073dsI",
        "colab_type": "code",
        "colab": {
          "base_uri": "https://localhost:8080/",
          "height": 318
        },
        "outputId": "48b70c8d-a4df-4d21-da0c-d29bea82c7c5"
      },
      "source": [
        "df_fieldwise.describe()"
      ],
      "execution_count": null,
      "outputs": [
        {
          "output_type": "execute_result",
          "data": {
            "text/html": [
              "<div>\n",
              "<style scoped>\n",
              "    .dataframe tbody tr th:only-of-type {\n",
              "        vertical-align: middle;\n",
              "    }\n",
              "\n",
              "    .dataframe tbody tr th {\n",
              "        vertical-align: top;\n",
              "    }\n",
              "\n",
              "    .dataframe thead th {\n",
              "        text-align: right;\n",
              "    }\n",
              "</style>\n",
              "<table border=\"1\" class=\"dataframe\">\n",
              "  <thead>\n",
              "    <tr style=\"text-align: right;\">\n",
              "      <th></th>\n",
              "      <th>Active Oil Wells</th>\n",
              "      <th>Inactive Oil Wells</th>\n",
              "      <th>Active Gas Wells</th>\n",
              "      <th>Inactive Gas Wells</th>\n",
              "      <th>Injection Wells</th>\n",
              "      <th>Disposal Wells</th>\n",
              "      <th>Oil Produced, bbl</th>\n",
              "      <th>Gas Produced, Mcf</th>\n",
              "      <th>Water produced, bbl</th>\n",
              "    </tr>\n",
              "  </thead>\n",
              "  <tbody>\n",
              "    <tr>\n",
              "      <th>count</th>\n",
              "      <td>229.000000</td>\n",
              "      <td>229.000000</td>\n",
              "      <td>229.000000</td>\n",
              "      <td>229.000000</td>\n",
              "      <td>229.000000</td>\n",
              "      <td>229.000000</td>\n",
              "      <td>2.290000e+02</td>\n",
              "      <td>2.290000e+02</td>\n",
              "      <td>2.290000e+02</td>\n",
              "    </tr>\n",
              "    <tr>\n",
              "      <th>mean</th>\n",
              "      <td>634.161572</td>\n",
              "      <td>171.323144</td>\n",
              "      <td>479.475983</td>\n",
              "      <td>73.366812</td>\n",
              "      <td>164.676856</td>\n",
              "      <td>2.157205</td>\n",
              "      <td>1.045585e+05</td>\n",
              "      <td>2.321356e+06</td>\n",
              "      <td>7.683766e+05</td>\n",
              "    </tr>\n",
              "    <tr>\n",
              "      <th>std</th>\n",
              "      <td>4062.208758</td>\n",
              "      <td>1261.559589</td>\n",
              "      <td>4142.535459</td>\n",
              "      <td>507.718621</td>\n",
              "      <td>1229.832948</td>\n",
              "      <td>19.989947</td>\n",
              "      <td>6.970628e+05</td>\n",
              "      <td>1.960174e+07</td>\n",
              "      <td>7.553171e+06</td>\n",
              "    </tr>\n",
              "    <tr>\n",
              "      <th>min</th>\n",
              "      <td>0.000000</td>\n",
              "      <td>0.000000</td>\n",
              "      <td>0.000000</td>\n",
              "      <td>0.000000</td>\n",
              "      <td>0.000000</td>\n",
              "      <td>0.000000</td>\n",
              "      <td>0.000000e+00</td>\n",
              "      <td>0.000000e+00</td>\n",
              "      <td>0.000000e+00</td>\n",
              "    </tr>\n",
              "    <tr>\n",
              "      <th>25%</th>\n",
              "      <td>0.000000</td>\n",
              "      <td>0.000000</td>\n",
              "      <td>4.000000</td>\n",
              "      <td>1.000000</td>\n",
              "      <td>0.000000</td>\n",
              "      <td>0.000000</td>\n",
              "      <td>0.000000e+00</td>\n",
              "      <td>8.380000e+02</td>\n",
              "      <td>0.000000e+00</td>\n",
              "    </tr>\n",
              "    <tr>\n",
              "      <th>50%</th>\n",
              "      <td>0.000000</td>\n",
              "      <td>0.000000</td>\n",
              "      <td>16.000000</td>\n",
              "      <td>10.000000</td>\n",
              "      <td>0.000000</td>\n",
              "      <td>0.000000</td>\n",
              "      <td>0.000000e+00</td>\n",
              "      <td>3.208500e+04</td>\n",
              "      <td>0.000000e+00</td>\n",
              "    </tr>\n",
              "    <tr>\n",
              "      <th>75%</th>\n",
              "      <td>0.000000</td>\n",
              "      <td>1.000000</td>\n",
              "      <td>93.000000</td>\n",
              "      <td>43.000000</td>\n",
              "      <td>0.000000</td>\n",
              "      <td>0.000000</td>\n",
              "      <td>0.000000e+00</td>\n",
              "      <td>4.311700e+05</td>\n",
              "      <td>8.540000e+02</td>\n",
              "    </tr>\n",
              "    <tr>\n",
              "      <th>max</th>\n",
              "      <td>39932.000000</td>\n",
              "      <td>16362.000000</td>\n",
              "      <td>62112.000000</td>\n",
              "      <td>7590.000000</td>\n",
              "      <td>11378.000000</td>\n",
              "      <td>226.000000</td>\n",
              "      <td>7.891700e+06</td>\n",
              "      <td>2.942136e+08</td>\n",
              "      <td>9.956594e+07</td>\n",
              "    </tr>\n",
              "  </tbody>\n",
              "</table>\n",
              "</div>"
            ],
            "text/plain": [
              "       Active Oil Wells  ...  Water produced, bbl\n",
              "count        229.000000  ...         2.290000e+02\n",
              "mean         634.161572  ...         7.683766e+05\n",
              "std         4062.208758  ...         7.553171e+06\n",
              "min            0.000000  ...         0.000000e+00\n",
              "25%            0.000000  ...         0.000000e+00\n",
              "50%            0.000000  ...         0.000000e+00\n",
              "75%            0.000000  ...         8.540000e+02\n",
              "max        39932.000000  ...         9.956594e+07\n",
              "\n",
              "[8 rows x 9 columns]"
            ]
          },
          "metadata": {
            "tags": []
          },
          "execution_count": 15
        }
      ]
    },
    {
      "cell_type": "code",
      "metadata": {
        "id": "BtLexexM4XNP",
        "colab_type": "code",
        "colab": {
          "base_uri": "https://localhost:8080/",
          "height": 302
        },
        "outputId": "1636f7ab-304b-486b-a2c3-558e36642287"
      },
      "source": [
        "df_fieldwise.info()"
      ],
      "execution_count": null,
      "outputs": [
        {
          "output_type": "stream",
          "text": [
            "<class 'pandas.core.frame.DataFrame'>\n",
            "RangeIndex: 229 entries, 0 to 228\n",
            "Data columns (total 10 columns):\n",
            " #   Column               Non-Null Count  Dtype \n",
            "---  ------               --------------  ----- \n",
            " 0   Field                229 non-null    object\n",
            " 1   Active Oil Wells     229 non-null    int64 \n",
            " 2   Inactive Oil Wells   229 non-null    int64 \n",
            " 3   Active Gas Wells     229 non-null    int64 \n",
            " 4   Inactive Gas Wells   229 non-null    int64 \n",
            " 5   Injection Wells      229 non-null    int64 \n",
            " 6   Disposal Wells       229 non-null    int64 \n",
            " 7   Oil Produced, bbl    229 non-null    int64 \n",
            " 8   Gas Produced, Mcf    229 non-null    int64 \n",
            " 9   Water produced, bbl  229 non-null    int64 \n",
            "dtypes: int64(9), object(1)\n",
            "memory usage: 18.0+ KB\n"
          ],
          "name": "stdout"
        }
      ]
    },
    {
      "cell_type": "code",
      "metadata": {
        "id": "W0ZZo0tr5SdF",
        "colab_type": "code",
        "colab": {
          "base_uri": "https://localhost:8080/",
          "height": 454
        },
        "outputId": "6c439c52-9260-4347-f767-b3b10446f19d"
      },
      "source": [
        "# df_fieldwise['Active Oil Wells'].sort_values(ascending=False).values # A lot of fields have no oil wells\n",
        "# df_fieldwise['Active Gas Wells'].sort_values(ascending=False).values\n",
        "df_fieldwise['Active Gas Wells'].sort_values(ascending=False).values"
      ],
      "execution_count": null,
      "outputs": [
        {
          "output_type": "execute_result",
          "data": {
            "text/plain": [
              "array([62112,  5902,  4263,  4257,  2926,  1887,  1853,  1775,  1485,\n",
              "        1453,  1444,  1255,  1253,  1127,   833,   829,   820,   806,\n",
              "         728,   703,   622,   608,   475,   398,   387,   380,   359,\n",
              "         345,   312,   296,   288,   278,   276,   275,   262,   246,\n",
              "         229,   223,   219,   199,   198,   166,   164,   158,   156,\n",
              "         155,   152,   150,   145,   141,   126,   116,   114,   106,\n",
              "         105,   103,   101,    93,    92,    90,    89,    88,    87,\n",
              "          85,    79,    75,    75,    74,    68,    62,    60,    58,\n",
              "          54,    51,    48,    48,    47,    46,    46,    46,    41,\n",
              "          40,    39,    39,    38,    38,    37,    35,    35,    34,\n",
              "          33,    32,    32,    31,    29,    29,    28,    27,    25,\n",
              "          23,    22,    22,    22,    21,    21,    20,    19,    19,\n",
              "          19,    18,    18,    18,    17,    16,    16,    15,    15,\n",
              "          15,    15,    15,    15,    14,    14,    14,    12,    12,\n",
              "          11,    11,    11,    11,    10,    10,    10,     9,     9,\n",
              "           9,     9,     9,     9,     9,     9,     9,     8,     8,\n",
              "           8,     8,     8,     7,     7,     6,     6,     6,     6,\n",
              "           6,     6,     6,     6,     5,     5,     5,     5,     5,\n",
              "           5,     5,     5,     5,     5,     5,     5,     4,     4,\n",
              "           4,     4,     4,     4,     4,     3,     3,     3,     2,\n",
              "           2,     2,     2,     2,     2,     2,     2,     2,     1,\n",
              "           1,     1,     1,     1,     1,     1,     1,     1,     1,\n",
              "           1,     1,     1,     1,     0,     0,     0,     0,     0,\n",
              "           0,     0,     0,     0,     0,     0,     0,     0,     0,\n",
              "           0,     0,     0,     0,     0,     0,     0,     0,     0,\n",
              "           0,     0,     0,     0])"
            ]
          },
          "metadata": {
            "tags": []
          },
          "execution_count": 26
        }
      ]
    },
    {
      "cell_type": "code",
      "metadata": {
        "id": "dYp0Hy3c5hcc",
        "colab_type": "code",
        "colab": {
          "base_uri": "https://localhost:8080/",
          "height": 960
        },
        "outputId": "c335fdce-eb05-45af-8067-56999136edf6"
      },
      "source": [
        "df_fieldwise[df_fieldwise['Active Oil Wells']>=35]"
      ],
      "execution_count": null,
      "outputs": [
        {
          "output_type": "execute_result",
          "data": {
            "text/html": [
              "<div>\n",
              "<style scoped>\n",
              "    .dataframe tbody tr th:only-of-type {\n",
              "        vertical-align: middle;\n",
              "    }\n",
              "\n",
              "    .dataframe tbody tr th {\n",
              "        vertical-align: top;\n",
              "    }\n",
              "\n",
              "    .dataframe thead th {\n",
              "        text-align: right;\n",
              "    }\n",
              "</style>\n",
              "<table border=\"1\" class=\"dataframe\">\n",
              "  <thead>\n",
              "    <tr style=\"text-align: right;\">\n",
              "      <th></th>\n",
              "      <th>Field</th>\n",
              "      <th>Active Oil Wells</th>\n",
              "      <th>Inactive Oil Wells</th>\n",
              "      <th>Active Gas Wells</th>\n",
              "      <th>Inactive Gas Wells</th>\n",
              "      <th>Injection Wells</th>\n",
              "      <th>Disposal Wells</th>\n",
              "      <th>Oil Produced, bbl</th>\n",
              "      <th>Gas Produced, Mcf</th>\n",
              "      <th>Water produced, bbl</th>\n",
              "    </tr>\n",
              "  </thead>\n",
              "  <tbody>\n",
              "    <tr>\n",
              "      <th>8</th>\n",
              "      <td>ALMA</td>\n",
              "      <td>3310</td>\n",
              "      <td>545</td>\n",
              "      <td>0</td>\n",
              "      <td>2</td>\n",
              "      <td>1753</td>\n",
              "      <td>15</td>\n",
              "      <td>788873</td>\n",
              "      <td>133</td>\n",
              "      <td>3562159</td>\n",
              "    </tr>\n",
              "    <tr>\n",
              "      <th>9</th>\n",
              "      <td>ANDOVER</td>\n",
              "      <td>603</td>\n",
              "      <td>400</td>\n",
              "      <td>23</td>\n",
              "      <td>3</td>\n",
              "      <td>36</td>\n",
              "      <td>0</td>\n",
              "      <td>31809</td>\n",
              "      <td>50577</td>\n",
              "      <td>30752</td>\n",
              "    </tr>\n",
              "    <tr>\n",
              "      <th>20</th>\n",
              "      <td>BEECH HILL-INDEPENDENCE</td>\n",
              "      <td>9862</td>\n",
              "      <td>595</td>\n",
              "      <td>829</td>\n",
              "      <td>245</td>\n",
              "      <td>1233</td>\n",
              "      <td>3</td>\n",
              "      <td>1184558</td>\n",
              "      <td>2651569</td>\n",
              "      <td>1312916</td>\n",
              "    </tr>\n",
              "    <tr>\n",
              "      <th>30</th>\n",
              "      <td>BRADFORD</td>\n",
              "      <td>39932</td>\n",
              "      <td>8511</td>\n",
              "      <td>345</td>\n",
              "      <td>294</td>\n",
              "      <td>10442</td>\n",
              "      <td>6</td>\n",
              "      <td>7891700</td>\n",
              "      <td>6561339</td>\n",
              "      <td>99565944</td>\n",
              "    </tr>\n",
              "    <tr>\n",
              "      <th>33</th>\n",
              "      <td>BROWNING</td>\n",
              "      <td>633</td>\n",
              "      <td>145</td>\n",
              "      <td>3</td>\n",
              "      <td>0</td>\n",
              "      <td>0</td>\n",
              "      <td>0</td>\n",
              "      <td>2757</td>\n",
              "      <td>303</td>\n",
              "      <td>7200</td>\n",
              "    </tr>\n",
              "    <tr>\n",
              "      <th>38</th>\n",
              "      <td>BUSTI</td>\n",
              "      <td>10097</td>\n",
              "      <td>683</td>\n",
              "      <td>806</td>\n",
              "      <td>151</td>\n",
              "      <td>0</td>\n",
              "      <td>0</td>\n",
              "      <td>1302727</td>\n",
              "      <td>1902421</td>\n",
              "      <td>53128</td>\n",
              "    </tr>\n",
              "    <tr>\n",
              "      <th>47</th>\n",
              "      <td>CERES</td>\n",
              "      <td>80</td>\n",
              "      <td>22</td>\n",
              "      <td>9</td>\n",
              "      <td>18</td>\n",
              "      <td>0</td>\n",
              "      <td>0</td>\n",
              "      <td>5169</td>\n",
              "      <td>5134</td>\n",
              "      <td>16265</td>\n",
              "    </tr>\n",
              "    <tr>\n",
              "      <th>50</th>\n",
              "      <td>CHIPMUNK</td>\n",
              "      <td>23004</td>\n",
              "      <td>4411</td>\n",
              "      <td>164</td>\n",
              "      <td>61</td>\n",
              "      <td>11378</td>\n",
              "      <td>0</td>\n",
              "      <td>6087275</td>\n",
              "      <td>833795</td>\n",
              "      <td>56057400</td>\n",
              "    </tr>\n",
              "    <tr>\n",
              "      <th>53</th>\n",
              "      <td>CLARKSVILLE</td>\n",
              "      <td>297</td>\n",
              "      <td>165</td>\n",
              "      <td>29</td>\n",
              "      <td>19</td>\n",
              "      <td>0</td>\n",
              "      <td>0</td>\n",
              "      <td>35654</td>\n",
              "      <td>455732</td>\n",
              "      <td>127294</td>\n",
              "    </tr>\n",
              "    <tr>\n",
              "      <th>54</th>\n",
              "      <td>CLYMER</td>\n",
              "      <td>66</td>\n",
              "      <td>6</td>\n",
              "      <td>275</td>\n",
              "      <td>166</td>\n",
              "      <td>0</td>\n",
              "      <td>4</td>\n",
              "      <td>213901</td>\n",
              "      <td>3527698</td>\n",
              "      <td>101844</td>\n",
              "    </tr>\n",
              "    <tr>\n",
              "      <th>63</th>\n",
              "      <td>CORBIN HILL</td>\n",
              "      <td>41</td>\n",
              "      <td>55</td>\n",
              "      <td>16</td>\n",
              "      <td>9</td>\n",
              "      <td>0</td>\n",
              "      <td>0</td>\n",
              "      <td>2052</td>\n",
              "      <td>1336</td>\n",
              "      <td>0</td>\n",
              "    </tr>\n",
              "    <tr>\n",
              "      <th>80</th>\n",
              "      <td>ELLERY</td>\n",
              "      <td>212</td>\n",
              "      <td>77</td>\n",
              "      <td>166</td>\n",
              "      <td>81</td>\n",
              "      <td>0</td>\n",
              "      <td>0</td>\n",
              "      <td>401649</td>\n",
              "      <td>1817250</td>\n",
              "      <td>247299</td>\n",
              "    </tr>\n",
              "    <tr>\n",
              "      <th>86</th>\n",
              "      <td>FARMERSVILLE</td>\n",
              "      <td>40</td>\n",
              "      <td>33</td>\n",
              "      <td>15</td>\n",
              "      <td>19</td>\n",
              "      <td>0</td>\n",
              "      <td>0</td>\n",
              "      <td>3971</td>\n",
              "      <td>208</td>\n",
              "      <td>167</td>\n",
              "    </tr>\n",
              "    <tr>\n",
              "      <th>89</th>\n",
              "      <td>FIVE MILE</td>\n",
              "      <td>5678</td>\n",
              "      <td>847</td>\n",
              "      <td>51</td>\n",
              "      <td>65</td>\n",
              "      <td>30</td>\n",
              "      <td>0</td>\n",
              "      <td>882269</td>\n",
              "      <td>370409</td>\n",
              "      <td>113408</td>\n",
              "    </tr>\n",
              "    <tr>\n",
              "      <th>91</th>\n",
              "      <td>FORD'S BROOK</td>\n",
              "      <td>3232</td>\n",
              "      <td>1355</td>\n",
              "      <td>21</td>\n",
              "      <td>6</td>\n",
              "      <td>1095</td>\n",
              "      <td>0</td>\n",
              "      <td>106919</td>\n",
              "      <td>25084</td>\n",
              "      <td>2674298</td>\n",
              "    </tr>\n",
              "    <tr>\n",
              "      <th>92</th>\n",
              "      <td>FOUR MILE</td>\n",
              "      <td>685</td>\n",
              "      <td>247</td>\n",
              "      <td>11</td>\n",
              "      <td>4</td>\n",
              "      <td>0</td>\n",
              "      <td>0</td>\n",
              "      <td>180395</td>\n",
              "      <td>576</td>\n",
              "      <td>16897</td>\n",
              "    </tr>\n",
              "    <tr>\n",
              "      <th>96</th>\n",
              "      <td>FULMER VALLEY</td>\n",
              "      <td>4720</td>\n",
              "      <td>1826</td>\n",
              "      <td>68</td>\n",
              "      <td>49</td>\n",
              "      <td>473</td>\n",
              "      <td>0</td>\n",
              "      <td>148554</td>\n",
              "      <td>113503</td>\n",
              "      <td>10062</td>\n",
              "    </tr>\n",
              "    <tr>\n",
              "      <th>99</th>\n",
              "      <td>GERRY-CHARLOTTE</td>\n",
              "      <td>230</td>\n",
              "      <td>52</td>\n",
              "      <td>229</td>\n",
              "      <td>81</td>\n",
              "      <td>0</td>\n",
              "      <td>0</td>\n",
              "      <td>722775</td>\n",
              "      <td>4738243</td>\n",
              "      <td>143129</td>\n",
              "    </tr>\n",
              "    <tr>\n",
              "      <th>130</th>\n",
              "      <td>LAKESHORE</td>\n",
              "      <td>163</td>\n",
              "      <td>89</td>\n",
              "      <td>62112</td>\n",
              "      <td>7590</td>\n",
              "      <td>4</td>\n",
              "      <td>17</td>\n",
              "      <td>137478</td>\n",
              "      <td>294213573</td>\n",
              "      <td>1531604</td>\n",
              "    </tr>\n",
              "    <tr>\n",
              "      <th>137</th>\n",
              "      <td>MARSH</td>\n",
              "      <td>1233</td>\n",
              "      <td>1286</td>\n",
              "      <td>288</td>\n",
              "      <td>15</td>\n",
              "      <td>181</td>\n",
              "      <td>0</td>\n",
              "      <td>101771</td>\n",
              "      <td>271858</td>\n",
              "      <td>95557</td>\n",
              "    </tr>\n",
              "    <tr>\n",
              "      <th>146</th>\n",
              "      <td>NILE</td>\n",
              "      <td>143</td>\n",
              "      <td>138</td>\n",
              "      <td>2</td>\n",
              "      <td>0</td>\n",
              "      <td>0</td>\n",
              "      <td>0</td>\n",
              "      <td>4017</td>\n",
              "      <td>22</td>\n",
              "      <td>2625</td>\n",
              "    </tr>\n",
              "    <tr>\n",
              "      <th>150</th>\n",
              "      <td>NORTH HARMONY</td>\n",
              "      <td>217</td>\n",
              "      <td>71</td>\n",
              "      <td>296</td>\n",
              "      <td>90</td>\n",
              "      <td>0</td>\n",
              "      <td>0</td>\n",
              "      <td>512399</td>\n",
              "      <td>3146821</td>\n",
              "      <td>164039</td>\n",
              "    </tr>\n",
              "    <tr>\n",
              "      <th>154</th>\n",
              "      <td>OLEAN</td>\n",
              "      <td>394</td>\n",
              "      <td>61</td>\n",
              "      <td>37</td>\n",
              "      <td>9</td>\n",
              "      <td>0</td>\n",
              "      <td>0</td>\n",
              "      <td>29702</td>\n",
              "      <td>77304</td>\n",
              "      <td>0</td>\n",
              "    </tr>\n",
              "    <tr>\n",
              "      <th>169</th>\n",
              "      <td>RICHBURG</td>\n",
              "      <td>38058</td>\n",
              "      <td>16362</td>\n",
              "      <td>1444</td>\n",
              "      <td>543</td>\n",
              "      <td>10292</td>\n",
              "      <td>201</td>\n",
              "      <td>2888186</td>\n",
              "      <td>4143242</td>\n",
              "      <td>7831576</td>\n",
              "    </tr>\n",
              "    <tr>\n",
              "      <th>174</th>\n",
              "      <td>RUSHFORD</td>\n",
              "      <td>36</td>\n",
              "      <td>17</td>\n",
              "      <td>15</td>\n",
              "      <td>36</td>\n",
              "      <td>0</td>\n",
              "      <td>0</td>\n",
              "      <td>6701</td>\n",
              "      <td>26916</td>\n",
              "      <td>705</td>\n",
              "    </tr>\n",
              "    <tr>\n",
              "      <th>178</th>\n",
              "      <td>SCIO</td>\n",
              "      <td>1986</td>\n",
              "      <td>998</td>\n",
              "      <td>46</td>\n",
              "      <td>21</td>\n",
              "      <td>766</td>\n",
              "      <td>1</td>\n",
              "      <td>132646</td>\n",
              "      <td>189821</td>\n",
              "      <td>1104430</td>\n",
              "    </tr>\n",
              "    <tr>\n",
              "      <th>208</th>\n",
              "      <td>UNNAMED</td>\n",
              "      <td>78</td>\n",
              "      <td>14</td>\n",
              "      <td>126</td>\n",
              "      <td>309</td>\n",
              "      <td>2</td>\n",
              "      <td>1</td>\n",
              "      <td>12650</td>\n",
              "      <td>706273</td>\n",
              "      <td>214</td>\n",
              "    </tr>\n",
              "    <tr>\n",
              "      <th>224</th>\n",
              "      <td>WIRT</td>\n",
              "      <td>35</td>\n",
              "      <td>79</td>\n",
              "      <td>0</td>\n",
              "      <td>0</td>\n",
              "      <td>0</td>\n",
              "      <td>0</td>\n",
              "      <td>387</td>\n",
              "      <td>0</td>\n",
              "      <td>0</td>\n",
              "    </tr>\n",
              "  </tbody>\n",
              "</table>\n",
              "</div>"
            ],
            "text/plain": [
              "                       Field  ...  Water produced, bbl\n",
              "8                       ALMA  ...              3562159\n",
              "9                    ANDOVER  ...                30752\n",
              "20   BEECH HILL-INDEPENDENCE  ...              1312916\n",
              "30                  BRADFORD  ...             99565944\n",
              "33                  BROWNING  ...                 7200\n",
              "38                     BUSTI  ...                53128\n",
              "47                     CERES  ...                16265\n",
              "50                  CHIPMUNK  ...             56057400\n",
              "53               CLARKSVILLE  ...               127294\n",
              "54                    CLYMER  ...               101844\n",
              "63               CORBIN HILL  ...                    0\n",
              "80                    ELLERY  ...               247299\n",
              "86              FARMERSVILLE  ...                  167\n",
              "89                 FIVE MILE  ...               113408\n",
              "91              FORD'S BROOK  ...              2674298\n",
              "92                 FOUR MILE  ...                16897\n",
              "96             FULMER VALLEY  ...                10062\n",
              "99           GERRY-CHARLOTTE  ...               143129\n",
              "130                LAKESHORE  ...              1531604\n",
              "137                    MARSH  ...                95557\n",
              "146                     NILE  ...                 2625\n",
              "150            NORTH HARMONY  ...               164039\n",
              "154                    OLEAN  ...                    0\n",
              "169                 RICHBURG  ...              7831576\n",
              "174                 RUSHFORD  ...                  705\n",
              "178                     SCIO  ...              1104430\n",
              "208                  UNNAMED  ...                  214\n",
              "224                     WIRT  ...                    0\n",
              "\n",
              "[28 rows x 10 columns]"
            ]
          },
          "metadata": {
            "tags": []
          },
          "execution_count": 25
        }
      ]
    },
    {
      "cell_type": "code",
      "metadata": {
        "id": "ShUg31ua6vr1",
        "colab_type": "code",
        "colab": {}
      },
      "source": [
        "df_producingFields = df_fieldwise[(df_fieldwise['Active Gas Wells']>0)&(df_fieldwise['Active Oil Wells']>0)]"
      ],
      "execution_count": null,
      "outputs": []
    },
    {
      "cell_type": "code",
      "metadata": {
        "id": "VE0HDlno8EfH",
        "colab_type": "code",
        "colab": {
          "base_uri": "https://localhost:8080/",
          "height": 246
        },
        "outputId": "52967853-df43-4caa-a7ed-50d4ff0a3ccf"
      },
      "source": [
        "df_producingFields.head()"
      ],
      "execution_count": null,
      "outputs": [
        {
          "output_type": "execute_result",
          "data": {
            "text/html": [
              "<div>\n",
              "<style scoped>\n",
              "    .dataframe tbody tr th:only-of-type {\n",
              "        vertical-align: middle;\n",
              "    }\n",
              "\n",
              "    .dataframe tbody tr th {\n",
              "        vertical-align: top;\n",
              "    }\n",
              "\n",
              "    .dataframe thead th {\n",
              "        text-align: right;\n",
              "    }\n",
              "</style>\n",
              "<table border=\"1\" class=\"dataframe\">\n",
              "  <thead>\n",
              "    <tr style=\"text-align: right;\">\n",
              "      <th></th>\n",
              "      <th>Field</th>\n",
              "      <th>Active Oil Wells</th>\n",
              "      <th>Inactive Oil Wells</th>\n",
              "      <th>Active Gas Wells</th>\n",
              "      <th>Inactive Gas Wells</th>\n",
              "      <th>Injection Wells</th>\n",
              "      <th>Disposal Wells</th>\n",
              "      <th>Oil Produced, bbl</th>\n",
              "      <th>Gas Produced, Mcf</th>\n",
              "      <th>Water produced, bbl</th>\n",
              "    </tr>\n",
              "  </thead>\n",
              "  <tbody>\n",
              "    <tr>\n",
              "      <th>9</th>\n",
              "      <td>ANDOVER</td>\n",
              "      <td>603</td>\n",
              "      <td>400</td>\n",
              "      <td>23</td>\n",
              "      <td>3</td>\n",
              "      <td>36</td>\n",
              "      <td>0</td>\n",
              "      <td>31809</td>\n",
              "      <td>50577</td>\n",
              "      <td>30752</td>\n",
              "    </tr>\n",
              "    <tr>\n",
              "      <th>20</th>\n",
              "      <td>BEECH HILL-INDEPENDENCE</td>\n",
              "      <td>9862</td>\n",
              "      <td>595</td>\n",
              "      <td>829</td>\n",
              "      <td>245</td>\n",
              "      <td>1233</td>\n",
              "      <td>3</td>\n",
              "      <td>1184558</td>\n",
              "      <td>2651569</td>\n",
              "      <td>1312916</td>\n",
              "    </tr>\n",
              "    <tr>\n",
              "      <th>28</th>\n",
              "      <td>BIXBY HILL</td>\n",
              "      <td>2</td>\n",
              "      <td>0</td>\n",
              "      <td>1</td>\n",
              "      <td>0</td>\n",
              "      <td>0</td>\n",
              "      <td>0</td>\n",
              "      <td>12073</td>\n",
              "      <td>7361</td>\n",
              "      <td>1</td>\n",
              "    </tr>\n",
              "    <tr>\n",
              "      <th>30</th>\n",
              "      <td>BRADFORD</td>\n",
              "      <td>39932</td>\n",
              "      <td>8511</td>\n",
              "      <td>345</td>\n",
              "      <td>294</td>\n",
              "      <td>10442</td>\n",
              "      <td>6</td>\n",
              "      <td>7891700</td>\n",
              "      <td>6561339</td>\n",
              "      <td>99565944</td>\n",
              "    </tr>\n",
              "    <tr>\n",
              "      <th>32</th>\n",
              "      <td>BRANT-EDEN</td>\n",
              "      <td>11</td>\n",
              "      <td>0</td>\n",
              "      <td>4263</td>\n",
              "      <td>294</td>\n",
              "      <td>0</td>\n",
              "      <td>0</td>\n",
              "      <td>0</td>\n",
              "      <td>10824685</td>\n",
              "      <td>77423</td>\n",
              "    </tr>\n",
              "  </tbody>\n",
              "</table>\n",
              "</div>"
            ],
            "text/plain": [
              "                      Field  ...  Water produced, bbl\n",
              "9                   ANDOVER  ...                30752\n",
              "20  BEECH HILL-INDEPENDENCE  ...              1312916\n",
              "28               BIXBY HILL  ...                    1\n",
              "30                 BRADFORD  ...             99565944\n",
              "32               BRANT-EDEN  ...                77423\n",
              "\n",
              "[5 rows x 10 columns]"
            ]
          },
          "metadata": {
            "tags": []
          },
          "execution_count": 33
        }
      ]
    },
    {
      "cell_type": "code",
      "metadata": {
        "id": "2XTgGnBf8zZP",
        "colab_type": "code",
        "colab": {
          "base_uri": "https://localhost:8080/",
          "height": 84
        },
        "outputId": "ef72955f-55e3-4223-a1eb-ef12dc6f7efc"
      },
      "source": [
        "df_producingFields.columns"
      ],
      "execution_count": null,
      "outputs": [
        {
          "output_type": "execute_result",
          "data": {
            "text/plain": [
              "Index(['Field', 'Active Oil Wells', 'Inactive Oil Wells', 'Active Gas Wells',\n",
              "       'Inactive Gas Wells', 'Injection Wells', 'Disposal Wells',\n",
              "       'Oil Produced, bbl', 'Gas Produced, Mcf', 'Water produced, bbl'],\n",
              "      dtype='object')"
            ]
          },
          "metadata": {
            "tags": []
          },
          "execution_count": 34
        }
      ]
    },
    {
      "cell_type": "code",
      "metadata": {
        "id": "5H-1kO458ZRo",
        "colab_type": "code",
        "colab": {
          "base_uri": "https://localhost:8080/",
          "height": 307
        },
        "outputId": "c2a0b154-e571-4693-a31e-948c2aff454d"
      },
      "source": [
        "sns.scatterplot(y='Oil Produced, bbl',x='Active Oil Wells',data = df_producingFields)\n",
        "# sns.scatterplot(y='Gas Produced, Mcf',x='Active Gas Wells',data = df_producingFields)"
      ],
      "execution_count": null,
      "outputs": [
        {
          "output_type": "execute_result",
          "data": {
            "text/plain": [
              "<matplotlib.axes._subplots.AxesSubplot at 0x7fe6e7492860>"
            ]
          },
          "metadata": {
            "tags": []
          },
          "execution_count": 37
        },
        {
          "output_type": "display_data",
          "data": {
            "image/png": "[encoded data removed]",
            "text/plain": [
              "<Figure size 432x288 with 1 Axes>"
            ]
          },
          "metadata": {
            "tags": [],
            "needs_background": "light"
          }
        }
      ]
    },
    {
      "cell_type": "code",
      "metadata": {
        "id": "ry0OwOYM-4MS",
        "colab_type": "code",
        "colab": {
          "base_uri": "https://localhost:8080/",
          "height": 307
        },
        "outputId": "ecda7b93-0aa6-4d33-a3f5-dd948b20e51f"
      },
      "source": [
        "sns.scatterplot(y='Gas Produced, Mcf',x='Active Gas Wells',data = df_producingFields)"
      ],
      "execution_count": null,
      "outputs": [
        {
          "output_type": "execute_result",
          "data": {
            "text/plain": [
              "<matplotlib.axes._subplots.AxesSubplot at 0x7fe6e74925c0>"
            ]
          },
          "metadata": {
            "tags": []
          },
          "execution_count": 38
        },
        {
          "output_type": "display_data",
          "data": {
            "image/png": "[encoded data removed]",
            "text/plain": [
              "<Figure size 432x288 with 1 Axes>"
            ]
          },
          "metadata": {
            "tags": [],
            "needs_background": "light"
          }
        }
      ]
    },
    {
      "cell_type": "code",
      "metadata": {
        "id": "g84yjC1V_Vum",
        "colab_type": "code",
        "colab": {}
      },
      "source": [
        "#So majority of oil wells are between 0-15000 and gas wells bwetween 0-10000"
      ],
      "execution_count": null,
      "outputs": []
    },
    {
      "cell_type": "code",
      "metadata": {
        "id": "_3fmXn0B_udT",
        "colab_type": "code",
        "colab": {}
      },
      "source": [
        "df_yearwise = df.groupby(by='Production Year').sum()[['Active Oil Wells',\n",
        "       'Inactive Oil Wells', 'Active Gas Wells', 'Inactive Gas Wells',\n",
        "       'Injection Wells', 'Disposal Wells',\n",
        "       'Oil Produced, bbl', 'Gas Produced, Mcf', 'Water produced, bbl']]\n",
        "df_yearwise = df_yearwise.reset_index()"
      ],
      "execution_count": null,
      "outputs": []
    },
    {
      "cell_type": "code",
      "metadata": {
        "id": "ooXkdDEB_9RO",
        "colab_type": "code",
        "colab": {
          "base_uri": "https://localhost:8080/",
          "height": 296
        },
        "outputId": "cffb1a19-1b56-49dd-9854-3ad0df7244f3"
      },
      "source": [
        "plt.figure(figsize=(12,4))\n",
        "sns.lineplot(x='Production Year',y ='Active Oil Wells',data=df_yearwise,label='Active Oil Wells' )\n",
        "sns.lineplot(x='Production Year',y ='Active Gas Wells',data=df_yearwise,label='Active Gas Wells')\n",
        "sns.lineplot(x='Production Year',y ='Inactive Oil Wells',data=df_yearwise,label='InActive Oil Wells' )\n",
        "plt.grid()\n",
        "plt.ylabel('#Wells')\n",
        "plt.legend(loc='best')\n",
        "\n",
        "#Conclusion - A visibly evident drop in number of oil wells after 1980\n",
        "#Conclusion - A visibly evident rise in number of oil wells after 1980"
      ],
      "execution_count": null,
      "outputs": [
        {
          "output_type": "execute_result",
          "data": {
            "text/plain": [
              "<matplotlib.legend.Legend at 0x7fe6e70092b0>"
            ]
          },
          "metadata": {
            "tags": []
          },
          "execution_count": 54
        },
        {
          "output_type": "display_data",
          "data": {
            "image/png": "[encoded data removed]",
            "text/plain": [
              "<Figure size 864x288 with 1 Axes>"
            ]
          },
          "metadata": {
            "tags": [],
            "needs_background": "light"
          }
        }
      ]
    },
    {
      "cell_type": "code",
      "metadata": {
        "id": "3r5i72n1BRGQ",
        "colab_type": "code",
        "colab": {}
      },
      "source": [
        "df_yearwise['Liquid produced, bbl'] = df_yearwise['Oil Produced, bbl'] + df_yearwise['Water produced, bbl']"
      ],
      "execution_count": null,
      "outputs": []
    },
    {
      "cell_type": "code",
      "metadata": {
        "id": "984-lXr1E6Ax",
        "colab_type": "code",
        "colab": {
          "base_uri": "https://localhost:8080/",
          "height": 433
        },
        "outputId": "b0e7fe0e-e264-4e7a-8514-2a9d8fc349e4"
      },
      "source": [
        "plt.figure(figsize=(12,6))\n",
        "# plt.grid()\n",
        "plt.style.use('seaborn-dark-palette')\n",
        "sns.lineplot(data=df_yearwise,x='Production Year',y='Liquid produced, bbl',label = 'Liq. Production(barrels)')\n",
        "sns.lineplot(data=df_yearwise,x='Production Year',y='Oil Produced, bbl',label = 'Oil Production(barrels)')\n",
        "sns.lineplot(data=df_yearwise,x='Production Year',y='Gas Produced, Mcf',label = 'Gas. Production(Mcf)')\n",
        "\n",
        "plt.ylabel('Volume of Fluids (oil,water,liq) Produced')\n",
        "plt.title('Around 1980 - Gas-Prod. shoots up & Liq. Prod declines. ')\n",
        "\n",
        "plt.grid()"
      ],
      "execution_count": 76,
      "outputs": [
        {
          "output_type": "display_data",
          "data": {
            "image/png": "[encoded data removed]",
            "text/plain": [
              "<Figure size 864x432 with 1 Axes>"
            ]
          },
          "metadata": {
            "tags": []
          }
        }
      ]
    },
    {
      "cell_type": "code",
      "metadata": {
        "id": "wgDSEgZdFKVT",
        "colab_type": "code",
        "colab": {}
      },
      "source": [
        "# plt.style.available"
      ],
      "execution_count": 77,
      "outputs": []
    },
    {
      "cell_type": "code",
      "metadata": {
        "id": "wCtWANdeIrDt",
        "colab_type": "code",
        "colab": {}
      },
      "source": [
        "#Now let's analyse it date-wise. \n",
        "df['Date'] = pd.to_datetime(df['Production Date Entered'])"
      ],
      "execution_count": 82,
      "outputs": []
    },
    {
      "cell_type": "code",
      "metadata": {
        "id": "mkf4LIpSJyf6",
        "colab_type": "code",
        "colab": {}
      },
      "source": [
        " df = df.sort_values(by='Date')"
      ],
      "execution_count": 90,
      "outputs": []
    },
    {
      "cell_type": "code",
      "metadata": {
        "id": "SM9uwzzgNP2T",
        "colab_type": "code",
        "colab": {
          "base_uri": "https://localhost:8080/",
          "height": 307
        },
        "outputId": "03335f88-e27d-42f4-fc09-98cdf71cd031"
      },
      "source": [
        "df.head(3)"
      ],
      "execution_count": 91,
      "outputs": [
        {
          "output_type": "execute_result",
          "data": {
            "text/html": [
              "<div>\n",
              "<style scoped>\n",
              "    .dataframe tbody tr th:only-of-type {\n",
              "        vertical-align: middle;\n",
              "    }\n",
              "\n",
              "    .dataframe tbody tr th {\n",
              "        vertical-align: top;\n",
              "    }\n",
              "\n",
              "    .dataframe thead th {\n",
              "        text-align: right;\n",
              "    }\n",
              "</style>\n",
              "<table border=\"1\" class=\"dataframe\">\n",
              "  <thead>\n",
              "    <tr style=\"text-align: right;\">\n",
              "      <th></th>\n",
              "      <th>Production Year</th>\n",
              "      <th>Production Date Entered</th>\n",
              "      <th>Operator</th>\n",
              "      <th>County</th>\n",
              "      <th>Town</th>\n",
              "      <th>Field</th>\n",
              "      <th>Producing Formation</th>\n",
              "      <th>Active Oil Wells</th>\n",
              "      <th>Inactive Oil Wells</th>\n",
              "      <th>Active Gas Wells</th>\n",
              "      <th>Inactive Gas Wells</th>\n",
              "      <th>Injection Wells</th>\n",
              "      <th>Disposal Wells</th>\n",
              "      <th>Self-use Well</th>\n",
              "      <th>Oil Produced, bbl</th>\n",
              "      <th>Gas Produced, Mcf</th>\n",
              "      <th>Water produced, bbl</th>\n",
              "      <th>Taxable Gas, Mcf</th>\n",
              "      <th>Purchaser Codes</th>\n",
              "      <th>Location</th>\n",
              "      <th>Date</th>\n",
              "      <th>Liquid produced, bbl</th>\n",
              "    </tr>\n",
              "  </thead>\n",
              "  <tbody>\n",
              "    <tr>\n",
              "      <th>14097</th>\n",
              "      <td>1983</td>\n",
              "      <td>01/31/1984</td>\n",
              "      <td>Baker &amp; Odonnell Dev. Co.</td>\n",
              "      <td>Allegany</td>\n",
              "      <td>ALMA</td>\n",
              "      <td>RICHBURG</td>\n",
              "      <td>RICHBURG</td>\n",
              "      <td>15</td>\n",
              "      <td>15</td>\n",
              "      <td>0</td>\n",
              "      <td>0</td>\n",
              "      <td>20</td>\n",
              "      <td>0</td>\n",
              "      <td>NO</td>\n",
              "      <td>208</td>\n",
              "      <td>0</td>\n",
              "      <td>925</td>\n",
              "      <td>0</td>\n",
              "      <td>NaN</td>\n",
              "      <td>ALMA, NY\\n(42.012207, -78.060759)</td>\n",
              "      <td>1984-01-31</td>\n",
              "      <td>1133</td>\n",
              "    </tr>\n",
              "    <tr>\n",
              "      <th>15341</th>\n",
              "      <td>1983</td>\n",
              "      <td>01/31/1984</td>\n",
              "      <td>CNG Transmission Corp.</td>\n",
              "      <td>Allegany</td>\n",
              "      <td>ALMA</td>\n",
              "      <td>STATE LINE</td>\n",
              "      <td>ORISKANY</td>\n",
              "      <td>0</td>\n",
              "      <td>0</td>\n",
              "      <td>0</td>\n",
              "      <td>1</td>\n",
              "      <td>0</td>\n",
              "      <td>0</td>\n",
              "      <td>INACTIVE</td>\n",
              "      <td>0</td>\n",
              "      <td>0</td>\n",
              "      <td>0</td>\n",
              "      <td>0</td>\n",
              "      <td>NaN</td>\n",
              "      <td>ALMA, NY\\n(42.012207, -78.060759)</td>\n",
              "      <td>1984-01-31</td>\n",
              "      <td>0</td>\n",
              "    </tr>\n",
              "    <tr>\n",
              "      <th>15625</th>\n",
              "      <td>1983</td>\n",
              "      <td>01/31/1984</td>\n",
              "      <td>Patrick Petroleum Corp. of Michigan</td>\n",
              "      <td>Allegany</td>\n",
              "      <td>SCIO</td>\n",
              "      <td>GORDON BROOK</td>\n",
              "      <td>ORISKANY</td>\n",
              "      <td>0</td>\n",
              "      <td>0</td>\n",
              "      <td>1</td>\n",
              "      <td>0</td>\n",
              "      <td>0</td>\n",
              "      <td>0</td>\n",
              "      <td>NO</td>\n",
              "      <td>0</td>\n",
              "      <td>18048</td>\n",
              "      <td>2000</td>\n",
              "      <td>0</td>\n",
              "      <td>NaN</td>\n",
              "      <td>SCIO, NY\\n(42.171429, -77.97865)</td>\n",
              "      <td>1984-01-31</td>\n",
              "      <td>2000</td>\n",
              "    </tr>\n",
              "  </tbody>\n",
              "</table>\n",
              "</div>"
            ],
            "text/plain": [
              "       Production Year Production Date Entered  ...       Date Liquid produced, bbl\n",
              "14097             1983              01/31/1984  ... 1984-01-31                 1133\n",
              "15341             1983              01/31/1984  ... 1984-01-31                    0\n",
              "15625             1983              01/31/1984  ... 1984-01-31                 2000\n",
              "\n",
              "[3 rows x 22 columns]"
            ]
          },
          "metadata": {
            "tags": []
          },
          "execution_count": 91
        }
      ]
    },
    {
      "cell_type": "code",
      "metadata": {
        "id": "swBOXUs5KrCj",
        "colab_type": "code",
        "colab": {}
      },
      "source": [
        "df['Liquid produced, bbl'] = df['Oil Produced, bbl'] + df['Water produced, bbl']"
      ],
      "execution_count": 92,
      "outputs": []
    },
    {
      "cell_type": "code",
      "metadata": {
        "id": "QIVN9CoFM7xd",
        "colab_type": "code",
        "colab": {
          "base_uri": "https://localhost:8080/",
          "height": 151
        },
        "outputId": "c1ab7e8e-6d04-406a-df53-20a62ea447be"
      },
      "source": [
        "df.columns"
      ],
      "execution_count": 93,
      "outputs": [
        {
          "output_type": "execute_result",
          "data": {
            "text/plain": [
              "Index(['Production Year', 'Production Date Entered', 'Operator', 'County',\n",
              "       'Town', 'Field', 'Producing Formation', 'Active Oil Wells',\n",
              "       'Inactive Oil Wells', 'Active Gas Wells', 'Inactive Gas Wells',\n",
              "       'Injection Wells', 'Disposal Wells', 'Self-use Well',\n",
              "       'Oil Produced, bbl', 'Gas Produced, Mcf', 'Water produced, bbl',\n",
              "       'Taxable Gas, Mcf', 'Purchaser Codes', 'Location', 'Date',\n",
              "       'Liquid produced, bbl'],\n",
              "      dtype='object')"
            ]
          },
          "metadata": {
            "tags": []
          },
          "execution_count": 93
        }
      ]
    },
    {
      "cell_type": "code",
      "metadata": {
        "id": "OXHyMF_MMloC",
        "colab_type": "code",
        "colab": {}
      },
      "source": [
        "df_datewise = df.groupby(by='Date').sum()[['Active Oil Wells',\n",
        "       'Inactive Oil Wells', 'Active Gas Wells', 'Inactive Gas Wells',\n",
        "       'Injection Wells', 'Disposal Wells',\n",
        "       'Oil Produced, bbl', 'Gas Produced, Mcf', 'Water produced, bbl']]\n"
      ],
      "execution_count": 94,
      "outputs": []
    },
    {
      "cell_type": "code",
      "metadata": {
        "id": "HkrJfJ-mNlsr",
        "colab_type": "code",
        "colab": {}
      },
      "source": [
        "df_datewise.head(4)\n",
        "df_datewise.reset_index(inplace=True)"
      ],
      "execution_count": 97,
      "outputs": []
    },
    {
      "cell_type": "code",
      "metadata": {
        "id": "LxEYz_nMN-Fd",
        "colab_type": "code",
        "colab": {}
      },
      "source": [
        "df_datewise['Liquid produced, bbl'] = df_datewise['Oil Produced, bbl'] + df_datewise['Water produced, bbl']"
      ],
      "execution_count": 99,
      "outputs": []
    },
    {
      "cell_type": "code",
      "metadata": {
        "id": "RQ8K51qdL14P",
        "colab_type": "code",
        "colab": {
          "base_uri": "https://localhost:8080/",
          "height": 429
        },
        "outputId": "c7678c3e-03f8-4bec-b042-756015582685"
      },
      "source": [
        "plt.figure(figsize=(12,6))\n",
        "# plt.grid()\n",
        "\n",
        "sns.lineplot(data=df_datewise,x='Date',y='Liquid produced, bbl',label = 'Liq. Production(barrels)')\n",
        "sns.lineplot(data=df_datewise,x='Date',y='Oil Produced, bbl',label = 'Oil Production(barrels)')\n",
        "sns.lineplot(data=df_datewise,x='Date',y='Gas Produced, Mcf',label = 'Gas. Production(Mcf)')\n",
        "\n",
        "plt.ylabel('Volume of Fluids (oil,water,liq) Produced')\n",
        "# plt.title('Around 1980 - Gas-Prod. shoots up & Liq. Prod declines. ')\n",
        "\n",
        "plt.grid()"
      ],
      "execution_count": 107,
      "outputs": [
        {
          "output_type": "display_data",
          "data": {
            "image/png": "[encoded data removed]",
            "text/plain": [
              "<Figure size 864x432 with 1 Axes>"
            ]
          },
          "metadata": {
            "tags": []
          }
        }
      ]
    },
    {
      "cell_type": "code",
      "metadata": {
        "id": "A3ng30BkMFyl",
        "colab_type": "code",
        "colab": {}
      },
      "source": [
        "#You can see an observable Production peak somewhere from 1992-1996\n",
        "#However don't get confused with the peaks. Don't compare the magnitudes \n",
        "# since liquids are in barrels and gas is in Mcf"
      ],
      "execution_count": 108,
      "outputs": []
    },
    {
      "cell_type": "code",
      "metadata": {
        "id": "r8-PLdLUPpEz",
        "colab_type": "code",
        "colab": {}
      },
      "source": [
        "# sns.(data=df_datewise,x='Date',y='Liquid produced, bbl',label = 'Liq. Production(barrels)')"
      ],
      "execution_count": 110,
      "outputs": []
    },
    {
      "cell_type": "code",
      "metadata": {
        "id": "aHnO9m73P91S",
        "colab_type": "code",
        "colab": {}
      },
      "source": [
        "#### End of Part 1 ####"
      ],
      "execution_count": 109,
      "outputs": []
    },
    {
      "cell_type": "code",
      "metadata": {
        "id": "sPw55uQXRJzT",
        "colab_type": "code",
        "colab": {}
      },
      "source": [
        ""
      ],
      "execution_count": null,
      "outputs": []
    }
  ]
}