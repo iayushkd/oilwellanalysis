{
  "nbformat": 4,
  "nbformat_minor": 0,
  "metadata": {
    "colab": {
      "name": "All_Regimes_WTA.ipynb",
      "provenance": [],
      "collapsed_sections": [],
      "authorship_tag": "ABX9TyP7MLDpRAVzXB0fBm/ImFTa",
      "include_colab_link": true
    },
    "kernelspec": {
      "name": "python3",
      "display_name": "Python 3"
    }
  },
  "cells": [
    {
      "cell_type": "markdown",
      "metadata": {
        "id": "view-in-github",
        "colab_type": "text"
      },
      "source": [
        "<a href=\"https://colab.research.google.com/github/Divyanshu-ISM/Oil-and-Gas-data-analysis/blob/master/All_Regimes_WTA.ipynb\" target=\"_parent\"><img src=\"https://colab.research.google.com/assets/colab-badge.svg\" alt=\"Open In Colab\"/></a>"
      ]
    },
    {
      "cell_type": "code",
      "metadata": {
        "id": "klU7nxj5vyuQ",
        "colab_type": "code",
        "colab": {}
      },
      "source": [
        "import numpy as np\n",
        "import pandas as pd\n",
        "import matplotlib.pyplot as plt\n",
        "import seaborn as sns"
      ],
      "execution_count": 6,
      "outputs": []
    },
    {
      "cell_type": "code",
      "metadata": {
        "id": "NqgZs1R9wBI2",
        "colab_type": "code",
        "colab": {}
      },
      "source": [
        "df = pd.read_csv('all.txt',sep='\\t')"
      ],
      "execution_count": 13,
      "outputs": []
    },
    {
      "cell_type": "code",
      "metadata": {
        "id": "DoRnjYOEwkMp",
        "colab_type": "code",
        "colab": {
          "base_uri": "https://localhost:8080/",
          "height": 204
        },
        "outputId": "0fd00b0f-3063-418b-f7d5-a4ca2d0f8124"
      },
      "source": [
        "df['dP'] = np.zeros(len(df))\n",
        "\n",
        "df['dP'][0] = 5000 - df['p'][0]\n",
        "\n",
        "df['dP'][1:] = abs(np.diff(df['p']))\n",
        "\n",
        "df.head()"
      ],
      "execution_count": 22,
      "outputs": [
        {
          "output_type": "execute_result",
          "data": {
            "text/html": [
              "<div>\n",
              "<style scoped>\n",
              "    .dataframe tbody tr th:only-of-type {\n",
              "        vertical-align: middle;\n",
              "    }\n",
              "\n",
              "    .dataframe tbody tr th {\n",
              "        vertical-align: top;\n",
              "    }\n",
              "\n",
              "    .dataframe thead th {\n",
              "        text-align: right;\n",
              "    }\n",
              "</style>\n",
              "<table border=\"1\" class=\"dataframe\">\n",
              "  <thead>\n",
              "    <tr style=\"text-align: right;\">\n",
              "      <th></th>\n",
              "      <th>t</th>\n",
              "      <th>p</th>\n",
              "      <th>dP</th>\n",
              "    </tr>\n",
              "  </thead>\n",
              "  <tbody>\n",
              "    <tr>\n",
              "      <th>0</th>\n",
              "      <td>0.000100</td>\n",
              "      <td>4992.57</td>\n",
              "      <td>7.43</td>\n",
              "    </tr>\n",
              "    <tr>\n",
              "      <th>1</th>\n",
              "      <td>0.000212</td>\n",
              "      <td>4983.91</td>\n",
              "      <td>8.66</td>\n",
              "    </tr>\n",
              "    <tr>\n",
              "      <th>2</th>\n",
              "      <td>0.000339</td>\n",
              "      <td>4974.73</td>\n",
              "      <td>9.18</td>\n",
              "    </tr>\n",
              "    <tr>\n",
              "      <th>3</th>\n",
              "      <td>0.000481</td>\n",
              "      <td>4964.73</td>\n",
              "      <td>10.00</td>\n",
              "    </tr>\n",
              "    <tr>\n",
              "      <th>4</th>\n",
              "      <td>0.000642</td>\n",
              "      <td>4953.53</td>\n",
              "      <td>11.20</td>\n",
              "    </tr>\n",
              "  </tbody>\n",
              "</table>\n",
              "</div>"
            ],
            "text/plain": [
              "          t        p     dP\n",
              "0  0.000100  4992.57   7.43\n",
              "1  0.000212  4983.91   8.66\n",
              "2  0.000339  4974.73   9.18\n",
              "3  0.000481  4964.73  10.00\n",
              "4  0.000642  4953.53  11.20"
            ]
          },
          "metadata": {
            "tags": []
          },
          "execution_count": 22
        }
      ]
    },
    {
      "cell_type": "code",
      "metadata": {
        "id": "VWEAIeExzyBt",
        "colab_type": "code",
        "colab": {
          "base_uri": "https://localhost:8080/",
          "height": 204
        },
        "outputId": "648c4774-6c7b-4203-99e7-a7f3b0f27c70"
      },
      "source": [
        "df['dt'] = np.zeros(len(df))\n",
        "\n",
        "df['dt'][0] = df['t'][0]\n",
        "\n",
        "df['dt'][1:] = abs(np.diff(df['t']))\n",
        "\n",
        "df.head()"
      ],
      "execution_count": 23,
      "outputs": [
        {
          "output_type": "execute_result",
          "data": {
            "text/html": [
              "<div>\n",
              "<style scoped>\n",
              "    .dataframe tbody tr th:only-of-type {\n",
              "        vertical-align: middle;\n",
              "    }\n",
              "\n",
              "    .dataframe tbody tr th {\n",
              "        vertical-align: top;\n",
              "    }\n",
              "\n",
              "    .dataframe thead th {\n",
              "        text-align: right;\n",
              "    }\n",
              "</style>\n",
              "<table border=\"1\" class=\"dataframe\">\n",
              "  <thead>\n",
              "    <tr style=\"text-align: right;\">\n",
              "      <th></th>\n",
              "      <th>t</th>\n",
              "      <th>p</th>\n",
              "      <th>dP</th>\n",
              "      <th>dt</th>\n",
              "    </tr>\n",
              "  </thead>\n",
              "  <tbody>\n",
              "    <tr>\n",
              "      <th>0</th>\n",
              "      <td>0.000100</td>\n",
              "      <td>4992.57</td>\n",
              "      <td>7.43</td>\n",
              "      <td>0.000100</td>\n",
              "    </tr>\n",
              "    <tr>\n",
              "      <th>1</th>\n",
              "      <td>0.000212</td>\n",
              "      <td>4983.91</td>\n",
              "      <td>8.66</td>\n",
              "      <td>0.000112</td>\n",
              "    </tr>\n",
              "    <tr>\n",
              "      <th>2</th>\n",
              "      <td>0.000339</td>\n",
              "      <td>4974.73</td>\n",
              "      <td>9.18</td>\n",
              "      <td>0.000127</td>\n",
              "    </tr>\n",
              "    <tr>\n",
              "      <th>3</th>\n",
              "      <td>0.000481</td>\n",
              "      <td>4964.73</td>\n",
              "      <td>10.00</td>\n",
              "      <td>0.000142</td>\n",
              "    </tr>\n",
              "    <tr>\n",
              "      <th>4</th>\n",
              "      <td>0.000642</td>\n",
              "      <td>4953.53</td>\n",
              "      <td>11.20</td>\n",
              "      <td>0.000160</td>\n",
              "    </tr>\n",
              "  </tbody>\n",
              "</table>\n",
              "</div>"
            ],
            "text/plain": [
              "          t        p     dP        dt\n",
              "0  0.000100  4992.57   7.43  0.000100\n",
              "1  0.000212  4983.91   8.66  0.000112\n",
              "2  0.000339  4974.73   9.18  0.000127\n",
              "3  0.000481  4964.73  10.00  0.000142\n",
              "4  0.000642  4953.53  11.20  0.000160"
            ]
          },
          "metadata": {
            "tags": []
          },
          "execution_count": 23
        }
      ]
    },
    {
      "cell_type": "code",
      "metadata": {
        "id": "LgsiCYTJ1s-4",
        "colab_type": "code",
        "colab": {
          "base_uri": "https://localhost:8080/",
          "height": 204
        },
        "outputId": "428f0781-86e0-4319-c3bf-155817ab9f43"
      },
      "source": [
        "df['tdP/dt'] = df['t']*df['dP']/df['dt']\n",
        "\n",
        "df.head()"
      ],
      "execution_count": 24,
      "outputs": [
        {
          "output_type": "execute_result",
          "data": {
            "text/html": [
              "<div>\n",
              "<style scoped>\n",
              "    .dataframe tbody tr th:only-of-type {\n",
              "        vertical-align: middle;\n",
              "    }\n",
              "\n",
              "    .dataframe tbody tr th {\n",
              "        vertical-align: top;\n",
              "    }\n",
              "\n",
              "    .dataframe thead th {\n",
              "        text-align: right;\n",
              "    }\n",
              "</style>\n",
              "<table border=\"1\" class=\"dataframe\">\n",
              "  <thead>\n",
              "    <tr style=\"text-align: right;\">\n",
              "      <th></th>\n",
              "      <th>t</th>\n",
              "      <th>p</th>\n",
              "      <th>dP</th>\n",
              "      <th>dt</th>\n",
              "      <th>tdP/dt</th>\n",
              "    </tr>\n",
              "  </thead>\n",
              "  <tbody>\n",
              "    <tr>\n",
              "      <th>0</th>\n",
              "      <td>0.000100</td>\n",
              "      <td>4992.57</td>\n",
              "      <td>7.43</td>\n",
              "      <td>0.000100</td>\n",
              "      <td>7.430000</td>\n",
              "    </tr>\n",
              "    <tr>\n",
              "      <th>1</th>\n",
              "      <td>0.000212</td>\n",
              "      <td>4983.91</td>\n",
              "      <td>8.66</td>\n",
              "      <td>0.000112</td>\n",
              "      <td>16.357778</td>\n",
              "    </tr>\n",
              "    <tr>\n",
              "      <th>2</th>\n",
              "      <td>0.000339</td>\n",
              "      <td>4974.73</td>\n",
              "      <td>9.18</td>\n",
              "      <td>0.000127</td>\n",
              "      <td>24.593272</td>\n",
              "    </tr>\n",
              "    <tr>\n",
              "      <th>3</th>\n",
              "      <td>0.000481</td>\n",
              "      <td>4964.73</td>\n",
              "      <td>10.00</td>\n",
              "      <td>0.000142</td>\n",
              "      <td>33.813614</td>\n",
              "    </tr>\n",
              "    <tr>\n",
              "      <th>4</th>\n",
              "      <td>0.000642</td>\n",
              "      <td>4953.53</td>\n",
              "      <td>11.20</td>\n",
              "      <td>0.000160</td>\n",
              "      <td>44.863069</td>\n",
              "    </tr>\n",
              "  </tbody>\n",
              "</table>\n",
              "</div>"
            ],
            "text/plain": [
              "          t        p     dP        dt     tdP/dt\n",
              "0  0.000100  4992.57   7.43  0.000100   7.430000\n",
              "1  0.000212  4983.91   8.66  0.000112  16.357778\n",
              "2  0.000339  4974.73   9.18  0.000127  24.593272\n",
              "3  0.000481  4964.73  10.00  0.000142  33.813614\n",
              "4  0.000642  4953.53  11.20  0.000160  44.863069"
            ]
          },
          "metadata": {
            "tags": []
          },
          "execution_count": 24
        }
      ]
    },
    {
      "cell_type": "code",
      "metadata": {
        "id": "mTtXA0Sc137C",
        "colab_type": "code",
        "colab": {
          "base_uri": "https://localhost:8080/",
          "height": 204
        },
        "outputId": "9b64a5a3-919a-46b1-a684-b87bf701618c"
      },
      "source": [
        "df['t_1/2'] = np.sqrt(df['t'])\n",
        "\n",
        "df['t_1/4'] = np.sqrt(df['t_1/2'])\n",
        "\n",
        "df['t_(-1/2)'] = (df['t'])**(-0.5)\n",
        "\n",
        "df.head()"
      ],
      "execution_count": 25,
      "outputs": [
        {
          "output_type": "execute_result",
          "data": {
            "text/html": [
              "<div>\n",
              "<style scoped>\n",
              "    .dataframe tbody tr th:only-of-type {\n",
              "        vertical-align: middle;\n",
              "    }\n",
              "\n",
              "    .dataframe tbody tr th {\n",
              "        vertical-align: top;\n",
              "    }\n",
              "\n",
              "    .dataframe thead th {\n",
              "        text-align: right;\n",
              "    }\n",
              "</style>\n",
              "<table border=\"1\" class=\"dataframe\">\n",
              "  <thead>\n",
              "    <tr style=\"text-align: right;\">\n",
              "      <th></th>\n",
              "      <th>t</th>\n",
              "      <th>p</th>\n",
              "      <th>dP</th>\n",
              "      <th>dt</th>\n",
              "      <th>tdP/dt</th>\n",
              "      <th>t_1/2</th>\n",
              "      <th>t_1/4</th>\n",
              "      <th>t_(-1/2)</th>\n",
              "    </tr>\n",
              "  </thead>\n",
              "  <tbody>\n",
              "    <tr>\n",
              "      <th>0</th>\n",
              "      <td>0.000100</td>\n",
              "      <td>4992.57</td>\n",
              "      <td>7.43</td>\n",
              "      <td>0.000100</td>\n",
              "      <td>7.430000</td>\n",
              "      <td>0.010000</td>\n",
              "      <td>0.100000</td>\n",
              "      <td>100.000000</td>\n",
              "    </tr>\n",
              "    <tr>\n",
              "      <th>1</th>\n",
              "      <td>0.000212</td>\n",
              "      <td>4983.91</td>\n",
              "      <td>8.66</td>\n",
              "      <td>0.000112</td>\n",
              "      <td>16.357778</td>\n",
              "      <td>0.014577</td>\n",
              "      <td>0.120737</td>\n",
              "      <td>68.599434</td>\n",
              "    </tr>\n",
              "    <tr>\n",
              "      <th>2</th>\n",
              "      <td>0.000339</td>\n",
              "      <td>4974.73</td>\n",
              "      <td>9.18</td>\n",
              "      <td>0.000127</td>\n",
              "      <td>24.593272</td>\n",
              "      <td>0.018414</td>\n",
              "      <td>0.135697</td>\n",
              "      <td>54.307499</td>\n",
              "    </tr>\n",
              "    <tr>\n",
              "      <th>3</th>\n",
              "      <td>0.000481</td>\n",
              "      <td>4964.73</td>\n",
              "      <td>10.00</td>\n",
              "      <td>0.000142</td>\n",
              "      <td>33.813614</td>\n",
              "      <td>0.021942</td>\n",
              "      <td>0.148128</td>\n",
              "      <td>45.574998</td>\n",
              "    </tr>\n",
              "    <tr>\n",
              "      <th>4</th>\n",
              "      <td>0.000642</td>\n",
              "      <td>4953.53</td>\n",
              "      <td>11.20</td>\n",
              "      <td>0.000160</td>\n",
              "      <td>44.863069</td>\n",
              "      <td>0.025330</td>\n",
              "      <td>0.159155</td>\n",
              "      <td>39.478353</td>\n",
              "    </tr>\n",
              "  </tbody>\n",
              "</table>\n",
              "</div>"
            ],
            "text/plain": [
              "          t        p     dP  ...     t_1/2     t_1/4    t_(-1/2)\n",
              "0  0.000100  4992.57   7.43  ...  0.010000  0.100000  100.000000\n",
              "1  0.000212  4983.91   8.66  ...  0.014577  0.120737   68.599434\n",
              "2  0.000339  4974.73   9.18  ...  0.018414  0.135697   54.307499\n",
              "3  0.000481  4964.73  10.00  ...  0.021942  0.148128   45.574998\n",
              "4  0.000642  4953.53  11.20  ...  0.025330  0.159155   39.478353\n",
              "\n",
              "[5 rows x 8 columns]"
            ]
          },
          "metadata": {
            "tags": []
          },
          "execution_count": 25
        }
      ]
    },
    {
      "cell_type": "code",
      "metadata": {
        "id": "quNyMveU2gYB",
        "colab_type": "code",
        "colab": {
          "base_uri": "https://localhost:8080/",
          "height": 204
        },
        "outputId": "e81b1633-95c2-4eb1-e3e2-4f6557fbc340"
      },
      "source": [
        "df['d(t_1/2)'] = df['t_1/2']\n",
        "\n",
        "df['d(t_1/2)'][1:] = abs(np.diff(df['d(t_1/2)']))\n",
        "\n",
        "df['dP/dt_1/2'] = df['dP']/df['d(t_1/2)']\n",
        "\n",
        "df.head()"
      ],
      "execution_count": 28,
      "outputs": [
        {
          "output_type": "execute_result",
          "data": {
            "text/html": [
              "<div>\n",
              "<style scoped>\n",
              "    .dataframe tbody tr th:only-of-type {\n",
              "        vertical-align: middle;\n",
              "    }\n",
              "\n",
              "    .dataframe tbody tr th {\n",
              "        vertical-align: top;\n",
              "    }\n",
              "\n",
              "    .dataframe thead th {\n",
              "        text-align: right;\n",
              "    }\n",
              "</style>\n",
              "<table border=\"1\" class=\"dataframe\">\n",
              "  <thead>\n",
              "    <tr style=\"text-align: right;\">\n",
              "      <th></th>\n",
              "      <th>t</th>\n",
              "      <th>p</th>\n",
              "      <th>dP</th>\n",
              "      <th>dt</th>\n",
              "      <th>tdP/dt</th>\n",
              "      <th>t_1/2</th>\n",
              "      <th>t_1/4</th>\n",
              "      <th>t_(-1/2)</th>\n",
              "      <th>d(t_1/2)</th>\n",
              "      <th>dP/dt_1/2</th>\n",
              "    </tr>\n",
              "  </thead>\n",
              "  <tbody>\n",
              "    <tr>\n",
              "      <th>0</th>\n",
              "      <td>0.000100</td>\n",
              "      <td>4992.57</td>\n",
              "      <td>7.43</td>\n",
              "      <td>0.000100</td>\n",
              "      <td>7.430000</td>\n",
              "      <td>0.010000</td>\n",
              "      <td>0.100000</td>\n",
              "      <td>100.000000</td>\n",
              "      <td>0.010000</td>\n",
              "      <td>743.000000</td>\n",
              "    </tr>\n",
              "    <tr>\n",
              "      <th>1</th>\n",
              "      <td>0.000212</td>\n",
              "      <td>4983.91</td>\n",
              "      <td>8.66</td>\n",
              "      <td>0.000112</td>\n",
              "      <td>16.357778</td>\n",
              "      <td>0.014577</td>\n",
              "      <td>0.120737</td>\n",
              "      <td>68.599434</td>\n",
              "      <td>0.004577</td>\n",
              "      <td>1891.912076</td>\n",
              "    </tr>\n",
              "    <tr>\n",
              "      <th>2</th>\n",
              "      <td>0.000339</td>\n",
              "      <td>4974.73</td>\n",
              "      <td>9.18</td>\n",
              "      <td>0.000127</td>\n",
              "      <td>24.593272</td>\n",
              "      <td>0.018414</td>\n",
              "      <td>0.135697</td>\n",
              "      <td>54.307499</td>\n",
              "      <td>0.003836</td>\n",
              "      <td>2392.940876</td>\n",
              "    </tr>\n",
              "    <tr>\n",
              "      <th>3</th>\n",
              "      <td>0.000481</td>\n",
              "      <td>4964.73</td>\n",
              "      <td>10.00</td>\n",
              "      <td>0.000142</td>\n",
              "      <td>33.813614</td>\n",
              "      <td>0.021942</td>\n",
              "      <td>0.148128</td>\n",
              "      <td>45.574998</td>\n",
              "      <td>0.003528</td>\n",
              "      <td>2834.313213</td>\n",
              "    </tr>\n",
              "    <tr>\n",
              "      <th>4</th>\n",
              "      <td>0.000642</td>\n",
              "      <td>4953.53</td>\n",
              "      <td>11.20</td>\n",
              "      <td>0.000160</td>\n",
              "      <td>44.863069</td>\n",
              "      <td>0.025330</td>\n",
              "      <td>0.159155</td>\n",
              "      <td>39.478353</td>\n",
              "      <td>0.003388</td>\n",
              "      <td>3305.314340</td>\n",
              "    </tr>\n",
              "  </tbody>\n",
              "</table>\n",
              "</div>"
            ],
            "text/plain": [
              "          t        p     dP  ...    t_(-1/2)  d(t_1/2)    dP/dt_1/2\n",
              "0  0.000100  4992.57   7.43  ...  100.000000  0.010000   743.000000\n",
              "1  0.000212  4983.91   8.66  ...   68.599434  0.004577  1891.912076\n",
              "2  0.000339  4974.73   9.18  ...   54.307499  0.003836  2392.940876\n",
              "3  0.000481  4964.73  10.00  ...   45.574998  0.003528  2834.313213\n",
              "4  0.000642  4953.53  11.20  ...   39.478353  0.003388  3305.314340\n",
              "\n",
              "[5 rows x 10 columns]"
            ]
          },
          "metadata": {
            "tags": []
          },
          "execution_count": 28
        }
      ]
    },
    {
      "cell_type": "code",
      "metadata": {
        "id": "L5-lMU5C3a5E",
        "colab_type": "code",
        "colab": {
          "base_uri": "https://localhost:8080/",
          "height": 204
        },
        "outputId": "ac449392-c615-4ed2-fb18-21152efbb420"
      },
      "source": [
        "df['d(t_1/4)'] = df['t_1/4']\n",
        "\n",
        "df['d(t_1/4)'][1:] = abs(np.diff(df['d(t_1/4)']))\n",
        "\n",
        "df['dP/dt_1/4'] = df['dP']/df['d(t_1/4)']\n",
        "\n",
        "df.head()"
      ],
      "execution_count": 29,
      "outputs": [
        {
          "output_type": "execute_result",
          "data": {
            "text/html": [
              "<div>\n",
              "<style scoped>\n",
              "    .dataframe tbody tr th:only-of-type {\n",
              "        vertical-align: middle;\n",
              "    }\n",
              "\n",
              "    .dataframe tbody tr th {\n",
              "        vertical-align: top;\n",
              "    }\n",
              "\n",
              "    .dataframe thead th {\n",
              "        text-align: right;\n",
              "    }\n",
              "</style>\n",
              "<table border=\"1\" class=\"dataframe\">\n",
              "  <thead>\n",
              "    <tr style=\"text-align: right;\">\n",
              "      <th></th>\n",
              "      <th>t</th>\n",
              "      <th>p</th>\n",
              "      <th>dP</th>\n",
              "      <th>dt</th>\n",
              "      <th>tdP/dt</th>\n",
              "      <th>t_1/2</th>\n",
              "      <th>t_1/4</th>\n",
              "      <th>t_(-1/2)</th>\n",
              "      <th>d(t_1/2)</th>\n",
              "      <th>dP/dt_1/2</th>\n",
              "      <th>d(t_1/4)</th>\n",
              "      <th>dP/dt_1/4</th>\n",
              "    </tr>\n",
              "  </thead>\n",
              "  <tbody>\n",
              "    <tr>\n",
              "      <th>0</th>\n",
              "      <td>0.000100</td>\n",
              "      <td>4992.57</td>\n",
              "      <td>7.43</td>\n",
              "      <td>0.000100</td>\n",
              "      <td>7.430000</td>\n",
              "      <td>0.010000</td>\n",
              "      <td>0.100000</td>\n",
              "      <td>100.000000</td>\n",
              "      <td>0.010000</td>\n",
              "      <td>743.000000</td>\n",
              "      <td>0.100000</td>\n",
              "      <td>74.300000</td>\n",
              "    </tr>\n",
              "    <tr>\n",
              "      <th>1</th>\n",
              "      <td>0.000212</td>\n",
              "      <td>4983.91</td>\n",
              "      <td>8.66</td>\n",
              "      <td>0.000112</td>\n",
              "      <td>16.357778</td>\n",
              "      <td>0.014577</td>\n",
              "      <td>0.120737</td>\n",
              "      <td>68.599434</td>\n",
              "      <td>0.004577</td>\n",
              "      <td>1891.912076</td>\n",
              "      <td>0.020737</td>\n",
              "      <td>417.614656</td>\n",
              "    </tr>\n",
              "    <tr>\n",
              "      <th>2</th>\n",
              "      <td>0.000339</td>\n",
              "      <td>4974.73</td>\n",
              "      <td>9.18</td>\n",
              "      <td>0.000127</td>\n",
              "      <td>24.593272</td>\n",
              "      <td>0.018414</td>\n",
              "      <td>0.135697</td>\n",
              "      <td>54.307499</td>\n",
              "      <td>0.003836</td>\n",
              "      <td>2392.940876</td>\n",
              "      <td>0.014960</td>\n",
              "      <td>613.630861</td>\n",
              "    </tr>\n",
              "    <tr>\n",
              "      <th>3</th>\n",
              "      <td>0.000481</td>\n",
              "      <td>4964.73</td>\n",
              "      <td>10.00</td>\n",
              "      <td>0.000142</td>\n",
              "      <td>33.813614</td>\n",
              "      <td>0.021942</td>\n",
              "      <td>0.148128</td>\n",
              "      <td>45.574998</td>\n",
              "      <td>0.003528</td>\n",
              "      <td>2834.313213</td>\n",
              "      <td>0.012431</td>\n",
              "      <td>804.448345</td>\n",
              "    </tr>\n",
              "    <tr>\n",
              "      <th>4</th>\n",
              "      <td>0.000642</td>\n",
              "      <td>4953.53</td>\n",
              "      <td>11.20</td>\n",
              "      <td>0.000160</td>\n",
              "      <td>44.863069</td>\n",
              "      <td>0.025330</td>\n",
              "      <td>0.159155</td>\n",
              "      <td>39.478353</td>\n",
              "      <td>0.003388</td>\n",
              "      <td>3305.314340</td>\n",
              "      <td>0.011027</td>\n",
              "      <td>1015.666599</td>\n",
              "    </tr>\n",
              "  </tbody>\n",
              "</table>\n",
              "</div>"
            ],
            "text/plain": [
              "          t        p     dP  ...    dP/dt_1/2  d(t_1/4)    dP/dt_1/4\n",
              "0  0.000100  4992.57   7.43  ...   743.000000  0.100000    74.300000\n",
              "1  0.000212  4983.91   8.66  ...  1891.912076  0.020737   417.614656\n",
              "2  0.000339  4974.73   9.18  ...  2392.940876  0.014960   613.630861\n",
              "3  0.000481  4964.73  10.00  ...  2834.313213  0.012431   804.448345\n",
              "4  0.000642  4953.53  11.20  ...  3305.314340  0.011027  1015.666599\n",
              "\n",
              "[5 rows x 12 columns]"
            ]
          },
          "metadata": {
            "tags": []
          },
          "execution_count": 29
        }
      ]
    },
    {
      "cell_type": "code",
      "metadata": {
        "id": "d-JfEfKv3zXO",
        "colab_type": "code",
        "colab": {
          "base_uri": "https://localhost:8080/",
          "height": 204
        },
        "outputId": "5be1431f-dabf-469d-9220-2bc6be5e39ff"
      },
      "source": [
        "df['d(t_-0.5)'] = df['t_(-1/2)']\n",
        "\n",
        "df['d(t_-0.5)'][1:] = abs(np.diff(df['d(t_-0.5)']))\n",
        "\n",
        "df['dP/dt_(-1/2)'] = df['dP']/df['d(t_-0.5)']\n",
        "\n",
        "df.head()"
      ],
      "execution_count": 30,
      "outputs": [
        {
          "output_type": "execute_result",
          "data": {
            "text/html": [
              "<div>\n",
              "<style scoped>\n",
              "    .dataframe tbody tr th:only-of-type {\n",
              "        vertical-align: middle;\n",
              "    }\n",
              "\n",
              "    .dataframe tbody tr th {\n",
              "        vertical-align: top;\n",
              "    }\n",
              "\n",
              "    .dataframe thead th {\n",
              "        text-align: right;\n",
              "    }\n",
              "</style>\n",
              "<table border=\"1\" class=\"dataframe\">\n",
              "  <thead>\n",
              "    <tr style=\"text-align: right;\">\n",
              "      <th></th>\n",
              "      <th>t</th>\n",
              "      <th>p</th>\n",
              "      <th>dP</th>\n",
              "      <th>dt</th>\n",
              "      <th>tdP/dt</th>\n",
              "      <th>t_1/2</th>\n",
              "      <th>t_1/4</th>\n",
              "      <th>t_(-1/2)</th>\n",
              "      <th>d(t_1/2)</th>\n",
              "      <th>dP/dt_1/2</th>\n",
              "      <th>d(t_1/4)</th>\n",
              "      <th>dP/dt_1/4</th>\n",
              "      <th>d(t_-0.5)</th>\n",
              "      <th>dP/dt_(-1/2)</th>\n",
              "    </tr>\n",
              "  </thead>\n",
              "  <tbody>\n",
              "    <tr>\n",
              "      <th>0</th>\n",
              "      <td>0.000100</td>\n",
              "      <td>4992.57</td>\n",
              "      <td>7.43</td>\n",
              "      <td>0.000100</td>\n",
              "      <td>7.430000</td>\n",
              "      <td>0.010000</td>\n",
              "      <td>0.100000</td>\n",
              "      <td>100.000000</td>\n",
              "      <td>0.010000</td>\n",
              "      <td>743.000000</td>\n",
              "      <td>0.100000</td>\n",
              "      <td>74.300000</td>\n",
              "      <td>100.000000</td>\n",
              "      <td>0.074300</td>\n",
              "    </tr>\n",
              "    <tr>\n",
              "      <th>1</th>\n",
              "      <td>0.000212</td>\n",
              "      <td>4983.91</td>\n",
              "      <td>8.66</td>\n",
              "      <td>0.000112</td>\n",
              "      <td>16.357778</td>\n",
              "      <td>0.014577</td>\n",
              "      <td>0.120737</td>\n",
              "      <td>68.599434</td>\n",
              "      <td>0.004577</td>\n",
              "      <td>1891.912076</td>\n",
              "      <td>0.020737</td>\n",
              "      <td>417.614656</td>\n",
              "      <td>31.400566</td>\n",
              "      <td>0.275791</td>\n",
              "    </tr>\n",
              "    <tr>\n",
              "      <th>2</th>\n",
              "      <td>0.000339</td>\n",
              "      <td>4974.73</td>\n",
              "      <td>9.18</td>\n",
              "      <td>0.000127</td>\n",
              "      <td>24.593272</td>\n",
              "      <td>0.018414</td>\n",
              "      <td>0.135697</td>\n",
              "      <td>54.307499</td>\n",
              "      <td>0.003836</td>\n",
              "      <td>2392.940876</td>\n",
              "      <td>0.014960</td>\n",
              "      <td>613.630861</td>\n",
              "      <td>14.291935</td>\n",
              "      <td>0.642320</td>\n",
              "    </tr>\n",
              "    <tr>\n",
              "      <th>3</th>\n",
              "      <td>0.000481</td>\n",
              "      <td>4964.73</td>\n",
              "      <td>10.00</td>\n",
              "      <td>0.000142</td>\n",
              "      <td>33.813614</td>\n",
              "      <td>0.021942</td>\n",
              "      <td>0.148128</td>\n",
              "      <td>45.574998</td>\n",
              "      <td>0.003528</td>\n",
              "      <td>2834.313213</td>\n",
              "      <td>0.012431</td>\n",
              "      <td>804.448345</td>\n",
              "      <td>8.732500</td>\n",
              "      <td>1.145147</td>\n",
              "    </tr>\n",
              "    <tr>\n",
              "      <th>4</th>\n",
              "      <td>0.000642</td>\n",
              "      <td>4953.53</td>\n",
              "      <td>11.20</td>\n",
              "      <td>0.000160</td>\n",
              "      <td>44.863069</td>\n",
              "      <td>0.025330</td>\n",
              "      <td>0.159155</td>\n",
              "      <td>39.478353</td>\n",
              "      <td>0.003388</td>\n",
              "      <td>3305.314340</td>\n",
              "      <td>0.011027</td>\n",
              "      <td>1015.666599</td>\n",
              "      <td>6.096645</td>\n",
              "      <td>1.837076</td>\n",
              "    </tr>\n",
              "  </tbody>\n",
              "</table>\n",
              "</div>"
            ],
            "text/plain": [
              "          t        p     dP  ...    dP/dt_1/4   d(t_-0.5)  dP/dt_(-1/2)\n",
              "0  0.000100  4992.57   7.43  ...    74.300000  100.000000      0.074300\n",
              "1  0.000212  4983.91   8.66  ...   417.614656   31.400566      0.275791\n",
              "2  0.000339  4974.73   9.18  ...   613.630861   14.291935      0.642320\n",
              "3  0.000481  4964.73  10.00  ...   804.448345    8.732500      1.145147\n",
              "4  0.000642  4953.53  11.20  ...  1015.666599    6.096645      1.837076\n",
              "\n",
              "[5 rows x 14 columns]"
            ]
          },
          "metadata": {
            "tags": []
          },
          "execution_count": 30
        }
      ]
    },
    {
      "cell_type": "code",
      "metadata": {
        "id": "-dI0o9OJ5klg",
        "colab_type": "code",
        "colab": {
          "base_uri": "https://localhost:8080/",
          "height": 51
        },
        "outputId": "5ef1a541-fb12-4541-d801-03943bffcc86"
      },
      "source": [
        "plt.figure(figsize=(12,4))"
      ],
      "execution_count": 42,
      "outputs": [
        {
          "output_type": "execute_result",
          "data": {
            "text/plain": [
              "<Figure size 864x288 with 0 Axes>"
            ]
          },
          "metadata": {
            "tags": []
          },
          "execution_count": 42
        },
        {
          "output_type": "display_data",
          "data": {
            "text/plain": [
              "<Figure size 864x288 with 0 Axes>"
            ]
          },
          "metadata": {
            "tags": []
          }
        }
      ]
    },
    {
      "cell_type": "code",
      "metadata": {
        "id": "BQxIZIR64P4P",
        "colab_type": "code",
        "colab": {
          "base_uri": "https://localhost:8080/",
          "height": 569
        },
        "outputId": "13b59b0d-7730-46fe-afca-317d18e32c10"
      },
      "source": [
        "plt.figure(figsize=(12,6))\n",
        "plt.style.use('default')\n",
        "\n",
        "\n",
        "plt.loglog(df['t'],df['tdP/dt'],label='Radial Flow(Derivative)',marker='d')\n",
        "\n",
        "plt.loglog(df['t'],df['dP/dt_1/2'],label='t1/2',marker='.',alpha=0.3)\n",
        "\n",
        "plt.loglog(df['t'],df['dP/dt_1/4'],label='1/4',marker='*',alpha=0.3)\n",
        "\n",
        "plt.loglog(df['t'],df['dP/dt_(-1/2)'],label='t_(-0.5)',marker='x')\n",
        "\n",
        "plt.loglog(df['t'],abs(5000-df['p']),label='Pressure',linewidth='3',marker='v',color='black')\n",
        "\n",
        "plt.axvline(x=0.001,label='End of WBS',color='m',linewidth=3)\n",
        "\n",
        "# plt.axvline(x=0.3)\n",
        "# plt.axvline(x=2)\n",
        "plt.axvspan(0.3,2.0,alpha=0.5,label='Spherical Flow',color='y')\n",
        "plt.axvspan(0.0001,0.001,alpha=0.5,label='WBS(Unit Slope)')\n",
        "plt.axvspan(10,70,alpha=0.5,label='IARF(Radial Flow)',color='orange')\n",
        "\n",
        "plt.xlabel('Time(log Axis)')\n",
        "plt.ylabel('Pressure Related Stuff(log axis)')\n",
        "\n",
        "plt.title('Well Test Analysis - Diagnostic Plot')\n",
        "plt.legend(loc='best')\n",
        "\n",
        "plt.grid()\n",
        "\n"
      ],
      "execution_count": 78,
      "outputs": [
        {
          "output_type": "display_data",
          "data": {
            "image/png": "[encoded data removed]",
            "text/plain": [
              "<Figure size 1200x600 with 1 Axes>"
            ]
          },
          "metadata": {
            "tags": []
          }
        }
      ]
    },
    {
      "cell_type": "code",
      "metadata": {
        "id": "8m85Wg6j4n9X",
        "colab_type": "code",
        "colab": {}
      },
      "source": [
        ""
      ],
      "execution_count": null,
      "outputs": []
    }
  ]
}