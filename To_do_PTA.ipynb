{
  "nbformat": 4,
  "nbformat_minor": 0,
  "metadata": {
    "colab": {
      "name": "To_do_PTA.ipynb",
      "provenance": [],
      "authorship_tag": "ABX9TyNQxUT7Wfde220sXYiT8lV2",
      "include_colab_link": true
    },
    "kernelspec": {
      "name": "python3",
      "display_name": "Python 3"
    },
    "widgets": {
      "application/vnd.jupyter.widget-state+json": {
        "93ba6f48e4484334b4cab053ceca9e6a": {
          "model_module": "@jupyter-widgets/controls",
          "model_name": "VBoxModel",
          "state": {
            "_view_name": "VBoxView",
            "_dom_classes": [
              "widget-interact"
            ],
            "_model_name": "VBoxModel",
            "_view_module": "@jupyter-widgets/controls",
            "_model_module_version": "1.5.0",
            "_view_count": null,
            "_view_module_version": "1.5.0",
            "box_style": "",
            "layout": "IPY_MODEL_213ef2c7887d4df79b0191af81fc0c99",
            "_model_module": "@jupyter-widgets/controls",
            "children": [
              "IPY_MODEL_9661af6cd94745a28515d24ac024b004",
              "IPY_MODEL_70417e3435de4abfa72ac3f9864fab16",
              "IPY_MODEL_b871050baa594651bbd5185587cc59da",
              "IPY_MODEL_5b2a4fb939b54b2c95687dbfc2c12cb0"
            ]
          }
        },
        "213ef2c7887d4df79b0191af81fc0c99": {
          "model_module": "@jupyter-widgets/base",
          "model_name": "LayoutModel",
          "state": {
            "_view_name": "LayoutView",
            "grid_template_rows": null,
            "right": null,
            "justify_content": null,
            "_view_module": "@jupyter-widgets/base",
            "overflow": null,
            "_model_module_version": "1.2.0",
            "_view_count": null,
            "flex_flow": null,
            "width": null,
            "min_width": null,
            "border": null,
            "align_items": null,
            "bottom": null,
            "_model_module": "@jupyter-widgets/base",
            "top": null,
            "grid_column": null,
            "overflow_y": null,
            "overflow_x": null,
            "grid_auto_flow": null,
            "grid_area": null,
            "grid_template_columns": null,
            "flex": null,
            "_model_name": "LayoutModel",
            "justify_items": null,
            "grid_row": null,
            "max_height": null,
            "align_content": null,
            "visibility": null,
            "align_self": null,
            "height": null,
            "min_height": null,
            "padding": null,
            "grid_auto_rows": null,
            "grid_gap": null,
            "max_width": null,
            "order": null,
            "_view_module_version": "1.2.0",
            "grid_template_areas": null,
            "object_position": null,
            "object_fit": null,
            "grid_auto_columns": null,
            "margin": null,
            "display": null,
            "left": null
          }
        },
        "9661af6cd94745a28515d24ac024b004": {
          "model_module": "@jupyter-widgets/controls",
          "model_name": "IntSliderModel",
          "state": {
            "_view_name": "IntSliderView",
            "style": "IPY_MODEL_689f7e9470d741f3987ce035a9e00d8f",
            "_dom_classes": [],
            "description": "t",
            "step": 1,
            "_model_name": "IntSliderModel",
            "orientation": "horizontal",
            "max": 1000,
            "_view_module": "@jupyter-widgets/controls",
            "_model_module_version": "1.5.0",
            "value": 373,
            "_view_count": null,
            "disabled": false,
            "_view_module_version": "1.5.0",
            "min": 1,
            "continuous_update": true,
            "readout_format": "d",
            "description_tooltip": null,
            "readout": true,
            "_model_module": "@jupyter-widgets/controls",
            "layout": "IPY_MODEL_27c870bacc0d476ca52afd3e50c30a9b"
          }
        },
        "70417e3435de4abfa72ac3f9864fab16": {
          "model_module": "@jupyter-widgets/controls",
          "model_name": "IntSliderModel",
          "state": {
            "_view_name": "IntSliderView",
            "style": "IPY_MODEL_4efa31c4c2ae4960bb17bf47343de7da",
            "_dom_classes": [],
            "description": "k",
            "step": 1,
            "_model_name": "IntSliderModel",
            "orientation": "horizontal",
            "max": 500,
            "_view_module": "@jupyter-widgets/controls",
            "_model_module_version": "1.5.0",
            "value": 300,
            "_view_count": null,
            "disabled": false,
            "_view_module_version": "1.5.0",
            "min": 100,
            "continuous_update": true,
            "readout_format": "d",
            "description_tooltip": null,
            "readout": true,
            "_model_module": "@jupyter-widgets/controls",
            "layout": "IPY_MODEL_3ce97130ed9440e6b168d2d1791ee8ad"
          }
        },
        "b871050baa594651bbd5185587cc59da": {
          "model_module": "@jupyter-widgets/controls",
          "model_name": "IntSliderModel",
          "state": {
            "_view_name": "IntSliderView",
            "style": "IPY_MODEL_97740731fb2b4182a7c0722d6a803074",
            "_dom_classes": [],
            "description": "mu",
            "step": 1,
            "_model_name": "IntSliderModel",
            "orientation": "horizontal",
            "max": 100,
            "_view_module": "@jupyter-widgets/controls",
            "_model_module_version": "1.5.0",
            "value": 50,
            "_view_count": null,
            "disabled": false,
            "_view_module_version": "1.5.0",
            "min": 1,
            "continuous_update": true,
            "readout_format": "d",
            "description_tooltip": null,
            "readout": true,
            "_model_module": "@jupyter-widgets/controls",
            "layout": "IPY_MODEL_8419a58982994132b054eec16c6729cd"
          }
        },
        "5b2a4fb939b54b2c95687dbfc2c12cb0": {
          "model_module": "@jupyter-widgets/output",
          "model_name": "OutputModel",
          "state": {
            "_view_name": "OutputView",
            "msg_id": "",
            "_dom_classes": [],
            "_model_name": "OutputModel",
            "outputs": [
              {
                "output_type": "stream",
                "metadata": {
                  "tags": []
                },
                "text": "/usr/local/lib/python3.6/dist-packages/ipykernel_launcher.py:42: UserWarning: Attempted to set non-positive left xlim on a log-scaled axis.\nInvalid limit will be ignored.\n",
                "stream": "stderr"
              },
              {
                "output_type": "display_data",
                "metadata": {
                  "tags": [],
                  "needs_background": "light"
                },
                "image/png": "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\n",
                "text/plain": "<Figure size 432x288 with 1 Axes>"
              }
            ],
            "_view_module": "@jupyter-widgets/output",
            "_model_module_version": "1.0.0",
            "_view_count": null,
            "_view_module_version": "1.0.0",
            "layout": "IPY_MODEL_53ae80b8073f4f96add76f2781a4b9dc",
            "_model_module": "@jupyter-widgets/output"
          }
        },
        "689f7e9470d741f3987ce035a9e00d8f": {
          "model_module": "@jupyter-widgets/controls",
          "model_name": "SliderStyleModel",
          "state": {
            "_view_name": "StyleView",
            "handle_color": null,
            "_model_name": "SliderStyleModel",
            "description_width": "",
            "_view_module": "@jupyter-widgets/base",
            "_model_module_version": "1.5.0",
            "_view_count": null,
            "_view_module_version": "1.2.0",
            "_model_module": "@jupyter-widgets/controls"
          }
        },
        "27c870bacc0d476ca52afd3e50c30a9b": {
          "model_module": "@jupyter-widgets/base",
          "model_name": "LayoutModel",
          "state": {
            "_view_name": "LayoutView",
            "grid_template_rows": null,
            "right": null,
            "justify_content": null,
            "_view_module": "@jupyter-widgets/base",
            "overflow": null,
            "_model_module_version": "1.2.0",
            "_view_count": null,
            "flex_flow": null,
            "width": null,
            "min_width": null,
            "border": null,
            "align_items": null,
            "bottom": null,
            "_model_module": "@jupyter-widgets/base",
            "top": null,
            "grid_column": null,
            "overflow_y": null,
            "overflow_x": null,
            "grid_auto_flow": null,
            "grid_area": null,
            "grid_template_columns": null,
            "flex": null,
            "_model_name": "LayoutModel",
            "justify_items": null,
            "grid_row": null,
            "max_height": null,
            "align_content": null,
            "visibility": null,
            "align_self": null,
            "height": null,
            "min_height": null,
            "padding": null,
            "grid_auto_rows": null,
            "grid_gap": null,
            "max_width": null,
            "order": null,
            "_view_module_version": "1.2.0",
            "grid_template_areas": null,
            "object_position": null,
            "object_fit": null,
            "grid_auto_columns": null,
            "margin": null,
            "display": null,
            "left": null
          }
        },
        "4efa31c4c2ae4960bb17bf47343de7da": {
          "model_module": "@jupyter-widgets/controls",
          "model_name": "SliderStyleModel",
          "state": {
            "_view_name": "StyleView",
            "handle_color": null,
            "_model_name": "SliderStyleModel",
            "description_width": "",
            "_view_module": "@jupyter-widgets/base",
            "_model_module_version": "1.5.0",
            "_view_count": null,
            "_view_module_version": "1.2.0",
            "_model_module": "@jupyter-widgets/controls"
          }
        },
        "3ce97130ed9440e6b168d2d1791ee8ad": {
          "model_module": "@jupyter-widgets/base",
          "model_name": "LayoutModel",
          "state": {
            "_view_name": "LayoutView",
            "grid_template_rows": null,
            "right": null,
            "justify_content": null,
            "_view_module": "@jupyter-widgets/base",
            "overflow": null,
            "_model_module_version": "1.2.0",
            "_view_count": null,
            "flex_flow": null,
            "width": null,
            "min_width": null,
            "border": null,
            "align_items": null,
            "bottom": null,
            "_model_module": "@jupyter-widgets/base",
            "top": null,
            "grid_column": null,
            "overflow_y": null,
            "overflow_x": null,
            "grid_auto_flow": null,
            "grid_area": null,
            "grid_template_columns": null,
            "flex": null,
            "_model_name": "LayoutModel",
            "justify_items": null,
            "grid_row": null,
            "max_height": null,
            "align_content": null,
            "visibility": null,
            "align_self": null,
            "height": null,
            "min_height": null,
            "padding": null,
            "grid_auto_rows": null,
            "grid_gap": null,
            "max_width": null,
            "order": null,
            "_view_module_version": "1.2.0",
            "grid_template_areas": null,
            "object_position": null,
            "object_fit": null,
            "grid_auto_columns": null,
            "margin": null,
            "display": null,
            "left": null
          }
        },
        "97740731fb2b4182a7c0722d6a803074": {
          "model_module": "@jupyter-widgets/controls",
          "model_name": "SliderStyleModel",
          "state": {
            "_view_name": "StyleView",
            "handle_color": null,
            "_model_name": "SliderStyleModel",
            "description_width": "",
            "_view_module": "@jupyter-widgets/base",
            "_model_module_version": "1.5.0",
            "_view_count": null,
            "_view_module_version": "1.2.0",
            "_model_module": "@jupyter-widgets/controls"
          }
        },
        "8419a58982994132b054eec16c6729cd": {
          "model_module": "@jupyter-widgets/base",
          "model_name": "LayoutModel",
          "state": {
            "_view_name": "LayoutView",
            "grid_template_rows": null,
            "right": null,
            "justify_content": null,
            "_view_module": "@jupyter-widgets/base",
            "overflow": null,
            "_model_module_version": "1.2.0",
            "_view_count": null,
            "flex_flow": null,
            "width": null,
            "min_width": null,
            "border": null,
            "align_items": null,
            "bottom": null,
            "_model_module": "@jupyter-widgets/base",
            "top": null,
            "grid_column": null,
            "overflow_y": null,
            "overflow_x": null,
            "grid_auto_flow": null,
            "grid_area": null,
            "grid_template_columns": null,
            "flex": null,
            "_model_name": "LayoutModel",
            "justify_items": null,
            "grid_row": null,
            "max_height": null,
            "align_content": null,
            "visibility": null,
            "align_self": null,
            "height": null,
            "min_height": null,
            "padding": null,
            "grid_auto_rows": null,
            "grid_gap": null,
            "max_width": null,
            "order": null,
            "_view_module_version": "1.2.0",
            "grid_template_areas": null,
            "object_position": null,
            "object_fit": null,
            "grid_auto_columns": null,
            "margin": null,
            "display": null,
            "left": null
          }
        },
        "53ae80b8073f4f96add76f2781a4b9dc": {
          "model_module": "@jupyter-widgets/base",
          "model_name": "LayoutModel",
          "state": {
            "_view_name": "LayoutView",
            "grid_template_rows": null,
            "right": null,
            "justify_content": null,
            "_view_module": "@jupyter-widgets/base",
            "overflow": null,
            "_model_module_version": "1.2.0",
            "_view_count": null,
            "flex_flow": null,
            "width": null,
            "min_width": null,
            "border": null,
            "align_items": null,
            "bottom": null,
            "_model_module": "@jupyter-widgets/base",
            "top": null,
            "grid_column": null,
            "overflow_y": null,
            "overflow_x": null,
            "grid_auto_flow": null,
            "grid_area": null,
            "grid_template_columns": null,
            "flex": null,
            "_model_name": "LayoutModel",
            "justify_items": null,
            "grid_row": null,
            "max_height": null,
            "align_content": null,
            "visibility": null,
            "align_self": null,
            "height": null,
            "min_height": null,
            "padding": null,
            "grid_auto_rows": null,
            "grid_gap": null,
            "max_width": null,
            "order": null,
            "_view_module_version": "1.2.0",
            "grid_template_areas": null,
            "object_position": null,
            "object_fit": null,
            "grid_auto_columns": null,
            "margin": null,
            "display": null,
            "left": null
          }
        }
      }
    }
  },
  "cells": [
    {
      "cell_type": "markdown",
      "metadata": {
        "id": "view-in-github",
        "colab_type": "text"
      },
      "source": [
        "<a href=\"https://colab.research.google.com/github/Divyanshu-ISM/Oil-and-Gas-data-analysis/blob/master/To_do_PTA.ipynb\" target=\"_parent\"><img src=\"https://colab.research.google.com/assets/colab-badge.svg\" alt=\"Open In Colab\"/></a>"
      ]
    },
    {
      "cell_type": "code",
      "metadata": {
        "id": "iGgk5uw3qdfj",
        "colab_type": "code",
        "colab": {}
      },
      "source": [
        "import numpy as np\n",
        "import matplotlib.pyplot as plt\n",
        "%matplotlib inline\n",
        "\n",
        "from ipywidgets import interact, interactive\n",
        "from IPython.display import clear_output, display, HTML"
      ],
      "execution_count": 1,
      "outputs": []
    },
    {
      "cell_type": "code",
      "metadata": {
        "id": "DvyT5gbAubhh",
        "colab_type": "code",
        "colab": {}
      },
      "source": [
        "from scipy.special import expi"
      ],
      "execution_count": 8,
      "outputs": []
    },
    {
      "cell_type": "markdown",
      "metadata": {
        "id": "INiodlC1n-yQ",
        "colab_type": "text"
      },
      "source": [
        "#Pressure Transient Analysis (Analytical Solution)"
      ]
    },
    {
      "cell_type": "markdown",
      "metadata": {
        "id": "LgoCZjL4oDaU",
        "colab_type": "text"
      },
      "source": [
        "## $ P_{wf} =  P_i - \\frac{162.6q\\mu B}{kh}(log(\\frac{kt}{\\phi \\mu c_t r_w^2}) -3.23 + 0.87*s)$\n",
        "\n",
        "## $ P_{r} =  P_i - \\frac{162.6q\\mu B}{kh}(log(\\frac{kt}{\\phi \\mu c_t r^2}) -3.23 + 0.87*s)$"
      ]
    },
    {
      "cell_type": "code",
      "metadata": {
        "id": "pa0aVcLAn7Nd",
        "colab_type": "code",
        "colab": {}
      },
      "source": [
        "def unsteady_profile(t,k,mu):\n",
        "\n",
        "  Pi = 5000 #psi\n",
        "\n",
        "  q = 1000 #stb/day\n",
        "\n",
        "  B  = 1.1 #rb/stb\n",
        "\n",
        "  h = 50 #ft\n",
        "\n",
        "  phi = 0.20\n",
        "\n",
        "  ct = 1E-6\n",
        "\n",
        "  re = 500\n",
        "\n",
        "  s = 0\n",
        "\n",
        "  rw = 0.5\n",
        "\n",
        "  r = np.linspace(0.5,re,200)\n",
        "\n",
        "  Pwf = []\n",
        "\n",
        "  time = np.linspace(0,t,200)\n",
        "\n",
        "  for i in range(len(time)):\n",
        "    \n",
        "    P = Pi - (162.6*q*mu*B/k/h)*(np.log10(k*t/phi/mu/ct/(rw**2)) -3.23 + 0.87*s)\n",
        "    Pwf.append(P)\n",
        "  \n",
        "\n",
        "\n",
        "  # P = Pi - (70.6*q*mu*B/k/h)*expi(948*(k*t/phi/mu/ct/(r**2)))\n",
        "\n",
        "  \n",
        "\n",
        "\n",
        "  plt.plot(time,Pwf)\n",
        "  plt.semilogx(time,Pwf)\n",
        "\n",
        "  plt.xlim(0, t)\n",
        "\n",
        "  plt.ylim(0,5000)\n",
        "\n",
        "\n",
        "  return Pwf"
      ],
      "execution_count": 37,
      "outputs": []
    },
    {
      "cell_type": "code",
      "metadata": {
        "id": "Cajmf7EareSD",
        "colab_type": "code",
        "colab": {}
      },
      "source": [
        "w = interactive(unsteady_profile , t=(1,1000) , k = (100,500) , mu = (1,100))"
      ],
      "execution_count": 38,
      "outputs": []
    },
    {
      "cell_type": "code",
      "metadata": {
        "id": "iwqf40z6sZUH",
        "colab_type": "code",
        "colab": {
          "base_uri": "https://localhost:8080/",
          "height": 403,
          "referenced_widgets": [
            "93ba6f48e4484334b4cab053ceca9e6a",
            "213ef2c7887d4df79b0191af81fc0c99",
            "9661af6cd94745a28515d24ac024b004",
            "70417e3435de4abfa72ac3f9864fab16",
            "b871050baa594651bbd5185587cc59da",
            "5b2a4fb939b54b2c95687dbfc2c12cb0",
            "689f7e9470d741f3987ce035a9e00d8f",
            "27c870bacc0d476ca52afd3e50c30a9b",
            "4efa31c4c2ae4960bb17bf47343de7da",
            "3ce97130ed9440e6b168d2d1791ee8ad",
            "97740731fb2b4182a7c0722d6a803074",
            "8419a58982994132b054eec16c6729cd",
            "53ae80b8073f4f96add76f2781a4b9dc"
          ]
        },
        "outputId": "ec854dac-90ec-4823-ae4c-c0ef69acf2f6"
      },
      "source": [
        "display(w)"
      ],
      "execution_count": 39,
      "outputs": [
        {
          "output_type": "display_data",
          "data": {
            "application/vnd.jupyter.widget-view+json": {
              "model_id": "93ba6f48e4484334b4cab053ceca9e6a",
              "version_minor": 0,
              "version_major": 2
            },
            "text/plain": [
              "interactive(children=(IntSlider(value=500, description='t', max=1000, min=1), IntSlider(value=300, description…"
            ]
          },
          "metadata": {
            "tags": []
          }
        }
      ]
    },
    {
      "cell_type": "code",
      "metadata": {
        "id": "Z0efFbkisbAM",
        "colab_type": "code",
        "colab": {}
      },
      "source": [
        "948*phi*mu*ct*r2/kt"
      ],
      "execution_count": null,
      "outputs": []
    }
  ]
}