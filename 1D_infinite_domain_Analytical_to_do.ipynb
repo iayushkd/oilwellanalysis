{
  "nbformat": 4,
  "nbformat_minor": 0,
  "metadata": {
    "colab": {
      "name": "1D_infinite domain_Analytical.ipynb",
      "provenance": [],
      "collapsed_sections": [],
      "authorship_tag": "ABX9TyNNr14wv7UTe+DL2fhDlpfH",
      "include_colab_link": true
    },
    "kernelspec": {
      "name": "python3",
      "display_name": "Python 3"
    }
  },
  "cells": [
    {
      "cell_type": "markdown",
      "metadata": {
        "id": "view-in-github",
        "colab_type": "text"
      },
      "source": [
        "<a href=\"https://colab.research.google.com/github/Divyanshu-ISM/Oil-and-Gas-data-analysis/blob/master/1D_infinite_domain_Analytical_to_do.ipynb\" target=\"_parent\"><img src=\"https://colab.research.google.com/assets/colab-badge.svg\" alt=\"Open In Colab\"/></a>"
      ]
    },
    {
      "cell_type": "code",
      "metadata": {
        "id": "ugwIaxgJ2QJx",
        "colab_type": "code",
        "colab": {}
      },
      "source": [
        "import numpy as np\n",
        "import pandas as pd\n",
        "import matplotlib.pyplot as plt\n",
        "from sympy import *\n",
        "\n",
        "%matplotlib inline"
      ],
      "execution_count": 2,
      "outputs": []
    },
    {
      "cell_type": "code",
      "metadata": {
        "id": "zjvBKuiE2nz3",
        "colab_type": "code",
        "colab": {}
      },
      "source": [
        "k_md = 50\n",
        "k_m2 = k_md*0.987E-15\n",
        "\n",
        "phi = 0.25\n",
        "\n",
        "ct_psi = 1E-03\n",
        "ct_pa = ct_psi*14.7/101325\n",
        "\n",
        "\n",
        "Mu_cp=3\n",
        "Mu_Pas=Mu_cp*10**(-3)\n",
        "\n",
        "diffusivity=k_m2/phi/Mu_Pas/ct_pa\n"
      ],
      "execution_count": 66,
      "outputs": []
    },
    {
      "cell_type": "code",
      "metadata": {
        "id": "9UkmNvCA2xCa",
        "colab_type": "code",
        "colab": {}
      },
      "source": [
        "q = 5 #bbls/day\n",
        "q_m3persec = q/6.29/(24*60*60)\n",
        "\n",
        "A = 5000 #m2\n",
        "\n",
        "alpha = q_m3persec*Mu_Pas/(k_m2*A)"
      ],
      "execution_count": 67,
      "outputs": []
    },
    {
      "cell_type": "code",
      "metadata": {
        "id": "O18sKTBUg0I2",
        "colab_type": "code",
        "colab": {
          "base_uri": "https://localhost:8080/",
          "height": 34
        },
        "outputId": "04e65b7a-6b86-4178-b324-03ad07054b29"
      },
      "source": [
        ""
      ],
      "execution_count": 6,
      "outputs": [
        {
          "output_type": "execute_result",
          "data": {
            "text/plain": [
              "array([1, 2, 3, 4, 5])"
            ]
          },
          "metadata": {
            "tags": []
          },
          "execution_count": 6
        }
      ]
    },
    {
      "cell_type": "code",
      "metadata": {
        "id": "QkPA0l_b20Lo",
        "colab_type": "code",
        "colab": {}
      },
      "source": [
        "dx = 0.5\n",
        "x = np.arange(dx/2,10, dx)\n",
        "\n",
        "\n",
        "dt = 2\n",
        "t = np.arange(0,181,dt)\n",
        "\n",
        "beta = diffusivity*dt/dx**2\n",
        "\n",
        "\n",
        "\n"
      ],
      "execution_count": 68,
      "outputs": []
    },
    {
      "cell_type": "code",
      "metadata": {
        "id": "ymWYUX2coQMS",
        "colab_type": "code",
        "colab": {
          "base_uri": "https://localhost:8080/",
          "height": 68
        },
        "outputId": "b0ec69b6-dc12-4a4f-983b-25aba1ff8cea"
      },
      "source": [
        ""
      ],
      "execution_count": 41,
      "outputs": [
        {
          "output_type": "execute_result",
          "data": {
            "text/plain": [
              "array([ 0.25,  0.75,  1.25,  1.75,  2.25,  2.75,  3.25,  3.75,  4.25,\n",
              "        4.75,  5.25,  5.75,  6.25,  6.75,  7.25,  7.75,  8.25,  8.75,\n",
              "        9.25,  9.75, 10.25])"
            ]
          },
          "metadata": {
            "tags": []
          },
          "execution_count": 41
        }
      ]
    },
    {
      "cell_type": "code",
      "metadata": {
        "id": "doyxBHir4HWi",
        "colab_type": "code",
        "colab": {}
      },
      "source": [
        "Pi = 205\n",
        "Pwf = 175\n",
        "\n",
        "# x_step = np.linspace(0,5,101)\n",
        "\n",
        "# t_step = np.linspace(0,1800,181)\n",
        "\n",
        "# P = np.ones((len(x_step),len(t_step)))"
      ],
      "execution_count": 70,
      "outputs": []
    },
    {
      "cell_type": "code",
      "metadata": {
        "id": "XP97rpQx7TqE",
        "colab_type": "code",
        "colab": {}
      },
      "source": [
        "P = np.ones(len(x))*Pi"
      ],
      "execution_count": 69,
      "outputs": []
    },
    {
      "cell_type": "code",
      "metadata": {
        "id": "-IlnttQZ7j4Z",
        "colab_type": "code",
        "colab": {
          "base_uri": "https://localhost:8080/",
          "height": 340
        },
        "outputId": "456cd789-6596-4e52-b40e-d77a234ee48a"
      },
      "source": [
        ""
      ],
      "execution_count": 10,
      "outputs": [
        {
          "output_type": "execute_result",
          "data": {
            "text/plain": [
              "array([205., 205., 205., 205., 205., 205., 205., 205., 205., 205., 205.,\n",
              "       205., 205., 205., 205., 205., 205., 205., 205., 205., 205., 205.,\n",
              "       205., 205., 205., 205., 205., 205., 205., 205., 205., 205., 205.,\n",
              "       205., 205., 205., 205., 205., 205., 205., 205., 205., 205., 205.,\n",
              "       205., 205., 205., 205., 205., 205., 205., 205., 205., 205., 205.,\n",
              "       205., 205., 205., 205., 205., 205., 205., 205., 205., 205., 205.,\n",
              "       205., 205., 205., 205., 205., 205., 205., 205., 205., 205., 205.,\n",
              "       205., 205., 205., 205., 205., 205., 205., 205., 205., 205., 205.,\n",
              "       205., 205., 205., 205., 205., 205., 205., 205., 205., 205., 205.,\n",
              "       205., 205., 205., 205., 205., 205., 205., 205., 205., 205., 205.,\n",
              "       205., 205., 205., 205., 205., 205., 205., 205., 205., 205., 205.,\n",
              "       205., 205., 205., 205., 205., 205., 205., 205., 205., 205., 205.,\n",
              "       205., 205., 205., 205., 205., 205., 205., 205., 205., 205., 205.,\n",
              "       205., 205., 205., 205., 205., 205., 205., 205., 205., 205., 205.,\n",
              "       205., 205., 205., 205., 205., 205., 205., 205., 205., 205., 205.,\n",
              "       205., 205., 205., 205., 205., 205., 205., 205., 205., 205., 205.,\n",
              "       205., 205., 205., 205., 205., 205., 205., 205., 205., 205., 205.,\n",
              "       205., 205., 205., 205., 205., 205., 205., 205., 205., 205., 205.,\n",
              "       205., 205., 205., 205.])"
            ]
          },
          "metadata": {
            "tags": []
          },
          "execution_count": 10
        }
      ]
    },
    {
      "cell_type": "code",
      "metadata": {
        "id": "DBcmDAUT8GT2",
        "colab_type": "code",
        "colab": {}
      },
      "source": [
        "import math"
      ],
      "execution_count": 71,
      "outputs": []
    },
    {
      "cell_type": "code",
      "metadata": {
        "id": "-fTgD3tj5gv9",
        "colab_type": "code",
        "colab": {}
      },
      "source": [
        "# for i  in range(1,len(x_step)):\n",
        "\n",
        "#   x = x + delta_x\n",
        "\n",
        "#   t=0;\n",
        "#   delta_t=10;\n",
        "\n",
        "#   for j in range(2,len(t_step)):\n",
        "\n",
        "#     t = t + delta_t\n",
        "\n",
        "#     Pr[i,j] = Pi - ((q_m3persec*Mu_Pas*(diffusivity**0.5)/k_m2/A)*(np.sqrt(t/np.pi)*np.exp(-1*x**2/4/diffusivity/t**2))\n",
        "#                   - (x*math.erfc(x/2/np.sqrt(diffusivity*t))/2/np.sqrt(diffusivity)))\n",
        "    \n",
        "\n"
      ],
      "execution_count": 23,
      "outputs": []
    },
    {
      "cell_type": "code",
      "metadata": {
        "id": "8Fm77cME8t8v",
        "colab_type": "code",
        "colab": {}
      },
      "source": [
        "# from mpl_toolkits import mplot3d"
      ],
      "execution_count": 12,
      "outputs": []
    },
    {
      "cell_type": "code",
      "metadata": {
        "id": "k0N_Umrw899S",
        "colab_type": "code",
        "colab": {}
      },
      "source": [
        "# fig = plt.figure()\n",
        "# ax = plt.axes(projection='3d')\n",
        "\n",
        "# ax.plot_surface(x, t, Pr,cmap='viridis', edgecolor='none')\n",
        "\n",
        "# ax.set_title('Pr in infinite domain plot')"
      ],
      "execution_count": 13,
      "outputs": []
    },
    {
      "cell_type": "code",
      "metadata": {
        "id": "hMJv8-xAlKzI",
        "colab_type": "code",
        "colab": {}
      },
      "source": [
        "import pylab as pl\n",
        "from IPython import display\n",
        "import time"
      ],
      "execution_count": 72,
      "outputs": []
    },
    {
      "cell_type": "code",
      "metadata": {
        "id": "TQ0U3jHMogp9",
        "colab_type": "code",
        "colab": {
          "base_uri": "https://localhost:8080/",
          "height": 34
        },
        "outputId": "8ae8fdf2-bb8d-45cf-93c5-89a6937e3e67"
      },
      "source": [
        "x[-1]"
      ],
      "execution_count": 47,
      "outputs": [
        {
          "output_type": "execute_result",
          "data": {
            "text/plain": [
              "10.25"
            ]
          },
          "metadata": {
            "tags": []
          },
          "execution_count": 47
        }
      ]
    },
    {
      "cell_type": "code",
      "metadata": {
        "id": "9MOAfhhb9PLS",
        "colab_type": "code",
        "colab": {
          "base_uri": "https://localhost:8080/",
          "height": 669
        },
        "outputId": "6a10e75f-63a5-4a26-bd1a-46b59f8e9416"
      },
      "source": [
        "ax1 = plt.figure(figsize=(12,5))\n",
        "plt.grid()\n",
        "plt.style.use('fivethirtyeight')\n",
        "\n",
        "for j in t:\n",
        "\n",
        "  plt.clf()\n",
        "\n",
        "\n",
        "  for i in range(len(x)):\n",
        "\n",
        "    P[i] = Pi - alpha*np.sqrt(diffusivity)*(np.sqrt(j/3.14)*np.exp(-x[i]**2/4/diffusivity/j**2)  -  (x[i]/2/np.sqrt(diffusivity))*math.erfc(x[i]/2/np.sqrt(diffusivity*j)))\n",
        "  \n",
        "\n",
        "  plt.plot(x,P)\n",
        "\n",
        "  plt.xlim(dx/2 , x[-1]-dx/2)\n",
        "\n",
        "  \n",
        "  display.clear_output(wait=True)\n",
        "  display.display(pl.gcf())\n",
        "  time.sleep(1.0)"
      ],
      "execution_count": 73,
      "outputs": [
        {
          "output_type": "display_data",
          "data": {
            "image/png": "[encoded data removed]",
            "text/plain": [
              "<Figure size 864x360 with 1 Axes>"
            ]
          },
          "metadata": {
            "tags": []
          }
        },
        {
          "output_type": "display_data",
          "data": {
            "image/png": "[encoded data removed]",
            "text/plain": [
              "<Figure size 864x360 with 1 Axes>"
            ]
          },
          "metadata": {
            "tags": []
          }
        }
      ]
    },
    {
      "cell_type": "code",
      "metadata": {
        "id": "R-Edv4cYlhkB",
        "colab_type": "code",
        "colab": {}
      },
      "source": [
        ""
      ],
      "execution_count": null,
      "outputs": []
    }
  ]
}