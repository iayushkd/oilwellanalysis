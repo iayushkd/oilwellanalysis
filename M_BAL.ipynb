{
  "nbformat": 4,
  "nbformat_minor": 0,
  "metadata": {
    "colab": {
      "name": "M_BAL.ipynb",
      "provenance": [],
      "authorship_tag": "ABX9TyNBbFbUXrZL7pBO+3eyA7uD",
      "include_colab_link": true
    },
    "kernelspec": {
      "name": "python3",
      "display_name": "Python 3"
    }
  },
  "cells": [
    {
      "cell_type": "markdown",
      "metadata": {
        "id": "view-in-github",
        "colab_type": "text"
      },
      "source": [
        "<a href=\"https://colab.research.google.com/github/Divyanshu-ISM/Oil-and-Gas-data-analysis/blob/master/M_BAL.ipynb\" target=\"_parent\"><img src=\"https://colab.research.google.com/assets/colab-badge.svg\" alt=\"Open In Colab\"/></a>"
      ]
    },
    {
      "cell_type": "code",
      "metadata": {
        "id": "UFKfmq6mbcXe",
        "colab_type": "code",
        "colab": {}
      },
      "source": [
        ""
      ],
      "execution_count": null,
      "outputs": []
    },
    {
      "cell_type": "markdown",
      "metadata": {
        "id": "NDcuDd0tb2zP",
        "colab_type": "text"
      },
      "source": [
        "#Using the technique of Havlena and Odeh the material balance for a gascap drive reservoir can be expressed as :\n",
        "\n",
        "## $F = N (Eo + mEg )$\n",
        "\n",
        "Where, F = Underground Withdrawl, N = OIIP, Eo = Oil Expansion factor, Eg = Gas expansion factor, m = initial downhole gas/oil volume ratio\n"
      ]
    },
    {
      "cell_type": "code",
      "metadata": {
        "id": "V4N7QS1icBWH",
        "colab_type": "code",
        "colab": {}
      },
      "source": [
        "import numpy as np\n",
        "import pandas as pd\n",
        "import matplotlib.pyplot as plt\n",
        "import seaborn as sns\n",
        "%matplotlib inline"
      ],
      "execution_count": 2,
      "outputs": []
    },
    {
      "cell_type": "code",
      "metadata": {
        "id": "JVXSYxGZcKlB",
        "colab_type": "code",
        "colab": {}
      },
      "source": [
        "Pb = 3330\n",
        "Pi = 3330\n",
        "P = np.array([3330,3150,3000,2850,2700,2550,2400]) #psi\n",
        "Np = np.array([0, 3.295, 5.903,8.852,11.503,14.513,17.730]) #MMSTB\n",
        "Rp  = np.array([0,1050,1060,1160,1235,1265,1300]) #scf/stb\n",
        "Bo = np.array([1.2511,1.2353,1.2222,1.2122,1.2022,1.1922,1.1822]) #rb/STB\n",
        "Rs = np.array([510,477,450,425,401,375,352]) #scf/stb\n",
        "Bg = np.array([0.00087,0.00092,0.00096,0.00101,0.00107,0.00113,0.00120]) #rb/scf"
      ],
      "execution_count": 5,
      "outputs": []
    },
    {
      "cell_type": "code",
      "metadata": {
        "id": "CzE1jqMLekhg",
        "colab_type": "code",
        "colab": {}
      },
      "source": [
        "df = pd.DataFrame({'P':P,'Np':Np,'Rp':Rp,'Bo':Bo,'Rs':Rs,'Bg':Bg})"
      ],
      "execution_count": 6,
      "outputs": []
    },
    {
      "cell_type": "code",
      "metadata": {
        "id": "SHQ3_ubbe0jx",
        "colab_type": "code",
        "colab": {
          "base_uri": "https://localhost:8080/",
          "height": 254
        },
        "outputId": "66be21ba-9b8a-422c-82ed-dc604a046de6"
      },
      "source": [
        "df"
      ],
      "execution_count": 7,
      "outputs": [
        {
          "output_type": "execute_result",
          "data": {
            "text/html": [
              "<div>\n",
              "<style scoped>\n",
              "    .dataframe tbody tr th:only-of-type {\n",
              "        vertical-align: middle;\n",
              "    }\n",
              "\n",
              "    .dataframe tbody tr th {\n",
              "        vertical-align: top;\n",
              "    }\n",
              "\n",
              "    .dataframe thead th {\n",
              "        text-align: right;\n",
              "    }\n",
              "</style>\n",
              "<table border=\"1\" class=\"dataframe\">\n",
              "  <thead>\n",
              "    <tr style=\"text-align: right;\">\n",
              "      <th></th>\n",
              "      <th>P</th>\n",
              "      <th>Np</th>\n",
              "      <th>Rp</th>\n",
              "      <th>Bo</th>\n",
              "      <th>Rs</th>\n",
              "      <th>Bg</th>\n",
              "    </tr>\n",
              "  </thead>\n",
              "  <tbody>\n",
              "    <tr>\n",
              "      <th>0</th>\n",
              "      <td>3330</td>\n",
              "      <td>0.000</td>\n",
              "      <td>0</td>\n",
              "      <td>1.2511</td>\n",
              "      <td>510</td>\n",
              "      <td>0.00087</td>\n",
              "    </tr>\n",
              "    <tr>\n",
              "      <th>1</th>\n",
              "      <td>3150</td>\n",
              "      <td>3.295</td>\n",
              "      <td>1050</td>\n",
              "      <td>1.2353</td>\n",
              "      <td>477</td>\n",
              "      <td>0.00092</td>\n",
              "    </tr>\n",
              "    <tr>\n",
              "      <th>2</th>\n",
              "      <td>3000</td>\n",
              "      <td>5.903</td>\n",
              "      <td>1060</td>\n",
              "      <td>1.2222</td>\n",
              "      <td>450</td>\n",
              "      <td>0.00096</td>\n",
              "    </tr>\n",
              "    <tr>\n",
              "      <th>3</th>\n",
              "      <td>2850</td>\n",
              "      <td>8.852</td>\n",
              "      <td>1160</td>\n",
              "      <td>1.2122</td>\n",
              "      <td>425</td>\n",
              "      <td>0.00101</td>\n",
              "    </tr>\n",
              "    <tr>\n",
              "      <th>4</th>\n",
              "      <td>2700</td>\n",
              "      <td>11.503</td>\n",
              "      <td>1235</td>\n",
              "      <td>1.2022</td>\n",
              "      <td>401</td>\n",
              "      <td>0.00107</td>\n",
              "    </tr>\n",
              "    <tr>\n",
              "      <th>5</th>\n",
              "      <td>2550</td>\n",
              "      <td>14.513</td>\n",
              "      <td>1265</td>\n",
              "      <td>1.1922</td>\n",
              "      <td>375</td>\n",
              "      <td>0.00113</td>\n",
              "    </tr>\n",
              "    <tr>\n",
              "      <th>6</th>\n",
              "      <td>2400</td>\n",
              "      <td>17.730</td>\n",
              "      <td>1300</td>\n",
              "      <td>1.1822</td>\n",
              "      <td>352</td>\n",
              "      <td>0.00120</td>\n",
              "    </tr>\n",
              "  </tbody>\n",
              "</table>\n",
              "</div>"
            ],
            "text/plain": [
              "      P      Np    Rp      Bo   Rs       Bg\n",
              "0  3330   0.000     0  1.2511  510  0.00087\n",
              "1  3150   3.295  1050  1.2353  477  0.00092\n",
              "2  3000   5.903  1060  1.2222  450  0.00096\n",
              "3  2850   8.852  1160  1.2122  425  0.00101\n",
              "4  2700  11.503  1235  1.2022  401  0.00107\n",
              "5  2550  14.513  1265  1.1922  375  0.00113\n",
              "6  2400  17.730  1300  1.1822  352  0.00120"
            ]
          },
          "metadata": {
            "tags": []
          },
          "execution_count": 7
        }
      ]
    },
    {
      "cell_type": "code",
      "metadata": {
        "id": "XGZkZ7Ate5p8",
        "colab_type": "code",
        "colab": {
          "base_uri": "https://localhost:8080/",
          "height": 265
        },
        "outputId": "6d0d874e-0990-4f9e-c50c-d0b33269e5d1"
      },
      "source": [
        "#Let's See the variation of all these parameters with Pressure for self analysis\n",
        "plt.figure(figsize=(6,4))\n",
        "\n",
        "# plt.plot(P,Np*1000,label='Np vs P')\n",
        "# plt.plot(P,Bo,label='Bo vs P')\n",
        "plt.plot(P,Rp,label='Rp vs P')\n",
        "plt.plot(P,Rs,label='Rs vs P')\n",
        "# plt.plot(P,Bg,label='Bg vs P')\n",
        "\n",
        "plt.legend(loc='best')\n",
        "plt.grid()\n"
      ],
      "execution_count": 19,
      "outputs": [
        {
          "output_type": "display_data",
          "data": {
            "image/png": "[encoded data removed]",
            "text/plain": [
              "<Figure size 432x288 with 1 Axes>"
            ]
          },
          "metadata": {
            "tags": [],
            "needs_background": "light"
          }
        }
      ]
    },
    {
      "cell_type": "code",
      "metadata": {
        "id": "ptHM1rABe8UP",
        "colab_type": "code",
        "colab": {
          "base_uri": "https://localhost:8080/",
          "height": 265
        },
        "outputId": "65a452f0-a5b5-4b0b-9bde-605772ed94d1"
      },
      "source": [
        "#Let's See the variation of all these parameters with Pressure for self analysis\n",
        "plt.figure(figsize=(6,4))\n",
        "\n",
        "# plt.plot(P,Np*1000,label='Np vs P')\n",
        "plt.plot(P,Bo,label='Bo vs P')\n",
        "# plt.plot(P,Rp,label='Rp vs P')\n",
        "# plt.plot(P,Rs,label='Rs vs P')\n",
        "plt.plot(P,Bg,label='Bg vs P')\n",
        "\n",
        "plt.legend(loc='best')\n",
        "plt.grid()\n"
      ],
      "execution_count": 18,
      "outputs": [
        {
          "output_type": "display_data",
          "data": {
            "image/png": "[encoded data removed]",
            "text/plain": [
              "<Figure size 432x288 with 1 Axes>"
            ]
          },
          "metadata": {
            "tags": [],
            "needs_background": "light"
          }
        }
      ]
    },
    {
      "cell_type": "markdown",
      "metadata": {
        "id": "vJ8QwD51hB1i",
        "colab_type": "text"
      },
      "source": [
        "#Problem statement continued: \n",
        "The size of the gascap is uncertain with the best estimate, based on geological\n",
        "information, giving the value of m = 0.4. \n",
        "What's the impact of m on N, show that with different values of m, how the estimated N varies. \n",
        "##Find the correct m and N"
      ]
    },
    {
      "cell_type": "code",
      "metadata": {
        "id": "y5Eq9eqmgXtC",
        "colab_type": "code",
        "colab": {
          "base_uri": "https://localhost:8080/",
          "height": 254
        },
        "outputId": "f011503a-a223-4480-90cc-b57d4e62d1dd"
      },
      "source": [
        ""
      ],
      "execution_count": 20,
      "outputs": [
        {
          "output_type": "execute_result",
          "data": {
            "text/html": [
              "<div>\n",
              "<style scoped>\n",
              "    .dataframe tbody tr th:only-of-type {\n",
              "        vertical-align: middle;\n",
              "    }\n",
              "\n",
              "    .dataframe tbody tr th {\n",
              "        vertical-align: top;\n",
              "    }\n",
              "\n",
              "    .dataframe thead th {\n",
              "        text-align: right;\n",
              "    }\n",
              "</style>\n",
              "<table border=\"1\" class=\"dataframe\">\n",
              "  <thead>\n",
              "    <tr style=\"text-align: right;\">\n",
              "      <th></th>\n",
              "      <th>P</th>\n",
              "      <th>Np</th>\n",
              "      <th>Rp</th>\n",
              "      <th>Bo</th>\n",
              "      <th>Rs</th>\n",
              "      <th>Bg</th>\n",
              "    </tr>\n",
              "  </thead>\n",
              "  <tbody>\n",
              "    <tr>\n",
              "      <th>0</th>\n",
              "      <td>3330</td>\n",
              "      <td>0.000</td>\n",
              "      <td>0</td>\n",
              "      <td>1.2511</td>\n",
              "      <td>510</td>\n",
              "      <td>0.00087</td>\n",
              "    </tr>\n",
              "    <tr>\n",
              "      <th>1</th>\n",
              "      <td>3150</td>\n",
              "      <td>3.295</td>\n",
              "      <td>1050</td>\n",
              "      <td>1.2353</td>\n",
              "      <td>477</td>\n",
              "      <td>0.00092</td>\n",
              "    </tr>\n",
              "    <tr>\n",
              "      <th>2</th>\n",
              "      <td>3000</td>\n",
              "      <td>5.903</td>\n",
              "      <td>1060</td>\n",
              "      <td>1.2222</td>\n",
              "      <td>450</td>\n",
              "      <td>0.00096</td>\n",
              "    </tr>\n",
              "    <tr>\n",
              "      <th>3</th>\n",
              "      <td>2850</td>\n",
              "      <td>8.852</td>\n",
              "      <td>1160</td>\n",
              "      <td>1.2122</td>\n",
              "      <td>425</td>\n",
              "      <td>0.00101</td>\n",
              "    </tr>\n",
              "    <tr>\n",
              "      <th>4</th>\n",
              "      <td>2700</td>\n",
              "      <td>11.503</td>\n",
              "      <td>1235</td>\n",
              "      <td>1.2022</td>\n",
              "      <td>401</td>\n",
              "      <td>0.00107</td>\n",
              "    </tr>\n",
              "    <tr>\n",
              "      <th>5</th>\n",
              "      <td>2550</td>\n",
              "      <td>14.513</td>\n",
              "      <td>1265</td>\n",
              "      <td>1.1922</td>\n",
              "      <td>375</td>\n",
              "      <td>0.00113</td>\n",
              "    </tr>\n",
              "    <tr>\n",
              "      <th>6</th>\n",
              "      <td>2400</td>\n",
              "      <td>17.730</td>\n",
              "      <td>1300</td>\n",
              "      <td>1.1822</td>\n",
              "      <td>352</td>\n",
              "      <td>0.00120</td>\n",
              "    </tr>\n",
              "  </tbody>\n",
              "</table>\n",
              "</div>"
            ],
            "text/plain": [
              "      P      Np    Rp      Bo   Rs       Bg\n",
              "0  3330   0.000     0  1.2511  510  0.00087\n",
              "1  3150   3.295  1050  1.2353  477  0.00092\n",
              "2  3000   5.903  1060  1.2222  450  0.00096\n",
              "3  2850   8.852  1160  1.2122  425  0.00101\n",
              "4  2700  11.503  1235  1.2022  401  0.00107\n",
              "5  2550  14.513  1265  1.1922  375  0.00113\n",
              "6  2400  17.730  1300  1.1822  352  0.00120"
            ]
          },
          "metadata": {
            "tags": []
          },
          "execution_count": 20
        }
      ]
    },
    {
      "cell_type": "code",
      "metadata": {
        "id": "V5rJB-yuiBtZ",
        "colab_type": "code",
        "colab": {}
      },
      "source": [
        "Eo = Bo - Bo[0] + (Rs[0] - Rs)*Bg"
      ],
      "execution_count": 27,
      "outputs": []
    },
    {
      "cell_type": "code",
      "metadata": {
        "id": "C6Ynnw0AiYqF",
        "colab_type": "code",
        "colab": {}
      },
      "source": [
        "F = Np*(Bo + (Rp - Rs)*Bg) #MMrb"
      ],
      "execution_count": 23,
      "outputs": []
    },
    {
      "cell_type": "code",
      "metadata": {
        "id": "SOwBP3P2iktq",
        "colab_type": "code",
        "colab": {}
      },
      "source": [
        "Eg = Bo[0]*((Bg/Bg[0])-1)"
      ],
      "execution_count": 24,
      "outputs": []
    },
    {
      "cell_type": "code",
      "metadata": {
        "id": "EkyilntRi9HA",
        "colab_type": "code",
        "colab": {}
      },
      "source": [
        "df_MBE = pd.DataFrame({'P':P,'F':F,'Eo':Eo,'Eg':Eg})"
      ],
      "execution_count": 28,
      "outputs": []
    },
    {
      "cell_type": "code",
      "metadata": {
        "id": "BsuTtigEji2Z",
        "colab_type": "code",
        "colab": {
          "base_uri": "https://localhost:8080/",
          "height": 254
        },
        "outputId": "1ae52cba-9b5d-49c5-f5ea-95d85fc0fc80"
      },
      "source": [
        "df_MBE"
      ],
      "execution_count": 29,
      "outputs": [
        {
          "output_type": "execute_result",
          "data": {
            "text/html": [
              "<div>\n",
              "<style scoped>\n",
              "    .dataframe tbody tr th:only-of-type {\n",
              "        vertical-align: middle;\n",
              "    }\n",
              "\n",
              "    .dataframe tbody tr th {\n",
              "        vertical-align: top;\n",
              "    }\n",
              "\n",
              "    .dataframe thead th {\n",
              "        text-align: right;\n",
              "    }\n",
              "</style>\n",
              "<table border=\"1\" class=\"dataframe\">\n",
              "  <thead>\n",
              "    <tr style=\"text-align: right;\">\n",
              "      <th></th>\n",
              "      <th>P</th>\n",
              "      <th>F</th>\n",
              "      <th>Eo</th>\n",
              "      <th>Eg</th>\n",
              "    </tr>\n",
              "  </thead>\n",
              "  <tbody>\n",
              "    <tr>\n",
              "      <th>0</th>\n",
              "      <td>3330</td>\n",
              "      <td>0.000000</td>\n",
              "      <td>0.00000</td>\n",
              "      <td>0.000000</td>\n",
              "    </tr>\n",
              "    <tr>\n",
              "      <th>1</th>\n",
              "      <td>3150</td>\n",
              "      <td>5.807306</td>\n",
              "      <td>0.01456</td>\n",
              "      <td>0.071902</td>\n",
              "    </tr>\n",
              "    <tr>\n",
              "      <th>2</th>\n",
              "      <td>3000</td>\n",
              "      <td>10.671443</td>\n",
              "      <td>0.02870</td>\n",
              "      <td>0.129424</td>\n",
              "    </tr>\n",
              "    <tr>\n",
              "      <th>3</th>\n",
              "      <td>2850</td>\n",
              "      <td>17.301677</td>\n",
              "      <td>0.04695</td>\n",
              "      <td>0.201326</td>\n",
              "    </tr>\n",
              "    <tr>\n",
              "      <th>4</th>\n",
              "      <td>2700</td>\n",
              "      <td>24.093954</td>\n",
              "      <td>0.06773</td>\n",
              "      <td>0.287609</td>\n",
              "    </tr>\n",
              "    <tr>\n",
              "      <th>5</th>\n",
              "      <td>2550</td>\n",
              "      <td>31.898123</td>\n",
              "      <td>0.09365</td>\n",
              "      <td>0.373892</td>\n",
              "    </tr>\n",
              "    <tr>\n",
              "      <th>6</th>\n",
              "      <td>2400</td>\n",
              "      <td>41.130054</td>\n",
              "      <td>0.12070</td>\n",
              "      <td>0.474555</td>\n",
              "    </tr>\n",
              "  </tbody>\n",
              "</table>\n",
              "</div>"
            ],
            "text/plain": [
              "      P          F       Eo        Eg\n",
              "0  3330   0.000000  0.00000  0.000000\n",
              "1  3150   5.807306  0.01456  0.071902\n",
              "2  3000  10.671443  0.02870  0.129424\n",
              "3  2850  17.301677  0.04695  0.201326\n",
              "4  2700  24.093954  0.06773  0.287609\n",
              "5  2550  31.898123  0.09365  0.373892\n",
              "6  2400  41.130054  0.12070  0.474555"
            ]
          },
          "metadata": {
            "tags": []
          },
          "execution_count": 29
        }
      ]
    },
    {
      "cell_type": "code",
      "metadata": {
        "id": "zsIDPraCjkGQ",
        "colab_type": "code",
        "colab": {}
      },
      "source": [
        "# now let's assume 3 values of m - 0.4,0.5,0.6\n",
        "m1 = 0.4 \n",
        "m2 = 0.5\n",
        "m3 = 0.6"
      ],
      "execution_count": 30,
      "outputs": []
    },
    {
      "cell_type": "code",
      "metadata": {
        "id": "h9AHPDZ1kHpO",
        "colab_type": "code",
        "colab": {}
      },
      "source": [
        "Eo_plus_mEg_1 = Eo + m1*Eg\n",
        "Eo_plus_mEg_2 = Eo + m2*Eg\n",
        "Eo_plus_mEg_3 = Eo + m3*Eg"
      ],
      "execution_count": 37,
      "outputs": []
    },
    {
      "cell_type": "code",
      "metadata": {
        "id": "hWGd_uhrkqhq",
        "colab_type": "code",
        "colab": {}
      },
      "source": [
        "df_MBE['RHS_1'] = Eo_plus_mEg_1\n",
        "df_MBE['RHS_2'] = Eo_plus_mEg_2\n",
        "df_MBE['RHS_3'] = Eo_plus_mEg_3"
      ],
      "execution_count": 40,
      "outputs": []
    },
    {
      "cell_type": "code",
      "metadata": {
        "id": "wv45xcznlG5W",
        "colab_type": "code",
        "colab": {}
      },
      "source": [
        "df_MBE = df_MBE.drop('Eo + mEg',axis=1)"
      ],
      "execution_count": 42,
      "outputs": []
    },
    {
      "cell_type": "code",
      "metadata": {
        "id": "sO2D0OQNlIpt",
        "colab_type": "code",
        "colab": {
          "base_uri": "https://localhost:8080/",
          "height": 254
        },
        "outputId": "d01e092c-4ca0-4f10-bd78-36e76604a54d"
      },
      "source": [
        "df_MBE"
      ],
      "execution_count": 43,
      "outputs": [
        {
          "output_type": "execute_result",
          "data": {
            "text/html": [
              "<div>\n",
              "<style scoped>\n",
              "    .dataframe tbody tr th:only-of-type {\n",
              "        vertical-align: middle;\n",
              "    }\n",
              "\n",
              "    .dataframe tbody tr th {\n",
              "        vertical-align: top;\n",
              "    }\n",
              "\n",
              "    .dataframe thead th {\n",
              "        text-align: right;\n",
              "    }\n",
              "</style>\n",
              "<table border=\"1\" class=\"dataframe\">\n",
              "  <thead>\n",
              "    <tr style=\"text-align: right;\">\n",
              "      <th></th>\n",
              "      <th>P</th>\n",
              "      <th>F</th>\n",
              "      <th>Eo</th>\n",
              "      <th>Eg</th>\n",
              "      <th>RHS_1</th>\n",
              "      <th>RHS_2</th>\n",
              "      <th>RHS_3</th>\n",
              "    </tr>\n",
              "  </thead>\n",
              "  <tbody>\n",
              "    <tr>\n",
              "      <th>0</th>\n",
              "      <td>3330</td>\n",
              "      <td>0.000000</td>\n",
              "      <td>0.00000</td>\n",
              "      <td>0.000000</td>\n",
              "      <td>0.000000</td>\n",
              "      <td>0.000000</td>\n",
              "      <td>0.000000</td>\n",
              "    </tr>\n",
              "    <tr>\n",
              "      <th>1</th>\n",
              "      <td>3150</td>\n",
              "      <td>5.807306</td>\n",
              "      <td>0.01456</td>\n",
              "      <td>0.071902</td>\n",
              "      <td>0.043321</td>\n",
              "      <td>0.050511</td>\n",
              "      <td>0.057701</td>\n",
              "    </tr>\n",
              "    <tr>\n",
              "      <th>2</th>\n",
              "      <td>3000</td>\n",
              "      <td>10.671443</td>\n",
              "      <td>0.02870</td>\n",
              "      <td>0.129424</td>\n",
              "      <td>0.080470</td>\n",
              "      <td>0.093412</td>\n",
              "      <td>0.106354</td>\n",
              "    </tr>\n",
              "    <tr>\n",
              "      <th>3</th>\n",
              "      <td>2850</td>\n",
              "      <td>17.301677</td>\n",
              "      <td>0.04695</td>\n",
              "      <td>0.201326</td>\n",
              "      <td>0.127481</td>\n",
              "      <td>0.147613</td>\n",
              "      <td>0.167746</td>\n",
              "    </tr>\n",
              "    <tr>\n",
              "      <th>4</th>\n",
              "      <td>2700</td>\n",
              "      <td>24.093954</td>\n",
              "      <td>0.06773</td>\n",
              "      <td>0.287609</td>\n",
              "      <td>0.182774</td>\n",
              "      <td>0.211535</td>\n",
              "      <td>0.240296</td>\n",
              "    </tr>\n",
              "    <tr>\n",
              "      <th>5</th>\n",
              "      <td>2550</td>\n",
              "      <td>31.898123</td>\n",
              "      <td>0.09365</td>\n",
              "      <td>0.373892</td>\n",
              "      <td>0.243207</td>\n",
              "      <td>0.280596</td>\n",
              "      <td>0.317985</td>\n",
              "    </tr>\n",
              "    <tr>\n",
              "      <th>6</th>\n",
              "      <td>2400</td>\n",
              "      <td>41.130054</td>\n",
              "      <td>0.12070</td>\n",
              "      <td>0.474555</td>\n",
              "      <td>0.310522</td>\n",
              "      <td>0.357978</td>\n",
              "      <td>0.405433</td>\n",
              "    </tr>\n",
              "  </tbody>\n",
              "</table>\n",
              "</div>"
            ],
            "text/plain": [
              "      P          F       Eo        Eg     RHS_1     RHS_2     RHS_3\n",
              "0  3330   0.000000  0.00000  0.000000  0.000000  0.000000  0.000000\n",
              "1  3150   5.807306  0.01456  0.071902  0.043321  0.050511  0.057701\n",
              "2  3000  10.671443  0.02870  0.129424  0.080470  0.093412  0.106354\n",
              "3  2850  17.301677  0.04695  0.201326  0.127481  0.147613  0.167746\n",
              "4  2700  24.093954  0.06773  0.287609  0.182774  0.211535  0.240296\n",
              "5  2550  31.898123  0.09365  0.373892  0.243207  0.280596  0.317985\n",
              "6  2400  41.130054  0.12070  0.474555  0.310522  0.357978  0.405433"
            ]
          },
          "metadata": {
            "tags": []
          },
          "execution_count": 43
        }
      ]
    },
    {
      "cell_type": "code",
      "metadata": {
        "id": "pnPpjZT8lxxV",
        "colab_type": "code",
        "colab": {
          "base_uri": "https://localhost:8080/",
          "height": 367
        },
        "outputId": "5a1dbf76-71bd-4af5-8fa7-d3b15b63d1af"
      },
      "source": [
        "plt.figure(figsize=(8,5))\n",
        "\n",
        "plt.plot(df_MBE['RHS_1'],F,label='Theoritically best, m=0.4')\n",
        "plt.plot(df_MBE['RHS_2'],F,label='m=0.5')\n",
        "plt.plot(df_MBE['RHS_3'],F,label='m=0.6')\n",
        "\n",
        "plt.grid()\n",
        "plt.legend(loc='best')\n",
        "\n",
        "plt.xlabel('Eo + mEg')\n",
        "plt.ylabel('F (underground withdrawl)')\n",
        "plt.title('Slope gives us The N (Oil in Place')"
      ],
      "execution_count": 46,
      "outputs": [
        {
          "output_type": "execute_result",
          "data": {
            "text/plain": [
              "Text(0.5, 1.0, 'Slope gives us The N (Oil in Place')"
            ]
          },
          "metadata": {
            "tags": []
          },
          "execution_count": 46
        },
        {
          "output_type": "display_data",
          "data": {
            "image/png": "[encoded data removed]",
            "text/plain": [
              "<Figure size 576x360 with 1 Axes>"
            ]
          },
          "metadata": {
            "tags": [],
            "needs_background": "light"
          }
        }
      ]
    },
    {
      "cell_type": "code",
      "metadata": {
        "id": "3AQEOuh8oJs-",
        "colab_type": "code",
        "colab": {}
      },
      "source": [
        "slope, intercept = np.polyfit(df_MBE['RHS_1'],F, 1)"
      ],
      "execution_count": 61,
      "outputs": []
    },
    {
      "cell_type": "code",
      "metadata": {
        "id": "Sxqb2ZWYpKko",
        "colab_type": "code",
        "colab": {
          "base_uri": "https://localhost:8080/",
          "height": 34
        },
        "outputId": "92b73a34-5c28-48bb-98d8-b58b799cc3bd"
      },
      "source": [
        "print(slope)"
      ],
      "execution_count": 62,
      "outputs": [
        {
          "output_type": "stream",
          "text": [
            "131.77712071961054\n"
          ],
          "name": "stdout"
        }
      ]
    },
    {
      "cell_type": "code",
      "metadata": {
        "id": "tVhWG4dwpMaY",
        "colab_type": "code",
        "colab": {}
      },
      "source": [
        "slope2, intercept2 = np.polyfit(df_MBE['RHS_2'],F, 1)\n",
        "slope3, intercept3 = np.polyfit(df_MBE['RHS_3'],F, 1)\n",
        "slope1, intercept = np.polyfit(df_MBE['RHS_1'],F, 1)"
      ],
      "execution_count": 63,
      "outputs": []
    },
    {
      "cell_type": "code",
      "metadata": {
        "id": "H0arcNSlpTlb",
        "colab_type": "code",
        "colab": {
          "base_uri": "https://localhost:8080/",
          "height": 67
        },
        "outputId": "6728705c-eb88-4dfc-ebb8-62b7e769d9df"
      },
      "source": [
        "print(f'1. The Estimate of N (Oil in place) with m = 0.4 is {slope1} MMSTB')\n",
        "print(f'2. The Estimate of N (Oil in place) with m = 0.5 is {slope2} MMSTB')\n",
        "print(f'2. The Estimate of N (Oil in place) with m = 0.6 is {slope3} MMSTB')"
      ],
      "execution_count": 64,
      "outputs": [
        {
          "output_type": "stream",
          "text": [
            "1. The Estimate of N (Oil in place) with m = 0.4 is 131.77712071961054 MMSTB\n",
            "2. The Estimate of N (Oil in place) with m = 0.5 is 114.37046619758794 MMSTB\n",
            "2. The Estimate of N (Oil in place) with m = 0.6 is 101.024892196518 MMSTB\n"
          ],
          "name": "stdout"
        }
      ]
    },
    {
      "cell_type": "markdown",
      "metadata": {
        "id": "Yl6DJZpLsQLX",
        "colab_type": "text"
      },
      "source": [
        "#Method 2 : Finding N with another plots to verify results\n",
        "\n",
        "## $ \\frac{F}{Eo} = N + mN \\frac{Eg}{Eo}$"
      ]
    },
    {
      "cell_type": "code",
      "metadata": {
        "id": "Bpn5iJWtpW6s",
        "colab_type": "code",
        "colab": {}
      },
      "source": [
        "df_MBE['F/Eo'] = df_MBE['F']/df_MBE['Eo']\n",
        "df_MBE['Eg/Eo'] = df_MBE['Eg']/df_MBE['Eo']"
      ],
      "execution_count": 68,
      "outputs": []
    },
    {
      "cell_type": "code",
      "metadata": {
        "id": "bNY15Lq6xNgF",
        "colab_type": "code",
        "colab": {}
      },
      "source": [
        "mn, n = np.polyfit(df_MBE['Eg/Eo'].iloc[1:],df_MBE['F/Eo'].iloc[1:], 1)"
      ],
      "execution_count": 82,
      "outputs": []
    },
    {
      "cell_type": "code",
      "metadata": {
        "id": "04wn7iB6uMiK",
        "colab_type": "code",
        "colab": {
          "base_uri": "https://localhost:8080/",
          "height": 367
        },
        "outputId": "9a1af55d-356b-401e-84a9-fb872d44afb8"
      },
      "source": [
        "plt.figure(figsize=(8,5))\n",
        "\n",
        "sns.regplot(x='Eg/Eo',y='F/Eo',data=df_MBE,label = 'F/Eo vs Eg/Eo',line_kws={'label':f'y = {n} + {mn}x'},color='brown')\n",
        "\n",
        "\n",
        "plt.grid()\n",
        "plt.legend(loc='best')\n",
        "plt.title('A history match/verification of results')"
      ],
      "execution_count": 87,
      "outputs": [
        {
          "output_type": "execute_result",
          "data": {
            "text/plain": [
              "Text(0.5, 1.0, 'A history match/verification of results')"
            ]
          },
          "metadata": {
            "tags": []
          },
          "execution_count": 87
        },
        {
          "output_type": "display_data",
          "data": {
            "image/png": "[encoded data removed]",
            "text/plain": [
              "<Figure size 576x360 with 1 Axes>"
            ]
          },
          "metadata": {
            "tags": [],
            "needs_background": "light"
          }
        }
      ]
    },
    {
      "cell_type": "code",
      "metadata": {
        "id": "j9hoWTnwqIiA",
        "colab_type": "code",
        "colab": {}
      },
      "source": [
        "mn, n = np.polyfit(df_MBE['Eg/Eo'].iloc[1:],df_MBE['F/Eo'].iloc[1:], 1)"
      ],
      "execution_count": 75,
      "outputs": []
    },
    {
      "cell_type": "code",
      "metadata": {
        "id": "naANEoHdqKex",
        "colab_type": "code",
        "colab": {
          "base_uri": "https://localhost:8080/",
          "height": 50
        },
        "outputId": "6c92173f-69d0-4d0e-8c25-993c1bda4598"
      },
      "source": [
        "print(f'1.Based on the practical production Data, The correct value of N(OIP) is: {n}')\n",
        "print(f'2.Based on the practical production Data, The correct value of m is: {mn/n}')"
      ],
      "execution_count": 77,
      "outputs": [
        {
          "output_type": "stream",
          "text": [
            "1.Based on the practical production Data, The correct value of N(OIP) is: 108.70272737219946\n",
            "2.Based on the practical production Data, The correct value of m is: 0.5412020027520338\n"
          ],
          "name": "stdout"
        }
      ]
    },
    {
      "cell_type": "code",
      "metadata": {
        "id": "LCaBaChFqsq4",
        "colab_type": "code",
        "colab": {}
      },
      "source": [
        "#"
      ],
      "execution_count": 78,
      "outputs": []
    },
    {
      "cell_type": "code",
      "metadata": {
        "id": "H_ijQAHWqvI2",
        "colab_type": "code",
        "colab": {}
      },
      "source": [
        ""
      ],
      "execution_count": null,
      "outputs": []
    }
  ]
}