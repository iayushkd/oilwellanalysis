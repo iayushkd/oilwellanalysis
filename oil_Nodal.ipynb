{
  "nbformat": 4,
  "nbformat_minor": 0,
  "metadata": {
    "colab": {
      "name": "oil_Nodal.ipynb",
      "provenance": [],
      "authorship_tag": "ABX9TyMxA9DnVpzuDW93PxBlZo2v",
      "include_colab_link": true
    },
    "kernelspec": {
      "name": "python3",
      "display_name": "Python 3"
    }
  },
  "cells": [
    {
      "cell_type": "markdown",
      "metadata": {
        "id": "view-in-github",
        "colab_type": "text"
      },
      "source": [
        "<a href=\"https://colab.research.google.com/github/Divyanshu-ISM/Oil-and-Gas-data-analysis/blob/master/oil_Nodal.ipynb\" target=\"_parent\"><img src=\"https://colab.research.google.com/assets/colab-badge.svg\" alt=\"Open In Colab\"/></a>"
      ]
    },
    {
      "cell_type": "code",
      "metadata": {
        "id": "HbL3uTF851Sg",
        "colab_type": "code",
        "colab": {}
      },
      "source": [
        "import numpy as np\n",
        "import pandas as pd\n",
        "import matplotlib.pyplot as plt\n",
        "import seaborn as sns\n",
        "%matplotlib inline"
      ],
      "execution_count": null,
      "outputs": []
    },
    {
      "cell_type": "markdown",
      "metadata": {
        "id": "8SlGt-Ox6Go9",
        "colab_type": "text"
      },
      "source": [
        "#Vogel's IPR \n",
        "\n",
        "## data-\n",
        "\n",
        "Reservoir pressure = 3000 psia'\n",
        "\n",
        "Tested flowing bottom-hole pressure, pwf 1 = 2000 psia\n",
        "\n",
        "Tested production rate at pwf 1, q1 =500 stb=day\n",
        "\n",
        "Tested flowing bottom-hole pressure, pwf 2 = 1000 psia\n",
        "\n",
        "Tested production rate at pwf 2, q2 = 800 stb=day"
      ]
    },
    {
      "cell_type": "code",
      "metadata": {
        "id": "VuB_RUIc6Ddt",
        "colab_type": "code",
        "colab": {
          "base_uri": "https://localhost:8080/",
          "height": 102
        },
        "outputId": "b05e6449-de43-4004-b6d5-d6bd400981ff"
      },
      "source": [
        "Pres = float(input(\"Enter the reservoir pressure: \"))\n",
        "\n",
        "pwf1 = float(input(\"Enter the test pwf1: \"))\n",
        "q1 = float(input(\"Enter the test flow rate(at pwf1): \"))\n",
        "\n",
        "pwf2 = float(input(\"Enter the test pw2: \"))\n",
        "q2 = float(input(\"Enter the test flow rate(at pwf2): \"))\n",
        "\n",
        "\n"
      ],
      "execution_count": 4,
      "outputs": [
        {
          "output_type": "stream",
          "text": [
            "Enter the reservoir pressure: 3000\n",
            "Enter the test pwf1: 2000\n",
            "Enter the test flow rate(at pwf1): 500\n",
            "Enter the test pw2: 1000\n",
            "Enter the test flow rate(at pwf2): 800\n"
          ],
          "name": "stdout"
        }
      ]
    },
    {
      "cell_type": "markdown",
      "metadata": {
        "id": "dy6-FzLW8wkx",
        "colab_type": "text"
      },
      "source": [
        "#As per Vogel's equation:\n"
      ]
    },
    {
      "cell_type": "code",
      "metadata": {
        "id": "2QYbpitV8be1",
        "colab_type": "code",
        "colab": {
          "base_uri": "https://localhost:8080/",
          "height": 34
        },
        "outputId": "e6c4d123-55d8-4505-8af0-7aa98d46e69b"
      },
      "source": [
        "qmax = q1/(1 - 0.2*(pwf1/Pres) - 0.8*(pwf1/Pres)**2)\n",
        "qmax"
      ],
      "execution_count": 6,
      "outputs": [
        {
          "output_type": "execute_result",
          "data": {
            "text/plain": [
              "978.2608695652175"
            ]
          },
          "metadata": {
            "tags": []
          },
          "execution_count": 6
        }
      ]
    },
    {
      "cell_type": "code",
      "metadata": {
        "id": "siuvrn6O9xL9",
        "colab_type": "code",
        "colab": {
          "base_uri": "https://localhost:8080/",
          "height": 34
        },
        "outputId": "2e847e0a-bd34-47e6-ebe1-f292c0c9b2d2"
      },
      "source": [
        "J_star = (1.8*qmax)/Pres\n",
        "J_star"
      ],
      "execution_count": 8,
      "outputs": [
        {
          "output_type": "execute_result",
          "data": {
            "text/plain": [
              "0.5869565217391305"
            ]
          },
          "metadata": {
            "tags": []
          },
          "execution_count": 8
        }
      ]
    },
    {
      "cell_type": "code",
      "metadata": {
        "id": "N_tww3Bn-BB0",
        "colab_type": "code",
        "colab": {}
      },
      "source": [
        "q = np.linspace(0,qmax,50)"
      ],
      "execution_count": 11,
      "outputs": []
    },
    {
      "cell_type": "code",
      "metadata": {
        "id": "FvbRMNXa-UmZ",
        "colab_type": "code",
        "colab": {}
      },
      "source": [
        "pwf = 0.125*Pres*((81 - 80*(q/qmax))**0.5 - 1)"
      ],
      "execution_count": 12,
      "outputs": []
    },
    {
      "cell_type": "code",
      "metadata": {
        "id": "U2V_GIh4-vQ9",
        "colab_type": "code",
        "colab": {
          "base_uri": "https://localhost:8080/",
          "height": 282
        },
        "outputId": "0c804560-07ea-46fe-c923-a1625208c399"
      },
      "source": [
        ""
      ],
      "execution_count": 13,
      "outputs": [
        {
          "output_type": "execute_result",
          "data": {
            "text/plain": [
              "[<matplotlib.lines.Line2D at 0x7f62b85355f8>]"
            ]
          },
          "metadata": {
            "tags": []
          },
          "execution_count": 13
        },
        {
          "output_type": "display_data",
          "data": {
            "image/png": "[encoded data removed]",
            "text/plain": [
              "<Figure size 432x288 with 1 Axes>"
            ]
          },
          "metadata": {
            "tags": [],
            "needs_background": "light"
          }
        }
      ]
    },
    {
      "cell_type": "markdown",
      "metadata": {
        "id": "XniKaWLDAt6u",
        "colab_type": "text"
      },
      "source": [
        "#Wellbore Performance : Pottman and Carpenter\n",
        "\n",
        "## Pwf - Pwh = (rho + k/rho)*h/144\n",
        "\n",
        "### rho = Avg density, k is function of q^2"
      ]
    },
    {
      "cell_type": "code",
      "metadata": {
        "id": "Vr2iUuA7-69V",
        "colab_type": "code",
        "colab": {}
      },
      "source": [
        "rho = 19.53 #lb/ft3\n",
        "M = 495.66\n",
        "f = 0.002\n",
        "D = 1.66/12"
      ],
      "execution_count": 16,
      "outputs": []
    },
    {
      "cell_type": "code",
      "metadata": {
        "id": "dsrnxcc_CZhi",
        "colab_type": "code",
        "colab": {}
      },
      "source": [
        "k = (f*(q**2)*(M**2))/(7.4*(10**10)*(D**5))"
      ],
      "execution_count": 25,
      "outputs": []
    },
    {
      "cell_type": "code",
      "metadata": {
        "id": "pbW_1gw1Edzb",
        "colab_type": "code",
        "colab": {}
      },
      "source": [
        "pwf_out = (rho + k/rho)*2000"
      ],
      "execution_count": 30,
      "outputs": []
    },
    {
      "cell_type": "code",
      "metadata": {
        "id": "CrmRggW9FOxt",
        "colab_type": "code",
        "colab": {
          "base_uri": "https://localhost:8080/",
          "height": 334
        },
        "outputId": "c9b3a77e-4815-4a0b-fa08-d098c218420d"
      },
      "source": [
        "plt.figure(figsize=(7,5))\n",
        "\n",
        "sns.lineplot(q,pwf,label='IPR')\n",
        "sns.lineplot(q,pwf_out,label='TPR')\n",
        "\n",
        "plt.xlabel('Flow Rate Q (STB/day)')\n",
        "plt.ylabel('Pwf at bottomhole node, psia')\n",
        "\n",
        "plt.grid()"
      ],
      "execution_count": 40,
      "outputs": [
        {
          "output_type": "display_data",
          "data": {
            "image/png": "[encoded data removed]",
            "text/plain": [
              "<Figure size 504x360 with 1 Axes>"
            ]
          },
          "metadata": {
            "tags": [],
            "needs_background": "light"
          }
        }
      ]
    },
    {
      "cell_type": "code",
      "metadata": {
        "id": "XIuW3-xuFSHJ",
        "colab_type": "code",
        "colab": {}
      },
      "source": [
        ""
      ],
      "execution_count": null,
      "outputs": []
    }
  ]
}