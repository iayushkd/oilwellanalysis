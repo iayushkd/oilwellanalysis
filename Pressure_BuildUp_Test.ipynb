{
  "nbformat": 4,
  "nbformat_minor": 0,
  "metadata": {
    "colab": {
      "name": "Pressure_BuildUp_Test.ipynb",
      "provenance": [],
      "collapsed_sections": [],
      "authorship_tag": "ABX9TyM+rbXob7fJMA9tQpkeK7bA",
      "include_colab_link": true
    },
    "kernelspec": {
      "name": "python3",
      "display_name": "Python 3"
    }
  },
  "cells": [
    {
      "cell_type": "markdown",
      "metadata": {
        "id": "view-in-github",
        "colab_type": "text"
      },
      "source": [
        "<a href=\"https://colab.research.google.com/github/Divyanshu-ISM/Oil-and-Gas-data-analysis/blob/master/Pressure_BuildUp_Test.ipynb\" target=\"_parent\"><img src=\"https://colab.research.google.com/assets/colab-badge.svg\" alt=\"Open In Colab\"/></a>"
      ]
    },
    {
      "cell_type": "markdown",
      "metadata": {
        "id": "5kWCwWEKMj9m",
        "colab_type": "text"
      },
      "source": [
        "#**Well Test Analysis with Python** - Part 2\n",
        "\n",
        "##Pressure Build-up tests. \n",
        "\n",
        "Author : Divyanshu Vyas | PE/RE | ML-Deep Learning\n",
        "Contact : dvyas13ad@gmail.com"
      ]
    },
    {
      "cell_type": "markdown",
      "metadata": {
        "id": "7MP_L0tUM3oB",
        "colab_type": "text"
      },
      "source": [
        "Problem statement:\n",
        "![image.png](data:image/png;base64,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)"
      ]
    },
    {
      "cell_type": "code",
      "metadata": {
        "id": "Aq5vJK_9mwL2",
        "colab_type": "code",
        "colab": {}
      },
      "source": [
        "import numpy as np\n",
        "import pandas as pd\n",
        "import matplotlib.pyplot as plt\n",
        "import seaborn as sns\n",
        "%matplotlib inline"
      ],
      "execution_count": 74,
      "outputs": []
    },
    {
      "cell_type": "code",
      "metadata": {
        "id": "S57f1yCOnANE",
        "colab_type": "code",
        "colab": {}
      },
      "source": [
        "df = pd.read_excel('buildup tutorial soln2.xlsx',sheet_name='Sheet2')"
      ],
      "execution_count": 75,
      "outputs": []
    },
    {
      "cell_type": "code",
      "metadata": {
        "id": "tFZcVYCUoGSl",
        "colab_type": "code",
        "colab": {
          "base_uri": "https://localhost:8080/",
          "height": 195
        },
        "outputId": "0bea6e01-79b3-40c7-f965-f128ae44f26e"
      },
      "source": [
        "df.head()"
      ],
      "execution_count": 76,
      "outputs": [
        {
          "output_type": "execute_result",
          "data": {
            "text/html": [
              "<div>\n",
              "<style scoped>\n",
              "    .dataframe tbody tr th:only-of-type {\n",
              "        vertical-align: middle;\n",
              "    }\n",
              "\n",
              "    .dataframe tbody tr th {\n",
              "        vertical-align: top;\n",
              "    }\n",
              "\n",
              "    .dataframe thead th {\n",
              "        text-align: right;\n",
              "    }\n",
              "</style>\n",
              "<table border=\"1\" class=\"dataframe\">\n",
              "  <thead>\n",
              "    <tr style=\"text-align: right;\">\n",
              "      <th></th>\n",
              "      <th>t (hrs)</th>\n",
              "      <th>Pws</th>\n",
              "    </tr>\n",
              "  </thead>\n",
              "  <tbody>\n",
              "    <tr>\n",
              "      <th>0</th>\n",
              "      <td>0.0000</td>\n",
              "      <td>4192.887177</td>\n",
              "    </tr>\n",
              "    <tr>\n",
              "      <th>1</th>\n",
              "      <td>0.0010</td>\n",
              "      <td>4196.716637</td>\n",
              "    </tr>\n",
              "    <tr>\n",
              "      <th>2</th>\n",
              "      <td>0.0021</td>\n",
              "      <td>4201.194377</td>\n",
              "    </tr>\n",
              "    <tr>\n",
              "      <th>3</th>\n",
              "      <td>0.0034</td>\n",
              "      <td>4207.221945</td>\n",
              "    </tr>\n",
              "    <tr>\n",
              "      <th>4</th>\n",
              "      <td>0.0048</td>\n",
              "      <td>4212.246464</td>\n",
              "    </tr>\n",
              "  </tbody>\n",
              "</table>\n",
              "</div>"
            ],
            "text/plain": [
              "   t (hrs)          Pws\n",
              "0   0.0000  4192.887177\n",
              "1   0.0010  4196.716637\n",
              "2   0.0021  4201.194377\n",
              "3   0.0034  4207.221945\n",
              "4   0.0048  4212.246464"
            ]
          },
          "metadata": {
            "tags": []
          },
          "execution_count": 76
        }
      ]
    },
    {
      "cell_type": "code",
      "metadata": {
        "id": "37bEMpgyoLTW",
        "colab_type": "code",
        "colab": {}
      },
      "source": [
        "df_analysis = df.loc[1:,:]"
      ],
      "execution_count": 77,
      "outputs": []
    },
    {
      "cell_type": "code",
      "metadata": {
        "id": "pFgPEKBtobTk",
        "colab_type": "code",
        "colab": {
          "base_uri": "https://localhost:8080/",
          "height": 195
        },
        "outputId": "f85792ac-03d2-4803-8a17-49c1cea893fa"
      },
      "source": [
        "df_analysis.head()\n",
        "#note that the t(hrs) column is for the shut in time (dt)"
      ],
      "execution_count": 78,
      "outputs": [
        {
          "output_type": "execute_result",
          "data": {
            "text/html": [
              "<div>\n",
              "<style scoped>\n",
              "    .dataframe tbody tr th:only-of-type {\n",
              "        vertical-align: middle;\n",
              "    }\n",
              "\n",
              "    .dataframe tbody tr th {\n",
              "        vertical-align: top;\n",
              "    }\n",
              "\n",
              "    .dataframe thead th {\n",
              "        text-align: right;\n",
              "    }\n",
              "</style>\n",
              "<table border=\"1\" class=\"dataframe\">\n",
              "  <thead>\n",
              "    <tr style=\"text-align: right;\">\n",
              "      <th></th>\n",
              "      <th>t (hrs)</th>\n",
              "      <th>Pws</th>\n",
              "    </tr>\n",
              "  </thead>\n",
              "  <tbody>\n",
              "    <tr>\n",
              "      <th>1</th>\n",
              "      <td>0.0010</td>\n",
              "      <td>4196.716637</td>\n",
              "    </tr>\n",
              "    <tr>\n",
              "      <th>2</th>\n",
              "      <td>0.0021</td>\n",
              "      <td>4201.194377</td>\n",
              "    </tr>\n",
              "    <tr>\n",
              "      <th>3</th>\n",
              "      <td>0.0034</td>\n",
              "      <td>4207.221945</td>\n",
              "    </tr>\n",
              "    <tr>\n",
              "      <th>4</th>\n",
              "      <td>0.0048</td>\n",
              "      <td>4212.246464</td>\n",
              "    </tr>\n",
              "    <tr>\n",
              "      <th>5</th>\n",
              "      <td>0.0064</td>\n",
              "      <td>4219.681700</td>\n",
              "    </tr>\n",
              "  </tbody>\n",
              "</table>\n",
              "</div>"
            ],
            "text/plain": [
              "   t (hrs)          Pws\n",
              "1   0.0010  4196.716637\n",
              "2   0.0021  4201.194377\n",
              "3   0.0034  4207.221945\n",
              "4   0.0048  4212.246464\n",
              "5   0.0064  4219.681700"
            ]
          },
          "metadata": {
            "tags": []
          },
          "execution_count": 78
        }
      ]
    },
    {
      "cell_type": "code",
      "metadata": {
        "id": "s0t6gasJodSr",
        "colab_type": "code",
        "colab": {}
      },
      "source": [
        "tp = 168 #hrs"
      ],
      "execution_count": 79,
      "outputs": []
    },
    {
      "cell_type": "code",
      "metadata": {
        "id": "NU6h2Y8NojC6",
        "colab_type": "code",
        "colab": {
          "base_uri": "https://localhost:8080/",
          "height": 138
        },
        "outputId": "73af0f80-d708-454e-e3b4-55e62b3e27c7"
      },
      "source": [
        "df_analysis['th = (tp+dt)/dt'] = (df_analysis['t (hrs)'] + tp)/df_analysis['t (hrs)']"
      ],
      "execution_count": 80,
      "outputs": [
        {
          "output_type": "stream",
          "text": [
            "/usr/local/lib/python3.6/dist-packages/ipykernel_launcher.py:1: SettingWithCopyWarning: \n",
            "A value is trying to be set on a copy of a slice from a DataFrame.\n",
            "Try using .loc[row_indexer,col_indexer] = value instead\n",
            "\n",
            "See the caveats in the documentation: https://pandas.pydata.org/pandas-docs/stable/user_guide/indexing.html#returning-a-view-versus-a-copy\n",
            "  \"\"\"Entry point for launching an IPython kernel.\n"
          ],
          "name": "stderr"
        }
      ]
    },
    {
      "cell_type": "code",
      "metadata": {
        "id": "KYanbXhGpCPC",
        "colab_type": "code",
        "colab": {}
      },
      "source": [
        "# df_analysis.reset_index(inplace=True , drop = True)\n",
        "# df_analysis.head()"
      ],
      "execution_count": 81,
      "outputs": []
    },
    {
      "cell_type": "code",
      "metadata": {
        "id": "Xfp_WtQbpEyH",
        "colab_type": "code",
        "colab": {
          "base_uri": "https://localhost:8080/",
          "height": 138
        },
        "outputId": "4ed77374-25bd-4add-aaa4-5134877d12f8"
      },
      "source": [
        "df_analysis['te'] = tp/df_analysis['th = (tp+dt)/dt']"
      ],
      "execution_count": 82,
      "outputs": [
        {
          "output_type": "stream",
          "text": [
            "/usr/local/lib/python3.6/dist-packages/ipykernel_launcher.py:1: SettingWithCopyWarning: \n",
            "A value is trying to be set on a copy of a slice from a DataFrame.\n",
            "Try using .loc[row_indexer,col_indexer] = value instead\n",
            "\n",
            "See the caveats in the documentation: https://pandas.pydata.org/pandas-docs/stable/user_guide/indexing.html#returning-a-view-versus-a-copy\n",
            "  \"\"\"Entry point for launching an IPython kernel.\n"
          ],
          "name": "stderr"
        }
      ]
    },
    {
      "cell_type": "code",
      "metadata": {
        "id": "ivSIGu1UpXw7",
        "colab_type": "code",
        "colab": {
          "base_uri": "https://localhost:8080/",
          "height": 195
        },
        "outputId": "f1ccd4b0-61b3-42c8-f066-2a9aae28797f"
      },
      "source": [
        "df_analysis.head()"
      ],
      "execution_count": 83,
      "outputs": [
        {
          "output_type": "execute_result",
          "data": {
            "text/html": [
              "<div>\n",
              "<style scoped>\n",
              "    .dataframe tbody tr th:only-of-type {\n",
              "        vertical-align: middle;\n",
              "    }\n",
              "\n",
              "    .dataframe tbody tr th {\n",
              "        vertical-align: top;\n",
              "    }\n",
              "\n",
              "    .dataframe thead th {\n",
              "        text-align: right;\n",
              "    }\n",
              "</style>\n",
              "<table border=\"1\" class=\"dataframe\">\n",
              "  <thead>\n",
              "    <tr style=\"text-align: right;\">\n",
              "      <th></th>\n",
              "      <th>t (hrs)</th>\n",
              "      <th>Pws</th>\n",
              "      <th>th = (tp+dt)/dt</th>\n",
              "      <th>te</th>\n",
              "    </tr>\n",
              "  </thead>\n",
              "  <tbody>\n",
              "    <tr>\n",
              "      <th>1</th>\n",
              "      <td>0.0010</td>\n",
              "      <td>4196.716637</td>\n",
              "      <td>168001.000000</td>\n",
              "      <td>0.0010</td>\n",
              "    </tr>\n",
              "    <tr>\n",
              "      <th>2</th>\n",
              "      <td>0.0021</td>\n",
              "      <td>4201.194377</td>\n",
              "      <td>80001.000000</td>\n",
              "      <td>0.0021</td>\n",
              "    </tr>\n",
              "    <tr>\n",
              "      <th>3</th>\n",
              "      <td>0.0034</td>\n",
              "      <td>4207.221945</td>\n",
              "      <td>49412.764706</td>\n",
              "      <td>0.0034</td>\n",
              "    </tr>\n",
              "    <tr>\n",
              "      <th>4</th>\n",
              "      <td>0.0048</td>\n",
              "      <td>4212.246464</td>\n",
              "      <td>35001.000000</td>\n",
              "      <td>0.0048</td>\n",
              "    </tr>\n",
              "    <tr>\n",
              "      <th>5</th>\n",
              "      <td>0.0064</td>\n",
              "      <td>4219.681700</td>\n",
              "      <td>26251.000000</td>\n",
              "      <td>0.0064</td>\n",
              "    </tr>\n",
              "  </tbody>\n",
              "</table>\n",
              "</div>"
            ],
            "text/plain": [
              "   t (hrs)          Pws  th = (tp+dt)/dt      te\n",
              "1   0.0010  4196.716637    168001.000000  0.0010\n",
              "2   0.0021  4201.194377     80001.000000  0.0021\n",
              "3   0.0034  4207.221945     49412.764706  0.0034\n",
              "4   0.0048  4212.246464     35001.000000  0.0048\n",
              "5   0.0064  4219.681700     26251.000000  0.0064"
            ]
          },
          "metadata": {
            "tags": []
          },
          "execution_count": 83
        }
      ]
    },
    {
      "cell_type": "code",
      "metadata": {
        "id": "VRoci95vrVZr",
        "colab_type": "code",
        "colab": {
          "base_uri": "https://localhost:8080/",
          "height": 118
        },
        "outputId": "4abc9e5f-b98c-4216-ab8c-ede5d9d032fe"
      },
      "source": [
        "df['Pws'][0:5]"
      ],
      "execution_count": 84,
      "outputs": [
        {
          "output_type": "execute_result",
          "data": {
            "text/plain": [
              "0    4192.887177\n",
              "1    4196.716637\n",
              "2    4201.194377\n",
              "3    4207.221945\n",
              "4    4212.246464\n",
              "Name: Pws, dtype: float64"
            ]
          },
          "metadata": {
            "tags": []
          },
          "execution_count": 84
        }
      ]
    },
    {
      "cell_type": "code",
      "metadata": {
        "id": "-BqyoHSorbNW",
        "colab_type": "code",
        "colab": {
          "base_uri": "https://localhost:8080/",
          "height": 118
        },
        "outputId": "3f97be5e-8847-4f99-d294-a64fe515cede"
      },
      "source": [
        "df_analysis['Pws'][:5]"
      ],
      "execution_count": 85,
      "outputs": [
        {
          "output_type": "execute_result",
          "data": {
            "text/plain": [
              "1    4196.716637\n",
              "2    4201.194377\n",
              "3    4207.221945\n",
              "4    4212.246464\n",
              "5    4219.681700\n",
              "Name: Pws, dtype: float64"
            ]
          },
          "metadata": {
            "tags": []
          },
          "execution_count": 85
        }
      ]
    },
    {
      "cell_type": "code",
      "metadata": {
        "id": "1Wj1YFjnr9NP",
        "colab_type": "code",
        "colab": {}
      },
      "source": [
        ""
      ],
      "execution_count": 85,
      "outputs": []
    },
    {
      "cell_type": "code",
      "metadata": {
        "id": "GU8hn2w-paB7",
        "colab_type": "code",
        "colab": {
          "base_uri": "https://localhost:8080/",
          "height": 138
        },
        "outputId": "814741aa-6fd7-481c-a397-8c33e446bef9"
      },
      "source": [
        "df_analysis['dp'] = df_analysis['Pws'][0:] - df['Pws'][:-1]"
      ],
      "execution_count": 86,
      "outputs": [
        {
          "output_type": "stream",
          "text": [
            "/usr/local/lib/python3.6/dist-packages/ipykernel_launcher.py:1: SettingWithCopyWarning: \n",
            "A value is trying to be set on a copy of a slice from a DataFrame.\n",
            "Try using .loc[row_indexer,col_indexer] = value instead\n",
            "\n",
            "See the caveats in the documentation: https://pandas.pydata.org/pandas-docs/stable/user_guide/indexing.html#returning-a-view-versus-a-copy\n",
            "  \"\"\"Entry point for launching an IPython kernel.\n"
          ],
          "name": "stderr"
        }
      ]
    },
    {
      "cell_type": "code",
      "metadata": {
        "id": "b0Hy7x3asGsl",
        "colab_type": "code",
        "colab": {
          "base_uri": "https://localhost:8080/",
          "height": 118
        },
        "outputId": "e8b7e128-4835-42a8-ae6b-573377196629"
      },
      "source": [
        "df_analysis['dp'].head()"
      ],
      "execution_count": 87,
      "outputs": [
        {
          "output_type": "execute_result",
          "data": {
            "text/plain": [
              "1    0.0\n",
              "2    0.0\n",
              "3    0.0\n",
              "4    0.0\n",
              "5    0.0\n",
              "Name: dp, dtype: float64"
            ]
          },
          "metadata": {
            "tags": []
          },
          "execution_count": 87
        }
      ]
    },
    {
      "cell_type": "code",
      "metadata": {
        "id": "H57a9sOEqLZt",
        "colab_type": "code",
        "colab": {
          "base_uri": "https://localhost:8080/",
          "height": 138
        },
        "outputId": "a6a8a943-f558-4b09-da13-614f97db0cc8"
      },
      "source": [
        "df_analysis['dp/dt_e'] = df_analysis['dp']/(df_analysis['te'][1:] - df_analysis['te'][:-1])"
      ],
      "execution_count": 88,
      "outputs": [
        {
          "output_type": "stream",
          "text": [
            "/usr/local/lib/python3.6/dist-packages/ipykernel_launcher.py:1: SettingWithCopyWarning: \n",
            "A value is trying to be set on a copy of a slice from a DataFrame.\n",
            "Try using .loc[row_indexer,col_indexer] = value instead\n",
            "\n",
            "See the caveats in the documentation: https://pandas.pydata.org/pandas-docs/stable/user_guide/indexing.html#returning-a-view-versus-a-copy\n",
            "  \"\"\"Entry point for launching an IPython kernel.\n"
          ],
          "name": "stderr"
        }
      ]
    },
    {
      "cell_type": "code",
      "metadata": {
        "id": "SPhkuga-tzWh",
        "colab_type": "code",
        "colab": {
          "base_uri": "https://localhost:8080/",
          "height": 121
        },
        "outputId": "83af105a-0098-431a-c9b2-6b65dd6c5ab9"
      },
      "source": [
        "df_analysis.drop('dp',axis=1,inplace=True)"
      ],
      "execution_count": 89,
      "outputs": [
        {
          "output_type": "stream",
          "text": [
            "/usr/local/lib/python3.6/dist-packages/pandas/core/frame.py:3997: SettingWithCopyWarning: \n",
            "A value is trying to be set on a copy of a slice from a DataFrame\n",
            "\n",
            "See the caveats in the documentation: https://pandas.pydata.org/pandas-docs/stable/user_guide/indexing.html#returning-a-view-versus-a-copy\n",
            "  errors=errors,\n"
          ],
          "name": "stderr"
        }
      ]
    },
    {
      "cell_type": "code",
      "metadata": {
        "id": "m7BHU1ket7pY",
        "colab_type": "code",
        "colab": {
          "base_uri": "https://localhost:8080/",
          "height": 138
        },
        "outputId": "16067428-18c0-4224-87d5-3422365f5fef"
      },
      "source": [
        "df_analysis['dP'] = df['Pws'][1:] - df['Pws'][0:-1]"
      ],
      "execution_count": 90,
      "outputs": [
        {
          "output_type": "stream",
          "text": [
            "/usr/local/lib/python3.6/dist-packages/ipykernel_launcher.py:1: SettingWithCopyWarning: \n",
            "A value is trying to be set on a copy of a slice from a DataFrame.\n",
            "Try using .loc[row_indexer,col_indexer] = value instead\n",
            "\n",
            "See the caveats in the documentation: https://pandas.pydata.org/pandas-docs/stable/user_guide/indexing.html#returning-a-view-versus-a-copy\n",
            "  \"\"\"Entry point for launching an IPython kernel.\n"
          ],
          "name": "stderr"
        }
      ]
    },
    {
      "cell_type": "code",
      "metadata": {
        "id": "Yji4iSpDuIYA",
        "colab_type": "code",
        "colab": {
          "base_uri": "https://localhost:8080/",
          "height": 195
        },
        "outputId": "61fe5bbd-ced6-46b8-dcad-24825e995d35"
      },
      "source": [
        "df_analysis.head()"
      ],
      "execution_count": 91,
      "outputs": [
        {
          "output_type": "execute_result",
          "data": {
            "text/html": [
              "<div>\n",
              "<style scoped>\n",
              "    .dataframe tbody tr th:only-of-type {\n",
              "        vertical-align: middle;\n",
              "    }\n",
              "\n",
              "    .dataframe tbody tr th {\n",
              "        vertical-align: top;\n",
              "    }\n",
              "\n",
              "    .dataframe thead th {\n",
              "        text-align: right;\n",
              "    }\n",
              "</style>\n",
              "<table border=\"1\" class=\"dataframe\">\n",
              "  <thead>\n",
              "    <tr style=\"text-align: right;\">\n",
              "      <th></th>\n",
              "      <th>t (hrs)</th>\n",
              "      <th>Pws</th>\n",
              "      <th>th = (tp+dt)/dt</th>\n",
              "      <th>te</th>\n",
              "      <th>dp/dt_e</th>\n",
              "      <th>dP</th>\n",
              "    </tr>\n",
              "  </thead>\n",
              "  <tbody>\n",
              "    <tr>\n",
              "      <th>1</th>\n",
              "      <td>0.0010</td>\n",
              "      <td>4196.716637</td>\n",
              "      <td>168001.000000</td>\n",
              "      <td>0.0010</td>\n",
              "      <td>NaN</td>\n",
              "      <td>0.0</td>\n",
              "    </tr>\n",
              "    <tr>\n",
              "      <th>2</th>\n",
              "      <td>0.0021</td>\n",
              "      <td>4201.194377</td>\n",
              "      <td>80001.000000</td>\n",
              "      <td>0.0021</td>\n",
              "      <td>NaN</td>\n",
              "      <td>0.0</td>\n",
              "    </tr>\n",
              "    <tr>\n",
              "      <th>3</th>\n",
              "      <td>0.0034</td>\n",
              "      <td>4207.221945</td>\n",
              "      <td>49412.764706</td>\n",
              "      <td>0.0034</td>\n",
              "      <td>NaN</td>\n",
              "      <td>0.0</td>\n",
              "    </tr>\n",
              "    <tr>\n",
              "      <th>4</th>\n",
              "      <td>0.0048</td>\n",
              "      <td>4212.246464</td>\n",
              "      <td>35001.000000</td>\n",
              "      <td>0.0048</td>\n",
              "      <td>NaN</td>\n",
              "      <td>0.0</td>\n",
              "    </tr>\n",
              "    <tr>\n",
              "      <th>5</th>\n",
              "      <td>0.0064</td>\n",
              "      <td>4219.681700</td>\n",
              "      <td>26251.000000</td>\n",
              "      <td>0.0064</td>\n",
              "      <td>NaN</td>\n",
              "      <td>0.0</td>\n",
              "    </tr>\n",
              "  </tbody>\n",
              "</table>\n",
              "</div>"
            ],
            "text/plain": [
              "   t (hrs)          Pws  th = (tp+dt)/dt      te  dp/dt_e   dP\n",
              "1   0.0010  4196.716637    168001.000000  0.0010      NaN  0.0\n",
              "2   0.0021  4201.194377     80001.000000  0.0021      NaN  0.0\n",
              "3   0.0034  4207.221945     49412.764706  0.0034      NaN  0.0\n",
              "4   0.0048  4212.246464     35001.000000  0.0048      NaN  0.0\n",
              "5   0.0064  4219.681700     26251.000000  0.0064      NaN  0.0"
            ]
          },
          "metadata": {
            "tags": []
          },
          "execution_count": 91
        }
      ]
    },
    {
      "cell_type": "code",
      "metadata": {
        "id": "51BEAvrOtbYV",
        "colab_type": "code",
        "colab": {}
      },
      "source": [
        "# df_analysis['dp'][0]/(df_analysis['te'][1] - df_analysis['te'][0])"
      ],
      "execution_count": 93,
      "outputs": []
    },
    {
      "cell_type": "code",
      "metadata": {
        "id": "KQyYdDXUqyIg",
        "colab_type": "code",
        "colab": {}
      },
      "source": [
        "df_analysis.head()"
      ],
      "execution_count": null,
      "outputs": []
    },
    {
      "cell_type": "code",
      "metadata": {
        "id": "K8_r8iSGq0jy",
        "colab_type": "code",
        "colab": {}
      },
      "source": [
        "df.head()"
      ],
      "execution_count": null,
      "outputs": []
    },
    {
      "cell_type": "code",
      "metadata": {
        "id": "71966NuZuuLB",
        "colab_type": "code",
        "colab": {}
      },
      "source": [
        "# len(df) #86\n",
        "Pws = np.array(df['Pws'])"
      ],
      "execution_count": null,
      "outputs": []
    },
    {
      "cell_type": "code",
      "metadata": {
        "id": "wVi9G96guxr9",
        "colab_type": "code",
        "colab": {}
      },
      "source": [
        "dp = np.array(Pws[1:] - Pws[0:-1])"
      ],
      "execution_count": null,
      "outputs": []
    },
    {
      "cell_type": "code",
      "metadata": {
        "id": "sXsRkimevsQh",
        "colab_type": "code",
        "colab": {}
      },
      "source": [
        "te = np.array(df_analysis['te'])\n",
        "dt_e = np.array(te[1:]-te[0:-1])"
      ],
      "execution_count": null,
      "outputs": []
    },
    {
      "cell_type": "code",
      "metadata": {
        "id": "UW7YRa5VwHxs",
        "colab_type": "code",
        "colab": {}
      },
      "source": [
        "dpdt_e = dp[1:]/dt_e\n",
        "# dpdt_e = dPdt_e + np.zeros(85)\n",
        "dpdt_e = list(dpdt_e)\n",
        "dpdt_e.append(0)\n",
        "dpdt_e = np.array(dpdt_e)"
      ],
      "execution_count": 94,
      "outputs": []
    },
    {
      "cell_type": "code",
      "metadata": {
        "id": "bGx_TxbEw506",
        "colab_type": "code",
        "colab": {}
      },
      "source": [
        ""
      ],
      "execution_count": null,
      "outputs": []
    },
    {
      "cell_type": "code",
      "metadata": {
        "id": "izwx49uUwJ9l",
        "colab_type": "code",
        "colab": {
          "base_uri": "https://localhost:8080/",
          "height": 138
        },
        "outputId": "db259afc-5c5f-4a0c-b2b3-ad2a0fa468cc"
      },
      "source": [
        "df_analysis['dp/dte']  = dpdt_e"
      ],
      "execution_count": 95,
      "outputs": [
        {
          "output_type": "stream",
          "text": [
            "/usr/local/lib/python3.6/dist-packages/ipykernel_launcher.py:1: SettingWithCopyWarning: \n",
            "A value is trying to be set on a copy of a slice from a DataFrame.\n",
            "Try using .loc[row_indexer,col_indexer] = value instead\n",
            "\n",
            "See the caveats in the documentation: https://pandas.pydata.org/pandas-docs/stable/user_guide/indexing.html#returning-a-view-versus-a-copy\n",
            "  \"\"\"Entry point for launching an IPython kernel.\n"
          ],
          "name": "stderr"
        }
      ]
    },
    {
      "cell_type": "code",
      "metadata": {
        "id": "PjjFKy95whqB",
        "colab_type": "code",
        "colab": {
          "base_uri": "https://localhost:8080/",
          "height": 195
        },
        "outputId": "515763b6-460b-4132-d4e8-2694b7347662"
      },
      "source": [
        "df_analysis.head()"
      ],
      "execution_count": 96,
      "outputs": [
        {
          "output_type": "execute_result",
          "data": {
            "text/html": [
              "<div>\n",
              "<style scoped>\n",
              "    .dataframe tbody tr th:only-of-type {\n",
              "        vertical-align: middle;\n",
              "    }\n",
              "\n",
              "    .dataframe tbody tr th {\n",
              "        vertical-align: top;\n",
              "    }\n",
              "\n",
              "    .dataframe thead th {\n",
              "        text-align: right;\n",
              "    }\n",
              "</style>\n",
              "<table border=\"1\" class=\"dataframe\">\n",
              "  <thead>\n",
              "    <tr style=\"text-align: right;\">\n",
              "      <th></th>\n",
              "      <th>t (hrs)</th>\n",
              "      <th>Pws</th>\n",
              "      <th>th = (tp+dt)/dt</th>\n",
              "      <th>te</th>\n",
              "      <th>dp/dt_e</th>\n",
              "      <th>dP</th>\n",
              "      <th>dp/dte</th>\n",
              "    </tr>\n",
              "  </thead>\n",
              "  <tbody>\n",
              "    <tr>\n",
              "      <th>1</th>\n",
              "      <td>0.0010</td>\n",
              "      <td>4196.716637</td>\n",
              "      <td>168001.000000</td>\n",
              "      <td>0.0010</td>\n",
              "      <td>NaN</td>\n",
              "      <td>0.0</td>\n",
              "      <td>4070.748572</td>\n",
              "    </tr>\n",
              "    <tr>\n",
              "      <th>2</th>\n",
              "      <td>0.0021</td>\n",
              "      <td>4201.194377</td>\n",
              "      <td>80001.000000</td>\n",
              "      <td>0.0021</td>\n",
              "      <td>NaN</td>\n",
              "      <td>0.0</td>\n",
              "      <td>4636.742365</td>\n",
              "    </tr>\n",
              "    <tr>\n",
              "      <th>3</th>\n",
              "      <td>0.0034</td>\n",
              "      <td>4207.221945</td>\n",
              "      <td>49412.764706</td>\n",
              "      <td>0.0034</td>\n",
              "      <td>NaN</td>\n",
              "      <td>0.0</td>\n",
              "      <td>3589.117253</td>\n",
              "    </tr>\n",
              "    <tr>\n",
              "      <th>4</th>\n",
              "      <td>0.0048</td>\n",
              "      <td>4212.246464</td>\n",
              "      <td>35001.000000</td>\n",
              "      <td>0.0048</td>\n",
              "      <td>NaN</td>\n",
              "      <td>0.0</td>\n",
              "      <td>4647.332073</td>\n",
              "    </tr>\n",
              "    <tr>\n",
              "      <th>5</th>\n",
              "      <td>0.0064</td>\n",
              "      <td>4219.681700</td>\n",
              "      <td>26251.000000</td>\n",
              "      <td>0.0064</td>\n",
              "      <td>NaN</td>\n",
              "      <td>0.0</td>\n",
              "      <td>4305.343570</td>\n",
              "    </tr>\n",
              "  </tbody>\n",
              "</table>\n",
              "</div>"
            ],
            "text/plain": [
              "   t (hrs)          Pws  th = (tp+dt)/dt      te  dp/dt_e   dP       dp/dte\n",
              "1   0.0010  4196.716637    168001.000000  0.0010      NaN  0.0  4070.748572\n",
              "2   0.0021  4201.194377     80001.000000  0.0021      NaN  0.0  4636.742365\n",
              "3   0.0034  4207.221945     49412.764706  0.0034      NaN  0.0  3589.117253\n",
              "4   0.0048  4212.246464     35001.000000  0.0048      NaN  0.0  4647.332073\n",
              "5   0.0064  4219.681700     26251.000000  0.0064      NaN  0.0  4305.343570"
            ]
          },
          "metadata": {
            "tags": []
          },
          "execution_count": 96
        }
      ]
    },
    {
      "cell_type": "code",
      "metadata": {
        "id": "liAgHPBYy4s-",
        "colab_type": "code",
        "colab": {
          "base_uri": "https://localhost:8080/",
          "height": 138
        },
        "outputId": "3fd68156-5612-4dba-feff-c4c0e38fce4a"
      },
      "source": [
        "df_analysis['te*dp/dt_e'] = df_analysis['dp/dte']*df_analysis['te']"
      ],
      "execution_count": 99,
      "outputs": [
        {
          "output_type": "stream",
          "text": [
            "/usr/local/lib/python3.6/dist-packages/ipykernel_launcher.py:1: SettingWithCopyWarning: \n",
            "A value is trying to be set on a copy of a slice from a DataFrame.\n",
            "Try using .loc[row_indexer,col_indexer] = value instead\n",
            "\n",
            "See the caveats in the documentation: https://pandas.pydata.org/pandas-docs/stable/user_guide/indexing.html#returning-a-view-versus-a-copy\n",
            "  \"\"\"Entry point for launching an IPython kernel.\n"
          ],
          "name": "stderr"
        }
      ]
    },
    {
      "cell_type": "code",
      "metadata": {
        "id": "OGua3VP3zGTM",
        "colab_type": "code",
        "colab": {
          "base_uri": "https://localhost:8080/",
          "height": 195
        },
        "outputId": "e30ea06e-8fba-4be1-9c5c-8bc774b98cda"
      },
      "source": [
        "df_analysis.head()"
      ],
      "execution_count": 100,
      "outputs": [
        {
          "output_type": "execute_result",
          "data": {
            "text/html": [
              "<div>\n",
              "<style scoped>\n",
              "    .dataframe tbody tr th:only-of-type {\n",
              "        vertical-align: middle;\n",
              "    }\n",
              "\n",
              "    .dataframe tbody tr th {\n",
              "        vertical-align: top;\n",
              "    }\n",
              "\n",
              "    .dataframe thead th {\n",
              "        text-align: right;\n",
              "    }\n",
              "</style>\n",
              "<table border=\"1\" class=\"dataframe\">\n",
              "  <thead>\n",
              "    <tr style=\"text-align: right;\">\n",
              "      <th></th>\n",
              "      <th>t (hrs)</th>\n",
              "      <th>Pws</th>\n",
              "      <th>th = (tp+dt)/dt</th>\n",
              "      <th>te</th>\n",
              "      <th>dp/dt_e</th>\n",
              "      <th>dP</th>\n",
              "      <th>dp/dte</th>\n",
              "      <th>te*dp/dt_e</th>\n",
              "    </tr>\n",
              "  </thead>\n",
              "  <tbody>\n",
              "    <tr>\n",
              "      <th>1</th>\n",
              "      <td>0.0010</td>\n",
              "      <td>4196.716637</td>\n",
              "      <td>168001.000000</td>\n",
              "      <td>0.0010</td>\n",
              "      <td>NaN</td>\n",
              "      <td>0.0</td>\n",
              "      <td>4070.748572</td>\n",
              "      <td>4.070724</td>\n",
              "    </tr>\n",
              "    <tr>\n",
              "      <th>2</th>\n",
              "      <td>0.0021</td>\n",
              "      <td>4201.194377</td>\n",
              "      <td>80001.000000</td>\n",
              "      <td>0.0021</td>\n",
              "      <td>NaN</td>\n",
              "      <td>0.0</td>\n",
              "      <td>4636.742365</td>\n",
              "      <td>9.737037</td>\n",
              "    </tr>\n",
              "    <tr>\n",
              "      <th>3</th>\n",
              "      <td>0.0034</td>\n",
              "      <td>4207.221945</td>\n",
              "      <td>49412.764706</td>\n",
              "      <td>0.0034</td>\n",
              "      <td>NaN</td>\n",
              "      <td>0.0</td>\n",
              "      <td>3589.117253</td>\n",
              "      <td>12.202752</td>\n",
              "    </tr>\n",
              "    <tr>\n",
              "      <th>4</th>\n",
              "      <td>0.0048</td>\n",
              "      <td>4212.246464</td>\n",
              "      <td>35001.000000</td>\n",
              "      <td>0.0048</td>\n",
              "      <td>NaN</td>\n",
              "      <td>0.0</td>\n",
              "      <td>4647.332073</td>\n",
              "      <td>22.306557</td>\n",
              "    </tr>\n",
              "    <tr>\n",
              "      <th>5</th>\n",
              "      <td>0.0064</td>\n",
              "      <td>4219.681700</td>\n",
              "      <td>26251.000000</td>\n",
              "      <td>0.0064</td>\n",
              "      <td>NaN</td>\n",
              "      <td>0.0</td>\n",
              "      <td>4305.343570</td>\n",
              "      <td>27.553149</td>\n",
              "    </tr>\n",
              "  </tbody>\n",
              "</table>\n",
              "</div>"
            ],
            "text/plain": [
              "   t (hrs)          Pws  th = (tp+dt)/dt  ...   dP       dp/dte  te*dp/dt_e\n",
              "1   0.0010  4196.716637    168001.000000  ...  0.0  4070.748572    4.070724\n",
              "2   0.0021  4201.194377     80001.000000  ...  0.0  4636.742365    9.737037\n",
              "3   0.0034  4207.221945     49412.764706  ...  0.0  3589.117253   12.202752\n",
              "4   0.0048  4212.246464     35001.000000  ...  0.0  4647.332073   22.306557\n",
              "5   0.0064  4219.681700     26251.000000  ...  0.0  4305.343570   27.553149\n",
              "\n",
              "[5 rows x 8 columns]"
            ]
          },
          "metadata": {
            "tags": []
          },
          "execution_count": 100
        }
      ]
    },
    {
      "cell_type": "code",
      "metadata": {
        "id": "JcOy3P48zWFm",
        "colab_type": "code",
        "colab": {
          "base_uri": "https://localhost:8080/",
          "height": 138
        },
        "outputId": "f74fccae-3a11-4371-e72e-deb8de25c586"
      },
      "source": [
        "df_analysis['DeltaP'] = df_analysis['Pws'] -4192.89"
      ],
      "execution_count": 101,
      "outputs": [
        {
          "output_type": "stream",
          "text": [
            "/usr/local/lib/python3.6/dist-packages/ipykernel_launcher.py:1: SettingWithCopyWarning: \n",
            "A value is trying to be set on a copy of a slice from a DataFrame.\n",
            "Try using .loc[row_indexer,col_indexer] = value instead\n",
            "\n",
            "See the caveats in the documentation: https://pandas.pydata.org/pandas-docs/stable/user_guide/indexing.html#returning-a-view-versus-a-copy\n",
            "  \"\"\"Entry point for launching an IPython kernel.\n"
          ],
          "name": "stderr"
        }
      ]
    },
    {
      "cell_type": "code",
      "metadata": {
        "id": "JB8l7yXw0E-I",
        "colab_type": "code",
        "colab": {
          "base_uri": "https://localhost:8080/",
          "height": 195
        },
        "outputId": "727ea418-c932-452f-abaf-94d451e908fe"
      },
      "source": [
        "df_analysis.head()"
      ],
      "execution_count": 102,
      "outputs": [
        {
          "output_type": "execute_result",
          "data": {
            "text/html": [
              "<div>\n",
              "<style scoped>\n",
              "    .dataframe tbody tr th:only-of-type {\n",
              "        vertical-align: middle;\n",
              "    }\n",
              "\n",
              "    .dataframe tbody tr th {\n",
              "        vertical-align: top;\n",
              "    }\n",
              "\n",
              "    .dataframe thead th {\n",
              "        text-align: right;\n",
              "    }\n",
              "</style>\n",
              "<table border=\"1\" class=\"dataframe\">\n",
              "  <thead>\n",
              "    <tr style=\"text-align: right;\">\n",
              "      <th></th>\n",
              "      <th>t (hrs)</th>\n",
              "      <th>Pws</th>\n",
              "      <th>th = (tp+dt)/dt</th>\n",
              "      <th>te</th>\n",
              "      <th>dp/dt_e</th>\n",
              "      <th>dP</th>\n",
              "      <th>dp/dte</th>\n",
              "      <th>te*dp/dt_e</th>\n",
              "      <th>DeltaP</th>\n",
              "    </tr>\n",
              "  </thead>\n",
              "  <tbody>\n",
              "    <tr>\n",
              "      <th>1</th>\n",
              "      <td>0.0010</td>\n",
              "      <td>4196.716637</td>\n",
              "      <td>168001.000000</td>\n",
              "      <td>0.0010</td>\n",
              "      <td>NaN</td>\n",
              "      <td>0.0</td>\n",
              "      <td>4070.748572</td>\n",
              "      <td>4.070724</td>\n",
              "      <td>3.826637</td>\n",
              "    </tr>\n",
              "    <tr>\n",
              "      <th>2</th>\n",
              "      <td>0.0021</td>\n",
              "      <td>4201.194377</td>\n",
              "      <td>80001.000000</td>\n",
              "      <td>0.0021</td>\n",
              "      <td>NaN</td>\n",
              "      <td>0.0</td>\n",
              "      <td>4636.742365</td>\n",
              "      <td>9.737037</td>\n",
              "      <td>8.304377</td>\n",
              "    </tr>\n",
              "    <tr>\n",
              "      <th>3</th>\n",
              "      <td>0.0034</td>\n",
              "      <td>4207.221945</td>\n",
              "      <td>49412.764706</td>\n",
              "      <td>0.0034</td>\n",
              "      <td>NaN</td>\n",
              "      <td>0.0</td>\n",
              "      <td>3589.117253</td>\n",
              "      <td>12.202752</td>\n",
              "      <td>14.331945</td>\n",
              "    </tr>\n",
              "    <tr>\n",
              "      <th>4</th>\n",
              "      <td>0.0048</td>\n",
              "      <td>4212.246464</td>\n",
              "      <td>35001.000000</td>\n",
              "      <td>0.0048</td>\n",
              "      <td>NaN</td>\n",
              "      <td>0.0</td>\n",
              "      <td>4647.332073</td>\n",
              "      <td>22.306557</td>\n",
              "      <td>19.356464</td>\n",
              "    </tr>\n",
              "    <tr>\n",
              "      <th>5</th>\n",
              "      <td>0.0064</td>\n",
              "      <td>4219.681700</td>\n",
              "      <td>26251.000000</td>\n",
              "      <td>0.0064</td>\n",
              "      <td>NaN</td>\n",
              "      <td>0.0</td>\n",
              "      <td>4305.343570</td>\n",
              "      <td>27.553149</td>\n",
              "      <td>26.791700</td>\n",
              "    </tr>\n",
              "  </tbody>\n",
              "</table>\n",
              "</div>"
            ],
            "text/plain": [
              "   t (hrs)          Pws  th = (tp+dt)/dt  ...       dp/dte  te*dp/dt_e     DeltaP\n",
              "1   0.0010  4196.716637    168001.000000  ...  4070.748572    4.070724   3.826637\n",
              "2   0.0021  4201.194377     80001.000000  ...  4636.742365    9.737037   8.304377\n",
              "3   0.0034  4207.221945     49412.764706  ...  3589.117253   12.202752  14.331945\n",
              "4   0.0048  4212.246464     35001.000000  ...  4647.332073   22.306557  19.356464\n",
              "5   0.0064  4219.681700     26251.000000  ...  4305.343570   27.553149  26.791700\n",
              "\n",
              "[5 rows x 9 columns]"
            ]
          },
          "metadata": {
            "tags": []
          },
          "execution_count": 102
        }
      ]
    },
    {
      "cell_type": "code",
      "metadata": {
        "id": "mc8pbG8f0HKR",
        "colab_type": "code",
        "colab": {
          "base_uri": "https://localhost:8080/",
          "height": 415
        },
        "outputId": "9083f718-d919-41b3-e102-4e6b80987c64"
      },
      "source": [
        "plt.style.use('default')\n",
        "plt.figure(figsize=(8,4))\n",
        "plt.loglog(df_analysis['te'], df_analysis['te*dp/dt_e'],linewidth=1, label ='Derivative Plot',marker='o')\n",
        "plt.xlim(0.0001,80)\n",
        "\n",
        "plt.xlabel('Time Axis')\n",
        "plt.ylabel('Pressure(related) axis')\n",
        "\n",
        "plt.loglog(df_analysis['te'], df_analysis['DeltaP'],linewidth=1, label = 'DeltaP v/s t_eff',marker='*')\n",
        "\n",
        "plt.title('Build-Up Test Diagnostic Plot')\n",
        "plt.legend(loc='best')\n",
        "plt.grid()"
      ],
      "execution_count": 116,
      "outputs": [
        {
          "output_type": "display_data",
          "data": {
            "image/png": "[encoded data removed]",
            "text/plain": [
              "<Figure size 800x400 with 1 Axes>"
            ]
          },
          "metadata": {
            "tags": []
          }
        }
      ]
    },
    {
      "cell_type": "markdown",
      "metadata": {
        "id": "CUiq6ZLHNBBB",
        "colab_type": "text"
      },
      "source": [
        "#Conclusive Remarks and steps forward:\n",
        "1. We've found the IARF (horizontal line) and that's the main job of our analysis. \n",
        "2. We can spot the USL and that tels us the WelBore Storage Region. \n",
        "3. We can take Data from IARF and find the permeability."
      ]
    },
    {
      "cell_type": "code",
      "metadata": {
        "id": "QDYKAWiN0YhP",
        "colab_type": "code",
        "colab": {}
      },
      "source": [
        ""
      ],
      "execution_count": null,
      "outputs": []
    }
  ]
}