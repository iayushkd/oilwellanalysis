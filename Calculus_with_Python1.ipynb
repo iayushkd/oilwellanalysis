{
  "nbformat": 4,
  "nbformat_minor": 0,
  "metadata": {
    "colab": {
      "name": "Calculus_with_Python1.ipynb",
      "provenance": [],
      "authorship_tag": "ABX9TyONR7niwo8Xto2Vd58ErdfA",
      "include_colab_link": true
    },
    "kernelspec": {
      "name": "python3",
      "display_name": "Python 3"
    }
  },
  "cells": [
    {
      "cell_type": "markdown",
      "metadata": {
        "id": "view-in-github",
        "colab_type": "text"
      },
      "source": [
        "<a href=\"https://colab.research.google.com/github/Divyanshu-ISM/Oil-and-Gas-data-analysis/blob/master/Calculus_with_Python1.ipynb\" target=\"_parent\"><img src=\"https://colab.research.google.com/assets/colab-badge.svg\" alt=\"Open In Colab\"/></a>"
      ]
    },
    {
      "cell_type": "markdown",
      "metadata": {
        "id": "NLGZ6TldL8Tw",
        "colab_type": "text"
      },
      "source": [
        "#Chapter 1: Solving ODEs"
      ]
    },
    {
      "cell_type": "code",
      "metadata": {
        "id": "u-XGpTNrLx-U",
        "colab_type": "code",
        "colab": {}
      },
      "source": [
        "import numpy as np\n",
        "import matplotlib.pyplot as plt\n",
        "\n",
        "from scipy.integrate import odeint\n",
        "\n",
        "%matplotlib inline"
      ],
      "execution_count": 1,
      "outputs": []
    },
    {
      "cell_type": "markdown",
      "metadata": {
        "id": "iNAaWZ2GMRUp",
        "colab_type": "text"
      },
      "source": [
        "#Problem 1. \n",
        "\n",
        "$ \\frac {dy} {dx} = -ky$\n"
      ]
    },
    {
      "cell_type": "code",
      "metadata": {
        "id": "etCghE3EMJDe",
        "colab_type": "code",
        "colab": {}
      },
      "source": [
        "#1. Model creation\n",
        "\n",
        "def model(y,x):\n",
        "  k = 0.5\n",
        "  dydx = -k*y\n",
        "  return dydx\n",
        "\n",
        "#2. x \n",
        "x = np.linspace(0,10,20)\n",
        "\n",
        "# 3. Intital value\n",
        "y0 = 5\n",
        "\n",
        "#solution\n",
        "y = odeint(model,y0,x)"
      ],
      "execution_count": 5,
      "outputs": []
    },
    {
      "cell_type": "code",
      "metadata": {
        "id": "69txj8DFPXlR",
        "colab_type": "code",
        "colab": {
          "base_uri": "https://localhost:8080/",
          "height": 282
        },
        "outputId": "dcb66432-4066-4bdd-e143-cb9653f82b08"
      },
      "source": [
        "plt.plot(x,y)"
      ],
      "execution_count": 6,
      "outputs": [
        {
          "output_type": "execute_result",
          "data": {
            "text/plain": [
              "[<matplotlib.lines.Line2D at 0x7f3bfaddb1d0>]"
            ]
          },
          "metadata": {
            "tags": []
          },
          "execution_count": 6
        },
        {
          "output_type": "display_data",
          "data": {
            "image/png": "[encoded data removed]",
            "text/plain": [
              "<Figure size 432x288 with 1 Axes>"
            ]
          },
          "metadata": {
            "tags": [],
            "needs_background": "light"
          }
        }
      ]
    },
    {
      "cell_type": "markdown",
      "metadata": {
        "id": "-xcr2yRRQDcE",
        "colab_type": "text"
      },
      "source": [
        "#Problem 2. \n",
        "\n",
        "$5\\frac {dy(t)}{dt} = -y(t) + u(t) $"
      ]
    },
    {
      "cell_type": "code",
      "metadata": {
        "id": "9gE21EwQPd2U",
        "colab_type": "code",
        "colab": {
          "base_uri": "https://localhost:8080/",
          "height": 282
        },
        "outputId": "4c717fa2-de52-49e8-970b-eadc2ee0e4df"
      },
      "source": [
        "def model(y,t):\n",
        "  if t<=10:\n",
        "    u = 0\n",
        "  else:\n",
        "    u = 10\n",
        "  dydt = (-y + u)/5.0\n",
        "  return dydt\n",
        "\n",
        "t = np.linspace(0,100,100)\n",
        "\n",
        "y0 = 10\n",
        "\n",
        "y = odeint(model,y0,t)\n",
        "\n",
        "plt.plot(t,y)\n",
        "\n",
        "\n"
      ],
      "execution_count": 7,
      "outputs": [
        {
          "output_type": "execute_result",
          "data": {
            "text/plain": [
              "[<matplotlib.lines.Line2D at 0x7f3bfad30198>]"
            ]
          },
          "metadata": {
            "tags": []
          },
          "execution_count": 7
        },
        {
          "output_type": "display_data",
          "data": {
            "image/png": "[encoded data removed]",
            "text/plain": [
              "<Figure size 432x288 with 1 Axes>"
            ]
          },
          "metadata": {
            "tags": [],
            "needs_background": "light"
          }
        }
      ]
    },
    {
      "cell_type": "markdown",
      "metadata": {
        "id": "3MCikz32RUMu",
        "colab_type": "text"
      },
      "source": [
        "#The Soul concept : isolate the derivative on the LHS | everything else RHS"
      ]
    },
    {
      "cell_type": "code",
      "metadata": {
        "id": "tFJPTLPRQ2tN",
        "colab_type": "code",
        "colab": {}
      },
      "source": [
        "#######"
      ],
      "execution_count": 8,
      "outputs": []
    },
    {
      "cell_type": "markdown",
      "metadata": {
        "id": "OFe3ZRfkRryS",
        "colab_type": "text"
      },
      "source": [
        "#Problem 3. Two ODEs together. \n",
        "\n",
        "$\\frac{dx(t)}{dt} = - 3exp(-t)$\n",
        "\n",
        "$\\frac{dy(t)}{dt} = 3 - y(t)$"
      ]
    },
    {
      "cell_type": "code",
      "metadata": {
        "id": "clNxbHeORqB9",
        "colab_type": "code",
        "colab": {}
      },
      "source": [
        "#the outputs of x and y will be stored in a two sized array. \n",
        "\n",
        "def modell(z,t):\n",
        "  x = z[0]\n",
        "  y = z[1]\n",
        "  dxdt = 3.0*np.exp(-t)\n",
        "  dydt = 3.0 - y\n",
        "  return [dxdt,dydt]\n",
        "\n",
        "z0 = [0,0]\n",
        "\n",
        "t = np.linspace(0,10)\n",
        "\n",
        "z = odeint(modell,z0,t)"
      ],
      "execution_count": 19,
      "outputs": []
    },
    {
      "cell_type": "code",
      "metadata": {
        "id": "LikhMrH9Wl9p",
        "colab_type": "code",
        "colab": {}
      },
      "source": [
        "# print(z) #hence z is a 2D array"
      ],
      "execution_count": 17,
      "outputs": []
    },
    {
      "cell_type": "code",
      "metadata": {
        "id": "Vk44oqwCV_uO",
        "colab_type": "code",
        "colab": {
          "base_uri": "https://localhost:8080/",
          "height": 282
        },
        "outputId": "106c1e49-7453-4898-a317-13b56fe73cc7"
      },
      "source": [
        "plt.plot(t,z[:,0],label = 'Solution for x(t)')\n",
        "plt.plot(t,z[:,1],label = 'Solution for y(t)')\n",
        "\n",
        "plt.legend()\n"
      ],
      "execution_count": 20,
      "outputs": [
        {
          "output_type": "execute_result",
          "data": {
            "text/plain": [
              "<matplotlib.legend.Legend at 0x7f3bfaae3400>"
            ]
          },
          "metadata": {
            "tags": []
          },
          "execution_count": 20
        },
        {
          "output_type": "display_data",
          "data": {
            "image/png": "[encoded data removed]",
            "text/plain": [
              "<Figure size 432x288 with 1 Axes>"
            ]
          },
          "metadata": {
            "tags": [],
            "needs_background": "light"
          }
        }
      ]
    },
    {
      "cell_type": "code",
      "metadata": {
        "id": "LnFmYKs5Wb3K",
        "colab_type": "code",
        "colab": {}
      },
      "source": [
        ""
      ],
      "execution_count": null,
      "outputs": []
    }
  ]
}