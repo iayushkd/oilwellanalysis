{
  "nbformat": 4,
  "nbformat_minor": 0,
  "metadata": {
    "colab": {
      "name": "REML.ipynb",
      "provenance": [],
      "authorship_tag": "ABX9TyPUXGr1CG6x3jVfbc6qsheP",
      "include_colab_link": true
    },
    "kernelspec": {
      "name": "python3",
      "display_name": "Python 3"
    }
  },
  "cells": [
    {
      "cell_type": "markdown",
      "metadata": {
        "id": "view-in-github",
        "colab_type": "text"
      },
      "source": [
        "<a href=\"https://colab.research.google.com/github/Divyanshu-ISM/Oil-and-Gas-data-analysis/blob/master/REML.ipynb\" target=\"_parent\"><img src=\"https://colab.research.google.com/assets/colab-badge.svg\" alt=\"Open In Colab\"/></a>"
      ]
    },
    {
      "cell_type": "code",
      "metadata": {
        "id": "AmDxsY2aPXfM",
        "colab_type": "code",
        "colab": {}
      },
      "source": [
        "import numpy as np\n",
        "import pandas as pd\n",
        "import matplotlib.pyplot as plt\n",
        "%matplotlib inline"
      ],
      "execution_count": 1,
      "outputs": []
    },
    {
      "cell_type": "code",
      "metadata": {
        "id": "6SPsUkkCPb3R",
        "colab_type": "code",
        "colab": {}
      },
      "source": [
        "#Initialization\n",
        "\n",
        "# Pi = 6000\n",
        "\n",
        "dx = 1000\n",
        "dy = 1000\n",
        "dz = 75\n",
        "\n",
        "B = 1 #RB/STB\n",
        "c = 3.5*(10**(-6)) #psi-1\n",
        "\n",
        "kx = 15 #mD\n",
        "phi= 0.18\n",
        "\n",
        "mu = 10 #cp\n",
        "\n",
        "dt = 1/24 #days\n",
        "\n",
        "#Well Block index wb\n",
        "\n",
        "wb = 3 # 0,1,2,3 (block 4)\n",
        "\n",
        "\n",
        "#Calclulation\n",
        "\n",
        "Ax = dy*dz #ft2\n",
        "\n",
        "Vb = dx*dy*dz #ft3\n",
        "\n",
        "qsc_wb = -150 #stb/d\n",
        "\n",
        "Tx = (0.001127)*(kx)*(Ax)/(mu*B*dx)\n",
        "\n",
        "M = 5.615*B*dt/Vb/phi/c"
      ],
      "execution_count": 8,
      "outputs": []
    },
    {
      "cell_type": "code",
      "metadata": {
        "id": "a18kCny0QW2q",
        "colab_type": "code",
        "colab": {
          "base_uri": "https://localhost:8080/",
          "height": 35
        },
        "outputId": "0a7b4bfb-818e-46e6-edc3-3b9444d9a718"
      },
      "source": [
        "t = np.arange(0,365+dt, dt)\n",
        "\n",
        "len(t)"
      ],
      "execution_count": 10,
      "outputs": [
        {
          "output_type": "execute_result",
          "data": {
            "text/plain": [
              "8762"
            ]
          },
          "metadata": {
            "tags": []
          },
          "execution_count": 10
        }
      ]
    },
    {
      "cell_type": "code",
      "metadata": {
        "id": "j_LYqeEtPkpW",
        "colab_type": "code",
        "colab": {}
      },
      "source": [
        "P = np.ones(5)*6000"
      ],
      "execution_count": 3,
      "outputs": []
    },
    {
      "cell_type": "code",
      "metadata": {
        "id": "RKXMjvcwPmk5",
        "colab_type": "code",
        "colab": {}
      },
      "source": [
        "#creating a space-time 2D matrix\n",
        "P_r = np.zeros((len(t),5))"
      ],
      "execution_count": 11,
      "outputs": []
    },
    {
      "cell_type": "code",
      "metadata": {
        "id": "w5aogQfrQ6qO",
        "colab_type": "code",
        "colab": {}
      },
      "source": [
        "wb = 3 #can ask user input as well.\n",
        "qsc = np.array([0,0,0,-150,0])\n",
        "\n",
        "#West Boundary Pressure\n",
        "P_w = 6000 #psi\n",
        "\n",
        "for j in range(1,len(t)):\n",
        "\n",
        "  for i in range(1, len(P)-1):\n",
        "\n",
        "    P_r[j,i] = P_r[j-1,i] + M*qsc[i] + M*(Tx*(P_r[j-1,i-1] - P_r[j-1,i]) + Tx*(P_r[j-1,i+1] - P_r[j-1,i]))\n",
        "  \n",
        "  P_r[j,0] = P_w\n",
        "\n",
        "  P_r[j,-1]= P_r[j-1,-1] +  M*qsc[-1] + M*(Tx*(P_r[j-1,-2] - P_r[j-1,-1]))"
      ],
      "execution_count": 17,
      "outputs": []
    },
    {
      "cell_type": "code",
      "metadata": {
        "id": "DhZAHTeTP68e",
        "colab_type": "code",
        "colab": {}
      },
      "source": [
        "temp = pd.DataFrame(P_r)"
      ],
      "execution_count": 18,
      "outputs": []
    },
    {
      "cell_type": "code",
      "metadata": {
        "id": "ZcuvZQ7sQNWx",
        "colab_type": "code",
        "colab": {}
      },
      "source": [
        "temp.loc[0,:] = P"
      ],
      "execution_count": 14,
      "outputs": []
    },
    {
      "cell_type": "code",
      "metadata": {
        "id": "l2lkU9q4QOl9",
        "colab_type": "code",
        "colab": {
          "base_uri": "https://localhost:8080/",
          "height": 407
        },
        "outputId": "380b8055-43fe-4b88-b633-95fb567ea226"
      },
      "source": [
        "temp"
      ],
      "execution_count": 20,
      "outputs": [
        {
          "output_type": "execute_result",
          "data": {
            "text/html": [
              "<div>\n",
              "<style scoped>\n",
              "    .dataframe tbody tr th:only-of-type {\n",
              "        vertical-align: middle;\n",
              "    }\n",
              "\n",
              "    .dataframe tbody tr th {\n",
              "        vertical-align: top;\n",
              "    }\n",
              "\n",
              "    .dataframe thead th {\n",
              "        text-align: right;\n",
              "    }\n",
              "</style>\n",
              "<table border=\"1\" class=\"dataframe\">\n",
              "  <thead>\n",
              "    <tr style=\"text-align: right;\">\n",
              "      <th></th>\n",
              "      <th>0</th>\n",
              "      <th>1</th>\n",
              "      <th>2</th>\n",
              "      <th>3</th>\n",
              "      <th>4</th>\n",
              "    </tr>\n",
              "  </thead>\n",
              "  <tbody>\n",
              "    <tr>\n",
              "      <th>0</th>\n",
              "      <td>6000.0</td>\n",
              "      <td>6000.000000</td>\n",
              "      <td>6000.000000</td>\n",
              "      <td>6000.000000</td>\n",
              "      <td>6000.000000</td>\n",
              "    </tr>\n",
              "    <tr>\n",
              "      <th>1</th>\n",
              "      <td>6000.0</td>\n",
              "      <td>6000.000000</td>\n",
              "      <td>6000.000000</td>\n",
              "      <td>5999.257275</td>\n",
              "      <td>6000.000000</td>\n",
              "    </tr>\n",
              "    <tr>\n",
              "      <th>2</th>\n",
              "      <td>6000.0</td>\n",
              "      <td>6000.000000</td>\n",
              "      <td>5999.999534</td>\n",
              "      <td>5998.515483</td>\n",
              "      <td>5999.999534</td>\n",
              "    </tr>\n",
              "    <tr>\n",
              "      <th>3</th>\n",
              "      <td>6000.0</td>\n",
              "      <td>6000.000000</td>\n",
              "      <td>5999.998602</td>\n",
              "      <td>5997.774621</td>\n",
              "      <td>5999.998602</td>\n",
              "    </tr>\n",
              "    <tr>\n",
              "      <th>4</th>\n",
              "      <td>6000.0</td>\n",
              "      <td>5999.999999</td>\n",
              "      <td>5999.997207</td>\n",
              "      <td>5997.034689</td>\n",
              "      <td>5999.997206</td>\n",
              "    </tr>\n",
              "    <tr>\n",
              "      <th>...</th>\n",
              "      <td>...</td>\n",
              "      <td>...</td>\n",
              "      <td>...</td>\n",
              "      <td>...</td>\n",
              "      <td>...</td>\n",
              "    </tr>\n",
              "    <tr>\n",
              "      <th>8757</th>\n",
              "      <td>6000.0</td>\n",
              "      <td>5482.235609</td>\n",
              "      <td>4884.225152</td>\n",
              "      <td>4135.398963</td>\n",
              "      <td>4366.460761</td>\n",
              "    </tr>\n",
              "    <tr>\n",
              "      <th>8758</th>\n",
              "      <td>6000.0</td>\n",
              "      <td>5482.185232</td>\n",
              "      <td>4884.130471</td>\n",
              "      <td>4135.271401</td>\n",
              "      <td>4366.315703</td>\n",
              "    </tr>\n",
              "    <tr>\n",
              "      <th>8759</th>\n",
              "      <td>6000.0</td>\n",
              "      <td>5482.134858</td>\n",
              "      <td>4884.035798</td>\n",
              "      <td>4135.143848</td>\n",
              "      <td>4366.170656</td>\n",
              "    </tr>\n",
              "    <tr>\n",
              "      <th>8760</th>\n",
              "      <td>6000.0</td>\n",
              "      <td>5482.084488</td>\n",
              "      <td>4883.941132</td>\n",
              "      <td>4135.016304</td>\n",
              "      <td>4366.025620</td>\n",
              "    </tr>\n",
              "    <tr>\n",
              "      <th>8761</th>\n",
              "      <td>6000.0</td>\n",
              "      <td>5482.034122</td>\n",
              "      <td>4883.846473</td>\n",
              "      <td>4134.888770</td>\n",
              "      <td>4365.880596</td>\n",
              "    </tr>\n",
              "  </tbody>\n",
              "</table>\n",
              "<p>8762 rows × 5 columns</p>\n",
              "</div>"
            ],
            "text/plain": [
              "           0            1            2            3            4\n",
              "0     6000.0  6000.000000  6000.000000  6000.000000  6000.000000\n",
              "1     6000.0  6000.000000  6000.000000  5999.257275  6000.000000\n",
              "2     6000.0  6000.000000  5999.999534  5998.515483  5999.999534\n",
              "3     6000.0  6000.000000  5999.998602  5997.774621  5999.998602\n",
              "4     6000.0  5999.999999  5999.997207  5997.034689  5999.997206\n",
              "...      ...          ...          ...          ...          ...\n",
              "8757  6000.0  5482.235609  4884.225152  4135.398963  4366.460761\n",
              "8758  6000.0  5482.185232  4884.130471  4135.271401  4366.315703\n",
              "8759  6000.0  5482.134858  4884.035798  4135.143848  4366.170656\n",
              "8760  6000.0  5482.084488  4883.941132  4135.016304  4366.025620\n",
              "8761  6000.0  5482.034122  4883.846473  4134.888770  4365.880596\n",
              "\n",
              "[8762 rows x 5 columns]"
            ]
          },
          "metadata": {
            "tags": []
          },
          "execution_count": 20
        }
      ]
    },
    {
      "cell_type": "markdown",
      "metadata": {
        "id": "BA59xVw2RLdf",
        "colab_type": "text"
      },
      "source": [
        "#Let's Apply machine learning to it now."
      ]
    },
    {
      "cell_type": "code",
      "metadata": {
        "id": "yPMqu7tGR9Rn",
        "colab_type": "code",
        "colab": {}
      },
      "source": [
        "from sklearn import linear_model\n",
        "\n",
        "from sklearn.linear_model import LinearRegression"
      ],
      "execution_count": 32,
      "outputs": []
    },
    {
      "cell_type": "code",
      "metadata": {
        "id": "vq6HoGKUQxyG",
        "colab_type": "code",
        "colab": {}
      },
      "source": [
        "df = temp.copy()"
      ],
      "execution_count": 23,
      "outputs": []
    },
    {
      "cell_type": "code",
      "metadata": {
        "id": "Wo6QLW91R7zV",
        "colab_type": "code",
        "colab": {}
      },
      "source": [
        "df.columns = ['Block0','Block1','Block2','Block3','Block4']"
      ],
      "execution_count": 25,
      "outputs": []
    },
    {
      "cell_type": "code",
      "metadata": {
        "id": "uCHKpHEISHLw",
        "colab_type": "code",
        "colab": {}
      },
      "source": [
        "X = df[[ 'Block1', 'Block2', 'Block4']]\n",
        "\n",
        "y = df['Block3']"
      ],
      "execution_count": 76,
      "outputs": []
    },
    {
      "cell_type": "code",
      "metadata": {
        "id": "bxZ8QiMCTq7_",
        "colab_type": "code",
        "colab": {}
      },
      "source": [
        "from sklearn.model_selection import train_test_split"
      ],
      "execution_count": 77,
      "outputs": []
    },
    {
      "cell_type": "code",
      "metadata": {
        "id": "gLVBD7fHT8So",
        "colab_type": "code",
        "colab": {}
      },
      "source": [
        "X_train, X_test, y_train, y_test = train_test_split(X, y, test_size=0.3, random_state=101)"
      ],
      "execution_count": 41,
      "outputs": []
    },
    {
      "cell_type": "code",
      "metadata": {
        "id": "BAR8ulb9SXki",
        "colab_type": "code",
        "colab": {}
      },
      "source": [
        "lm = LinearRegression()"
      ],
      "execution_count": 42,
      "outputs": []
    },
    {
      "cell_type": "code",
      "metadata": {
        "id": "6eY6Rt4qSmOi",
        "colab_type": "code",
        "colab": {
          "base_uri": "https://localhost:8080/",
          "height": 35
        },
        "outputId": "be97f186-41da-4b61-c6f8-9407e5864d58"
      },
      "source": [
        "lm.fit(X_train,y_train)"
      ],
      "execution_count": 43,
      "outputs": [
        {
          "output_type": "execute_result",
          "data": {
            "text/plain": [
              "LinearRegression(copy_X=True, fit_intercept=True, n_jobs=None, normalize=False)"
            ]
          },
          "metadata": {
            "tags": []
          },
          "execution_count": 43
        }
      ]
    },
    {
      "cell_type": "code",
      "metadata": {
        "id": "4O2e-CdnUDYN",
        "colab_type": "code",
        "colab": {
          "base_uri": "https://localhost:8080/",
          "height": 54
        },
        "outputId": "671d979b-4955-4a23-d18d-c5636a3ca14c"
      },
      "source": [
        "# The coefficients\n",
        "print('Coefficients: \\n', lm.coef_)"
      ],
      "execution_count": 44,
      "outputs": [
        {
          "output_type": "stream",
          "text": [
            "Coefficients: \n",
            " [ 0.00000000e+00  7.77796549e+11  7.77796549e+11 -7.77796549e+11]\n"
          ],
          "name": "stdout"
        }
      ]
    },
    {
      "cell_type": "code",
      "metadata": {
        "id": "_rI2OyqiUGPy",
        "colab_type": "code",
        "colab": {}
      },
      "source": [
        "y_p = lm.predict( X_test)"
      ],
      "execution_count": 62,
      "outputs": []
    },
    {
      "cell_type": "code",
      "metadata": {
        "id": "2ztmm1vfUNWs",
        "colab_type": "code",
        "colab": {
          "base_uri": "https://localhost:8080/",
          "height": 388
        },
        "outputId": "ed2b3c36-4a4b-42b0-e372-270009e8ab52"
      },
      "source": [
        "plt.figure(figsize=(12,4))\n",
        "\n",
        "plt.style.use('default')\n",
        "\n",
        "plt.plot(y_test,y_p)\n",
        "plt.xlabel('Y Test')\n",
        "plt.ylabel('Predicted Y')\n",
        "\n",
        "plt.grid()"
      ],
      "execution_count": 63,
      "outputs": [
        {
          "output_type": "display_data",
          "data": {
            "image/png": "[encoded data removed]",
            "text/plain": [
              "<Figure size 1200x400 with 1 Axes>"
            ]
          },
          "metadata": {
            "tags": []
          }
        }
      ]
    },
    {
      "cell_type": "code",
      "metadata": {
        "id": "PBEXlkI8URMl",
        "colab_type": "code",
        "colab": {
          "base_uri": "https://localhost:8080/",
          "height": 72
        },
        "outputId": "6f57a2c0-0692-449f-d309-2ebeca986c4b"
      },
      "source": [
        "# calculate these metrics by hand!\n",
        "from sklearn import metrics\n",
        "\n",
        "print('MAE:', metrics.mean_absolute_error(y_test, y_p))\n",
        "print('MSE:', metrics.mean_squared_error(y_test, y_p))\n",
        "print('RMSE:', np.sqrt(metrics.mean_squared_error(y_test, y_p)))"
      ],
      "execution_count": 65,
      "outputs": [
        {
          "output_type": "stream",
          "text": [
            "MAE: 12.39610236638533\n",
            "MSE: 333.5549822112349\n",
            "RMSE: 18.26348767928062\n"
          ],
          "name": "stdout"
        }
      ]
    },
    {
      "cell_type": "code",
      "metadata": {
        "id": "Db0svBdiXO_j",
        "colab_type": "code",
        "colab": {}
      },
      "source": [
        "m_a_e = metrics.mean_absolute_error(y_test, y_p)\n",
        "m_s_e =  metrics.mean_squared_error(y_test, y_p)\n",
        "\n",
        "r_m_s_e =  np.sqrt(m_s_e)"
      ],
      "execution_count": 71,
      "outputs": []
    },
    {
      "cell_type": "code",
      "metadata": {
        "id": "n2hVsVE-XbCM",
        "colab_type": "code",
        "colab": {}
      },
      "source": [
        "d = {'Metrics':['Mean Absolute Error(Psi)', 'Mean Squared Error', 'Root Mean Sq. Error(Psi)'],\n",
        "     'Values':[m_a_e,m_s_e,r_m_s_e]}\n",
        "\n",
        "err = pd.DataFrame(d)"
      ],
      "execution_count": 72,
      "outputs": []
    },
    {
      "cell_type": "code",
      "metadata": {
        "id": "mba_OPeOX7ud",
        "colab_type": "code",
        "colab": {
          "base_uri": "https://localhost:8080/",
          "height": 138
        },
        "outputId": "9ae0f53c-2356-4d7c-bcec-949389adb278"
      },
      "source": [
        "err"
      ],
      "execution_count": 73,
      "outputs": [
        {
          "output_type": "execute_result",
          "data": {
            "text/html": [
              "<div>\n",
              "<style scoped>\n",
              "    .dataframe tbody tr th:only-of-type {\n",
              "        vertical-align: middle;\n",
              "    }\n",
              "\n",
              "    .dataframe tbody tr th {\n",
              "        vertical-align: top;\n",
              "    }\n",
              "\n",
              "    .dataframe thead th {\n",
              "        text-align: right;\n",
              "    }\n",
              "</style>\n",
              "<table border=\"1\" class=\"dataframe\">\n",
              "  <thead>\n",
              "    <tr style=\"text-align: right;\">\n",
              "      <th></th>\n",
              "      <th>Metrics</th>\n",
              "      <th>Values</th>\n",
              "    </tr>\n",
              "  </thead>\n",
              "  <tbody>\n",
              "    <tr>\n",
              "      <th>0</th>\n",
              "      <td>Mean Absolute Error(Psi)</td>\n",
              "      <td>12.396102</td>\n",
              "    </tr>\n",
              "    <tr>\n",
              "      <th>1</th>\n",
              "      <td>Mean Squared Error</td>\n",
              "      <td>333.554982</td>\n",
              "    </tr>\n",
              "    <tr>\n",
              "      <th>2</th>\n",
              "      <td>Root Mean Sq. Error(Psi)</td>\n",
              "      <td>18.263488</td>\n",
              "    </tr>\n",
              "  </tbody>\n",
              "</table>\n",
              "</div>"
            ],
            "text/plain": [
              "                    Metrics      Values\n",
              "0  Mean Absolute Error(Psi)   12.396102\n",
              "1        Mean Squared Error  333.554982\n",
              "2  Root Mean Sq. Error(Psi)   18.263488"
            ]
          },
          "metadata": {
            "tags": []
          },
          "execution_count": 73
        }
      ]
    },
    {
      "cell_type": "code",
      "metadata": {
        "id": "gYxjUlKdVHff",
        "colab_type": "code",
        "colab": {}
      },
      "source": [
        "# coeffecients = pd.DataFrame(lm.coef_,X.columns)\n",
        "# coeffecients.columns = ['Coeffecient']\n",
        "# coeffecients"
      ],
      "execution_count": 80,
      "outputs": []
    },
    {
      "cell_type": "code",
      "metadata": {
        "id": "ZBHqpuEYVX5P",
        "colab_type": "code",
        "colab": {}
      },
      "source": [
        "#Mock Predictions\n"
      ],
      "execution_count": 79,
      "outputs": []
    },
    {
      "cell_type": "code",
      "metadata": {
        "id": "dI2LuCxSYhVz",
        "colab_type": "code",
        "colab": {}
      },
      "source": [
        "# prediction"
      ],
      "execution_count": 78,
      "outputs": []
    },
    {
      "cell_type": "code",
      "metadata": {
        "id": "cvmv-sKuYi5R",
        "colab_type": "code",
        "colab": {}
      },
      "source": [
        ""
      ],
      "execution_count": null,
      "outputs": []
    }
  ]
}