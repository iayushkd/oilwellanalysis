{
  "nbformat": 4,
  "nbformat_minor": 0,
  "metadata": {
    "colab": {
      "name": "InteractiveWF.ipynb",
      "provenance": [],
      "authorship_tag": "ABX9TyPc9jn/3iym9uERAdEyOiZQ",
      "include_colab_link": true
    },
    "kernelspec": {
      "name": "python3",
      "display_name": "Python 3"
    },
    "widgets": {
      "application/vnd.jupyter.widget-state+json": {
        "3a722e15f8ca4d2893dbf72d1ac374e9": {
          "model_module": "@jupyter-widgets/controls",
          "model_name": "VBoxModel",
          "state": {
            "_view_name": "VBoxView",
            "_dom_classes": [
              "widget-interact"
            ],
            "_model_name": "VBoxModel",
            "_view_module": "@jupyter-widgets/controls",
            "_model_module_version": "1.5.0",
            "_view_count": null,
            "_view_module_version": "1.5.0",
            "box_style": "",
            "layout": "IPY_MODEL_b2dad1a8bf714bd28fdefee1edc14fb8",
            "_model_module": "@jupyter-widgets/controls",
            "children": [
              "IPY_MODEL_39f803a1945443a1a344afaa8208c39a",
              "IPY_MODEL_298fc22cc274471da5224c41ce40a193",
              "IPY_MODEL_0fa40e5f9c5d400eab325ed9ee3900c4"
            ]
          }
        },
        "b2dad1a8bf714bd28fdefee1edc14fb8": {
          "model_module": "@jupyter-widgets/base",
          "model_name": "LayoutModel",
          "state": {
            "_view_name": "LayoutView",
            "grid_template_rows": null,
            "right": null,
            "justify_content": null,
            "_view_module": "@jupyter-widgets/base",
            "overflow": null,
            "_model_module_version": "1.2.0",
            "_view_count": null,
            "flex_flow": null,
            "width": null,
            "min_width": null,
            "border": null,
            "align_items": null,
            "bottom": null,
            "_model_module": "@jupyter-widgets/base",
            "top": null,
            "grid_column": null,
            "overflow_y": null,
            "overflow_x": null,
            "grid_auto_flow": null,
            "grid_area": null,
            "grid_template_columns": null,
            "flex": null,
            "_model_name": "LayoutModel",
            "justify_items": null,
            "grid_row": null,
            "max_height": null,
            "align_content": null,
            "visibility": null,
            "align_self": null,
            "height": null,
            "min_height": null,
            "padding": null,
            "grid_auto_rows": null,
            "grid_gap": null,
            "max_width": null,
            "order": null,
            "_view_module_version": "1.2.0",
            "grid_template_areas": null,
            "object_position": null,
            "object_fit": null,
            "grid_auto_columns": null,
            "margin": null,
            "display": null,
            "left": null
          }
        },
        "39f803a1945443a1a344afaa8208c39a": {
          "model_module": "@jupyter-widgets/controls",
          "model_name": "IntSliderModel",
          "state": {
            "_view_name": "IntSliderView",
            "style": "IPY_MODEL_f129529d1f3e433b94c4878b84bff2df",
            "_dom_classes": [],
            "description": "muo",
            "step": 1,
            "_model_name": "IntSliderModel",
            "orientation": "horizontal",
            "max": 1000,
            "_view_module": "@jupyter-widgets/controls",
            "_model_module_version": "1.5.0",
            "value": 1000,
            "_view_count": null,
            "disabled": false,
            "_view_module_version": "1.5.0",
            "min": 100,
            "continuous_update": true,
            "readout_format": "d",
            "description_tooltip": null,
            "readout": true,
            "_model_module": "@jupyter-widgets/controls",
            "layout": "IPY_MODEL_d0925a376cf1474f828c02dd1236efc5"
          }
        },
        "298fc22cc274471da5224c41ce40a193": {
          "model_module": "@jupyter-widgets/controls",
          "model_name": "IntSliderModel",
          "state": {
            "_view_name": "IntSliderView",
            "style": "IPY_MODEL_ce585289fb2a4009832d01991af9227c",
            "_dom_classes": [],
            "description": "muw",
            "step": 1,
            "_model_name": "IntSliderModel",
            "orientation": "horizontal",
            "max": 100,
            "_view_module": "@jupyter-widgets/controls",
            "_model_module_version": "1.5.0",
            "value": 16,
            "_view_count": null,
            "disabled": false,
            "_view_module_version": "1.5.0",
            "min": 1,
            "continuous_update": true,
            "readout_format": "d",
            "description_tooltip": null,
            "readout": true,
            "_model_module": "@jupyter-widgets/controls",
            "layout": "IPY_MODEL_e8101fabd6744d5b8f4249786ad43a85"
          }
        },
        "0fa40e5f9c5d400eab325ed9ee3900c4": {
          "model_module": "@jupyter-widgets/output",
          "model_name": "OutputModel",
          "state": {
            "_view_name": "OutputView",
            "msg_id": "",
            "_dom_classes": [],
            "_model_name": "OutputModel",
            "outputs": [
              {
                "output_type": "display_data",
                "metadata": {
                  "tags": [],
                  "needs_background": "light"
                },
                "image/png": "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\n",
                "text/plain": "<Figure size 864x432 with 1 Axes>"
              }
            ],
            "_view_module": "@jupyter-widgets/output",
            "_model_module_version": "1.0.0",
            "_view_count": null,
            "_view_module_version": "1.0.0",
            "layout": "IPY_MODEL_0cd33be2b585483aab9122dc53af9c13",
            "_model_module": "@jupyter-widgets/output"
          }
        },
        "f129529d1f3e433b94c4878b84bff2df": {
          "model_module": "@jupyter-widgets/controls",
          "model_name": "SliderStyleModel",
          "state": {
            "_view_name": "StyleView",
            "handle_color": null,
            "_model_name": "SliderStyleModel",
            "description_width": "",
            "_view_module": "@jupyter-widgets/base",
            "_model_module_version": "1.5.0",
            "_view_count": null,
            "_view_module_version": "1.2.0",
            "_model_module": "@jupyter-widgets/controls"
          }
        },
        "d0925a376cf1474f828c02dd1236efc5": {
          "model_module": "@jupyter-widgets/base",
          "model_name": "LayoutModel",
          "state": {
            "_view_name": "LayoutView",
            "grid_template_rows": null,
            "right": null,
            "justify_content": null,
            "_view_module": "@jupyter-widgets/base",
            "overflow": null,
            "_model_module_version": "1.2.0",
            "_view_count": null,
            "flex_flow": null,
            "width": null,
            "min_width": null,
            "border": null,
            "align_items": null,
            "bottom": null,
            "_model_module": "@jupyter-widgets/base",
            "top": null,
            "grid_column": null,
            "overflow_y": null,
            "overflow_x": null,
            "grid_auto_flow": null,
            "grid_area": null,
            "grid_template_columns": null,
            "flex": null,
            "_model_name": "LayoutModel",
            "justify_items": null,
            "grid_row": null,
            "max_height": null,
            "align_content": null,
            "visibility": null,
            "align_self": null,
            "height": null,
            "min_height": null,
            "padding": null,
            "grid_auto_rows": null,
            "grid_gap": null,
            "max_width": null,
            "order": null,
            "_view_module_version": "1.2.0",
            "grid_template_areas": null,
            "object_position": null,
            "object_fit": null,
            "grid_auto_columns": null,
            "margin": null,
            "display": null,
            "left": null
          }
        },
        "ce585289fb2a4009832d01991af9227c": {
          "model_module": "@jupyter-widgets/controls",
          "model_name": "SliderStyleModel",
          "state": {
            "_view_name": "StyleView",
            "handle_color": null,
            "_model_name": "SliderStyleModel",
            "description_width": "",
            "_view_module": "@jupyter-widgets/base",
            "_model_module_version": "1.5.0",
            "_view_count": null,
            "_view_module_version": "1.2.0",
            "_model_module": "@jupyter-widgets/controls"
          }
        },
        "e8101fabd6744d5b8f4249786ad43a85": {
          "model_module": "@jupyter-widgets/base",
          "model_name": "LayoutModel",
          "state": {
            "_view_name": "LayoutView",
            "grid_template_rows": null,
            "right": null,
            "justify_content": null,
            "_view_module": "@jupyter-widgets/base",
            "overflow": null,
            "_model_module_version": "1.2.0",
            "_view_count": null,
            "flex_flow": null,
            "width": null,
            "min_width": null,
            "border": null,
            "align_items": null,
            "bottom": null,
            "_model_module": "@jupyter-widgets/base",
            "top": null,
            "grid_column": null,
            "overflow_y": null,
            "overflow_x": null,
            "grid_auto_flow": null,
            "grid_area": null,
            "grid_template_columns": null,
            "flex": null,
            "_model_name": "LayoutModel",
            "justify_items": null,
            "grid_row": null,
            "max_height": null,
            "align_content": null,
            "visibility": null,
            "align_self": null,
            "height": null,
            "min_height": null,
            "padding": null,
            "grid_auto_rows": null,
            "grid_gap": null,
            "max_width": null,
            "order": null,
            "_view_module_version": "1.2.0",
            "grid_template_areas": null,
            "object_position": null,
            "object_fit": null,
            "grid_auto_columns": null,
            "margin": null,
            "display": null,
            "left": null
          }
        },
        "0cd33be2b585483aab9122dc53af9c13": {
          "model_module": "@jupyter-widgets/base",
          "model_name": "LayoutModel",
          "state": {
            "_view_name": "LayoutView",
            "grid_template_rows": null,
            "right": null,
            "justify_content": null,
            "_view_module": "@jupyter-widgets/base",
            "overflow": null,
            "_model_module_version": "1.2.0",
            "_view_count": null,
            "flex_flow": null,
            "width": null,
            "min_width": null,
            "border": null,
            "align_items": null,
            "bottom": null,
            "_model_module": "@jupyter-widgets/base",
            "top": null,
            "grid_column": null,
            "overflow_y": null,
            "overflow_x": null,
            "grid_auto_flow": null,
            "grid_area": null,
            "grid_template_columns": null,
            "flex": null,
            "_model_name": "LayoutModel",
            "justify_items": null,
            "grid_row": null,
            "max_height": null,
            "align_content": null,
            "visibility": null,
            "align_self": null,
            "height": null,
            "min_height": null,
            "padding": null,
            "grid_auto_rows": null,
            "grid_gap": null,
            "max_width": null,
            "order": null,
            "_view_module_version": "1.2.0",
            "grid_template_areas": null,
            "object_position": null,
            "object_fit": null,
            "grid_auto_columns": null,
            "margin": null,
            "display": null,
            "left": null
          }
        },
        "1c2337d9186b4bf8b9588511fe4b1eef": {
          "model_module": "@jupyter-widgets/controls",
          "model_name": "VBoxModel",
          "state": {
            "_view_name": "VBoxView",
            "_dom_classes": [
              "widget-interact"
            ],
            "_model_name": "VBoxModel",
            "_view_module": "@jupyter-widgets/controls",
            "_model_module_version": "1.5.0",
            "_view_count": null,
            "_view_module_version": "1.5.0",
            "box_style": "",
            "layout": "IPY_MODEL_01b4f23cc55348d3ab1fbcc747a26743",
            "_model_module": "@jupyter-widgets/controls",
            "children": [
              "IPY_MODEL_f5d8719c30444672a057bf65ed852259",
              "IPY_MODEL_2f793368cb094fe1965c5d6499b09a9c"
            ]
          }
        },
        "01b4f23cc55348d3ab1fbcc747a26743": {
          "model_module": "@jupyter-widgets/base",
          "model_name": "LayoutModel",
          "state": {
            "_view_name": "LayoutView",
            "grid_template_rows": null,
            "right": null,
            "justify_content": null,
            "_view_module": "@jupyter-widgets/base",
            "overflow": null,
            "_model_module_version": "1.2.0",
            "_view_count": null,
            "flex_flow": null,
            "width": null,
            "min_width": null,
            "border": null,
            "align_items": null,
            "bottom": null,
            "_model_module": "@jupyter-widgets/base",
            "top": null,
            "grid_column": null,
            "overflow_y": null,
            "overflow_x": null,
            "grid_auto_flow": null,
            "grid_area": null,
            "grid_template_columns": null,
            "flex": null,
            "_model_name": "LayoutModel",
            "justify_items": null,
            "grid_row": null,
            "max_height": null,
            "align_content": null,
            "visibility": null,
            "align_self": null,
            "height": null,
            "min_height": null,
            "padding": null,
            "grid_auto_rows": null,
            "grid_gap": null,
            "max_width": null,
            "order": null,
            "_view_module_version": "1.2.0",
            "grid_template_areas": null,
            "object_position": null,
            "object_fit": null,
            "grid_auto_columns": null,
            "margin": null,
            "display": null,
            "left": null
          }
        },
        "f5d8719c30444672a057bf65ed852259": {
          "model_module": "@jupyter-widgets/controls",
          "model_name": "IntSliderModel",
          "state": {
            "_view_name": "IntSliderView",
            "style": "IPY_MODEL_d48840f2dcc4457ca49de7df7926831d",
            "_dom_classes": [],
            "description": "n",
            "step": 1,
            "_model_name": "IntSliderModel",
            "orientation": "horizontal",
            "max": 10,
            "_view_module": "@jupyter-widgets/controls",
            "_model_module_version": "1.5.0",
            "value": 8,
            "_view_count": null,
            "disabled": false,
            "_view_module_version": "1.5.0",
            "min": 0,
            "continuous_update": true,
            "readout_format": "d",
            "description_tooltip": null,
            "readout": true,
            "_model_module": "@jupyter-widgets/controls",
            "layout": "IPY_MODEL_cff1ac4e4eec4957b98fbbf79226fe11"
          }
        },
        "2f793368cb094fe1965c5d6499b09a9c": {
          "model_module": "@jupyter-widgets/output",
          "model_name": "OutputModel",
          "state": {
            "_view_name": "OutputView",
            "msg_id": "",
            "_dom_classes": [],
            "_model_name": "OutputModel",
            "outputs": [
              {
                "output_type": "display_data",
                "metadata": {
                  "tags": []
                },
                "image/png": "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\n",
                "text/plain": "<Figure size 640x480 with 1 Axes>"
              }
            ],
            "_view_module": "@jupyter-widgets/output",
            "_model_module_version": "1.0.0",
            "_view_count": null,
            "_view_module_version": "1.0.0",
            "layout": "IPY_MODEL_4873c9e2588a4f20a7db842ba51fcc72",
            "_model_module": "@jupyter-widgets/output"
          }
        },
        "d48840f2dcc4457ca49de7df7926831d": {
          "model_module": "@jupyter-widgets/controls",
          "model_name": "SliderStyleModel",
          "state": {
            "_view_name": "StyleView",
            "handle_color": null,
            "_model_name": "SliderStyleModel",
            "description_width": "",
            "_view_module": "@jupyter-widgets/base",
            "_model_module_version": "1.5.0",
            "_view_count": null,
            "_view_module_version": "1.2.0",
            "_model_module": "@jupyter-widgets/controls"
          }
        },
        "cff1ac4e4eec4957b98fbbf79226fe11": {
          "model_module": "@jupyter-widgets/base",
          "model_name": "LayoutModel",
          "state": {
            "_view_name": "LayoutView",
            "grid_template_rows": null,
            "right": null,
            "justify_content": null,
            "_view_module": "@jupyter-widgets/base",
            "overflow": null,
            "_model_module_version": "1.2.0",
            "_view_count": null,
            "flex_flow": null,
            "width": null,
            "min_width": null,
            "border": null,
            "align_items": null,
            "bottom": null,
            "_model_module": "@jupyter-widgets/base",
            "top": null,
            "grid_column": null,
            "overflow_y": null,
            "overflow_x": null,
            "grid_auto_flow": null,
            "grid_area": null,
            "grid_template_columns": null,
            "flex": null,
            "_model_name": "LayoutModel",
            "justify_items": null,
            "grid_row": null,
            "max_height": null,
            "align_content": null,
            "visibility": null,
            "align_self": null,
            "height": null,
            "min_height": null,
            "padding": null,
            "grid_auto_rows": null,
            "grid_gap": null,
            "max_width": null,
            "order": null,
            "_view_module_version": "1.2.0",
            "grid_template_areas": null,
            "object_position": null,
            "object_fit": null,
            "grid_auto_columns": null,
            "margin": null,
            "display": null,
            "left": null
          }
        },
        "4873c9e2588a4f20a7db842ba51fcc72": {
          "model_module": "@jupyter-widgets/base",
          "model_name": "LayoutModel",
          "state": {
            "_view_name": "LayoutView",
            "grid_template_rows": null,
            "right": null,
            "justify_content": null,
            "_view_module": "@jupyter-widgets/base",
            "overflow": null,
            "_model_module_version": "1.2.0",
            "_view_count": null,
            "flex_flow": null,
            "width": null,
            "min_width": null,
            "border": null,
            "align_items": null,
            "bottom": null,
            "_model_module": "@jupyter-widgets/base",
            "top": null,
            "grid_column": null,
            "overflow_y": null,
            "overflow_x": null,
            "grid_auto_flow": null,
            "grid_area": null,
            "grid_template_columns": null,
            "flex": null,
            "_model_name": "LayoutModel",
            "justify_items": null,
            "grid_row": null,
            "max_height": null,
            "align_content": null,
            "visibility": null,
            "align_self": null,
            "height": null,
            "min_height": null,
            "padding": null,
            "grid_auto_rows": null,
            "grid_gap": null,
            "max_width": null,
            "order": null,
            "_view_module_version": "1.2.0",
            "grid_template_areas": null,
            "object_position": null,
            "object_fit": null,
            "grid_auto_columns": null,
            "margin": null,
            "display": null,
            "left": null
          }
        }
      }
    }
  },
  "cells": [
    {
      "cell_type": "markdown",
      "metadata": {
        "id": "view-in-github",
        "colab_type": "text"
      },
      "source": [
        "<a href=\"https://colab.research.google.com/github/Divyanshu-ISM/Oil-and-Gas-data-analysis/blob/master/InteractiveWF.ipynb\" target=\"_parent\"><img src=\"https://colab.research.google.com/assets/colab-badge.svg\" alt=\"Open In Colab\"/></a>"
      ]
    },
    {
      "cell_type": "code",
      "metadata": {
        "id": "7rPJ2JThnPYD",
        "colab_type": "code",
        "colab": {}
      },
      "source": [
        "import numpy as np\n",
        "import matplotlib.pyplot as plt\n",
        "%matplotlib inline"
      ],
      "execution_count": 1,
      "outputs": []
    },
    {
      "cell_type": "code",
      "metadata": {
        "id": "PcFOti1anaw_",
        "colab_type": "code",
        "colab": {}
      },
      "source": [
        "from ipywidgets import interact, interactive\n",
        "from IPython.display import clear_output, display, HTML"
      ],
      "execution_count": 2,
      "outputs": []
    },
    {
      "cell_type": "code",
      "metadata": {
        "id": "DBnF-7qlnvY8",
        "colab_type": "code",
        "colab": {}
      },
      "source": [
        "def fracflow(muo,muw):\n",
        "\n",
        "  sw = np.linspace(0.01,1.01,50)\n",
        "\n",
        "  krw = sw**3\n",
        "  kro = (1-sw)**3\n",
        "\n",
        "  M = (krw/muw)/(kro/muo)\n",
        "\n",
        "  fw = 1/(1+(1/M))\n",
        "\n",
        "  dy = np.diff(fw)\n",
        "  dx = np.diff(sw)\n",
        "\n",
        "  m = dy/dx\n",
        "  tgt = max(m)\n",
        "\n",
        "  sw1 = sw[1:]\n",
        "  x_max = sw1[np.where(m==tgt)]\n",
        "\n",
        " \n",
        "\n",
        "  #plottling\n",
        "  # plt.style.use('default')\n",
        "  plt.figure(figsize=(12,6))\n",
        "\n",
        "  plt.plot(sw,fw,linewidth=1,marker='o',color='red')\n",
        "  plt.axvline(x = x_max,linewidth=3,color='green')\n",
        "  # plt.plot(sw[1:],m/tgt)\n",
        "\n",
        "  plt.xlabel('Recovery %')\n",
        "  plt.ylabel('Water-cut,fw')\n",
        "\n",
        "  plt.xlim(0,1)\n",
        "  plt.ylim(0,1)\n",
        "\n",
        "  plt.title('Variation of RF with Moblity ratio')\n",
        "  plt.grid()\n",
        "\n",
        "  # plt.legend(loc='best')\n",
        "\n",
        "  return sw,fw\n"
      ],
      "execution_count": 41,
      "outputs": []
    },
    {
      "cell_type": "code",
      "metadata": {
        "id": "Ki4WU21Fo-e1",
        "colab_type": "code",
        "colab": {}
      },
      "source": [
        "w = interactive(fracflow,muw=(1,100),muo=(100,1000))"
      ],
      "execution_count": 42,
      "outputs": []
    },
    {
      "cell_type": "code",
      "metadata": {
        "id": "n3vwwMUkpb2-",
        "colab_type": "code",
        "colab": {
          "base_uri": "https://localhost:8080/",
          "height": 468,
          "referenced_widgets": [
            "3a722e15f8ca4d2893dbf72d1ac374e9",
            "b2dad1a8bf714bd28fdefee1edc14fb8",
            "39f803a1945443a1a344afaa8208c39a",
            "298fc22cc274471da5224c41ce40a193",
            "0fa40e5f9c5d400eab325ed9ee3900c4",
            "f129529d1f3e433b94c4878b84bff2df",
            "d0925a376cf1474f828c02dd1236efc5",
            "ce585289fb2a4009832d01991af9227c",
            "e8101fabd6744d5b8f4249786ad43a85",
            "0cd33be2b585483aab9122dc53af9c13"
          ]
        },
        "outputId": "4dcb4f48-77d9-4b19-f51e-6b220ba701e2"
      },
      "source": [
        "display(w)"
      ],
      "execution_count": 43,
      "outputs": [
        {
          "output_type": "display_data",
          "data": {
            "application/vnd.jupyter.widget-view+json": {
              "model_id": "3a722e15f8ca4d2893dbf72d1ac374e9",
              "version_minor": 0,
              "version_major": 2
            },
            "text/plain": [
              "interactive(children=(IntSlider(value=550, description='muo', max=1000, min=100), IntSlider(value=50, descript…"
            ]
          },
          "metadata": {
            "tags": []
          }
        }
      ]
    },
    {
      "cell_type": "code",
      "metadata": {
        "id": "3sCJusE9piSd",
        "colab_type": "code",
        "colab": {
          "base_uri": "https://localhost:8080/",
          "height": 467,
          "referenced_widgets": [
            "1c2337d9186b4bf8b9588511fe4b1eef",
            "01b4f23cc55348d3ab1fbcc747a26743",
            "f5d8719c30444672a057bf65ed852259",
            "2f793368cb094fe1965c5d6499b09a9c",
            "d48840f2dcc4457ca49de7df7926831d",
            "cff1ac4e4eec4957b98fbbf79226fe11",
            "4873c9e2588a4f20a7db842ba51fcc72"
          ]
        },
        "outputId": "a20fe638-8d1b-4c3e-82c5-71d91ff0beaf"
      },
      "source": [
        "# def powerer(n):\n",
        "#   x = np.linspace(0,10)\n",
        "#   y = x**n\n",
        "#   plt.plot(x,y,linewidth=3)\n",
        "\n",
        "#   plt.xlim(0,100)\n",
        "\n",
        "#   plt.ylim(0,1000)\n",
        "#   # plt.show()\n",
        "#   return x,y\n",
        "\n",
        "\n",
        "# w5 = interactive(powerer, n = (0,10))\n",
        "\n",
        "\n",
        "# display(w5)"
      ],
      "execution_count": null,
      "outputs": [
        {
          "output_type": "display_data",
          "data": {
            "application/vnd.jupyter.widget-view+json": {
              "model_id": "1c2337d9186b4bf8b9588511fe4b1eef",
              "version_minor": 0,
              "version_major": 2
            },
            "text/plain": [
              "interactive(children=(IntSlider(value=5, description='n', max=10), Output()), _dom_classes=('widget-interact',…"
            ]
          },
          "metadata": {
            "tags": []
          }
        }
      ]
    },
    {
      "cell_type": "code",
      "metadata": {
        "id": "GBV6JJdUrKFR",
        "colab_type": "code",
        "colab": {}
      },
      "source": [
        ""
      ],
      "execution_count": null,
      "outputs": []
    }
  ]
}