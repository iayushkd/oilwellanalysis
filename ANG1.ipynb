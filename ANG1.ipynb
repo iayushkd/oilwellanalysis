{
  "nbformat": 4,
  "nbformat_minor": 0,
  "metadata": {
    "colab": {
      "name": "ANG1.ipynb",
      "provenance": [],
      "collapsed_sections": [],
      "authorship_tag": "ABX9TyOhnFEOsdst1vVT9nExarjK",
      "include_colab_link": true
    },
    "kernelspec": {
      "name": "python3",
      "display_name": "Python 3"
    }
  },
  "cells": [
    {
      "cell_type": "markdown",
      "metadata": {
        "id": "view-in-github",
        "colab_type": "text"
      },
      "source": [
        "<a href=\"https://colab.research.google.com/github/Divyanshu-ISM/Oil-and-Gas-data-analysis/blob/master/ANG1.ipynb\" target=\"_parent\"><img src=\"https://colab.research.google.com/assets/colab-badge.svg\" alt=\"Open In Colab\"/></a>"
      ]
    },
    {
      "cell_type": "markdown",
      "metadata": {
        "id": "MX2JQfK189kt",
        "colab_type": "text"
      },
      "source": [
        "#Excercise 1: Single variable(Feature) Linear Regression.\n",
        "\n",
        "##$ h_{\\theta}(x) = \\theta_{0} + \\theta_1(x1)$"
      ]
    },
    {
      "cell_type": "markdown",
      "metadata": {
        "id": "sMa19NAd9rRW",
        "colab_type": "text"
      },
      "source": [
        "###Dataset description - \n",
        "The first column is the population of a city and the second column is\n",
        "the profit of a food truck in that city. A negative value for profit indicates a\n",
        "loss.\n"
      ]
    },
    {
      "cell_type": "code",
      "metadata": {
        "id": "xFAfeQqe7d0c",
        "colab_type": "code",
        "colab": {}
      },
      "source": [
        "import numpy as np\n",
        "import pandas as pd\n",
        "import seaborn as sns\n",
        "import matplotlib.pyplot as plt\n",
        "%matplotlib inline"
      ],
      "execution_count": 72,
      "outputs": []
    },
    {
      "cell_type": "code",
      "metadata": {
        "id": "W_d3b2ZACIFB",
        "colab_type": "code",
        "colab": {}
      },
      "source": [
        "from mpl_toolkits.mplot3d import axes3d"
      ],
      "execution_count": 74,
      "outputs": []
    },
    {
      "cell_type": "markdown",
      "metadata": {
        "id": "KCqHtBdR-wH2",
        "colab_type": "text"
      },
      "source": [
        "#Part 1:- Importing and Visualization."
      ]
    },
    {
      "cell_type": "code",
      "metadata": {
        "id": "yDMMl8jg8xPC",
        "colab_type": "code",
        "colab": {}
      },
      "source": [
        "#Something New.\n",
        "sns.set(context=\"notebook\", style=\"whitegrid\", palette=\"dark\")"
      ],
      "execution_count": 75,
      "outputs": []
    },
    {
      "cell_type": "code",
      "metadata": {
        "id": "V0NBlpRM8Jjd",
        "colab_type": "code",
        "colab": {}
      },
      "source": [
        "#Import the dataframe. And give the column headings since csv doesn't have em.\n",
        "df = pd.read_csv('ex1data1.txt', names=['population', 'profit'])"
      ],
      "execution_count": 76,
      "outputs": []
    },
    {
      "cell_type": "code",
      "metadata": {
        "id": "DOisMED89e3I",
        "colab_type": "code",
        "colab": {
          "base_uri": "https://localhost:8080/",
          "height": 204
        },
        "outputId": "772b4c7f-cc87-4681-c385-8dcd97523920"
      },
      "source": [
        "df.head()"
      ],
      "execution_count": 77,
      "outputs": [
        {
          "output_type": "execute_result",
          "data": {
            "text/html": [
              "<div>\n",
              "<style scoped>\n",
              "    .dataframe tbody tr th:only-of-type {\n",
              "        vertical-align: middle;\n",
              "    }\n",
              "\n",
              "    .dataframe tbody tr th {\n",
              "        vertical-align: top;\n",
              "    }\n",
              "\n",
              "    .dataframe thead th {\n",
              "        text-align: right;\n",
              "    }\n",
              "</style>\n",
              "<table border=\"1\" class=\"dataframe\">\n",
              "  <thead>\n",
              "    <tr style=\"text-align: right;\">\n",
              "      <th></th>\n",
              "      <th>population</th>\n",
              "      <th>profit</th>\n",
              "    </tr>\n",
              "  </thead>\n",
              "  <tbody>\n",
              "    <tr>\n",
              "      <th>0</th>\n",
              "      <td>6.1101</td>\n",
              "      <td>17.5920</td>\n",
              "    </tr>\n",
              "    <tr>\n",
              "      <th>1</th>\n",
              "      <td>5.5277</td>\n",
              "      <td>9.1302</td>\n",
              "    </tr>\n",
              "    <tr>\n",
              "      <th>2</th>\n",
              "      <td>8.5186</td>\n",
              "      <td>13.6620</td>\n",
              "    </tr>\n",
              "    <tr>\n",
              "      <th>3</th>\n",
              "      <td>7.0032</td>\n",
              "      <td>11.8540</td>\n",
              "    </tr>\n",
              "    <tr>\n",
              "      <th>4</th>\n",
              "      <td>5.8598</td>\n",
              "      <td>6.8233</td>\n",
              "    </tr>\n",
              "  </tbody>\n",
              "</table>\n",
              "</div>"
            ],
            "text/plain": [
              "   population   profit\n",
              "0      6.1101  17.5920\n",
              "1      5.5277   9.1302\n",
              "2      8.5186  13.6620\n",
              "3      7.0032  11.8540\n",
              "4      5.8598   6.8233"
            ]
          },
          "metadata": {
            "tags": []
          },
          "execution_count": 77
        }
      ]
    },
    {
      "cell_type": "code",
      "metadata": {
        "id": "EdZowt-c9VLy",
        "colab_type": "code",
        "colab": {}
      },
      "source": [
        "X = df.iloc[:,0]\n",
        "\n",
        "y = df.iloc[:,1]"
      ],
      "execution_count": 78,
      "outputs": []
    },
    {
      "cell_type": "code",
      "metadata": {
        "id": "W_Qm94x59c5D",
        "colab_type": "code",
        "colab": {}
      },
      "source": [
        "# X iloc and loc access single rows/columns as series. "
      ],
      "execution_count": null,
      "outputs": []
    },
    {
      "cell_type": "code",
      "metadata": {
        "id": "lVz8rJAV9wJz",
        "colab_type": "code",
        "colab": {}
      },
      "source": [
        "#"
      ],
      "execution_count": null,
      "outputs": []
    },
    {
      "cell_type": "code",
      "metadata": {
        "id": "M6aPRpyx-A9l",
        "colab_type": "code",
        "colab": {
          "base_uri": "https://localhost:8080/",
          "height": 285
        },
        "outputId": "6a6ef8b8-865a-4053-f9a4-b7e1fc3cc817"
      },
      "source": [
        "plt.scatter(X,y)"
      ],
      "execution_count": 79,
      "outputs": [
        {
          "output_type": "execute_result",
          "data": {
            "text/plain": [
              "<matplotlib.collections.PathCollection at 0x7fd78eade5f8>"
            ]
          },
          "metadata": {
            "tags": []
          },
          "execution_count": 79
        },
        {
          "output_type": "display_data",
          "data": {
            "image/png": "[encoded data removed]",
            "text/plain": [
              "<Figure size 432x288 with 1 Axes>"
            ]
          },
          "metadata": {
            "tags": []
          }
        }
      ]
    },
    {
      "cell_type": "code",
      "metadata": {
        "id": "eGlur6Iq-SWQ",
        "colab_type": "code",
        "colab": {
          "base_uri": "https://localhost:8080/",
          "height": 382
        },
        "outputId": "f0dd9147-d13f-4e36-f5ce-affe20c9cbb1"
      },
      "source": [
        "sns.lmplot('population','profit',data=df)"
      ],
      "execution_count": 80,
      "outputs": [
        {
          "output_type": "execute_result",
          "data": {
            "text/plain": [
              "<seaborn.axisgrid.FacetGrid at 0x7fd78ea9c4e0>"
            ]
          },
          "metadata": {
            "tags": []
          },
          "execution_count": 80
        },
        {
          "output_type": "display_data",
          "data": {
            "image/png": "[encoded data removed]",
            "text/plain": [
              "<Figure size 360x360 with 1 Axes>"
            ]
          },
          "metadata": {
            "tags": []
          }
        }
      ]
    },
    {
      "cell_type": "code",
      "metadata": {
        "id": "X7sxAM7v-elG",
        "colab_type": "code",
        "colab": {}
      },
      "source": [
        "# Population is in 10,000s &\n",
        "# Profit is in 10,000s."
      ],
      "execution_count": null,
      "outputs": []
    },
    {
      "cell_type": "code",
      "metadata": {
        "id": "abB5GN9S-tRi",
        "colab_type": "code",
        "colab": {}
      },
      "source": [
        "####################################################################################"
      ],
      "execution_count": null,
      "outputs": []
    },
    {
      "cell_type": "markdown",
      "metadata": {
        "id": "TbHwFeNx-4iW",
        "colab_type": "text"
      },
      "source": [
        "#Part 2: Batch Gradient Descent."
      ]
    },
    {
      "cell_type": "code",
      "metadata": {
        "id": "M_781e_E-3yG",
        "colab_type": "code",
        "colab": {}
      },
      "source": [
        "def cost(theta, X,y):\n",
        "\n",
        "  # x = np.array(X)\n",
        "  # y = np.array(y)\n",
        "\n",
        "  h = theta[0]*X.iloc[:,0] + theta[1]*X.iloc[:,1]\n",
        "\n",
        "  m = 97\n",
        "\n",
        "  J = (1/2/m)*(np.sum((h - y)**2))\n",
        "\n",
        "  return J\n"
      ],
      "execution_count": 90,
      "outputs": []
    },
    {
      "cell_type": "code",
      "metadata": {
        "id": "Y9cZlZBNAapa",
        "colab_type": "code",
        "colab": {}
      },
      "source": [
        "x0 = np.ones(97)\n",
        "\n",
        "x1 = np.array(df.iloc[:,0])\n",
        "\n",
        "d = {'X0':x0 , 'X1':x1}\n",
        "\n",
        "X = pd.DataFrame(d)"
      ],
      "execution_count": 91,
      "outputs": []
    },
    {
      "cell_type": "code",
      "metadata": {
        "id": "3kID9qrjEaLh",
        "colab_type": "code",
        "colab": {
          "base_uri": "https://localhost:8080/",
          "height": 221
        },
        "outputId": "a3023d04-705f-47d5-844a-fda54acf3cfa"
      },
      "source": [
        "# X.iloc[:,0]"
      ],
      "execution_count": null,
      "outputs": [
        {
          "output_type": "execute_result",
          "data": {
            "text/plain": [
              "0     1.0\n",
              "1     1.0\n",
              "2     1.0\n",
              "3     1.0\n",
              "4     1.0\n",
              "     ... \n",
              "92    1.0\n",
              "93    1.0\n",
              "94    1.0\n",
              "95    1.0\n",
              "96    1.0\n",
              "Name: X0, Length: 97, dtype: float64"
            ]
          },
          "metadata": {
            "tags": []
          },
          "execution_count": 64
        }
      ]
    },
    {
      "cell_type": "code",
      "metadata": {
        "id": "50Dd3e38EhVk",
        "colab_type": "code",
        "colab": {
          "base_uri": "https://localhost:8080/",
          "height": 34
        },
        "outputId": "5758bfd8-d232-4215-911d-b5c40e9b2379"
      },
      "source": [
        "theta = np.zeros((2,1))\n",
        "\n",
        "theta.T"
      ],
      "execution_count": 92,
      "outputs": [
        {
          "output_type": "execute_result",
          "data": {
            "text/plain": [
              "array([[0., 0.]])"
            ]
          },
          "metadata": {
            "tags": []
          },
          "execution_count": 92
        }
      ]
    },
    {
      "cell_type": "code",
      "metadata": {
        "id": "9jGFZCu7AfBX",
        "colab_type": "code",
        "colab": {
          "base_uri": "https://localhost:8080/",
          "height": 34
        },
        "outputId": "7ed87e08-09af-4a74-f9d1-bc0f0396ceaf"
      },
      "source": [
        "# theta = [np.linspace(-2,2,97) , np.linspace(0,5,97)]\n",
        "\n",
        "J = cost(theta,X,y)\n",
        "J"
      ],
      "execution_count": 93,
      "outputs": [
        {
          "output_type": "execute_result",
          "data": {
            "text/plain": [
              "32.072733877455676"
            ]
          },
          "metadata": {
            "tags": []
          },
          "execution_count": 93
        }
      ]
    },
    {
      "cell_type": "code",
      "metadata": {
        "id": "GQNynLCxejWO",
        "colab_type": "code",
        "colab": {}
      },
      "source": [
        "####################################"
      ],
      "execution_count": 94,
      "outputs": []
    },
    {
      "cell_type": "markdown",
      "metadata": {
        "id": "GinArm44elTg",
        "colab_type": "text"
      },
      "source": [
        "#Batch Gradient Descent."
      ]
    },
    {
      "cell_type": "code",
      "metadata": {
        "id": "JthNbV52A1K8",
        "colab_type": "code",
        "colab": {}
      },
      "source": [
        "grad = np.zeros((2,1))"
      ],
      "execution_count": 95,
      "outputs": []
    },
    {
      "cell_type": "code",
      "metadata": {
        "id": "wLd29HZeA4Md",
        "colab_type": "code",
        "colab": {}
      },
      "source": [
        "def grad_desc(epoch, theta, X, y):\n",
        "\n",
        "  grad = np.zeros((2,1))\n",
        "\n",
        "  m = 97\n",
        "\n",
        "  # h = h = theta[0]*X.iloc[:,0] + theta[1]*X.iloc[:,1]\n",
        "\n",
        "  # grad_0 = (1/m)*np.sum(h - y) \n",
        "\n",
        "  # grad_1 = (1/m)*np.sum(grad_0*X.iloc[:,1])\n",
        "\n",
        "  for i in range(epoch):\n",
        "\n",
        "    h = theta[0]*X.iloc[:,0] + theta[1]*X.iloc[:,1]\n",
        "\n",
        "    grad[0] = (1/m)*np.sum(h - y) \n",
        "    grad[1] = (1/m)*np.sum(np.dot((h - y) ,X.iloc[:,1]))\n",
        "\n",
        "    theta = theta - 0.001*grad\n",
        "  \n",
        "  return theta\n",
        "\n",
        "\n",
        "\n"
      ],
      "execution_count": 107,
      "outputs": []
    },
    {
      "cell_type": "code",
      "metadata": {
        "id": "KHBEx48lgtRs",
        "colab_type": "code",
        "colab": {}
      },
      "source": [
        "theta_final = grad_desc(500,theta,X,y)"
      ],
      "execution_count": 105,
      "outputs": []
    },
    {
      "cell_type": "code",
      "metadata": {
        "id": "55zeIRI3g0J0",
        "colab_type": "code",
        "colab": {
          "base_uri": "https://localhost:8080/",
          "height": 34
        },
        "outputId": "af301a3e-240f-4846-941a-c25723034719"
      },
      "source": [
        "J = cost(theta_final,X,y)\n",
        "J"
      ],
      "execution_count": 106,
      "outputs": [
        {
          "output_type": "execute_result",
          "data": {
            "text/plain": [
              "5.678468473590414"
            ]
          },
          "metadata": {
            "tags": []
          },
          "execution_count": 106
        }
      ]
    },
    {
      "cell_type": "code",
      "metadata": {
        "id": "Fe-HoxKCiisG",
        "colab_type": "code",
        "colab": {
          "base_uri": "https://localhost:8080/",
          "height": 85
        },
        "outputId": "6204dd32-86c6-4d68-f28b-c38bec2e560e"
      },
      "source": [
        ""
      ],
      "execution_count": 110,
      "outputs": [
        {
          "output_type": "execute_result",
          "data": {
            "text/plain": [
              "array([  0,  20,  41,  61,  82, 102, 123, 143, 164, 184, 205, 225, 246,\n",
              "       266, 287, 307, 328, 348, 369, 389, 410, 430, 451, 471, 492, 512,\n",
              "       533, 553, 574, 594, 615, 635, 656, 676, 697, 717, 738, 758, 779,\n",
              "       800])"
            ]
          },
          "metadata": {
            "tags": []
          },
          "execution_count": 110
        }
      ]
    },
    {
      "cell_type": "code",
      "metadata": {
        "id": "EaWQnD2YhK0e",
        "colab_type": "code",
        "colab": {}
      },
      "source": [
        "eps = np.linspace(0,800,40,dtype='int')\n",
        "\n",
        "loss = []\n",
        "\n",
        "for e in eps:\n",
        "\n",
        "  theta_final = grad_desc(e,theta,X,y)\n",
        "\n",
        "  J = cost(theta_final,X,y)\n",
        "\n",
        "  loss.append(J)\n",
        "\n",
        "\n",
        "\n",
        "\n",
        "\n",
        "  \n"
      ],
      "execution_count": 111,
      "outputs": []
    },
    {
      "cell_type": "code",
      "metadata": {
        "id": "RB4XDcXuiVQ8",
        "colab_type": "code",
        "colab": {
          "base_uri": "https://localhost:8080/",
          "height": 285
        },
        "outputId": "2ce0db5c-46de-4340-b07c-66d77d90275c"
      },
      "source": [
        "plt.plot(eps,loss)"
      ],
      "execution_count": 113,
      "outputs": [
        {
          "output_type": "execute_result",
          "data": {
            "text/plain": [
              "[<matplotlib.lines.Line2D at 0x7fd78e8cee48>]"
            ]
          },
          "metadata": {
            "tags": []
          },
          "execution_count": 113
        },
        {
          "output_type": "display_data",
          "data": {
            "image/png": "[encoded data removed]",
            "text/plain": [
              "<Figure size 432x288 with 1 Axes>"
            ]
          },
          "metadata": {
            "tags": []
          }
        }
      ]
    },
    {
      "cell_type": "code",
      "metadata": {
        "id": "9pQyPZvwi6QR",
        "colab_type": "code",
        "colab": {
          "base_uri": "https://localhost:8080/",
          "height": 51
        },
        "outputId": "436b30c1-22b2-4535-e0b6-de73a83643ab"
      },
      "source": [
        "theta_final = grad_desc(500,theta,X,y)\n",
        "\n",
        "theta_final"
      ],
      "execution_count": 114,
      "outputs": [
        {
          "output_type": "execute_result",
          "data": {
            "text/plain": [
              "array([[-0.26293785],\n",
              "       [ 0.82807516]])"
            ]
          },
          "metadata": {
            "tags": []
          },
          "execution_count": 114
        }
      ]
    },
    {
      "cell_type": "code",
      "metadata": {
        "id": "3UogltZ8jMnt",
        "colab_type": "code",
        "colab": {}
      },
      "source": [
        "#Visualization the actual data scatter with the Model."
      ],
      "execution_count": 115,
      "outputs": []
    },
    {
      "cell_type": "code",
      "metadata": {
        "id": "Zpty2MwDjLNQ",
        "colab_type": "code",
        "colab": {}
      },
      "source": [
        "y_p = theta_final[0] + theta_final[1]*df['population']"
      ],
      "execution_count": 119,
      "outputs": []
    },
    {
      "cell_type": "code",
      "metadata": {
        "id": "km2mmfCijhyd",
        "colab_type": "code",
        "colab": {
          "base_uri": "https://localhost:8080/",
          "height": 285
        },
        "outputId": "9af540d0-7233-4913-d017-648fe534eb83"
      },
      "source": [
        "plt.scatter(df['population'],df['profit'],label='Training Data')\n",
        "\n",
        "plt.plot(df['population'],y_p,label='Model Predictions',color='red')\n",
        "\n",
        "# plt.figure(figsize=(8,4))\n",
        "\n",
        "plt.legend()"
      ],
      "execution_count": 123,
      "outputs": [
        {
          "output_type": "execute_result",
          "data": {
            "text/plain": [
              "<matplotlib.legend.Legend at 0x7fd78e651198>"
            ]
          },
          "metadata": {
            "tags": []
          },
          "execution_count": 123
        },
        {
          "output_type": "display_data",
          "data": {
            "image/png": "[encoded data removed]",
            "text/plain": [
              "<Figure size 432x288 with 1 Axes>"
            ]
          },
          "metadata": {
            "tags": []
          }
        }
      ]
    },
    {
      "cell_type": "code",
      "metadata": {
        "id": "oDdvojzxjui_",
        "colab_type": "code",
        "colab": {}
      },
      "source": [
        ""
      ],
      "execution_count": null,
      "outputs": []
    }
  ]
}