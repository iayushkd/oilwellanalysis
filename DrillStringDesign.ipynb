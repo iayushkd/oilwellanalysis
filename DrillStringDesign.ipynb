{
  "nbformat": 4,
  "nbformat_minor": 0,
  "metadata": {
    "colab": {
      "name": "DrillStringDesign.ipynb",
      "provenance": [],
      "authorship_tag": "ABX9TyNTEMHK59PViY9NU0DTfTKx",
      "include_colab_link": true
    },
    "kernelspec": {
      "name": "python3",
      "display_name": "Python 3"
    }
  },
  "cells": [
    {
      "cell_type": "markdown",
      "metadata": {
        "id": "view-in-github",
        "colab_type": "text"
      },
      "source": [
        "<a href=\"https://colab.research.google.com/github/Divyanshu-ISM/Oil-and-Gas-data-analysis/blob/master/DrillStringDesign.ipynb\" target=\"_parent\"><img src=\"https://colab.research.google.com/assets/colab-badge.svg\" alt=\"Open In Colab\"/></a>"
      ]
    },
    {
      "cell_type": "markdown",
      "metadata": {
        "id": "oZIFbbWYIVDT",
        "colab_type": "text"
      },
      "source": [
        "#Drill String Design with Python\n",
        "\n",
        "This is a beginner level code that explains how we can define the stress state of a drill string and hence design a competent DS. \n",
        "\n",
        "Ref. Applied Drilling Engineering by Bourgoyne Jr. (SPE)"
      ]
    },
    {
      "cell_type": "code",
      "metadata": {
        "id": "huAdKyhD5cL-",
        "colab_type": "code",
        "colab": {}
      },
      "source": [
        "import numpy as np\n",
        "import pandas as pd\n",
        "import matplotlib.pyplot as plt\n",
        "import seaborn as sns\n",
        "%matplotlib inline"
      ],
      "execution_count": 2,
      "outputs": []
    },
    {
      "cell_type": "code",
      "metadata": {
        "id": "SRkMsRQt6bLB",
        "colab_type": "code",
        "colab": {}
      },
      "source": [
        "L_dp = 10000 #ft\n",
        "\n",
        "w_dp = 19.5 #lbm/ft\n",
        "\n",
        "L_dc = 600 #ft\n",
        "\n",
        "w_dc = 147 #lbm/ft\n",
        "\n",
        "mud_w = 15 #lbm/gal or ppg"
      ],
      "execution_count": 3,
      "outputs": []
    },
    {
      "cell_type": "code",
      "metadata": {
        "id": "UHTZ95_p7Kp2",
        "colab_type": "code",
        "colab": {}
      },
      "source": [
        "BF = 1 - (15/65.5)\n",
        "\n",
        "W_air = L_dp*w_dp + L_dc*w_dc\n",
        "\n",
        "W_buoyed = W_air*BF"
      ],
      "execution_count": 7,
      "outputs": []
    },
    {
      "cell_type": "code",
      "metadata": {
        "id": "_aP33sjk7N_d",
        "colab_type": "code",
        "colab": {
          "base_uri": "https://localhost:8080/",
          "height": 35
        },
        "outputId": "4563a5f2-01d7-4a9a-abec-2e0791414fd4"
      },
      "source": [
        "print(W_buoyed)"
      ],
      "execution_count": 8,
      "outputs": [
        {
          "output_type": "stream",
          "text": [
            "218345.03816793894\n"
          ],
          "name": "stdout"
        }
      ]
    },
    {
      "cell_type": "code",
      "metadata": {
        "id": "ZT8W6-fj7O9R",
        "colab_type": "code",
        "colab": {}
      },
      "source": [
        "#Hydrostatic Pressure at the TOp of Drill collars - \n",
        "\n",
        "p1 = 0.052*mud_w*L_dp"
      ],
      "execution_count": 9,
      "outputs": []
    },
    {
      "cell_type": "code",
      "metadata": {
        "id": "TdRR8l3x7yrT",
        "colab_type": "code",
        "colab": {}
      },
      "source": [
        "depth = np.arange(12000,-1,-2000)\n",
        "\n",
        "stress = np.arange(-500,501,100) #x1000"
      ],
      "execution_count": 20,
      "outputs": []
    },
    {
      "cell_type": "code",
      "metadata": {
        "id": "hjMjA-mn_KAe",
        "colab_type": "code",
        "colab": {}
      },
      "source": [
        "#"
      ],
      "execution_count": 21,
      "outputs": []
    },
    {
      "cell_type": "code",
      "metadata": {
        "id": "kEW0ABGs8JV_",
        "colab_type": "code",
        "colab": {}
      },
      "source": [
        "#hydrostatic at the bottom of the drill collars is -\n",
        "p2 = 0.052*mud_w*(L_dp+L_dc)"
      ],
      "execution_count": 22,
      "outputs": []
    },
    {
      "cell_type": "code",
      "metadata": {
        "id": "CWX3Qsej8Kdv",
        "colab_type": "code",
        "colab": {}
      },
      "source": [
        "#Cross Sectional Area of a 19.5 lbm/ft steel (490lbm/ft) DP is - \n",
        "\n",
        "A_dp = (w_dp/490)*144  #sq. in \n",
        "\n",
        "#CSA of Drill collars \n",
        "\n",
        "A_dc = (w_dc/490)*144  #sq. in\n",
        "\n"
      ],
      "execution_count": 31,
      "outputs": []
    },
    {
      "cell_type": "code",
      "metadata": {
        "id": "A_Znu6ye9Kmu",
        "colab_type": "code",
        "colab": {}
      },
      "source": [
        "#Hence following equations can be derived - \n",
        "\n",
        "# A. For 0 < d < 10,000 - F = 218300 - 19.5*depth\n",
        "\n",
        "#B. For d>=10000 - F = 1201000 - 147*depth\n",
        "\n",
        "# F = []\n",
        "\n",
        "# for d in depth:\n",
        "\n",
        "#   if d< 10000:\n",
        "\n",
        "#     f = 218300 - 19.5*d\n",
        "\n",
        "#     F.append(f)\n",
        "\n",
        "#   if d == 10000:\n",
        "\n",
        "#     f = 0 \n",
        "\n",
        "#     F.append(f)\n",
        "  \n",
        "#   if d>10000:\n",
        "\n",
        "\n",
        "#     f = 1201000 - 147*d\n",
        "\n",
        "#     F.append(f)\n",
        "\n"
      ],
      "execution_count": 32,
      "outputs": []
    },
    {
      "cell_type": "code",
      "metadata": {
        "id": "xvJ7IVvS_TfO",
        "colab_type": "code",
        "colab": {}
      },
      "source": [
        "d_dp = np.arange(10001,-1,-100)\n",
        "\n",
        "d_dc = np.arange (12001,10001,-100)\n",
        "\n",
        "\n",
        "\n",
        "F_dp = 218300 - 19.5*d_dp\n",
        "\n",
        "F_dc = 1201000 - 147*d_dc\n"
      ],
      "execution_count": 62,
      "outputs": []
    },
    {
      "cell_type": "code",
      "metadata": {
        "id": "Tqw_rC61GB1j",
        "colab_type": "code",
        "colab": {}
      },
      "source": [
        "d_0 = [10000,10000,10000]\n",
        "\n",
        "F_0 = [F_dp[0], 0 , F_dc[-1]]\n"
      ],
      "execution_count": 63,
      "outputs": []
    },
    {
      "cell_type": "code",
      "metadata": {
        "id": "euVs4M5fHsfC",
        "colab_type": "code",
        "colab": {}
      },
      "source": [
        "#"
      ],
      "execution_count": 76,
      "outputs": []
    },
    {
      "cell_type": "code",
      "metadata": {
        "id": "gn8Q3PNUBomj",
        "colab_type": "code",
        "colab": {
          "base_uri": "https://localhost:8080/",
          "height": 564
        },
        "outputId": "b5618920-671b-457b-e16c-e01cda032a4b"
      },
      "source": [
        "plt.style.use('default')\n",
        "\n",
        "plt.figure(figsize=(8,6))\n",
        "\n",
        "plt.title('Axial Tensions in a Drill String as a Function of Depth')\n",
        "\n",
        "plt.plot(F_dp,d_dp, label = 'Tension')\n",
        "\n",
        "plt.plot(F_0,d_0, label = 'Neutral')\n",
        "\n",
        "plt.plot(F_dc,d_dc, label = 'Compression')\n",
        "\n",
        "plt.xlabel('Axial Stress, lbf')\n",
        "\n",
        "plt.ylabel('Depth, ft')\n",
        "\n",
        "plt.legend()\n",
        "\n",
        "plt.ylim(12000,0)\n",
        "\n",
        "plt.grid()\n",
        "\n"
      ],
      "execution_count": 75,
      "outputs": [
        {
          "output_type": "display_data",
          "data": {
            "image/png": "[encoded data removed]",
            "text/plain": [
              "<Figure size 800x600 with 1 Axes>"
            ]
          },
          "metadata": {
            "tags": []
          }
        }
      ]
    },
    {
      "cell_type": "code",
      "metadata": {
        "id": "TT_wqtO8-mjx",
        "colab_type": "code",
        "colab": {}
      },
      "source": [
        "#\n"
      ],
      "execution_count": 68,
      "outputs": []
    },
    {
      "cell_type": "code",
      "metadata": {
        "id": "mNi3aega-nhC",
        "colab_type": "code",
        "colab": {
          "base_uri": "https://localhost:8080/",
          "height": 490
        },
        "outputId": "61ac5eca-44c5-47f6-8344-197cbf2dd29a"
      },
      "source": [
        "plt.style.available"
      ],
      "execution_count": 70,
      "outputs": [
        {
          "output_type": "execute_result",
          "data": {
            "text/plain": [
              "['Solarize_Light2',\n",
              " '_classic_test_patch',\n",
              " 'bmh',\n",
              " 'classic',\n",
              " 'dark_background',\n",
              " 'fast',\n",
              " 'fivethirtyeight',\n",
              " 'ggplot',\n",
              " 'grayscale',\n",
              " 'seaborn',\n",
              " 'seaborn-bright',\n",
              " 'seaborn-colorblind',\n",
              " 'seaborn-dark',\n",
              " 'seaborn-dark-palette',\n",
              " 'seaborn-darkgrid',\n",
              " 'seaborn-deep',\n",
              " 'seaborn-muted',\n",
              " 'seaborn-notebook',\n",
              " 'seaborn-paper',\n",
              " 'seaborn-pastel',\n",
              " 'seaborn-poster',\n",
              " 'seaborn-talk',\n",
              " 'seaborn-ticks',\n",
              " 'seaborn-white',\n",
              " 'seaborn-whitegrid',\n",
              " 'tableau-colorblind10']"
            ]
          },
          "metadata": {
            "tags": []
          },
          "execution_count": 70
        }
      ]
    },
    {
      "cell_type": "code",
      "metadata": {
        "id": "4jBMdQ-C_YwP",
        "colab_type": "code",
        "colab": {}
      },
      "source": [
        ""
      ],
      "execution_count": null,
      "outputs": []
    }
  ]
}