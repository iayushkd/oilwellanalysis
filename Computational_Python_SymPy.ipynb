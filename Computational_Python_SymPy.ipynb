{
  "nbformat": 4,
  "nbformat_minor": 0,
  "metadata": {
    "colab": {
      "name": "Computational_Python_SymPy.ipynb",
      "provenance": [],
      "authorship_tag": "ABX9TyPnuTDsXXx0A0s65dgIxUq9",
      "include_colab_link": true
    },
    "kernelspec": {
      "name": "python3",
      "display_name": "Python 3"
    }
  },
  "cells": [
    {
      "cell_type": "markdown",
      "metadata": {
        "id": "view-in-github",
        "colab_type": "text"
      },
      "source": [
        "<a href=\"https://colab.research.google.com/github/Divyanshu-ISM/Oil-and-Gas-data-analysis/blob/master/Computational_Python_SymPy.ipynb\" target=\"_parent\"><img src=\"https://colab.research.google.com/assets/colab-badge.svg\" alt=\"Open In Colab\"/></a>"
      ]
    },
    {
      "cell_type": "code",
      "metadata": {
        "id": "ErErSfXr25se",
        "colab_type": "code",
        "colab": {}
      },
      "source": [
        ""
      ],
      "execution_count": null,
      "outputs": []
    },
    {
      "cell_type": "markdown",
      "metadata": {
        "id": "grMX5NCNj8rC",
        "colab_type": "text"
      },
      "source": [
        "#An Introduction to numerical python using SymPy\n",
        "\n",
        "## author : Divyanshu Vyas\n",
        "\n",
        "## Domain : Oil and Gas / Reservoir Engineering | Data Science & ML\n",
        "\n",
        "## Email : dvyas13ad@gmail.com"
      ]
    },
    {
      "cell_type": "code",
      "metadata": {
        "id": "CDq2ghaxfYwx",
        "colab_type": "code",
        "colab": {}
      },
      "source": [
        "import sympy as smp\n",
        "from sympy import *"
      ],
      "execution_count": 12,
      "outputs": []
    },
    {
      "cell_type": "markdown",
      "metadata": {
        "id": "3WJhGmBdpIDb",
        "colab_type": "text"
      },
      "source": [
        "#Assigning symbols\n",
        "\n",
        "Usually, the best practice is to assign Symbols to Python variables of the same name"
      ]
    },
    {
      "cell_type": "code",
      "metadata": {
        "id": "14OhYDunfgZ3",
        "colab_type": "code",
        "colab": {}
      },
      "source": [
        "x = smp.symbols('x')"
      ],
      "execution_count": 4,
      "outputs": []
    },
    {
      "cell_type": "markdown",
      "metadata": {
        "id": "nwgLhq0spZUI",
        "colab_type": "text"
      },
      "source": [
        "#The difference between SymPy Symbols and Python variables."
      ]
    },
    {
      "cell_type": "code",
      "metadata": {
        "id": "VxbckgFEpb_U",
        "colab_type": "code",
        "colab": {
          "base_uri": "https://localhost:8080/",
          "height": 34
        },
        "outputId": "5d29dc3a-b4b6-4456-af0b-6c406ce43d30"
      },
      "source": [
        "u , v = symbols('u v')\n",
        "\n",
        "exprsn = u + v + 3\n",
        "\n",
        "print(exprsn)"
      ],
      "execution_count": 45,
      "outputs": [
        {
          "output_type": "stream",
          "text": [
            "u + v + 3\n"
          ],
          "name": "stdout"
        }
      ]
    },
    {
      "cell_type": "code",
      "metadata": {
        "id": "EGdF45IXflwR",
        "colab_type": "code",
        "colab": {}
      },
      "source": [
        "y = smp.Integral(x,x)"
      ],
      "execution_count": 5,
      "outputs": []
    },
    {
      "cell_type": "code",
      "metadata": {
        "id": "jCz7ZCcRfoX-",
        "colab_type": "code",
        "colab": {
          "base_uri": "https://localhost:8080/",
          "height": 34
        },
        "outputId": "16d421d6-2554-45d8-dc47-79c94fd106e6"
      },
      "source": [
        "diff(sin(x),x)"
      ],
      "execution_count": 13,
      "outputs": [
        {
          "output_type": "execute_result",
          "data": {
            "text/plain": [
              "cos(x)"
            ]
          },
          "metadata": {
            "tags": []
          },
          "execution_count": 13
        }
      ]
    },
    {
      "cell_type": "markdown",
      "metadata": {
        "id": "D5p1Pw6OjS1e",
        "colab_type": "text"
      },
      "source": [
        "#Changing the printing font to unicode"
      ]
    },
    {
      "cell_type": "code",
      "metadata": {
        "id": "Ky0CrMsbgrMN",
        "colab_type": "code",
        "colab": {}
      },
      "source": [
        "init_printing(use_unicode=True)"
      ],
      "execution_count": 14,
      "outputs": []
    },
    {
      "cell_type": "markdown",
      "metadata": {
        "id": "5GNLZcGyjXsk",
        "colab_type": "text"
      },
      "source": [
        "##Differentiation"
      ]
    },
    {
      "cell_type": "code",
      "metadata": {
        "id": "BOCiLpNliVYg",
        "colab_type": "code",
        "colab": {}
      },
      "source": [
        "z = diff(exp(x)*cos(x),x)"
      ],
      "execution_count": 16,
      "outputs": []
    },
    {
      "cell_type": "code",
      "metadata": {
        "id": "lpETbi3-ibNa",
        "colab_type": "code",
        "colab": {
          "base_uri": "https://localhost:8080/",
          "height": 38
        },
        "outputId": "860f807c-b708-4cf3-d89e-ba8052484761"
      },
      "source": [
        "z"
      ],
      "execution_count": 18,
      "outputs": [
        {
          "output_type": "execute_result",
          "data": {
            "image/png": "[encoded data removed]",
            "text/latex": "$$- e^{x} \\sin{\\left (x \\right )} + e^{x} \\cos{\\left (x \\right )}$$",
            "text/plain": [
              "   x           x       \n",
              "- ℯ ⋅sin(x) + ℯ ⋅cos(x)"
            ]
          },
          "metadata": {
            "tags": []
          },
          "execution_count": 18
        }
      ]
    },
    {
      "cell_type": "markdown",
      "metadata": {
        "id": "-eD5VQpUjbLE",
        "colab_type": "text"
      },
      "source": [
        "##Integration"
      ]
    },
    {
      "cell_type": "code",
      "metadata": {
        "id": "rRKLLJaoif81",
        "colab_type": "code",
        "colab": {
          "base_uri": "https://localhost:8080/",
          "height": 40
        },
        "outputId": "1cd60260-c5f5-429a-ea1b-70b86df8dd8c"
      },
      "source": [
        "integrate(x**2,x)"
      ],
      "execution_count": 19,
      "outputs": [
        {
          "output_type": "execute_result",
          "data": {
            "image/png": "[encoded data removed]",
            "text/latex": "$$\\frac{x^{3}}{3}$$",
            "text/plain": [
              " 3\n",
              "x \n",
              "──\n",
              "3 "
            ]
          },
          "metadata": {
            "tags": []
          },
          "execution_count": 19
        }
      ]
    },
    {
      "cell_type": "code",
      "metadata": {
        "id": "wHr4SffRi7BB",
        "colab_type": "code",
        "colab": {
          "base_uri": "https://localhost:8080/",
          "height": 41
        },
        "outputId": "6356828d-b190-4bda-a54a-9b9704bd065b"
      },
      "source": [
        "integrate(x*sin(x) + exp(-x**2))"
      ],
      "execution_count": 20,
      "outputs": [
        {
          "output_type": "execute_result",
          "data": {
            "image/png": "[encoded data removed]",
            "text/latex": "$$- x \\cos{\\left (x \\right )} + \\sin{\\left (x \\right )} + \\frac{\\sqrt{\\pi}}{2} \\operatorname{erf}{\\left (x \\right )}$$",
            "text/plain": [
              "                     √π⋅erf(x)\n",
              "-x⋅cos(x) + sin(x) + ─────────\n",
              "                         2    "
            ]
          },
          "metadata": {
            "tags": []
          },
          "execution_count": 20
        }
      ]
    },
    {
      "cell_type": "code",
      "metadata": {
        "id": "yCW5SGeyjAeY",
        "colab_type": "code",
        "colab": {
          "base_uri": "https://localhost:8080/",
          "height": 38
        },
        "outputId": "877a4969-1850-4ccd-a3fe-2b472f43ba7b"
      },
      "source": [
        "integrate(sin(x),x)"
      ],
      "execution_count": 22,
      "outputs": [
        {
          "output_type": "execute_result",
          "data": {
            "image/png": "[encoded data removed]",
            "text/latex": "$$- \\cos{\\left (x \\right )}$$",
            "text/plain": [
              "-cos(x)"
            ]
          },
          "metadata": {
            "tags": []
          },
          "execution_count": 22
        }
      ]
    },
    {
      "cell_type": "markdown",
      "metadata": {
        "id": "5xxFLc3Rjh6m",
        "colab_type": "text"
      },
      "source": [
        "###Integration with ranges"
      ]
    },
    {
      "cell_type": "markdown",
      "metadata": {
        "id": "NcD0hg72jt7s",
        "colab_type": "text"
      },
      "source": [
        "-> Amazing that -inf can be writen as -oo (minus double o's)"
      ]
    },
    {
      "cell_type": "code",
      "metadata": {
        "id": "azQxLfUmjGam",
        "colab_type": "code",
        "colab": {
          "base_uri": "https://localhost:8080/",
          "height": 42
        },
        "outputId": "c0809ce5-e52b-4297-e54a-3500b4a0bfef"
      },
      "source": [
        "integrate(sin(x**2),(x,-oo,+oo))"
      ],
      "execution_count": 23,
      "outputs": [
        {
          "output_type": "execute_result",
          "data": {
            "image/png": "[encoded data removed]",
            "text/latex": "$$\\frac{\\sqrt{2} \\sqrt{\\pi}}{2}$$",
            "text/plain": [
              "√2⋅√π\n",
              "─────\n",
              "  2  "
            ]
          },
          "metadata": {
            "tags": []
          },
          "execution_count": 23
        }
      ]
    },
    {
      "cell_type": "markdown",
      "metadata": {
        "id": "CR5Qn36Pj5Ge",
        "colab_type": "text"
      },
      "source": [
        "##Finding limits"
      ]
    },
    {
      "cell_type": "code",
      "metadata": {
        "id": "x3aGBlJHjrnh",
        "colab_type": "code",
        "colab": {
          "base_uri": "https://localhost:8080/",
          "height": 37
        },
        "outputId": "674150af-22e4-47da-98da-2cd8d633bda4"
      },
      "source": [
        "limit(sin(x)/x,x,0)"
      ],
      "execution_count": 25,
      "outputs": [
        {
          "output_type": "execute_result",
          "data": {
            "image/png": "[encoded data removed]",
            "text/latex": "$$1$$",
            "text/plain": [
              "1"
            ]
          },
          "metadata": {
            "tags": []
          },
          "execution_count": 25
        }
      ]
    },
    {
      "cell_type": "code",
      "metadata": {
        "id": "sCnXZj2QktLI",
        "colab_type": "code",
        "colab": {
          "base_uri": "https://localhost:8080/",
          "height": 37
        },
        "outputId": "746b895a-b04c-4556-c5f9-c139fe84aeef"
      },
      "source": [
        "limit(sin(x)/x,x,+oo)"
      ],
      "execution_count": 26,
      "outputs": [
        {
          "output_type": "execute_result",
          "data": {
            "image/png": "[encoded data removed]",
            "text/latex": "$$0$$",
            "text/plain": [
              "0"
            ]
          },
          "metadata": {
            "tags": []
          },
          "execution_count": 26
        }
      ]
    },
    {
      "cell_type": "markdown",
      "metadata": {
        "id": "WUcTl7ILk23j",
        "colab_type": "text"
      },
      "source": [
        "#Solving a Quadratic equation/Any other equation (solvable) \n",
        "\n",
        "## f(x) = 0"
      ]
    },
    {
      "cell_type": "code",
      "metadata": {
        "id": "T4rHnjLvkzxt",
        "colab_type": "code",
        "colab": {
          "base_uri": "https://localhost:8080/",
          "height": 37
        },
        "outputId": "f99750d4-036d-4d6a-cec6-cf409bf8cb97"
      },
      "source": [
        "solve(x**2 -4 , x)"
      ],
      "execution_count": 27,
      "outputs": [
        {
          "output_type": "execute_result",
          "data": {
            "image/png": "[encoded data removed]",
            "text/latex": "$$\\left [ -2, \\quad 2\\right ]$$",
            "text/plain": [
              "[-2, 2]"
            ]
          },
          "metadata": {
            "tags": []
          },
          "execution_count": 27
        }
      ]
    },
    {
      "cell_type": "code",
      "metadata": {
        "id": "LWP91LB0lABc",
        "colab_type": "code",
        "colab": {
          "base_uri": "https://localhost:8080/",
          "height": 38
        },
        "outputId": "64785563-56ad-4c29-e6b3-e1c8338fcbdd"
      },
      "source": [
        "solve(exp(x)-x**2 , x)"
      ],
      "execution_count": 31,
      "outputs": [
        {
          "output_type": "execute_result",
          "data": {
            "image/png": "[encoded data removed]",
            "text/latex": "$$\\left [ - 2 \\operatorname{LambertW}{\\left (- \\frac{1}{2} \\right )}\\right ]$$",
            "text/plain": [
              "[-2⋅LambertW(-1/2)]"
            ]
          },
          "metadata": {
            "tags": []
          },
          "execution_count": 31
        }
      ]
    },
    {
      "cell_type": "code",
      "metadata": {
        "id": "bDXpPaaIlMu3",
        "colab_type": "code",
        "colab": {
          "base_uri": "https://localhost:8080/",
          "height": 38
        },
        "outputId": "e37c3f53-502a-4a6d-f8da-ec5a814d66f2"
      },
      "source": [
        "#Complex roots\n",
        "\n",
        "solve(x**2 + 4,x)"
      ],
      "execution_count": 33,
      "outputs": [
        {
          "output_type": "execute_result",
          "data": {
            "image/png": "[encoded data removed]",
            "text/latex": "$$\\left [ - 2 i, \\quad 2 i\\right ]$$",
            "text/plain": [
              "[-2⋅ⅈ, 2⋅ⅈ]"
            ]
          },
          "metadata": {
            "tags": []
          },
          "execution_count": 33
        }
      ]
    },
    {
      "cell_type": "markdown",
      "metadata": {
        "id": "hoX7IvFEl6cL",
        "colab_type": "text"
      },
      "source": [
        "#Solving differential equation : y′′−y = et."
      ]
    },
    {
      "cell_type": "code",
      "metadata": {
        "id": "5ah4OpUnlkWz",
        "colab_type": "code",
        "colab": {
          "base_uri": "https://localhost:8080/",
          "height": 38
        },
        "outputId": "3ffd0212-692b-4d0a-8888-113ada3922ef"
      },
      "source": [
        "t = symbols('t')\n",
        "y = Function('y')\n",
        "\n",
        "dsolve(Eq(y(t).diff(t,t) - y(t) , exp(t)), y(t))"
      ],
      "execution_count": 37,
      "outputs": [
        {
          "output_type": "execute_result",
          "data": {
            "image/png": "[encoded data removed]",
            "text/latex": "$$y{\\left (t \\right )} = C_{2} e^{- t} + \\left(C_{1} + \\frac{t}{2}\\right) e^{t}$$",
            "text/plain": [
              "           -t   ⎛     t⎞  t\n",
              "y(t) = C₂⋅ℯ   + ⎜C₁ + ─⎟⋅ℯ \n",
              "                ⎝     2⎠   "
            ]
          },
          "metadata": {
            "tags": []
          },
          "execution_count": 37
        }
      ]
    },
    {
      "cell_type": "markdown",
      "metadata": {
        "id": "08fvSAWKoEk5",
        "colab_type": "text"
      },
      "source": [
        "#Find the eigenvalues of a matrix"
      ]
    },
    {
      "cell_type": "code",
      "metadata": {
        "id": "daSP7Synncha",
        "colab_type": "code",
        "colab": {
          "base_uri": "https://localhost:8080/",
          "height": 38
        },
        "outputId": "96005240-8757-4dfb-eb35-e3473a26c6a8"
      },
      "source": [
        "Matrix([[1,2], [ 2,3 ]]).eigenvals()"
      ],
      "execution_count": 38,
      "outputs": [
        {
          "output_type": "execute_result",
          "data": {
            "image/png": "[encoded data removed]",
            "text/latex": "$$\\left \\{ 2 + \\sqrt{5} : 1, \\quad - \\sqrt{5} + 2 : 1\\right \\}$$",
            "text/plain": [
              "{2 + √5: 1, -√5 + 2: 1}"
            ]
          },
          "metadata": {
            "tags": []
          },
          "execution_count": 38
        }
      ]
    },
    {
      "cell_type": "code",
      "metadata": {
        "id": "G80CSySzoT6t",
        "colab_type": "code",
        "colab": {
          "base_uri": "https://localhost:8080/",
          "height": 47
        },
        "outputId": "fd94d24c-abaf-4a5d-c221-143cb3144398"
      },
      "source": [
        "Matrix([[1,2],[2,2]]).eigenvals()"
      ],
      "execution_count": 39,
      "outputs": [
        {
          "output_type": "execute_result",
          "data": {
            "image/png": "[encoded data removed]",
            "text/latex": "$$\\left \\{ \\frac{3}{2} + \\frac{\\sqrt{17}}{2} : 1, \\quad - \\frac{\\sqrt{17}}{2} + \\frac{3}{2} : 1\\right \\}$$",
            "text/plain": [
              "⎧3   √17       √17   3   ⎫\n",
              "⎨─ + ───: 1, - ─── + ─: 1⎬\n",
              "⎩2    2         2    2   ⎭"
            ]
          },
          "metadata": {
            "tags": []
          },
          "execution_count": 39
        }
      ]
    },
    {
      "cell_type": "markdown",
      "metadata": {
        "id": "yisxEuXjqymo",
        "colab_type": "text"
      },
      "source": [
        "# Creating x + y = 3 type equations"
      ]
    },
    {
      "cell_type": "code",
      "metadata": {
        "id": "SV1mvjhYobhF",
        "colab_type": "code",
        "colab": {
          "base_uri": "https://localhost:8080/",
          "height": 34
        },
        "outputId": "99cbe450-f9c2-4493-fcf0-d5ea45ff727e"
      },
      "source": [
        "a , b = symbols('a b')\n",
        "\n",
        "eqn_1 = Eq(a+b,3)\n",
        "\n",
        "print(eqn_1)"
      ],
      "execution_count": 49,
      "outputs": [
        {
          "output_type": "stream",
          "text": [
            "Eq(a + b, 3)\n"
          ],
          "name": "stdout"
        }
      ]
    },
    {
      "cell_type": "markdown",
      "metadata": {
        "id": "_JCzgziysMvW",
        "colab_type": "text"
      },
      "source": [
        "## -> Very important utility of the Eq() function- \n",
        "\n",
        "Suppose you have a long equation which you don't want ton simplify. \n",
        "\n",
        "Sympy will bring it to its simplest form for you."
      ]
    },
    {
      "cell_type": "code",
      "metadata": {
        "id": "d1CbvcBKsdDc",
        "colab_type": "code",
        "colab": {
          "base_uri": "https://localhost:8080/",
          "height": 38
        },
        "outputId": "8a8ff32d-0385-4737-cf35-69ab4b75d309"
      },
      "source": [
        "#Example 4x2 - 3x + 2xy + 17x - 27x2 -23x\n",
        "\n",
        "Eq(4*x**2 + -3*x + 2*x + 17*x - 27*x**2 - 23*x )\n",
        "\n",
        "#This comes in handy during writing gridblock flow equations in Reservoir Simulation."
      ],
      "execution_count": 54,
      "outputs": [
        {
          "output_type": "execute_result",
          "data": {
            "image/png": "[encoded data removed]",
            "text/latex": "$$- 23 x^{2} - 7 x = 0$$",
            "text/plain": [
              "      2          \n",
              "- 23⋅x  - 7⋅x = 0"
            ]
          },
          "metadata": {
            "tags": []
          },
          "execution_count": 54
        }
      ]
    },
    {
      "cell_type": "code",
      "metadata": {
        "id": "-fEqC9bJvg1j",
        "colab_type": "code",
        "colab": {
          "base_uri": "https://localhost:8080/",
          "height": 38
        },
        "outputId": "19ceec64-7fa4-4d9e-ae3e-f527095e8547"
      },
      "source": [
        "simplify(4*x**2 + -3*x + 2*x + 17*x - 27*x**2 - 23*x ) #This is the simplest form of it. "
      ],
      "execution_count": 55,
      "outputs": [
        {
          "output_type": "execute_result",
          "data": {
            "image/png": "[encoded data removed]",
            "text/latex": "$$- x \\left(23 x + 7\\right)$$",
            "text/plain": [
              "-x⋅(23⋅x + 7)"
            ]
          },
          "metadata": {
            "tags": []
          },
          "execution_count": 55
        }
      ]
    },
    {
      "cell_type": "markdown",
      "metadata": {
        "id": "t8ck1OZOrOuW",
        "colab_type": "text"
      },
      "source": [
        "#To check if 2 expressions are equal\n",
        "\n",
        ".equals() tests if two expressions are equal by evaluating them numerically at random points."
      ]
    },
    {
      "cell_type": "code",
      "metadata": {
        "id": "AoYLjn9toi6e",
        "colab_type": "code",
        "colab": {
          "base_uri": "https://localhost:8080/",
          "height": 34
        },
        "outputId": "07fe9ea2-71a7-4bcd-97ab-a21ed514d03d"
      },
      "source": [
        "a = cos(x)**2 - sin(x)**2\n",
        "\n",
        "b = cos(2*x)\n",
        "\n",
        "a.equals(b)"
      ],
      "execution_count": 57,
      "outputs": [
        {
          "output_type": "execute_result",
          "data": {
            "text/plain": [
              "True"
            ]
          },
          "metadata": {
            "tags": []
          },
          "execution_count": 57
        }
      ]
    },
    {
      "cell_type": "code",
      "metadata": {
        "id": "AYm_9ryrruvc",
        "colab_type": "code",
        "colab": {}
      },
      "source": [
        "##"
      ],
      "execution_count": 58,
      "outputs": []
    },
    {
      "cell_type": "code",
      "metadata": {
        "id": "Yf-G-CU9wmVl",
        "colab_type": "code",
        "colab": {}
      },
      "source": [
        "##"
      ],
      "execution_count": 59,
      "outputs": []
    },
    {
      "cell_type": "markdown",
      "metadata": {
        "id": "LSK7RX6bwpWx",
        "colab_type": "text"
      },
      "source": [
        "#CALCULUS"
      ]
    },
    {
      "cell_type": "markdown",
      "metadata": {
        "id": "7BWVKyTuwveb",
        "colab_type": "text"
      },
      "source": [
        "##1. **Differentiation**"
      ]
    },
    {
      "cell_type": "code",
      "metadata": {
        "id": "fHRridmGwuR1",
        "colab_type": "code",
        "colab": {
          "base_uri": "https://localhost:8080/",
          "height": 38
        },
        "outputId": "b36bb8d4-fcf1-4ea5-b2f1-71df2021e21e"
      },
      "source": [
        "diff(cos(x),x)"
      ],
      "execution_count": 61,
      "outputs": [
        {
          "output_type": "execute_result",
          "data": {
            "image/png": "[encoded data removed]",
            "text/latex": "$$- \\sin{\\left (x \\right )}$$",
            "text/plain": [
              "-sin(x)"
            ]
          },
          "metadata": {
            "tags": []
          },
          "execution_count": 61
        }
      ]
    },
    {
      "cell_type": "code",
      "metadata": {
        "id": "j3lnrZnawn6K",
        "colab_type": "code",
        "colab": {
          "base_uri": "https://localhost:8080/",
          "height": 40
        },
        "outputId": "1b4ff261-ad2e-4b3d-e466-7efa83fe4247"
      },
      "source": [
        "diff(exp(-x**2),x)"
      ],
      "execution_count": 62,
      "outputs": [
        {
          "output_type": "execute_result",
          "data": {
            "image/png": "[encoded data removed]",
            "text/latex": "$$- 2 x e^{- x^{2}}$$",
            "text/plain": [
              "        2\n",
              "      -x \n",
              "-2⋅x⋅ℯ   "
            ]
          },
          "metadata": {
            "tags": []
          },
          "execution_count": 62
        }
      ]
    },
    {
      "cell_type": "markdown",
      "metadata": {
        "id": "09yIz4LNw_2H",
        "colab_type": "text"
      },
      "source": [
        "1. A) - Multiple Derivatives\n",
        "\n",
        "To take multiple derivatives, pass the variable as many times as you wish to differentiate, or pass a number after the variable. For example, both of the following find the third derivative of x4."
      ]
    },
    {
      "cell_type": "code",
      "metadata": {
        "id": "Ht6Jd13Hw7uc",
        "colab_type": "code",
        "colab": {
          "base_uri": "https://localhost:8080/",
          "height": 38
        },
        "outputId": "6be30967-2d48-4f86-a9c4-d30a74d19882"
      },
      "source": [
        "diff(x**4,x,x,x)"
      ],
      "execution_count": 64,
      "outputs": [
        {
          "output_type": "execute_result",
          "data": {
            "image/png": "[encoded data removed]",
            "text/latex": "$$24 x$$",
            "text/plain": [
              "24⋅x"
            ]
          },
          "metadata": {
            "tags": []
          },
          "execution_count": 64
        }
      ]
    },
    {
      "cell_type": "code",
      "metadata": {
        "id": "UyPgYH84xPIx",
        "colab_type": "code",
        "colab": {
          "base_uri": "https://localhost:8080/",
          "height": 38
        },
        "outputId": "ee765327-3144-4b20-f90c-51ac98fed46b"
      },
      "source": [
        "diff(x**4,x,3)"
      ],
      "execution_count": 65,
      "outputs": [
        {
          "output_type": "execute_result",
          "data": {
            "image/png": "[encoded data removed]",
            "text/latex": "$$24 x$$",
            "text/plain": [
              "24⋅x"
            ]
          },
          "metadata": {
            "tags": []
          },
          "execution_count": 65
        }
      ]
    },
    {
      "cell_type": "markdown",
      "metadata": {
        "id": "di7Pq4BPxcOM",
        "colab_type": "text"
      },
      "source": [
        "1. B) Multiple partial derivatives wrt various variables. \n",
        "\n",
        "You can also take derivatives with respect to many variables at once. Just pass each derivative in order, using the same syntax as for single variable derivatives. For example, each of the following will compute \n",
        "\n",
        "(∂7/∂x_∂y2_∂z4)exyz."
      ]
    },
    {
      "cell_type": "code",
      "metadata": {
        "id": "s1hn-zC8xUs1",
        "colab_type": "code",
        "colab": {}
      },
      "source": [
        "x , y , z = symbols('x y z')"
      ],
      "execution_count": 66,
      "outputs": []
    },
    {
      "cell_type": "code",
      "metadata": {
        "id": "M-pmk5lLxxI9",
        "colab_type": "code",
        "colab": {
          "base_uri": "https://localhost:8080/",
          "height": 38
        },
        "outputId": "abccacb5-c527-4c77-8929-3fad47256cba"
      },
      "source": [
        "expr = exp(x*y*z)\n",
        "\n",
        "diff(expr,x,y,y,z,z,z,z)"
      ],
      "execution_count": 67,
      "outputs": [
        {
          "output_type": "execute_result",
          "data": {
            "image/png": "[encoded data removed]",
            "text/latex": "$$x^{3} y^{2} \\left(x^{3} y^{3} z^{3} + 14 x^{2} y^{2} z^{2} + 52 x y z + 48\\right) e^{x y z}$$",
            "text/plain": [
              " 3  2 ⎛ 3  3  3       2  2  2                ⎞  x⋅y⋅z\n",
              "x ⋅y ⋅⎝x ⋅y ⋅z  + 14⋅x ⋅y ⋅z  + 52⋅x⋅y⋅z + 48⎠⋅ℯ     "
            ]
          },
          "metadata": {
            "tags": []
          },
          "execution_count": 67
        }
      ]
    },
    {
      "cell_type": "code",
      "metadata": {
        "id": "dQ0e25OfyB4D",
        "colab_type": "code",
        "colab": {
          "base_uri": "https://localhost:8080/",
          "height": 42
        },
        "outputId": "16bd12b9-9e71-430a-a203-11311a4ecea0"
      },
      "source": [
        "# To create an UNEVALUATED DERIVATIVE - we use the Derivative class\n",
        "\n",
        "deri = Derivative(expr,x,y,y,z,z,z,z)\n",
        "\n",
        "deri"
      ],
      "execution_count": 70,
      "outputs": [
        {
          "output_type": "execute_result",
          "data": {
            "image/png": "[encoded data removed]",
            "text/latex": "$$\\frac{\\partial^{7}}{\\partial x\\partial y^{2}\\partial z^{4}}  e^{x y z}$$",
            "text/plain": [
              "     7            \n",
              "    ∂     ⎛ x⋅y⋅z⎞\n",
              "──────────⎝ℯ     ⎠\n",
              "  4   2           \n",
              "∂z  ∂y  ∂x        "
            ]
          },
          "metadata": {
            "tags": []
          },
          "execution_count": 70
        }
      ]
    },
    {
      "cell_type": "code",
      "metadata": {
        "id": "onriNbk1ysW8",
        "colab_type": "code",
        "colab": {}
      },
      "source": [
        "## NAAAAICE. "
      ],
      "execution_count": 71,
      "outputs": []
    },
    {
      "cell_type": "markdown",
      "metadata": {
        "id": "b_7QaxwAy629",
        "colab_type": "text"
      },
      "source": [
        "1. C) To evaluate an unevaluated derivative, use the doit method."
      ]
    },
    {
      "cell_type": "code",
      "metadata": {
        "id": "HtiXkp-Jy2yk",
        "colab_type": "code",
        "colab": {
          "base_uri": "https://localhost:8080/",
          "height": 38
        },
        "outputId": "dcb37830-a458-47ac-b7a9-50cd5296bf5e"
      },
      "source": [
        "deri.doit()"
      ],
      "execution_count": 72,
      "outputs": [
        {
          "output_type": "execute_result",
          "data": {
            "image/png": "[encoded data removed]",
            "text/latex": "$$x^{3} y^{2} \\left(x^{3} y^{3} z^{3} + 14 x^{2} y^{2} z^{2} + 52 x y z + 48\\right) e^{x y z}$$",
            "text/plain": [
              " 3  2 ⎛ 3  3  3       2  2  2                ⎞  x⋅y⋅z\n",
              "x ⋅y ⋅⎝x ⋅y ⋅z  + 14⋅x ⋅y ⋅z  + 52⋅x⋅y⋅z + 48⎠⋅ℯ     "
            ]
          },
          "metadata": {
            "tags": []
          },
          "execution_count": 72
        }
      ]
    },
    {
      "cell_type": "code",
      "metadata": {
        "id": "QGxZu___zC9-",
        "colab_type": "code",
        "colab": {}
      },
      "source": [
        "#These unevaluated objects are useful for delaying the evaluation of the derivative, or for printing purposes. \n",
        "# They are also used when SymPy does not know how to compute the derivative of an expression \n",
        "# (for example, if it contains an undefined function, which are described in the Solving Differential Equations section)."
      ],
      "execution_count": 75,
      "outputs": []
    },
    {
      "cell_type": "code",
      "metadata": {
        "id": "XwOclzE-zYgR",
        "colab_type": "code",
        "colab": {}
      },
      "source": [
        ""
      ],
      "execution_count": null,
      "outputs": []
    },
    {
      "cell_type": "markdown",
      "metadata": {
        "id": "dZnyTmJG0aB1",
        "colab_type": "text"
      },
      "source": [
        "##2. **Integration**"
      ]
    },
    {
      "cell_type": "code",
      "metadata": {
        "id": "Gnm8fxYI0eKA",
        "colab_type": "code",
        "colab": {
          "base_uri": "https://localhost:8080/",
          "height": 38
        },
        "outputId": "30138144-54a4-4b0a-8910-97b6cdaa6076"
      },
      "source": [
        "integrate(cos(x),x)"
      ],
      "execution_count": 77,
      "outputs": [
        {
          "output_type": "execute_result",
          "data": {
            "image/png": "[encoded data removed]",
            "text/latex": "$$\\sin{\\left (x \\right )}$$",
            "text/plain": [
              "sin(x)"
            ]
          },
          "metadata": {
            "tags": []
          },
          "execution_count": 77
        }
      ]
    },
    {
      "cell_type": "code",
      "metadata": {
        "id": "cAaBfB0c0lrZ",
        "colab_type": "code",
        "colab": {
          "base_uri": "https://localhost:8080/",
          "height": 37
        },
        "outputId": "a820496a-3b8e-42f3-c39d-d0e7f46ae01d"
      },
      "source": [
        "# To compute a definite integral, pass the argument (integration_variable, lower_limit, upper_limit). For example, to compute\n",
        "\n",
        "integrate(exp(-x),(x,0,oo))"
      ],
      "execution_count": 80,
      "outputs": [
        {
          "output_type": "execute_result",
          "data": {
            "image/png": "[encoded data removed]",
            "text/latex": "$$1$$",
            "text/plain": [
              "1"
            ]
          },
          "metadata": {
            "tags": []
          },
          "execution_count": 80
        }
      ]
    },
    {
      "cell_type": "code",
      "metadata": {
        "id": "ScRP1w5-1EZ4",
        "colab_type": "code",
        "colab": {
          "base_uri": "https://localhost:8080/",
          "height": 38
        },
        "outputId": "d167e556-a633-45f5-988b-69a9dd95c306"
      },
      "source": [
        "#As with indefinite integrals, you can pass multiple limit tuples to perform a multiple integral. For example, to compute Gaussian Integral.\n",
        "\n",
        "integrate(exp(-x**2 - y**2),(x,0,oo),(y,0,oo))\n",
        "\n"
      ],
      "execution_count": 81,
      "outputs": [
        {
          "output_type": "execute_result",
          "data": {
            "image/png": "[encoded data removed]",
            "text/latex": "$$\\frac{\\pi}{4}$$",
            "text/plain": [
              "π\n",
              "─\n",
              "4"
            ]
          },
          "metadata": {
            "tags": []
          },
          "execution_count": 81
        }
      ]
    },
    {
      "cell_type": "code",
      "metadata": {
        "id": "osYWBYuH1565",
        "colab_type": "code",
        "colab": {
          "base_uri": "https://localhost:8080/",
          "height": 38
        },
        "outputId": "4e1fb6d0-8df1-4232-c408-30baef92412b"
      },
      "source": [
        "# If integrate is unable to compute an integral, it returns an unevaluated Integral object.\n",
        "\n",
        "integrate(x**x,(x,0,oo))"
      ],
      "execution_count": 84,
      "outputs": [
        {
          "output_type": "execute_result",
          "data": {
            "image/png": "[encoded data removed]",
            "text/latex": "$$\\int_{0}^{\\infty} x^{x}\\, dx$$",
            "text/plain": [
              "∞      \n",
              "⌠      \n",
              "⎮  x   \n",
              "⎮ x  dx\n",
              "⌡      \n",
              "0      "
            ]
          },
          "metadata": {
            "tags": []
          },
          "execution_count": 84
        }
      ]
    },
    {
      "cell_type": "code",
      "metadata": {
        "id": "PfwXTVuO2FTT",
        "colab_type": "code",
        "colab": {
          "base_uri": "https://localhost:8080/",
          "height": 41
        },
        "outputId": "c8638b9b-41e3-4574-ddce-e2b2718c5c41"
      },
      "source": [
        "#As with Derivative, you can create an unevaluated integral using Integral. To later evaluate this integral, call doit.\n",
        "\n",
        "exprn = Integral(exp(x**2),x)\n",
        "\n",
        "exprn.doit()"
      ],
      "execution_count": 91,
      "outputs": [
        {
          "output_type": "execute_result",
          "data": {
            "image/png": "[encoded data removed]",
            "text/latex": "$$\\frac{\\sqrt{\\pi}}{2} \\operatorname{erfi}{\\left (x \\right )}$$",
            "text/plain": [
              "√π⋅erfi(x)\n",
              "──────────\n",
              "    2     "
            ]
          },
          "metadata": {
            "tags": []
          },
          "execution_count": 91
        }
      ]
    },
    {
      "cell_type": "markdown",
      "metadata": {
        "id": "Kr_ca_dX4bJf",
        "colab_type": "text"
      },
      "source": [
        "#3. **Series Expansion**\n",
        "\n",
        "SymPy can compute asymptotic series expansions of functions around a point. To compute the expansion of f(x) around the point x=x0 terms of order xn, use f(x).series(x, x0, n). x0 and n can be omitted, in which case the defaults x0=0 and n=6 will be used.\n",
        "\n",
        "n is the highest degree upto which we want and xo is around what we want our expansion."
      ]
    },
    {
      "cell_type": "code",
      "metadata": {
        "id": "6APbJSxF3ut9",
        "colab_type": "code",
        "colab": {
          "base_uri": "https://localhost:8080/",
          "height": 40
        },
        "outputId": "13c0c68c-29ff-4640-b60e-6a45cdb2ee62"
      },
      "source": [
        "expr = sin(x)\n",
        "\n",
        "expr.series(x,0,5)"
      ],
      "execution_count": 93,
      "outputs": [
        {
          "output_type": "execute_result",
          "data": {
            "image/png": "[encoded data removed]",
            "text/latex": "$$x - \\frac{x^{3}}{6} + \\mathcal{O}\\left(x^{5}\\right)$$",
            "text/plain": [
              "     3        \n",
              "    x     ⎛ 5⎞\n",
              "x - ── + O⎝x ⎠\n",
              "    6         "
            ]
          },
          "metadata": {
            "tags": []
          },
          "execution_count": 93
        }
      ]
    },
    {
      "cell_type": "code",
      "metadata": {
        "id": "-meaUdqf4_-3",
        "colab_type": "code",
        "colab": {}
      },
      "source": [
        ""
      ],
      "execution_count": null,
      "outputs": []
    },
    {
      "cell_type": "markdown",
      "metadata": {
        "id": "K5rYRoOa5nx5",
        "colab_type": "text"
      },
      "source": [
        "#4. **Finite Differences**\n",
        "\n",
        "So far we have looked at expressions with analytic derivatives and primitive functions respectively. But what if we want to have an expression to estimate a derivative of a curve for which we lack a closed form representation, or for which we don’t know the functional values for yet. One approach would be to use a finite difference approach.\n",
        "\n",
        "The simplest way the differentiate using finite differences is to use the differentiate_finite function."
      ]
    },
    {
      "cell_type": "code",
      "metadata": {
        "id": "E_1-i2Vu5RO5",
        "colab_type": "code",
        "colab": {}
      },
      "source": [
        "#########################################################################################################"
      ],
      "execution_count": 94,
      "outputs": []
    },
    {
      "cell_type": "code",
      "metadata": {
        "id": "rG2Z2gWO6MJ-",
        "colab_type": "code",
        "colab": {}
      },
      "source": [
        ""
      ],
      "execution_count": null,
      "outputs": []
    },
    {
      "cell_type": "markdown",
      "metadata": {
        "id": "2pATjCvk6RA7",
        "colab_type": "text"
      },
      "source": [
        "#5. **SOLVERS**"
      ]
    },
    {
      "cell_type": "code",
      "metadata": {
        "id": "G126cquQ6VL8",
        "colab_type": "code",
        "colab": {
          "base_uri": "https://localhost:8080/",
          "height": 38
        },
        "outputId": "849c2332-5d79-42bf-b2a4-b3e28a707c49"
      },
      "source": [
        "#1. Symbolic equations\n",
        "\n",
        "Eq(x,y)"
      ],
      "execution_count": 95,
      "outputs": [
        {
          "output_type": "execute_result",
          "data": {
            "image/png": "[encoded data removed]",
            "text/latex": "$$x = y$$",
            "text/plain": [
              "x = y"
            ]
          },
          "metadata": {
            "tags": []
          },
          "execution_count": 95
        }
      ]
    },
    {
      "cell_type": "code",
      "metadata": {
        "id": "JwSKfPER6c6L",
        "colab_type": "code",
        "colab": {
          "base_uri": "https://localhost:8080/",
          "height": 38
        },
        "outputId": "13f925af-4a7c-419e-915d-d53e85b7996c"
      },
      "source": [
        "# solveset(Eq(expr, rhs), x)\n",
        "\n",
        "# example sinx = x\n",
        "\n",
        "solveset(Eq(sin(x),1),x)"
      ],
      "execution_count": 98,
      "outputs": [
        {
          "output_type": "execute_result",
          "data": {
            "image/png": "[encoded data removed]",
            "text/latex": "$$\\left\\{2 n \\pi + \\frac{\\pi}{2}\\; |\\; n \\in \\mathbb{Z}\\right\\}$$",
            "text/plain": [
              "⎧        π        ⎫\n",
              "⎨2⋅n⋅π + ─ | n ∊ ℤ⎬\n",
              "⎩        2        ⎭"
            ]
          },
          "metadata": {
            "tags": []
          },
          "execution_count": 98
        }
      ]
    },
    {
      "cell_type": "code",
      "metadata": {
        "id": "9rcI_akU6g2R",
        "colab_type": "code",
        "colab": {
          "base_uri": "https://localhost:8080/",
          "height": 38
        },
        "outputId": "037a09be-d042-45bb-c2a5-970b26825c98"
      },
      "source": [
        "solve(Eq(sin(x) - 1),x)"
      ],
      "execution_count": 100,
      "outputs": [
        {
          "output_type": "execute_result",
          "data": {
            "image/png": "[encoded data removed]",
            "text/latex": "$$\\left [ \\frac{\\pi}{2}\\right ]$$",
            "text/plain": [
              "⎡π⎤\n",
              "⎢─⎥\n",
              "⎣2⎦"
            ]
          },
          "metadata": {
            "tags": []
          },
          "execution_count": 100
        }
      ]
    },
    {
      "cell_type": "code",
      "metadata": {
        "id": "uPqbgFQv7cS8",
        "colab_type": "code",
        "colab": {}
      },
      "source": [
        "#Hence it feels like solveset gives a set of soluttions and solve just gives a solkution."
      ],
      "execution_count": 101,
      "outputs": []
    },
    {
      "cell_type": "markdown",
      "metadata": {
        "id": "E-bszjGH7381",
        "colab_type": "text"
      },
      "source": [
        "##5.1 **Solving Linear Algebra using linsolve**"
      ]
    },
    {
      "cell_type": "code",
      "metadata": {
        "id": "yIpAmeBP7oZH",
        "colab_type": "code",
        "colab": {
          "base_uri": "https://localhost:8080/",
          "height": 38
        },
        "outputId": "8c7369fa-dc6e-4b36-9915-a28ddc3bb780"
      },
      "source": [
        "linsolve([x-1 , y-1, z-1],(x,y,z))"
      ],
      "execution_count": 104,
      "outputs": [
        {
          "output_type": "execute_result",
          "data": {
            "image/png": "[encoded data removed]",
            "text/latex": "$$\\left\\{\\left ( - y + 1, \\quad y, \\quad 1\\right )\\right\\}$$",
            "text/plain": [
              "{(-y + 1, y, 1)}"
            ]
          },
          "metadata": {
            "tags": []
          },
          "execution_count": 104
        }
      ]
    },
    {
      "cell_type": "code",
      "metadata": {
        "id": "qkwQZI1r8Nha",
        "colab_type": "code",
        "colab": {
          "base_uri": "https://localhost:8080/",
          "height": 37
        },
        "outputId": "6684f15e-90ff-476a-8633-d6c58207052b"
      },
      "source": [
        "# A*x = b form\n",
        "\n",
        "linsolve(Matrix(([1, 1, 1, 1], [1, 1, 2, 3],[1,0,1,2])), (x, y, z))"
      ],
      "execution_count": 109,
      "outputs": [
        {
          "output_type": "execute_result",
          "data": {
            "image/png": "[encoded data removed]",
            "text/latex": "$$\\left\\{\\left ( 0, \\quad -1, \\quad 2\\right )\\right\\}$$",
            "text/plain": [
              "{(0, -1, 2)}"
            ]
          },
          "metadata": {
            "tags": []
          },
          "execution_count": 109
        }
      ]
    },
    {
      "cell_type": "code",
      "metadata": {
        "id": "iI9S2UQS8ys7",
        "colab_type": "code",
        "colab": {}
      },
      "source": [
        "##NAICE. So you write the Augmented matrix in ([R1, R2, R3]) type as an argument. and the variables to solve for(tuple) as other. \n",
        "\n",
        "# linsolve(Matrix(([R1],[R2],[R3])),(x,y,z))"
      ],
      "execution_count": 110,
      "outputs": []
    },
    {
      "cell_type": "code",
      "metadata": {
        "id": "hUB5dl--9e2Z",
        "colab_type": "code",
        "colab": {}
      },
      "source": [
        "#####"
      ],
      "execution_count": null,
      "outputs": []
    },
    {
      "cell_type": "markdown",
      "metadata": {
        "id": "Xw90L6le9qBL",
        "colab_type": "text"
      },
      "source": [
        "#6. **SOlving Differential Equations**"
      ]
    },
    {
      "cell_type": "code",
      "metadata": {
        "id": "Mtqq8_949vky",
        "colab_type": "code",
        "colab": {}
      },
      "source": [
        "# To represent the differential equation f′′(x)−2f′(x)+f(x)=sin(x), we would thus use\n",
        "f , g = symbols('f g')\n",
        "\n",
        "#earlier i had mistakenly done x = y so\n",
        "\n",
        "x=x\n",
        "\n",
        "diffeq = Eq(f(x).diff(x,x) - 2*f(x).diff(x) + f(x) , sin(x))"
      ],
      "execution_count": 113,
      "outputs": []
    },
    {
      "cell_type": "code",
      "metadata": {
        "id": "kNq0bFIz-HPr",
        "colab_type": "code",
        "colab": {
          "base_uri": "https://localhost:8080/",
          "height": 42
        },
        "outputId": "946dbc02-adab-4170-dd09-f4eaa12fa26a"
      },
      "source": [
        "diffeq"
      ],
      "execution_count": 114,
      "outputs": [
        {
          "output_type": "execute_result",
          "data": {
            "image/png": "[encoded data removed]",
            "text/latex": "$$f{\\left (y \\right )} - 2 \\frac{d}{d y} f{\\left (y \\right )} + \\frac{d^{2}}{d y^{2}}  f{\\left (y \\right )} = \\sin{\\left (y \\right )}$$",
            "text/plain": [
              "                      2               \n",
              "         d           d                \n",
              "f(y) - 2⋅──(f(y)) + ───(f(y)) = sin(y)\n",
              "         dy           2               \n",
              "                    dy                "
            ]
          },
          "metadata": {
            "tags": []
          },
          "execution_count": 114
        }
      ]
    },
    {
      "cell_type": "code",
      "metadata": {
        "id": "iDURWcNI-Jac",
        "colab_type": "code",
        "colab": {
          "base_uri": "https://localhost:8080/",
          "height": 38
        },
        "outputId": "e29c1226-96bb-477f-a184-d936ed64d493"
      },
      "source": [
        "dsolve(diffeq,f(x))"
      ],
      "execution_count": 115,
      "outputs": [
        {
          "output_type": "execute_result",
          "data": {
            "image/png": "[encoded data removed]",
            "text/latex": "$$f{\\left (y \\right )} = \\left(C_{1} + C_{2} y\\right) e^{y} + \\frac{1}{2} \\cos{\\left (y \\right )}$$",
            "text/plain": [
              "                    y   cos(y)\n",
              "f(y) = (C₁ + C₂⋅y)⋅ℯ  + ──────\n",
              "                          2   "
            ]
          },
          "metadata": {
            "tags": []
          },
          "execution_count": 115
        }
      ]
    },
    {
      "cell_type": "code",
      "metadata": {
        "id": "bF67z5W5-gh5",
        "colab_type": "code",
        "colab": {}
      },
      "source": [
        "#This y is displayed instead of x because i equated both symbols once, mistakenly. \n",
        "#Otherwise very CLEAR!\n"
      ],
      "execution_count": 116,
      "outputs": []
    },
    {
      "cell_type": "code",
      "metadata": {
        "id": "TZSbSDFb-qte",
        "colab_type": "code",
        "colab": {}
      },
      "source": [
        "#End."
      ],
      "execution_count": 117,
      "outputs": []
    },
    {
      "cell_type": "code",
      "metadata": {
        "id": "Y005iajw-u7e",
        "colab_type": "code",
        "colab": {}
      },
      "source": [
        ""
      ],
      "execution_count": null,
      "outputs": []
    }
  ]
}