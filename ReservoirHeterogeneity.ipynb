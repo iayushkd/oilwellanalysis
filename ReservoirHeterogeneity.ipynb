{
  "nbformat": 4,
  "nbformat_minor": 0,
  "metadata": {
    "colab": {
      "name": "ReservoirHeterogeneity.ipynb",
      "provenance": [],
      "collapsed_sections": [],
      "authorship_tag": "ABX9TyPEsbC/k9ZnvCo+XueXFEtH",
      "include_colab_link": true
    },
    "kernelspec": {
      "name": "python3",
      "display_name": "Python 3"
    }
  },
  "cells": [
    {
      "cell_type": "markdown",
      "metadata": {
        "id": "view-in-github",
        "colab_type": "text"
      },
      "source": [
        "<a href=\"https://colab.research.google.com/github/Divyanshu-ISM/Oil-and-Gas-data-analysis/blob/master/ReservoirHeterogeneity.ipynb\" target=\"_parent\"><img src=\"https://colab.research.google.com/assets/colab-badge.svg\" alt=\"Open In Colab\"/></a>"
      ]
    },
    {
      "cell_type": "markdown",
      "metadata": {
        "id": "4Ef0OrUnvKCl",
        "colab_type": "text"
      },
      "source": [
        "#There are essentially two types of heterogeneity:\n",
        "• Vertical heterogeneity\n",
        "• Areal heterogeneity\n",
        "\n",
        "#Vertical Heterogeneity\n",
        "One of the first problems encountered by the reservoir engineer in predicting or interpreting fluid displacement behavior during secondary\n",
        "recovery and enhanced oil recovery processes is that of organizing and\n",
        "using the large amount of data available from core analysis. Permeabilities pose particular problems in organization because they usually vary\n",
        "by more than an order of magnitude between different strata. The engineer must be able then to:\n",
        "• Describe the degree of the vertical heterogeneity in mathematical\n",
        "terms, and\n",
        "• Describe and define the proper permeability stratification of the pay\n",
        "zone. This task is commonly called the zoning or layering problem.\n",
        "\n",
        "The following are the two most widely used descriptors of\n",
        "the vertical heterogeneity of the formation:\n",
        "#1. Dykstra-Parsons permeability variation V\n",
        "#2. Lorenz coefficient L"
      ]
    },
    {
      "cell_type": "code",
      "metadata": {
        "id": "EYGa6j5OxYwR",
        "colab_type": "code",
        "colab": {}
      },
      "source": [
        "#STEP 1 : The Data"
      ],
      "execution_count": 6,
      "outputs": []
    },
    {
      "cell_type": "code",
      "metadata": {
        "id": "mkrqGaCouxGB",
        "colab_type": "code",
        "colab": {}
      },
      "source": [
        "import numpy as np\n",
        "import pandas as pd\n",
        "import seaborn as sns\n",
        "import matplotlib.pyplot as plt\n",
        "from scipy import stats\n",
        "%matplotlib inline"
      ],
      "execution_count": 70,
      "outputs": []
    },
    {
      "cell_type": "code",
      "metadata": {
        "id": "oYfl0KqI0_Xn",
        "colab_type": "code",
        "colab": {}
      },
      "source": [
        "df = pd.read_csv('Perm.csv.txt',sep=' ',index_col=None)"
      ],
      "execution_count": 8,
      "outputs": []
    },
    {
      "cell_type": "code",
      "metadata": {
        "id": "7WcPcYKc1MoL",
        "colab_type": "code",
        "colab": {}
      },
      "source": [
        "kh_data = df[['a','b']]"
      ],
      "execution_count": 9,
      "outputs": []
    },
    {
      "cell_type": "code",
      "metadata": {
        "id": "zQklJXln1NxQ",
        "colab_type": "code",
        "colab": {}
      },
      "source": [
        "kh_data.columns = ['k','h']"
      ],
      "execution_count": 10,
      "outputs": []
    },
    {
      "cell_type": "code",
      "metadata": {
        "id": "tpSg2ayk4YAh",
        "colab_type": "code",
        "colab": {
          "base_uri": "https://localhost:8080/",
          "height": 34
        },
        "outputId": "012ce53b-37c7-4601-f9cd-e17d34b9d99a"
      },
      "source": [
        "total_thickness = kh_data['h'].sum()\n",
        "print(f'The total reservoir thickness is= {total_thickness} ft.')"
      ],
      "execution_count": 11,
      "outputs": [
        {
          "output_type": "stream",
          "text": [
            "The total reservoir thickness is= 56.0 ft.\n"
          ],
          "name": "stdout"
        }
      ]
    },
    {
      "cell_type": "code",
      "metadata": {
        "id": "V7dZPKKt4ZUv",
        "colab_type": "code",
        "colab": {}
      },
      "source": [
        "h = list(kh_data['h'])\n",
        "\n",
        "sum = 0\n",
        "cum_h = [0]\n",
        "\n",
        "for i in range(len(h)-1):\n",
        "  sum = sum + h[i]\n",
        "  cum_h.append(sum)\n",
        "\n"
      ],
      "execution_count": 12,
      "outputs": []
    },
    {
      "cell_type": "code",
      "metadata": {
        "id": "2Op03C_J5ZD5",
        "colab_type": "code",
        "colab": {
          "base_uri": "https://localhost:8080/",
          "height": 119
        },
        "outputId": "4fba0d32-dbc0-4fd0-ba4d-0b679e025216"
      },
      "source": [
        "kh_data['h with greater k'] = cum_h"
      ],
      "execution_count": 13,
      "outputs": [
        {
          "output_type": "stream",
          "text": [
            "/usr/local/lib/python3.6/dist-packages/ipykernel_launcher.py:1: SettingWithCopyWarning: \n",
            "A value is trying to be set on a copy of a slice from a DataFrame.\n",
            "Try using .loc[row_indexer,col_indexer] = value instead\n",
            "\n",
            "See the caveats in the documentation: https://pandas.pydata.org/pandas-docs/stable/user_guide/indexing.html#returning-a-view-versus-a-copy\n",
            "  \"\"\"Entry point for launching an IPython kernel.\n"
          ],
          "name": "stderr"
        }
      ]
    },
    {
      "cell_type": "code",
      "metadata": {
        "id": "Zg75FYxA6cW5",
        "colab_type": "code",
        "colab": {}
      },
      "source": [
        "kh_data['%h with greater k'] = kh_data['h with greater k'].apply(lambda x : (x/56)*100)"
      ],
      "execution_count": 14,
      "outputs": []
    },
    {
      "cell_type": "code",
      "metadata": {
        "id": "qNyNqYBp7xx8",
        "colab_type": "code",
        "colab": {
          "base_uri": "https://localhost:8080/",
          "height": 855
        },
        "outputId": "44b01737-5130-49b2-ea86-902379aaf204"
      },
      "source": [
        "kh_data"
      ],
      "execution_count": 15,
      "outputs": [
        {
          "output_type": "execute_result",
          "data": {
            "text/html": [
              "<div>\n",
              "<style scoped>\n",
              "    .dataframe tbody tr th:only-of-type {\n",
              "        vertical-align: middle;\n",
              "    }\n",
              "\n",
              "    .dataframe tbody tr th {\n",
              "        vertical-align: top;\n",
              "    }\n",
              "\n",
              "    .dataframe thead th {\n",
              "        text-align: right;\n",
              "    }\n",
              "</style>\n",
              "<table border=\"1\" class=\"dataframe\">\n",
              "  <thead>\n",
              "    <tr style=\"text-align: right;\">\n",
              "      <th></th>\n",
              "      <th>k</th>\n",
              "      <th>h</th>\n",
              "      <th>h with greater k</th>\n",
              "      <th>%h with greater k</th>\n",
              "    </tr>\n",
              "  </thead>\n",
              "  <tbody>\n",
              "    <tr>\n",
              "      <th>0</th>\n",
              "      <td>435</td>\n",
              "      <td>2.0</td>\n",
              "      <td>0.0</td>\n",
              "      <td>0.000000</td>\n",
              "    </tr>\n",
              "    <tr>\n",
              "      <th>1</th>\n",
              "      <td>254</td>\n",
              "      <td>2.0</td>\n",
              "      <td>2.0</td>\n",
              "      <td>3.571429</td>\n",
              "    </tr>\n",
              "    <tr>\n",
              "      <th>2</th>\n",
              "      <td>196</td>\n",
              "      <td>2.0</td>\n",
              "      <td>4.0</td>\n",
              "      <td>7.142857</td>\n",
              "    </tr>\n",
              "    <tr>\n",
              "      <th>3</th>\n",
              "      <td>172</td>\n",
              "      <td>3.0</td>\n",
              "      <td>6.0</td>\n",
              "      <td>10.714286</td>\n",
              "    </tr>\n",
              "    <tr>\n",
              "      <th>4</th>\n",
              "      <td>166</td>\n",
              "      <td>2.0</td>\n",
              "      <td>9.0</td>\n",
              "      <td>16.071429</td>\n",
              "    </tr>\n",
              "    <tr>\n",
              "      <th>5</th>\n",
              "      <td>158</td>\n",
              "      <td>2.0</td>\n",
              "      <td>11.0</td>\n",
              "      <td>19.642857</td>\n",
              "    </tr>\n",
              "    <tr>\n",
              "      <th>6</th>\n",
              "      <td>153</td>\n",
              "      <td>2.0</td>\n",
              "      <td>13.0</td>\n",
              "      <td>23.214286</td>\n",
              "    </tr>\n",
              "    <tr>\n",
              "      <th>7</th>\n",
              "      <td>147</td>\n",
              "      <td>2.0</td>\n",
              "      <td>15.0</td>\n",
              "      <td>26.785714</td>\n",
              "    </tr>\n",
              "    <tr>\n",
              "      <th>8</th>\n",
              "      <td>128</td>\n",
              "      <td>1.0</td>\n",
              "      <td>17.0</td>\n",
              "      <td>30.357143</td>\n",
              "    </tr>\n",
              "    <tr>\n",
              "      <th>9</th>\n",
              "      <td>105</td>\n",
              "      <td>2.0</td>\n",
              "      <td>18.0</td>\n",
              "      <td>32.142857</td>\n",
              "    </tr>\n",
              "    <tr>\n",
              "      <th>10</th>\n",
              "      <td>100</td>\n",
              "      <td>1.0</td>\n",
              "      <td>20.0</td>\n",
              "      <td>35.714286</td>\n",
              "    </tr>\n",
              "    <tr>\n",
              "      <th>11</th>\n",
              "      <td>91</td>\n",
              "      <td>2.5</td>\n",
              "      <td>21.0</td>\n",
              "      <td>37.500000</td>\n",
              "    </tr>\n",
              "    <tr>\n",
              "      <th>12</th>\n",
              "      <td>90</td>\n",
              "      <td>2.5</td>\n",
              "      <td>23.5</td>\n",
              "      <td>41.964286</td>\n",
              "    </tr>\n",
              "    <tr>\n",
              "      <th>13</th>\n",
              "      <td>83</td>\n",
              "      <td>2.0</td>\n",
              "      <td>26.0</td>\n",
              "      <td>46.428571</td>\n",
              "    </tr>\n",
              "    <tr>\n",
              "      <th>14</th>\n",
              "      <td>72</td>\n",
              "      <td>1.5</td>\n",
              "      <td>28.0</td>\n",
              "      <td>50.000000</td>\n",
              "    </tr>\n",
              "    <tr>\n",
              "      <th>15</th>\n",
              "      <td>62</td>\n",
              "      <td>2.0</td>\n",
              "      <td>29.5</td>\n",
              "      <td>52.678571</td>\n",
              "    </tr>\n",
              "    <tr>\n",
              "      <th>16</th>\n",
              "      <td>49</td>\n",
              "      <td>6.5</td>\n",
              "      <td>31.5</td>\n",
              "      <td>56.250000</td>\n",
              "    </tr>\n",
              "    <tr>\n",
              "      <th>17</th>\n",
              "      <td>44</td>\n",
              "      <td>2.0</td>\n",
              "      <td>38.0</td>\n",
              "      <td>67.857143</td>\n",
              "    </tr>\n",
              "    <tr>\n",
              "      <th>18</th>\n",
              "      <td>40</td>\n",
              "      <td>2.0</td>\n",
              "      <td>40.0</td>\n",
              "      <td>71.428571</td>\n",
              "    </tr>\n",
              "    <tr>\n",
              "      <th>19</th>\n",
              "      <td>35</td>\n",
              "      <td>2.0</td>\n",
              "      <td>42.0</td>\n",
              "      <td>75.000000</td>\n",
              "    </tr>\n",
              "    <tr>\n",
              "      <th>20</th>\n",
              "      <td>32</td>\n",
              "      <td>2.0</td>\n",
              "      <td>44.0</td>\n",
              "      <td>78.571429</td>\n",
              "    </tr>\n",
              "    <tr>\n",
              "      <th>21</th>\n",
              "      <td>30</td>\n",
              "      <td>2.0</td>\n",
              "      <td>46.0</td>\n",
              "      <td>82.142857</td>\n",
              "    </tr>\n",
              "    <tr>\n",
              "      <th>22</th>\n",
              "      <td>28</td>\n",
              "      <td>2.0</td>\n",
              "      <td>48.0</td>\n",
              "      <td>85.714286</td>\n",
              "    </tr>\n",
              "    <tr>\n",
              "      <th>23</th>\n",
              "      <td>27</td>\n",
              "      <td>2.0</td>\n",
              "      <td>50.0</td>\n",
              "      <td>89.285714</td>\n",
              "    </tr>\n",
              "    <tr>\n",
              "      <th>24</th>\n",
              "      <td>20</td>\n",
              "      <td>2.0</td>\n",
              "      <td>52.0</td>\n",
              "      <td>92.857143</td>\n",
              "    </tr>\n",
              "    <tr>\n",
              "      <th>25</th>\n",
              "      <td>9</td>\n",
              "      <td>2.0</td>\n",
              "      <td>54.0</td>\n",
              "      <td>96.428571</td>\n",
              "    </tr>\n",
              "  </tbody>\n",
              "</table>\n",
              "</div>"
            ],
            "text/plain": [
              "      k    h  h with greater k  %h with greater k\n",
              "0   435  2.0               0.0           0.000000\n",
              "1   254  2.0               2.0           3.571429\n",
              "2   196  2.0               4.0           7.142857\n",
              "3   172  3.0               6.0          10.714286\n",
              "4   166  2.0               9.0          16.071429\n",
              "5   158  2.0              11.0          19.642857\n",
              "6   153  2.0              13.0          23.214286\n",
              "7   147  2.0              15.0          26.785714\n",
              "8   128  1.0              17.0          30.357143\n",
              "9   105  2.0              18.0          32.142857\n",
              "10  100  1.0              20.0          35.714286\n",
              "11   91  2.5              21.0          37.500000\n",
              "12   90  2.5              23.5          41.964286\n",
              "13   83  2.0              26.0          46.428571\n",
              "14   72  1.5              28.0          50.000000\n",
              "15   62  2.0              29.5          52.678571\n",
              "16   49  6.5              31.5          56.250000\n",
              "17   44  2.0              38.0          67.857143\n",
              "18   40  2.0              40.0          71.428571\n",
              "19   35  2.0              42.0          75.000000\n",
              "20   32  2.0              44.0          78.571429\n",
              "21   30  2.0              46.0          82.142857\n",
              "22   28  2.0              48.0          85.714286\n",
              "23   27  2.0              50.0          89.285714\n",
              "24   20  2.0              52.0          92.857143\n",
              "25    9  2.0              54.0          96.428571"
            ]
          },
          "metadata": {
            "tags": []
          },
          "execution_count": 15
        }
      ]
    },
    {
      "cell_type": "code",
      "metadata": {
        "id": "Cdxy9ObR8qjQ",
        "colab_type": "code",
        "colab": {}
      },
      "source": [
        "#Hence our required dataset is prepared"
      ],
      "execution_count": 16,
      "outputs": []
    },
    {
      "cell_type": "code",
      "metadata": {
        "id": "0kia5scD80RB",
        "colab_type": "code",
        "colab": {}
      },
      "source": [
        "#Step 2: Plotting"
      ],
      "execution_count": 17,
      "outputs": []
    },
    {
      "cell_type": "code",
      "metadata": {
        "id": "9z_OE5ci9Mtd",
        "colab_type": "code",
        "colab": {
          "base_uri": "https://localhost:8080/",
          "height": 102
        },
        "outputId": "e84cdddb-cb51-41d2-b050-0cc6f837aa33"
      },
      "source": [
        "kh_data['%h with greater k'][0] = 1\n"
      ],
      "execution_count": 85,
      "outputs": [
        {
          "output_type": "stream",
          "text": [
            "/usr/local/lib/python3.6/dist-packages/ipykernel_launcher.py:1: SettingWithCopyWarning: \n",
            "A value is trying to be set on a copy of a slice from a DataFrame\n",
            "\n",
            "See the caveats in the documentation: https://pandas.pydata.org/pandas-docs/stable/user_guide/indexing.html#returning-a-view-versus-a-copy\n",
            "  \"\"\"Entry point for launching an IPython kernel.\n"
          ],
          "name": "stderr"
        }
      ]
    },
    {
      "cell_type": "code",
      "metadata": {
        "id": "DyTuS0bF9pTq",
        "colab_type": "code",
        "colab": {}
      },
      "source": [
        "X = kh_data[['%h with greater k']].values\n",
        "y = kh_data[['k']].values\n",
        "y = np.array(y).reshape(26,)"
      ],
      "execution_count": 86,
      "outputs": []
    },
    {
      "cell_type": "markdown",
      "metadata": {
        "id": "xaAWV3EeftjT",
        "colab_type": "text"
      },
      "source": [
        "# Evaluating k50 and k84.1 since - \n",
        "The Dykstra-Parsons permeability variation is defined by the following expression:\n",
        "# V = [k(50) - k(84.1)]/k(50)\n"
      ]
    },
    {
      "cell_type": "code",
      "metadata": {
        "id": "bgw1b-qgf4dB",
        "colab_type": "code",
        "colab": {}
      },
      "source": [
        "X = np.log(X).reshape(26,)\n",
        "slope, intercept, r_value, p_value, std_err = stats.linregress(X,y)"
      ],
      "execution_count": 87,
      "outputs": []
    },
    {
      "cell_type": "code",
      "metadata": {
        "id": "4Usuu9qBghqy",
        "colab_type": "code",
        "colab": {
          "base_uri": "https://localhost:8080/",
          "height": 51
        },
        "outputId": "84a1612c-978f-4c92-9fe6-8f2a80dbebb5"
      },
      "source": [
        "k50 = slope*np.log(50) + intercept\n",
        "print(f\"k50 = {k50} md\")\n",
        "k84_1 = slope*np.log(84.1) + intercept\n",
        "print(f\"k84.1 = {k84_1} md\")"
      ],
      "execution_count": 88,
      "outputs": [
        {
          "output_type": "stream",
          "text": [
            "k50 = 70.55707045142475 md\n",
            "k84.1 = 27.361113180695554 md\n"
          ],
          "name": "stdout"
        }
      ]
    },
    {
      "cell_type": "code",
      "metadata": {
        "id": "Wh3-CfhK3NWl",
        "colab_type": "code",
        "colab": {
          "base_uri": "https://localhost:8080/",
          "height": 34
        },
        "outputId": "ca62dc7a-ace3-497b-95a4-61c0b2c1a411"
      },
      "source": [
        "#Hence,\n",
        "V = (k50 - k84_1)/k50\n",
        "print(f\"The Dykstra-Parsons permeability variation is = {V}\")"
      ],
      "execution_count": 89,
      "outputs": [
        {
          "output_type": "stream",
          "text": [
            "The Dykstra-Parsons permeability variation is = 0.6122130212374336\n"
          ],
          "name": "stdout"
        }
      ]
    },
    {
      "cell_type": "code",
      "metadata": {
        "id": "LaWD5Ohp3j0W",
        "colab_type": "code",
        "colab": {}
      },
      "source": [
        "yp = slope*X + intercept"
      ],
      "execution_count": 90,
      "outputs": []
    },
    {
      "cell_type": "code",
      "metadata": {
        "id": "3i4svIW4XUUR",
        "colab_type": "code",
        "colab": {
          "base_uri": "https://localhost:8080/",
          "height": 312
        },
        "outputId": "a038be26-be93-419d-c903-97d772f343c5"
      },
      "source": [
        "sns.regplot(X,y,)\n",
        "plt.xlabel('Log of Probablity (of % h)')\n",
        "plt.ylabel('K, milidarcy')\n",
        "plt.title(\"Dykstra-Psrson's plot\" )"
      ],
      "execution_count": 158,
      "outputs": [
        {
          "output_type": "execute_result",
          "data": {
            "text/plain": [
              "Text(0.5, 1.0, \"Dykstra-Psrson's plot\")"
            ]
          },
          "metadata": {
            "tags": []
          },
          "execution_count": 158
        },
        {
          "output_type": "display_data",
          "data": {
            "image/png": "[encoded data removed]",
            "text/plain": [
              "<Figure size 432x288 with 1 Axes>"
            ]
          },
          "metadata": {
            "tags": [],
            "needs_background": "light"
          }
        }
      ]
    },
    {
      "cell_type": "code",
      "metadata": {
        "id": "u1FLr-IC3mPq",
        "colab_type": "code",
        "colab": {}
      },
      "source": [
        "#Note that you can either take the log of x-values and plot on cartesian or \n",
        "# take the original values with x-axis being logarithmic. Same thing!\n"
      ],
      "execution_count": 94,
      "outputs": []
    },
    {
      "cell_type": "markdown",
      "metadata": {
        "id": "bMnZRL4YkNex",
        "colab_type": "text"
      },
      "source": [
        "#2. Lorrenz Plot\n",
        "\n",
        "1. Lorenz coefficient in terms of permeability variation:\n",
        "L = 0.0116356 + 0.339794*V + 1.066405*V^2 - 0.3852407*V^3 \n",
        "\n",
        "2. Permeability variation in terms of Lorenz coefficient:\n",
        "V = -5.05971*(10-4) + 1.747525L - 1.468855*L^2 + 0.701023*L^3 \n"
      ]
    },
    {
      "cell_type": "code",
      "metadata": {
        "id": "vfV4XGik3tP_",
        "colab_type": "code",
        "colab": {}
      },
      "source": [
        "L = 0.0116356 + 0.339794*V + 1.066405*(V**2) - 0.3852407*(V**3)"
      ],
      "execution_count": 95,
      "outputs": []
    },
    {
      "cell_type": "code",
      "metadata": {
        "id": "zY8odwla4DsX",
        "colab_type": "code",
        "colab": {
          "base_uri": "https://localhost:8080/",
          "height": 34
        },
        "outputId": "bfa1eee4-f7fc-45a8-82c6-612461d7184a"
      },
      "source": [
        "print(L)"
      ],
      "execution_count": 96,
      "outputs": [
        {
          "output_type": "stream",
          "text": [
            "0.5309581332510235\n"
          ],
          "name": "stdout"
        }
      ]
    },
    {
      "cell_type": "code",
      "metadata": {
        "id": "F1xKxUud4FHZ",
        "colab_type": "code",
        "colab": {}
      },
      "source": [
        "#Let's do this in a more explainable way!"
      ],
      "execution_count": 97,
      "outputs": []
    },
    {
      "cell_type": "code",
      "metadata": {
        "id": "8unLjcd7aN3t",
        "colab_type": "code",
        "colab": {}
      },
      "source": [
        "lp_data = kh_data[['k','h']]"
      ],
      "execution_count": 99,
      "outputs": []
    },
    {
      "cell_type": "code",
      "metadata": {
        "id": "0ZZSTbx8b-oL",
        "colab_type": "code",
        "colab": {}
      },
      "source": [
        "h = list(lp_data['h'])\n",
        "\n",
        "sum = 2\n",
        "cum_h = [2]\n",
        "\n",
        "for i in range(1,len(h)):\n",
        "  sum = sum + h[i]\n",
        "  cum_h.append(sum)"
      ],
      "execution_count": 138,
      "outputs": []
    },
    {
      "cell_type": "code",
      "metadata": {
        "id": "9CwYQpTTm0NS",
        "colab_type": "code",
        "colab": {
          "base_uri": "https://localhost:8080/",
          "height": 111
        },
        "outputId": "c0975076-f776-4b14-c7b5-c235efa895b5"
      },
      "source": [
        "lp_data['kh'] = lp_data['k']*lp_data['h']\n",
        "lp_data.head(2)"
      ],
      "execution_count": 139,
      "outputs": [
        {
          "output_type": "execute_result",
          "data": {
            "text/html": [
              "<div>\n",
              "<style scoped>\n",
              "    .dataframe tbody tr th:only-of-type {\n",
              "        vertical-align: middle;\n",
              "    }\n",
              "\n",
              "    .dataframe tbody tr th {\n",
              "        vertical-align: top;\n",
              "    }\n",
              "\n",
              "    .dataframe thead th {\n",
              "        text-align: right;\n",
              "    }\n",
              "</style>\n",
              "<table border=\"1\" class=\"dataframe\">\n",
              "  <thead>\n",
              "    <tr style=\"text-align: right;\">\n",
              "      <th></th>\n",
              "      <th>k</th>\n",
              "      <th>h</th>\n",
              "      <th>kh</th>\n",
              "      <th>cum_h</th>\n",
              "      <th>cum_kh</th>\n",
              "    </tr>\n",
              "  </thead>\n",
              "  <tbody>\n",
              "    <tr>\n",
              "      <th>0</th>\n",
              "      <td>435</td>\n",
              "      <td>2.0</td>\n",
              "      <td>870.0</td>\n",
              "      <td>0.0</td>\n",
              "      <td>870.0</td>\n",
              "    </tr>\n",
              "    <tr>\n",
              "      <th>1</th>\n",
              "      <td>254</td>\n",
              "      <td>2.0</td>\n",
              "      <td>508.0</td>\n",
              "      <td>2.0</td>\n",
              "      <td>1378.0</td>\n",
              "    </tr>\n",
              "  </tbody>\n",
              "</table>\n",
              "</div>"
            ],
            "text/plain": [
              "     k    h     kh  cum_h  cum_kh\n",
              "0  435  2.0  870.0    0.0   870.0\n",
              "1  254  2.0  508.0    2.0  1378.0"
            ]
          },
          "metadata": {
            "tags": []
          },
          "execution_count": 139
        }
      ]
    },
    {
      "cell_type": "code",
      "metadata": {
        "id": "wcBYfeyRdLGL",
        "colab_type": "code",
        "colab": {}
      },
      "source": [
        "kh = list(lp_data['kh'])\n",
        "sum1 = 870\n",
        "cum_kh = [870]\n",
        "\n",
        "for j in range(1,len(kh)):\n",
        "  sum1 = sum1 + kh[j]\n",
        "  cum_kh.append(sum1)"
      ],
      "execution_count": 140,
      "outputs": []
    },
    {
      "cell_type": "code",
      "metadata": {
        "id": "h9raQ_EonNDx",
        "colab_type": "code",
        "colab": {}
      },
      "source": [
        "lp_data['cum_h'] = cum_h"
      ],
      "execution_count": 141,
      "outputs": []
    },
    {
      "cell_type": "code",
      "metadata": {
        "id": "2H-bdVOAnWuA",
        "colab_type": "code",
        "colab": {}
      },
      "source": [
        "lp_data['cum_kh'] = cum_kh"
      ],
      "execution_count": 142,
      "outputs": []
    },
    {
      "cell_type": "code",
      "metadata": {
        "id": "LQpY-00Ona_K",
        "colab_type": "code",
        "colab": {
          "base_uri": "https://localhost:8080/",
          "height": 855
        },
        "outputId": "0bbe31e2-5e1d-46bd-9877-570fcb0901b5"
      },
      "source": [
        "lp_data"
      ],
      "execution_count": 143,
      "outputs": [
        {
          "output_type": "execute_result",
          "data": {
            "text/html": [
              "<div>\n",
              "<style scoped>\n",
              "    .dataframe tbody tr th:only-of-type {\n",
              "        vertical-align: middle;\n",
              "    }\n",
              "\n",
              "    .dataframe tbody tr th {\n",
              "        vertical-align: top;\n",
              "    }\n",
              "\n",
              "    .dataframe thead th {\n",
              "        text-align: right;\n",
              "    }\n",
              "</style>\n",
              "<table border=\"1\" class=\"dataframe\">\n",
              "  <thead>\n",
              "    <tr style=\"text-align: right;\">\n",
              "      <th></th>\n",
              "      <th>k</th>\n",
              "      <th>h</th>\n",
              "      <th>kh</th>\n",
              "      <th>cum_h</th>\n",
              "      <th>cum_kh</th>\n",
              "    </tr>\n",
              "  </thead>\n",
              "  <tbody>\n",
              "    <tr>\n",
              "      <th>0</th>\n",
              "      <td>435</td>\n",
              "      <td>2.0</td>\n",
              "      <td>870.0</td>\n",
              "      <td>2.0</td>\n",
              "      <td>870.0</td>\n",
              "    </tr>\n",
              "    <tr>\n",
              "      <th>1</th>\n",
              "      <td>254</td>\n",
              "      <td>2.0</td>\n",
              "      <td>508.0</td>\n",
              "      <td>4.0</td>\n",
              "      <td>1378.0</td>\n",
              "    </tr>\n",
              "    <tr>\n",
              "      <th>2</th>\n",
              "      <td>196</td>\n",
              "      <td>2.0</td>\n",
              "      <td>392.0</td>\n",
              "      <td>6.0</td>\n",
              "      <td>1770.0</td>\n",
              "    </tr>\n",
              "    <tr>\n",
              "      <th>3</th>\n",
              "      <td>172</td>\n",
              "      <td>3.0</td>\n",
              "      <td>516.0</td>\n",
              "      <td>9.0</td>\n",
              "      <td>2286.0</td>\n",
              "    </tr>\n",
              "    <tr>\n",
              "      <th>4</th>\n",
              "      <td>166</td>\n",
              "      <td>2.0</td>\n",
              "      <td>332.0</td>\n",
              "      <td>11.0</td>\n",
              "      <td>2618.0</td>\n",
              "    </tr>\n",
              "    <tr>\n",
              "      <th>5</th>\n",
              "      <td>158</td>\n",
              "      <td>2.0</td>\n",
              "      <td>316.0</td>\n",
              "      <td>13.0</td>\n",
              "      <td>2934.0</td>\n",
              "    </tr>\n",
              "    <tr>\n",
              "      <th>6</th>\n",
              "      <td>153</td>\n",
              "      <td>2.0</td>\n",
              "      <td>306.0</td>\n",
              "      <td>15.0</td>\n",
              "      <td>3240.0</td>\n",
              "    </tr>\n",
              "    <tr>\n",
              "      <th>7</th>\n",
              "      <td>147</td>\n",
              "      <td>2.0</td>\n",
              "      <td>294.0</td>\n",
              "      <td>17.0</td>\n",
              "      <td>3534.0</td>\n",
              "    </tr>\n",
              "    <tr>\n",
              "      <th>8</th>\n",
              "      <td>128</td>\n",
              "      <td>1.0</td>\n",
              "      <td>128.0</td>\n",
              "      <td>18.0</td>\n",
              "      <td>3662.0</td>\n",
              "    </tr>\n",
              "    <tr>\n",
              "      <th>9</th>\n",
              "      <td>105</td>\n",
              "      <td>2.0</td>\n",
              "      <td>210.0</td>\n",
              "      <td>20.0</td>\n",
              "      <td>3872.0</td>\n",
              "    </tr>\n",
              "    <tr>\n",
              "      <th>10</th>\n",
              "      <td>100</td>\n",
              "      <td>1.0</td>\n",
              "      <td>100.0</td>\n",
              "      <td>21.0</td>\n",
              "      <td>3972.0</td>\n",
              "    </tr>\n",
              "    <tr>\n",
              "      <th>11</th>\n",
              "      <td>91</td>\n",
              "      <td>2.5</td>\n",
              "      <td>227.5</td>\n",
              "      <td>23.5</td>\n",
              "      <td>4199.5</td>\n",
              "    </tr>\n",
              "    <tr>\n",
              "      <th>12</th>\n",
              "      <td>90</td>\n",
              "      <td>2.5</td>\n",
              "      <td>225.0</td>\n",
              "      <td>26.0</td>\n",
              "      <td>4424.5</td>\n",
              "    </tr>\n",
              "    <tr>\n",
              "      <th>13</th>\n",
              "      <td>83</td>\n",
              "      <td>2.0</td>\n",
              "      <td>166.0</td>\n",
              "      <td>28.0</td>\n",
              "      <td>4590.5</td>\n",
              "    </tr>\n",
              "    <tr>\n",
              "      <th>14</th>\n",
              "      <td>72</td>\n",
              "      <td>1.5</td>\n",
              "      <td>108.0</td>\n",
              "      <td>29.5</td>\n",
              "      <td>4698.5</td>\n",
              "    </tr>\n",
              "    <tr>\n",
              "      <th>15</th>\n",
              "      <td>62</td>\n",
              "      <td>2.0</td>\n",
              "      <td>124.0</td>\n",
              "      <td>31.5</td>\n",
              "      <td>4822.5</td>\n",
              "    </tr>\n",
              "    <tr>\n",
              "      <th>16</th>\n",
              "      <td>49</td>\n",
              "      <td>6.5</td>\n",
              "      <td>318.5</td>\n",
              "      <td>38.0</td>\n",
              "      <td>5141.0</td>\n",
              "    </tr>\n",
              "    <tr>\n",
              "      <th>17</th>\n",
              "      <td>44</td>\n",
              "      <td>2.0</td>\n",
              "      <td>88.0</td>\n",
              "      <td>40.0</td>\n",
              "      <td>5229.0</td>\n",
              "    </tr>\n",
              "    <tr>\n",
              "      <th>18</th>\n",
              "      <td>40</td>\n",
              "      <td>2.0</td>\n",
              "      <td>80.0</td>\n",
              "      <td>42.0</td>\n",
              "      <td>5309.0</td>\n",
              "    </tr>\n",
              "    <tr>\n",
              "      <th>19</th>\n",
              "      <td>35</td>\n",
              "      <td>2.0</td>\n",
              "      <td>70.0</td>\n",
              "      <td>44.0</td>\n",
              "      <td>5379.0</td>\n",
              "    </tr>\n",
              "    <tr>\n",
              "      <th>20</th>\n",
              "      <td>32</td>\n",
              "      <td>2.0</td>\n",
              "      <td>64.0</td>\n",
              "      <td>46.0</td>\n",
              "      <td>5443.0</td>\n",
              "    </tr>\n",
              "    <tr>\n",
              "      <th>21</th>\n",
              "      <td>30</td>\n",
              "      <td>2.0</td>\n",
              "      <td>60.0</td>\n",
              "      <td>48.0</td>\n",
              "      <td>5503.0</td>\n",
              "    </tr>\n",
              "    <tr>\n",
              "      <th>22</th>\n",
              "      <td>28</td>\n",
              "      <td>2.0</td>\n",
              "      <td>56.0</td>\n",
              "      <td>50.0</td>\n",
              "      <td>5559.0</td>\n",
              "    </tr>\n",
              "    <tr>\n",
              "      <th>23</th>\n",
              "      <td>27</td>\n",
              "      <td>2.0</td>\n",
              "      <td>54.0</td>\n",
              "      <td>52.0</td>\n",
              "      <td>5613.0</td>\n",
              "    </tr>\n",
              "    <tr>\n",
              "      <th>24</th>\n",
              "      <td>20</td>\n",
              "      <td>2.0</td>\n",
              "      <td>40.0</td>\n",
              "      <td>54.0</td>\n",
              "      <td>5653.0</td>\n",
              "    </tr>\n",
              "    <tr>\n",
              "      <th>25</th>\n",
              "      <td>9</td>\n",
              "      <td>2.0</td>\n",
              "      <td>18.0</td>\n",
              "      <td>56.0</td>\n",
              "      <td>5671.0</td>\n",
              "    </tr>\n",
              "  </tbody>\n",
              "</table>\n",
              "</div>"
            ],
            "text/plain": [
              "      k    h     kh  cum_h  cum_kh\n",
              "0   435  2.0  870.0    2.0   870.0\n",
              "1   254  2.0  508.0    4.0  1378.0\n",
              "2   196  2.0  392.0    6.0  1770.0\n",
              "3   172  3.0  516.0    9.0  2286.0\n",
              "4   166  2.0  332.0   11.0  2618.0\n",
              "5   158  2.0  316.0   13.0  2934.0\n",
              "6   153  2.0  306.0   15.0  3240.0\n",
              "7   147  2.0  294.0   17.0  3534.0\n",
              "8   128  1.0  128.0   18.0  3662.0\n",
              "9   105  2.0  210.0   20.0  3872.0\n",
              "10  100  1.0  100.0   21.0  3972.0\n",
              "11   91  2.5  227.5   23.5  4199.5\n",
              "12   90  2.5  225.0   26.0  4424.5\n",
              "13   83  2.0  166.0   28.0  4590.5\n",
              "14   72  1.5  108.0   29.5  4698.5\n",
              "15   62  2.0  124.0   31.5  4822.5\n",
              "16   49  6.5  318.5   38.0  5141.0\n",
              "17   44  2.0   88.0   40.0  5229.0\n",
              "18   40  2.0   80.0   42.0  5309.0\n",
              "19   35  2.0   70.0   44.0  5379.0\n",
              "20   32  2.0   64.0   46.0  5443.0\n",
              "21   30  2.0   60.0   48.0  5503.0\n",
              "22   28  2.0   56.0   50.0  5559.0\n",
              "23   27  2.0   54.0   52.0  5613.0\n",
              "24   20  2.0   40.0   54.0  5653.0\n",
              "25    9  2.0   18.0   56.0  5671.0"
            ]
          },
          "metadata": {
            "tags": []
          },
          "execution_count": 143
        }
      ]
    },
    {
      "cell_type": "code",
      "metadata": {
        "id": "NMv3OrLondT8",
        "colab_type": "code",
        "colab": {}
      },
      "source": [
        "lp_data['Norm_kh'] = lp_data['cum_kh']/5671.0"
      ],
      "execution_count": 144,
      "outputs": []
    },
    {
      "cell_type": "code",
      "metadata": {
        "id": "kVGX4kDlpcCZ",
        "colab_type": "code",
        "colab": {}
      },
      "source": [
        "lp_data['Norm_h'] = lp_data['cum_h']/56.0"
      ],
      "execution_count": 145,
      "outputs": []
    },
    {
      "cell_type": "code",
      "metadata": {
        "id": "TU4fip1ArCUu",
        "colab_type": "code",
        "colab": {
          "base_uri": "https://localhost:8080/",
          "height": 855
        },
        "outputId": "4702d21b-3f91-4810-d980-2644fc046362"
      },
      "source": [
        "lp_data"
      ],
      "execution_count": 146,
      "outputs": [
        {
          "output_type": "execute_result",
          "data": {
            "text/html": [
              "<div>\n",
              "<style scoped>\n",
              "    .dataframe tbody tr th:only-of-type {\n",
              "        vertical-align: middle;\n",
              "    }\n",
              "\n",
              "    .dataframe tbody tr th {\n",
              "        vertical-align: top;\n",
              "    }\n",
              "\n",
              "    .dataframe thead th {\n",
              "        text-align: right;\n",
              "    }\n",
              "</style>\n",
              "<table border=\"1\" class=\"dataframe\">\n",
              "  <thead>\n",
              "    <tr style=\"text-align: right;\">\n",
              "      <th></th>\n",
              "      <th>k</th>\n",
              "      <th>h</th>\n",
              "      <th>kh</th>\n",
              "      <th>cum_h</th>\n",
              "      <th>cum_kh</th>\n",
              "      <th>Norm_kh</th>\n",
              "      <th>Norm_h</th>\n",
              "    </tr>\n",
              "  </thead>\n",
              "  <tbody>\n",
              "    <tr>\n",
              "      <th>0</th>\n",
              "      <td>435</td>\n",
              "      <td>2.0</td>\n",
              "      <td>870.0</td>\n",
              "      <td>2.0</td>\n",
              "      <td>870.0</td>\n",
              "      <td>0.153412</td>\n",
              "      <td>0.035714</td>\n",
              "    </tr>\n",
              "    <tr>\n",
              "      <th>1</th>\n",
              "      <td>254</td>\n",
              "      <td>2.0</td>\n",
              "      <td>508.0</td>\n",
              "      <td>4.0</td>\n",
              "      <td>1378.0</td>\n",
              "      <td>0.242991</td>\n",
              "      <td>0.071429</td>\n",
              "    </tr>\n",
              "    <tr>\n",
              "      <th>2</th>\n",
              "      <td>196</td>\n",
              "      <td>2.0</td>\n",
              "      <td>392.0</td>\n",
              "      <td>6.0</td>\n",
              "      <td>1770.0</td>\n",
              "      <td>0.312114</td>\n",
              "      <td>0.107143</td>\n",
              "    </tr>\n",
              "    <tr>\n",
              "      <th>3</th>\n",
              "      <td>172</td>\n",
              "      <td>3.0</td>\n",
              "      <td>516.0</td>\n",
              "      <td>9.0</td>\n",
              "      <td>2286.0</td>\n",
              "      <td>0.403104</td>\n",
              "      <td>0.160714</td>\n",
              "    </tr>\n",
              "    <tr>\n",
              "      <th>4</th>\n",
              "      <td>166</td>\n",
              "      <td>2.0</td>\n",
              "      <td>332.0</td>\n",
              "      <td>11.0</td>\n",
              "      <td>2618.0</td>\n",
              "      <td>0.461647</td>\n",
              "      <td>0.196429</td>\n",
              "    </tr>\n",
              "    <tr>\n",
              "      <th>5</th>\n",
              "      <td>158</td>\n",
              "      <td>2.0</td>\n",
              "      <td>316.0</td>\n",
              "      <td>13.0</td>\n",
              "      <td>2934.0</td>\n",
              "      <td>0.517369</td>\n",
              "      <td>0.232143</td>\n",
              "    </tr>\n",
              "    <tr>\n",
              "      <th>6</th>\n",
              "      <td>153</td>\n",
              "      <td>2.0</td>\n",
              "      <td>306.0</td>\n",
              "      <td>15.0</td>\n",
              "      <td>3240.0</td>\n",
              "      <td>0.571328</td>\n",
              "      <td>0.267857</td>\n",
              "    </tr>\n",
              "    <tr>\n",
              "      <th>7</th>\n",
              "      <td>147</td>\n",
              "      <td>2.0</td>\n",
              "      <td>294.0</td>\n",
              "      <td>17.0</td>\n",
              "      <td>3534.0</td>\n",
              "      <td>0.623171</td>\n",
              "      <td>0.303571</td>\n",
              "    </tr>\n",
              "    <tr>\n",
              "      <th>8</th>\n",
              "      <td>128</td>\n",
              "      <td>1.0</td>\n",
              "      <td>128.0</td>\n",
              "      <td>18.0</td>\n",
              "      <td>3662.0</td>\n",
              "      <td>0.645741</td>\n",
              "      <td>0.321429</td>\n",
              "    </tr>\n",
              "    <tr>\n",
              "      <th>9</th>\n",
              "      <td>105</td>\n",
              "      <td>2.0</td>\n",
              "      <td>210.0</td>\n",
              "      <td>20.0</td>\n",
              "      <td>3872.0</td>\n",
              "      <td>0.682772</td>\n",
              "      <td>0.357143</td>\n",
              "    </tr>\n",
              "    <tr>\n",
              "      <th>10</th>\n",
              "      <td>100</td>\n",
              "      <td>1.0</td>\n",
              "      <td>100.0</td>\n",
              "      <td>21.0</td>\n",
              "      <td>3972.0</td>\n",
              "      <td>0.700406</td>\n",
              "      <td>0.375000</td>\n",
              "    </tr>\n",
              "    <tr>\n",
              "      <th>11</th>\n",
              "      <td>91</td>\n",
              "      <td>2.5</td>\n",
              "      <td>227.5</td>\n",
              "      <td>23.5</td>\n",
              "      <td>4199.5</td>\n",
              "      <td>0.740522</td>\n",
              "      <td>0.419643</td>\n",
              "    </tr>\n",
              "    <tr>\n",
              "      <th>12</th>\n",
              "      <td>90</td>\n",
              "      <td>2.5</td>\n",
              "      <td>225.0</td>\n",
              "      <td>26.0</td>\n",
              "      <td>4424.5</td>\n",
              "      <td>0.780197</td>\n",
              "      <td>0.464286</td>\n",
              "    </tr>\n",
              "    <tr>\n",
              "      <th>13</th>\n",
              "      <td>83</td>\n",
              "      <td>2.0</td>\n",
              "      <td>166.0</td>\n",
              "      <td>28.0</td>\n",
              "      <td>4590.5</td>\n",
              "      <td>0.809469</td>\n",
              "      <td>0.500000</td>\n",
              "    </tr>\n",
              "    <tr>\n",
              "      <th>14</th>\n",
              "      <td>72</td>\n",
              "      <td>1.5</td>\n",
              "      <td>108.0</td>\n",
              "      <td>29.5</td>\n",
              "      <td>4698.5</td>\n",
              "      <td>0.828513</td>\n",
              "      <td>0.526786</td>\n",
              "    </tr>\n",
              "    <tr>\n",
              "      <th>15</th>\n",
              "      <td>62</td>\n",
              "      <td>2.0</td>\n",
              "      <td>124.0</td>\n",
              "      <td>31.5</td>\n",
              "      <td>4822.5</td>\n",
              "      <td>0.850379</td>\n",
              "      <td>0.562500</td>\n",
              "    </tr>\n",
              "    <tr>\n",
              "      <th>16</th>\n",
              "      <td>49</td>\n",
              "      <td>6.5</td>\n",
              "      <td>318.5</td>\n",
              "      <td>38.0</td>\n",
              "      <td>5141.0</td>\n",
              "      <td>0.906542</td>\n",
              "      <td>0.678571</td>\n",
              "    </tr>\n",
              "    <tr>\n",
              "      <th>17</th>\n",
              "      <td>44</td>\n",
              "      <td>2.0</td>\n",
              "      <td>88.0</td>\n",
              "      <td>40.0</td>\n",
              "      <td>5229.0</td>\n",
              "      <td>0.922060</td>\n",
              "      <td>0.714286</td>\n",
              "    </tr>\n",
              "    <tr>\n",
              "      <th>18</th>\n",
              "      <td>40</td>\n",
              "      <td>2.0</td>\n",
              "      <td>80.0</td>\n",
              "      <td>42.0</td>\n",
              "      <td>5309.0</td>\n",
              "      <td>0.936166</td>\n",
              "      <td>0.750000</td>\n",
              "    </tr>\n",
              "    <tr>\n",
              "      <th>19</th>\n",
              "      <td>35</td>\n",
              "      <td>2.0</td>\n",
              "      <td>70.0</td>\n",
              "      <td>44.0</td>\n",
              "      <td>5379.0</td>\n",
              "      <td>0.948510</td>\n",
              "      <td>0.785714</td>\n",
              "    </tr>\n",
              "    <tr>\n",
              "      <th>20</th>\n",
              "      <td>32</td>\n",
              "      <td>2.0</td>\n",
              "      <td>64.0</td>\n",
              "      <td>46.0</td>\n",
              "      <td>5443.0</td>\n",
              "      <td>0.959795</td>\n",
              "      <td>0.821429</td>\n",
              "    </tr>\n",
              "    <tr>\n",
              "      <th>21</th>\n",
              "      <td>30</td>\n",
              "      <td>2.0</td>\n",
              "      <td>60.0</td>\n",
              "      <td>48.0</td>\n",
              "      <td>5503.0</td>\n",
              "      <td>0.970376</td>\n",
              "      <td>0.857143</td>\n",
              "    </tr>\n",
              "    <tr>\n",
              "      <th>22</th>\n",
              "      <td>28</td>\n",
              "      <td>2.0</td>\n",
              "      <td>56.0</td>\n",
              "      <td>50.0</td>\n",
              "      <td>5559.0</td>\n",
              "      <td>0.980250</td>\n",
              "      <td>0.892857</td>\n",
              "    </tr>\n",
              "    <tr>\n",
              "      <th>23</th>\n",
              "      <td>27</td>\n",
              "      <td>2.0</td>\n",
              "      <td>54.0</td>\n",
              "      <td>52.0</td>\n",
              "      <td>5613.0</td>\n",
              "      <td>0.989773</td>\n",
              "      <td>0.928571</td>\n",
              "    </tr>\n",
              "    <tr>\n",
              "      <th>24</th>\n",
              "      <td>20</td>\n",
              "      <td>2.0</td>\n",
              "      <td>40.0</td>\n",
              "      <td>54.0</td>\n",
              "      <td>5653.0</td>\n",
              "      <td>0.996826</td>\n",
              "      <td>0.964286</td>\n",
              "    </tr>\n",
              "    <tr>\n",
              "      <th>25</th>\n",
              "      <td>9</td>\n",
              "      <td>2.0</td>\n",
              "      <td>18.0</td>\n",
              "      <td>56.0</td>\n",
              "      <td>5671.0</td>\n",
              "      <td>1.000000</td>\n",
              "      <td>1.000000</td>\n",
              "    </tr>\n",
              "  </tbody>\n",
              "</table>\n",
              "</div>"
            ],
            "text/plain": [
              "      k    h     kh  cum_h  cum_kh   Norm_kh    Norm_h\n",
              "0   435  2.0  870.0    2.0   870.0  0.153412  0.035714\n",
              "1   254  2.0  508.0    4.0  1378.0  0.242991  0.071429\n",
              "2   196  2.0  392.0    6.0  1770.0  0.312114  0.107143\n",
              "3   172  3.0  516.0    9.0  2286.0  0.403104  0.160714\n",
              "4   166  2.0  332.0   11.0  2618.0  0.461647  0.196429\n",
              "5   158  2.0  316.0   13.0  2934.0  0.517369  0.232143\n",
              "6   153  2.0  306.0   15.0  3240.0  0.571328  0.267857\n",
              "7   147  2.0  294.0   17.0  3534.0  0.623171  0.303571\n",
              "8   128  1.0  128.0   18.0  3662.0  0.645741  0.321429\n",
              "9   105  2.0  210.0   20.0  3872.0  0.682772  0.357143\n",
              "10  100  1.0  100.0   21.0  3972.0  0.700406  0.375000\n",
              "11   91  2.5  227.5   23.5  4199.5  0.740522  0.419643\n",
              "12   90  2.5  225.0   26.0  4424.5  0.780197  0.464286\n",
              "13   83  2.0  166.0   28.0  4590.5  0.809469  0.500000\n",
              "14   72  1.5  108.0   29.5  4698.5  0.828513  0.526786\n",
              "15   62  2.0  124.0   31.5  4822.5  0.850379  0.562500\n",
              "16   49  6.5  318.5   38.0  5141.0  0.906542  0.678571\n",
              "17   44  2.0   88.0   40.0  5229.0  0.922060  0.714286\n",
              "18   40  2.0   80.0   42.0  5309.0  0.936166  0.750000\n",
              "19   35  2.0   70.0   44.0  5379.0  0.948510  0.785714\n",
              "20   32  2.0   64.0   46.0  5443.0  0.959795  0.821429\n",
              "21   30  2.0   60.0   48.0  5503.0  0.970376  0.857143\n",
              "22   28  2.0   56.0   50.0  5559.0  0.980250  0.892857\n",
              "23   27  2.0   54.0   52.0  5613.0  0.989773  0.928571\n",
              "24   20  2.0   40.0   54.0  5653.0  0.996826  0.964286\n",
              "25    9  2.0   18.0   56.0  5671.0  1.000000  1.000000"
            ]
          },
          "metadata": {
            "tags": []
          },
          "execution_count": 146
        }
      ]
    },
    {
      "cell_type": "code",
      "metadata": {
        "id": "W1zKi7eBrE8_",
        "colab_type": "code",
        "colab": {
          "base_uri": "https://localhost:8080/",
          "height": 368
        },
        "outputId": "a6b35fa0-cf8d-4949-d99e-87a24e994d2a"
      },
      "source": [
        "plt.figure(figsize=(8,5))\n",
        "plt.grid()\n",
        "plt.plot(lp_data['Norm_h'],lp_data['Norm_kh'],label='Lorenz Plot for a hetero. reservoir')\n",
        "plt.plot(lp_data['Norm_h'],lp_data['Norm_h'],label='Lorenz plot for homog. res.')\n",
        "plt.legend()\n",
        "plt.xlabel('Normalized cum_kh')\n",
        "plt.ylabel('Normalized cum_h')\n",
        "plt.title('Lorenz Plot: Area b/w plots gives hetrogeneity!')"
      ],
      "execution_count": 157,
      "outputs": [
        {
          "output_type": "execute_result",
          "data": {
            "text/plain": [
              "Text(0.5, 1.0, 'Lorenz Plot: Area b/w plots gives hetrogeneity!')"
            ]
          },
          "metadata": {
            "tags": []
          },
          "execution_count": 157
        },
        {
          "output_type": "display_data",
          "data": {
            "image/png": "[encoded data removed]",
            "text/plain": [
              "<Figure size 576x360 with 1 Axes>"
            ]
          },
          "metadata": {
            "tags": [],
            "needs_background": "light"
          }
        }
      ]
    },
    {
      "cell_type": "code",
      "metadata": {
        "id": "vEr6476PrV-9",
        "colab_type": "code",
        "colab": {}
      },
      "source": [
        "#Conclusion- Greater the area between the two plots- Greater would be the Reservoir Heterogeneity."
      ],
      "execution_count": 159,
      "outputs": []
    },
    {
      "cell_type": "code",
      "metadata": {
        "id": "C8YOLkfaunFv",
        "colab_type": "code",
        "colab": {}
      },
      "source": [
        ""
      ],
      "execution_count": null,
      "outputs": []
    }
  ]
}