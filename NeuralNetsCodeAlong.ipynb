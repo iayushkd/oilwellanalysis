{
  "nbformat": 4,
  "nbformat_minor": 0,
  "metadata": {
    "colab": {
      "name": "NeuralNetsCodeAlong.ipynb",
      "provenance": [],
      "authorship_tag": "ABX9TyPsyme/3h2/TBhYziX7p3nm",
      "include_colab_link": true
    },
    "kernelspec": {
      "name": "python3",
      "display_name": "Python 3"
    }
  },
  "cells": [
    {
      "cell_type": "markdown",
      "metadata": {
        "id": "view-in-github",
        "colab_type": "text"
      },
      "source": [
        "<a href=\"https://colab.research.google.com/github/Divyanshu-ISM/Oil-and-Gas-data-analysis/blob/master/NeuralNetsCodeAlong.ipynb\" target=\"_parent\"><img src=\"https://colab.research.google.com/assets/colab-badge.svg\" alt=\"Open In Colab\"/></a>"
      ]
    },
    {
      "cell_type": "code",
      "metadata": {
        "id": "t-DGTyg7pCoe",
        "colab_type": "code",
        "colab": {}
      },
      "source": [
        ""
      ],
      "execution_count": null,
      "outputs": []
    },
    {
      "cell_type": "markdown",
      "metadata": {
        "id": "A5LdkoRBpJRh",
        "colab_type": "text"
      },
      "source": [
        "# 1. Regression Problem solved using Deep Learning."
      ]
    },
    {
      "cell_type": "code",
      "metadata": {
        "id": "zWPl5SB1pQV7",
        "colab_type": "code",
        "colab": {}
      },
      "source": [
        "import numpy as np\n",
        "import pandas as pd\n",
        "import matplotlib.pyplot as plt\n",
        "import seaborn as sns\n",
        "%matplotlib inline"
      ],
      "execution_count": null,
      "outputs": []
    },
    {
      "cell_type": "code",
      "metadata": {
        "id": "Ut5zHeMxpp3_",
        "colab_type": "code",
        "colab": {}
      },
      "source": [
        "df = pd.read_csv('kc_house_data.csv')"
      ],
      "execution_count": null,
      "outputs": []
    },
    {
      "cell_type": "code",
      "metadata": {
        "id": "4r2HLENRyJry",
        "colab_type": "code",
        "colab": {
          "base_uri": "https://localhost:8080/",
          "height": 350
        },
        "outputId": "59344191-2849-4101-b396-8a8874e17573"
      },
      "source": [
        "sns.heatmap(df.isnull()) #no missing data"
      ],
      "execution_count": null,
      "outputs": [
        {
          "output_type": "execute_result",
          "data": {
            "text/plain": [
              "<matplotlib.axes._subplots.AxesSubplot at 0x7f112092dfd0>"
            ]
          },
          "metadata": {
            "tags": []
          },
          "execution_count": 4
        },
        {
          "output_type": "display_data",
          "data": {
            "image/png": "[encoded data removed]",
            "text/plain": [
              "<Figure size 432x288 with 2 Axes>"
            ]
          },
          "metadata": {
            "tags": [],
            "needs_background": "light"
          }
        }
      ]
    },
    {
      "cell_type": "code",
      "metadata": {
        "id": "mXluc1K1yYWz",
        "colab_type": "code",
        "colab": {
          "base_uri": "https://localhost:8080/",
          "height": 669
        },
        "outputId": "5dd21415-8898-4fd2-8ea3-7f1263420abb"
      },
      "source": [
        "df.describe().T"
      ],
      "execution_count": null,
      "outputs": [
        {
          "output_type": "execute_result",
          "data": {
            "text/html": [
              "<div>\n",
              "<style scoped>\n",
              "    .dataframe tbody tr th:only-of-type {\n",
              "        vertical-align: middle;\n",
              "    }\n",
              "\n",
              "    .dataframe tbody tr th {\n",
              "        vertical-align: top;\n",
              "    }\n",
              "\n",
              "    .dataframe thead th {\n",
              "        text-align: right;\n",
              "    }\n",
              "</style>\n",
              "<table border=\"1\" class=\"dataframe\">\n",
              "  <thead>\n",
              "    <tr style=\"text-align: right;\">\n",
              "      <th></th>\n",
              "      <th>count</th>\n",
              "      <th>mean</th>\n",
              "      <th>std</th>\n",
              "      <th>min</th>\n",
              "      <th>25%</th>\n",
              "      <th>50%</th>\n",
              "      <th>75%</th>\n",
              "      <th>max</th>\n",
              "    </tr>\n",
              "  </thead>\n",
              "  <tbody>\n",
              "    <tr>\n",
              "      <th>id</th>\n",
              "      <td>21597.0</td>\n",
              "      <td>4.580474e+09</td>\n",
              "      <td>2.876736e+09</td>\n",
              "      <td>1.000102e+06</td>\n",
              "      <td>2.123049e+09</td>\n",
              "      <td>3.904930e+09</td>\n",
              "      <td>7.308900e+09</td>\n",
              "      <td>9.900000e+09</td>\n",
              "    </tr>\n",
              "    <tr>\n",
              "      <th>price</th>\n",
              "      <td>21597.0</td>\n",
              "      <td>5.402966e+05</td>\n",
              "      <td>3.673681e+05</td>\n",
              "      <td>7.800000e+04</td>\n",
              "      <td>3.220000e+05</td>\n",
              "      <td>4.500000e+05</td>\n",
              "      <td>6.450000e+05</td>\n",
              "      <td>7.700000e+06</td>\n",
              "    </tr>\n",
              "    <tr>\n",
              "      <th>bedrooms</th>\n",
              "      <td>21597.0</td>\n",
              "      <td>3.373200e+00</td>\n",
              "      <td>9.262989e-01</td>\n",
              "      <td>1.000000e+00</td>\n",
              "      <td>3.000000e+00</td>\n",
              "      <td>3.000000e+00</td>\n",
              "      <td>4.000000e+00</td>\n",
              "      <td>3.300000e+01</td>\n",
              "    </tr>\n",
              "    <tr>\n",
              "      <th>bathrooms</th>\n",
              "      <td>21597.0</td>\n",
              "      <td>2.115826e+00</td>\n",
              "      <td>7.689843e-01</td>\n",
              "      <td>5.000000e-01</td>\n",
              "      <td>1.750000e+00</td>\n",
              "      <td>2.250000e+00</td>\n",
              "      <td>2.500000e+00</td>\n",
              "      <td>8.000000e+00</td>\n",
              "    </tr>\n",
              "    <tr>\n",
              "      <th>sqft_living</th>\n",
              "      <td>21597.0</td>\n",
              "      <td>2.080322e+03</td>\n",
              "      <td>9.181061e+02</td>\n",
              "      <td>3.700000e+02</td>\n",
              "      <td>1.430000e+03</td>\n",
              "      <td>1.910000e+03</td>\n",
              "      <td>2.550000e+03</td>\n",
              "      <td>1.354000e+04</td>\n",
              "    </tr>\n",
              "    <tr>\n",
              "      <th>sqft_lot</th>\n",
              "      <td>21597.0</td>\n",
              "      <td>1.509941e+04</td>\n",
              "      <td>4.141264e+04</td>\n",
              "      <td>5.200000e+02</td>\n",
              "      <td>5.040000e+03</td>\n",
              "      <td>7.618000e+03</td>\n",
              "      <td>1.068500e+04</td>\n",
              "      <td>1.651359e+06</td>\n",
              "    </tr>\n",
              "    <tr>\n",
              "      <th>floors</th>\n",
              "      <td>21597.0</td>\n",
              "      <td>1.494096e+00</td>\n",
              "      <td>5.396828e-01</td>\n",
              "      <td>1.000000e+00</td>\n",
              "      <td>1.000000e+00</td>\n",
              "      <td>1.500000e+00</td>\n",
              "      <td>2.000000e+00</td>\n",
              "      <td>3.500000e+00</td>\n",
              "    </tr>\n",
              "    <tr>\n",
              "      <th>waterfront</th>\n",
              "      <td>21597.0</td>\n",
              "      <td>7.547345e-03</td>\n",
              "      <td>8.654900e-02</td>\n",
              "      <td>0.000000e+00</td>\n",
              "      <td>0.000000e+00</td>\n",
              "      <td>0.000000e+00</td>\n",
              "      <td>0.000000e+00</td>\n",
              "      <td>1.000000e+00</td>\n",
              "    </tr>\n",
              "    <tr>\n",
              "      <th>view</th>\n",
              "      <td>21597.0</td>\n",
              "      <td>2.342918e-01</td>\n",
              "      <td>7.663898e-01</td>\n",
              "      <td>0.000000e+00</td>\n",
              "      <td>0.000000e+00</td>\n",
              "      <td>0.000000e+00</td>\n",
              "      <td>0.000000e+00</td>\n",
              "      <td>4.000000e+00</td>\n",
              "    </tr>\n",
              "    <tr>\n",
              "      <th>condition</th>\n",
              "      <td>21597.0</td>\n",
              "      <td>3.409825e+00</td>\n",
              "      <td>6.505456e-01</td>\n",
              "      <td>1.000000e+00</td>\n",
              "      <td>3.000000e+00</td>\n",
              "      <td>3.000000e+00</td>\n",
              "      <td>4.000000e+00</td>\n",
              "      <td>5.000000e+00</td>\n",
              "    </tr>\n",
              "    <tr>\n",
              "      <th>grade</th>\n",
              "      <td>21597.0</td>\n",
              "      <td>7.657915e+00</td>\n",
              "      <td>1.173200e+00</td>\n",
              "      <td>3.000000e+00</td>\n",
              "      <td>7.000000e+00</td>\n",
              "      <td>7.000000e+00</td>\n",
              "      <td>8.000000e+00</td>\n",
              "      <td>1.300000e+01</td>\n",
              "    </tr>\n",
              "    <tr>\n",
              "      <th>sqft_above</th>\n",
              "      <td>21597.0</td>\n",
              "      <td>1.788597e+03</td>\n",
              "      <td>8.277598e+02</td>\n",
              "      <td>3.700000e+02</td>\n",
              "      <td>1.190000e+03</td>\n",
              "      <td>1.560000e+03</td>\n",
              "      <td>2.210000e+03</td>\n",
              "      <td>9.410000e+03</td>\n",
              "    </tr>\n",
              "    <tr>\n",
              "      <th>sqft_basement</th>\n",
              "      <td>21597.0</td>\n",
              "      <td>2.917250e+02</td>\n",
              "      <td>4.426678e+02</td>\n",
              "      <td>0.000000e+00</td>\n",
              "      <td>0.000000e+00</td>\n",
              "      <td>0.000000e+00</td>\n",
              "      <td>5.600000e+02</td>\n",
              "      <td>4.820000e+03</td>\n",
              "    </tr>\n",
              "    <tr>\n",
              "      <th>yr_built</th>\n",
              "      <td>21597.0</td>\n",
              "      <td>1.971000e+03</td>\n",
              "      <td>2.937523e+01</td>\n",
              "      <td>1.900000e+03</td>\n",
              "      <td>1.951000e+03</td>\n",
              "      <td>1.975000e+03</td>\n",
              "      <td>1.997000e+03</td>\n",
              "      <td>2.015000e+03</td>\n",
              "    </tr>\n",
              "    <tr>\n",
              "      <th>yr_renovated</th>\n",
              "      <td>21597.0</td>\n",
              "      <td>8.446479e+01</td>\n",
              "      <td>4.018214e+02</td>\n",
              "      <td>0.000000e+00</td>\n",
              "      <td>0.000000e+00</td>\n",
              "      <td>0.000000e+00</td>\n",
              "      <td>0.000000e+00</td>\n",
              "      <td>2.015000e+03</td>\n",
              "    </tr>\n",
              "    <tr>\n",
              "      <th>zipcode</th>\n",
              "      <td>21597.0</td>\n",
              "      <td>9.807795e+04</td>\n",
              "      <td>5.351307e+01</td>\n",
              "      <td>9.800100e+04</td>\n",
              "      <td>9.803300e+04</td>\n",
              "      <td>9.806500e+04</td>\n",
              "      <td>9.811800e+04</td>\n",
              "      <td>9.819900e+04</td>\n",
              "    </tr>\n",
              "    <tr>\n",
              "      <th>lat</th>\n",
              "      <td>21597.0</td>\n",
              "      <td>4.756009e+01</td>\n",
              "      <td>1.385518e-01</td>\n",
              "      <td>4.715590e+01</td>\n",
              "      <td>4.747110e+01</td>\n",
              "      <td>4.757180e+01</td>\n",
              "      <td>4.767800e+01</td>\n",
              "      <td>4.777760e+01</td>\n",
              "    </tr>\n",
              "    <tr>\n",
              "      <th>long</th>\n",
              "      <td>21597.0</td>\n",
              "      <td>-1.222140e+02</td>\n",
              "      <td>1.407235e-01</td>\n",
              "      <td>-1.225190e+02</td>\n",
              "      <td>-1.223280e+02</td>\n",
              "      <td>-1.222310e+02</td>\n",
              "      <td>-1.221250e+02</td>\n",
              "      <td>-1.213150e+02</td>\n",
              "    </tr>\n",
              "    <tr>\n",
              "      <th>sqft_living15</th>\n",
              "      <td>21597.0</td>\n",
              "      <td>1.986620e+03</td>\n",
              "      <td>6.852305e+02</td>\n",
              "      <td>3.990000e+02</td>\n",
              "      <td>1.490000e+03</td>\n",
              "      <td>1.840000e+03</td>\n",
              "      <td>2.360000e+03</td>\n",
              "      <td>6.210000e+03</td>\n",
              "    </tr>\n",
              "    <tr>\n",
              "      <th>sqft_lot15</th>\n",
              "      <td>21597.0</td>\n",
              "      <td>1.275828e+04</td>\n",
              "      <td>2.727444e+04</td>\n",
              "      <td>6.510000e+02</td>\n",
              "      <td>5.100000e+03</td>\n",
              "      <td>7.620000e+03</td>\n",
              "      <td>1.008300e+04</td>\n",
              "      <td>8.712000e+05</td>\n",
              "    </tr>\n",
              "  </tbody>\n",
              "</table>\n",
              "</div>"
            ],
            "text/plain": [
              "                 count          mean  ...           75%           max\n",
              "id             21597.0  4.580474e+09  ...  7.308900e+09  9.900000e+09\n",
              "price          21597.0  5.402966e+05  ...  6.450000e+05  7.700000e+06\n",
              "bedrooms       21597.0  3.373200e+00  ...  4.000000e+00  3.300000e+01\n",
              "bathrooms      21597.0  2.115826e+00  ...  2.500000e+00  8.000000e+00\n",
              "sqft_living    21597.0  2.080322e+03  ...  2.550000e+03  1.354000e+04\n",
              "sqft_lot       21597.0  1.509941e+04  ...  1.068500e+04  1.651359e+06\n",
              "floors         21597.0  1.494096e+00  ...  2.000000e+00  3.500000e+00\n",
              "waterfront     21597.0  7.547345e-03  ...  0.000000e+00  1.000000e+00\n",
              "view           21597.0  2.342918e-01  ...  0.000000e+00  4.000000e+00\n",
              "condition      21597.0  3.409825e+00  ...  4.000000e+00  5.000000e+00\n",
              "grade          21597.0  7.657915e+00  ...  8.000000e+00  1.300000e+01\n",
              "sqft_above     21597.0  1.788597e+03  ...  2.210000e+03  9.410000e+03\n",
              "sqft_basement  21597.0  2.917250e+02  ...  5.600000e+02  4.820000e+03\n",
              "yr_built       21597.0  1.971000e+03  ...  1.997000e+03  2.015000e+03\n",
              "yr_renovated   21597.0  8.446479e+01  ...  0.000000e+00  2.015000e+03\n",
              "zipcode        21597.0  9.807795e+04  ...  9.811800e+04  9.819900e+04\n",
              "lat            21597.0  4.756009e+01  ...  4.767800e+01  4.777760e+01\n",
              "long           21597.0 -1.222140e+02  ... -1.221250e+02 -1.213150e+02\n",
              "sqft_living15  21597.0  1.986620e+03  ...  2.360000e+03  6.210000e+03\n",
              "sqft_lot15     21597.0  1.275828e+04  ...  1.008300e+04  8.712000e+05\n",
              "\n",
              "[20 rows x 8 columns]"
            ]
          },
          "metadata": {
            "tags": []
          },
          "execution_count": 6
        }
      ]
    },
    {
      "cell_type": "code",
      "metadata": {
        "id": "n-198OeyyiZ3",
        "colab_type": "code",
        "colab": {
          "base_uri": "https://localhost:8080/",
          "height": 224
        },
        "outputId": "1dab2202-e4a4-42d3-cb90-4ba8dc5ab0cc"
      },
      "source": [
        "df.head()"
      ],
      "execution_count": null,
      "outputs": [
        {
          "output_type": "execute_result",
          "data": {
            "text/html": [
              "<div>\n",
              "<style scoped>\n",
              "    .dataframe tbody tr th:only-of-type {\n",
              "        vertical-align: middle;\n",
              "    }\n",
              "\n",
              "    .dataframe tbody tr th {\n",
              "        vertical-align: top;\n",
              "    }\n",
              "\n",
              "    .dataframe thead th {\n",
              "        text-align: right;\n",
              "    }\n",
              "</style>\n",
              "<table border=\"1\" class=\"dataframe\">\n",
              "  <thead>\n",
              "    <tr style=\"text-align: right;\">\n",
              "      <th></th>\n",
              "      <th>id</th>\n",
              "      <th>date</th>\n",
              "      <th>price</th>\n",
              "      <th>bedrooms</th>\n",
              "      <th>bathrooms</th>\n",
              "      <th>sqft_living</th>\n",
              "      <th>sqft_lot</th>\n",
              "      <th>floors</th>\n",
              "      <th>waterfront</th>\n",
              "      <th>view</th>\n",
              "      <th>condition</th>\n",
              "      <th>grade</th>\n",
              "      <th>sqft_above</th>\n",
              "      <th>sqft_basement</th>\n",
              "      <th>yr_built</th>\n",
              "      <th>yr_renovated</th>\n",
              "      <th>zipcode</th>\n",
              "      <th>lat</th>\n",
              "      <th>long</th>\n",
              "      <th>sqft_living15</th>\n",
              "      <th>sqft_lot15</th>\n",
              "    </tr>\n",
              "  </thead>\n",
              "  <tbody>\n",
              "    <tr>\n",
              "      <th>0</th>\n",
              "      <td>7129300520</td>\n",
              "      <td>10/13/2014</td>\n",
              "      <td>221900.0</td>\n",
              "      <td>3</td>\n",
              "      <td>1.00</td>\n",
              "      <td>1180</td>\n",
              "      <td>5650</td>\n",
              "      <td>1.0</td>\n",
              "      <td>0</td>\n",
              "      <td>0</td>\n",
              "      <td>3</td>\n",
              "      <td>7</td>\n",
              "      <td>1180</td>\n",
              "      <td>0</td>\n",
              "      <td>1955</td>\n",
              "      <td>0</td>\n",
              "      <td>98178</td>\n",
              "      <td>47.5112</td>\n",
              "      <td>-122.257</td>\n",
              "      <td>1340</td>\n",
              "      <td>5650</td>\n",
              "    </tr>\n",
              "    <tr>\n",
              "      <th>1</th>\n",
              "      <td>6414100192</td>\n",
              "      <td>12/9/2014</td>\n",
              "      <td>538000.0</td>\n",
              "      <td>3</td>\n",
              "      <td>2.25</td>\n",
              "      <td>2570</td>\n",
              "      <td>7242</td>\n",
              "      <td>2.0</td>\n",
              "      <td>0</td>\n",
              "      <td>0</td>\n",
              "      <td>3</td>\n",
              "      <td>7</td>\n",
              "      <td>2170</td>\n",
              "      <td>400</td>\n",
              "      <td>1951</td>\n",
              "      <td>1991</td>\n",
              "      <td>98125</td>\n",
              "      <td>47.7210</td>\n",
              "      <td>-122.319</td>\n",
              "      <td>1690</td>\n",
              "      <td>7639</td>\n",
              "    </tr>\n",
              "    <tr>\n",
              "      <th>2</th>\n",
              "      <td>5631500400</td>\n",
              "      <td>2/25/2015</td>\n",
              "      <td>180000.0</td>\n",
              "      <td>2</td>\n",
              "      <td>1.00</td>\n",
              "      <td>770</td>\n",
              "      <td>10000</td>\n",
              "      <td>1.0</td>\n",
              "      <td>0</td>\n",
              "      <td>0</td>\n",
              "      <td>3</td>\n",
              "      <td>6</td>\n",
              "      <td>770</td>\n",
              "      <td>0</td>\n",
              "      <td>1933</td>\n",
              "      <td>0</td>\n",
              "      <td>98028</td>\n",
              "      <td>47.7379</td>\n",
              "      <td>-122.233</td>\n",
              "      <td>2720</td>\n",
              "      <td>8062</td>\n",
              "    </tr>\n",
              "    <tr>\n",
              "      <th>3</th>\n",
              "      <td>2487200875</td>\n",
              "      <td>12/9/2014</td>\n",
              "      <td>604000.0</td>\n",
              "      <td>4</td>\n",
              "      <td>3.00</td>\n",
              "      <td>1960</td>\n",
              "      <td>5000</td>\n",
              "      <td>1.0</td>\n",
              "      <td>0</td>\n",
              "      <td>0</td>\n",
              "      <td>5</td>\n",
              "      <td>7</td>\n",
              "      <td>1050</td>\n",
              "      <td>910</td>\n",
              "      <td>1965</td>\n",
              "      <td>0</td>\n",
              "      <td>98136</td>\n",
              "      <td>47.5208</td>\n",
              "      <td>-122.393</td>\n",
              "      <td>1360</td>\n",
              "      <td>5000</td>\n",
              "    </tr>\n",
              "    <tr>\n",
              "      <th>4</th>\n",
              "      <td>1954400510</td>\n",
              "      <td>2/18/2015</td>\n",
              "      <td>510000.0</td>\n",
              "      <td>3</td>\n",
              "      <td>2.00</td>\n",
              "      <td>1680</td>\n",
              "      <td>8080</td>\n",
              "      <td>1.0</td>\n",
              "      <td>0</td>\n",
              "      <td>0</td>\n",
              "      <td>3</td>\n",
              "      <td>8</td>\n",
              "      <td>1680</td>\n",
              "      <td>0</td>\n",
              "      <td>1987</td>\n",
              "      <td>0</td>\n",
              "      <td>98074</td>\n",
              "      <td>47.6168</td>\n",
              "      <td>-122.045</td>\n",
              "      <td>1800</td>\n",
              "      <td>7503</td>\n",
              "    </tr>\n",
              "  </tbody>\n",
              "</table>\n",
              "</div>"
            ],
            "text/plain": [
              "           id        date     price  ...     long  sqft_living15  sqft_lot15\n",
              "0  7129300520  10/13/2014  221900.0  ... -122.257           1340        5650\n",
              "1  6414100192   12/9/2014  538000.0  ... -122.319           1690        7639\n",
              "2  5631500400   2/25/2015  180000.0  ... -122.233           2720        8062\n",
              "3  2487200875   12/9/2014  604000.0  ... -122.393           1360        5000\n",
              "4  1954400510   2/18/2015  510000.0  ... -122.045           1800        7503\n",
              "\n",
              "[5 rows x 21 columns]"
            ]
          },
          "metadata": {
            "tags": []
          },
          "execution_count": 7
        }
      ]
    },
    {
      "cell_type": "code",
      "metadata": {
        "id": "Q93WEbmKy9CR",
        "colab_type": "code",
        "colab": {
          "base_uri": "https://localhost:8080/",
          "height": 633
        },
        "outputId": "cedba766-7ac5-49d3-ef1b-df5c4494f056"
      },
      "source": [
        "plt.figure(figsize=(10,10))\n",
        "sns.distplot(df['price'])"
      ],
      "execution_count": null,
      "outputs": [
        {
          "output_type": "execute_result",
          "data": {
            "text/plain": [
              "<matplotlib.axes._subplots.AxesSubplot at 0x7f111c8025c0>"
            ]
          },
          "metadata": {
            "tags": []
          },
          "execution_count": 8
        },
        {
          "output_type": "display_data",
          "data": {
            "image/png": "[encoded data removed]",
            "text/plain": [
              "<Figure size 720x720 with 1 Axes>"
            ]
          },
          "metadata": {
            "tags": [],
            "needs_background": "light"
          }
        }
      ]
    },
    {
      "cell_type": "code",
      "metadata": {
        "id": "NqG7CrG70Ka0",
        "colab_type": "code",
        "colab": {
          "base_uri": "https://localhost:8080/",
          "height": 296
        },
        "outputId": "7cc5136d-6be6-4481-c1f1-e5ae99ad8e6a"
      },
      "source": [
        "sns.countplot(df['bedrooms']) #majority have 2-5 bedrooms"
      ],
      "execution_count": null,
      "outputs": [
        {
          "output_type": "execute_result",
          "data": {
            "text/plain": [
              "<matplotlib.axes._subplots.AxesSubplot at 0x7f111c3edda0>"
            ]
          },
          "metadata": {
            "tags": []
          },
          "execution_count": 9
        },
        {
          "output_type": "display_data",
          "data": {
            "image/png": "[encoded data removed]",
            "text/plain": [
              "<Figure size 432x288 with 1 Axes>"
            ]
          },
          "metadata": {
            "tags": [],
            "needs_background": "light"
          }
        }
      ]
    },
    {
      "cell_type": "code",
      "metadata": {
        "id": "KpxhHRJ_1cfM",
        "colab_type": "code",
        "colab": {
          "base_uri": "https://localhost:8080/",
          "height": 374
        },
        "outputId": "c9edbfbe-8ca3-484c-eb5e-bc2d4886e8fc"
      },
      "source": [
        "df.corr()['price'].sort_values()"
      ],
      "execution_count": null,
      "outputs": [
        {
          "output_type": "execute_result",
          "data": {
            "text/plain": [
              "zipcode         -0.053402\n",
              "id              -0.016772\n",
              "long             0.022036\n",
              "condition        0.036056\n",
              "yr_built         0.053953\n",
              "sqft_lot15       0.082845\n",
              "sqft_lot         0.089876\n",
              "yr_renovated     0.126424\n",
              "floors           0.256804\n",
              "waterfront       0.266398\n",
              "lat              0.306692\n",
              "bedrooms         0.308787\n",
              "sqft_basement    0.323799\n",
              "view             0.397370\n",
              "bathrooms        0.525906\n",
              "sqft_living15    0.585241\n",
              "sqft_above       0.605368\n",
              "grade            0.667951\n",
              "sqft_living      0.701917\n",
              "price            1.000000\n",
              "Name: price, dtype: float64"
            ]
          },
          "metadata": {
            "tags": []
          },
          "execution_count": 12
        }
      ]
    },
    {
      "cell_type": "code",
      "metadata": {
        "id": "rsg68uzcDyIq",
        "colab_type": "code",
        "colab": {
          "base_uri": "https://localhost:8080/",
          "height": 363
        },
        "outputId": "dbdfd6fe-6287-4f80-f747-b61fa00047a6"
      },
      "source": [
        "plt.figure(figsize=(8,5))\n",
        "sns.scatterplot(x='sqft_living',y='price',data=df)"
      ],
      "execution_count": null,
      "outputs": [
        {
          "output_type": "execute_result",
          "data": {
            "text/plain": [
              "<matplotlib.axes._subplots.AxesSubplot at 0x7f111ccc2eb8>"
            ]
          },
          "metadata": {
            "tags": []
          },
          "execution_count": 15
        },
        {
          "output_type": "display_data",
          "data": {
            "image/png": "[encoded data removed]",
            "text/plain": [
              "<Figure size 576x360 with 1 Axes>"
            ]
          },
          "metadata": {
            "tags": [],
            "needs_background": "light"
          }
        }
      ]
    },
    {
      "cell_type": "code",
      "metadata": {
        "id": "woYoFIa-EpyV",
        "colab_type": "code",
        "colab": {
          "base_uri": "https://localhost:8080/",
          "height": 307
        },
        "outputId": "dd6aced0-c997-4fb2-ae22-35b2d3b3a95b"
      },
      "source": [
        "sns.boxplot(x='floors',y='price',data=df)"
      ],
      "execution_count": null,
      "outputs": [
        {
          "output_type": "execute_result",
          "data": {
            "text/plain": [
              "<matplotlib.axes._subplots.AxesSubplot at 0x7f111c3939b0>"
            ]
          },
          "metadata": {
            "tags": []
          },
          "execution_count": 16
        },
        {
          "output_type": "display_data",
          "data": {
            "image/png": "[encoded data removed]",
            "text/plain": [
              "<Figure size 432x288 with 1 Axes>"
            ]
          },
          "metadata": {
            "tags": [],
            "needs_background": "light"
          }
        }
      ]
    },
    {
      "cell_type": "markdown",
      "metadata": {
        "id": "PohITu38JWOt",
        "colab_type": "text"
      },
      "source": [
        "# Feature Engineering"
      ]
    },
    {
      "cell_type": "code",
      "metadata": {
        "id": "OUvrKU49JVGi",
        "colab_type": "code",
        "colab": {
          "base_uri": "https://localhost:8080/",
          "height": 131
        },
        "outputId": "80da96fd-1ff3-40f2-ccce-a8b9b3b69e0a"
      },
      "source": [
        "df.head(2)"
      ],
      "execution_count": null,
      "outputs": [
        {
          "output_type": "execute_result",
          "data": {
            "text/html": [
              "<div>\n",
              "<style scoped>\n",
              "    .dataframe tbody tr th:only-of-type {\n",
              "        vertical-align: middle;\n",
              "    }\n",
              "\n",
              "    .dataframe tbody tr th {\n",
              "        vertical-align: top;\n",
              "    }\n",
              "\n",
              "    .dataframe thead th {\n",
              "        text-align: right;\n",
              "    }\n",
              "</style>\n",
              "<table border=\"1\" class=\"dataframe\">\n",
              "  <thead>\n",
              "    <tr style=\"text-align: right;\">\n",
              "      <th></th>\n",
              "      <th>id</th>\n",
              "      <th>date</th>\n",
              "      <th>price</th>\n",
              "      <th>bedrooms</th>\n",
              "      <th>bathrooms</th>\n",
              "      <th>sqft_living</th>\n",
              "      <th>sqft_lot</th>\n",
              "      <th>floors</th>\n",
              "      <th>waterfront</th>\n",
              "      <th>view</th>\n",
              "      <th>condition</th>\n",
              "      <th>grade</th>\n",
              "      <th>sqft_above</th>\n",
              "      <th>sqft_basement</th>\n",
              "      <th>yr_built</th>\n",
              "      <th>yr_renovated</th>\n",
              "      <th>zipcode</th>\n",
              "      <th>lat</th>\n",
              "      <th>long</th>\n",
              "      <th>sqft_living15</th>\n",
              "      <th>sqft_lot15</th>\n",
              "    </tr>\n",
              "  </thead>\n",
              "  <tbody>\n",
              "    <tr>\n",
              "      <th>0</th>\n",
              "      <td>7129300520</td>\n",
              "      <td>10/13/2014</td>\n",
              "      <td>221900.0</td>\n",
              "      <td>3</td>\n",
              "      <td>1.00</td>\n",
              "      <td>1180</td>\n",
              "      <td>5650</td>\n",
              "      <td>1.0</td>\n",
              "      <td>0</td>\n",
              "      <td>0</td>\n",
              "      <td>3</td>\n",
              "      <td>7</td>\n",
              "      <td>1180</td>\n",
              "      <td>0</td>\n",
              "      <td>1955</td>\n",
              "      <td>0</td>\n",
              "      <td>98178</td>\n",
              "      <td>47.5112</td>\n",
              "      <td>-122.257</td>\n",
              "      <td>1340</td>\n",
              "      <td>5650</td>\n",
              "    </tr>\n",
              "    <tr>\n",
              "      <th>1</th>\n",
              "      <td>6414100192</td>\n",
              "      <td>12/9/2014</td>\n",
              "      <td>538000.0</td>\n",
              "      <td>3</td>\n",
              "      <td>2.25</td>\n",
              "      <td>2570</td>\n",
              "      <td>7242</td>\n",
              "      <td>2.0</td>\n",
              "      <td>0</td>\n",
              "      <td>0</td>\n",
              "      <td>3</td>\n",
              "      <td>7</td>\n",
              "      <td>2170</td>\n",
              "      <td>400</td>\n",
              "      <td>1951</td>\n",
              "      <td>1991</td>\n",
              "      <td>98125</td>\n",
              "      <td>47.7210</td>\n",
              "      <td>-122.319</td>\n",
              "      <td>1690</td>\n",
              "      <td>7639</td>\n",
              "    </tr>\n",
              "  </tbody>\n",
              "</table>\n",
              "</div>"
            ],
            "text/plain": [
              "           id        date     price  ...     long  sqft_living15  sqft_lot15\n",
              "0  7129300520  10/13/2014  221900.0  ... -122.257           1340        5650\n",
              "1  6414100192   12/9/2014  538000.0  ... -122.319           1690        7639\n",
              "\n",
              "[2 rows x 21 columns]"
            ]
          },
          "metadata": {
            "tags": []
          },
          "execution_count": 17
        }
      ]
    },
    {
      "cell_type": "code",
      "metadata": {
        "id": "-qa-hNlSFslM",
        "colab_type": "code",
        "colab": {}
      },
      "source": [
        "df = df.drop('id',axis=1)"
      ],
      "execution_count": null,
      "outputs": []
    },
    {
      "cell_type": "code",
      "metadata": {
        "id": "flxtmnsFJoBJ",
        "colab_type": "code",
        "colab": {
          "base_uri": "https://localhost:8080/",
          "height": 131
        },
        "outputId": "bcf038e1-5a33-449d-c4d2-167501f25577"
      },
      "source": [
        "df.head(2)"
      ],
      "execution_count": null,
      "outputs": [
        {
          "output_type": "execute_result",
          "data": {
            "text/html": [
              "<div>\n",
              "<style scoped>\n",
              "    .dataframe tbody tr th:only-of-type {\n",
              "        vertical-align: middle;\n",
              "    }\n",
              "\n",
              "    .dataframe tbody tr th {\n",
              "        vertical-align: top;\n",
              "    }\n",
              "\n",
              "    .dataframe thead th {\n",
              "        text-align: right;\n",
              "    }\n",
              "</style>\n",
              "<table border=\"1\" class=\"dataframe\">\n",
              "  <thead>\n",
              "    <tr style=\"text-align: right;\">\n",
              "      <th></th>\n",
              "      <th>date</th>\n",
              "      <th>price</th>\n",
              "      <th>bedrooms</th>\n",
              "      <th>bathrooms</th>\n",
              "      <th>sqft_living</th>\n",
              "      <th>sqft_lot</th>\n",
              "      <th>floors</th>\n",
              "      <th>waterfront</th>\n",
              "      <th>view</th>\n",
              "      <th>condition</th>\n",
              "      <th>grade</th>\n",
              "      <th>sqft_above</th>\n",
              "      <th>sqft_basement</th>\n",
              "      <th>yr_built</th>\n",
              "      <th>yr_renovated</th>\n",
              "      <th>zipcode</th>\n",
              "      <th>lat</th>\n",
              "      <th>long</th>\n",
              "      <th>sqft_living15</th>\n",
              "      <th>sqft_lot15</th>\n",
              "    </tr>\n",
              "  </thead>\n",
              "  <tbody>\n",
              "    <tr>\n",
              "      <th>0</th>\n",
              "      <td>10/13/2014</td>\n",
              "      <td>221900.0</td>\n",
              "      <td>3</td>\n",
              "      <td>1.00</td>\n",
              "      <td>1180</td>\n",
              "      <td>5650</td>\n",
              "      <td>1.0</td>\n",
              "      <td>0</td>\n",
              "      <td>0</td>\n",
              "      <td>3</td>\n",
              "      <td>7</td>\n",
              "      <td>1180</td>\n",
              "      <td>0</td>\n",
              "      <td>1955</td>\n",
              "      <td>0</td>\n",
              "      <td>98178</td>\n",
              "      <td>47.5112</td>\n",
              "      <td>-122.257</td>\n",
              "      <td>1340</td>\n",
              "      <td>5650</td>\n",
              "    </tr>\n",
              "    <tr>\n",
              "      <th>1</th>\n",
              "      <td>12/9/2014</td>\n",
              "      <td>538000.0</td>\n",
              "      <td>3</td>\n",
              "      <td>2.25</td>\n",
              "      <td>2570</td>\n",
              "      <td>7242</td>\n",
              "      <td>2.0</td>\n",
              "      <td>0</td>\n",
              "      <td>0</td>\n",
              "      <td>3</td>\n",
              "      <td>7</td>\n",
              "      <td>2170</td>\n",
              "      <td>400</td>\n",
              "      <td>1951</td>\n",
              "      <td>1991</td>\n",
              "      <td>98125</td>\n",
              "      <td>47.7210</td>\n",
              "      <td>-122.319</td>\n",
              "      <td>1690</td>\n",
              "      <td>7639</td>\n",
              "    </tr>\n",
              "  </tbody>\n",
              "</table>\n",
              "</div>"
            ],
            "text/plain": [
              "         date     price  bedrooms  ...     long  sqft_living15  sqft_lot15\n",
              "0  10/13/2014  221900.0         3  ... -122.257           1340        5650\n",
              "1   12/9/2014  538000.0         3  ... -122.319           1690        7639\n",
              "\n",
              "[2 rows x 20 columns]"
            ]
          },
          "metadata": {
            "tags": []
          },
          "execution_count": 19
        }
      ]
    },
    {
      "cell_type": "code",
      "metadata": {
        "id": "VyN2ekVhJrdF",
        "colab_type": "code",
        "colab": {}
      },
      "source": [
        "df['date'] = pd.to_datetime(df['date'])"
      ],
      "execution_count": null,
      "outputs": []
    },
    {
      "cell_type": "code",
      "metadata": {
        "id": "xCuVhoexJ4iS",
        "colab_type": "code",
        "colab": {}
      },
      "source": [
        "y = lambda dates : dates.year"
      ],
      "execution_count": null,
      "outputs": []
    },
    {
      "cell_type": "code",
      "metadata": {
        "id": "7nbAg78yJ6Yx",
        "colab_type": "code",
        "colab": {}
      },
      "source": [
        "df['year'] = df['date'].apply(y)"
      ],
      "execution_count": null,
      "outputs": []
    },
    {
      "cell_type": "code",
      "metadata": {
        "id": "w0S_s64aKpwv",
        "colab_type": "code",
        "colab": {}
      },
      "source": [
        "df['month'] = df['date'].apply(lambda dates : dates.month)"
      ],
      "execution_count": null,
      "outputs": []
    },
    {
      "cell_type": "code",
      "metadata": {
        "id": "pynPH9mrKrrC",
        "colab_type": "code",
        "colab": {
          "base_uri": "https://localhost:8080/",
          "height": 525
        },
        "outputId": "0eec762d-ba12-408b-fe97-3deca06433b1"
      },
      "source": [
        "plt.figure(figsize=(12,8))\n",
        "sns.boxplot(x='month',y='price',data=df)"
      ],
      "execution_count": null,
      "outputs": [
        {
          "output_type": "execute_result",
          "data": {
            "text/plain": [
              "<matplotlib.axes._subplots.AxesSubplot at 0x7f111bb8ee10>"
            ]
          },
          "metadata": {
            "tags": []
          },
          "execution_count": 37
        },
        {
          "output_type": "display_data",
          "data": {
            "image/png": "[encoded data removed]",
            "text/plain": [
              "<Figure size 864x576 with 1 Axes>"
            ]
          },
          "metadata": {
            "tags": [],
            "needs_background": "light"
          }
        }
      ]
    },
    {
      "cell_type": "code",
      "metadata": {
        "id": "tYCF77reLQJt",
        "colab_type": "code",
        "colab": {
          "base_uri": "https://localhost:8080/",
          "height": 296
        },
        "outputId": "38e174d0-ac39-4e63-d71e-b0f5c06f336c"
      },
      "source": [
        "df.groupby('month').mean()['price'].plot()"
      ],
      "execution_count": null,
      "outputs": [
        {
          "output_type": "execute_result",
          "data": {
            "text/plain": [
              "<matplotlib.axes._subplots.AxesSubplot at 0x7f111ba12a58>"
            ]
          },
          "metadata": {
            "tags": []
          },
          "execution_count": 38
        },
        {
          "output_type": "display_data",
          "data": {
            "image/png": "[encoded data removed]",
            "text/plain": [
              "<Figure size 432x288 with 1 Axes>"
            ]
          },
          "metadata": {
            "tags": [],
            "needs_background": "light"
          }
        }
      ]
    },
    {
      "cell_type": "code",
      "metadata": {
        "id": "7ESUMKdrPf2T",
        "colab_type": "code",
        "colab": {
          "base_uri": "https://localhost:8080/",
          "height": 221
        },
        "outputId": "ae8a3e31-987d-4d35-af14-17fc5b81fac3"
      },
      "source": [
        "df['zipcode'].value_counts()"
      ],
      "execution_count": null,
      "outputs": [
        {
          "output_type": "execute_result",
          "data": {
            "text/plain": [
              "98103    602\n",
              "98038    589\n",
              "98115    583\n",
              "98052    574\n",
              "98117    553\n",
              "        ... \n",
              "98102    104\n",
              "98010    100\n",
              "98024     80\n",
              "98148     57\n",
              "98039     50\n",
              "Name: zipcode, Length: 70, dtype: int64"
            ]
          },
          "metadata": {
            "tags": []
          },
          "execution_count": 39
        }
      ]
    },
    {
      "cell_type": "code",
      "metadata": {
        "id": "ElVTBC6LScUh",
        "colab_type": "code",
        "colab": {}
      },
      "source": [
        "df = df.drop('zipcode',axis=1)"
      ],
      "execution_count": null,
      "outputs": []
    },
    {
      "cell_type": "code",
      "metadata": {
        "id": "SC4M6BdkTJMA",
        "colab_type": "code",
        "colab": {}
      },
      "source": [
        "# df.head(2)"
      ],
      "execution_count": null,
      "outputs": []
    },
    {
      "cell_type": "markdown",
      "metadata": {
        "id": "i2SS5sSHUYdJ",
        "colab_type": "text"
      },
      "source": [
        "#Data Preprocessing and Train-Test Split (ML/DL)\n",
        "--> note that neural networks take in arrays. hence .values is important\n"
      ]
    },
    {
      "cell_type": "code",
      "metadata": {
        "id": "Vz65FTn6TN5f",
        "colab_type": "code",
        "colab": {}
      },
      "source": [
        "df = df.drop('date',axis=1)\n",
        "X = df.drop('price',axis=1).values"
      ],
      "execution_count": null,
      "outputs": []
    },
    {
      "cell_type": "code",
      "metadata": {
        "id": "V5txiyxkUtMC",
        "colab_type": "code",
        "colab": {}
      },
      "source": [
        "y = df['price'].values"
      ],
      "execution_count": null,
      "outputs": []
    },
    {
      "cell_type": "code",
      "metadata": {
        "id": "EnuW_9YGU3-3",
        "colab_type": "code",
        "colab": {}
      },
      "source": [
        "from sklearn.model_selection import train_test_split"
      ],
      "execution_count": null,
      "outputs": []
    },
    {
      "cell_type": "code",
      "metadata": {
        "id": "IgxEKMKDVNyT",
        "colab_type": "code",
        "colab": {}
      },
      "source": [
        "X_train, X_test, y_train, y_test = train_test_split(X, y, test_size=0.3, random_state=101)"
      ],
      "execution_count": null,
      "outputs": []
    },
    {
      "cell_type": "code",
      "metadata": {
        "id": "iilklczwVf1C",
        "colab_type": "code",
        "colab": {}
      },
      "source": [
        "# now we do scaling. and we always do it post split, on the training set to prevent \n",
        "#data leakage."
      ],
      "execution_count": null,
      "outputs": []
    },
    {
      "cell_type": "code",
      "metadata": {
        "id": "z1CgXrkAVr0B",
        "colab_type": "code",
        "colab": {}
      },
      "source": [
        "from sklearn.preprocessing import MinMaxScaler"
      ],
      "execution_count": null,
      "outputs": []
    },
    {
      "cell_type": "code",
      "metadata": {
        "id": "9Iq5L8K5VzyO",
        "colab_type": "code",
        "colab": {}
      },
      "source": [
        "scaler = MinMaxScaler()"
      ],
      "execution_count": null,
      "outputs": []
    },
    {
      "cell_type": "code",
      "metadata": {
        "id": "xAIokkrEV4Ux",
        "colab_type": "code",
        "colab": {}
      },
      "source": [
        "X_train = scaler.fit_transform(X_train)"
      ],
      "execution_count": null,
      "outputs": []
    },
    {
      "cell_type": "code",
      "metadata": {
        "id": "2ykGC6ibWBXp",
        "colab_type": "code",
        "colab": {}
      },
      "source": [
        "X_test = scaler.transform(X_test)"
      ],
      "execution_count": null,
      "outputs": []
    },
    {
      "cell_type": "code",
      "metadata": {
        "id": "FTlniEHCWxdc",
        "colab_type": "code",
        "colab": {}
      },
      "source": [
        "from tensorflow.keras.models import Sequential"
      ],
      "execution_count": null,
      "outputs": []
    },
    {
      "cell_type": "code",
      "metadata": {
        "id": "Fx7RU23qW6_A",
        "colab_type": "code",
        "colab": {}
      },
      "source": [
        "from tensorflow.keras.layers import Dense"
      ],
      "execution_count": null,
      "outputs": []
    },
    {
      "cell_type": "code",
      "metadata": {
        "id": "d_IKSfU0XDfG",
        "colab_type": "code",
        "colab": {}
      },
      "source": [
        "model = Sequential()"
      ],
      "execution_count": null,
      "outputs": []
    },
    {
      "cell_type": "code",
      "metadata": {
        "id": "LbMONq43XK3x",
        "colab_type": "code",
        "colab": {
          "base_uri": "https://localhost:8080/",
          "height": 34
        },
        "outputId": "0d06f0b3-d303-44d2-82be-ae283f5dcd88"
      },
      "source": [
        "#input neurons = no. of incoming features (columns of the matrix/2D array)\n",
        "X_train.shape # hence 19 input layer neurons"
      ],
      "execution_count": null,
      "outputs": [
        {
          "output_type": "execute_result",
          "data": {
            "text/plain": [
              "(15117, 19)"
            ]
          },
          "metadata": {
            "tags": []
          },
          "execution_count": 64
        }
      ]
    },
    {
      "cell_type": "markdown",
      "metadata": {
        "id": "QDSI0QQaXz5R",
        "colab_type": "text"
      },
      "source": [
        "# adding layers one by one"
      ]
    },
    {
      "cell_type": "code",
      "metadata": {
        "id": "TYcjmLJNXZtj",
        "colab_type": "code",
        "colab": {}
      },
      "source": [
        "model.add(Dense(19,activation='relu'))"
      ],
      "execution_count": null,
      "outputs": []
    },
    {
      "cell_type": "code",
      "metadata": {
        "id": "iNKK7dfMYB9o",
        "colab_type": "code",
        "colab": {}
      },
      "source": [
        "model.add(Dense(19,activation='relu'))\n",
        "model.add(Dense(19,activation='relu'))\n",
        "model.add(Dense(19,activation='relu'))\n",
        "\n",
        "model.add(Dense(1)) #might be overkill but we'll check with validation data"
      ],
      "execution_count": null,
      "outputs": []
    },
    {
      "cell_type": "code",
      "metadata": {
        "id": "nKMSOuMcYY_u",
        "colab_type": "code",
        "colab": {}
      },
      "source": [
        "model.compile(optimizer='adam',loss='mse') #since y -> price -> continuous value, mse is a good loss function. adam is a modified grad. descent."
      ],
      "execution_count": null,
      "outputs": []
    },
    {
      "cell_type": "code",
      "metadata": {
        "id": "qdJkGaGkY5jl",
        "colab_type": "code",
        "colab": {
          "base_uri": "https://localhost:8080/",
          "height": 1000
        },
        "outputId": "9690fe09-54e7-4ef3-a8a5-466b510da678"
      },
      "source": [
        "model.fit(x=X_train,y=y_train,batch_size=128,validation_data=(X_test,y_test),epochs=400)"
      ],
      "execution_count": null,
      "outputs": [
        {
          "output_type": "stream",
          "text": [
            "Epoch 1/400\n",
            "119/119 [==============================] - 0s 4ms/step - loss: 430246330368.0000 - val_loss: 418949070848.0000\n",
            "Epoch 2/400\n",
            "119/119 [==============================] - 0s 2ms/step - loss: 429333708800.0000 - val_loss: 415472713728.0000\n",
            "Epoch 3/400\n",
            "119/119 [==============================] - 0s 2ms/step - loss: 413313368064.0000 - val_loss: 376751554560.0000\n",
            "Epoch 4/400\n",
            "119/119 [==============================] - 0s 2ms/step - loss: 327799799808.0000 - val_loss: 238805565440.0000\n",
            "Epoch 5/400\n",
            "119/119 [==============================] - 0s 2ms/step - loss: 168415969280.0000 - val_loss: 106404708352.0000\n",
            "Epoch 6/400\n",
            "119/119 [==============================] - 0s 2ms/step - loss: 101073387520.0000 - val_loss: 94634680320.0000\n",
            "Epoch 7/400\n",
            "119/119 [==============================] - 0s 2ms/step - loss: 96862617600.0000 - val_loss: 92891299840.0000\n",
            "Epoch 8/400\n",
            "119/119 [==============================] - 0s 2ms/step - loss: 94998437888.0000 - val_loss: 91125481472.0000\n",
            "Epoch 9/400\n",
            "119/119 [==============================] - 0s 2ms/step - loss: 93109182464.0000 - val_loss: 89294036992.0000\n",
            "Epoch 10/400\n",
            "119/119 [==============================] - 0s 2ms/step - loss: 91165327360.0000 - val_loss: 87379664896.0000\n",
            "Epoch 11/400\n",
            "119/119 [==============================] - 0s 2ms/step - loss: 89105883136.0000 - val_loss: 85455945728.0000\n",
            "Epoch 12/400\n",
            "119/119 [==============================] - 0s 2ms/step - loss: 86967681024.0000 - val_loss: 83289202688.0000\n",
            "Epoch 13/400\n",
            "119/119 [==============================] - 0s 2ms/step - loss: 84738826240.0000 - val_loss: 81093025792.0000\n",
            "Epoch 14/400\n",
            "119/119 [==============================] - 0s 2ms/step - loss: 82440085504.0000 - val_loss: 78837186560.0000\n",
            "Epoch 15/400\n",
            "119/119 [==============================] - 0s 2ms/step - loss: 80008880128.0000 - val_loss: 76489179136.0000\n",
            "Epoch 16/400\n",
            "119/119 [==============================] - 0s 2ms/step - loss: 77490216960.0000 - val_loss: 74049052672.0000\n",
            "Epoch 17/400\n",
            "119/119 [==============================] - 0s 2ms/step - loss: 74943201280.0000 - val_loss: 71551270912.0000\n",
            "Epoch 18/400\n",
            "119/119 [==============================] - 0s 2ms/step - loss: 72324145152.0000 - val_loss: 68967088128.0000\n",
            "Epoch 19/400\n",
            "119/119 [==============================] - 0s 2ms/step - loss: 69658599424.0000 - val_loss: 66386919424.0000\n",
            "Epoch 20/400\n",
            "119/119 [==============================] - 0s 2ms/step - loss: 66961399808.0000 - val_loss: 63797092352.0000\n",
            "Epoch 21/400\n",
            "119/119 [==============================] - 0s 2ms/step - loss: 64305381376.0000 - val_loss: 61257670656.0000\n",
            "Epoch 22/400\n",
            "119/119 [==============================] - 0s 2ms/step - loss: 61772046336.0000 - val_loss: 58944520192.0000\n",
            "Epoch 23/400\n",
            "119/119 [==============================] - 0s 2ms/step - loss: 59456880640.0000 - val_loss: 56762019840.0000\n",
            "Epoch 24/400\n",
            "119/119 [==============================] - 0s 2ms/step - loss: 57290117120.0000 - val_loss: 54827782144.0000\n",
            "Epoch 25/400\n",
            "119/119 [==============================] - 0s 2ms/step - loss: 55404810240.0000 - val_loss: 53162823680.0000\n",
            "Epoch 26/400\n",
            "119/119 [==============================] - 0s 2ms/step - loss: 53834371072.0000 - val_loss: 51753385984.0000\n",
            "Epoch 27/400\n",
            "119/119 [==============================] - 0s 2ms/step - loss: 52467380224.0000 - val_loss: 50585165824.0000\n",
            "Epoch 28/400\n",
            "119/119 [==============================] - 0s 2ms/step - loss: 51292442624.0000 - val_loss: 49546936320.0000\n",
            "Epoch 29/400\n",
            "119/119 [==============================] - 0s 2ms/step - loss: 50343391232.0000 - val_loss: 48661221376.0000\n",
            "Epoch 30/400\n",
            "119/119 [==============================] - 0s 2ms/step - loss: 49491099648.0000 - val_loss: 47944085504.0000\n",
            "Epoch 31/400\n",
            "119/119 [==============================] - 0s 2ms/step - loss: 48751923200.0000 - val_loss: 47206395904.0000\n",
            "Epoch 32/400\n",
            "119/119 [==============================] - 0s 2ms/step - loss: 48033992704.0000 - val_loss: 46555734016.0000\n",
            "Epoch 33/400\n",
            "119/119 [==============================] - 0s 2ms/step - loss: 47367450624.0000 - val_loss: 45927223296.0000\n",
            "Epoch 34/400\n",
            "119/119 [==============================] - 0s 2ms/step - loss: 46732455936.0000 - val_loss: 45329965056.0000\n",
            "Epoch 35/400\n",
            "119/119 [==============================] - 0s 2ms/step - loss: 46155612160.0000 - val_loss: 44812173312.0000\n",
            "Epoch 36/400\n",
            "119/119 [==============================] - 0s 2ms/step - loss: 45605285888.0000 - val_loss: 44212760576.0000\n",
            "Epoch 37/400\n",
            "119/119 [==============================] - 0s 2ms/step - loss: 45079478272.0000 - val_loss: 43687612416.0000\n",
            "Epoch 38/400\n",
            "119/119 [==============================] - 0s 2ms/step - loss: 44559855616.0000 - val_loss: 43263766528.0000\n",
            "Epoch 39/400\n",
            "119/119 [==============================] - 0s 2ms/step - loss: 44063895552.0000 - val_loss: 42683551744.0000\n",
            "Epoch 40/400\n",
            "119/119 [==============================] - 0s 2ms/step - loss: 43563462656.0000 - val_loss: 42219016192.0000\n",
            "Epoch 41/400\n",
            "119/119 [==============================] - 0s 2ms/step - loss: 43096776704.0000 - val_loss: 41985822720.0000\n",
            "Epoch 42/400\n",
            "119/119 [==============================] - 0s 2ms/step - loss: 42738356224.0000 - val_loss: 41326891008.0000\n",
            "Epoch 43/400\n",
            "119/119 [==============================] - 0s 2ms/step - loss: 42392109056.0000 - val_loss: 40931258368.0000\n",
            "Epoch 44/400\n",
            "119/119 [==============================] - 0s 2ms/step - loss: 41965838336.0000 - val_loss: 40592105472.0000\n",
            "Epoch 45/400\n",
            "119/119 [==============================] - 0s 2ms/step - loss: 41614368768.0000 - val_loss: 40232017920.0000\n",
            "Epoch 46/400\n",
            "119/119 [==============================] - 0s 2ms/step - loss: 41267048448.0000 - val_loss: 39939813376.0000\n",
            "Epoch 47/400\n",
            "119/119 [==============================] - 0s 2ms/step - loss: 40984272896.0000 - val_loss: 39600857088.0000\n",
            "Epoch 48/400\n",
            "119/119 [==============================] - 0s 2ms/step - loss: 40620552192.0000 - val_loss: 39444541440.0000\n",
            "Epoch 49/400\n",
            "119/119 [==============================] - 0s 2ms/step - loss: 40415879168.0000 - val_loss: 39030751232.0000\n",
            "Epoch 50/400\n",
            "119/119 [==============================] - 0s 2ms/step - loss: 40080494592.0000 - val_loss: 38855077888.0000\n",
            "Epoch 51/400\n",
            "119/119 [==============================] - 0s 2ms/step - loss: 39859695616.0000 - val_loss: 38504873984.0000\n",
            "Epoch 52/400\n",
            "119/119 [==============================] - 0s 2ms/step - loss: 39566684160.0000 - val_loss: 38245871616.0000\n",
            "Epoch 53/400\n",
            "119/119 [==============================] - 0s 2ms/step - loss: 39274811392.0000 - val_loss: 38137171968.0000\n",
            "Epoch 54/400\n",
            "119/119 [==============================] - 0s 2ms/step - loss: 39101493248.0000 - val_loss: 37732376576.0000\n",
            "Epoch 55/400\n",
            "119/119 [==============================] - 0s 2ms/step - loss: 38791319552.0000 - val_loss: 37516455936.0000\n",
            "Epoch 56/400\n",
            "119/119 [==============================] - 0s 2ms/step - loss: 38559653888.0000 - val_loss: 37242134528.0000\n",
            "Epoch 57/400\n",
            "119/119 [==============================] - 0s 2ms/step - loss: 38305034240.0000 - val_loss: 36996198400.0000\n",
            "Epoch 58/400\n",
            "119/119 [==============================] - 0s 2ms/step - loss: 38114832384.0000 - val_loss: 36761677824.0000\n",
            "Epoch 59/400\n",
            "119/119 [==============================] - 0s 2ms/step - loss: 37884973056.0000 - val_loss: 36548411392.0000\n",
            "Epoch 60/400\n",
            "119/119 [==============================] - 0s 2ms/step - loss: 37713858560.0000 - val_loss: 36401164288.0000\n",
            "Epoch 61/400\n",
            "119/119 [==============================] - 0s 2ms/step - loss: 37457489920.0000 - val_loss: 36116115456.0000\n",
            "Epoch 62/400\n",
            "119/119 [==============================] - 0s 2ms/step - loss: 37274058752.0000 - val_loss: 35929092096.0000\n",
            "Epoch 63/400\n",
            "119/119 [==============================] - 0s 2ms/step - loss: 37100855296.0000 - val_loss: 35821289472.0000\n",
            "Epoch 64/400\n",
            "119/119 [==============================] - 0s 2ms/step - loss: 36921720832.0000 - val_loss: 35597737984.0000\n",
            "Epoch 65/400\n",
            "119/119 [==============================] - 0s 2ms/step - loss: 36751265792.0000 - val_loss: 35441786880.0000\n",
            "Epoch 66/400\n",
            "119/119 [==============================] - 0s 2ms/step - loss: 36609998848.0000 - val_loss: 35288846336.0000\n",
            "Epoch 67/400\n",
            "119/119 [==============================] - 0s 2ms/step - loss: 36492632064.0000 - val_loss: 35124228096.0000\n",
            "Epoch 68/400\n",
            "119/119 [==============================] - 0s 2ms/step - loss: 36297306112.0000 - val_loss: 34994528256.0000\n",
            "Epoch 69/400\n",
            "119/119 [==============================] - 0s 2ms/step - loss: 36241354752.0000 - val_loss: 34886733824.0000\n",
            "Epoch 70/400\n",
            "119/119 [==============================] - 0s 2ms/step - loss: 36078247936.0000 - val_loss: 34730614784.0000\n",
            "Epoch 71/400\n",
            "119/119 [==============================] - 0s 2ms/step - loss: 35915268096.0000 - val_loss: 34604703744.0000\n",
            "Epoch 72/400\n",
            "119/119 [==============================] - 0s 2ms/step - loss: 35794354176.0000 - val_loss: 34476613632.0000\n",
            "Epoch 73/400\n",
            "119/119 [==============================] - 0s 2ms/step - loss: 35680444416.0000 - val_loss: 34387451904.0000\n",
            "Epoch 74/400\n",
            "119/119 [==============================] - 0s 2ms/step - loss: 35552542720.0000 - val_loss: 34279829504.0000\n",
            "Epoch 75/400\n",
            "119/119 [==============================] - 0s 2ms/step - loss: 35451846656.0000 - val_loss: 34147643392.0000\n",
            "Epoch 76/400\n",
            "119/119 [==============================] - 0s 2ms/step - loss: 35338989568.0000 - val_loss: 34079111168.0000\n",
            "Epoch 77/400\n",
            "119/119 [==============================] - 0s 2ms/step - loss: 35217604608.0000 - val_loss: 33951459328.0000\n",
            "Epoch 78/400\n",
            "119/119 [==============================] - 0s 2ms/step - loss: 35174563840.0000 - val_loss: 33860294656.0000\n",
            "Epoch 79/400\n",
            "119/119 [==============================] - 0s 2ms/step - loss: 35040849920.0000 - val_loss: 33774764032.0000\n",
            "Epoch 80/400\n",
            "119/119 [==============================] - 0s 2ms/step - loss: 34974298112.0000 - val_loss: 33793466368.0000\n",
            "Epoch 81/400\n",
            "119/119 [==============================] - 0s 2ms/step - loss: 34896199680.0000 - val_loss: 33611399168.0000\n",
            "Epoch 82/400\n",
            "119/119 [==============================] - 0s 2ms/step - loss: 34796892160.0000 - val_loss: 33544036352.0000\n",
            "Epoch 83/400\n",
            "119/119 [==============================] - 0s 2ms/step - loss: 34720292864.0000 - val_loss: 33476259840.0000\n",
            "Epoch 84/400\n",
            "119/119 [==============================] - 0s 2ms/step - loss: 34656321536.0000 - val_loss: 33372409856.0000\n",
            "Epoch 85/400\n",
            "119/119 [==============================] - 0s 2ms/step - loss: 34567671808.0000 - val_loss: 33352146944.0000\n",
            "Epoch 86/400\n",
            "119/119 [==============================] - 0s 2ms/step - loss: 34520076288.0000 - val_loss: 33223251968.0000\n",
            "Epoch 87/400\n",
            "119/119 [==============================] - 0s 2ms/step - loss: 34406875136.0000 - val_loss: 33162678272.0000\n",
            "Epoch 88/400\n",
            "119/119 [==============================] - 0s 2ms/step - loss: 34369892352.0000 - val_loss: 33082546176.0000\n",
            "Epoch 89/400\n",
            "119/119 [==============================] - 0s 3ms/step - loss: 34296565760.0000 - val_loss: 33034592256.0000\n",
            "Epoch 90/400\n",
            "119/119 [==============================] - 0s 2ms/step - loss: 34194597888.0000 - val_loss: 32948264960.0000\n",
            "Epoch 91/400\n",
            "119/119 [==============================] - 0s 2ms/step - loss: 34177570816.0000 - val_loss: 32926867456.0000\n",
            "Epoch 92/400\n",
            "119/119 [==============================] - 0s 2ms/step - loss: 34142291968.0000 - val_loss: 32802541568.0000\n",
            "Epoch 93/400\n",
            "119/119 [==============================] - 0s 2ms/step - loss: 34017116160.0000 - val_loss: 32752740352.0000\n",
            "Epoch 94/400\n",
            "119/119 [==============================] - 0s 2ms/step - loss: 33983870976.0000 - val_loss: 32731688960.0000\n",
            "Epoch 95/400\n",
            "119/119 [==============================] - 0s 2ms/step - loss: 33937790976.0000 - val_loss: 32701353984.0000\n",
            "Epoch 96/400\n",
            "119/119 [==============================] - 0s 2ms/step - loss: 33862488064.0000 - val_loss: 32549027840.0000\n",
            "Epoch 97/400\n",
            "119/119 [==============================] - 0s 2ms/step - loss: 33801742336.0000 - val_loss: 32485011456.0000\n",
            "Epoch 98/400\n",
            "119/119 [==============================] - 0s 2ms/step - loss: 33743962112.0000 - val_loss: 32427155456.0000\n",
            "Epoch 99/400\n",
            "119/119 [==============================] - 0s 2ms/step - loss: 33676742656.0000 - val_loss: 32530872320.0000\n",
            "Epoch 100/400\n",
            "119/119 [==============================] - 0s 2ms/step - loss: 33656834048.0000 - val_loss: 32312702976.0000\n",
            "Epoch 101/400\n",
            "119/119 [==============================] - 0s 2ms/step - loss: 33599485952.0000 - val_loss: 32256169984.0000\n",
            "Epoch 102/400\n",
            "119/119 [==============================] - 0s 2ms/step - loss: 33585786880.0000 - val_loss: 32292712448.0000\n",
            "Epoch 103/400\n",
            "119/119 [==============================] - 0s 2ms/step - loss: 33518411776.0000 - val_loss: 32119756800.0000\n",
            "Epoch 104/400\n",
            "119/119 [==============================] - 0s 2ms/step - loss: 33496199168.0000 - val_loss: 32077957120.0000\n",
            "Epoch 105/400\n",
            "119/119 [==============================] - 0s 2ms/step - loss: 33400215552.0000 - val_loss: 32045275136.0000\n",
            "Epoch 106/400\n",
            "119/119 [==============================] - 0s 2ms/step - loss: 33335490560.0000 - val_loss: 31954667520.0000\n",
            "Epoch 107/400\n",
            "119/119 [==============================] - 0s 2ms/step - loss: 33305935872.0000 - val_loss: 31907162112.0000\n",
            "Epoch 108/400\n",
            "119/119 [==============================] - 0s 2ms/step - loss: 33251399680.0000 - val_loss: 31852247040.0000\n",
            "Epoch 109/400\n",
            "119/119 [==============================] - 0s 2ms/step - loss: 33247004672.0000 - val_loss: 31813132288.0000\n",
            "Epoch 110/400\n",
            "119/119 [==============================] - 0s 2ms/step - loss: 33274841088.0000 - val_loss: 31741667328.0000\n",
            "Epoch 111/400\n",
            "119/119 [==============================] - 0s 2ms/step - loss: 33143083008.0000 - val_loss: 31708342272.0000\n",
            "Epoch 112/400\n",
            "119/119 [==============================] - 0s 2ms/step - loss: 33097242624.0000 - val_loss: 31648612352.0000\n",
            "Epoch 113/400\n",
            "119/119 [==============================] - 0s 2ms/step - loss: 33053925376.0000 - val_loss: 31579607040.0000\n",
            "Epoch 114/400\n",
            "119/119 [==============================] - 0s 2ms/step - loss: 33019176960.0000 - val_loss: 31543928832.0000\n",
            "Epoch 115/400\n",
            "119/119 [==============================] - 0s 2ms/step - loss: 32963432448.0000 - val_loss: 31503077376.0000\n",
            "Epoch 116/400\n",
            "119/119 [==============================] - 0s 2ms/step - loss: 32959342592.0000 - val_loss: 31482005504.0000\n",
            "Epoch 117/400\n",
            "119/119 [==============================] - 0s 2ms/step - loss: 32941762560.0000 - val_loss: 31539841024.0000\n",
            "Epoch 118/400\n",
            "119/119 [==============================] - 0s 2ms/step - loss: 32867532800.0000 - val_loss: 31370467328.0000\n",
            "Epoch 119/400\n",
            "119/119 [==============================] - 0s 2ms/step - loss: 32872019968.0000 - val_loss: 31356755968.0000\n",
            "Epoch 120/400\n",
            "119/119 [==============================] - 0s 2ms/step - loss: 32801609728.0000 - val_loss: 31304265728.0000\n",
            "Epoch 121/400\n",
            "119/119 [==============================] - 0s 2ms/step - loss: 32725649408.0000 - val_loss: 31340277760.0000\n",
            "Epoch 122/400\n",
            "119/119 [==============================] - 0s 2ms/step - loss: 32706213888.0000 - val_loss: 31198205952.0000\n",
            "Epoch 123/400\n",
            "119/119 [==============================] - 0s 2ms/step - loss: 32704993280.0000 - val_loss: 31190831104.0000\n",
            "Epoch 124/400\n",
            "119/119 [==============================] - 0s 2ms/step - loss: 32691224576.0000 - val_loss: 31115376640.0000\n",
            "Epoch 125/400\n",
            "119/119 [==============================] - 0s 2ms/step - loss: 32619380736.0000 - val_loss: 31085955072.0000\n",
            "Epoch 126/400\n",
            "119/119 [==============================] - 0s 2ms/step - loss: 32568027136.0000 - val_loss: 31068514304.0000\n",
            "Epoch 127/400\n",
            "119/119 [==============================] - 0s 2ms/step - loss: 32570271744.0000 - val_loss: 30981560320.0000\n",
            "Epoch 128/400\n",
            "119/119 [==============================] - 0s 2ms/step - loss: 32511383552.0000 - val_loss: 30955569152.0000\n",
            "Epoch 129/400\n",
            "119/119 [==============================] - 0s 2ms/step - loss: 32517902336.0000 - val_loss: 30930319360.0000\n",
            "Epoch 130/400\n",
            "119/119 [==============================] - 1s 5ms/step - loss: 32448237568.0000 - val_loss: 30875924480.0000\n",
            "Epoch 131/400\n",
            "119/119 [==============================] - 0s 2ms/step - loss: 32428032000.0000 - val_loss: 30863796224.0000\n",
            "Epoch 132/400\n",
            "119/119 [==============================] - 0s 2ms/step - loss: 32434241536.0000 - val_loss: 30861588480.0000\n",
            "Epoch 133/400\n",
            "119/119 [==============================] - 0s 2ms/step - loss: 32395499520.0000 - val_loss: 30842728448.0000\n",
            "Epoch 134/400\n",
            "119/119 [==============================] - 0s 2ms/step - loss: 32329103360.0000 - val_loss: 30946359296.0000\n",
            "Epoch 135/400\n",
            "119/119 [==============================] - 0s 2ms/step - loss: 32344305664.0000 - val_loss: 30724161536.0000\n",
            "Epoch 136/400\n",
            "119/119 [==============================] - 0s 2ms/step - loss: 32288215040.0000 - val_loss: 30726625280.0000\n",
            "Epoch 137/400\n",
            "119/119 [==============================] - 0s 2ms/step - loss: 32271316992.0000 - val_loss: 30639476736.0000\n",
            "Epoch 138/400\n",
            "119/119 [==============================] - 0s 2ms/step - loss: 32231966720.0000 - val_loss: 30655174656.0000\n",
            "Epoch 139/400\n",
            "119/119 [==============================] - 0s 2ms/step - loss: 32184999936.0000 - val_loss: 30641782784.0000\n",
            "Epoch 140/400\n",
            "119/119 [==============================] - 0s 2ms/step - loss: 32203859968.0000 - val_loss: 30577778688.0000\n",
            "Epoch 141/400\n",
            "119/119 [==============================] - 0s 2ms/step - loss: 32166047744.0000 - val_loss: 30541854720.0000\n",
            "Epoch 142/400\n",
            "119/119 [==============================] - 0s 2ms/step - loss: 32193763328.0000 - val_loss: 30482063360.0000\n",
            "Epoch 143/400\n",
            "119/119 [==============================] - 0s 2ms/step - loss: 32120125440.0000 - val_loss: 30509301760.0000\n",
            "Epoch 144/400\n",
            "119/119 [==============================] - 0s 2ms/step - loss: 32084930560.0000 - val_loss: 30465005568.0000\n",
            "Epoch 145/400\n",
            "119/119 [==============================] - 0s 2ms/step - loss: 32055767040.0000 - val_loss: 30511976448.0000\n",
            "Epoch 146/400\n",
            "119/119 [==============================] - 0s 2ms/step - loss: 32108101632.0000 - val_loss: 30400440320.0000\n",
            "Epoch 147/400\n",
            "119/119 [==============================] - 0s 2ms/step - loss: 32007622656.0000 - val_loss: 30351525888.0000\n",
            "Epoch 148/400\n",
            "119/119 [==============================] - 0s 2ms/step - loss: 32041969664.0000 - val_loss: 30348791808.0000\n",
            "Epoch 149/400\n",
            "119/119 [==============================] - 0s 2ms/step - loss: 31956473856.0000 - val_loss: 30313129984.0000\n",
            "Epoch 150/400\n",
            "119/119 [==============================] - 0s 2ms/step - loss: 31980234752.0000 - val_loss: 30248134656.0000\n",
            "Epoch 151/400\n",
            "119/119 [==============================] - 0s 2ms/step - loss: 31938902016.0000 - val_loss: 30261757952.0000\n",
            "Epoch 152/400\n",
            "119/119 [==============================] - 0s 2ms/step - loss: 31944689664.0000 - val_loss: 30259091456.0000\n",
            "Epoch 153/400\n",
            "119/119 [==============================] - 0s 2ms/step - loss: 31883835392.0000 - val_loss: 30204606464.0000\n",
            "Epoch 154/400\n",
            "119/119 [==============================] - 0s 2ms/step - loss: 31899301888.0000 - val_loss: 30351816704.0000\n",
            "Epoch 155/400\n",
            "119/119 [==============================] - 0s 2ms/step - loss: 31904296960.0000 - val_loss: 30248132608.0000\n",
            "Epoch 156/400\n",
            "119/119 [==============================] - 0s 2ms/step - loss: 31846195200.0000 - val_loss: 30142070784.0000\n",
            "Epoch 157/400\n",
            "119/119 [==============================] - 0s 2ms/step - loss: 31818586112.0000 - val_loss: 30075475968.0000\n",
            "Epoch 158/400\n",
            "119/119 [==============================] - 0s 2ms/step - loss: 31782705152.0000 - val_loss: 30054981632.0000\n",
            "Epoch 159/400\n",
            "119/119 [==============================] - 0s 2ms/step - loss: 31751575552.0000 - val_loss: 30131312640.0000\n",
            "Epoch 160/400\n",
            "119/119 [==============================] - 0s 2ms/step - loss: 31747837952.0000 - val_loss: 30001348608.0000\n",
            "Epoch 161/400\n",
            "119/119 [==============================] - 0s 2ms/step - loss: 31719616512.0000 - val_loss: 30053984256.0000\n",
            "Epoch 162/400\n",
            "119/119 [==============================] - 0s 2ms/step - loss: 31754326016.0000 - val_loss: 30021984256.0000\n",
            "Epoch 163/400\n",
            "119/119 [==============================] - 0s 2ms/step - loss: 31724283904.0000 - val_loss: 29941434368.0000\n",
            "Epoch 164/400\n",
            "119/119 [==============================] - 0s 2ms/step - loss: 31655184384.0000 - val_loss: 29989844992.0000\n",
            "Epoch 165/400\n",
            "119/119 [==============================] - 0s 2ms/step - loss: 31670327296.0000 - val_loss: 29953353728.0000\n",
            "Epoch 166/400\n",
            "119/119 [==============================] - 0s 2ms/step - loss: 31620540416.0000 - val_loss: 29871980544.0000\n",
            "Epoch 167/400\n",
            "119/119 [==============================] - 0s 2ms/step - loss: 31623018496.0000 - val_loss: 29873223680.0000\n",
            "Epoch 168/400\n",
            "119/119 [==============================] - 0s 2ms/step - loss: 31578163200.0000 - val_loss: 29879375872.0000\n",
            "Epoch 169/400\n",
            "119/119 [==============================] - 0s 2ms/step - loss: 31588548608.0000 - val_loss: 29851361280.0000\n",
            "Epoch 170/400\n",
            "119/119 [==============================] - 0s 2ms/step - loss: 31551602688.0000 - val_loss: 29799546880.0000\n",
            "Epoch 171/400\n",
            "119/119 [==============================] - 0s 2ms/step - loss: 31568224256.0000 - val_loss: 29753556992.0000\n",
            "Epoch 172/400\n",
            "119/119 [==============================] - 0s 2ms/step - loss: 31520479232.0000 - val_loss: 29740486656.0000\n",
            "Epoch 173/400\n",
            "119/119 [==============================] - 0s 2ms/step - loss: 31494432768.0000 - val_loss: 29717946368.0000\n",
            "Epoch 174/400\n",
            "119/119 [==============================] - 0s 2ms/step - loss: 31507499008.0000 - val_loss: 29701054464.0000\n",
            "Epoch 175/400\n",
            "119/119 [==============================] - 0s 2ms/step - loss: 31473133568.0000 - val_loss: 29661493248.0000\n",
            "Epoch 176/400\n",
            "119/119 [==============================] - 0s 2ms/step - loss: 31460096000.0000 - val_loss: 29664237568.0000\n",
            "Epoch 177/400\n",
            "119/119 [==============================] - 0s 2ms/step - loss: 31421251584.0000 - val_loss: 29779021824.0000\n",
            "Epoch 178/400\n",
            "119/119 [==============================] - 0s 2ms/step - loss: 31533404160.0000 - val_loss: 29675358208.0000\n",
            "Epoch 179/400\n",
            "119/119 [==============================] - 0s 2ms/step - loss: 31411148800.0000 - val_loss: 29584306176.0000\n",
            "Epoch 180/400\n",
            "119/119 [==============================] - 0s 2ms/step - loss: 31419146240.0000 - val_loss: 29543413760.0000\n",
            "Epoch 181/400\n",
            "119/119 [==============================] - 0s 2ms/step - loss: 31384367104.0000 - val_loss: 29546393600.0000\n",
            "Epoch 182/400\n",
            "119/119 [==============================] - 0s 2ms/step - loss: 31382638592.0000 - val_loss: 29487896576.0000\n",
            "Epoch 183/400\n",
            "119/119 [==============================] - 0s 2ms/step - loss: 31359457280.0000 - val_loss: 29485783040.0000\n",
            "Epoch 184/400\n",
            "119/119 [==============================] - 0s 2ms/step - loss: 31347349504.0000 - val_loss: 29493514240.0000\n",
            "Epoch 185/400\n",
            "119/119 [==============================] - 0s 2ms/step - loss: 31313639424.0000 - val_loss: 29451687936.0000\n",
            "Epoch 186/400\n",
            "119/119 [==============================] - 0s 2ms/step - loss: 31333943296.0000 - val_loss: 29439434752.0000\n",
            "Epoch 187/400\n",
            "119/119 [==============================] - 0s 2ms/step - loss: 31282425856.0000 - val_loss: 29455405056.0000\n",
            "Epoch 188/400\n",
            "119/119 [==============================] - 0s 2ms/step - loss: 31275735040.0000 - val_loss: 29414711296.0000\n",
            "Epoch 189/400\n",
            "119/119 [==============================] - 0s 2ms/step - loss: 31275175936.0000 - val_loss: 29574651904.0000\n",
            "Epoch 190/400\n",
            "119/119 [==============================] - 0s 2ms/step - loss: 31247378432.0000 - val_loss: 29369483264.0000\n",
            "Epoch 191/400\n",
            "119/119 [==============================] - 0s 2ms/step - loss: 31221102592.0000 - val_loss: 29339291648.0000\n",
            "Epoch 192/400\n",
            "119/119 [==============================] - 0s 2ms/step - loss: 31202021376.0000 - val_loss: 29326589952.0000\n",
            "Epoch 193/400\n",
            "119/119 [==============================] - 0s 2ms/step - loss: 31204065280.0000 - val_loss: 29328629760.0000\n",
            "Epoch 194/400\n",
            "119/119 [==============================] - 0s 2ms/step - loss: 31213365248.0000 - val_loss: 29304025088.0000\n",
            "Epoch 195/400\n",
            "119/119 [==============================] - 0s 2ms/step - loss: 31235260416.0000 - val_loss: 29342529536.0000\n",
            "Epoch 196/400\n",
            "119/119 [==============================] - 0s 2ms/step - loss: 31208210432.0000 - val_loss: 29387730944.0000\n",
            "Epoch 197/400\n",
            "119/119 [==============================] - 0s 2ms/step - loss: 31183364096.0000 - val_loss: 29250729984.0000\n",
            "Epoch 198/400\n",
            "119/119 [==============================] - 0s 2ms/step - loss: 31135539200.0000 - val_loss: 29245038592.0000\n",
            "Epoch 199/400\n",
            "119/119 [==============================] - 0s 2ms/step - loss: 31122880512.0000 - val_loss: 29230274560.0000\n",
            "Epoch 200/400\n",
            "119/119 [==============================] - 0s 2ms/step - loss: 31117729792.0000 - val_loss: 29248251904.0000\n",
            "Epoch 201/400\n",
            "119/119 [==============================] - 0s 2ms/step - loss: 31105515520.0000 - val_loss: 29198522368.0000\n",
            "Epoch 202/400\n",
            "119/119 [==============================] - 0s 2ms/step - loss: 31104854016.0000 - val_loss: 29156005888.0000\n",
            "Epoch 203/400\n",
            "119/119 [==============================] - 0s 2ms/step - loss: 31075743744.0000 - val_loss: 29147756544.0000\n",
            "Epoch 204/400\n",
            "119/119 [==============================] - 0s 2ms/step - loss: 31066617856.0000 - val_loss: 29291509760.0000\n",
            "Epoch 205/400\n",
            "119/119 [==============================] - 0s 2ms/step - loss: 30999158784.0000 - val_loss: 29158899712.0000\n",
            "Epoch 206/400\n",
            "119/119 [==============================] - 0s 2ms/step - loss: 31093516288.0000 - val_loss: 29085294592.0000\n",
            "Epoch 207/400\n",
            "119/119 [==============================] - 0s 2ms/step - loss: 31011442688.0000 - val_loss: 29081993216.0000\n",
            "Epoch 208/400\n",
            "119/119 [==============================] - 0s 2ms/step - loss: 30995365888.0000 - val_loss: 29061851136.0000\n",
            "Epoch 209/400\n",
            "119/119 [==============================] - 0s 2ms/step - loss: 30990557184.0000 - val_loss: 29028954112.0000\n",
            "Epoch 210/400\n",
            "119/119 [==============================] - 0s 2ms/step - loss: 30995240960.0000 - val_loss: 29045053440.0000\n",
            "Epoch 211/400\n",
            "119/119 [==============================] - 0s 2ms/step - loss: 30979143680.0000 - val_loss: 28985698304.0000\n",
            "Epoch 212/400\n",
            "119/119 [==============================] - 0s 2ms/step - loss: 30932191232.0000 - val_loss: 28985995264.0000\n",
            "Epoch 213/400\n",
            "119/119 [==============================] - 0s 2ms/step - loss: 30967754752.0000 - val_loss: 28958015488.0000\n",
            "Epoch 214/400\n",
            "119/119 [==============================] - 0s 2ms/step - loss: 30923479040.0000 - val_loss: 29010282496.0000\n",
            "Epoch 215/400\n",
            "119/119 [==============================] - 0s 2ms/step - loss: 30943916032.0000 - val_loss: 29039357952.0000\n",
            "Epoch 216/400\n",
            "119/119 [==============================] - 0s 2ms/step - loss: 30965667840.0000 - val_loss: 28993720320.0000\n",
            "Epoch 217/400\n",
            "119/119 [==============================] - 0s 2ms/step - loss: 30904457216.0000 - val_loss: 28914685952.0000\n",
            "Epoch 218/400\n",
            "119/119 [==============================] - 0s 2ms/step - loss: 30880106496.0000 - val_loss: 29053620224.0000\n",
            "Epoch 219/400\n",
            "119/119 [==============================] - 0s 2ms/step - loss: 30875365376.0000 - val_loss: 28889944064.0000\n",
            "Epoch 220/400\n",
            "119/119 [==============================] - 0s 2ms/step - loss: 30848942080.0000 - val_loss: 28927881216.0000\n",
            "Epoch 221/400\n",
            "119/119 [==============================] - 0s 2ms/step - loss: 30849476608.0000 - val_loss: 28889323520.0000\n",
            "Epoch 222/400\n",
            "119/119 [==============================] - 0s 2ms/step - loss: 30788935680.0000 - val_loss: 28848580608.0000\n",
            "Epoch 223/400\n",
            "119/119 [==============================] - 0s 2ms/step - loss: 30880864256.0000 - val_loss: 28863485952.0000\n",
            "Epoch 224/400\n",
            "119/119 [==============================] - 0s 2ms/step - loss: 30805751808.0000 - val_loss: 28815697920.0000\n",
            "Epoch 225/400\n",
            "119/119 [==============================] - 0s 2ms/step - loss: 30800160768.0000 - val_loss: 28812681216.0000\n",
            "Epoch 226/400\n",
            "119/119 [==============================] - 0s 2ms/step - loss: 30787846144.0000 - val_loss: 28880076800.0000\n",
            "Epoch 227/400\n",
            "119/119 [==============================] - 0s 2ms/step - loss: 30886440960.0000 - val_loss: 29037049856.0000\n",
            "Epoch 228/400\n",
            "119/119 [==============================] - 0s 2ms/step - loss: 30888673280.0000 - val_loss: 28780021760.0000\n",
            "Epoch 229/400\n",
            "119/119 [==============================] - 0s 2ms/step - loss: 30760804352.0000 - val_loss: 28727418880.0000\n",
            "Epoch 230/400\n",
            "119/119 [==============================] - 0s 2ms/step - loss: 30758352896.0000 - val_loss: 28741642240.0000\n",
            "Epoch 231/400\n",
            "119/119 [==============================] - 0s 2ms/step - loss: 30736472064.0000 - val_loss: 28694636544.0000\n",
            "Epoch 232/400\n",
            "119/119 [==============================] - 0s 2ms/step - loss: 30744565760.0000 - val_loss: 28687503360.0000\n",
            "Epoch 233/400\n",
            "119/119 [==============================] - 0s 2ms/step - loss: 30721984512.0000 - val_loss: 28677662720.0000\n",
            "Epoch 234/400\n",
            "119/119 [==============================] - 0s 2ms/step - loss: 30852976640.0000 - val_loss: 28666159104.0000\n",
            "Epoch 235/400\n",
            "119/119 [==============================] - 0s 2ms/step - loss: 30726924288.0000 - val_loss: 28746061824.0000\n",
            "Epoch 236/400\n",
            "119/119 [==============================] - 0s 2ms/step - loss: 30679562240.0000 - val_loss: 28734982144.0000\n",
            "Epoch 237/400\n",
            "119/119 [==============================] - 0s 2ms/step - loss: 30697394176.0000 - val_loss: 28655513600.0000\n",
            "Epoch 238/400\n",
            "119/119 [==============================] - 0s 2ms/step - loss: 30649446400.0000 - val_loss: 28642959360.0000\n",
            "Epoch 239/400\n",
            "119/119 [==============================] - 0s 2ms/step - loss: 30643851264.0000 - val_loss: 28836083712.0000\n",
            "Epoch 240/400\n",
            "119/119 [==============================] - 0s 2ms/step - loss: 30654353408.0000 - val_loss: 28629043200.0000\n",
            "Epoch 241/400\n",
            "119/119 [==============================] - 0s 2ms/step - loss: 30667225088.0000 - val_loss: 28598519808.0000\n",
            "Epoch 242/400\n",
            "119/119 [==============================] - 0s 2ms/step - loss: 30632167424.0000 - val_loss: 28590188544.0000\n",
            "Epoch 243/400\n",
            "119/119 [==============================] - 0s 2ms/step - loss: 30639454208.0000 - val_loss: 28638670848.0000\n",
            "Epoch 244/400\n",
            "119/119 [==============================] - 0s 2ms/step - loss: 30597687296.0000 - val_loss: 28609986560.0000\n",
            "Epoch 245/400\n",
            "119/119 [==============================] - 0s 2ms/step - loss: 30577240064.0000 - val_loss: 28540596224.0000\n",
            "Epoch 246/400\n",
            "119/119 [==============================] - 0s 2ms/step - loss: 30596679680.0000 - val_loss: 28634343424.0000\n",
            "Epoch 247/400\n",
            "119/119 [==============================] - 0s 2ms/step - loss: 30609993728.0000 - val_loss: 28550281216.0000\n",
            "Epoch 248/400\n",
            "119/119 [==============================] - 0s 2ms/step - loss: 30604087296.0000 - val_loss: 28532813824.0000\n",
            "Epoch 249/400\n",
            "119/119 [==============================] - 0s 2ms/step - loss: 30560851968.0000 - val_loss: 28542464000.0000\n",
            "Epoch 250/400\n",
            "119/119 [==============================] - 0s 2ms/step - loss: 30528768000.0000 - val_loss: 28484732928.0000\n",
            "Epoch 251/400\n",
            "119/119 [==============================] - 0s 2ms/step - loss: 30552373248.0000 - val_loss: 28763813888.0000\n",
            "Epoch 252/400\n",
            "119/119 [==============================] - 0s 2ms/step - loss: 30574798848.0000 - val_loss: 28473315328.0000\n",
            "Epoch 253/400\n",
            "119/119 [==============================] - 0s 2ms/step - loss: 30522386432.0000 - val_loss: 28476618752.0000\n",
            "Epoch 254/400\n",
            "119/119 [==============================] - 0s 2ms/step - loss: 30516416512.0000 - val_loss: 28462950400.0000\n",
            "Epoch 255/400\n",
            "119/119 [==============================] - 0s 2ms/step - loss: 30508668928.0000 - val_loss: 28538689536.0000\n",
            "Epoch 256/400\n",
            "119/119 [==============================] - 0s 2ms/step - loss: 30574141440.0000 - val_loss: 28406032384.0000\n",
            "Epoch 257/400\n",
            "119/119 [==============================] - 0s 2ms/step - loss: 30488934400.0000 - val_loss: 28490260480.0000\n",
            "Epoch 258/400\n",
            "119/119 [==============================] - 0s 2ms/step - loss: 30465835008.0000 - val_loss: 28366368768.0000\n",
            "Epoch 259/400\n",
            "119/119 [==============================] - 0s 2ms/step - loss: 30457976832.0000 - val_loss: 28430385152.0000\n",
            "Epoch 260/400\n",
            "119/119 [==============================] - 0s 2ms/step - loss: 30451924992.0000 - val_loss: 28371851264.0000\n",
            "Epoch 261/400\n",
            "119/119 [==============================] - 0s 2ms/step - loss: 30476490752.0000 - val_loss: 28343365632.0000\n",
            "Epoch 262/400\n",
            "119/119 [==============================] - 0s 2ms/step - loss: 30418239488.0000 - val_loss: 28356425728.0000\n",
            "Epoch 263/400\n",
            "119/119 [==============================] - 0s 2ms/step - loss: 30477166592.0000 - val_loss: 28361488384.0000\n",
            "Epoch 264/400\n",
            "119/119 [==============================] - 0s 2ms/step - loss: 30430857216.0000 - val_loss: 28435343360.0000\n",
            "Epoch 265/400\n",
            "119/119 [==============================] - 0s 2ms/step - loss: 30397702144.0000 - val_loss: 28344686592.0000\n",
            "Epoch 266/400\n",
            "119/119 [==============================] - 0s 2ms/step - loss: 30364426240.0000 - val_loss: 28400076800.0000\n",
            "Epoch 267/400\n",
            "119/119 [==============================] - 0s 2ms/step - loss: 30400663552.0000 - val_loss: 28305940480.0000\n",
            "Epoch 268/400\n",
            "119/119 [==============================] - 0s 2ms/step - loss: 30428928000.0000 - val_loss: 28335896576.0000\n",
            "Epoch 269/400\n",
            "119/119 [==============================] - 0s 2ms/step - loss: 30353131520.0000 - val_loss: 28264044544.0000\n",
            "Epoch 270/400\n",
            "119/119 [==============================] - 0s 2ms/step - loss: 30346934272.0000 - val_loss: 28243249152.0000\n",
            "Epoch 271/400\n",
            "119/119 [==============================] - 0s 2ms/step - loss: 30322710528.0000 - val_loss: 28319989760.0000\n",
            "Epoch 272/400\n",
            "119/119 [==============================] - 0s 2ms/step - loss: 30323703808.0000 - val_loss: 28355147776.0000\n",
            "Epoch 273/400\n",
            "119/119 [==============================] - 0s 2ms/step - loss: 30350909440.0000 - val_loss: 28234725376.0000\n",
            "Epoch 274/400\n",
            "119/119 [==============================] - 0s 2ms/step - loss: 30330923008.0000 - val_loss: 28208476160.0000\n",
            "Epoch 275/400\n",
            "119/119 [==============================] - 0s 2ms/step - loss: 30327320576.0000 - val_loss: 28204042240.0000\n",
            "Epoch 276/400\n",
            "119/119 [==============================] - 0s 2ms/step - loss: 30280445952.0000 - val_loss: 28226705408.0000\n",
            "Epoch 277/400\n",
            "119/119 [==============================] - 0s 2ms/step - loss: 30305259520.0000 - val_loss: 28187584512.0000\n",
            "Epoch 278/400\n",
            "119/119 [==============================] - 0s 2ms/step - loss: 30309580800.0000 - val_loss: 28153962496.0000\n",
            "Epoch 279/400\n",
            "119/119 [==============================] - 0s 2ms/step - loss: 30288529408.0000 - val_loss: 28123111424.0000\n",
            "Epoch 280/400\n",
            "119/119 [==============================] - 0s 2ms/step - loss: 30252111872.0000 - val_loss: 28113453056.0000\n",
            "Epoch 281/400\n",
            "119/119 [==============================] - 0s 2ms/step - loss: 30248691712.0000 - val_loss: 28117182464.0000\n",
            "Epoch 282/400\n",
            "119/119 [==============================] - 0s 2ms/step - loss: 30236751872.0000 - val_loss: 28151787520.0000\n",
            "Epoch 283/400\n",
            "119/119 [==============================] - 0s 2ms/step - loss: 30250682368.0000 - val_loss: 28138274816.0000\n",
            "Epoch 284/400\n",
            "119/119 [==============================] - 0s 2ms/step - loss: 30228758528.0000 - val_loss: 28078286848.0000\n",
            "Epoch 285/400\n",
            "119/119 [==============================] - 0s 2ms/step - loss: 30256855040.0000 - val_loss: 28068569088.0000\n",
            "Epoch 286/400\n",
            "119/119 [==============================] - 0s 2ms/step - loss: 30253776896.0000 - val_loss: 28073404416.0000\n",
            "Epoch 287/400\n",
            "119/119 [==============================] - 0s 2ms/step - loss: 30199236608.0000 - val_loss: 28051232768.0000\n",
            "Epoch 288/400\n",
            "119/119 [==============================] - 0s 2ms/step - loss: 30198908928.0000 - val_loss: 28050251776.0000\n",
            "Epoch 289/400\n",
            "119/119 [==============================] - 0s 2ms/step - loss: 30185316352.0000 - val_loss: 28062179328.0000\n",
            "Epoch 290/400\n",
            "119/119 [==============================] - 0s 2ms/step - loss: 30180538368.0000 - val_loss: 28043364352.0000\n",
            "Epoch 291/400\n",
            "119/119 [==============================] - 0s 2ms/step - loss: 30155550720.0000 - val_loss: 28073486336.0000\n",
            "Epoch 292/400\n",
            "119/119 [==============================] - 0s 2ms/step - loss: 30143922176.0000 - val_loss: 28117587968.0000\n",
            "Epoch 293/400\n",
            "119/119 [==============================] - 0s 2ms/step - loss: 30137579520.0000 - val_loss: 28023083008.0000\n",
            "Epoch 294/400\n",
            "119/119 [==============================] - 0s 2ms/step - loss: 30144960512.0000 - val_loss: 27982424064.0000\n",
            "Epoch 295/400\n",
            "119/119 [==============================] - 0s 2ms/step - loss: 30171346944.0000 - val_loss: 27956975616.0000\n",
            "Epoch 296/400\n",
            "119/119 [==============================] - 0s 2ms/step - loss: 30109698048.0000 - val_loss: 27984242688.0000\n",
            "Epoch 297/400\n",
            "119/119 [==============================] - 0s 2ms/step - loss: 30102589440.0000 - val_loss: 27958683648.0000\n",
            "Epoch 298/400\n",
            "119/119 [==============================] - 0s 2ms/step - loss: 30064416768.0000 - val_loss: 27942737920.0000\n",
            "Epoch 299/400\n",
            "119/119 [==============================] - 0s 2ms/step - loss: 30093012992.0000 - val_loss: 27968253952.0000\n",
            "Epoch 300/400\n",
            "119/119 [==============================] - 0s 2ms/step - loss: 30090428416.0000 - val_loss: 27971645440.0000\n",
            "Epoch 301/400\n",
            "119/119 [==============================] - 0s 2ms/step - loss: 30066788352.0000 - val_loss: 27894484992.0000\n",
            "Epoch 302/400\n",
            "119/119 [==============================] - 0s 2ms/step - loss: 30069633024.0000 - val_loss: 27873368064.0000\n",
            "Epoch 303/400\n",
            "119/119 [==============================] - 0s 2ms/step - loss: 30062211072.0000 - val_loss: 27872884736.0000\n",
            "Epoch 304/400\n",
            "119/119 [==============================] - 0s 2ms/step - loss: 30032640000.0000 - val_loss: 28003928064.0000\n",
            "Epoch 305/400\n",
            "119/119 [==============================] - 0s 2ms/step - loss: 30084085760.0000 - val_loss: 27867428864.0000\n",
            "Epoch 306/400\n",
            "119/119 [==============================] - 0s 2ms/step - loss: 30031757312.0000 - val_loss: 27833108480.0000\n",
            "Epoch 307/400\n",
            "119/119 [==============================] - 0s 2ms/step - loss: 30010904576.0000 - val_loss: 27817009152.0000\n",
            "Epoch 308/400\n",
            "119/119 [==============================] - 0s 2ms/step - loss: 30025125888.0000 - val_loss: 27888330752.0000\n",
            "Epoch 309/400\n",
            "119/119 [==============================] - 0s 2ms/step - loss: 29968893952.0000 - val_loss: 27833616384.0000\n",
            "Epoch 310/400\n",
            "119/119 [==============================] - 0s 2ms/step - loss: 30023944192.0000 - val_loss: 27779080192.0000\n",
            "Epoch 311/400\n",
            "119/119 [==============================] - 0s 2ms/step - loss: 29982722048.0000 - val_loss: 27802404864.0000\n",
            "Epoch 312/400\n",
            "119/119 [==============================] - 0s 2ms/step - loss: 29993375744.0000 - val_loss: 27774320640.0000\n",
            "Epoch 313/400\n",
            "119/119 [==============================] - 0s 2ms/step - loss: 29975623680.0000 - val_loss: 27769583616.0000\n",
            "Epoch 314/400\n",
            "119/119 [==============================] - 0s 2ms/step - loss: 29984577536.0000 - val_loss: 27748839424.0000\n",
            "Epoch 315/400\n",
            "119/119 [==============================] - 0s 2ms/step - loss: 29952026624.0000 - val_loss: 27738361856.0000\n",
            "Epoch 316/400\n",
            "119/119 [==============================] - 0s 2ms/step - loss: 29945378816.0000 - val_loss: 27747205120.0000\n",
            "Epoch 317/400\n",
            "119/119 [==============================] - 0s 2ms/step - loss: 29955158016.0000 - val_loss: 27725983744.0000\n",
            "Epoch 318/400\n",
            "119/119 [==============================] - 0s 2ms/step - loss: 29972037632.0000 - val_loss: 27734466560.0000\n",
            "Epoch 319/400\n",
            "119/119 [==============================] - 0s 2ms/step - loss: 29931993088.0000 - val_loss: 27775358976.0000\n",
            "Epoch 320/400\n",
            "119/119 [==============================] - 0s 2ms/step - loss: 29957615616.0000 - val_loss: 27689234432.0000\n",
            "Epoch 321/400\n",
            "119/119 [==============================] - 0s 2ms/step - loss: 29906518016.0000 - val_loss: 27696998400.0000\n",
            "Epoch 322/400\n",
            "119/119 [==============================] - 0s 2ms/step - loss: 29930838016.0000 - val_loss: 27675936768.0000\n",
            "Epoch 323/400\n",
            "119/119 [==============================] - 0s 2ms/step - loss: 29927124992.0000 - val_loss: 27690383360.0000\n",
            "Epoch 324/400\n",
            "119/119 [==============================] - 0s 2ms/step - loss: 29979480064.0000 - val_loss: 27690127360.0000\n",
            "Epoch 325/400\n",
            "119/119 [==============================] - 0s 2ms/step - loss: 29925154816.0000 - val_loss: 27658455040.0000\n",
            "Epoch 326/400\n",
            "119/119 [==============================] - 0s 2ms/step - loss: 29898592256.0000 - val_loss: 27748958208.0000\n",
            "Epoch 327/400\n",
            "119/119 [==============================] - 0s 2ms/step - loss: 29887399936.0000 - val_loss: 27628595200.0000\n",
            "Epoch 328/400\n",
            "119/119 [==============================] - 0s 2ms/step - loss: 29887934464.0000 - val_loss: 27610710016.0000\n",
            "Epoch 329/400\n",
            "119/119 [==============================] - 0s 2ms/step - loss: 29830567936.0000 - val_loss: 27604768768.0000\n",
            "Epoch 330/400\n",
            "119/119 [==============================] - 0s 2ms/step - loss: 29836791808.0000 - val_loss: 27637698560.0000\n",
            "Epoch 331/400\n",
            "119/119 [==============================] - 0s 2ms/step - loss: 29821835264.0000 - val_loss: 27795378176.0000\n",
            "Epoch 332/400\n",
            "119/119 [==============================] - 0s 2ms/step - loss: 29824239616.0000 - val_loss: 27569983488.0000\n",
            "Epoch 333/400\n",
            "119/119 [==============================] - 0s 3ms/step - loss: 29831456768.0000 - val_loss: 27549227008.0000\n",
            "Epoch 334/400\n",
            "119/119 [==============================] - 0s 2ms/step - loss: 29843757056.0000 - val_loss: 27521759232.0000\n",
            "Epoch 335/400\n",
            "119/119 [==============================] - 0s 3ms/step - loss: 29787938816.0000 - val_loss: 27522426880.0000\n",
            "Epoch 336/400\n",
            "119/119 [==============================] - 0s 3ms/step - loss: 29794435072.0000 - val_loss: 27877275648.0000\n",
            "Epoch 337/400\n",
            "119/119 [==============================] - 0s 2ms/step - loss: 29805213696.0000 - val_loss: 27489783808.0000\n",
            "Epoch 338/400\n",
            "119/119 [==============================] - 0s 2ms/step - loss: 29812860928.0000 - val_loss: 27518777344.0000\n",
            "Epoch 339/400\n",
            "119/119 [==============================] - 0s 3ms/step - loss: 29746610176.0000 - val_loss: 27508815872.0000\n",
            "Epoch 340/400\n",
            "119/119 [==============================] - 0s 3ms/step - loss: 29763131392.0000 - val_loss: 27457579008.0000\n",
            "Epoch 341/400\n",
            "119/119 [==============================] - 0s 3ms/step - loss: 29760714752.0000 - val_loss: 27493636096.0000\n",
            "Epoch 342/400\n",
            "119/119 [==============================] - 0s 2ms/step - loss: 29731323904.0000 - val_loss: 27429894144.0000\n",
            "Epoch 343/400\n",
            "119/119 [==============================] - 0s 3ms/step - loss: 29720623104.0000 - val_loss: 27504580608.0000\n",
            "Epoch 344/400\n",
            "119/119 [==============================] - 0s 3ms/step - loss: 29731811328.0000 - val_loss: 27461253120.0000\n",
            "Epoch 345/400\n",
            "119/119 [==============================] - 0s 2ms/step - loss: 29675991040.0000 - val_loss: 27599978496.0000\n",
            "Epoch 346/400\n",
            "119/119 [==============================] - 0s 3ms/step - loss: 29691588608.0000 - val_loss: 27438835712.0000\n",
            "Epoch 347/400\n",
            "119/119 [==============================] - 0s 3ms/step - loss: 29682685952.0000 - val_loss: 27417667584.0000\n",
            "Epoch 348/400\n",
            "119/119 [==============================] - 0s 3ms/step - loss: 29662836736.0000 - val_loss: 27365648384.0000\n",
            "Epoch 349/400\n",
            "119/119 [==============================] - 0s 3ms/step - loss: 29677324288.0000 - val_loss: 27395489792.0000\n",
            "Epoch 350/400\n",
            "119/119 [==============================] - 0s 3ms/step - loss: 29665241088.0000 - val_loss: 27364411392.0000\n",
            "Epoch 351/400\n",
            "119/119 [==============================] - 0s 3ms/step - loss: 29645221888.0000 - val_loss: 27341047808.0000\n",
            "Epoch 352/400\n",
            "119/119 [==============================] - 0s 2ms/step - loss: 29691033600.0000 - val_loss: 27302531072.0000\n",
            "Epoch 353/400\n",
            "119/119 [==============================] - 0s 2ms/step - loss: 29620877312.0000 - val_loss: 27309877248.0000\n",
            "Epoch 354/400\n",
            "119/119 [==============================] - 0s 3ms/step - loss: 29611841536.0000 - val_loss: 27304794112.0000\n",
            "Epoch 355/400\n",
            "119/119 [==============================] - 0s 2ms/step - loss: 29602236416.0000 - val_loss: 27457783808.0000\n",
            "Epoch 356/400\n",
            "119/119 [==============================] - 0s 3ms/step - loss: 29705433088.0000 - val_loss: 27311638528.0000\n",
            "Epoch 357/400\n",
            "119/119 [==============================] - 0s 3ms/step - loss: 29584580608.0000 - val_loss: 27286616064.0000\n",
            "Epoch 358/400\n",
            "119/119 [==============================] - 0s 3ms/step - loss: 29605214208.0000 - val_loss: 27279015936.0000\n",
            "Epoch 359/400\n",
            "119/119 [==============================] - 0s 2ms/step - loss: 29596921856.0000 - val_loss: 27347781632.0000\n",
            "Epoch 360/400\n",
            "119/119 [==============================] - 0s 2ms/step - loss: 29615357952.0000 - val_loss: 27276273664.0000\n",
            "Epoch 361/400\n",
            "119/119 [==============================] - 0s 2ms/step - loss: 29551226880.0000 - val_loss: 27230097408.0000\n",
            "Epoch 362/400\n",
            "119/119 [==============================] - 0s 2ms/step - loss: 29570371584.0000 - val_loss: 27322163200.0000\n",
            "Epoch 363/400\n",
            "119/119 [==============================] - 0s 2ms/step - loss: 29608878080.0000 - val_loss: 27223261184.0000\n",
            "Epoch 364/400\n",
            "119/119 [==============================] - 0s 2ms/step - loss: 29508009984.0000 - val_loss: 27233212416.0000\n",
            "Epoch 365/400\n",
            "119/119 [==============================] - 0s 2ms/step - loss: 29581561856.0000 - val_loss: 27181807616.0000\n",
            "Epoch 366/400\n",
            "119/119 [==============================] - 0s 2ms/step - loss: 29507989504.0000 - val_loss: 27337824256.0000\n",
            "Epoch 367/400\n",
            "119/119 [==============================] - 0s 2ms/step - loss: 29510987776.0000 - val_loss: 27146262528.0000\n",
            "Epoch 368/400\n",
            "119/119 [==============================] - 0s 2ms/step - loss: 29507721216.0000 - val_loss: 27213527040.0000\n",
            "Epoch 369/400\n",
            "119/119 [==============================] - 0s 2ms/step - loss: 29466531840.0000 - val_loss: 27164213248.0000\n",
            "Epoch 370/400\n",
            "119/119 [==============================] - 0s 2ms/step - loss: 29474050048.0000 - val_loss: 27141122048.0000\n",
            "Epoch 371/400\n",
            "119/119 [==============================] - 0s 2ms/step - loss: 29473232896.0000 - val_loss: 27122137088.0000\n",
            "Epoch 372/400\n",
            "119/119 [==============================] - 0s 2ms/step - loss: 29437734912.0000 - val_loss: 27211675648.0000\n",
            "Epoch 373/400\n",
            "119/119 [==============================] - 0s 2ms/step - loss: 29455206400.0000 - val_loss: 27093477376.0000\n",
            "Epoch 374/400\n",
            "119/119 [==============================] - 0s 2ms/step - loss: 29408057344.0000 - val_loss: 27057360896.0000\n",
            "Epoch 375/400\n",
            "119/119 [==============================] - 0s 2ms/step - loss: 29409540096.0000 - val_loss: 27076055040.0000\n",
            "Epoch 376/400\n",
            "119/119 [==============================] - 0s 2ms/step - loss: 29419311104.0000 - val_loss: 27252703232.0000\n",
            "Epoch 377/400\n",
            "119/119 [==============================] - 0s 2ms/step - loss: 29444628480.0000 - val_loss: 27056222208.0000\n",
            "Epoch 378/400\n",
            "119/119 [==============================] - 0s 2ms/step - loss: 29378283520.0000 - val_loss: 27055851520.0000\n",
            "Epoch 379/400\n",
            "119/119 [==============================] - 0s 2ms/step - loss: 29377273856.0000 - val_loss: 27039916032.0000\n",
            "Epoch 380/400\n",
            "119/119 [==============================] - 0s 2ms/step - loss: 29354588160.0000 - val_loss: 27060332544.0000\n",
            "Epoch 381/400\n",
            "119/119 [==============================] - 0s 2ms/step - loss: 29350463488.0000 - val_loss: 27000076288.0000\n",
            "Epoch 382/400\n",
            "119/119 [==============================] - 0s 2ms/step - loss: 29376010240.0000 - val_loss: 26968072192.0000\n",
            "Epoch 383/400\n",
            "119/119 [==============================] - 0s 2ms/step - loss: 29301762048.0000 - val_loss: 26998059008.0000\n",
            "Epoch 384/400\n",
            "119/119 [==============================] - 0s 2ms/step - loss: 29344126976.0000 - val_loss: 26959652864.0000\n",
            "Epoch 385/400\n",
            "119/119 [==============================] - 0s 2ms/step - loss: 29352759296.0000 - val_loss: 26968809472.0000\n",
            "Epoch 386/400\n",
            "119/119 [==============================] - 0s 2ms/step - loss: 29337651200.0000 - val_loss: 27090790400.0000\n",
            "Epoch 387/400\n",
            "119/119 [==============================] - 0s 2ms/step - loss: 29318610944.0000 - val_loss: 26882291712.0000\n",
            "Epoch 388/400\n",
            "119/119 [==============================] - 0s 2ms/step - loss: 29302784000.0000 - val_loss: 26916925440.0000\n",
            "Epoch 389/400\n",
            "119/119 [==============================] - 0s 2ms/step - loss: 29269176320.0000 - val_loss: 26904401920.0000\n",
            "Epoch 390/400\n",
            "119/119 [==============================] - 0s 2ms/step - loss: 29271214080.0000 - val_loss: 26941857792.0000\n",
            "Epoch 391/400\n",
            "119/119 [==============================] - 0s 2ms/step - loss: 29245261824.0000 - val_loss: 26956644352.0000\n",
            "Epoch 392/400\n",
            "119/119 [==============================] - 0s 2ms/step - loss: 29328187392.0000 - val_loss: 26846859264.0000\n",
            "Epoch 393/400\n",
            "119/119 [==============================] - 0s 2ms/step - loss: 29248731136.0000 - val_loss: 26822641664.0000\n",
            "Epoch 394/400\n",
            "119/119 [==============================] - 0s 2ms/step - loss: 29227896832.0000 - val_loss: 26816241664.0000\n",
            "Epoch 395/400\n",
            "119/119 [==============================] - 0s 2ms/step - loss: 29237696512.0000 - val_loss: 26874894336.0000\n",
            "Epoch 396/400\n",
            "119/119 [==============================] - 0s 2ms/step - loss: 29192804352.0000 - val_loss: 26819606528.0000\n",
            "Epoch 397/400\n",
            "119/119 [==============================] - 0s 2ms/step - loss: 29224734720.0000 - val_loss: 26795186176.0000\n",
            "Epoch 398/400\n",
            "119/119 [==============================] - 0s 2ms/step - loss: 29198342144.0000 - val_loss: 26895691776.0000\n",
            "Epoch 399/400\n",
            "119/119 [==============================] - 0s 2ms/step - loss: 29165901824.0000 - val_loss: 26888151040.0000\n",
            "Epoch 400/400\n",
            "119/119 [==============================] - 0s 2ms/step - loss: 29249923072.0000 - val_loss: 26750771200.0000\n"
          ],
          "name": "stdout"
        },
        {
          "output_type": "execute_result",
          "data": {
            "text/plain": [
              "<tensorflow.python.keras.callbacks.History at 0x7f10d50c8860>"
            ]
          },
          "metadata": {
            "tags": []
          },
          "execution_count": 69
        }
      ]
    },
    {
      "cell_type": "markdown",
      "metadata": {
        "id": "nUP-oKZ-lB8q",
        "colab_type": "text"
      },
      "source": [
        "# Model Evaluation and Predictions"
      ]
    },
    {
      "cell_type": "code",
      "metadata": {
        "id": "HqtMw3rxZzhg",
        "colab_type": "code",
        "colab": {}
      },
      "source": [
        "losses = pd.DataFrame(model.history.history)"
      ],
      "execution_count": null,
      "outputs": []
    },
    {
      "cell_type": "code",
      "metadata": {
        "id": "YF11BPSQlR62",
        "colab_type": "code",
        "colab": {
          "base_uri": "https://localhost:8080/",
          "height": 293
        },
        "outputId": "5c988bda-91ae-4c39-b5dd-dc9d7171f91c"
      },
      "source": [
        "losses.plot() #ideal/desired response. since the validation loss ain't increasing."
      ],
      "execution_count": null,
      "outputs": [
        {
          "output_type": "execute_result",
          "data": {
            "text/plain": [
              "<matplotlib.axes._subplots.AxesSubplot at 0x7f10d06e7e48>"
            ]
          },
          "metadata": {
            "tags": []
          },
          "execution_count": 73
        },
        {
          "output_type": "display_data",
          "data": {
            "image/png": "[encoded data removed]",
            "text/plain": [
              "<Figure size 432x288 with 1 Axes>"
            ]
          },
          "metadata": {
            "tags": [],
            "needs_background": "light"
          }
        }
      ]
    },
    {
      "cell_type": "code",
      "metadata": {
        "id": "9EdvTOwBlwxl",
        "colab_type": "code",
        "colab": {}
      },
      "source": [
        "from sklearn.metrics import mean_absolute_error,mean_squared_error,explained_variance_score"
      ],
      "execution_count": null,
      "outputs": []
    },
    {
      "cell_type": "code",
      "metadata": {
        "id": "uXG9hERLnV0l",
        "colab_type": "code",
        "colab": {}
      },
      "source": [
        "y_p = model.predict(X_test)"
      ],
      "execution_count": null,
      "outputs": []
    },
    {
      "cell_type": "code",
      "metadata": {
        "id": "TFCjorW6nZ1_",
        "colab_type": "code",
        "colab": {
          "base_uri": "https://localhost:8080/",
          "height": 306
        },
        "outputId": "6cf3ac99-2776-484e-ea33-f01b3f0a78b5"
      },
      "source": [
        "plt.scatter(y_test,y_p)\n",
        "plt.plot(y_test,y_test,'r') #good fair predictions we can say"
      ],
      "execution_count": null,
      "outputs": [
        {
          "output_type": "execute_result",
          "data": {
            "text/plain": [
              "[<matplotlib.lines.Line2D at 0x7f10d07cf208>]"
            ]
          },
          "metadata": {
            "tags": []
          },
          "execution_count": 78
        },
        {
          "output_type": "display_data",
          "data": {
            "image/png": "[encoded data removed]",
            "text/plain": [
              "<Figure size 432x288 with 1 Axes>"
            ]
          },
          "metadata": {
            "tags": [],
            "needs_background": "light"
          }
        }
      ]
    },
    {
      "cell_type": "code",
      "metadata": {
        "id": "k7-55W1OnhLi",
        "colab_type": "code",
        "colab": {
          "base_uri": "https://localhost:8080/",
          "height": 85
        },
        "outputId": "f9570f01-4fcf-49f5-81d9-43b8ddab5466"
      },
      "source": [
        "print(f\"1. The mean absolute error is - {mean_absolute_error(y_test,y_p)}\")\n",
        "print(f\"2. The mean squared error is - {mean_squared_error(y_test,y_p)}\")\n",
        "print(f\"3. The roor mean squared error is -{np.sqrt(mean_squared_error(y_test,y_p))} \")\n",
        "print(f\"4. The explained varience (best value = 1) is - {explained_variance_score(y_test,y_p)}\")"
      ],
      "execution_count": null,
      "outputs": [
        {
          "output_type": "stream",
          "text": [
            "1. The mean absolute error is - 100940.98638961227\n",
            "2. The mean squared error is - 26750775420.230263\n",
            "3. The roor mean squared error is -163556.64284959587 \n",
            "4. The explained varience (best value = 1) is - 0.7983083187855454\n"
          ],
          "name": "stdout"
        }
      ]
    },
    {
      "cell_type": "markdown",
      "metadata": {
        "id": "AAy-2FIGpXBL",
        "colab_type": "text"
      },
      "source": [
        "#Predicting the price for a new house"
      ]
    },
    {
      "cell_type": "code",
      "metadata": {
        "id": "HkcSp97JolHh",
        "colab_type": "code",
        "colab": {}
      },
      "source": [
        "singlehouse= df.drop('price',axis=1).iloc[0].values.reshape(-1,19)\n",
        "singlehouse = scaler.transform(singlehouse)"
      ],
      "execution_count": null,
      "outputs": []
    },
    {
      "cell_type": "code",
      "metadata": {
        "id": "8OR20HKSpqv5",
        "colab_type": "code",
        "colab": {}
      },
      "source": [
        "preddiction = list(model.predict(singlehouse))"
      ],
      "execution_count": null,
      "outputs": []
    },
    {
      "cell_type": "code",
      "metadata": {
        "id": "JhCTspTzqEYG",
        "colab_type": "code",
        "colab": {
          "base_uri": "https://localhost:8080/",
          "height": 34
        },
        "outputId": "3bb1ea99-5a4a-4b26-f95d-9e217495343c"
      },
      "source": [
        "preddiction"
      ],
      "execution_count": null,
      "outputs": [
        {
          "output_type": "execute_result",
          "data": {
            "text/plain": [
              "[array([276316.84], dtype=float32)]"
            ]
          },
          "metadata": {
            "tags": []
          },
          "execution_count": 99
        }
      ]
    },
    {
      "cell_type": "code",
      "metadata": {
        "id": "jrDHWimVqc49",
        "colab_type": "code",
        "colab": {
          "base_uri": "https://localhost:8080/",
          "height": 34
        },
        "outputId": "3192e079-61ff-4799-fbe2-217741444996"
      },
      "source": [
        "(276316.84 -221900.0\t)/276316.84 #just ~19% off and that's fair prediction"
      ],
      "execution_count": null,
      "outputs": [
        {
          "output_type": "execute_result",
          "data": {
            "text/plain": [
              "0.19693638650470968"
            ]
          },
          "metadata": {
            "tags": []
          },
          "execution_count": 101
        }
      ]
    },
    {
      "cell_type": "code",
      "metadata": {
        "id": "oxe5sWNoqjmx",
        "colab_type": "code",
        "colab": {
          "base_uri": "https://localhost:8080/",
          "height": 131
        },
        "outputId": "f6e06c26-ab9c-4202-83c7-b87925e93c52"
      },
      "source": [
        "df.head(2)"
      ],
      "execution_count": null,
      "outputs": [
        {
          "output_type": "execute_result",
          "data": {
            "text/html": [
              "<div>\n",
              "<style scoped>\n",
              "    .dataframe tbody tr th:only-of-type {\n",
              "        vertical-align: middle;\n",
              "    }\n",
              "\n",
              "    .dataframe tbody tr th {\n",
              "        vertical-align: top;\n",
              "    }\n",
              "\n",
              "    .dataframe thead th {\n",
              "        text-align: right;\n",
              "    }\n",
              "</style>\n",
              "<table border=\"1\" class=\"dataframe\">\n",
              "  <thead>\n",
              "    <tr style=\"text-align: right;\">\n",
              "      <th></th>\n",
              "      <th>price</th>\n",
              "      <th>bedrooms</th>\n",
              "      <th>bathrooms</th>\n",
              "      <th>sqft_living</th>\n",
              "      <th>sqft_lot</th>\n",
              "      <th>floors</th>\n",
              "      <th>waterfront</th>\n",
              "      <th>view</th>\n",
              "      <th>condition</th>\n",
              "      <th>grade</th>\n",
              "      <th>sqft_above</th>\n",
              "      <th>sqft_basement</th>\n",
              "      <th>yr_built</th>\n",
              "      <th>yr_renovated</th>\n",
              "      <th>lat</th>\n",
              "      <th>long</th>\n",
              "      <th>sqft_living15</th>\n",
              "      <th>sqft_lot15</th>\n",
              "      <th>year</th>\n",
              "      <th>month</th>\n",
              "    </tr>\n",
              "  </thead>\n",
              "  <tbody>\n",
              "    <tr>\n",
              "      <th>0</th>\n",
              "      <td>221900.0</td>\n",
              "      <td>3</td>\n",
              "      <td>1.00</td>\n",
              "      <td>1180</td>\n",
              "      <td>5650</td>\n",
              "      <td>1.0</td>\n",
              "      <td>0</td>\n",
              "      <td>0</td>\n",
              "      <td>3</td>\n",
              "      <td>7</td>\n",
              "      <td>1180</td>\n",
              "      <td>0</td>\n",
              "      <td>1955</td>\n",
              "      <td>0</td>\n",
              "      <td>47.5112</td>\n",
              "      <td>-122.257</td>\n",
              "      <td>1340</td>\n",
              "      <td>5650</td>\n",
              "      <td>2014</td>\n",
              "      <td>10</td>\n",
              "    </tr>\n",
              "    <tr>\n",
              "      <th>1</th>\n",
              "      <td>538000.0</td>\n",
              "      <td>3</td>\n",
              "      <td>2.25</td>\n",
              "      <td>2570</td>\n",
              "      <td>7242</td>\n",
              "      <td>2.0</td>\n",
              "      <td>0</td>\n",
              "      <td>0</td>\n",
              "      <td>3</td>\n",
              "      <td>7</td>\n",
              "      <td>2170</td>\n",
              "      <td>400</td>\n",
              "      <td>1951</td>\n",
              "      <td>1991</td>\n",
              "      <td>47.7210</td>\n",
              "      <td>-122.319</td>\n",
              "      <td>1690</td>\n",
              "      <td>7639</td>\n",
              "      <td>2014</td>\n",
              "      <td>12</td>\n",
              "    </tr>\n",
              "  </tbody>\n",
              "</table>\n",
              "</div>"
            ],
            "text/plain": [
              "      price  bedrooms  bathrooms  ...  sqft_lot15  year  month\n",
              "0  221900.0         3       1.00  ...        5650  2014     10\n",
              "1  538000.0         3       2.25  ...        7639  2014     12\n",
              "\n",
              "[2 rows x 20 columns]"
            ]
          },
          "metadata": {
            "tags": []
          },
          "execution_count": 92
        }
      ]
    },
    {
      "cell_type": "code",
      "metadata": {
        "id": "sN2yJwKjqnFj",
        "colab_type": "code",
        "colab": {}
      },
      "source": [
        ""
      ],
      "execution_count": null,
      "outputs": []
    }
  ]
}