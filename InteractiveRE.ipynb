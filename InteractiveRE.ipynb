{
  "nbformat": 4,
  "nbformat_minor": 0,
  "metadata": {
    "colab": {
      "name": "InteractiveRE.ipynb",
      "provenance": [],
      "authorship_tag": "ABX9TyMWAKO9TUgVLdUIvOkB9DG1",
      "include_colab_link": true
    },
    "kernelspec": {
      "name": "python3",
      "display_name": "Python 3"
    },
    "widgets": {
      "application/vnd.jupyter.widget-state+json": {
        "4f2f1442b0b64a6b9a5f100eff0e752b": {
          "model_module": "@jupyter-widgets/controls",
          "model_name": "VBoxModel",
          "state": {
            "_view_name": "VBoxView",
            "_dom_classes": [
              "widget-interact"
            ],
            "_model_name": "VBoxModel",
            "_view_module": "@jupyter-widgets/controls",
            "_model_module_version": "1.5.0",
            "_view_count": null,
            "_view_module_version": "1.5.0",
            "box_style": "",
            "layout": "IPY_MODEL_75fd48dc54164b6a8d1efe0f85beabe8",
            "_model_module": "@jupyter-widgets/controls",
            "children": [
              "IPY_MODEL_353ed6cb687b414d926458f82ac11fbb",
              "IPY_MODEL_0afe2b01efce4a8689151dbee7e31160",
              "IPY_MODEL_9e8390a6679b4c2c98974ce74e47fd77",
              "IPY_MODEL_d08bf5e86c4e42ad81d00515f70fc1ff"
            ]
          }
        },
        "75fd48dc54164b6a8d1efe0f85beabe8": {
          "model_module": "@jupyter-widgets/base",
          "model_name": "LayoutModel",
          "state": {
            "_view_name": "LayoutView",
            "grid_template_rows": null,
            "right": null,
            "justify_content": null,
            "_view_module": "@jupyter-widgets/base",
            "overflow": null,
            "_model_module_version": "1.2.0",
            "_view_count": null,
            "flex_flow": null,
            "width": null,
            "min_width": null,
            "border": null,
            "align_items": null,
            "bottom": null,
            "_model_module": "@jupyter-widgets/base",
            "top": null,
            "grid_column": null,
            "overflow_y": null,
            "overflow_x": null,
            "grid_auto_flow": null,
            "grid_area": null,
            "grid_template_columns": null,
            "flex": null,
            "_model_name": "LayoutModel",
            "justify_items": null,
            "grid_row": null,
            "max_height": null,
            "align_content": null,
            "visibility": null,
            "align_self": null,
            "height": null,
            "min_height": null,
            "padding": null,
            "grid_auto_rows": null,
            "grid_gap": null,
            "max_width": null,
            "order": null,
            "_view_module_version": "1.2.0",
            "grid_template_areas": null,
            "object_position": null,
            "object_fit": null,
            "grid_auto_columns": null,
            "margin": null,
            "display": null,
            "left": null
          }
        },
        "353ed6cb687b414d926458f82ac11fbb": {
          "model_module": "@jupyter-widgets/controls",
          "model_name": "IntSliderModel",
          "state": {
            "_view_name": "IntSliderView",
            "style": "IPY_MODEL_18dffc363eca4eb48e2feb41121147fc",
            "_dom_classes": [],
            "description": "k",
            "step": 1,
            "_model_name": "IntSliderModel",
            "orientation": "horizontal",
            "max": 1000,
            "_view_module": "@jupyter-widgets/controls",
            "_model_module_version": "1.5.0",
            "value": 1000,
            "_view_count": null,
            "disabled": false,
            "_view_module_version": "1.5.0",
            "min": 10,
            "continuous_update": true,
            "readout_format": "d",
            "description_tooltip": null,
            "readout": true,
            "_model_module": "@jupyter-widgets/controls",
            "layout": "IPY_MODEL_7d2f0165d7524dfe90aa8eef6365224c"
          }
        },
        "0afe2b01efce4a8689151dbee7e31160": {
          "model_module": "@jupyter-widgets/controls",
          "model_name": "IntSliderModel",
          "state": {
            "_view_name": "IntSliderView",
            "style": "IPY_MODEL_063785ab59da4a3584aac10943031746",
            "_dom_classes": [],
            "description": "mu",
            "step": 1,
            "_model_name": "IntSliderModel",
            "orientation": "horizontal",
            "max": 300,
            "_view_module": "@jupyter-widgets/controls",
            "_model_module_version": "1.5.0",
            "value": 300,
            "_view_count": null,
            "disabled": false,
            "_view_module_version": "1.5.0",
            "min": 10,
            "continuous_update": true,
            "readout_format": "d",
            "description_tooltip": null,
            "readout": true,
            "_model_module": "@jupyter-widgets/controls",
            "layout": "IPY_MODEL_1579b3055f494943bfc192ba81c4a8f1"
          }
        },
        "9e8390a6679b4c2c98974ce74e47fd77": {
          "model_module": "@jupyter-widgets/controls",
          "model_name": "IntSliderModel",
          "state": {
            "_view_name": "IntSliderView",
            "style": "IPY_MODEL_fdf0ca10bc5640ba877e0e20603573d4",
            "_dom_classes": [],
            "description": "q",
            "step": 1,
            "_model_name": "IntSliderModel",
            "orientation": "horizontal",
            "max": 200,
            "_view_module": "@jupyter-widgets/controls",
            "_model_module_version": "1.5.0",
            "value": 150,
            "_view_count": null,
            "disabled": false,
            "_view_module_version": "1.5.0",
            "min": 100,
            "continuous_update": true,
            "readout_format": "d",
            "description_tooltip": null,
            "readout": true,
            "_model_module": "@jupyter-widgets/controls",
            "layout": "IPY_MODEL_4f1eb8212b25478bbb398b465ebd38ee"
          }
        },
        "d08bf5e86c4e42ad81d00515f70fc1ff": {
          "model_module": "@jupyter-widgets/output",
          "model_name": "OutputModel",
          "state": {
            "_view_name": "OutputView",
            "msg_id": "",
            "_dom_classes": [],
            "_model_name": "OutputModel",
            "outputs": [
              {
                "output_type": "display_data",
                "metadata": {
                  "tags": []
                },
                "image/png": "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\n",
                "text/plain": "<Figure size 640x480 with 1 Axes>"
              }
            ],
            "_view_module": "@jupyter-widgets/output",
            "_model_module_version": "1.0.0",
            "_view_count": null,
            "_view_module_version": "1.0.0",
            "layout": "IPY_MODEL_283cc4cbcd734eae8dc39ea76079f367",
            "_model_module": "@jupyter-widgets/output"
          }
        },
        "18dffc363eca4eb48e2feb41121147fc": {
          "model_module": "@jupyter-widgets/controls",
          "model_name": "SliderStyleModel",
          "state": {
            "_view_name": "StyleView",
            "handle_color": null,
            "_model_name": "SliderStyleModel",
            "description_width": "",
            "_view_module": "@jupyter-widgets/base",
            "_model_module_version": "1.5.0",
            "_view_count": null,
            "_view_module_version": "1.2.0",
            "_model_module": "@jupyter-widgets/controls"
          }
        },
        "7d2f0165d7524dfe90aa8eef6365224c": {
          "model_module": "@jupyter-widgets/base",
          "model_name": "LayoutModel",
          "state": {
            "_view_name": "LayoutView",
            "grid_template_rows": null,
            "right": null,
            "justify_content": null,
            "_view_module": "@jupyter-widgets/base",
            "overflow": null,
            "_model_module_version": "1.2.0",
            "_view_count": null,
            "flex_flow": null,
            "width": null,
            "min_width": null,
            "border": null,
            "align_items": null,
            "bottom": null,
            "_model_module": "@jupyter-widgets/base",
            "top": null,
            "grid_column": null,
            "overflow_y": null,
            "overflow_x": null,
            "grid_auto_flow": null,
            "grid_area": null,
            "grid_template_columns": null,
            "flex": null,
            "_model_name": "LayoutModel",
            "justify_items": null,
            "grid_row": null,
            "max_height": null,
            "align_content": null,
            "visibility": null,
            "align_self": null,
            "height": null,
            "min_height": null,
            "padding": null,
            "grid_auto_rows": null,
            "grid_gap": null,
            "max_width": null,
            "order": null,
            "_view_module_version": "1.2.0",
            "grid_template_areas": null,
            "object_position": null,
            "object_fit": null,
            "grid_auto_columns": null,
            "margin": null,
            "display": null,
            "left": null
          }
        },
        "063785ab59da4a3584aac10943031746": {
          "model_module": "@jupyter-widgets/controls",
          "model_name": "SliderStyleModel",
          "state": {
            "_view_name": "StyleView",
            "handle_color": null,
            "_model_name": "SliderStyleModel",
            "description_width": "",
            "_view_module": "@jupyter-widgets/base",
            "_model_module_version": "1.5.0",
            "_view_count": null,
            "_view_module_version": "1.2.0",
            "_model_module": "@jupyter-widgets/controls"
          }
        },
        "1579b3055f494943bfc192ba81c4a8f1": {
          "model_module": "@jupyter-widgets/base",
          "model_name": "LayoutModel",
          "state": {
            "_view_name": "LayoutView",
            "grid_template_rows": null,
            "right": null,
            "justify_content": null,
            "_view_module": "@jupyter-widgets/base",
            "overflow": null,
            "_model_module_version": "1.2.0",
            "_view_count": null,
            "flex_flow": null,
            "width": null,
            "min_width": null,
            "border": null,
            "align_items": null,
            "bottom": null,
            "_model_module": "@jupyter-widgets/base",
            "top": null,
            "grid_column": null,
            "overflow_y": null,
            "overflow_x": null,
            "grid_auto_flow": null,
            "grid_area": null,
            "grid_template_columns": null,
            "flex": null,
            "_model_name": "LayoutModel",
            "justify_items": null,
            "grid_row": null,
            "max_height": null,
            "align_content": null,
            "visibility": null,
            "align_self": null,
            "height": null,
            "min_height": null,
            "padding": null,
            "grid_auto_rows": null,
            "grid_gap": null,
            "max_width": null,
            "order": null,
            "_view_module_version": "1.2.0",
            "grid_template_areas": null,
            "object_position": null,
            "object_fit": null,
            "grid_auto_columns": null,
            "margin": null,
            "display": null,
            "left": null
          }
        },
        "fdf0ca10bc5640ba877e0e20603573d4": {
          "model_module": "@jupyter-widgets/controls",
          "model_name": "SliderStyleModel",
          "state": {
            "_view_name": "StyleView",
            "handle_color": null,
            "_model_name": "SliderStyleModel",
            "description_width": "",
            "_view_module": "@jupyter-widgets/base",
            "_model_module_version": "1.5.0",
            "_view_count": null,
            "_view_module_version": "1.2.0",
            "_model_module": "@jupyter-widgets/controls"
          }
        },
        "4f1eb8212b25478bbb398b465ebd38ee": {
          "model_module": "@jupyter-widgets/base",
          "model_name": "LayoutModel",
          "state": {
            "_view_name": "LayoutView",
            "grid_template_rows": null,
            "right": null,
            "justify_content": null,
            "_view_module": "@jupyter-widgets/base",
            "overflow": null,
            "_model_module_version": "1.2.0",
            "_view_count": null,
            "flex_flow": null,
            "width": null,
            "min_width": null,
            "border": null,
            "align_items": null,
            "bottom": null,
            "_model_module": "@jupyter-widgets/base",
            "top": null,
            "grid_column": null,
            "overflow_y": null,
            "overflow_x": null,
            "grid_auto_flow": null,
            "grid_area": null,
            "grid_template_columns": null,
            "flex": null,
            "_model_name": "LayoutModel",
            "justify_items": null,
            "grid_row": null,
            "max_height": null,
            "align_content": null,
            "visibility": null,
            "align_self": null,
            "height": null,
            "min_height": null,
            "padding": null,
            "grid_auto_rows": null,
            "grid_gap": null,
            "max_width": null,
            "order": null,
            "_view_module_version": "1.2.0",
            "grid_template_areas": null,
            "object_position": null,
            "object_fit": null,
            "grid_auto_columns": null,
            "margin": null,
            "display": null,
            "left": null
          }
        },
        "283cc4cbcd734eae8dc39ea76079f367": {
          "model_module": "@jupyter-widgets/base",
          "model_name": "LayoutModel",
          "state": {
            "_view_name": "LayoutView",
            "grid_template_rows": null,
            "right": null,
            "justify_content": null,
            "_view_module": "@jupyter-widgets/base",
            "overflow": null,
            "_model_module_version": "1.2.0",
            "_view_count": null,
            "flex_flow": null,
            "width": null,
            "min_width": null,
            "border": null,
            "align_items": null,
            "bottom": null,
            "_model_module": "@jupyter-widgets/base",
            "top": null,
            "grid_column": null,
            "overflow_y": null,
            "overflow_x": null,
            "grid_auto_flow": null,
            "grid_area": null,
            "grid_template_columns": null,
            "flex": null,
            "_model_name": "LayoutModel",
            "justify_items": null,
            "grid_row": null,
            "max_height": null,
            "align_content": null,
            "visibility": null,
            "align_self": null,
            "height": null,
            "min_height": null,
            "padding": null,
            "grid_auto_rows": null,
            "grid_gap": null,
            "max_width": null,
            "order": null,
            "_view_module_version": "1.2.0",
            "grid_template_areas": null,
            "object_position": null,
            "object_fit": null,
            "grid_auto_columns": null,
            "margin": null,
            "display": null,
            "left": null
          }
        }
      }
    }
  },
  "cells": [
    {
      "cell_type": "markdown",
      "metadata": {
        "id": "view-in-github",
        "colab_type": "text"
      },
      "source": [
        "<a href=\"https://colab.research.google.com/github/Divyanshu-ISM/Oil-and-Gas-data-analysis/blob/master/InteractiveRE.ipynb\" target=\"_parent\"><img src=\"https://colab.research.google.com/assets/colab-badge.svg\" alt=\"Open In Colab\"/></a>"
      ]
    },
    {
      "cell_type": "code",
      "metadata": {
        "id": "DuBOzUFFvzD3",
        "colab_type": "code",
        "colab": {}
      },
      "source": [
        "import numpy as np\n",
        "import matplotlib.pyplot as plt\n",
        "%matplotlib inline\n",
        "\n",
        "from ipywidgets import interact, interactive\n",
        "from IPython.display import clear_output, display, HTML"
      ],
      "execution_count": 1,
      "outputs": []
    },
    {
      "cell_type": "markdown",
      "metadata": {
        "id": "06lnbM56xaed",
        "colab_type": "text"
      },
      "source": [
        "$ q = kh \\frac{\\triangle P}{141.2 \\mu B [ ln(re/r) + s]} $"
      ]
    },
    {
      "cell_type": "code",
      "metadata": {
        "id": "jHmuW5EZ2AxL",
        "colab_type": "code",
        "colab": {
          "base_uri": "https://localhost:8080/",
          "height": 52
        },
        "outputId": "bd3c52a7-d1a2-4a0f-b7d7-d5f94ec31b4b"
      },
      "source": [
        "plt.style.use('default')\n",
        "\n",
        "plt.figure(figsize=(12,4))"
      ],
      "execution_count": 37,
      "outputs": [
        {
          "output_type": "execute_result",
          "data": {
            "text/plain": [
              "<Figure size 1200x400 with 0 Axes>"
            ]
          },
          "metadata": {
            "tags": []
          },
          "execution_count": 37
        },
        {
          "output_type": "display_data",
          "data": {
            "text/plain": [
              "<Figure size 1200x400 with 0 Axes>"
            ]
          },
          "metadata": {
            "tags": []
          }
        }
      ]
    },
    {
      "cell_type": "code",
      "metadata": {
        "id": "UkSZ8HBxwnzK",
        "colab_type": "code",
        "colab": {}
      },
      "source": [
        "def flowprofile(k,mu,q):\n",
        "\n",
        "  re = 3000\n",
        "  rw = 0.5\n",
        "\n",
        "  r = np.linspace(rw,re,500)\n",
        "\n",
        "  pe = 4000\n",
        "\n",
        "  B = 1\n",
        "\n",
        "  h = 30 #ft\n",
        "\n",
        "  P = pe - (141.2*q*mu*B*(np.log(re/r))/k/h)\n",
        "\n",
        "  y_min = P[np.where(r==rw)]\n",
        "\n",
        "\n",
        "\n",
        "  plt.plot(r,P,linewidth=4)\n",
        "  plt.axhline(y_min,linewidth=3,color='red')\n",
        "\n",
        "  plt.ylim(0,5000)\n",
        "\n",
        "  plt.xlabel('r(ft)')\n",
        "  plt.ylabel('P(r), Psi')\n",
        "\n",
        "  plt.title('Reservoir Pressure Profile')\n",
        "\n",
        "  plt.grid()\n",
        "\n",
        "  return r,P"
      ],
      "execution_count": 48,
      "outputs": []
    },
    {
      "cell_type": "code",
      "metadata": {
        "id": "VnahHVDKxKTF",
        "colab_type": "code",
        "colab": {}
      },
      "source": [
        "w = interactive(flowprofile, k = (10,1000), mu=(10,300), q = (100,200))"
      ],
      "execution_count": 51,
      "outputs": []
    },
    {
      "cell_type": "code",
      "metadata": {
        "id": "-uciTZp_xMOa",
        "colab_type": "code",
        "colab": {
          "base_uri": "https://localhost:8080/",
          "height": 567,
          "referenced_widgets": [
            "4f2f1442b0b64a6b9a5f100eff0e752b",
            "75fd48dc54164b6a8d1efe0f85beabe8",
            "353ed6cb687b414d926458f82ac11fbb",
            "0afe2b01efce4a8689151dbee7e31160",
            "9e8390a6679b4c2c98974ce74e47fd77",
            "d08bf5e86c4e42ad81d00515f70fc1ff",
            "18dffc363eca4eb48e2feb41121147fc",
            "7d2f0165d7524dfe90aa8eef6365224c",
            "063785ab59da4a3584aac10943031746",
            "1579b3055f494943bfc192ba81c4a8f1",
            "fdf0ca10bc5640ba877e0e20603573d4",
            "4f1eb8212b25478bbb398b465ebd38ee",
            "283cc4cbcd734eae8dc39ea76079f367"
          ]
        },
        "outputId": "bd81e738-cf4f-48f0-b34d-2f9ee26c490f"
      },
      "source": [
        "display(w)"
      ],
      "execution_count": 52,
      "outputs": [
        {
          "output_type": "display_data",
          "data": {
            "application/vnd.jupyter.widget-view+json": {
              "model_id": "4f2f1442b0b64a6b9a5f100eff0e752b",
              "version_minor": 0,
              "version_major": 2
            },
            "text/plain": [
              "interactive(children=(IntSlider(value=505, description='k', max=1000, min=10), IntSlider(value=155, descriptio…"
            ]
          },
          "metadata": {
            "tags": []
          }
        }
      ]
    },
    {
      "cell_type": "code",
      "metadata": {
        "id": "lq1hwtCByv0W",
        "colab_type": "code",
        "colab": {}
      },
      "source": [
        ""
      ],
      "execution_count": null,
      "outputs": []
    }
  ]
}