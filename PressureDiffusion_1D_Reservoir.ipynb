{
  "nbformat": 4,
  "nbformat_minor": 0,
  "metadata": {
    "colab": {
      "name": "PressureDiffusion_1D_Reservoir.ipynb",
      "provenance": [],
      "collapsed_sections": [],
      "authorship_tag": "ABX9TyOgh92p0cPpqDUmY0/eKYPS",
      "include_colab_link": true
    },
    "kernelspec": {
      "name": "python3",
      "display_name": "Python 3"
    }
  },
  "cells": [
    {
      "cell_type": "markdown",
      "metadata": {
        "id": "view-in-github",
        "colab_type": "text"
      },
      "source": [
        "<a href=\"https://colab.research.google.com/github/Divyanshu-ISM/Oil-and-Gas-data-analysis/blob/master/PressureDiffusion_1D_Reservoir.ipynb\" target=\"_parent\"><img src=\"https://colab.research.google.com/assets/colab-badge.svg\" alt=\"Open In Colab\"/></a>"
      ]
    },
    {
      "cell_type": "markdown",
      "metadata": {
        "id": "p9xrUMYfoGlq",
        "colab_type": "text"
      },
      "source": [
        "#Simulating the Pressure Diffusivity equation in space and time \n",
        "\n"
      ]
    },
    {
      "cell_type": "markdown",
      "metadata": {
        "id": "z1kmaFcZxkuF",
        "colab_type": "text"
      },
      "source": [
        "## This is not a successful code, but just an illustration of how the Explicit method is very unstable normally. It diverges, which can be seen if you run the code. "
      ]
    },
    {
      "cell_type": "code",
      "metadata": {
        "id": "Mhlhlm0rvHRu",
        "colab_type": "code",
        "colab": {}
      },
      "source": [
        "import numpy as np\n",
        "import matplotlib.pyplot as plt\n",
        "%matplotlib inline"
      ],
      "execution_count": 5,
      "outputs": []
    },
    {
      "cell_type": "code",
      "metadata": {
        "id": "V1sO56rI05Dr",
        "colab_type": "code",
        "colab": {}
      },
      "source": [
        "import pylab as pl\n",
        "from IPython import display\n",
        "import time"
      ],
      "execution_count": 6,
      "outputs": []
    },
    {
      "cell_type": "code",
      "metadata": {
        "id": "lFcMS2Wrv9em",
        "colab_type": "code",
        "colab": {}
      },
      "source": [
        "def diff_const():\n",
        "  ''' \n",
        "  Calculates the Diffusivity Constant \n",
        "\n",
        "  '''\n",
        "  k = int(input('Enter the reservoir permeability: '))\n",
        "\n",
        "  phi = float(input('Enter the res porosity: '))\n",
        "\n",
        "  ct = float(input('Enter the total formation comp. (1/psi): '))\n",
        "\n",
        "  u = float(input('Enter the oil viscosity in cp: '))\n",
        "\n",
        "  dc = (0.0002637*k)/(phi*u*ct)\n",
        "\n",
        "  return dc"
      ],
      "execution_count": 7,
      "outputs": []
    },
    {
      "cell_type": "code",
      "metadata": {
        "id": "hFpAgQ2doDox",
        "colab_type": "code",
        "colab": {
          "base_uri": "https://localhost:8080/",
          "height": 90
        },
        "outputId": "a64c9926-d9bd-4ab4-b9d9-5ec56654d6b0"
      },
      "source": [
        "L = 1000 #ft Reservoir length 1D\n",
        "\n",
        "n = 5 #gridblocks \n",
        "\n",
        "Pi = 3000 #psia\n",
        "\n",
        "P = np.ones(n)*Pi\n",
        "\n",
        "dx = L/n\n",
        "\n",
        "x = np.linspace(dx/2 , L - dx/2 , n)\n",
        "\n",
        "\n",
        "t_final = 10 # hours\n",
        "\n",
        "dt = 0.1 #hour\n",
        "\n",
        "# eeta = diff_const()\n",
        "\n",
        "t = np.arange(0,t_final,dt)\n",
        "\n",
        "\n",
        "P_w = 3000 #psi \n",
        "\n",
        "\n",
        "P_e = 200 #psi\n",
        "\n",
        "\n",
        "dPdt = np.empty(n)\n",
        "\n",
        "eeta = diff_const()\n",
        "\n",
        "\n",
        "\n"
      ],
      "execution_count": 17,
      "outputs": [
        {
          "output_type": "stream",
          "text": [
            "Enter the reservoir permeability: 150\n",
            "Enter the res porosity: 0.25\n",
            "Enter the total formation comp. (1/psi): 0.000001\n",
            "Enter the oil viscosity in cp: 100\n"
          ],
          "name": "stdout"
        }
      ]
    },
    {
      "cell_type": "code",
      "metadata": {
        "id": "Fv6ey524qQnc",
        "colab_type": "code",
        "colab": {
          "base_uri": "https://localhost:8080/",
          "height": 35
        },
        "outputId": "90bbddb2-c509-4e32-e50e-1e3e60a36cc2"
      },
      "source": [
        "0.0002637*150/(0.25*100*0.00001)\n",
        "# 15822*1/(200**2)"
      ],
      "execution_count": 4,
      "outputs": [
        {
          "output_type": "execute_result",
          "data": {
            "text/plain": [
              "158.22"
            ]
          },
          "metadata": {
            "tags": []
          },
          "execution_count": 4
        }
      ]
    },
    {
      "cell_type": "code",
      "metadata": {
        "id": "H0BSkNOZxv_Q",
        "colab_type": "code",
        "colab": {
          "base_uri": "https://localhost:8080/",
          "height": 945
        },
        "outputId": "0cc9264c-d847-4ea8-a1d7-a1c4b9c0c080"
      },
      "source": [
        "# ((  Pi+1 - 2Pi + Pi-1 )/dx2 ) *eeta*dt + P(t) = P(t+1)\n",
        "\n",
        "P_hist = [3000]\n",
        "\n",
        "ax1 = plt.figure(figsize=(12,5))\n",
        "plt.grid()\n",
        "plt.style.use('fivethirtyeight')\n",
        "plt.title('Pressure Diffusion Through a Reservoir - A simulation in time!')\n",
        "# plt.axis([0,L,0,50])\n",
        "\n",
        "for j in range(len(t)):\n",
        "  plt.clf()\n",
        "\n",
        "  for i in range(1,n-1):\n",
        "\n",
        "    dPdt[i] = eeta*(P[i+1]-2*P[i]+ P[i-1])/(dx**2)\n",
        "\n",
        "  dPdt[0] = eeta*(2*P_w - 3*P[0] + P[1])/(dx**2)\n",
        "  dPdt[n-1] = eeta*(P[n-2] -3*P[n-1] + P_e)/(dx**2)\n",
        "\n",
        "  P = P - dPdt\n",
        "\n",
        "\n",
        "\n",
        "   # plt.figure(1)\n",
        "  plt.plot(x,P,'r')\n",
        "\n",
        "  plt.xlim(dx/2,L-dx/2)\n",
        "  plt.ylim(0,3000)\n",
        "  # plt.axis([0,L,0,50])\n",
        "  # plt.show()\n",
        " \n",
        "  plt.xlabel('Distance (x)')\n",
        "  plt.ylabel('Pressure psi')\n",
        "  \n",
        "  display.clear_output(wait=True)\n",
        "  display.display(pl.gcf())\n",
        "  time.sleep(1.0)\n",
        "\n",
        "\n",
        "\n",
        "    \n",
        "\n",
        "\n",
        "\n"
      ],
      "execution_count": 18,
      "outputs": [
        {
          "output_type": "display_data",
          "data": {
            "image/png": "[encoded data removed]",
            "text/plain": [
              "<Figure size 864x360 with 1 Axes>"
            ]
          },
          "metadata": {
            "tags": []
          }
        },
        {
          "output_type": "error",
          "ename": "KeyboardInterrupt",
          "evalue": "ignored",
          "traceback": [
            "\u001b[0;31m---------------------------------------------------------------------------\u001b[0m",
            "\u001b[0;31mKeyboardInterrupt\u001b[0m                         Traceback (most recent call last)",
            "\u001b[0;32m<ipython-input-18-85951abd05f4>\u001b[0m in \u001b[0;36m<module>\u001b[0;34m()\u001b[0m\n\u001b[1;32m     36\u001b[0m   \u001b[0mdisplay\u001b[0m\u001b[0;34m.\u001b[0m\u001b[0mclear_output\u001b[0m\u001b[0;34m(\u001b[0m\u001b[0mwait\u001b[0m\u001b[0;34m=\u001b[0m\u001b[0;32mTrue\u001b[0m\u001b[0;34m)\u001b[0m\u001b[0;34m\u001b[0m\u001b[0;34m\u001b[0m\u001b[0m\n\u001b[1;32m     37\u001b[0m   \u001b[0mdisplay\u001b[0m\u001b[0;34m.\u001b[0m\u001b[0mdisplay\u001b[0m\u001b[0;34m(\u001b[0m\u001b[0mpl\u001b[0m\u001b[0;34m.\u001b[0m\u001b[0mgcf\u001b[0m\u001b[0;34m(\u001b[0m\u001b[0;34m)\u001b[0m\u001b[0;34m)\u001b[0m\u001b[0;34m\u001b[0m\u001b[0;34m\u001b[0m\u001b[0m\n\u001b[0;32m---> 38\u001b[0;31m   \u001b[0mtime\u001b[0m\u001b[0;34m.\u001b[0m\u001b[0msleep\u001b[0m\u001b[0;34m(\u001b[0m\u001b[0;36m1.0\u001b[0m\u001b[0;34m)\u001b[0m\u001b[0;34m\u001b[0m\u001b[0;34m\u001b[0m\u001b[0m\n\u001b[0m\u001b[1;32m     39\u001b[0m \u001b[0;34m\u001b[0m\u001b[0m\n\u001b[1;32m     40\u001b[0m \u001b[0;34m\u001b[0m\u001b[0m\n",
            "\u001b[0;31mKeyboardInterrupt\u001b[0m: "
          ]
        },
        {
          "output_type": "display_data",
          "data": {
            "image/png": "[encoded data removed]",
            "text/plain": [
              "<Figure size 864x360 with 1 Axes>"
            ]
          },
          "metadata": {
            "tags": []
          }
        }
      ]
    },
    {
      "cell_type": "code",
      "metadata": {
        "id": "QMZwc_eU1TcH",
        "colab_type": "code",
        "colab": {}
      },
      "source": [
        "PRe"
      ],
      "execution_count": null,
      "outputs": []
    }
  ]
}