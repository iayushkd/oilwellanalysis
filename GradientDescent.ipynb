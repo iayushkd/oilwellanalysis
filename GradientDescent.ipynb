{
  "nbformat": 4,
  "nbformat_minor": 0,
  "metadata": {
    "colab": {
      "name": "GradientDescent.ipynb",
      "provenance": [],
      "authorship_tag": "ABX9TyPrBw5LQ+v2DGIZgomUYiUg",
      "include_colab_link": true
    },
    "kernelspec": {
      "name": "python3",
      "display_name": "Python 3"
    }
  },
  "cells": [
    {
      "cell_type": "markdown",
      "metadata": {
        "id": "view-in-github",
        "colab_type": "text"
      },
      "source": [
        "<a href=\"https://colab.research.google.com/github/Divyanshu-ISM/Oil-and-Gas-data-analysis/blob/master/GradientDescent.ipynb\" target=\"_parent\"><img src=\"https://colab.research.google.com/assets/colab-badge.svg\" alt=\"Open In Colab\"/></a>"
      ]
    },
    {
      "cell_type": "markdown",
      "metadata": {
        "id": "k869I5TUu1z8",
        "colab_type": "text"
      },
      "source": [
        "# The Gradient Descent Algorithm to find the minima of a function!"
      ]
    },
    {
      "cell_type": "code",
      "metadata": {
        "id": "KONct1fFCphm",
        "colab_type": "code",
        "colab": {}
      },
      "source": [
        "import numpy as np\n",
        "import matplotlib.pyplot as plt\n",
        "%matplotlib inline"
      ],
      "execution_count": 0,
      "outputs": []
    },
    {
      "cell_type": "code",
      "metadata": {
        "id": "OL-Bmn2HjoYZ",
        "colab_type": "code",
        "colab": {}
      },
      "source": [
        "x = np.linspace(-10,10)"
      ],
      "execution_count": 0,
      "outputs": []
    },
    {
      "cell_type": "code",
      "metadata": {
        "id": "vejoymD-jwYX",
        "colab_type": "code",
        "colab": {}
      },
      "source": [
        "y = x**2 -2*x + 1"
      ],
      "execution_count": 0,
      "outputs": []
    },
    {
      "cell_type": "code",
      "metadata": {
        "id": "QNr7PZDDjylG",
        "colab_type": "code",
        "colab": {
          "base_uri": "https://localhost:8080/",
          "height": 282
        },
        "outputId": "bcea9ba8-ab79-4433-afee-ae6fb398a1de"
      },
      "source": [
        "plt.plot(x,y)"
      ],
      "execution_count": 60,
      "outputs": [
        {
          "output_type": "execute_result",
          "data": {
            "text/plain": [
              "[<matplotlib.lines.Line2D at 0x7fc4bd81f390>]"
            ]
          },
          "metadata": {
            "tags": []
          },
          "execution_count": 60
        },
        {
          "output_type": "display_data",
          "data": {
            "image/png": "[encoded data removed]",
            "text/plain": [
              "<Figure size 432x288 with 1 Axes>"
            ]
          },
          "metadata": {
            "tags": [],
            "needs_background": "light"
          }
        }
      ]
    },
    {
      "cell_type": "code",
      "metadata": {
        "id": "8yH0ib_VkEm8",
        "colab_type": "code",
        "colab": {}
      },
      "source": [
        "d = []\n",
        "def minima(f,t):\n",
        "  for i in range(len(f)-1):\n",
        "    diff = (f[i+1]-f[i])/(t[i+1]-t[i])\n",
        "    d.append(diff)\n",
        "  return d\n",
        "\n"
      ],
      "execution_count": 0,
      "outputs": []
    },
    {
      "cell_type": "code",
      "metadata": {
        "id": "4yT8_KwklCd6",
        "colab_type": "code",
        "colab": {
          "base_uri": "https://localhost:8080/",
          "height": 282
        },
        "outputId": "79968b3b-2744-49d5-f37a-bc94f124c8d2"
      },
      "source": [
        "dydx= minima(y,x)\n",
        "\n",
        "plt.plot(x,y,label='y v/s x')\n",
        "plt.plot(x[:-1],dydx,label='dy/dx v/s x')\n",
        "plt.legend()"
      ],
      "execution_count": 62,
      "outputs": [
        {
          "output_type": "execute_result",
          "data": {
            "text/plain": [
              "<matplotlib.legend.Legend at 0x7fc4bd77fba8>"
            ]
          },
          "metadata": {
            "tags": []
          },
          "execution_count": 62
        },
        {
          "output_type": "display_data",
          "data": {
            "image/png": "[encoded data removed]",
            "text/plain": [
              "<Figure size 432x288 with 1 Axes>"
            ]
          },
          "metadata": {
            "tags": [],
            "needs_background": "light"
          }
        }
      ]
    },
    {
      "cell_type": "markdown",
      "metadata": {
        "id": "TbyMwhvIowFK",
        "colab_type": "text"
      },
      "source": [
        "Qualitatively - dy/dx crosses the x axis at ~2.4. exactly where y shows the minima."
      ]
    },
    {
      "cell_type": "code",
      "metadata": {
        "id": "eo669fJZl495",
        "colab_type": "code",
        "colab": {}
      },
      "source": [
        "for v in range(len(dydx)):\n",
        "  if dydx[v]<0 and dydx[v+1]>0:\n",
        "    opt_index = v\n"
      ],
      "execution_count": 0,
      "outputs": []
    },
    {
      "cell_type": "markdown",
      "metadata": {
        "id": "MYSgqpyCouZF",
        "colab_type": "text"
      },
      "source": [
        "Let's check our logic:"
      ]
    },
    {
      "cell_type": "code",
      "metadata": {
        "id": "zu9tonlGnvsb",
        "colab_type": "code",
        "colab": {
          "base_uri": "https://localhost:8080/",
          "height": 34
        },
        "outputId": "69ac2bef-d496-4cc7-c988-b1af28d67cce"
      },
      "source": [
        "print(dydx[opt_index],dydx[opt_index+1])"
      ],
      "execution_count": 65,
      "outputs": [
        {
          "output_type": "stream",
          "text": [
            "-0.3673469387755102 0.4489795918367362\n"
          ],
          "name": "stdout"
        }
      ]
    },
    {
      "cell_type": "code",
      "metadata": {
        "id": "5Jef6u4hnxIS",
        "colab_type": "code",
        "colab": {
          "base_uri": "https://localhost:8080/",
          "height": 34
        },
        "outputId": "b3660009-2d3f-4b7a-c1c2-9d2f626f535d"
      },
      "source": [
        "opt_index"
      ],
      "execution_count": 66,
      "outputs": [
        {
          "output_type": "execute_result",
          "data": {
            "text/plain": [
              "26"
            ]
          },
          "metadata": {
            "tags": []
          },
          "execution_count": 66
        }
      ]
    },
    {
      "cell_type": "code",
      "metadata": {
        "id": "Q3jwA10bqI2t",
        "colab_type": "code",
        "colab": {
          "base_uri": "https://localhost:8080/",
          "height": 34
        },
        "outputId": "b3651592-f202-4c29-ee14-66af9f62f4e5"
      },
      "source": [
        "print(f'At x = {x[opt_index+1]} , y = {y[opt_index+1]}, which is the global minima as per the curve.')\n"
      ],
      "execution_count": 76,
      "outputs": [
        {
          "output_type": "stream",
          "text": [
            "At x = 1.0204081632653068 , y = 0.0004164931278634043, which is the global minima as per the curve.\n"
          ],
          "name": "stdout"
        }
      ]
    },
    {
      "cell_type": "markdown",
      "metadata": {
        "id": "mdVlDAGbsF_z",
        "colab_type": "text"
      },
      "source": [
        "Hence, our optima (global minima) occurs at the index 27 , ie the value x = 1.02\n",
        "\n",
        "* Analytical Result - @ x=1.0  y= 0\n",
        "* Result of our (gradient descent) Algorithm code - @ x = 1.02 , y = 0.0004\n",
        "\n",
        "Hence, we can guess the minima with fair accuracy.\n",
        "\n"
      ]
    },
    {
      "cell_type": "markdown",
      "metadata": {
        "id": "kOrPD23kuDmE",
        "colab_type": "text"
      },
      "source": [
        "# **Applications-**\n",
        "The same concept and the code can be used as a MACHINE LEARNING algorithm, for example, in Linear Regression (y = a + bx) to find the optimum a and b by minimizing the 'cost function' ie, the 'sum of squared errors' using the above methodology. \n",
        "The same function y, can be replaced with the cost function (J)."
      ]
    },
    {
      "cell_type": "code",
      "metadata": {
        "id": "BT-NzTfFqMCs",
        "colab_type": "code",
        "colab": {}
      },
      "source": [
        "#----End-----#\n",
        "# (divyanshu!)"
      ],
      "execution_count": 0,
      "outputs": []
    },
    {
      "cell_type": "code",
      "metadata": {
        "id": "iS60j-49uyuS",
        "colab_type": "code",
        "colab": {}
      },
      "source": [
        ""
      ],
      "execution_count": 0,
      "outputs": []
    }
  ]
}