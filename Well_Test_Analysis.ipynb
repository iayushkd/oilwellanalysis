{
  "nbformat": 4,
  "nbformat_minor": 0,
  "metadata": {
    "colab": {
      "name": "Well_Test_Analysis.ipynb",
      "provenance": [],
      "authorship_tag": "ABX9TyO0zWzFma6dLhxRDGyjb8Cl",
      "include_colab_link": true
    },
    "kernelspec": {
      "name": "python3",
      "display_name": "Python 3"
    }
  },
  "cells": [
    {
      "cell_type": "markdown",
      "metadata": {
        "id": "view-in-github",
        "colab_type": "text"
      },
      "source": [
        "<a href=\"https://colab.research.google.com/github/Divyanshu-ISM/Oil-and-Gas-data-analysis/blob/master/Well_Test_Analysis.ipynb\" target=\"_parent\"><img src=\"https://colab.research.google.com/assets/colab-badge.svg\" alt=\"Open In Colab\"/></a>"
      ]
    },
    {
      "cell_type": "markdown",
      "metadata": {
        "id": "Vc6sNWulAyJu",
        "colab_type": "text"
      },
      "source": [
        "#Pressure Drawdown Testing with Python\n",
        "\n",
        "Author : Divyanshu Vyas (PE | RE | Machine Learning/Deep Learning)\n",
        "Email : dvyas13ad@gmail.com"
      ]
    },
    {
      "cell_type": "markdown",
      "metadata": {
        "id": "O4HPdxP0BA9A",
        "colab_type": "text"
      },
      "source": [
        "##Problem Statement :\n",
        "\n",
        "![image.png](data:image/png;base64,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)"
      ]
    },
    {
      "cell_type": "code",
      "metadata": {
        "id": "mlU2jFOIAb8n",
        "colab_type": "code",
        "colab": {}
      },
      "source": [
        "import numpy as np\n",
        "import pandas as pd\n",
        "import seaborn as sns\n",
        "import matplotlib.pyplot as plt\n",
        "\n",
        "%matplotlib inline"
      ],
      "execution_count": 2,
      "outputs": []
    },
    {
      "cell_type": "code",
      "metadata": {
        "id": "iZhGvdzxAqcF",
        "colab_type": "code",
        "colab": {}
      },
      "source": [
        "#Input Data \n",
        "\n",
        "q = 250 #stb/d\n",
        "\n",
        "tp = 460 #hrs\n",
        "\n",
        "Pi = 4412 #psia\n",
        "\n",
        "h = 69 #ft\n",
        "\n",
        "phi = 3.9/100\n",
        "\n",
        "ct = 17E-6 #psi-1\n",
        "\n",
        "B = 1.136 #rb/stb\n",
        "\n",
        "mu = 0.8 #cp\n",
        "\n",
        "rw = 0.198 #ft\n",
        "\n"
      ],
      "execution_count": 3,
      "outputs": []
    },
    {
      "cell_type": "code",
      "metadata": {
        "id": "Acoj8psvCJiH",
        "colab_type": "code",
        "colab": {}
      },
      "source": [
        "#Pwf v/s t\n",
        "\n",
        "df = pd.read_excel('WTA.xlsx')"
      ],
      "execution_count": 12,
      "outputs": []
    },
    {
      "cell_type": "code",
      "metadata": {
        "id": "ksYJ7k75DF1q",
        "colab_type": "code",
        "colab": {}
      },
      "source": [
        "df['delP'] = Pi - df['Pwf']"
      ],
      "execution_count": 14,
      "outputs": []
    },
    {
      "cell_type": "code",
      "metadata": {
        "id": "NC2yddBxDGvt",
        "colab_type": "code",
        "colab": {}
      },
      "source": [
        "t = np.array(df['t'])\n",
        "\n",
        "dt = []\n",
        "for i in range(len(t)):\n",
        "\n",
        "  if i==0:\n",
        "    dt.append(t[i])\n",
        "  else:\n",
        "    dt.append(t[i] - t[i-1])\n",
        "\n",
        "dt = np.array(dt)\n"
      ],
      "execution_count": 49,
      "outputs": []
    },
    {
      "cell_type": "code",
      "metadata": {
        "id": "ullXlTs4D92b",
        "colab_type": "code",
        "colab": {}
      },
      "source": [
        "df['dt'] = dt"
      ],
      "execution_count": 51,
      "outputs": []
    },
    {
      "cell_type": "code",
      "metadata": {
        "id": "wrgnJnecERp5",
        "colab_type": "code",
        "colab": {}
      },
      "source": [
        "p = np.array(df['delP'])\n",
        "\n",
        "dp = []\n",
        "for j in range(len(p)):\n",
        "\n",
        "  if j==0:\n",
        "    dp.append(p[j])\n",
        "  else:\n",
        "    dp.append(p[j] - p[j-1])\n",
        "\n",
        "dp = np.array(dp)\n"
      ],
      "execution_count": 56,
      "outputs": []
    },
    {
      "cell_type": "code",
      "metadata": {
        "id": "zVJl8cPXGbCV",
        "colab_type": "code",
        "colab": {}
      },
      "source": [
        "df['dP'] = dp"
      ],
      "execution_count": 57,
      "outputs": []
    },
    {
      "cell_type": "code",
      "metadata": {
        "id": "waTQU15PHDOz",
        "colab_type": "code",
        "colab": {
          "base_uri": "https://localhost:8080/",
          "height": 204
        },
        "outputId": "9deead2d-a2e6-414e-f57b-f8e36a6e89ce"
      },
      "source": [
        "df.head()"
      ],
      "execution_count": 59,
      "outputs": [
        {
          "output_type": "execute_result",
          "data": {
            "text/html": [
              "<div>\n",
              "<style scoped>\n",
              "    .dataframe tbody tr th:only-of-type {\n",
              "        vertical-align: middle;\n",
              "    }\n",
              "\n",
              "    .dataframe tbody tr th {\n",
              "        vertical-align: top;\n",
              "    }\n",
              "\n",
              "    .dataframe thead th {\n",
              "        text-align: right;\n",
              "    }\n",
              "</style>\n",
              "<table border=\"1\" class=\"dataframe\">\n",
              "  <thead>\n",
              "    <tr style=\"text-align: right;\">\n",
              "      <th></th>\n",
              "      <th>t</th>\n",
              "      <th>Pwf</th>\n",
              "      <th>delP</th>\n",
              "      <th>dt</th>\n",
              "      <th>dP</th>\n",
              "    </tr>\n",
              "  </thead>\n",
              "  <tbody>\n",
              "    <tr>\n",
              "      <th>0</th>\n",
              "      <td>0.00</td>\n",
              "      <td>4412</td>\n",
              "      <td>0</td>\n",
              "      <td>0.00</td>\n",
              "      <td>0</td>\n",
              "    </tr>\n",
              "    <tr>\n",
              "      <th>1</th>\n",
              "      <td>1.60</td>\n",
              "      <td>3812</td>\n",
              "      <td>600</td>\n",
              "      <td>1.60</td>\n",
              "      <td>600</td>\n",
              "    </tr>\n",
              "    <tr>\n",
              "      <th>2</th>\n",
              "      <td>1.94</td>\n",
              "      <td>3699</td>\n",
              "      <td>713</td>\n",
              "      <td>0.34</td>\n",
              "      <td>113</td>\n",
              "    </tr>\n",
              "    <tr>\n",
              "      <th>3</th>\n",
              "      <td>2.79</td>\n",
              "      <td>3653</td>\n",
              "      <td>759</td>\n",
              "      <td>0.85</td>\n",
              "      <td>46</td>\n",
              "    </tr>\n",
              "    <tr>\n",
              "      <th>4</th>\n",
              "      <td>4.01</td>\n",
              "      <td>3636</td>\n",
              "      <td>776</td>\n",
              "      <td>1.22</td>\n",
              "      <td>17</td>\n",
              "    </tr>\n",
              "  </tbody>\n",
              "</table>\n",
              "</div>"
            ],
            "text/plain": [
              "      t   Pwf  delP    dt   dP\n",
              "0  0.00  4412     0  0.00    0\n",
              "1  1.60  3812   600  1.60  600\n",
              "2  1.94  3699   713  0.34  113\n",
              "3  2.79  3653   759  0.85   46\n",
              "4  4.01  3636   776  1.22   17"
            ]
          },
          "metadata": {
            "tags": []
          },
          "execution_count": 59
        }
      ]
    },
    {
      "cell_type": "code",
      "metadata": {
        "id": "xdhu0QuzIoMN",
        "colab_type": "code",
        "colab": {}
      },
      "source": [
        "P_dash = (df['t'][1:])*(df['dP'][1:])/df['dt'][1:]"
      ],
      "execution_count": 61,
      "outputs": []
    },
    {
      "cell_type": "code",
      "metadata": {
        "id": "gHXtUjSXJKTk",
        "colab_type": "code",
        "colab": {}
      },
      "source": [
        "P_dash\n",
        "\n",
        "P_del = df['delP'][1:]"
      ],
      "execution_count": 68,
      "outputs": []
    },
    {
      "cell_type": "code",
      "metadata": {
        "id": "Eh-dh8IqJRwJ",
        "colab_type": "code",
        "colab": {
          "base_uri": "https://localhost:8080/",
          "height": 492
        },
        "outputId": "a29d6d30-5098-4cac-a01f-dde7e219cb10"
      },
      "source": [
        "plt.style.use('default')\n",
        "\n",
        "plt.figure(figsize=(10,5))\n",
        "\n",
        "plt.loglog(df['t'][1:], P_dash,linestyle='--', marker='o', color='b',label='Derivative Plot')\n",
        "\n",
        "plt.loglog(df['t'][1:], P_del,linestyle='--', marker='o', color='r',label='Drawdown')\n",
        "\n",
        "plt.title('Log-Log Plot (diagnostic Plot)')\n",
        "\n",
        "plt.xlabel('Time, hrs')\n",
        "plt.ylabel(\"delP and (delP)'\")\n",
        "\n",
        "plt.legend(loc='best')\n",
        "plt.grid()"
      ],
      "execution_count": 72,
      "outputs": [
        {
          "output_type": "display_data",
          "data": {
            "image/png": "[encoded data removed]",
            "text/plain": [
              "<Figure size 1000x500 with 1 Axes>"
            ]
          },
          "metadata": {
            "tags": []
          }
        }
      ]
    },
    {
      "cell_type": "code",
      "metadata": {
        "id": "uIO1uB5xJkHb",
        "colab_type": "code",
        "colab": {}
      },
      "source": [
        "#We can clearly see that the IARF Exists for roughly around t=10 to t = 100 hours"
      ],
      "execution_count": 73,
      "outputs": []
    },
    {
      "cell_type": "code",
      "metadata": {
        "id": "NHjCPhFRL1Tg",
        "colab_type": "code",
        "colab": {}
      },
      "source": [
        "df_IARF = df[(df['t']>=10) & (df['t']<=100)]"
      ],
      "execution_count": 74,
      "outputs": []
    },
    {
      "cell_type": "code",
      "metadata": {
        "id": "9Ecb-p9KMC_C",
        "colab_type": "code",
        "colab": {
          "base_uri": "https://localhost:8080/",
          "height": 390
        },
        "outputId": "4733d271-23cf-4a3a-b968-971e1cb03544"
      },
      "source": [
        "df_IARF"
      ],
      "execution_count": 75,
      "outputs": [
        {
          "output_type": "execute_result",
          "data": {
            "text/html": [
              "<div>\n",
              "<style scoped>\n",
              "    .dataframe tbody tr th:only-of-type {\n",
              "        vertical-align: middle;\n",
              "    }\n",
              "\n",
              "    .dataframe tbody tr th {\n",
              "        vertical-align: top;\n",
              "    }\n",
              "\n",
              "    .dataframe thead th {\n",
              "        text-align: right;\n",
              "    }\n",
              "</style>\n",
              "<table border=\"1\" class=\"dataframe\">\n",
              "  <thead>\n",
              "    <tr style=\"text-align: right;\">\n",
              "      <th></th>\n",
              "      <th>t</th>\n",
              "      <th>Pwf</th>\n",
              "      <th>delP</th>\n",
              "      <th>dt</th>\n",
              "      <th>dP</th>\n",
              "    </tr>\n",
              "  </thead>\n",
              "  <tbody>\n",
              "    <tr>\n",
              "      <th>10</th>\n",
              "      <td>14.4</td>\n",
              "      <td>3573</td>\n",
              "      <td>839</td>\n",
              "      <td>4.41</td>\n",
              "      <td>13</td>\n",
              "    </tr>\n",
              "    <tr>\n",
              "      <th>11</th>\n",
              "      <td>17.3</td>\n",
              "      <td>3567</td>\n",
              "      <td>845</td>\n",
              "      <td>2.90</td>\n",
              "      <td>6</td>\n",
              "    </tr>\n",
              "    <tr>\n",
              "      <th>12</th>\n",
              "      <td>20.7</td>\n",
              "      <td>3561</td>\n",
              "      <td>851</td>\n",
              "      <td>3.40</td>\n",
              "      <td>6</td>\n",
              "    </tr>\n",
              "    <tr>\n",
              "      <th>13</th>\n",
              "      <td>24.9</td>\n",
              "      <td>3555</td>\n",
              "      <td>857</td>\n",
              "      <td>4.20</td>\n",
              "      <td>6</td>\n",
              "    </tr>\n",
              "    <tr>\n",
              "      <th>14</th>\n",
              "      <td>29.8</td>\n",
              "      <td>3549</td>\n",
              "      <td>863</td>\n",
              "      <td>4.90</td>\n",
              "      <td>6</td>\n",
              "    </tr>\n",
              "    <tr>\n",
              "      <th>15</th>\n",
              "      <td>35.8</td>\n",
              "      <td>3544</td>\n",
              "      <td>868</td>\n",
              "      <td>6.00</td>\n",
              "      <td>5</td>\n",
              "    </tr>\n",
              "    <tr>\n",
              "      <th>16</th>\n",
              "      <td>43.0</td>\n",
              "      <td>3537</td>\n",
              "      <td>875</td>\n",
              "      <td>7.20</td>\n",
              "      <td>7</td>\n",
              "    </tr>\n",
              "    <tr>\n",
              "      <th>17</th>\n",
              "      <td>51.5</td>\n",
              "      <td>3532</td>\n",
              "      <td>880</td>\n",
              "      <td>8.50</td>\n",
              "      <td>5</td>\n",
              "    </tr>\n",
              "    <tr>\n",
              "      <th>18</th>\n",
              "      <td>61.8</td>\n",
              "      <td>3526</td>\n",
              "      <td>886</td>\n",
              "      <td>10.30</td>\n",
              "      <td>6</td>\n",
              "    </tr>\n",
              "    <tr>\n",
              "      <th>19</th>\n",
              "      <td>74.2</td>\n",
              "      <td>3521</td>\n",
              "      <td>891</td>\n",
              "      <td>12.40</td>\n",
              "      <td>5</td>\n",
              "    </tr>\n",
              "    <tr>\n",
              "      <th>20</th>\n",
              "      <td>89.1</td>\n",
              "      <td>3515</td>\n",
              "      <td>897</td>\n",
              "      <td>14.90</td>\n",
              "      <td>6</td>\n",
              "    </tr>\n",
              "  </tbody>\n",
              "</table>\n",
              "</div>"
            ],
            "text/plain": [
              "       t   Pwf  delP     dt  dP\n",
              "10  14.4  3573   839   4.41  13\n",
              "11  17.3  3567   845   2.90   6\n",
              "12  20.7  3561   851   3.40   6\n",
              "13  24.9  3555   857   4.20   6\n",
              "14  29.8  3549   863   4.90   6\n",
              "15  35.8  3544   868   6.00   5\n",
              "16  43.0  3537   875   7.20   7\n",
              "17  51.5  3532   880   8.50   5\n",
              "18  61.8  3526   886  10.30   6\n",
              "19  74.2  3521   891  12.40   5\n",
              "20  89.1  3515   897  14.90   6"
            ]
          },
          "metadata": {
            "tags": []
          },
          "execution_count": 75
        }
      ]
    },
    {
      "cell_type": "code",
      "metadata": {
        "id": "7QwP_CGRMEu4",
        "colab_type": "code",
        "colab": {
          "base_uri": "https://localhost:8080/",
          "height": 119
        },
        "outputId": "d16752e0-cc44-436a-843e-0eeab346e099"
      },
      "source": [
        "#Lets Plot a Semilog Plot for this data now. \n",
        "\n",
        "\n",
        "df_IARF['logt'] = np.log10(df_IARF['t'])"
      ],
      "execution_count": 77,
      "outputs": [
        {
          "output_type": "stream",
          "text": [
            "/usr/local/lib/python3.6/dist-packages/ipykernel_launcher.py:4: SettingWithCopyWarning: \n",
            "A value is trying to be set on a copy of a slice from a DataFrame.\n",
            "Try using .loc[row_indexer,col_indexer] = value instead\n",
            "\n",
            "See the caveats in the documentation: https://pandas.pydata.org/pandas-docs/stable/user_guide/indexing.html#returning-a-view-versus-a-copy\n",
            "  after removing the cwd from sys.path.\n"
          ],
          "name": "stderr"
        }
      ]
    },
    {
      "cell_type": "code",
      "metadata": {
        "id": "vvO28SiAMdZd",
        "colab_type": "code",
        "colab": {
          "base_uri": "https://localhost:8080/",
          "height": 390
        },
        "outputId": "3ac8f944-8344-43a6-fbe2-fea48c9388b4"
      },
      "source": [
        "df_IARF"
      ],
      "execution_count": 78,
      "outputs": [
        {
          "output_type": "execute_result",
          "data": {
            "text/html": [
              "<div>\n",
              "<style scoped>\n",
              "    .dataframe tbody tr th:only-of-type {\n",
              "        vertical-align: middle;\n",
              "    }\n",
              "\n",
              "    .dataframe tbody tr th {\n",
              "        vertical-align: top;\n",
              "    }\n",
              "\n",
              "    .dataframe thead th {\n",
              "        text-align: right;\n",
              "    }\n",
              "</style>\n",
              "<table border=\"1\" class=\"dataframe\">\n",
              "  <thead>\n",
              "    <tr style=\"text-align: right;\">\n",
              "      <th></th>\n",
              "      <th>t</th>\n",
              "      <th>Pwf</th>\n",
              "      <th>delP</th>\n",
              "      <th>dt</th>\n",
              "      <th>dP</th>\n",
              "      <th>logt</th>\n",
              "    </tr>\n",
              "  </thead>\n",
              "  <tbody>\n",
              "    <tr>\n",
              "      <th>10</th>\n",
              "      <td>14.4</td>\n",
              "      <td>3573</td>\n",
              "      <td>839</td>\n",
              "      <td>4.41</td>\n",
              "      <td>13</td>\n",
              "      <td>1.158362</td>\n",
              "    </tr>\n",
              "    <tr>\n",
              "      <th>11</th>\n",
              "      <td>17.3</td>\n",
              "      <td>3567</td>\n",
              "      <td>845</td>\n",
              "      <td>2.90</td>\n",
              "      <td>6</td>\n",
              "      <td>1.238046</td>\n",
              "    </tr>\n",
              "    <tr>\n",
              "      <th>12</th>\n",
              "      <td>20.7</td>\n",
              "      <td>3561</td>\n",
              "      <td>851</td>\n",
              "      <td>3.40</td>\n",
              "      <td>6</td>\n",
              "      <td>1.315970</td>\n",
              "    </tr>\n",
              "    <tr>\n",
              "      <th>13</th>\n",
              "      <td>24.9</td>\n",
              "      <td>3555</td>\n",
              "      <td>857</td>\n",
              "      <td>4.20</td>\n",
              "      <td>6</td>\n",
              "      <td>1.396199</td>\n",
              "    </tr>\n",
              "    <tr>\n",
              "      <th>14</th>\n",
              "      <td>29.8</td>\n",
              "      <td>3549</td>\n",
              "      <td>863</td>\n",
              "      <td>4.90</td>\n",
              "      <td>6</td>\n",
              "      <td>1.474216</td>\n",
              "    </tr>\n",
              "    <tr>\n",
              "      <th>15</th>\n",
              "      <td>35.8</td>\n",
              "      <td>3544</td>\n",
              "      <td>868</td>\n",
              "      <td>6.00</td>\n",
              "      <td>5</td>\n",
              "      <td>1.553883</td>\n",
              "    </tr>\n",
              "    <tr>\n",
              "      <th>16</th>\n",
              "      <td>43.0</td>\n",
              "      <td>3537</td>\n",
              "      <td>875</td>\n",
              "      <td>7.20</td>\n",
              "      <td>7</td>\n",
              "      <td>1.633468</td>\n",
              "    </tr>\n",
              "    <tr>\n",
              "      <th>17</th>\n",
              "      <td>51.5</td>\n",
              "      <td>3532</td>\n",
              "      <td>880</td>\n",
              "      <td>8.50</td>\n",
              "      <td>5</td>\n",
              "      <td>1.711807</td>\n",
              "    </tr>\n",
              "    <tr>\n",
              "      <th>18</th>\n",
              "      <td>61.8</td>\n",
              "      <td>3526</td>\n",
              "      <td>886</td>\n",
              "      <td>10.30</td>\n",
              "      <td>6</td>\n",
              "      <td>1.790988</td>\n",
              "    </tr>\n",
              "    <tr>\n",
              "      <th>19</th>\n",
              "      <td>74.2</td>\n",
              "      <td>3521</td>\n",
              "      <td>891</td>\n",
              "      <td>12.40</td>\n",
              "      <td>5</td>\n",
              "      <td>1.870404</td>\n",
              "    </tr>\n",
              "    <tr>\n",
              "      <th>20</th>\n",
              "      <td>89.1</td>\n",
              "      <td>3515</td>\n",
              "      <td>897</td>\n",
              "      <td>14.90</td>\n",
              "      <td>6</td>\n",
              "      <td>1.949878</td>\n",
              "    </tr>\n",
              "  </tbody>\n",
              "</table>\n",
              "</div>"
            ],
            "text/plain": [
              "       t   Pwf  delP     dt  dP      logt\n",
              "10  14.4  3573   839   4.41  13  1.158362\n",
              "11  17.3  3567   845   2.90   6  1.238046\n",
              "12  20.7  3561   851   3.40   6  1.315970\n",
              "13  24.9  3555   857   4.20   6  1.396199\n",
              "14  29.8  3549   863   4.90   6  1.474216\n",
              "15  35.8  3544   868   6.00   5  1.553883\n",
              "16  43.0  3537   875   7.20   7  1.633468\n",
              "17  51.5  3532   880   8.50   5  1.711807\n",
              "18  61.8  3526   886  10.30   6  1.790988\n",
              "19  74.2  3521   891  12.40   5  1.870404\n",
              "20  89.1  3515   897  14.90   6  1.949878"
            ]
          },
          "metadata": {
            "tags": []
          },
          "execution_count": 78
        }
      ]
    },
    {
      "cell_type": "code",
      "metadata": {
        "id": "AcUQZtaZMi4S",
        "colab_type": "code",
        "colab": {
          "base_uri": "https://localhost:8080/",
          "height": 472
        },
        "outputId": "3f71aa75-79d8-42b0-fdbe-fa59c8ec3a28"
      },
      "source": [
        "plt.plot(df_IARF['logt'],df_IARF['Pwf'],label='Almost a Perfect Straight line')\n",
        "\n",
        "plt.title('Semi-Log (Conventional Plot) for IARF')\n",
        "\n",
        "plt.xlabel('Time, hrs')\n",
        "plt.ylabel(\"Pwf, Psia\")\n",
        "\n",
        "plt.legend(loc='best')\n",
        "plt.grid()\n",
        "\n"
      ],
      "execution_count": 82,
      "outputs": [
        {
          "output_type": "display_data",
          "data": {
            "image/png": "[encoded data removed]",
            "text/plain": [
              "<Figure size 640x480 with 1 Axes>"
            ]
          },
          "metadata": {
            "tags": []
          }
        }
      ]
    },
    {
      "cell_type": "code",
      "metadata": {
        "id": "nfkujU_pMtHN",
        "colab_type": "code",
        "colab": {}
      },
      "source": [
        "# The slope of this straight line is - m = -162.6*q*mu*B/K/h hence we can find the Permeability. \n",
        "\n",
        "coeffs = np.polyfit(df_IARF['logt'],df_IARF['Pwf'],1)"
      ],
      "execution_count": 83,
      "outputs": []
    },
    {
      "cell_type": "code",
      "metadata": {
        "id": "5E9YySPpOAMd",
        "colab_type": "code",
        "colab": {}
      },
      "source": [
        "m = coeffs[0]"
      ],
      "execution_count": 89,
      "outputs": []
    },
    {
      "cell_type": "code",
      "metadata": {
        "id": "NoLvRWFiOIL_",
        "colab_type": "code",
        "colab": {}
      },
      "source": [
        "k = abs(162.6*q*mu*B/m/h)"
      ],
      "execution_count": 92,
      "outputs": []
    },
    {
      "cell_type": "code",
      "metadata": {
        "id": "saqkS_3vOKOk",
        "colab_type": "code",
        "colab": {
          "base_uri": "https://localhost:8080/",
          "height": 34
        },
        "outputId": "13f0b765-57a5-4370-c567-7a49e20cda12"
      },
      "source": [
        "#Conclusion\n",
        "\n",
        "print(f'--> Hence the Natural Absolute Permeability of the reservoir is: {k} mD.')"
      ],
      "execution_count": 93,
      "outputs": [
        {
          "output_type": "stream",
          "text": [
            "--> Hence the Natural Absolute Permeability of the reservoir is: 7.314556876770051 mD.\n"
          ],
          "name": "stdout"
        }
      ]
    },
    {
      "cell_type": "code",
      "metadata": {
        "id": "ykp7g0RfOOcY",
        "colab_type": "code",
        "colab": {}
      },
      "source": [
        ""
      ],
      "execution_count": null,
      "outputs": []
    }
  ]
}