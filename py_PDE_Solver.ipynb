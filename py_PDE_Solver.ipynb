{
  "nbformat": 4,
  "nbformat_minor": 0,
  "metadata": {
    "colab": {
      "name": "py_PDE_Solver.ipynb",
      "provenance": [],
      "collapsed_sections": [],
      "authorship_tag": "ABX9TyPh19AFl1NRWozBTYNI+WuT",
      "include_colab_link": true
    },
    "kernelspec": {
      "name": "python3",
      "display_name": "Python 3"
    },
    "widgets": {
      "application/vnd.jupyter.widget-state+json": {
        "315e6fd9b6ef4bde9e06400aa5df4e52": {
          "model_module": "@jupyter-widgets/controls",
          "model_name": "HBoxModel",
          "state": {
            "_view_name": "HBoxView",
            "_dom_classes": [],
            "_model_name": "HBoxModel",
            "_view_module": "@jupyter-widgets/controls",
            "_model_module_version": "1.5.0",
            "_view_count": null,
            "_view_module_version": "1.5.0",
            "box_style": "",
            "layout": "IPY_MODEL_324b6f8230fe4cd2afe7dc53e1f8cac4",
            "_model_module": "@jupyter-widgets/controls",
            "children": [
              "IPY_MODEL_735d1884d5ea4ecc94e493b25e2a6b1e",
              "IPY_MODEL_c7fe4f432729425599af51fb9db5b128"
            ]
          }
        },
        "324b6f8230fe4cd2afe7dc53e1f8cac4": {
          "model_module": "@jupyter-widgets/base",
          "model_name": "LayoutModel",
          "state": {
            "_view_name": "LayoutView",
            "grid_template_rows": null,
            "right": null,
            "justify_content": null,
            "_view_module": "@jupyter-widgets/base",
            "overflow": null,
            "_model_module_version": "1.2.0",
            "_view_count": null,
            "flex_flow": null,
            "width": null,
            "min_width": null,
            "border": null,
            "align_items": null,
            "bottom": null,
            "_model_module": "@jupyter-widgets/base",
            "top": null,
            "grid_column": null,
            "overflow_y": null,
            "overflow_x": null,
            "grid_auto_flow": null,
            "grid_area": null,
            "grid_template_columns": null,
            "flex": null,
            "_model_name": "LayoutModel",
            "justify_items": null,
            "grid_row": null,
            "max_height": null,
            "align_content": null,
            "visibility": null,
            "align_self": null,
            "height": null,
            "min_height": null,
            "padding": null,
            "grid_auto_rows": null,
            "grid_gap": null,
            "max_width": null,
            "order": null,
            "_view_module_version": "1.2.0",
            "grid_template_areas": null,
            "object_position": null,
            "object_fit": null,
            "grid_auto_columns": null,
            "margin": null,
            "display": null,
            "left": null
          }
        },
        "735d1884d5ea4ecc94e493b25e2a6b1e": {
          "model_module": "@jupyter-widgets/controls",
          "model_name": "FloatProgressModel",
          "state": {
            "_view_name": "ProgressView",
            "style": "IPY_MODEL_38f68fa3b66a4724ada152ff38e18586",
            "_dom_classes": [],
            "description": "100%",
            "_model_name": "FloatProgressModel",
            "bar_style": "success",
            "max": 10,
            "_view_module": "@jupyter-widgets/controls",
            "_model_module_version": "1.5.0",
            "value": 10,
            "_view_count": null,
            "_view_module_version": "1.5.0",
            "orientation": "horizontal",
            "min": 0,
            "description_tooltip": null,
            "_model_module": "@jupyter-widgets/controls",
            "layout": "IPY_MODEL_15e15d8091a443048f6b60d73c368a5d"
          }
        },
        "c7fe4f432729425599af51fb9db5b128": {
          "model_module": "@jupyter-widgets/controls",
          "model_name": "HTMLModel",
          "state": {
            "_view_name": "HTMLView",
            "style": "IPY_MODEL_935bfb1c94ae486c89cd67baad0df015",
            "_dom_classes": [],
            "description": "",
            "_model_name": "HTMLModel",
            "placeholder": "​",
            "_view_module": "@jupyter-widgets/controls",
            "_model_module_version": "1.5.0",
            "value": " 10.0/10.0 [00:02&lt;00:00,  4.17it/s]",
            "_view_count": null,
            "_view_module_version": "1.5.0",
            "description_tooltip": null,
            "_model_module": "@jupyter-widgets/controls",
            "layout": "IPY_MODEL_b0f273df7e4848758e4b32f5b779b2ad"
          }
        },
        "38f68fa3b66a4724ada152ff38e18586": {
          "model_module": "@jupyter-widgets/controls",
          "model_name": "ProgressStyleModel",
          "state": {
            "_view_name": "StyleView",
            "_model_name": "ProgressStyleModel",
            "description_width": "initial",
            "_view_module": "@jupyter-widgets/base",
            "_model_module_version": "1.5.0",
            "_view_count": null,
            "_view_module_version": "1.2.0",
            "bar_color": null,
            "_model_module": "@jupyter-widgets/controls"
          }
        },
        "15e15d8091a443048f6b60d73c368a5d": {
          "model_module": "@jupyter-widgets/base",
          "model_name": "LayoutModel",
          "state": {
            "_view_name": "LayoutView",
            "grid_template_rows": null,
            "right": null,
            "justify_content": null,
            "_view_module": "@jupyter-widgets/base",
            "overflow": null,
            "_model_module_version": "1.2.0",
            "_view_count": null,
            "flex_flow": null,
            "width": null,
            "min_width": null,
            "border": null,
            "align_items": null,
            "bottom": null,
            "_model_module": "@jupyter-widgets/base",
            "top": null,
            "grid_column": null,
            "overflow_y": null,
            "overflow_x": null,
            "grid_auto_flow": null,
            "grid_area": null,
            "grid_template_columns": null,
            "flex": null,
            "_model_name": "LayoutModel",
            "justify_items": null,
            "grid_row": null,
            "max_height": null,
            "align_content": null,
            "visibility": null,
            "align_self": null,
            "height": null,
            "min_height": null,
            "padding": null,
            "grid_auto_rows": null,
            "grid_gap": null,
            "max_width": null,
            "order": null,
            "_view_module_version": "1.2.0",
            "grid_template_areas": null,
            "object_position": null,
            "object_fit": null,
            "grid_auto_columns": null,
            "margin": null,
            "display": null,
            "left": null
          }
        },
        "935bfb1c94ae486c89cd67baad0df015": {
          "model_module": "@jupyter-widgets/controls",
          "model_name": "DescriptionStyleModel",
          "state": {
            "_view_name": "StyleView",
            "_model_name": "DescriptionStyleModel",
            "description_width": "",
            "_view_module": "@jupyter-widgets/base",
            "_model_module_version": "1.5.0",
            "_view_count": null,
            "_view_module_version": "1.2.0",
            "_model_module": "@jupyter-widgets/controls"
          }
        },
        "b0f273df7e4848758e4b32f5b779b2ad": {
          "model_module": "@jupyter-widgets/base",
          "model_name": "LayoutModel",
          "state": {
            "_view_name": "LayoutView",
            "grid_template_rows": null,
            "right": null,
            "justify_content": null,
            "_view_module": "@jupyter-widgets/base",
            "overflow": null,
            "_model_module_version": "1.2.0",
            "_view_count": null,
            "flex_flow": null,
            "width": null,
            "min_width": null,
            "border": null,
            "align_items": null,
            "bottom": null,
            "_model_module": "@jupyter-widgets/base",
            "top": null,
            "grid_column": null,
            "overflow_y": null,
            "overflow_x": null,
            "grid_auto_flow": null,
            "grid_area": null,
            "grid_template_columns": null,
            "flex": null,
            "_model_name": "LayoutModel",
            "justify_items": null,
            "grid_row": null,
            "max_height": null,
            "align_content": null,
            "visibility": null,
            "align_self": null,
            "height": null,
            "min_height": null,
            "padding": null,
            "grid_auto_rows": null,
            "grid_gap": null,
            "max_width": null,
            "order": null,
            "_view_module_version": "1.2.0",
            "grid_template_areas": null,
            "object_position": null,
            "object_fit": null,
            "grid_auto_columns": null,
            "margin": null,
            "display": null,
            "left": null
          }
        },
        "bcc9fca0317a4464bcc5b1d553bbe373": {
          "model_module": "@jupyter-widgets/controls",
          "model_name": "HBoxModel",
          "state": {
            "_view_name": "HBoxView",
            "_dom_classes": [],
            "_model_name": "HBoxModel",
            "_view_module": "@jupyter-widgets/controls",
            "_model_module_version": "1.5.0",
            "_view_count": null,
            "_view_module_version": "1.5.0",
            "box_style": "",
            "layout": "IPY_MODEL_526c08dd92414fad9dd12535ebbdf3ea",
            "_model_module": "@jupyter-widgets/controls",
            "children": [
              "IPY_MODEL_9f073f54722b4a87a31022de1e2ae1c2",
              "IPY_MODEL_fecc9fbd80014704b9e4d59866c1b01a"
            ]
          }
        },
        "526c08dd92414fad9dd12535ebbdf3ea": {
          "model_module": "@jupyter-widgets/base",
          "model_name": "LayoutModel",
          "state": {
            "_view_name": "LayoutView",
            "grid_template_rows": null,
            "right": null,
            "justify_content": null,
            "_view_module": "@jupyter-widgets/base",
            "overflow": null,
            "_model_module_version": "1.2.0",
            "_view_count": null,
            "flex_flow": null,
            "width": null,
            "min_width": null,
            "border": null,
            "align_items": null,
            "bottom": null,
            "_model_module": "@jupyter-widgets/base",
            "top": null,
            "grid_column": null,
            "overflow_y": null,
            "overflow_x": null,
            "grid_auto_flow": null,
            "grid_area": null,
            "grid_template_columns": null,
            "flex": null,
            "_model_name": "LayoutModel",
            "justify_items": null,
            "grid_row": null,
            "max_height": null,
            "align_content": null,
            "visibility": null,
            "align_self": null,
            "height": null,
            "min_height": null,
            "padding": null,
            "grid_auto_rows": null,
            "grid_gap": null,
            "max_width": null,
            "order": null,
            "_view_module_version": "1.2.0",
            "grid_template_areas": null,
            "object_position": null,
            "object_fit": null,
            "grid_auto_columns": null,
            "margin": null,
            "display": null,
            "left": null
          }
        },
        "9f073f54722b4a87a31022de1e2ae1c2": {
          "model_module": "@jupyter-widgets/controls",
          "model_name": "FloatProgressModel",
          "state": {
            "_view_name": "ProgressView",
            "style": "IPY_MODEL_8d0e12721a7d479db04181ab58bb40e5",
            "_dom_classes": [],
            "description": "100%",
            "_model_name": "FloatProgressModel",
            "bar_style": "success",
            "max": 10,
            "_view_module": "@jupyter-widgets/controls",
            "_model_module_version": "1.5.0",
            "value": 10,
            "_view_count": null,
            "_view_module_version": "1.5.0",
            "orientation": "horizontal",
            "min": 0,
            "description_tooltip": null,
            "_model_module": "@jupyter-widgets/controls",
            "layout": "IPY_MODEL_939fa5d3e7b9449783ae17c5ea221cbb"
          }
        },
        "fecc9fbd80014704b9e4d59866c1b01a": {
          "model_module": "@jupyter-widgets/controls",
          "model_name": "HTMLModel",
          "state": {
            "_view_name": "HTMLView",
            "style": "IPY_MODEL_e35a248fce3b4d2baebd2275aa415ad9",
            "_dom_classes": [],
            "description": "",
            "_model_name": "HTMLModel",
            "placeholder": "​",
            "_view_module": "@jupyter-widgets/controls",
            "_model_module_version": "1.5.0",
            "value": " 10.0/10.0 [00:05&lt;00:00,  1.74it/s]",
            "_view_count": null,
            "_view_module_version": "1.5.0",
            "description_tooltip": null,
            "_model_module": "@jupyter-widgets/controls",
            "layout": "IPY_MODEL_d55a25bb7dd149e5858657a86fea165b"
          }
        },
        "8d0e12721a7d479db04181ab58bb40e5": {
          "model_module": "@jupyter-widgets/controls",
          "model_name": "ProgressStyleModel",
          "state": {
            "_view_name": "StyleView",
            "_model_name": "ProgressStyleModel",
            "description_width": "initial",
            "_view_module": "@jupyter-widgets/base",
            "_model_module_version": "1.5.0",
            "_view_count": null,
            "_view_module_version": "1.2.0",
            "bar_color": null,
            "_model_module": "@jupyter-widgets/controls"
          }
        },
        "939fa5d3e7b9449783ae17c5ea221cbb": {
          "model_module": "@jupyter-widgets/base",
          "model_name": "LayoutModel",
          "state": {
            "_view_name": "LayoutView",
            "grid_template_rows": null,
            "right": null,
            "justify_content": null,
            "_view_module": "@jupyter-widgets/base",
            "overflow": null,
            "_model_module_version": "1.2.0",
            "_view_count": null,
            "flex_flow": null,
            "width": null,
            "min_width": null,
            "border": null,
            "align_items": null,
            "bottom": null,
            "_model_module": "@jupyter-widgets/base",
            "top": null,
            "grid_column": null,
            "overflow_y": null,
            "overflow_x": null,
            "grid_auto_flow": null,
            "grid_area": null,
            "grid_template_columns": null,
            "flex": null,
            "_model_name": "LayoutModel",
            "justify_items": null,
            "grid_row": null,
            "max_height": null,
            "align_content": null,
            "visibility": null,
            "align_self": null,
            "height": null,
            "min_height": null,
            "padding": null,
            "grid_auto_rows": null,
            "grid_gap": null,
            "max_width": null,
            "order": null,
            "_view_module_version": "1.2.0",
            "grid_template_areas": null,
            "object_position": null,
            "object_fit": null,
            "grid_auto_columns": null,
            "margin": null,
            "display": null,
            "left": null
          }
        },
        "e35a248fce3b4d2baebd2275aa415ad9": {
          "model_module": "@jupyter-widgets/controls",
          "model_name": "DescriptionStyleModel",
          "state": {
            "_view_name": "StyleView",
            "_model_name": "DescriptionStyleModel",
            "description_width": "",
            "_view_module": "@jupyter-widgets/base",
            "_model_module_version": "1.5.0",
            "_view_count": null,
            "_view_module_version": "1.2.0",
            "_model_module": "@jupyter-widgets/controls"
          }
        },
        "d55a25bb7dd149e5858657a86fea165b": {
          "model_module": "@jupyter-widgets/base",
          "model_name": "LayoutModel",
          "state": {
            "_view_name": "LayoutView",
            "grid_template_rows": null,
            "right": null,
            "justify_content": null,
            "_view_module": "@jupyter-widgets/base",
            "overflow": null,
            "_model_module_version": "1.2.0",
            "_view_count": null,
            "flex_flow": null,
            "width": null,
            "min_width": null,
            "border": null,
            "align_items": null,
            "bottom": null,
            "_model_module": "@jupyter-widgets/base",
            "top": null,
            "grid_column": null,
            "overflow_y": null,
            "overflow_x": null,
            "grid_auto_flow": null,
            "grid_area": null,
            "grid_template_columns": null,
            "flex": null,
            "_model_name": "LayoutModel",
            "justify_items": null,
            "grid_row": null,
            "max_height": null,
            "align_content": null,
            "visibility": null,
            "align_self": null,
            "height": null,
            "min_height": null,
            "padding": null,
            "grid_auto_rows": null,
            "grid_gap": null,
            "max_width": null,
            "order": null,
            "_view_module_version": "1.2.0",
            "grid_template_areas": null,
            "object_position": null,
            "object_fit": null,
            "grid_auto_columns": null,
            "margin": null,
            "display": null,
            "left": null
          }
        },
        "369747c6c421431ea22f1edc025f8e24": {
          "model_module": "@jupyter-widgets/output",
          "model_name": "OutputModel",
          "state": {
            "_view_name": "OutputView",
            "msg_id": "",
            "_dom_classes": [],
            "_model_name": "OutputModel",
            "outputs": [
              {
                "output_type": "display_data",
                "metadata": {
                  "tags": []
                },
                "image/png": "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\n",
                "text/plain": "<Figure size 640x480 with 1 Axes>"
              }
            ],
            "_view_module": "@jupyter-widgets/output",
            "_model_module_version": "1.0.0",
            "_view_count": null,
            "_view_module_version": "1.0.0",
            "layout": "IPY_MODEL_41f80986cd1d4d17a0caf3c55f1e1216",
            "_model_module": "@jupyter-widgets/output"
          }
        },
        "41f80986cd1d4d17a0caf3c55f1e1216": {
          "model_module": "@jupyter-widgets/base",
          "model_name": "LayoutModel",
          "state": {
            "_view_name": "LayoutView",
            "grid_template_rows": null,
            "right": null,
            "justify_content": null,
            "_view_module": "@jupyter-widgets/base",
            "overflow": null,
            "_model_module_version": "1.2.0",
            "_view_count": null,
            "flex_flow": null,
            "width": null,
            "min_width": null,
            "border": null,
            "align_items": null,
            "bottom": null,
            "_model_module": "@jupyter-widgets/base",
            "top": null,
            "grid_column": null,
            "overflow_y": null,
            "overflow_x": null,
            "grid_auto_flow": null,
            "grid_area": null,
            "grid_template_columns": null,
            "flex": null,
            "_model_name": "LayoutModel",
            "justify_items": null,
            "grid_row": null,
            "max_height": null,
            "align_content": null,
            "visibility": null,
            "align_self": null,
            "height": null,
            "min_height": null,
            "padding": null,
            "grid_auto_rows": null,
            "grid_gap": null,
            "max_width": null,
            "order": null,
            "_view_module_version": "1.2.0",
            "grid_template_areas": null,
            "object_position": null,
            "object_fit": null,
            "grid_auto_columns": null,
            "margin": null,
            "display": null,
            "left": null
          }
        },
        "5bf13700383e4ca899bd1d588e2b424d": {
          "model_module": "@jupyter-widgets/controls",
          "model_name": "HBoxModel",
          "state": {
            "_view_name": "HBoxView",
            "_dom_classes": [],
            "_model_name": "HBoxModel",
            "_view_module": "@jupyter-widgets/controls",
            "_model_module_version": "1.5.0",
            "_view_count": null,
            "_view_module_version": "1.5.0",
            "box_style": "",
            "layout": "IPY_MODEL_507c05b669564825b6451dc644294781",
            "_model_module": "@jupyter-widgets/controls",
            "children": [
              "IPY_MODEL_a48ae9e3aed247d7bcc9df86657b3f9c",
              "IPY_MODEL_1582ba9e943f49c5977b67c983d1c387"
            ]
          }
        },
        "507c05b669564825b6451dc644294781": {
          "model_module": "@jupyter-widgets/base",
          "model_name": "LayoutModel",
          "state": {
            "_view_name": "LayoutView",
            "grid_template_rows": null,
            "right": null,
            "justify_content": null,
            "_view_module": "@jupyter-widgets/base",
            "overflow": null,
            "_model_module_version": "1.2.0",
            "_view_count": null,
            "flex_flow": null,
            "width": null,
            "min_width": null,
            "border": null,
            "align_items": null,
            "bottom": null,
            "_model_module": "@jupyter-widgets/base",
            "top": null,
            "grid_column": null,
            "overflow_y": null,
            "overflow_x": null,
            "grid_auto_flow": null,
            "grid_area": null,
            "grid_template_columns": null,
            "flex": null,
            "_model_name": "LayoutModel",
            "justify_items": null,
            "grid_row": null,
            "max_height": null,
            "align_content": null,
            "visibility": null,
            "align_self": null,
            "height": null,
            "min_height": null,
            "padding": null,
            "grid_auto_rows": null,
            "grid_gap": null,
            "max_width": null,
            "order": null,
            "_view_module_version": "1.2.0",
            "grid_template_areas": null,
            "object_position": null,
            "object_fit": null,
            "grid_auto_columns": null,
            "margin": null,
            "display": null,
            "left": null
          }
        },
        "a48ae9e3aed247d7bcc9df86657b3f9c": {
          "model_module": "@jupyter-widgets/controls",
          "model_name": "FloatProgressModel",
          "state": {
            "_view_name": "ProgressView",
            "style": "IPY_MODEL_ebddb2759e6242ccaa9e7a34ffdad57d",
            "_dom_classes": [],
            "description": "100%",
            "_model_name": "FloatProgressModel",
            "bar_style": "success",
            "max": 10,
            "_view_module": "@jupyter-widgets/controls",
            "_model_module_version": "1.5.0",
            "value": 10,
            "_view_count": null,
            "_view_module_version": "1.5.0",
            "orientation": "horizontal",
            "min": 0,
            "description_tooltip": null,
            "_model_module": "@jupyter-widgets/controls",
            "layout": "IPY_MODEL_545f95ae27474ac1806242c95627d6e0"
          }
        },
        "1582ba9e943f49c5977b67c983d1c387": {
          "model_module": "@jupyter-widgets/controls",
          "model_name": "HTMLModel",
          "state": {
            "_view_name": "HTMLView",
            "style": "IPY_MODEL_4ab6883689a64f03b43bb6178412694b",
            "_dom_classes": [],
            "description": "",
            "_model_name": "HTMLModel",
            "placeholder": "​",
            "_view_module": "@jupyter-widgets/controls",
            "_model_module_version": "1.5.0",
            "value": " 10.0/10.0 [00:02&lt;00:00,  3.60it/s]",
            "_view_count": null,
            "_view_module_version": "1.5.0",
            "description_tooltip": null,
            "_model_module": "@jupyter-widgets/controls",
            "layout": "IPY_MODEL_581f781216374a869f845e18f3e4a6f8"
          }
        },
        "ebddb2759e6242ccaa9e7a34ffdad57d": {
          "model_module": "@jupyter-widgets/controls",
          "model_name": "ProgressStyleModel",
          "state": {
            "_view_name": "StyleView",
            "_model_name": "ProgressStyleModel",
            "description_width": "initial",
            "_view_module": "@jupyter-widgets/base",
            "_model_module_version": "1.5.0",
            "_view_count": null,
            "_view_module_version": "1.2.0",
            "bar_color": null,
            "_model_module": "@jupyter-widgets/controls"
          }
        },
        "545f95ae27474ac1806242c95627d6e0": {
          "model_module": "@jupyter-widgets/base",
          "model_name": "LayoutModel",
          "state": {
            "_view_name": "LayoutView",
            "grid_template_rows": null,
            "right": null,
            "justify_content": null,
            "_view_module": "@jupyter-widgets/base",
            "overflow": null,
            "_model_module_version": "1.2.0",
            "_view_count": null,
            "flex_flow": null,
            "width": null,
            "min_width": null,
            "border": null,
            "align_items": null,
            "bottom": null,
            "_model_module": "@jupyter-widgets/base",
            "top": null,
            "grid_column": null,
            "overflow_y": null,
            "overflow_x": null,
            "grid_auto_flow": null,
            "grid_area": null,
            "grid_template_columns": null,
            "flex": null,
            "_model_name": "LayoutModel",
            "justify_items": null,
            "grid_row": null,
            "max_height": null,
            "align_content": null,
            "visibility": null,
            "align_self": null,
            "height": null,
            "min_height": null,
            "padding": null,
            "grid_auto_rows": null,
            "grid_gap": null,
            "max_width": null,
            "order": null,
            "_view_module_version": "1.2.0",
            "grid_template_areas": null,
            "object_position": null,
            "object_fit": null,
            "grid_auto_columns": null,
            "margin": null,
            "display": null,
            "left": null
          }
        },
        "4ab6883689a64f03b43bb6178412694b": {
          "model_module": "@jupyter-widgets/controls",
          "model_name": "DescriptionStyleModel",
          "state": {
            "_view_name": "StyleView",
            "_model_name": "DescriptionStyleModel",
            "description_width": "",
            "_view_module": "@jupyter-widgets/base",
            "_model_module_version": "1.5.0",
            "_view_count": null,
            "_view_module_version": "1.2.0",
            "_model_module": "@jupyter-widgets/controls"
          }
        },
        "581f781216374a869f845e18f3e4a6f8": {
          "model_module": "@jupyter-widgets/base",
          "model_name": "LayoutModel",
          "state": {
            "_view_name": "LayoutView",
            "grid_template_rows": null,
            "right": null,
            "justify_content": null,
            "_view_module": "@jupyter-widgets/base",
            "overflow": null,
            "_model_module_version": "1.2.0",
            "_view_count": null,
            "flex_flow": null,
            "width": null,
            "min_width": null,
            "border": null,
            "align_items": null,
            "bottom": null,
            "_model_module": "@jupyter-widgets/base",
            "top": null,
            "grid_column": null,
            "overflow_y": null,
            "overflow_x": null,
            "grid_auto_flow": null,
            "grid_area": null,
            "grid_template_columns": null,
            "flex": null,
            "_model_name": "LayoutModel",
            "justify_items": null,
            "grid_row": null,
            "max_height": null,
            "align_content": null,
            "visibility": null,
            "align_self": null,
            "height": null,
            "min_height": null,
            "padding": null,
            "grid_auto_rows": null,
            "grid_gap": null,
            "max_width": null,
            "order": null,
            "_view_module_version": "1.2.0",
            "grid_template_areas": null,
            "object_position": null,
            "object_fit": null,
            "grid_auto_columns": null,
            "margin": null,
            "display": null,
            "left": null
          }
        },
        "922a6a4484f54b61b401b10fc56422e5": {
          "model_module": "@jupyter-widgets/output",
          "model_name": "OutputModel",
          "state": {
            "_view_name": "OutputView",
            "msg_id": "",
            "_dom_classes": [],
            "_model_name": "OutputModel",
            "outputs": [
              {
                "output_type": "display_data",
                "metadata": {
                  "tags": []
                },
                "image/png": "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\n",
                "text/plain": "<Figure size 400x400 with 2 Axes>"
              }
            ],
            "_view_module": "@jupyter-widgets/output",
            "_model_module_version": "1.0.0",
            "_view_count": null,
            "_view_module_version": "1.0.0",
            "layout": "IPY_MODEL_bac4ba1bf92b4cd7aa0c76a8ab48b567",
            "_model_module": "@jupyter-widgets/output"
          }
        },
        "bac4ba1bf92b4cd7aa0c76a8ab48b567": {
          "model_module": "@jupyter-widgets/base",
          "model_name": "LayoutModel",
          "state": {
            "_view_name": "LayoutView",
            "grid_template_rows": null,
            "right": null,
            "justify_content": null,
            "_view_module": "@jupyter-widgets/base",
            "overflow": null,
            "_model_module_version": "1.2.0",
            "_view_count": null,
            "flex_flow": null,
            "width": null,
            "min_width": null,
            "border": null,
            "align_items": null,
            "bottom": null,
            "_model_module": "@jupyter-widgets/base",
            "top": null,
            "grid_column": null,
            "overflow_y": null,
            "overflow_x": null,
            "grid_auto_flow": null,
            "grid_area": null,
            "grid_template_columns": null,
            "flex": null,
            "_model_name": "LayoutModel",
            "justify_items": null,
            "grid_row": null,
            "max_height": null,
            "align_content": null,
            "visibility": null,
            "align_self": null,
            "height": null,
            "min_height": null,
            "padding": null,
            "grid_auto_rows": null,
            "grid_gap": null,
            "max_width": null,
            "order": null,
            "_view_module_version": "1.2.0",
            "grid_template_areas": null,
            "object_position": null,
            "object_fit": null,
            "grid_auto_columns": null,
            "margin": null,
            "display": null,
            "left": null
          }
        },
        "90ecce188190499d935dc60932c7fc63": {
          "model_module": "@jupyter-widgets/controls",
          "model_name": "HBoxModel",
          "state": {
            "_view_name": "HBoxView",
            "_dom_classes": [],
            "_model_name": "HBoxModel",
            "_view_module": "@jupyter-widgets/controls",
            "_model_module_version": "1.5.0",
            "_view_count": null,
            "_view_module_version": "1.5.0",
            "box_style": "",
            "layout": "IPY_MODEL_e48229355c7240b48bc1d3e4778b2527",
            "_model_module": "@jupyter-widgets/controls",
            "children": [
              "IPY_MODEL_9365a90db26f4d3aa6efc853fd31db1f",
              "IPY_MODEL_6537aaf82fb249fa9e52408202925990"
            ]
          }
        },
        "e48229355c7240b48bc1d3e4778b2527": {
          "model_module": "@jupyter-widgets/base",
          "model_name": "LayoutModel",
          "state": {
            "_view_name": "LayoutView",
            "grid_template_rows": null,
            "right": null,
            "justify_content": null,
            "_view_module": "@jupyter-widgets/base",
            "overflow": null,
            "_model_module_version": "1.2.0",
            "_view_count": null,
            "flex_flow": null,
            "width": null,
            "min_width": null,
            "border": null,
            "align_items": null,
            "bottom": null,
            "_model_module": "@jupyter-widgets/base",
            "top": null,
            "grid_column": null,
            "overflow_y": null,
            "overflow_x": null,
            "grid_auto_flow": null,
            "grid_area": null,
            "grid_template_columns": null,
            "flex": null,
            "_model_name": "LayoutModel",
            "justify_items": null,
            "grid_row": null,
            "max_height": null,
            "align_content": null,
            "visibility": null,
            "align_self": null,
            "height": null,
            "min_height": null,
            "padding": null,
            "grid_auto_rows": null,
            "grid_gap": null,
            "max_width": null,
            "order": null,
            "_view_module_version": "1.2.0",
            "grid_template_areas": null,
            "object_position": null,
            "object_fit": null,
            "grid_auto_columns": null,
            "margin": null,
            "display": null,
            "left": null
          }
        },
        "9365a90db26f4d3aa6efc853fd31db1f": {
          "model_module": "@jupyter-widgets/controls",
          "model_name": "FloatProgressModel",
          "state": {
            "_view_name": "ProgressView",
            "style": "IPY_MODEL_10fd0dbf217343e8bef2f9e2a37c5b53",
            "_dom_classes": [],
            "description": "100%",
            "_model_name": "FloatProgressModel",
            "bar_style": "success",
            "max": 3,
            "_view_module": "@jupyter-widgets/controls",
            "_model_module_version": "1.5.0",
            "value": 3,
            "_view_count": null,
            "_view_module_version": "1.5.0",
            "orientation": "horizontal",
            "min": 0,
            "description_tooltip": null,
            "_model_module": "@jupyter-widgets/controls",
            "layout": "IPY_MODEL_ab796b0cce294583b48db416e4bc2493"
          }
        },
        "6537aaf82fb249fa9e52408202925990": {
          "model_module": "@jupyter-widgets/controls",
          "model_name": "HTMLModel",
          "state": {
            "_view_name": "HTMLView",
            "style": "IPY_MODEL_647266755f464a1583591215bbd07782",
            "_dom_classes": [],
            "description": "",
            "_model_name": "HTMLModel",
            "placeholder": "​",
            "_view_module": "@jupyter-widgets/controls",
            "_model_module_version": "1.5.0",
            "value": " 3/3 [00:02&lt;00:00,  1.38it/s]",
            "_view_count": null,
            "_view_module_version": "1.5.0",
            "description_tooltip": null,
            "_model_module": "@jupyter-widgets/controls",
            "layout": "IPY_MODEL_10598d0fcd0d4000b0a88e21d43d8026"
          }
        },
        "10fd0dbf217343e8bef2f9e2a37c5b53": {
          "model_module": "@jupyter-widgets/controls",
          "model_name": "ProgressStyleModel",
          "state": {
            "_view_name": "StyleView",
            "_model_name": "ProgressStyleModel",
            "description_width": "initial",
            "_view_module": "@jupyter-widgets/base",
            "_model_module_version": "1.5.0",
            "_view_count": null,
            "_view_module_version": "1.2.0",
            "bar_color": null,
            "_model_module": "@jupyter-widgets/controls"
          }
        },
        "ab796b0cce294583b48db416e4bc2493": {
          "model_module": "@jupyter-widgets/base",
          "model_name": "LayoutModel",
          "state": {
            "_view_name": "LayoutView",
            "grid_template_rows": null,
            "right": null,
            "justify_content": null,
            "_view_module": "@jupyter-widgets/base",
            "overflow": null,
            "_model_module_version": "1.2.0",
            "_view_count": null,
            "flex_flow": null,
            "width": null,
            "min_width": null,
            "border": null,
            "align_items": null,
            "bottom": null,
            "_model_module": "@jupyter-widgets/base",
            "top": null,
            "grid_column": null,
            "overflow_y": null,
            "overflow_x": null,
            "grid_auto_flow": null,
            "grid_area": null,
            "grid_template_columns": null,
            "flex": null,
            "_model_name": "LayoutModel",
            "justify_items": null,
            "grid_row": null,
            "max_height": null,
            "align_content": null,
            "visibility": null,
            "align_self": null,
            "height": null,
            "min_height": null,
            "padding": null,
            "grid_auto_rows": null,
            "grid_gap": null,
            "max_width": null,
            "order": null,
            "_view_module_version": "1.2.0",
            "grid_template_areas": null,
            "object_position": null,
            "object_fit": null,
            "grid_auto_columns": null,
            "margin": null,
            "display": null,
            "left": null
          }
        },
        "647266755f464a1583591215bbd07782": {
          "model_module": "@jupyter-widgets/controls",
          "model_name": "DescriptionStyleModel",
          "state": {
            "_view_name": "StyleView",
            "_model_name": "DescriptionStyleModel",
            "description_width": "",
            "_view_module": "@jupyter-widgets/base",
            "_model_module_version": "1.5.0",
            "_view_count": null,
            "_view_module_version": "1.2.0",
            "_model_module": "@jupyter-widgets/controls"
          }
        },
        "10598d0fcd0d4000b0a88e21d43d8026": {
          "model_module": "@jupyter-widgets/base",
          "model_name": "LayoutModel",
          "state": {
            "_view_name": "LayoutView",
            "grid_template_rows": null,
            "right": null,
            "justify_content": null,
            "_view_module": "@jupyter-widgets/base",
            "overflow": null,
            "_model_module_version": "1.2.0",
            "_view_count": null,
            "flex_flow": null,
            "width": null,
            "min_width": null,
            "border": null,
            "align_items": null,
            "bottom": null,
            "_model_module": "@jupyter-widgets/base",
            "top": null,
            "grid_column": null,
            "overflow_y": null,
            "overflow_x": null,
            "grid_auto_flow": null,
            "grid_area": null,
            "grid_template_columns": null,
            "flex": null,
            "_model_name": "LayoutModel",
            "justify_items": null,
            "grid_row": null,
            "max_height": null,
            "align_content": null,
            "visibility": null,
            "align_self": null,
            "height": null,
            "min_height": null,
            "padding": null,
            "grid_auto_rows": null,
            "grid_gap": null,
            "max_width": null,
            "order": null,
            "_view_module_version": "1.2.0",
            "grid_template_areas": null,
            "object_position": null,
            "object_fit": null,
            "grid_auto_columns": null,
            "margin": null,
            "display": null,
            "left": null
          }
        },
        "86291f64d16449cdb8ba04197605509c": {
          "model_module": "@jupyter-widgets/controls",
          "model_name": "HBoxModel",
          "state": {
            "_view_name": "HBoxView",
            "_dom_classes": [],
            "_model_name": "HBoxModel",
            "_view_module": "@jupyter-widgets/controls",
            "_model_module_version": "1.5.0",
            "_view_count": null,
            "_view_module_version": "1.5.0",
            "box_style": "",
            "layout": "IPY_MODEL_67f08559f1f242e6bf0faff40be468d5",
            "_model_module": "@jupyter-widgets/controls",
            "children": [
              "IPY_MODEL_3e2dddf882cb4684a17c2defc8ddca25",
              "IPY_MODEL_fc77ab0e1cbb4b1b83663e6ebd464a32"
            ]
          }
        },
        "67f08559f1f242e6bf0faff40be468d5": {
          "model_module": "@jupyter-widgets/base",
          "model_name": "LayoutModel",
          "state": {
            "_view_name": "LayoutView",
            "grid_template_rows": null,
            "right": null,
            "justify_content": null,
            "_view_module": "@jupyter-widgets/base",
            "overflow": null,
            "_model_module_version": "1.2.0",
            "_view_count": null,
            "flex_flow": null,
            "width": null,
            "min_width": null,
            "border": null,
            "align_items": null,
            "bottom": null,
            "_model_module": "@jupyter-widgets/base",
            "top": null,
            "grid_column": null,
            "overflow_y": null,
            "overflow_x": null,
            "grid_auto_flow": null,
            "grid_area": null,
            "grid_template_columns": null,
            "flex": null,
            "_model_name": "LayoutModel",
            "justify_items": null,
            "grid_row": null,
            "max_height": null,
            "align_content": null,
            "visibility": null,
            "align_self": null,
            "height": null,
            "min_height": null,
            "padding": null,
            "grid_auto_rows": null,
            "grid_gap": null,
            "max_width": null,
            "order": null,
            "_view_module_version": "1.2.0",
            "grid_template_areas": null,
            "object_position": null,
            "object_fit": null,
            "grid_auto_columns": null,
            "margin": null,
            "display": null,
            "left": null
          }
        },
        "3e2dddf882cb4684a17c2defc8ddca25": {
          "model_module": "@jupyter-widgets/controls",
          "model_name": "FloatProgressModel",
          "state": {
            "_view_name": "ProgressView",
            "style": "IPY_MODEL_f34e3552ca014cef8b49006ffc405c5c",
            "_dom_classes": [],
            "description": "100%",
            "_model_name": "FloatProgressModel",
            "bar_style": "success",
            "max": 10,
            "_view_module": "@jupyter-widgets/controls",
            "_model_module_version": "1.5.0",
            "value": 10,
            "_view_count": null,
            "_view_module_version": "1.5.0",
            "orientation": "horizontal",
            "min": 0,
            "description_tooltip": null,
            "_model_module": "@jupyter-widgets/controls",
            "layout": "IPY_MODEL_e3696e51ada848689f28dd28bcc66157"
          }
        },
        "fc77ab0e1cbb4b1b83663e6ebd464a32": {
          "model_module": "@jupyter-widgets/controls",
          "model_name": "HTMLModel",
          "state": {
            "_view_name": "HTMLView",
            "style": "IPY_MODEL_ede1c5b9e7264d9fb21000596c8ad9df",
            "_dom_classes": [],
            "description": "",
            "_model_name": "HTMLModel",
            "placeholder": "​",
            "_view_module": "@jupyter-widgets/controls",
            "_model_module_version": "1.5.0",
            "value": " 10.0/10.0 [01:42&lt;00:00, 10.26s/it]",
            "_view_count": null,
            "_view_module_version": "1.5.0",
            "description_tooltip": null,
            "_model_module": "@jupyter-widgets/controls",
            "layout": "IPY_MODEL_396f1a372eab46d08fe8d3aaa05d8cda"
          }
        },
        "f34e3552ca014cef8b49006ffc405c5c": {
          "model_module": "@jupyter-widgets/controls",
          "model_name": "ProgressStyleModel",
          "state": {
            "_view_name": "StyleView",
            "_model_name": "ProgressStyleModel",
            "description_width": "initial",
            "_view_module": "@jupyter-widgets/base",
            "_model_module_version": "1.5.0",
            "_view_count": null,
            "_view_module_version": "1.2.0",
            "bar_color": null,
            "_model_module": "@jupyter-widgets/controls"
          }
        },
        "e3696e51ada848689f28dd28bcc66157": {
          "model_module": "@jupyter-widgets/base",
          "model_name": "LayoutModel",
          "state": {
            "_view_name": "LayoutView",
            "grid_template_rows": null,
            "right": null,
            "justify_content": null,
            "_view_module": "@jupyter-widgets/base",
            "overflow": null,
            "_model_module_version": "1.2.0",
            "_view_count": null,
            "flex_flow": null,
            "width": null,
            "min_width": null,
            "border": null,
            "align_items": null,
            "bottom": null,
            "_model_module": "@jupyter-widgets/base",
            "top": null,
            "grid_column": null,
            "overflow_y": null,
            "overflow_x": null,
            "grid_auto_flow": null,
            "grid_area": null,
            "grid_template_columns": null,
            "flex": null,
            "_model_name": "LayoutModel",
            "justify_items": null,
            "grid_row": null,
            "max_height": null,
            "align_content": null,
            "visibility": null,
            "align_self": null,
            "height": null,
            "min_height": null,
            "padding": null,
            "grid_auto_rows": null,
            "grid_gap": null,
            "max_width": null,
            "order": null,
            "_view_module_version": "1.2.0",
            "grid_template_areas": null,
            "object_position": null,
            "object_fit": null,
            "grid_auto_columns": null,
            "margin": null,
            "display": null,
            "left": null
          }
        },
        "ede1c5b9e7264d9fb21000596c8ad9df": {
          "model_module": "@jupyter-widgets/controls",
          "model_name": "DescriptionStyleModel",
          "state": {
            "_view_name": "StyleView",
            "_model_name": "DescriptionStyleModel",
            "description_width": "",
            "_view_module": "@jupyter-widgets/base",
            "_model_module_version": "1.5.0",
            "_view_count": null,
            "_view_module_version": "1.2.0",
            "_model_module": "@jupyter-widgets/controls"
          }
        },
        "396f1a372eab46d08fe8d3aaa05d8cda": {
          "model_module": "@jupyter-widgets/base",
          "model_name": "LayoutModel",
          "state": {
            "_view_name": "LayoutView",
            "grid_template_rows": null,
            "right": null,
            "justify_content": null,
            "_view_module": "@jupyter-widgets/base",
            "overflow": null,
            "_model_module_version": "1.2.0",
            "_view_count": null,
            "flex_flow": null,
            "width": null,
            "min_width": null,
            "border": null,
            "align_items": null,
            "bottom": null,
            "_model_module": "@jupyter-widgets/base",
            "top": null,
            "grid_column": null,
            "overflow_y": null,
            "overflow_x": null,
            "grid_auto_flow": null,
            "grid_area": null,
            "grid_template_columns": null,
            "flex": null,
            "_model_name": "LayoutModel",
            "justify_items": null,
            "grid_row": null,
            "max_height": null,
            "align_content": null,
            "visibility": null,
            "align_self": null,
            "height": null,
            "min_height": null,
            "padding": null,
            "grid_auto_rows": null,
            "grid_gap": null,
            "max_width": null,
            "order": null,
            "_view_module_version": "1.2.0",
            "grid_template_areas": null,
            "object_position": null,
            "object_fit": null,
            "grid_auto_columns": null,
            "margin": null,
            "display": null,
            "left": null
          }
        },
        "27f591df95a34196b4895632dc5575e4": {
          "model_module": "@jupyter-widgets/controls",
          "model_name": "HBoxModel",
          "state": {
            "_view_name": "HBoxView",
            "_dom_classes": [],
            "_model_name": "HBoxModel",
            "_view_module": "@jupyter-widgets/controls",
            "_model_module_version": "1.5.0",
            "_view_count": null,
            "_view_module_version": "1.5.0",
            "box_style": "",
            "layout": "IPY_MODEL_c4cc66bfac61428eacde716b79dfdebe",
            "_model_module": "@jupyter-widgets/controls",
            "children": [
              "IPY_MODEL_312075024449481bad0a5f2e59cb07b0",
              "IPY_MODEL_99efc145c032444b9638863a58090c21"
            ]
          }
        },
        "c4cc66bfac61428eacde716b79dfdebe": {
          "model_module": "@jupyter-widgets/base",
          "model_name": "LayoutModel",
          "state": {
            "_view_name": "LayoutView",
            "grid_template_rows": null,
            "right": null,
            "justify_content": null,
            "_view_module": "@jupyter-widgets/base",
            "overflow": null,
            "_model_module_version": "1.2.0",
            "_view_count": null,
            "flex_flow": null,
            "width": null,
            "min_width": null,
            "border": null,
            "align_items": null,
            "bottom": null,
            "_model_module": "@jupyter-widgets/base",
            "top": null,
            "grid_column": null,
            "overflow_y": null,
            "overflow_x": null,
            "grid_auto_flow": null,
            "grid_area": null,
            "grid_template_columns": null,
            "flex": null,
            "_model_name": "LayoutModel",
            "justify_items": null,
            "grid_row": null,
            "max_height": null,
            "align_content": null,
            "visibility": null,
            "align_self": null,
            "height": null,
            "min_height": null,
            "padding": null,
            "grid_auto_rows": null,
            "grid_gap": null,
            "max_width": null,
            "order": null,
            "_view_module_version": "1.2.0",
            "grid_template_areas": null,
            "object_position": null,
            "object_fit": null,
            "grid_auto_columns": null,
            "margin": null,
            "display": null,
            "left": null
          }
        },
        "312075024449481bad0a5f2e59cb07b0": {
          "model_module": "@jupyter-widgets/controls",
          "model_name": "FloatProgressModel",
          "state": {
            "_view_name": "ProgressView",
            "style": "IPY_MODEL_919996dd973b42f99f7e16cc4ed1f6ef",
            "_dom_classes": [],
            "description": "100%",
            "_model_name": "FloatProgressModel",
            "bar_style": "success",
            "max": 10,
            "_view_module": "@jupyter-widgets/controls",
            "_model_module_version": "1.5.0",
            "value": 10,
            "_view_count": null,
            "_view_module_version": "1.5.0",
            "orientation": "horizontal",
            "min": 0,
            "description_tooltip": null,
            "_model_module": "@jupyter-widgets/controls",
            "layout": "IPY_MODEL_497a843b694e4c5db6ff0bca62034668"
          }
        },
        "99efc145c032444b9638863a58090c21": {
          "model_module": "@jupyter-widgets/controls",
          "model_name": "HTMLModel",
          "state": {
            "_view_name": "HTMLView",
            "style": "IPY_MODEL_152f4b8e0de947bba586db8b0814e9c8",
            "_dom_classes": [],
            "description": "",
            "_model_name": "HTMLModel",
            "placeholder": "​",
            "_view_module": "@jupyter-widgets/controls",
            "_model_module_version": "1.5.0",
            "value": " 10.0/10.0 [01:39&lt;00:00,  9.93s/it]",
            "_view_count": null,
            "_view_module_version": "1.5.0",
            "description_tooltip": null,
            "_model_module": "@jupyter-widgets/controls",
            "layout": "IPY_MODEL_75d668da7c9144c1a4719c6207260310"
          }
        },
        "919996dd973b42f99f7e16cc4ed1f6ef": {
          "model_module": "@jupyter-widgets/controls",
          "model_name": "ProgressStyleModel",
          "state": {
            "_view_name": "StyleView",
            "_model_name": "ProgressStyleModel",
            "description_width": "initial",
            "_view_module": "@jupyter-widgets/base",
            "_model_module_version": "1.5.0",
            "_view_count": null,
            "_view_module_version": "1.2.0",
            "bar_color": null,
            "_model_module": "@jupyter-widgets/controls"
          }
        },
        "497a843b694e4c5db6ff0bca62034668": {
          "model_module": "@jupyter-widgets/base",
          "model_name": "LayoutModel",
          "state": {
            "_view_name": "LayoutView",
            "grid_template_rows": null,
            "right": null,
            "justify_content": null,
            "_view_module": "@jupyter-widgets/base",
            "overflow": null,
            "_model_module_version": "1.2.0",
            "_view_count": null,
            "flex_flow": null,
            "width": null,
            "min_width": null,
            "border": null,
            "align_items": null,
            "bottom": null,
            "_model_module": "@jupyter-widgets/base",
            "top": null,
            "grid_column": null,
            "overflow_y": null,
            "overflow_x": null,
            "grid_auto_flow": null,
            "grid_area": null,
            "grid_template_columns": null,
            "flex": null,
            "_model_name": "LayoutModel",
            "justify_items": null,
            "grid_row": null,
            "max_height": null,
            "align_content": null,
            "visibility": null,
            "align_self": null,
            "height": null,
            "min_height": null,
            "padding": null,
            "grid_auto_rows": null,
            "grid_gap": null,
            "max_width": null,
            "order": null,
            "_view_module_version": "1.2.0",
            "grid_template_areas": null,
            "object_position": null,
            "object_fit": null,
            "grid_auto_columns": null,
            "margin": null,
            "display": null,
            "left": null
          }
        },
        "152f4b8e0de947bba586db8b0814e9c8": {
          "model_module": "@jupyter-widgets/controls",
          "model_name": "DescriptionStyleModel",
          "state": {
            "_view_name": "StyleView",
            "_model_name": "DescriptionStyleModel",
            "description_width": "",
            "_view_module": "@jupyter-widgets/base",
            "_model_module_version": "1.5.0",
            "_view_count": null,
            "_view_module_version": "1.2.0",
            "_model_module": "@jupyter-widgets/controls"
          }
        },
        "75d668da7c9144c1a4719c6207260310": {
          "model_module": "@jupyter-widgets/base",
          "model_name": "LayoutModel",
          "state": {
            "_view_name": "LayoutView",
            "grid_template_rows": null,
            "right": null,
            "justify_content": null,
            "_view_module": "@jupyter-widgets/base",
            "overflow": null,
            "_model_module_version": "1.2.0",
            "_view_count": null,
            "flex_flow": null,
            "width": null,
            "min_width": null,
            "border": null,
            "align_items": null,
            "bottom": null,
            "_model_module": "@jupyter-widgets/base",
            "top": null,
            "grid_column": null,
            "overflow_y": null,
            "overflow_x": null,
            "grid_auto_flow": null,
            "grid_area": null,
            "grid_template_columns": null,
            "flex": null,
            "_model_name": "LayoutModel",
            "justify_items": null,
            "grid_row": null,
            "max_height": null,
            "align_content": null,
            "visibility": null,
            "align_self": null,
            "height": null,
            "min_height": null,
            "padding": null,
            "grid_auto_rows": null,
            "grid_gap": null,
            "max_width": null,
            "order": null,
            "_view_module_version": "1.2.0",
            "grid_template_areas": null,
            "object_position": null,
            "object_fit": null,
            "grid_auto_columns": null,
            "margin": null,
            "display": null,
            "left": null
          }
        },
        "b5e3c10abf4f4222818abebbc15690c7": {
          "model_module": "@jupyter-widgets/output",
          "model_name": "OutputModel",
          "state": {
            "_view_name": "OutputView",
            "msg_id": "",
            "_dom_classes": [],
            "_model_name": "OutputModel",
            "outputs": [
              {
                "output_type": "display_data",
                "metadata": {
                  "tags": []
                },
                "image/png": "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\n",
                "text/plain": "<Figure size 640x480 with 1 Axes>"
              }
            ],
            "_view_module": "@jupyter-widgets/output",
            "_model_module_version": "1.0.0",
            "_view_count": null,
            "_view_module_version": "1.0.0",
            "layout": "IPY_MODEL_14a66762f3234d1d993f81fcf4d47c7b",
            "_model_module": "@jupyter-widgets/output"
          }
        },
        "14a66762f3234d1d993f81fcf4d47c7b": {
          "model_module": "@jupyter-widgets/base",
          "model_name": "LayoutModel",
          "state": {
            "_view_name": "LayoutView",
            "grid_template_rows": null,
            "right": null,
            "justify_content": null,
            "_view_module": "@jupyter-widgets/base",
            "overflow": null,
            "_model_module_version": "1.2.0",
            "_view_count": null,
            "flex_flow": null,
            "width": null,
            "min_width": null,
            "border": null,
            "align_items": null,
            "bottom": null,
            "_model_module": "@jupyter-widgets/base",
            "top": null,
            "grid_column": null,
            "overflow_y": null,
            "overflow_x": null,
            "grid_auto_flow": null,
            "grid_area": null,
            "grid_template_columns": null,
            "flex": null,
            "_model_name": "LayoutModel",
            "justify_items": null,
            "grid_row": null,
            "max_height": null,
            "align_content": null,
            "visibility": null,
            "align_self": null,
            "height": null,
            "min_height": null,
            "padding": null,
            "grid_auto_rows": null,
            "grid_gap": null,
            "max_width": null,
            "order": null,
            "_view_module_version": "1.2.0",
            "grid_template_areas": null,
            "object_position": null,
            "object_fit": null,
            "grid_auto_columns": null,
            "margin": null,
            "display": null,
            "left": null
          }
        }
      }
    }
  },
  "cells": [
    {
      "cell_type": "markdown",
      "metadata": {
        "id": "view-in-github",
        "colab_type": "text"
      },
      "source": [
        "<a href=\"https://colab.research.google.com/github/Divyanshu-ISM/Oil-and-Gas-data-analysis/blob/master/py_PDE_Solver.ipynb\" target=\"_parent\"><img src=\"https://colab.research.google.com/assets/colab-badge.svg\" alt=\"Open In Colab\"/></a>"
      ]
    },
    {
      "cell_type": "markdown",
      "metadata": {
        "id": "GZcI08w4981N",
        "colab_type": "text"
      },
      "source": [
        "#*Tutorial 1 : Grids and Fields *"
      ]
    },
    {
      "cell_type": "code",
      "metadata": {
        "id": "0525WkFL1WQK",
        "colab_type": "code",
        "colab": {
          "base_uri": "https://localhost:8080/",
          "height": 323
        },
        "outputId": "09eb54d2-1a54-4e01-faa6-ed8a848b04e7"
      },
      "source": [
        "!pip install py-pde"
      ],
      "execution_count": 1,
      "outputs": [
        {
          "output_type": "stream",
          "text": [
            "Collecting py-pde\n",
            "\u001b[?25l  Downloading https://files.pythonhosted.org/packages/e4/64/6620540bdfb2c644ea5525f401744e10846f82e7039f6a6635d0b35efc4d/py_pde-0.9.0-py3-none-any.whl (273kB)\n",
            "\r\u001b[K     |█▏                              | 10kB 16.2MB/s eta 0:00:01\r\u001b[K     |██▍                             | 20kB 1.7MB/s eta 0:00:01\r\u001b[K     |███▋                            | 30kB 2.3MB/s eta 0:00:01\r\u001b[K     |████▉                           | 40kB 2.5MB/s eta 0:00:01\r\u001b[K     |██████                          | 51kB 2.0MB/s eta 0:00:01\r\u001b[K     |███████▏                        | 61kB 2.3MB/s eta 0:00:01\r\u001b[K     |████████▍                       | 71kB 2.5MB/s eta 0:00:01\r\u001b[K     |█████████▋                      | 81kB 2.7MB/s eta 0:00:01\r\u001b[K     |██████████▉                     | 92kB 2.9MB/s eta 0:00:01\r\u001b[K     |████████████                    | 102kB 2.8MB/s eta 0:00:01\r\u001b[K     |█████████████▏                  | 112kB 2.8MB/s eta 0:00:01\r\u001b[K     |██████████████▍                 | 122kB 2.8MB/s eta 0:00:01\r\u001b[K     |███████████████▋                | 133kB 2.8MB/s eta 0:00:01\r\u001b[K     |████████████████▉               | 143kB 2.8MB/s eta 0:00:01\r\u001b[K     |██████████████████              | 153kB 2.8MB/s eta 0:00:01\r\u001b[K     |███████████████████▏            | 163kB 2.8MB/s eta 0:00:01\r\u001b[K     |████████████████████▍           | 174kB 2.8MB/s eta 0:00:01\r\u001b[K     |█████████████████████▋          | 184kB 2.8MB/s eta 0:00:01\r\u001b[K     |██████████████████████▊         | 194kB 2.8MB/s eta 0:00:01\r\u001b[K     |████████████████████████        | 204kB 2.8MB/s eta 0:00:01\r\u001b[K     |█████████████████████████▏      | 215kB 2.8MB/s eta 0:00:01\r\u001b[K     |██████████████████████████▍     | 225kB 2.8MB/s eta 0:00:01\r\u001b[K     |███████████████████████████▋    | 235kB 2.8MB/s eta 0:00:01\r\u001b[K     |████████████████████████████▊   | 245kB 2.8MB/s eta 0:00:01\r\u001b[K     |██████████████████████████████  | 256kB 2.8MB/s eta 0:00:01\r\u001b[K     |███████████████████████████████▏| 266kB 2.8MB/s eta 0:00:01\r\u001b[K     |████████████████████████████████| 276kB 2.8MB/s \n",
            "\u001b[?25hRequirement already satisfied: sympy in /usr/local/lib/python3.6/dist-packages (from py-pde) (1.1.1)\n",
            "Requirement already satisfied: numba in /usr/local/lib/python3.6/dist-packages (from py-pde) (0.48.0)\n",
            "Requirement already satisfied: matplotlib in /usr/local/lib/python3.6/dist-packages (from py-pde) (3.2.2)\n",
            "Requirement already satisfied: numpy in /usr/local/lib/python3.6/dist-packages (from py-pde) (1.18.5)\n",
            "Requirement already satisfied: scipy in /usr/local/lib/python3.6/dist-packages (from py-pde) (1.4.1)\n",
            "Requirement already satisfied: mpmath>=0.19 in /usr/local/lib/python3.6/dist-packages (from sympy->py-pde) (1.1.0)\n",
            "Requirement already satisfied: llvmlite<0.32.0,>=0.31.0dev0 in /usr/local/lib/python3.6/dist-packages (from numba->py-pde) (0.31.0)\n",
            "Requirement already satisfied: setuptools in /usr/local/lib/python3.6/dist-packages (from numba->py-pde) (49.2.0)\n",
            "Requirement already satisfied: kiwisolver>=1.0.1 in /usr/local/lib/python3.6/dist-packages (from matplotlib->py-pde) (1.2.0)\n",
            "Requirement already satisfied: pyparsing!=2.0.4,!=2.1.2,!=2.1.6,>=2.0.1 in /usr/local/lib/python3.6/dist-packages (from matplotlib->py-pde) (2.4.7)\n",
            "Requirement already satisfied: cycler>=0.10 in /usr/local/lib/python3.6/dist-packages (from matplotlib->py-pde) (0.10.0)\n",
            "Requirement already satisfied: python-dateutil>=2.1 in /usr/local/lib/python3.6/dist-packages (from matplotlib->py-pde) (2.8.1)\n",
            "Requirement already satisfied: six in /usr/local/lib/python3.6/dist-packages (from cycler>=0.10->matplotlib->py-pde) (1.15.0)\n",
            "Installing collected packages: py-pde\n",
            "Successfully installed py-pde-0.9.0\n"
          ],
          "name": "stdout"
        }
      ]
    },
    {
      "cell_type": "code",
      "metadata": {
        "id": "95JF_1W61nhB",
        "colab_type": "code",
        "colab": {}
      },
      "source": [
        "from pde import DiffusionPDE, UnitGrid, ScalarField"
      ],
      "execution_count": 2,
      "outputs": []
    },
    {
      "cell_type": "code",
      "metadata": {
        "id": "6sqdwRaE2We4",
        "colab_type": "code",
        "colab": {
          "base_uri": "https://localhost:8080/",
          "height": 241
        },
        "outputId": "56607df5-e4be-4147-cc4c-8f67933bcbc3"
      },
      "source": [
        "!pip install h5py pandas pyfftw tqdm"
      ],
      "execution_count": 3,
      "outputs": [
        {
          "output_type": "stream",
          "text": [
            "Requirement already satisfied: h5py in /usr/local/lib/python3.6/dist-packages (2.10.0)\n",
            "Requirement already satisfied: pandas in /usr/local/lib/python3.6/dist-packages (1.0.5)\n",
            "Collecting pyfftw\n",
            "\u001b[?25l  Downloading https://files.pythonhosted.org/packages/dc/77/2a039e2c411b6532ae5b8e5e922d31fdb6140246f92379d9a1dce4872a20/pyFFTW-0.12.0-cp36-cp36m-manylinux1_x86_64.whl (2.6MB)\n",
            "\r\u001b[K     |▏                               | 10kB 14.9MB/s eta 0:00:01\r\u001b[K     |▎                               | 20kB 1.7MB/s eta 0:00:02\r\u001b[K     |▍                               | 30kB 2.2MB/s eta 0:00:02\r\u001b[K     |▌                               | 40kB 2.5MB/s eta 0:00:02\r\u001b[K     |▋                               | 51kB 2.0MB/s eta 0:00:02\r\u001b[K     |▊                               | 61kB 2.2MB/s eta 0:00:02\r\u001b[K     |▉                               | 71kB 2.5MB/s eta 0:00:02\r\u001b[K     |█                               | 81kB 2.7MB/s eta 0:00:01\r\u001b[K     |█▏                              | 92kB 2.9MB/s eta 0:00:01\r\u001b[K     |█▎                              | 102kB 2.7MB/s eta 0:00:01\r\u001b[K     |█▍                              | 112kB 2.7MB/s eta 0:00:01\r\u001b[K     |█▌                              | 122kB 2.7MB/s eta 0:00:01\r\u001b[K     |█▋                              | 133kB 2.7MB/s eta 0:00:01\r\u001b[K     |█▊                              | 143kB 2.7MB/s eta 0:00:01\r\u001b[K     |█▉                              | 153kB 2.7MB/s eta 0:00:01\r\u001b[K     |██                              | 163kB 2.7MB/s eta 0:00:01\r\u001b[K     |██▏                             | 174kB 2.7MB/s eta 0:00:01\r\u001b[K     |██▎                             | 184kB 2.7MB/s eta 0:00:01\r\u001b[K     |██▍                             | 194kB 2.7MB/s eta 0:00:01\r\u001b[K     |██▌                             | 204kB 2.7MB/s eta 0:00:01\r\u001b[K     |██▋                             | 215kB 2.7MB/s eta 0:00:01\r\u001b[K     |██▊                             | 225kB 2.7MB/s eta 0:00:01\r\u001b[K     |███                             | 235kB 2.7MB/s eta 0:00:01\r\u001b[K     |███                             | 245kB 2.7MB/s eta 0:00:01\r\u001b[K     |███▏                            | 256kB 2.7MB/s eta 0:00:01\r\u001b[K     |███▎                            | 266kB 2.7MB/s eta 0:00:01\r\u001b[K     |███▍                            | 276kB 2.7MB/s eta 0:00:01\r\u001b[K     |███▌                            | 286kB 2.7MB/s eta 0:00:01\r\u001b[K     |███▋                            | 296kB 2.7MB/s eta 0:00:01\r\u001b[K     |███▊                            | 307kB 2.7MB/s eta 0:00:01\r\u001b[K     |████                            | 317kB 2.7MB/s eta 0:00:01\r\u001b[K     |████                            | 327kB 2.7MB/s eta 0:00:01\r\u001b[K     |████▏                           | 337kB 2.7MB/s eta 0:00:01\r\u001b[K     |████▎                           | 348kB 2.7MB/s eta 0:00:01\r\u001b[K     |████▍                           | 358kB 2.7MB/s eta 0:00:01\r\u001b[K     |████▌                           | 368kB 2.7MB/s eta 0:00:01\r\u001b[K     |████▋                           | 378kB 2.7MB/s eta 0:00:01\r\u001b[K     |████▊                           | 389kB 2.7MB/s eta 0:00:01\r\u001b[K     |█████                           | 399kB 2.7MB/s eta 0:00:01\r\u001b[K     |█████                           | 409kB 2.7MB/s eta 0:00:01\r\u001b[K     |█████▏                          | 419kB 2.7MB/s eta 0:00:01\r\u001b[K     |█████▎                          | 430kB 2.7MB/s eta 0:00:01\r\u001b[K     |█████▍                          | 440kB 2.7MB/s eta 0:00:01\r\u001b[K     |█████▌                          | 450kB 2.7MB/s eta 0:00:01\r\u001b[K     |█████▋                          | 460kB 2.7MB/s eta 0:00:01\r\u001b[K     |█████▉                          | 471kB 2.7MB/s eta 0:00:01\r\u001b[K     |██████                          | 481kB 2.7MB/s eta 0:00:01\r\u001b[K     |██████                          | 491kB 2.7MB/s eta 0:00:01\r\u001b[K     |██████▏                         | 501kB 2.7MB/s eta 0:00:01\r\u001b[K     |██████▎                         | 512kB 2.7MB/s eta 0:00:01\r\u001b[K     |██████▍                         | 522kB 2.7MB/s eta 0:00:01\r\u001b[K     |██████▌                         | 532kB 2.7MB/s eta 0:00:01\r\u001b[K     |██████▋                         | 542kB 2.7MB/s eta 0:00:01\r\u001b[K     |██████▉                         | 552kB 2.7MB/s eta 0:00:01\r\u001b[K     |███████                         | 563kB 2.7MB/s eta 0:00:01\r\u001b[K     |███████                         | 573kB 2.7MB/s eta 0:00:01\r\u001b[K     |███████▏                        | 583kB 2.7MB/s eta 0:00:01\r\u001b[K     |███████▎                        | 593kB 2.7MB/s eta 0:00:01\r\u001b[K     |███████▍                        | 604kB 2.7MB/s eta 0:00:01\r\u001b[K     |███████▌                        | 614kB 2.7MB/s eta 0:00:01\r\u001b[K     |███████▊                        | 624kB 2.7MB/s eta 0:00:01\r\u001b[K     |███████▉                        | 634kB 2.7MB/s eta 0:00:01\r\u001b[K     |████████                        | 645kB 2.7MB/s eta 0:00:01\r\u001b[K     |████████                        | 655kB 2.7MB/s eta 0:00:01\r\u001b[K     |████████▏                       | 665kB 2.7MB/s eta 0:00:01\r\u001b[K     |████████▎                       | 675kB 2.7MB/s eta 0:00:01\r\u001b[K     |████████▍                       | 686kB 2.7MB/s eta 0:00:01\r\u001b[K     |████████▌                       | 696kB 2.7MB/s eta 0:00:01\r\u001b[K     |████████▊                       | 706kB 2.7MB/s eta 0:00:01\r\u001b[K     |████████▉                       | 716kB 2.7MB/s eta 0:00:01\r\u001b[K     |█████████                       | 727kB 2.7MB/s eta 0:00:01\r\u001b[K     |█████████                       | 737kB 2.7MB/s eta 0:00:01\r\u001b[K     |█████████▏                      | 747kB 2.7MB/s eta 0:00:01\r\u001b[K     |█████████▎                      | 757kB 2.7MB/s eta 0:00:01\r\u001b[K     |█████████▍                      | 768kB 2.7MB/s eta 0:00:01\r\u001b[K     |█████████▌                      | 778kB 2.7MB/s eta 0:00:01\r\u001b[K     |█████████▊                      | 788kB 2.7MB/s eta 0:00:01\r\u001b[K     |█████████▉                      | 798kB 2.7MB/s eta 0:00:01\r\u001b[K     |██████████                      | 808kB 2.7MB/s eta 0:00:01\r\u001b[K     |██████████                      | 819kB 2.7MB/s eta 0:00:01\r\u001b[K     |██████████▏                     | 829kB 2.7MB/s eta 0:00:01\r\u001b[K     |██████████▎                     | 839kB 2.7MB/s eta 0:00:01\r\u001b[K     |██████████▍                     | 849kB 2.7MB/s eta 0:00:01\r\u001b[K     |██████████▋                     | 860kB 2.7MB/s eta 0:00:01\r\u001b[K     |██████████▊                     | 870kB 2.7MB/s eta 0:00:01\r\u001b[K     |██████████▉                     | 880kB 2.7MB/s eta 0:00:01\r\u001b[K     |███████████                     | 890kB 2.7MB/s eta 0:00:01\r\u001b[K     |███████████                     | 901kB 2.7MB/s eta 0:00:01\r\u001b[K     |███████████▏                    | 911kB 2.7MB/s eta 0:00:01\r\u001b[K     |███████████▎                    | 921kB 2.7MB/s eta 0:00:01\r\u001b[K     |███████████▍                    | 931kB 2.7MB/s eta 0:00:01\r\u001b[K     |███████████▋                    | 942kB 2.7MB/s eta 0:00:01\r\u001b[K     |███████████▊                    | 952kB 2.7MB/s eta 0:00:01\r\u001b[K     |███████████▉                    | 962kB 2.7MB/s eta 0:00:01\r\u001b[K     |████████████                    | 972kB 2.7MB/s eta 0:00:01\r\u001b[K     |████████████                    | 983kB 2.7MB/s eta 0:00:01\r\u001b[K     |████████████▏                   | 993kB 2.7MB/s eta 0:00:01\r\u001b[K     |████████████▎                   | 1.0MB 2.7MB/s eta 0:00:01\r\u001b[K     |████████████▌                   | 1.0MB 2.7MB/s eta 0:00:01\r\u001b[K     |████████████▋                   | 1.0MB 2.7MB/s eta 0:00:01\r\u001b[K     |████████████▊                   | 1.0MB 2.7MB/s eta 0:00:01\r\u001b[K     |████████████▉                   | 1.0MB 2.7MB/s eta 0:00:01\r\u001b[K     |█████████████                   | 1.1MB 2.7MB/s eta 0:00:01\r\u001b[K     |█████████████                   | 1.1MB 2.7MB/s eta 0:00:01\r\u001b[K     |█████████████▏                  | 1.1MB 2.7MB/s eta 0:00:01\r\u001b[K     |█████████████▎                  | 1.1MB 2.7MB/s eta 0:00:01\r\u001b[K     |█████████████▌                  | 1.1MB 2.7MB/s eta 0:00:01\r\u001b[K     |█████████████▋                  | 1.1MB 2.7MB/s eta 0:00:01\r\u001b[K     |█████████████▊                  | 1.1MB 2.7MB/s eta 0:00:01\r\u001b[K     |█████████████▉                  | 1.1MB 2.7MB/s eta 0:00:01\r\u001b[K     |██████████████                  | 1.1MB 2.7MB/s eta 0:00:01\r\u001b[K     |██████████████                  | 1.1MB 2.7MB/s eta 0:00:01\r\u001b[K     |██████████████▏                 | 1.2MB 2.7MB/s eta 0:00:01\r\u001b[K     |██████████████▎                 | 1.2MB 2.7MB/s eta 0:00:01\r\u001b[K     |██████████████▌                 | 1.2MB 2.7MB/s eta 0:00:01\r\u001b[K     |██████████████▋                 | 1.2MB 2.7MB/s eta 0:00:01\r\u001b[K     |██████████████▊                 | 1.2MB 2.7MB/s eta 0:00:01\r\u001b[K     |██████████████▉                 | 1.2MB 2.7MB/s eta 0:00:01\r\u001b[K     |███████████████                 | 1.2MB 2.7MB/s eta 0:00:01\r\u001b[K     |███████████████                 | 1.2MB 2.7MB/s eta 0:00:01\r\u001b[K     |███████████████▏                | 1.2MB 2.7MB/s eta 0:00:01\r\u001b[K     |███████████████▍                | 1.2MB 2.7MB/s eta 0:00:01\r\u001b[K     |███████████████▌                | 1.3MB 2.7MB/s eta 0:00:01\r\u001b[K     |███████████████▋                | 1.3MB 2.7MB/s eta 0:00:01\r\u001b[K     |███████████████▊                | 1.3MB 2.7MB/s eta 0:00:01\r\u001b[K     |███████████████▉                | 1.3MB 2.7MB/s eta 0:00:01\r\u001b[K     |████████████████                | 1.3MB 2.7MB/s eta 0:00:01\r\u001b[K     |████████████████                | 1.3MB 2.7MB/s eta 0:00:01\r\u001b[K     |████████████████▏               | 1.3MB 2.7MB/s eta 0:00:01\r\u001b[K     |████████████████▍               | 1.3MB 2.7MB/s eta 0:00:01\r\u001b[K     |████████████████▌               | 1.3MB 2.7MB/s eta 0:00:01\r\u001b[K     |████████████████▋               | 1.4MB 2.7MB/s eta 0:00:01\r\u001b[K     |████████████████▊               | 1.4MB 2.7MB/s eta 0:00:01\r\u001b[K     |████████████████▉               | 1.4MB 2.7MB/s eta 0:00:01\r\u001b[K     |█████████████████               | 1.4MB 2.7MB/s eta 0:00:01\r\u001b[K     |█████████████████               | 1.4MB 2.7MB/s eta 0:00:01\r\u001b[K     |█████████████████▏              | 1.4MB 2.7MB/s eta 0:00:01\r\u001b[K     |█████████████████▍              | 1.4MB 2.7MB/s eta 0:00:01\r\u001b[K     |█████████████████▌              | 1.4MB 2.7MB/s eta 0:00:01\r\u001b[K     |█████████████████▋              | 1.4MB 2.7MB/s eta 0:00:01\r\u001b[K     |█████████████████▊              | 1.4MB 2.7MB/s eta 0:00:01\r\u001b[K     |█████████████████▉              | 1.5MB 2.7MB/s eta 0:00:01\r\u001b[K     |██████████████████              | 1.5MB 2.7MB/s eta 0:00:01\r\u001b[K     |██████████████████              | 1.5MB 2.7MB/s eta 0:00:01\r\u001b[K     |██████████████████▎             | 1.5MB 2.7MB/s eta 0:00:01\r\u001b[K     |██████████████████▍             | 1.5MB 2.7MB/s eta 0:00:01\r\u001b[K     |██████████████████▌             | 1.5MB 2.7MB/s eta 0:00:01\r\u001b[K     |██████████████████▋             | 1.5MB 2.7MB/s eta 0:00:01\r\u001b[K     |██████████████████▊             | 1.5MB 2.7MB/s eta 0:00:01\r\u001b[K     |██████████████████▉             | 1.5MB 2.7MB/s eta 0:00:01\r\u001b[K     |███████████████████             | 1.5MB 2.7MB/s eta 0:00:01\r\u001b[K     |███████████████████             | 1.6MB 2.7MB/s eta 0:00:01\r\u001b[K     |███████████████████▎            | 1.6MB 2.7MB/s eta 0:00:01\r\u001b[K     |███████████████████▍            | 1.6MB 2.7MB/s eta 0:00:01\r\u001b[K     |███████████████████▌            | 1.6MB 2.7MB/s eta 0:00:01\r\u001b[K     |███████████████████▋            | 1.6MB 2.7MB/s eta 0:00:01\r\u001b[K     |███████████████████▊            | 1.6MB 2.7MB/s eta 0:00:01\r\u001b[K     |███████████████████▉            | 1.6MB 2.7MB/s eta 0:00:01\r\u001b[K     |████████████████████            | 1.6MB 2.7MB/s eta 0:00:01\r\u001b[K     |████████████████████▏           | 1.6MB 2.7MB/s eta 0:00:01\r\u001b[K     |████████████████████▎           | 1.6MB 2.7MB/s eta 0:00:01\r\u001b[K     |████████████████████▍           | 1.7MB 2.7MB/s eta 0:00:01\r\u001b[K     |████████████████████▌           | 1.7MB 2.7MB/s eta 0:00:01\r\u001b[K     |████████████████████▋           | 1.7MB 2.7MB/s eta 0:00:01\r\u001b[K     |████████████████████▊           | 1.7MB 2.7MB/s eta 0:00:01\r\u001b[K     |████████████████████▉           | 1.7MB 2.7MB/s eta 0:00:01\r\u001b[K     |█████████████████████           | 1.7MB 2.7MB/s eta 0:00:01\r\u001b[K     |█████████████████████▏          | 1.7MB 2.7MB/s eta 0:00:01\r\u001b[K     |█████████████████████▎          | 1.7MB 2.7MB/s eta 0:00:01\r\u001b[K     |█████████████████████▍          | 1.7MB 2.7MB/s eta 0:00:01\r\u001b[K     |█████████████████████▌          | 1.8MB 2.7MB/s eta 0:00:01\r\u001b[K     |█████████████████████▋          | 1.8MB 2.7MB/s eta 0:00:01\r\u001b[K     |█████████████████████▊          | 1.8MB 2.7MB/s eta 0:00:01\r\u001b[K     |█████████████████████▉          | 1.8MB 2.7MB/s eta 0:00:01\r\u001b[K     |██████████████████████          | 1.8MB 2.7MB/s eta 0:00:01\r\u001b[K     |██████████████████████▏         | 1.8MB 2.7MB/s eta 0:00:01\r\u001b[K     |██████████████████████▎         | 1.8MB 2.7MB/s eta 0:00:01\r\u001b[K     |██████████████████████▍         | 1.8MB 2.7MB/s eta 0:00:01\r\u001b[K     |██████████████████████▌         | 1.8MB 2.7MB/s eta 0:00:01\r\u001b[K     |██████████████████████▋         | 1.8MB 2.7MB/s eta 0:00:01\r\u001b[K     |██████████████████████▊         | 1.9MB 2.7MB/s eta 0:00:01\r\u001b[K     |██████████████████████▉         | 1.9MB 2.7MB/s eta 0:00:01\r\u001b[K     |███████████████████████         | 1.9MB 2.7MB/s eta 0:00:01\r\u001b[K     |███████████████████████▏        | 1.9MB 2.7MB/s eta 0:00:01\r\u001b[K     |███████████████████████▎        | 1.9MB 2.7MB/s eta 0:00:01\r\u001b[K     |███████████████████████▍        | 1.9MB 2.7MB/s eta 0:00:01\r\u001b[K     |███████████████████████▌        | 1.9MB 2.7MB/s eta 0:00:01\r\u001b[K     |███████████████████████▋        | 1.9MB 2.7MB/s eta 0:00:01\r\u001b[K     |███████████████████████▊        | 1.9MB 2.7MB/s eta 0:00:01\r\u001b[K     |███████████████████████▉        | 1.9MB 2.7MB/s eta 0:00:01\r\u001b[K     |████████████████████████        | 2.0MB 2.7MB/s eta 0:00:01\r\u001b[K     |████████████████████████▏       | 2.0MB 25kB/s eta 0:00:26\r\u001b[K     |████████████████████████▎       | 2.0MB 25kB/s eta 0:00:25\r\u001b[K     |████████████████████████▍       | 2.0MB 25kB/s eta 0:00:25\r\u001b[K     |████████████████████████▌       | 2.0MB 25kB/s eta 0:00:25\r\u001b[K     |████████████████████████▋       | 2.0MB 25kB/s eta 0:00:24\r\u001b[K     |████████████████████████▊       | 2.0MB 25kB/s eta 0:00:24\r\u001b[K     |█████████████████████████       | 2.0MB 25kB/s eta 0:00:23\r\u001b[K     |█████████████████████████       | 2.0MB 25kB/s eta 0:00:23\r\u001b[K     |█████████████████████████▏      | 2.0MB 25kB/s eta 0:00:23\r\u001b[K     |█████████████████████████▎      | 2.1MB 25kB/s eta 0:00:22\r\u001b[K     |█████████████████████████▍      | 2.1MB 25kB/s eta 0:00:22\r\u001b[K     |█████████████████████████▌      | 2.1MB 25kB/s eta 0:00:21\r\u001b[K     |█████████████████████████▋      | 2.1MB 25kB/s eta 0:00:21\r\u001b[K     |█████████████████████████▊      | 2.1MB 25kB/s eta 0:00:21\r\u001b[K     |██████████████████████████      | 2.1MB 25kB/s eta 0:00:20\r\u001b[K     |██████████████████████████      | 2.1MB 25kB/s eta 0:00:20\r\u001b[K     |██████████████████████████▏     | 2.1MB 25kB/s eta 0:00:19\r\u001b[K     |██████████████████████████▎     | 2.1MB 25kB/s eta 0:00:19\r\u001b[K     |██████████████████████████▍     | 2.2MB 25kB/s eta 0:00:19\r\u001b[K     |██████████████████████████▌     | 2.2MB 25kB/s eta 0:00:18\r\u001b[K     |██████████████████████████▋     | 2.2MB 25kB/s eta 0:00:18\r\u001b[K     |██████████████████████████▊     | 2.2MB 25kB/s eta 0:00:17\r\u001b[K     |███████████████████████████     | 2.2MB 25kB/s eta 0:00:17\r\u001b[K     |███████████████████████████     | 2.2MB 25kB/s eta 0:00:17\r\u001b[K     |███████████████████████████▏    | 2.2MB 25kB/s eta 0:00:16\r\u001b[K     |███████████████████████████▎    | 2.2MB 25kB/s eta 0:00:16\r\u001b[K     |███████████████████████████▍    | 2.2MB 25kB/s eta 0:00:15\r\u001b[K     |███████████████████████████▌    | 2.2MB 25kB/s eta 0:00:15\r\u001b[K     |███████████████████████████▋    | 2.3MB 25kB/s eta 0:00:14\r\u001b[K     |███████████████████████████▉    | 2.3MB 25kB/s eta 0:00:14\r\u001b[K     |████████████████████████████    | 2.3MB 25kB/s eta 0:00:14\r\u001b[K     |████████████████████████████    | 2.3MB 25kB/s eta 0:00:13\r\u001b[K     |████████████████████████████▏   | 2.3MB 25kB/s eta 0:00:13\r\u001b[K     |████████████████████████████▎   | 2.3MB 25kB/s eta 0:00:12\r\u001b[K     |████████████████████████████▍   | 2.3MB 25kB/s eta 0:00:12\r\u001b[K     |████████████████████████████▌   | 2.3MB 25kB/s eta 0:00:12\r\u001b[K     |████████████████████████████▋   | 2.3MB 25kB/s eta 0:00:11\r\u001b[K     |████████████████████████████▉   | 2.3MB 25kB/s eta 0:00:11\r\u001b[K     |█████████████████████████████   | 2.4MB 25kB/s eta 0:00:10\r\u001b[K     |█████████████████████████████   | 2.4MB 25kB/s eta 0:00:10\r\u001b[K     |█████████████████████████████▏  | 2.4MB 25kB/s eta 0:00:10\r\u001b[K     |█████████████████████████████▎  | 2.4MB 25kB/s eta 0:00:09\r\u001b[K     |█████████████████████████████▍  | 2.4MB 25kB/s eta 0:00:09\r\u001b[K     |█████████████████████████████▌  | 2.4MB 25kB/s eta 0:00:08\r\u001b[K     |█████████████████████████████▊  | 2.4MB 25kB/s eta 0:00:08\r\u001b[K     |█████████████████████████████▉  | 2.4MB 25kB/s eta 0:00:08\r\u001b[K     |██████████████████████████████  | 2.4MB 25kB/s eta 0:00:07\r\u001b[K     |██████████████████████████████  | 2.4MB 25kB/s eta 0:00:07\r\u001b[K     |██████████████████████████████▏ | 2.5MB 25kB/s eta 0:00:06\r\u001b[K     |██████████████████████████████▎ | 2.5MB 25kB/s eta 0:00:06\r\u001b[K     |██████████████████████████████▍ | 2.5MB 25kB/s eta 0:00:06\r\u001b[K     |██████████████████████████████▌ | 2.5MB 25kB/s eta 0:00:05\r\u001b[K     |██████████████████████████████▊ | 2.5MB 25kB/s eta 0:00:05\r\u001b[K     |██████████████████████████████▉ | 2.5MB 25kB/s eta 0:00:04\r\u001b[K     |███████████████████████████████ | 2.5MB 25kB/s eta 0:00:04\r\u001b[K     |███████████████████████████████ | 2.5MB 25kB/s eta 0:00:04\r\u001b[K     |███████████████████████████████▏| 2.5MB 25kB/s eta 0:00:03\r\u001b[K     |███████████████████████████████▎| 2.5MB 25kB/s eta 0:00:03\r\u001b[K     |███████████████████████████████▍| 2.6MB 25kB/s eta 0:00:02\r\u001b[K     |███████████████████████████████▌| 2.6MB 25kB/s eta 0:00:02\r\u001b[K     |███████████████████████████████▊| 2.6MB 25kB/s eta 0:00:02\r\u001b[K     |███████████████████████████████▉| 2.6MB 25kB/s eta 0:00:01\r\u001b[K     |████████████████████████████████| 2.6MB 25kB/s eta 0:00:01\r\u001b[K     |████████████████████████████████| 2.6MB 25kB/s \n",
            "\u001b[?25hRequirement already satisfied: tqdm in /usr/local/lib/python3.6/dist-packages (4.41.1)\n",
            "Requirement already satisfied: numpy>=1.7 in /usr/local/lib/python3.6/dist-packages (from h5py) (1.18.5)\n",
            "Requirement already satisfied: six in /usr/local/lib/python3.6/dist-packages (from h5py) (1.15.0)\n",
            "Requirement already satisfied: pytz>=2017.2 in /usr/local/lib/python3.6/dist-packages (from pandas) (2018.9)\n",
            "Requirement already satisfied: python-dateutil>=2.6.1 in /usr/local/lib/python3.6/dist-packages (from pandas) (2.8.1)\n",
            "Installing collected packages: pyfftw\n",
            "Successfully installed pyfftw-0.12.0\n"
          ],
          "name": "stdout"
        }
      ]
    },
    {
      "cell_type": "code",
      "metadata": {
        "id": "YhqLEM5F1GqO",
        "colab_type": "code",
        "colab": {}
      },
      "source": [
        "from pde import *\n",
        "import numpy as np\n",
        "import scipy\n",
        "import matplotlib.pyplot as plt\n",
        "%matplotlib inline"
      ],
      "execution_count": 4,
      "outputs": []
    },
    {
      "cell_type": "code",
      "metadata": {
        "id": "Sk-anTle1Tva",
        "colab_type": "code",
        "colab": {
          "base_uri": "https://localhost:8080/",
          "height": 515,
          "referenced_widgets": [
            "315e6fd9b6ef4bde9e06400aa5df4e52",
            "324b6f8230fe4cd2afe7dc53e1f8cac4",
            "735d1884d5ea4ecc94e493b25e2a6b1e",
            "c7fe4f432729425599af51fb9db5b128",
            "38f68fa3b66a4724ada152ff38e18586",
            "15e15d8091a443048f6b60d73c368a5d",
            "935bfb1c94ae486c89cd67baad0df015",
            "b0f273df7e4848758e4b32f5b779b2ad"
          ]
        },
        "outputId": "d4716599-5d34-4927-efc9-553078d2fab6"
      },
      "source": [
        "plt.style.use('default')\n",
        "eq = DiffusionPDE(diffusivity=0.1)                  # define the pde\n",
        "grid = UnitGrid([64, 64])                           # generate grid\n",
        "state = ScalarField.random_uniform(grid, 0.2, 0.3)  # generate initial condition\n",
        "\n",
        "result = eq.solve(state, t_range=10)\n",
        "result.plot()"
      ],
      "execution_count": 5,
      "outputs": [
        {
          "output_type": "display_data",
          "data": {
            "application/vnd.jupyter.widget-view+json": {
              "model_id": "315e6fd9b6ef4bde9e06400aa5df4e52",
              "version_minor": 0,
              "version_major": 2
            },
            "text/plain": [
              "HBox(children=(FloatProgress(value=0.0, max=10.0), HTML(value='')))"
            ]
          },
          "metadata": {
            "tags": []
          }
        },
        {
          "output_type": "stream",
          "text": [
            "\n"
          ],
          "name": "stdout"
        },
        {
          "output_type": "display_data",
          "data": {
            "image/png": "[encoded data removed]",
            "text/plain": [
              "<Figure size 640x480 with 1 Axes>"
            ]
          },
          "metadata": {
            "tags": []
          }
        },
        {
          "output_type": "execute_result",
          "data": {
            "text/plain": [
              "<pde.tools.plotting.PlotReference at 0x7f4738e93e88>"
            ]
          },
          "metadata": {
            "tags": []
          },
          "execution_count": 5
        }
      ]
    },
    {
      "cell_type": "code",
      "metadata": {
        "id": "ePWVkH3U2hd8",
        "colab_type": "code",
        "colab": {
          "base_uri": "https://localhost:8080/",
          "height": 34
        },
        "outputId": "32d213b1-4109-445b-8fc9-3e04c9a43c7f"
      },
      "source": [
        "result.data.shape"
      ],
      "execution_count": 6,
      "outputs": [
        {
          "output_type": "execute_result",
          "data": {
            "text/plain": [
              "(64, 64)"
            ]
          },
          "metadata": {
            "tags": []
          },
          "execution_count": 6
        }
      ]
    },
    {
      "cell_type": "code",
      "metadata": {
        "id": "Udbj1olm28mJ",
        "colab_type": "code",
        "colab": {}
      },
      "source": [
        "# plt.plot(result.data[0], result.data[1])\n",
        "# plt.show()"
      ],
      "execution_count": 7,
      "outputs": []
    },
    {
      "cell_type": "code",
      "metadata": {
        "id": "UXw7R8HJ4PmO",
        "colab_type": "code",
        "colab": {}
      },
      "source": [
        ""
      ],
      "execution_count": 7,
      "outputs": []
    },
    {
      "cell_type": "markdown",
      "metadata": {
        "id": "4rHxWqTF4QN1",
        "colab_type": "text"
      },
      "source": [
        "#Showing the Dynamic Diffusion History."
      ]
    },
    {
      "cell_type": "code",
      "metadata": {
        "id": "3av_xy843f_w",
        "colab_type": "code",
        "colab": {
          "base_uri": "https://localhost:8080/",
          "height": 1000,
          "referenced_widgets": [
            "bcc9fca0317a4464bcc5b1d553bbe373",
            "526c08dd92414fad9dd12535ebbdf3ea",
            "9f073f54722b4a87a31022de1e2ae1c2",
            "fecc9fbd80014704b9e4d59866c1b01a",
            "8d0e12721a7d479db04181ab58bb40e5",
            "939fa5d3e7b9449783ae17c5ea221cbb",
            "e35a248fce3b4d2baebd2275aa415ad9",
            "d55a25bb7dd149e5858657a86fea165b",
            "369747c6c421431ea22f1edc025f8e24",
            "41f80986cd1d4d17a0caf3c55f1e1216"
          ]
        },
        "outputId": "8ad799b3-a97a-454b-d378-44b43d28b6a5"
      },
      "source": [
        "eq = DiffusionPDE()                                 # define the pde\n",
        "grid = UnitGrid([16, 16])                           # generate grid\n",
        "state = ScalarField.random_uniform(grid, 0.2, 0.3)  # generate initial condition\n",
        "\n",
        "storage = MemoryStorage()\n",
        "\n",
        "trackers = [\n",
        "    'progress',                    # show progress bar during simulation\n",
        "    'steady_state',                # abort when steady state is reached\n",
        "    storage.tracker(interval=1),   # store data every simulation time unit\n",
        "    PlotTracker(show=True),        # show images during simulation\n",
        "    # print some output every 5 real seconds:\n",
        "    PrintTracker(interval=RealtimeIntervals(duration=5))\n",
        "\n",
        "]\n",
        "\n",
        "eq.solve(state, 10, dt=0.1, tracker=trackers)\n",
        "\n",
        "storage[0].plot(colorbar=True)"
      ],
      "execution_count": 8,
      "outputs": [
        {
          "output_type": "display_data",
          "data": {
            "application/vnd.jupyter.widget-view+json": {
              "model_id": "bcc9fca0317a4464bcc5b1d553bbe373",
              "version_minor": 0,
              "version_major": 2
            },
            "text/plain": [
              "HBox(children=(FloatProgress(value=0.0, max=10.0), HTML(value='')))"
            ]
          },
          "metadata": {
            "tags": []
          }
        },
        {
          "output_type": "display_data",
          "data": {
            "application/vnd.jupyter.widget-view+json": {
              "model_id": "369747c6c421431ea22f1edc025f8e24",
              "version_minor": 0,
              "version_major": 2
            },
            "text/plain": [
              "Output()"
            ]
          },
          "metadata": {
            "tags": []
          }
        },
        {
          "output_type": "stream",
          "text": [
            "t=0, c=0.249±0.0294\n",
            "t=0.1, c=0.249±0.0188\n",
            "t=0.2, c=0.249±0.0138\n",
            "t=0.3, c=0.249±0.011\n",
            "t=5.6, c=0.249±0.00266\n"
          ],
          "name": "stdout"
        },
        {
          "output_type": "stream",
          "text": [
            "Spent more time on handling trackers (2.059099370999996) than on the actual simulation (1.0252078720000037)\n"
          ],
          "name": "stderr"
        },
        {
          "output_type": "stream",
          "text": [
            "\n"
          ],
          "name": "stdout"
        },
        {
          "output_type": "display_data",
          "data": {
            "image/png": "[encoded data removed]",
            "text/plain": [
              "<Figure size 640x480 with 2 Axes>"
            ]
          },
          "metadata": {
            "tags": []
          }
        },
        {
          "output_type": "execute_result",
          "data": {
            "text/plain": [
              "<pde.tools.plotting.PlotReference at 0x7f4735bfb708>"
            ]
          },
          "metadata": {
            "tags": []
          },
          "execution_count": 8
        }
      ]
    },
    {
      "cell_type": "code",
      "metadata": {
        "id": "x5Q87ASA4-22",
        "colab_type": "code",
        "colab": {}
      },
      "source": [
        ""
      ],
      "execution_count": 8,
      "outputs": []
    },
    {
      "cell_type": "markdown",
      "metadata": {
        "id": "1DbxenIf5A2n",
        "colab_type": "text"
      },
      "source": [
        "#Setting a Boundary Condition."
      ]
    },
    {
      "cell_type": "code",
      "metadata": {
        "id": "ul0Y94DY4CHT",
        "colab_type": "code",
        "colab": {
          "base_uri": "https://localhost:8080/",
          "height": 521,
          "referenced_widgets": [
            "5bf13700383e4ca899bd1d588e2b424d",
            "507c05b669564825b6451dc644294781",
            "a48ae9e3aed247d7bcc9df86657b3f9c",
            "1582ba9e943f49c5977b67c983d1c387",
            "ebddb2759e6242ccaa9e7a34ffdad57d",
            "545f95ae27474ac1806242c95627d6e0",
            "4ab6883689a64f03b43bb6178412694b",
            "581f781216374a869f845e18f3e4a6f8"
          ]
        },
        "outputId": "c1e97ffa-1146-4d05-b896-ce5df14fcda6"
      },
      "source": [
        "grid = UnitGrid([16, 16], periodic=[False, True])   # generate grid\n",
        "state = ScalarField.random_uniform(grid, 0.2, 0.3)  # generate initial condition\n",
        "\n",
        "# set boundary conditions `bc` for all axes\n",
        "bc_x_left = {'type': 'derivative', 'value': 0.1}\n",
        "bc_x_right = {'type': 'value', 'value': 0}\n",
        "bc_x = [bc_x_left, bc_x_right]\n",
        "bc_y = 'periodic'\n",
        "eq = DiffusionPDE(bc=[bc_x, bc_y])\n",
        "\n",
        "result = eq.solve(state, t_range=10, dt=0.005)\n",
        "result.plot(colorbar=True)"
      ],
      "execution_count": 9,
      "outputs": [
        {
          "output_type": "display_data",
          "data": {
            "application/vnd.jupyter.widget-view+json": {
              "model_id": "5bf13700383e4ca899bd1d588e2b424d",
              "version_minor": 0,
              "version_major": 2
            },
            "text/plain": [
              "HBox(children=(FloatProgress(value=0.0, max=10.0), HTML(value='')))"
            ]
          },
          "metadata": {
            "tags": []
          }
        },
        {
          "output_type": "stream",
          "text": [
            "\n"
          ],
          "name": "stdout"
        },
        {
          "output_type": "display_data",
          "data": {
            "image/png": "[encoded data removed]",
            "text/plain": [
              "<Figure size 640x480 with 2 Axes>"
            ]
          },
          "metadata": {
            "tags": []
          }
        },
        {
          "output_type": "execute_result",
          "data": {
            "text/plain": [
              "<pde.tools.plotting.PlotReference at 0x7f4735e62208>"
            ]
          },
          "metadata": {
            "tags": []
          },
          "execution_count": 9
        }
      ]
    },
    {
      "cell_type": "markdown",
      "metadata": {
        "id": "YM2e4spw5EUr",
        "colab_type": "text"
      },
      "source": [
        "# Making a movie."
      ]
    },
    {
      "cell_type": "code",
      "metadata": {
        "id": "mJPJgE734fYQ",
        "colab_type": "code",
        "colab": {
          "base_uri": "https://localhost:8080/",
          "height": 457,
          "referenced_widgets": [
            "922a6a4484f54b61b401b10fc56422e5",
            "bac4ba1bf92b4cd7aa0c76a8ab48b567",
            "90ecce188190499d935dc60932c7fc63",
            "e48229355c7240b48bc1d3e4778b2527",
            "9365a90db26f4d3aa6efc853fd31db1f",
            "6537aaf82fb249fa9e52408202925990",
            "10fd0dbf217343e8bef2f9e2a37c5b53",
            "ab796b0cce294583b48db416e4bc2493",
            "647266755f464a1583591215bbd07782",
            "10598d0fcd0d4000b0a88e21d43d8026"
          ]
        },
        "outputId": "e1a8830d-2a42-4f1a-9a6c-40a330f9db74"
      },
      "source": [
        "eq = DiffusionPDE()                                 # define the physics\n",
        "grid = UnitGrid([16, 16])                           # generate grid\n",
        "state = ScalarField.random_uniform(grid, 0.2, 0.3)  # generate initial condition\n",
        "\n",
        "storage = MemoryStorage()               # create storage\n",
        "tracker = storage.tracker(interval=1)   # create associated tracker\n",
        "\n",
        "eq.solve(state, t_range=2, dt=0.005, tracker=tracker)\n",
        "\n",
        "# create movie from stored data\n",
        "movie_scalar(storage, '/tmp/diffusion.mov')"
      ],
      "execution_count": 10,
      "outputs": [
        {
          "output_type": "display_data",
          "data": {
            "application/vnd.jupyter.widget-view+json": {
              "model_id": "922a6a4484f54b61b401b10fc56422e5",
              "version_minor": 0,
              "version_major": 2
            },
            "text/plain": [
              "Output()"
            ]
          },
          "metadata": {
            "tags": []
          }
        },
        {
          "output_type": "display_data",
          "data": {
            "application/vnd.jupyter.widget-view+json": {
              "model_id": "90ecce188190499d935dc60932c7fc63",
              "version_minor": 0,
              "version_major": 2
            },
            "text/plain": [
              "HBox(children=(FloatProgress(value=0.0, max=3.0), HTML(value='')))"
            ]
          },
          "metadata": {
            "tags": []
          }
        },
        {
          "output_type": "stream",
          "text": [
            "\n"
          ],
          "name": "stdout"
        }
      ]
    },
    {
      "cell_type": "code",
      "metadata": {
        "id": "Rpe-sxa26LaB",
        "colab_type": "code",
        "colab": {}
      },
      "source": [
        "#Practicing..."
      ],
      "execution_count": 11,
      "outputs": []
    },
    {
      "cell_type": "code",
      "metadata": {
        "id": "nm3YihbS5JeJ",
        "colab_type": "code",
        "colab": {}
      },
      "source": [
        "grid = UnitGrid([32,32])"
      ],
      "execution_count": 12,
      "outputs": []
    },
    {
      "cell_type": "code",
      "metadata": {
        "id": "8e99Ex7f6SWt",
        "colab_type": "code",
        "colab": {
          "base_uri": "https://localhost:8080/",
          "height": 449
        },
        "outputId": "c8bef48f-f6af-4565-f1da-b239d58532ed"
      },
      "source": [
        "grid.plot()"
      ],
      "execution_count": 13,
      "outputs": [
        {
          "output_type": "display_data",
          "data": {
            "image/png": "[encoded data removed]",
            "text/plain": [
              "<Figure size 640x480 with 1 Axes>"
            ]
          },
          "metadata": {
            "tags": []
          }
        }
      ]
    },
    {
      "cell_type": "code",
      "metadata": {
        "id": "r92IReg66bp7",
        "colab_type": "code",
        "colab": {
          "base_uri": "https://localhost:8080/",
          "height": 350
        },
        "outputId": "33539cb0-5ed9-4245-d869-057065216f6f"
      },
      "source": [
        "grid = CartesianGrid([[0, 2], [0, 1]], [16, 32])\n",
        "grid.plot(title=f'Area={grid.volume}')"
      ],
      "execution_count": 14,
      "outputs": [
        {
          "output_type": "display_data",
          "data": {
            "image/png": "[encoded data removed]",
            "text/plain": [
              "<Figure size 640x480 with 1 Axes>"
            ]
          },
          "metadata": {
            "tags": []
          }
        }
      ]
    },
    {
      "cell_type": "code",
      "metadata": {
        "id": "SHbMFiYu6nxc",
        "colab_type": "code",
        "colab": {
          "base_uri": "https://localhost:8080/",
          "height": 472
        },
        "outputId": "b8bf9b2b-4849-406b-fed2-49bb1b5d9b9b"
      },
      "source": [
        "\n",
        "grid = PolarGrid(5, 16)\n",
        "grid.plot(title=f'Area={grid.volume:.3g}')"
      ],
      "execution_count": 15,
      "outputs": [
        {
          "output_type": "display_data",
          "data": {
            "image/png": "[encoded data removed]",
            "text/plain": [
              "<Figure size 640x480 with 1 Axes>"
            ]
          },
          "metadata": {
            "tags": []
          }
        }
      ]
    },
    {
      "cell_type": "markdown",
      "metadata": {
        "id": "fge3RNSE6yQN",
        "colab_type": "text"
      },
      "source": [
        "#ScalarFields\n",
        "\n",
        "Scalar fields represent scalar quantities that depend on position. In this package, scalar fields are represented by their values at the support points of the discretized grids discussed above. Consequently, one first has to construct a grid and pass it to the ScalarField class to construct a scalar field."
      ]
    },
    {
      "cell_type": "code",
      "metadata": {
        "id": "qkISUqiv6uV0",
        "colab_type": "code",
        "colab": {
          "base_uri": "https://localhost:8080/",
          "height": 455
        },
        "outputId": "798a66c8-3ab7-4375-8f5a-30726540b45f"
      },
      "source": [
        "grid = UnitGrid([20,20])\n",
        "grid.plot()"
      ],
      "execution_count": 16,
      "outputs": [
        {
          "output_type": "display_data",
          "data": {
            "image/png": "[encoded data removed]",
            "text/plain": [
              "<Figure size 640x480 with 1 Axes>"
            ]
          },
          "metadata": {
            "tags": []
          }
        }
      ]
    },
    {
      "cell_type": "code",
      "metadata": {
        "id": "-CSYKsn87VTa",
        "colab_type": "code",
        "colab": {}
      },
      "source": [
        "P = np.ones([20,20])\n",
        "P = P*2000"
      ],
      "execution_count": 17,
      "outputs": []
    },
    {
      "cell_type": "code",
      "metadata": {
        "id": "ROQteWP_7elo",
        "colab_type": "code",
        "colab": {}
      },
      "source": [
        "# P is now the initial Pressure value containing scalar field. "
      ],
      "execution_count": 18,
      "outputs": []
    },
    {
      "cell_type": "code",
      "metadata": {
        "id": "3ZkrylX57fg-",
        "colab_type": "code",
        "colab": {}
      },
      "source": [
        "field = ScalarField(grid=grid , data = P)"
      ],
      "execution_count": 19,
      "outputs": []
    },
    {
      "cell_type": "code",
      "metadata": {
        "id": "3NJacqnj7-MG",
        "colab_type": "code",
        "colab": {}
      },
      "source": [
        "import pandas as pd\n"
      ],
      "execution_count": 20,
      "outputs": []
    },
    {
      "cell_type": "code",
      "metadata": {
        "id": "3ZsKo6dq7z_w",
        "colab_type": "code",
        "colab": {}
      },
      "source": [
        "df = pd.DataFrame(field.data)"
      ],
      "execution_count": 21,
      "outputs": []
    },
    {
      "cell_type": "code",
      "metadata": {
        "id": "ytQUc-ZZ72Hu",
        "colab_type": "code",
        "colab": {
          "base_uri": "https://localhost:8080/",
          "height": 669
        },
        "outputId": "58ff9a7b-853f-43ab-eaac-710368038ff1"
      },
      "source": [
        "df #just to display the various pressure values in each grid block."
      ],
      "execution_count": 22,
      "outputs": [
        {
          "output_type": "execute_result",
          "data": {
            "text/html": [
              "<div>\n",
              "<style scoped>\n",
              "    .dataframe tbody tr th:only-of-type {\n",
              "        vertical-align: middle;\n",
              "    }\n",
              "\n",
              "    .dataframe tbody tr th {\n",
              "        vertical-align: top;\n",
              "    }\n",
              "\n",
              "    .dataframe thead th {\n",
              "        text-align: right;\n",
              "    }\n",
              "</style>\n",
              "<table border=\"1\" class=\"dataframe\">\n",
              "  <thead>\n",
              "    <tr style=\"text-align: right;\">\n",
              "      <th></th>\n",
              "      <th>0</th>\n",
              "      <th>1</th>\n",
              "      <th>2</th>\n",
              "      <th>3</th>\n",
              "      <th>4</th>\n",
              "      <th>5</th>\n",
              "      <th>6</th>\n",
              "      <th>7</th>\n",
              "      <th>8</th>\n",
              "      <th>9</th>\n",
              "      <th>10</th>\n",
              "      <th>11</th>\n",
              "      <th>12</th>\n",
              "      <th>13</th>\n",
              "      <th>14</th>\n",
              "      <th>15</th>\n",
              "      <th>16</th>\n",
              "      <th>17</th>\n",
              "      <th>18</th>\n",
              "      <th>19</th>\n",
              "    </tr>\n",
              "  </thead>\n",
              "  <tbody>\n",
              "    <tr>\n",
              "      <th>0</th>\n",
              "      <td>2000.0</td>\n",
              "      <td>2000.0</td>\n",
              "      <td>2000.0</td>\n",
              "      <td>2000.0</td>\n",
              "      <td>2000.0</td>\n",
              "      <td>2000.0</td>\n",
              "      <td>2000.0</td>\n",
              "      <td>2000.0</td>\n",
              "      <td>2000.0</td>\n",
              "      <td>2000.0</td>\n",
              "      <td>2000.0</td>\n",
              "      <td>2000.0</td>\n",
              "      <td>2000.0</td>\n",
              "      <td>2000.0</td>\n",
              "      <td>2000.0</td>\n",
              "      <td>2000.0</td>\n",
              "      <td>2000.0</td>\n",
              "      <td>2000.0</td>\n",
              "      <td>2000.0</td>\n",
              "      <td>2000.0</td>\n",
              "    </tr>\n",
              "    <tr>\n",
              "      <th>1</th>\n",
              "      <td>2000.0</td>\n",
              "      <td>2000.0</td>\n",
              "      <td>2000.0</td>\n",
              "      <td>2000.0</td>\n",
              "      <td>2000.0</td>\n",
              "      <td>2000.0</td>\n",
              "      <td>2000.0</td>\n",
              "      <td>2000.0</td>\n",
              "      <td>2000.0</td>\n",
              "      <td>2000.0</td>\n",
              "      <td>2000.0</td>\n",
              "      <td>2000.0</td>\n",
              "      <td>2000.0</td>\n",
              "      <td>2000.0</td>\n",
              "      <td>2000.0</td>\n",
              "      <td>2000.0</td>\n",
              "      <td>2000.0</td>\n",
              "      <td>2000.0</td>\n",
              "      <td>2000.0</td>\n",
              "      <td>2000.0</td>\n",
              "    </tr>\n",
              "    <tr>\n",
              "      <th>2</th>\n",
              "      <td>2000.0</td>\n",
              "      <td>2000.0</td>\n",
              "      <td>2000.0</td>\n",
              "      <td>2000.0</td>\n",
              "      <td>2000.0</td>\n",
              "      <td>2000.0</td>\n",
              "      <td>2000.0</td>\n",
              "      <td>2000.0</td>\n",
              "      <td>2000.0</td>\n",
              "      <td>2000.0</td>\n",
              "      <td>2000.0</td>\n",
              "      <td>2000.0</td>\n",
              "      <td>2000.0</td>\n",
              "      <td>2000.0</td>\n",
              "      <td>2000.0</td>\n",
              "      <td>2000.0</td>\n",
              "      <td>2000.0</td>\n",
              "      <td>2000.0</td>\n",
              "      <td>2000.0</td>\n",
              "      <td>2000.0</td>\n",
              "    </tr>\n",
              "    <tr>\n",
              "      <th>3</th>\n",
              "      <td>2000.0</td>\n",
              "      <td>2000.0</td>\n",
              "      <td>2000.0</td>\n",
              "      <td>2000.0</td>\n",
              "      <td>2000.0</td>\n",
              "      <td>2000.0</td>\n",
              "      <td>2000.0</td>\n",
              "      <td>2000.0</td>\n",
              "      <td>2000.0</td>\n",
              "      <td>2000.0</td>\n",
              "      <td>2000.0</td>\n",
              "      <td>2000.0</td>\n",
              "      <td>2000.0</td>\n",
              "      <td>2000.0</td>\n",
              "      <td>2000.0</td>\n",
              "      <td>2000.0</td>\n",
              "      <td>2000.0</td>\n",
              "      <td>2000.0</td>\n",
              "      <td>2000.0</td>\n",
              "      <td>2000.0</td>\n",
              "    </tr>\n",
              "    <tr>\n",
              "      <th>4</th>\n",
              "      <td>2000.0</td>\n",
              "      <td>2000.0</td>\n",
              "      <td>2000.0</td>\n",
              "      <td>2000.0</td>\n",
              "      <td>2000.0</td>\n",
              "      <td>2000.0</td>\n",
              "      <td>2000.0</td>\n",
              "      <td>2000.0</td>\n",
              "      <td>2000.0</td>\n",
              "      <td>2000.0</td>\n",
              "      <td>2000.0</td>\n",
              "      <td>2000.0</td>\n",
              "      <td>2000.0</td>\n",
              "      <td>2000.0</td>\n",
              "      <td>2000.0</td>\n",
              "      <td>2000.0</td>\n",
              "      <td>2000.0</td>\n",
              "      <td>2000.0</td>\n",
              "      <td>2000.0</td>\n",
              "      <td>2000.0</td>\n",
              "    </tr>\n",
              "    <tr>\n",
              "      <th>5</th>\n",
              "      <td>2000.0</td>\n",
              "      <td>2000.0</td>\n",
              "      <td>2000.0</td>\n",
              "      <td>2000.0</td>\n",
              "      <td>2000.0</td>\n",
              "      <td>2000.0</td>\n",
              "      <td>2000.0</td>\n",
              "      <td>2000.0</td>\n",
              "      <td>2000.0</td>\n",
              "      <td>2000.0</td>\n",
              "      <td>2000.0</td>\n",
              "      <td>2000.0</td>\n",
              "      <td>2000.0</td>\n",
              "      <td>2000.0</td>\n",
              "      <td>2000.0</td>\n",
              "      <td>2000.0</td>\n",
              "      <td>2000.0</td>\n",
              "      <td>2000.0</td>\n",
              "      <td>2000.0</td>\n",
              "      <td>2000.0</td>\n",
              "    </tr>\n",
              "    <tr>\n",
              "      <th>6</th>\n",
              "      <td>2000.0</td>\n",
              "      <td>2000.0</td>\n",
              "      <td>2000.0</td>\n",
              "      <td>2000.0</td>\n",
              "      <td>2000.0</td>\n",
              "      <td>2000.0</td>\n",
              "      <td>2000.0</td>\n",
              "      <td>2000.0</td>\n",
              "      <td>2000.0</td>\n",
              "      <td>2000.0</td>\n",
              "      <td>2000.0</td>\n",
              "      <td>2000.0</td>\n",
              "      <td>2000.0</td>\n",
              "      <td>2000.0</td>\n",
              "      <td>2000.0</td>\n",
              "      <td>2000.0</td>\n",
              "      <td>2000.0</td>\n",
              "      <td>2000.0</td>\n",
              "      <td>2000.0</td>\n",
              "      <td>2000.0</td>\n",
              "    </tr>\n",
              "    <tr>\n",
              "      <th>7</th>\n",
              "      <td>2000.0</td>\n",
              "      <td>2000.0</td>\n",
              "      <td>2000.0</td>\n",
              "      <td>2000.0</td>\n",
              "      <td>2000.0</td>\n",
              "      <td>2000.0</td>\n",
              "      <td>2000.0</td>\n",
              "      <td>2000.0</td>\n",
              "      <td>2000.0</td>\n",
              "      <td>2000.0</td>\n",
              "      <td>2000.0</td>\n",
              "      <td>2000.0</td>\n",
              "      <td>2000.0</td>\n",
              "      <td>2000.0</td>\n",
              "      <td>2000.0</td>\n",
              "      <td>2000.0</td>\n",
              "      <td>2000.0</td>\n",
              "      <td>2000.0</td>\n",
              "      <td>2000.0</td>\n",
              "      <td>2000.0</td>\n",
              "    </tr>\n",
              "    <tr>\n",
              "      <th>8</th>\n",
              "      <td>2000.0</td>\n",
              "      <td>2000.0</td>\n",
              "      <td>2000.0</td>\n",
              "      <td>2000.0</td>\n",
              "      <td>2000.0</td>\n",
              "      <td>2000.0</td>\n",
              "      <td>2000.0</td>\n",
              "      <td>2000.0</td>\n",
              "      <td>2000.0</td>\n",
              "      <td>2000.0</td>\n",
              "      <td>2000.0</td>\n",
              "      <td>2000.0</td>\n",
              "      <td>2000.0</td>\n",
              "      <td>2000.0</td>\n",
              "      <td>2000.0</td>\n",
              "      <td>2000.0</td>\n",
              "      <td>2000.0</td>\n",
              "      <td>2000.0</td>\n",
              "      <td>2000.0</td>\n",
              "      <td>2000.0</td>\n",
              "    </tr>\n",
              "    <tr>\n",
              "      <th>9</th>\n",
              "      <td>2000.0</td>\n",
              "      <td>2000.0</td>\n",
              "      <td>2000.0</td>\n",
              "      <td>2000.0</td>\n",
              "      <td>2000.0</td>\n",
              "      <td>2000.0</td>\n",
              "      <td>2000.0</td>\n",
              "      <td>2000.0</td>\n",
              "      <td>2000.0</td>\n",
              "      <td>2000.0</td>\n",
              "      <td>2000.0</td>\n",
              "      <td>2000.0</td>\n",
              "      <td>2000.0</td>\n",
              "      <td>2000.0</td>\n",
              "      <td>2000.0</td>\n",
              "      <td>2000.0</td>\n",
              "      <td>2000.0</td>\n",
              "      <td>2000.0</td>\n",
              "      <td>2000.0</td>\n",
              "      <td>2000.0</td>\n",
              "    </tr>\n",
              "    <tr>\n",
              "      <th>10</th>\n",
              "      <td>2000.0</td>\n",
              "      <td>2000.0</td>\n",
              "      <td>2000.0</td>\n",
              "      <td>2000.0</td>\n",
              "      <td>2000.0</td>\n",
              "      <td>2000.0</td>\n",
              "      <td>2000.0</td>\n",
              "      <td>2000.0</td>\n",
              "      <td>2000.0</td>\n",
              "      <td>2000.0</td>\n",
              "      <td>2000.0</td>\n",
              "      <td>2000.0</td>\n",
              "      <td>2000.0</td>\n",
              "      <td>2000.0</td>\n",
              "      <td>2000.0</td>\n",
              "      <td>2000.0</td>\n",
              "      <td>2000.0</td>\n",
              "      <td>2000.0</td>\n",
              "      <td>2000.0</td>\n",
              "      <td>2000.0</td>\n",
              "    </tr>\n",
              "    <tr>\n",
              "      <th>11</th>\n",
              "      <td>2000.0</td>\n",
              "      <td>2000.0</td>\n",
              "      <td>2000.0</td>\n",
              "      <td>2000.0</td>\n",
              "      <td>2000.0</td>\n",
              "      <td>2000.0</td>\n",
              "      <td>2000.0</td>\n",
              "      <td>2000.0</td>\n",
              "      <td>2000.0</td>\n",
              "      <td>2000.0</td>\n",
              "      <td>2000.0</td>\n",
              "      <td>2000.0</td>\n",
              "      <td>2000.0</td>\n",
              "      <td>2000.0</td>\n",
              "      <td>2000.0</td>\n",
              "      <td>2000.0</td>\n",
              "      <td>2000.0</td>\n",
              "      <td>2000.0</td>\n",
              "      <td>2000.0</td>\n",
              "      <td>2000.0</td>\n",
              "    </tr>\n",
              "    <tr>\n",
              "      <th>12</th>\n",
              "      <td>2000.0</td>\n",
              "      <td>2000.0</td>\n",
              "      <td>2000.0</td>\n",
              "      <td>2000.0</td>\n",
              "      <td>2000.0</td>\n",
              "      <td>2000.0</td>\n",
              "      <td>2000.0</td>\n",
              "      <td>2000.0</td>\n",
              "      <td>2000.0</td>\n",
              "      <td>2000.0</td>\n",
              "      <td>2000.0</td>\n",
              "      <td>2000.0</td>\n",
              "      <td>2000.0</td>\n",
              "      <td>2000.0</td>\n",
              "      <td>2000.0</td>\n",
              "      <td>2000.0</td>\n",
              "      <td>2000.0</td>\n",
              "      <td>2000.0</td>\n",
              "      <td>2000.0</td>\n",
              "      <td>2000.0</td>\n",
              "    </tr>\n",
              "    <tr>\n",
              "      <th>13</th>\n",
              "      <td>2000.0</td>\n",
              "      <td>2000.0</td>\n",
              "      <td>2000.0</td>\n",
              "      <td>2000.0</td>\n",
              "      <td>2000.0</td>\n",
              "      <td>2000.0</td>\n",
              "      <td>2000.0</td>\n",
              "      <td>2000.0</td>\n",
              "      <td>2000.0</td>\n",
              "      <td>2000.0</td>\n",
              "      <td>2000.0</td>\n",
              "      <td>2000.0</td>\n",
              "      <td>2000.0</td>\n",
              "      <td>2000.0</td>\n",
              "      <td>2000.0</td>\n",
              "      <td>2000.0</td>\n",
              "      <td>2000.0</td>\n",
              "      <td>2000.0</td>\n",
              "      <td>2000.0</td>\n",
              "      <td>2000.0</td>\n",
              "    </tr>\n",
              "    <tr>\n",
              "      <th>14</th>\n",
              "      <td>2000.0</td>\n",
              "      <td>2000.0</td>\n",
              "      <td>2000.0</td>\n",
              "      <td>2000.0</td>\n",
              "      <td>2000.0</td>\n",
              "      <td>2000.0</td>\n",
              "      <td>2000.0</td>\n",
              "      <td>2000.0</td>\n",
              "      <td>2000.0</td>\n",
              "      <td>2000.0</td>\n",
              "      <td>2000.0</td>\n",
              "      <td>2000.0</td>\n",
              "      <td>2000.0</td>\n",
              "      <td>2000.0</td>\n",
              "      <td>2000.0</td>\n",
              "      <td>2000.0</td>\n",
              "      <td>2000.0</td>\n",
              "      <td>2000.0</td>\n",
              "      <td>2000.0</td>\n",
              "      <td>2000.0</td>\n",
              "    </tr>\n",
              "    <tr>\n",
              "      <th>15</th>\n",
              "      <td>2000.0</td>\n",
              "      <td>2000.0</td>\n",
              "      <td>2000.0</td>\n",
              "      <td>2000.0</td>\n",
              "      <td>2000.0</td>\n",
              "      <td>2000.0</td>\n",
              "      <td>2000.0</td>\n",
              "      <td>2000.0</td>\n",
              "      <td>2000.0</td>\n",
              "      <td>2000.0</td>\n",
              "      <td>2000.0</td>\n",
              "      <td>2000.0</td>\n",
              "      <td>2000.0</td>\n",
              "      <td>2000.0</td>\n",
              "      <td>2000.0</td>\n",
              "      <td>2000.0</td>\n",
              "      <td>2000.0</td>\n",
              "      <td>2000.0</td>\n",
              "      <td>2000.0</td>\n",
              "      <td>2000.0</td>\n",
              "    </tr>\n",
              "    <tr>\n",
              "      <th>16</th>\n",
              "      <td>2000.0</td>\n",
              "      <td>2000.0</td>\n",
              "      <td>2000.0</td>\n",
              "      <td>2000.0</td>\n",
              "      <td>2000.0</td>\n",
              "      <td>2000.0</td>\n",
              "      <td>2000.0</td>\n",
              "      <td>2000.0</td>\n",
              "      <td>2000.0</td>\n",
              "      <td>2000.0</td>\n",
              "      <td>2000.0</td>\n",
              "      <td>2000.0</td>\n",
              "      <td>2000.0</td>\n",
              "      <td>2000.0</td>\n",
              "      <td>2000.0</td>\n",
              "      <td>2000.0</td>\n",
              "      <td>2000.0</td>\n",
              "      <td>2000.0</td>\n",
              "      <td>2000.0</td>\n",
              "      <td>2000.0</td>\n",
              "    </tr>\n",
              "    <tr>\n",
              "      <th>17</th>\n",
              "      <td>2000.0</td>\n",
              "      <td>2000.0</td>\n",
              "      <td>2000.0</td>\n",
              "      <td>2000.0</td>\n",
              "      <td>2000.0</td>\n",
              "      <td>2000.0</td>\n",
              "      <td>2000.0</td>\n",
              "      <td>2000.0</td>\n",
              "      <td>2000.0</td>\n",
              "      <td>2000.0</td>\n",
              "      <td>2000.0</td>\n",
              "      <td>2000.0</td>\n",
              "      <td>2000.0</td>\n",
              "      <td>2000.0</td>\n",
              "      <td>2000.0</td>\n",
              "      <td>2000.0</td>\n",
              "      <td>2000.0</td>\n",
              "      <td>2000.0</td>\n",
              "      <td>2000.0</td>\n",
              "      <td>2000.0</td>\n",
              "    </tr>\n",
              "    <tr>\n",
              "      <th>18</th>\n",
              "      <td>2000.0</td>\n",
              "      <td>2000.0</td>\n",
              "      <td>2000.0</td>\n",
              "      <td>2000.0</td>\n",
              "      <td>2000.0</td>\n",
              "      <td>2000.0</td>\n",
              "      <td>2000.0</td>\n",
              "      <td>2000.0</td>\n",
              "      <td>2000.0</td>\n",
              "      <td>2000.0</td>\n",
              "      <td>2000.0</td>\n",
              "      <td>2000.0</td>\n",
              "      <td>2000.0</td>\n",
              "      <td>2000.0</td>\n",
              "      <td>2000.0</td>\n",
              "      <td>2000.0</td>\n",
              "      <td>2000.0</td>\n",
              "      <td>2000.0</td>\n",
              "      <td>2000.0</td>\n",
              "      <td>2000.0</td>\n",
              "    </tr>\n",
              "    <tr>\n",
              "      <th>19</th>\n",
              "      <td>2000.0</td>\n",
              "      <td>2000.0</td>\n",
              "      <td>2000.0</td>\n",
              "      <td>2000.0</td>\n",
              "      <td>2000.0</td>\n",
              "      <td>2000.0</td>\n",
              "      <td>2000.0</td>\n",
              "      <td>2000.0</td>\n",
              "      <td>2000.0</td>\n",
              "      <td>2000.0</td>\n",
              "      <td>2000.0</td>\n",
              "      <td>2000.0</td>\n",
              "      <td>2000.0</td>\n",
              "      <td>2000.0</td>\n",
              "      <td>2000.0</td>\n",
              "      <td>2000.0</td>\n",
              "      <td>2000.0</td>\n",
              "      <td>2000.0</td>\n",
              "      <td>2000.0</td>\n",
              "      <td>2000.0</td>\n",
              "    </tr>\n",
              "  </tbody>\n",
              "</table>\n",
              "</div>"
            ],
            "text/plain": [
              "        0       1       2       3   ...      16      17      18      19\n",
              "0   2000.0  2000.0  2000.0  2000.0  ...  2000.0  2000.0  2000.0  2000.0\n",
              "1   2000.0  2000.0  2000.0  2000.0  ...  2000.0  2000.0  2000.0  2000.0\n",
              "2   2000.0  2000.0  2000.0  2000.0  ...  2000.0  2000.0  2000.0  2000.0\n",
              "3   2000.0  2000.0  2000.0  2000.0  ...  2000.0  2000.0  2000.0  2000.0\n",
              "4   2000.0  2000.0  2000.0  2000.0  ...  2000.0  2000.0  2000.0  2000.0\n",
              "5   2000.0  2000.0  2000.0  2000.0  ...  2000.0  2000.0  2000.0  2000.0\n",
              "6   2000.0  2000.0  2000.0  2000.0  ...  2000.0  2000.0  2000.0  2000.0\n",
              "7   2000.0  2000.0  2000.0  2000.0  ...  2000.0  2000.0  2000.0  2000.0\n",
              "8   2000.0  2000.0  2000.0  2000.0  ...  2000.0  2000.0  2000.0  2000.0\n",
              "9   2000.0  2000.0  2000.0  2000.0  ...  2000.0  2000.0  2000.0  2000.0\n",
              "10  2000.0  2000.0  2000.0  2000.0  ...  2000.0  2000.0  2000.0  2000.0\n",
              "11  2000.0  2000.0  2000.0  2000.0  ...  2000.0  2000.0  2000.0  2000.0\n",
              "12  2000.0  2000.0  2000.0  2000.0  ...  2000.0  2000.0  2000.0  2000.0\n",
              "13  2000.0  2000.0  2000.0  2000.0  ...  2000.0  2000.0  2000.0  2000.0\n",
              "14  2000.0  2000.0  2000.0  2000.0  ...  2000.0  2000.0  2000.0  2000.0\n",
              "15  2000.0  2000.0  2000.0  2000.0  ...  2000.0  2000.0  2000.0  2000.0\n",
              "16  2000.0  2000.0  2000.0  2000.0  ...  2000.0  2000.0  2000.0  2000.0\n",
              "17  2000.0  2000.0  2000.0  2000.0  ...  2000.0  2000.0  2000.0  2000.0\n",
              "18  2000.0  2000.0  2000.0  2000.0  ...  2000.0  2000.0  2000.0  2000.0\n",
              "19  2000.0  2000.0  2000.0  2000.0  ...  2000.0  2000.0  2000.0  2000.0\n",
              "\n",
              "[20 rows x 20 columns]"
            ]
          },
          "metadata": {
            "tags": []
          },
          "execution_count": 22
        }
      ]
    },
    {
      "cell_type": "code",
      "metadata": {
        "id": "-WKVGO6u8Bm1",
        "colab_type": "code",
        "colab": {
          "base_uri": "https://localhost:8080/",
          "height": 489
        },
        "outputId": "e93bfd49-7b53-4ee9-a853-083ceb4cfde0"
      },
      "source": [
        "import seaborn as sns\n",
        "sns.heatmap(df)\n",
        "plt.show()"
      ],
      "execution_count": 23,
      "outputs": [
        {
          "output_type": "stream",
          "text": [
            "/usr/local/lib/python3.6/dist-packages/statsmodels/tools/_testing.py:19: FutureWarning: pandas.util.testing is deprecated. Use the functions in the public API at pandas.testing instead.\n",
            "  import pandas.util.testing as tm\n"
          ],
          "name": "stderr"
        },
        {
          "output_type": "display_data",
          "data": {
            "image/png": "[encoded data removed]",
            "text/plain": [
              "<Figure size 640x480 with 2 Axes>"
            ]
          },
          "metadata": {
            "tags": []
          }
        }
      ]
    },
    {
      "cell_type": "code",
      "metadata": {
        "id": "nYO7ZSBf8SH8",
        "colab_type": "code",
        "colab": {
          "base_uri": "https://localhost:8080/",
          "height": 472
        },
        "outputId": "a0c56f3b-8f24-4b5a-ba16-e9a3b60a1141"
      },
      "source": [
        "#or simply\n",
        "field.plot(colorbar=True)"
      ],
      "execution_count": 24,
      "outputs": [
        {
          "output_type": "display_data",
          "data": {
            "image/png": "[encoded data removed]",
            "text/plain": [
              "<Figure size 640x480 with 2 Axes>"
            ]
          },
          "metadata": {
            "tags": []
          }
        },
        {
          "output_type": "execute_result",
          "data": {
            "text/plain": [
              "<pde.tools.plotting.PlotReference at 0x7f4731a00748>"
            ]
          },
          "metadata": {
            "tags": []
          },
          "execution_count": 24
        }
      ]
    },
    {
      "cell_type": "markdown",
      "metadata": {
        "id": "sawfqMx_8qoR",
        "colab_type": "text"
      },
      "source": [
        "#Values at individual points can be determined by interpolation"
      ]
    },
    {
      "cell_type": "markdown",
      "metadata": {
        "id": "33YbgWue9GpE",
        "colab_type": "text"
      },
      "source": [
        "#Initializing with a random normal distribution."
      ]
    },
    {
      "cell_type": "code",
      "metadata": {
        "id": "drtbrPVG8ffu",
        "colab_type": "code",
        "colab": {
          "base_uri": "https://localhost:8080/",
          "height": 472
        },
        "outputId": "cd14d634-ddfb-42c6-99be-b2e7eb6e77c9"
      },
      "source": [
        "\n",
        "field = ScalarField.random_normal(grid)\n",
        "field.plot(title=f'Average={field.average:.3f}', colorbar=True);\n",
        "\n"
      ],
      "execution_count": 25,
      "outputs": [
        {
          "output_type": "display_data",
          "data": {
            "image/png": "[encoded data removed]",
            "text/plain": [
              "<Figure size 640x480 with 2 Axes>"
            ]
          },
          "metadata": {
            "tags": []
          }
        }
      ]
    },
    {
      "cell_type": "code",
      "metadata": {
        "id": "_8jT1GLh8wvD",
        "colab_type": "code",
        "colab": {}
      },
      "source": [
        ""
      ],
      "execution_count": 25,
      "outputs": []
    },
    {
      "cell_type": "markdown",
      "metadata": {
        "id": "VJe7wws2-H99",
        "colab_type": "text"
      },
      "source": [
        "# **Tutorial 2 : Solving Pre-Defined PDEs **"
      ]
    },
    {
      "cell_type": "markdown",
      "metadata": {
        "id": "6JXOgwOY-W0B",
        "colab_type": "text"
      },
      "source": [
        "In the simplest case, a PDE evolves a field in time. To reflect this in code, we first define an initial state and then use a simple PDE to evolve it in time"
      ]
    },
    {
      "cell_type": "code",
      "metadata": {
        "id": "NK4PO4Aq-NDL",
        "colab_type": "code",
        "colab": {}
      },
      "source": [
        "DiffusionPDE?"
      ],
      "execution_count": 26,
      "outputs": []
    },
    {
      "cell_type": "markdown",
      "metadata": {
        "id": "yDmc9AxP-pV-",
        "colab_type": "text"
      },
      "source": [
        "$ \\frac {\\partial P} {\\partial t} =  \\eta \\nabla^2 P $"
      ]
    },
    {
      "cell_type": "code",
      "metadata": {
        "id": "SH77Oqx6CJrz",
        "colab_type": "code",
        "colab": {
          "base_uri": "https://localhost:8080/",
          "height": 1000
        },
        "outputId": "08e92495-08b3-4f7e-b815-22b7a073f931"
      },
      "source": [
        "P[:,0] = 150\n",
        "\n",
        "P"
      ],
      "execution_count": 27,
      "outputs": [
        {
          "output_type": "execute_result",
          "data": {
            "text/plain": [
              "array([[ 150., 2000., 2000., 2000., 2000., 2000., 2000., 2000., 2000.,\n",
              "        2000., 2000., 2000., 2000., 2000., 2000., 2000., 2000., 2000.,\n",
              "        2000., 2000.],\n",
              "       [ 150., 2000., 2000., 2000., 2000., 2000., 2000., 2000., 2000.,\n",
              "        2000., 2000., 2000., 2000., 2000., 2000., 2000., 2000., 2000.,\n",
              "        2000., 2000.],\n",
              "       [ 150., 2000., 2000., 2000., 2000., 2000., 2000., 2000., 2000.,\n",
              "        2000., 2000., 2000., 2000., 2000., 2000., 2000., 2000., 2000.,\n",
              "        2000., 2000.],\n",
              "       [ 150., 2000., 2000., 2000., 2000., 2000., 2000., 2000., 2000.,\n",
              "        2000., 2000., 2000., 2000., 2000., 2000., 2000., 2000., 2000.,\n",
              "        2000., 2000.],\n",
              "       [ 150., 2000., 2000., 2000., 2000., 2000., 2000., 2000., 2000.,\n",
              "        2000., 2000., 2000., 2000., 2000., 2000., 2000., 2000., 2000.,\n",
              "        2000., 2000.],\n",
              "       [ 150., 2000., 2000., 2000., 2000., 2000., 2000., 2000., 2000.,\n",
              "        2000., 2000., 2000., 2000., 2000., 2000., 2000., 2000., 2000.,\n",
              "        2000., 2000.],\n",
              "       [ 150., 2000., 2000., 2000., 2000., 2000., 2000., 2000., 2000.,\n",
              "        2000., 2000., 2000., 2000., 2000., 2000., 2000., 2000., 2000.,\n",
              "        2000., 2000.],\n",
              "       [ 150., 2000., 2000., 2000., 2000., 2000., 2000., 2000., 2000.,\n",
              "        2000., 2000., 2000., 2000., 2000., 2000., 2000., 2000., 2000.,\n",
              "        2000., 2000.],\n",
              "       [ 150., 2000., 2000., 2000., 2000., 2000., 2000., 2000., 2000.,\n",
              "        2000., 2000., 2000., 2000., 2000., 2000., 2000., 2000., 2000.,\n",
              "        2000., 2000.],\n",
              "       [ 150., 2000., 2000., 2000., 2000., 2000., 2000., 2000., 2000.,\n",
              "        2000., 2000., 2000., 2000., 2000., 2000., 2000., 2000., 2000.,\n",
              "        2000., 2000.],\n",
              "       [ 150., 2000., 2000., 2000., 2000., 2000., 2000., 2000., 2000.,\n",
              "        2000., 2000., 2000., 2000., 2000., 2000., 2000., 2000., 2000.,\n",
              "        2000., 2000.],\n",
              "       [ 150., 2000., 2000., 2000., 2000., 2000., 2000., 2000., 2000.,\n",
              "        2000., 2000., 2000., 2000., 2000., 2000., 2000., 2000., 2000.,\n",
              "        2000., 2000.],\n",
              "       [ 150., 2000., 2000., 2000., 2000., 2000., 2000., 2000., 2000.,\n",
              "        2000., 2000., 2000., 2000., 2000., 2000., 2000., 2000., 2000.,\n",
              "        2000., 2000.],\n",
              "       [ 150., 2000., 2000., 2000., 2000., 2000., 2000., 2000., 2000.,\n",
              "        2000., 2000., 2000., 2000., 2000., 2000., 2000., 2000., 2000.,\n",
              "        2000., 2000.],\n",
              "       [ 150., 2000., 2000., 2000., 2000., 2000., 2000., 2000., 2000.,\n",
              "        2000., 2000., 2000., 2000., 2000., 2000., 2000., 2000., 2000.,\n",
              "        2000., 2000.],\n",
              "       [ 150., 2000., 2000., 2000., 2000., 2000., 2000., 2000., 2000.,\n",
              "        2000., 2000., 2000., 2000., 2000., 2000., 2000., 2000., 2000.,\n",
              "        2000., 2000.],\n",
              "       [ 150., 2000., 2000., 2000., 2000., 2000., 2000., 2000., 2000.,\n",
              "        2000., 2000., 2000., 2000., 2000., 2000., 2000., 2000., 2000.,\n",
              "        2000., 2000.],\n",
              "       [ 150., 2000., 2000., 2000., 2000., 2000., 2000., 2000., 2000.,\n",
              "        2000., 2000., 2000., 2000., 2000., 2000., 2000., 2000., 2000.,\n",
              "        2000., 2000.],\n",
              "       [ 150., 2000., 2000., 2000., 2000., 2000., 2000., 2000., 2000.,\n",
              "        2000., 2000., 2000., 2000., 2000., 2000., 2000., 2000., 2000.,\n",
              "        2000., 2000.],\n",
              "       [ 150., 2000., 2000., 2000., 2000., 2000., 2000., 2000., 2000.,\n",
              "        2000., 2000., 2000., 2000., 2000., 2000., 2000., 2000., 2000.,\n",
              "        2000., 2000.]])"
            ]
          },
          "metadata": {
            "tags": []
          },
          "execution_count": 27
        }
      ]
    },
    {
      "cell_type": "code",
      "metadata": {
        "id": "tifMEjh6-kw5",
        "colab_type": "code",
        "colab": {}
      },
      "source": [
        "eq = DiffusionPDE(diffusivity=0.1)"
      ],
      "execution_count": 28,
      "outputs": []
    },
    {
      "cell_type": "code",
      "metadata": {
        "id": "PvrU3lWt_aaW",
        "colab_type": "code",
        "colab": {}
      },
      "source": [
        "grid = UnitGrid([20,20])"
      ],
      "execution_count": 29,
      "outputs": []
    },
    {
      "cell_type": "code",
      "metadata": {
        "id": "i8IjEetS_iPd",
        "colab_type": "code",
        "colab": {}
      },
      "source": [
        "state_i = ScalarField(grid=grid , data = P)"
      ],
      "execution_count": 30,
      "outputs": []
    },
    {
      "cell_type": "code",
      "metadata": {
        "id": "EWZ1_xzy_xGz",
        "colab_type": "code",
        "colab": {
          "base_uri": "https://localhost:8080/",
          "height": 489
        },
        "outputId": "84a590ce-8aeb-46f4-e13c-27c66939f482"
      },
      "source": [
        "state_i.plot(title='Initial Pressure condition', colorbar=True )"
      ],
      "execution_count": 31,
      "outputs": [
        {
          "output_type": "display_data",
          "data": {
            "image/png": "[encoded data removed]",
            "text/plain": [
              "<Figure size 640x480 with 2 Axes>"
            ]
          },
          "metadata": {
            "tags": []
          }
        },
        {
          "output_type": "execute_result",
          "data": {
            "text/plain": [
              "<pde.tools.plotting.PlotReference at 0x7f4738f6c308>"
            ]
          },
          "metadata": {
            "tags": []
          },
          "execution_count": 31
        }
      ]
    },
    {
      "cell_type": "code",
      "metadata": {
        "id": "EQKBqrbh_27n",
        "colab_type": "code",
        "colab": {
          "base_uri": "https://localhost:8080/",
          "height": 66,
          "referenced_widgets": [
            "86291f64d16449cdb8ba04197605509c",
            "67f08559f1f242e6bf0faff40be468d5",
            "3e2dddf882cb4684a17c2defc8ddca25",
            "fc77ab0e1cbb4b1b83663e6ebd464a32",
            "f34e3552ca014cef8b49006ffc405c5c",
            "e3696e51ada848689f28dd28bcc66157",
            "ede1c5b9e7264d9fb21000596c8ad9df",
            "396f1a372eab46d08fe8d3aaa05d8cda"
          ]
        },
        "outputId": "c0e33c1c-97cf-4f2a-faab-20b498478ef4"
      },
      "source": [
        "result = eq.solve(state_i , t_range= 10 , dt = 0.0001)"
      ],
      "execution_count": 32,
      "outputs": [
        {
          "output_type": "display_data",
          "data": {
            "application/vnd.jupyter.widget-view+json": {
              "model_id": "86291f64d16449cdb8ba04197605509c",
              "version_minor": 0,
              "version_major": 2
            },
            "text/plain": [
              "HBox(children=(FloatProgress(value=0.0, max=10.0), HTML(value='')))"
            ]
          },
          "metadata": {
            "tags": []
          }
        },
        {
          "output_type": "stream",
          "text": [
            "\n"
          ],
          "name": "stdout"
        }
      ]
    },
    {
      "cell_type": "code",
      "metadata": {
        "id": "fRC-01AXAkd7",
        "colab_type": "code",
        "colab": {
          "base_uri": "https://localhost:8080/",
          "height": 489
        },
        "outputId": "a507a7a6-3f10-44c7-cd0d-d6c2d08e9559"
      },
      "source": [
        "result.plot(title='Pressure COndition after t = 10' , colorbar=True)"
      ],
      "execution_count": 33,
      "outputs": [
        {
          "output_type": "display_data",
          "data": {
            "image/png": "[encoded data removed]",
            "text/plain": [
              "<Figure size 640x480 with 2 Axes>"
            ]
          },
          "metadata": {
            "tags": []
          }
        },
        {
          "output_type": "execute_result",
          "data": {
            "text/plain": [
              "<pde.tools.plotting.PlotReference at 0x7f4735d34988>"
            ]
          },
          "metadata": {
            "tags": []
          },
          "execution_count": 33
        }
      ]
    },
    {
      "cell_type": "code",
      "metadata": {
        "id": "XqtK5fZFAtfg",
        "colab_type": "code",
        "colab": {}
      },
      "source": [
        ""
      ],
      "execution_count": 33,
      "outputs": []
    },
    {
      "cell_type": "markdown",
      "metadata": {
        "id": "k_N9bnk_C1gq",
        "colab_type": "text"
      },
      "source": [
        "##Example 2 :"
      ]
    },
    {
      "cell_type": "code",
      "metadata": {
        "id": "0nSSZc0LC0eL",
        "colab_type": "code",
        "colab": {}
      },
      "source": [
        "g = UnitGrid([50,50])"
      ],
      "execution_count": 34,
      "outputs": []
    },
    {
      "cell_type": "code",
      "metadata": {
        "id": "OJQv6_gvC6rS",
        "colab_type": "code",
        "colab": {}
      },
      "source": [
        "eq = DiffusionPDE()"
      ],
      "execution_count": 35,
      "outputs": []
    },
    {
      "cell_type": "code",
      "metadata": {
        "id": "9Ob49X3YDqwR",
        "colab_type": "code",
        "colab": {}
      },
      "source": [
        "ScalarField.from_expression?"
      ],
      "execution_count": 36,
      "outputs": []
    },
    {
      "cell_type": "code",
      "metadata": {
        "id": "9cg95wyYC97m",
        "colab_type": "code",
        "colab": {}
      },
      "source": [
        "# i_state = from_expression(grid = g , expression = 'exp(-(x**2 + y**2) * 100)')\n",
        "\n",
        "# i_state.plot(title='Initial state')"
      ],
      "execution_count": 37,
      "outputs": []
    },
    {
      "cell_type": "code",
      "metadata": {
        "id": "tq-BFeq8DOoK",
        "colab_type": "code",
        "colab": {
          "base_uri": "https://localhost:8080/",
          "height": 1000,
          "referenced_widgets": [
            "27f591df95a34196b4895632dc5575e4",
            "c4cc66bfac61428eacde716b79dfdebe",
            "312075024449481bad0a5f2e59cb07b0",
            "99efc145c032444b9638863a58090c21",
            "919996dd973b42f99f7e16cc4ed1f6ef",
            "497a843b694e4c5db6ff0bca62034668",
            "152f4b8e0de947bba586db8b0814e9c8",
            "75d668da7c9144c1a4719c6207260310",
            "b5e3c10abf4f4222818abebbc15690c7",
            "14a66762f3234d1d993f81fcf4d47c7b"
          ]
        },
        "outputId": "88a6dc32-1609-4e16-8b3f-35ae3ab85549"
      },
      "source": [
        "# eq = DiffusionPDE()                                 # define the pde\n",
        "                          # generate grid\n",
        "# state = ScalarField.random_uniform(grid, 0.2, 0.3)  # generate initial condition\n",
        "\n",
        "storage = MemoryStorage()\n",
        "\n",
        "trackers = [\n",
        "    'progress',                    # show progress bar during simulation\n",
        "    'steady_state',                # abort when steady state is reached\n",
        "    storage.tracker(interval=1),   # store data every simulation time unit\n",
        "    PlotTracker(show=True),        # show images during simulation\n",
        "    # print some output every 5 real seconds:\n",
        "    PrintTracker(interval=RealtimeIntervals(duration=1))\n",
        "\n",
        "]\n",
        "\n",
        "eq.solve(state_i, 10, dt=0.1, tracker=trackers)\n",
        "\n",
        "storage[0].plot(colorbar=True)"
      ],
      "execution_count": 38,
      "outputs": [
        {
          "output_type": "display_data",
          "data": {
            "application/vnd.jupyter.widget-view+json": {
              "model_id": "27f591df95a34196b4895632dc5575e4",
              "version_minor": 0,
              "version_major": 2
            },
            "text/plain": [
              "HBox(children=(FloatProgress(value=0.0, max=10.0), HTML(value='')))"
            ]
          },
          "metadata": {
            "tags": []
          }
        },
        {
          "output_type": "display_data",
          "data": {
            "application/vnd.jupyter.widget-view+json": {
              "model_id": "b5e3c10abf4f4222818abebbc15690c7",
              "version_minor": 0,
              "version_major": 2
            },
            "text/plain": [
              "Output()"
            ]
          },
          "metadata": {
            "tags": []
          }
        },
        {
          "output_type": "stream",
          "text": [
            "t=0, c=1.91e+03±403\n",
            "t=0.1, c=1.91e+03±363\n",
            "t=0.2, c=1.91e+03±334\n",
            "t=0.3, c=1.91e+03±312\n",
            "t=0.7, c=1.91e+03±260\n",
            "t=7.7, c=1.91e+03±126\n"
          ],
          "name": "stdout"
        },
        {
          "output_type": "stream",
          "text": [
            "Spent more time on handling trackers (2.0656715190000057) than on the actual simulation (1.0967218609999954)\n"
          ],
          "name": "stderr"
        },
        {
          "output_type": "stream",
          "text": [
            "\n"
          ],
          "name": "stdout"
        },
        {
          "output_type": "display_data",
          "data": {
            "image/png": "[encoded data removed]",
            "text/plain": [
              "<Figure size 640x480 with 2 Axes>"
            ]
          },
          "metadata": {
            "tags": []
          }
        },
        {
          "output_type": "execute_result",
          "data": {
            "text/plain": [
              "<pde.tools.plotting.PlotReference at 0x7f4730ba73c8>"
            ]
          },
          "metadata": {
            "tags": []
          },
          "execution_count": 38
        }
      ]
    },
    {
      "cell_type": "code",
      "metadata": {
        "id": "wJCR0I0hGdTE",
        "colab_type": "code",
        "colab": {}
      },
      "source": [
        "# gri = CartesianGrid([[0, 2 * np.pi]] * 2, 64)\n",
        "# bcs = [{'value': 'sin(y)'}, {'value': 'sin(x)'}]\n",
        "\n",
        "# field_zero = ScalarField(gri)\n",
        "# result_laplace = field_zero.solve_poisson(bcs)\n",
        "# result_laplace.plot(title=\"Solution to Laplace's equation\", colorbar=True)"
      ],
      "execution_count": 43,
      "outputs": []
    },
    {
      "cell_type": "code",
      "metadata": {
        "id": "w2efL_x9E37R",
        "colab_type": "code",
        "colab": {}
      },
      "source": [
        ""
      ],
      "execution_count": null,
      "outputs": []
    },
    {
      "cell_type": "markdown",
      "metadata": {
        "id": "gDx0oCDnkyCy",
        "colab_type": "text"
      },
      "source": [
        "$ \\frac {\\partial^2 P} {\\partial x^2} = \\frac {\\partial P} {\\partial t} $\n"
      ]
    }
  ]
}