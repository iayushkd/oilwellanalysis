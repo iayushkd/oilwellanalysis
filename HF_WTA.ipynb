{
  "nbformat": 4,
  "nbformat_minor": 0,
  "metadata": {
    "colab": {
      "name": "HF_WTA.ipynb",
      "provenance": [],
      "authorship_tag": "ABX9TyO4Ua4/JOI7C9V5CqU8zpCO",
      "include_colab_link": true
    },
    "kernelspec": {
      "name": "python3",
      "display_name": "Python 3"
    }
  },
  "cells": [
    {
      "cell_type": "markdown",
      "metadata": {
        "id": "view-in-github",
        "colab_type": "text"
      },
      "source": [
        "<a href=\"https://colab.research.google.com/github/Divyanshu-ISM/Oil-and-Gas-data-analysis/blob/master/HF_WTA.ipynb\" target=\"_parent\"><img src=\"https://colab.research.google.com/assets/colab-badge.svg\" alt=\"Open In Colab\"/></a>"
      ]
    },
    {
      "cell_type": "markdown",
      "metadata": {
        "id": "BblFHQI8f7xt",
        "colab_type": "text"
      },
      "source": [
        "#Analyzing a Hydraulically Fractured Well with Python.\n",
        "\n",
        "Background : Pressure Transient Analysis\n",
        "\n",
        "Divyanshu Vyas | dvyas13ad@gmail.com\n",
        "\n",
        "Domain : RE | PE | Machine Learning | Deep Learning | Simulation\n"
      ]
    },
    {
      "cell_type": "code",
      "metadata": {
        "id": "--aoao8KH9Hb",
        "colab_type": "code",
        "colab": {}
      },
      "source": [
        "import numpy as np\n",
        "import pandas as pd\n",
        "import matplotlib.pyplot as plt\n",
        "%matplotlib inline"
      ],
      "execution_count": 1,
      "outputs": []
    },
    {
      "cell_type": "markdown",
      "metadata": {
        "id": "1yVweLKAJvuH",
        "colab_type": "text"
      },
      "source": [
        "![image.png](data:image/png;base64,iVBORw0KGgoAAAANSUhEUgAABP0AAADfCAYAAACNiKZDAAAgAElEQVR4Ae3dO3oUS7NGYSbIPBiEhsAINAF8+bJxcWXKxGMGOv9qzgdB7My6qSW11Cufp6mqvERmvlUS7Ngl+PRkUUABBRRQQAEFFFBAAQUUUEABBRRQQIEPJfDpQ+3GzSiggAIKKKCAAgoooIACCiiggAIKKKDAk0k/HwIFFFBAAQUUUEABBRRQQAEFFFBAAQU+mIBJvw92Q92OAgoooIACCiiggAIKKKCAAgoooIACJv18BhRQQAEFFFBAAQUUUEABBRRQQAEFFPhgAib9PtgNdTsKKKCAAgoooIACCiiggAIKKKCAAgqY9PMZUEABBRRQQAEFFFBAAQUUUEABBRRQ4IMJmPT7YDfU7SiggAIKKKCAAgoooIACCiiggAIKKGDSz2dAAQUUUEABBRRQQAEFFFBAAQUUUECBDyZg0u+D3VC3o4ACCiiggAIKKKCAAgoooIACCiigwLtP+t3f3z99+vT8bXz+/Pnp9vb2Ip8I9sc+KfX8rRZ7zjWc6/7NLOpan3uPa6x6Ppu71//48eOJNTCW849QZvfviM+lezz3+Xmt/c3uyTnm32qwtd/Sms75DO0x2dN3af2X2vYa+3uNOWa+bzn3bE3WbxO4pHt3SWvZpneZvc75ffwyd3ieVe398+E1uZ7jzxPPuUvXZP0cp/c89i2esdf4Peac+zpnrC3Pyrnne6uv47V519q3WG3tczhb9u3bt1Py4uHhYetcL9LvXF805364zrnZ+kDU83POsSfWOddwrvs3W39d63PvcY1Vz2dz9/o6/69fv3rzs66PrOdZE/7/4Nn9e6v1nGNPsxj1/l3y/mb3ZLavWf1oj9VgNo762m8UZ2ls2o6Oy/h63GOyp2+d472c793fkd/r985xTru3nDv7OOeze85YWd+lHs91785hNlvLOWJfqv9z1zWyGdU9d56POL7+ntn/fDgyHNV9BJfRvqrNS+yROWeffB/gaPkYAm/xjI3k8myN2nrdaM29z+j6nF8754w1Wmuve858I69RXZ9zy/XeOGv919q3rGlrn8NJP27Gly9fnvgPgrcse75o3nKdz5m7PhD1/DkxnzP2nGt46ft3zrXWWPV8q+WRMZcQe2kNs/v3kntdWs9rtV3y/mb3ZK/NufZ4NM7RcaN97jHZ03c016XX7d3fkd/r985xTrO3nDv7OOeze85YWd+lHs91785hNlvLOWJfqv9z1zWyGdU9d56POH7JadQ2qvsILm+9r9H8o7qPYH2te7iU+zn7PWZ0Xy5lzaO1XWLdyGtUd2Tte+Os9V9rP7LG2ZhDSb+8hs6Rxc4KbfT5+vXrqR/HWmj//v37KXnIf1ik3N3d/fm/LqMfuU28m5ub04/k1jVw/vj4mFCnH4ut7TTkzQXmZH0U+vAFmHPWlXlIbv78+fPUxi+cp41x+aQD/Rmfwnx1H7wdWfdLv7pnzmvpa8s602fvfHX9rKOuFQ/i9T1lLo60scYYVB/22RPB3Kc6R8bN7h99iRmjpfWylqX7vWQ3eg7W5op94m7Zb8wYk0+Ns2e/xOrrTswc6UPhes2mz824pWeR9qX7RzuFueszwphe1ubp+2T82v1Z2u/Ss722FuZmT9y3OOdIG2Up/u8ev2PQL4bdhZhr96R+L0ncxJt9TS25EKNbZ285Zh6uMaB/XwfX9bmeWe35mqnPUP0+w3qWngXal0xor2Wt79rz0f2IveVeEreWpT0tPV9r61vbX11DPWfO/D7JfpbK0hwji9leuc98DaT0Z230++fS3MSpPvW53TtX9pH5+jPJXPSpH+pS6jr6vR/d3xqH81r2rn3mTczR3HUuzkfPOPV1T9WWNtbMvVzySttLf+/qa+3+tC+thfal+7HkwFhK92BMvS+j56nG7WuuY7f+WY41LP1+kDWylvwZjLUvrSN7qz7UUahjbGz37vF3lPkzurYfxs+e3Vn90l5nXyuz+qyfY41bv1aqG+f5fZQxvY06CvXncCXWbF2Zh73l/nHspY7nvBbW2f9MM3tul/ZaTep81ZF5M1/WO3re6vr6OePrXInJnEsx65q6QeYg9pJl1r7na2/23M3qmeMlvv7779PsmXtTLZeMRns/uofZuNxL5sqn3pusNWvJ/Wbd9ZkdPVNLe8scHBNz9PtdnaN+P89ac0y8Wf+0c2RM9rXkkjE1ZubjWGOd617HYuRZ58v52p8lTov83y913Vl7YnCfluZdu4+z2NWt3rvRvMxfCzFzj6hfW0Mdu/f83z9FbhzNgrnpFBZb/4BeQ9DG5vMNhoc84zKWdrDyOjubpY5rPjwMdQznaWcc58yTwnnmow7I2l7j086aKPQJOufETRz6pB99OScOhSNrrIW6+htRXyPtdU/Mm/jsifn54kzpa8s60753Puaq3sTPNWsl3lJZ8un/QUbcGn/L/WMN9ZlYWi+xc59Yc7/ftMernrNH5sm+4782V4+1tt/qWOdPPXV79jtb9yz2mk2fm/3FYvQsrt2/0b6o42ukfk2szTPb59r9Wdovex0922trqXvq9z9tHGfxa5/c76yT/dTvBWmvz3+14Hl9i++J2UOeM9bPeS1cs25K+vVzrrd+zRAD02qVZ5M4S8/C1ueUOGt9156Pen+yLo5Zf72Xa7GW9jR7vtZiru2Ptc7K1t/r1+YYWcz2imf9XsG+GZ9CO/OlrM1d70//+tk7V/YxeyazJvrle0Xq1u7T7P6OYhFz79pn3sSazU0bpRpyTSxKre+2tK95rd07xseaeBhSl1Lnpy7rGpmt+a+tJXOOYtd1jBzqWKz5npDvoVxnj6w/e2DM2prpy3wU1sDacj27p/TJfIzrprRnjYm1tg7iUEY2iZc59+7xd+T5M7q2n3pviBXfWf3aXmeus/qsv843ekZGdhk7ajuX65Z1sbd6/+r33zWvrLP+Prj03M72yjyUI+vNPY/n0nE2fzeoMdcMMl8sZpZpr1ZrsWfP3ayeOTI/6yI+dSlH1sBYYtY41HHNXihr+xjNe3QPs3GnhfzvF+ZiPbXUurqW7IuYcePeH7n/a7/HEDPfc3nOWUeu6/qy7qX+6VPHrbkwhpjMTeFY8xuJFZNTp///hba993rmmbiZj2vOl+5BxuRYx9a6pRhrz2iN05+fpXuRtcen//dwXevWNWQte49/v9I3juQBZIH8hxuFjfIZlboR2tkM4Cm05+FKXX8oaa9jejsxiZPCeR4k6np7H1/H0ZcyWvdsjtHDX+u4yfyHE5+YccNzznysqSZO0582Sl1PPf/d+u832y3zZRzHrDVmrKX+B1ftm/O+hpFxkpbJzGds9+9jid2fiYzl2NdL/6yd9lG80X3t62BsL6O5ZrFm+60xuxtte/c7W/cs9ppNtyb+0rPY5+/e2W9fz+jreM88iVuPo/uztF/WPnq21/acOeue6nnaZ/HTzrGPw49xKbSP7kmtG1nW9n5PiLnmUsfXteR5H9XxfSzPPcf6+0DdZz1PHPacsf17RPr0cX1f6cexPwvEr3taGrvWl/Yjzyrrr2tgnWux6JMy2tOR53dtf5mvH/f8Xr82x8iizlf3mnPat/x+tjZ3b+eeUEfZO9fWZ7L3Yy7mXHuORvd3FOvI2hmTkn1zpLC20dzp3w1n9dWWPn3t/euwx+3tjM8aidfb+3j6UPq81NF3zb9+vfa5iEGZxa5ju8Pvkf8d22P1OdfWnLgct97TNVPa616IvXUdfT+M7XVH98gaRs/o2n4Y1/eTPc3q156T0Tpm62MuSl9Hf0a60+9Rv38dtfW657hWh7V1MQ97SeF8yYt11vgZl2N/bvu+6Ffr9jp2l8w7O9a50qfX9ZhrBktxqiXzdKu12LTveR6ZY+l76pE1ZH9LfyZc28ds3tHe1vYwM8k6Gc89rKXW1XP69Ouj95911fvb49T1bPm6WOqftrr2NRfG0D/PR9YwivXce139Zw517fWc9czGjNY6q+sx1p7RWZzU5xi3OPa1L32P3bqGzLX3+DdbtnFkR+KbPRtKBrOG6RsNRPr0dup7XZ9vS3ugibc2nj6UGree09Zj8LDnC5cj171w40js4cN4PmT58x9StT/z9U/9RlfXU89rjD3zca/4D/Q6Z8w4sh/i5T/K6zyc9zV0H0yyfuapcdbG9nbmW1ov/bN2+va11Hizc8alrM1FfEqNtbTfxO1jUl/jpG7rGtJ/KfZWm8RiPf2Tezmap3vXOLGirvfrc3C9NE/irtks7Xf2bK+tJXPTL3uq52mfxU87xz6OMdSl9PbRmJFl1kX/UfuSy2jO0by9rj/39Q/+NWY9Jwalj63fI373+K9V39fas7Bkkjk49vX1eWjvny3Pao+buZZiLe1p9nz1eFwvra/vr1rU895vz+/1fezIYmmve34/67HX5u7t55wrfn1NW+790v1lzaOyZ+1L3rO5M+doP9lTXVu37eOOtJ/zexfrqZ8jXyd9T1scZo491sinrpfzuuYj95QYe037Gvo6ZvvbYrM19uwZPbKf0brqHvqaqvlsHbP6GnfP10rGzdbKGtfiLe0j8bfEqfOwT8ak9Dm4rl49PuOWnttR/1pXz4k1+pqp6+3tjFkqPT59e12PSXv/VIPM1+OMLOvaM/dS7NlzN6snFm0po73sXUNi9T/X9T8TLu2j2xDz6B5m47LO0Vy1rp4zpl+PzOhTP1vuf4+z9+tiqf9or2sujFnKb1SHc97r7jBae52b9tmY0dhZXY9R71/Ot9xH4i/di7W11/bMW4+jNWRPe49/v3NvHMkDUReTcx6AXmgDNYVz/pCa0tupp73G4rwm1Xr76KbV/4Ds7X38aC19XT0Gb+IlacbauNm9kODjQ1++0OhDX74J9hvImuo3xx6rrqee135756M/hbURk2MtrJF1jUpfQ/dhr/TJscbo/n1sj81YxszWS/+l+13j1fO+jqxxbS7WS6mxss8cE6sf65i0jeqW1jBb9ygOdVttsh7iLz2Lff5+/xKnr4evY8am7J2njjv6LCRGf7bX1pJxdU/1PO059vip59jH4VddejtjaH/r74msg1LXl+c9x/wYQu9Xx5yC/O+XjMkx9fXYx/VnDZfZs9DN+tg6z1pf2vd8TSR2Xz/1W2LN9pS4/fnaErM+P0sWmYPjnt/r1wxnFrO9Us9n6++fS/vra6Nv/TPFnrn6PmaWvR+ea/eJPpR+f0exfvf8/aPpe5zoS9n7+343zPy9vtv2tXevPr63M37p97A+Puvq81JP3z1fx30ta7HrM9gdZmP7OvucW9a8956umfY1bbGb7Y/6Hm/vHhM7x9HXx5FnZPbsrJnP1rFW3+frz0h3SjyOo7Zed9R177qYhzEpa159nYxjzOy5HfWvdUfWy/itpc6VMb3uqPUoTrXs7cy/5ps19q+LWT1zLH29PGcN+fNcjvXPhGv7GM17dA+zcakfzVXr6jlj+vXR+9+f3VGcPV8XxJv1X9rr7FlhzFJ+ozrkHuf4nHvdHUZrr3PTPhszGjur6zHWntFZHOqX7kVfO9/76Z9S27euIWP3Hrd/J/xf5PxBsX7DYEIekrqBLIKNUM9DQeEP2nlAua4b5ZpCO/14gPgwnhuTknauiUs7cVJIxvFAU1hvb2c8dXlA07eupZ4Tpz8YdT7aR4W3/PrcXPPpfqyJdWdNPV5dTz2v/fbMxxpiytzE7Em/ONU5ct7X0H3ox36Yhzi1cJ3/4Brdvx6bsUvrXbvfNV49z/5inudgaa46vp6zxtl+aUvpY6gf1S2tYWnd9T86iL3Hhv4U4jMuLr9r//66dv/Sk32xD+4xsThnbMqWeRiTdWy5P2v7rXMTO2VtLelX7xXju3f6Ea/GTz3H6sL1JX9PHO2xGrB+zNlD7g91lNpvFIc+jKWtPhfUp9QY1PXvM4ydfR8j5tL3mczBca0v7WtfE6ylP6t9/ZlrKdbSnrJm1kO/lC3rW7IgVk+G7P29fs1wZLG01z2/n63NnXbuT74X5bnBcM9cfR/9mcw9YW/9+8PafcpY+tX7O4qVvnvWvuSdeH3uXt+f8TXbNa+MZ57Rnwf4Wsn3lj1/nhuZMdfS197aWmIxi83X2OwZy9ju0a/787S25iP3dM20r4m1r60j+xvZ9Hh795jYObIW5klZ20/6j55d4ozql56TzJu4uc5xqX7pGelOicfxJV1Z79q6mJ+vTwp9GZPC+ZLXaF/Ey/dgxtMn/w2yttct601s1tifN+L33++yF46j9fa6HnPNIPGJs2TZ52Hc1tj0I3YvvX7t6+U5a2Bu4vOM5Pt21rO2j9G8dWzd29oeZuNST6z++3Odv54zpl8fvf8YYEMZ/X7HuvLs0pd5l74ulvqfJvnfL33t1PdnIn050n9Weqxz3evumfnrfPWc9tmYjF27x6MYa8/oUuyle8HaaZ/993Dd29oaiLP0/StrnB3nd3cwIovpTbP/QGAjfOHzYHBOcrCWutFazxja+PQvTPoRJ/HYPOcpoPJFNWunX+LXm0T/fLHVc/r3hytz0o8P++MP370Qv37jy7y9H9fYJl6fv17X8x5n63wkHelLLHw55hsL53xo78nJzEd7rKjrPtTFaOSydP96bGItrXftftd49Zy4uR/sNftZmquOr+fEWtov7ZQ+Zla3tAbGjNade8BeUvbYZAzHpWeR9qX7RzuFvWJSvxZ/t/z9dW2e0T6XbLbsl3WNnu21tWRPeU5G3sSexc+uaWdf7+F74myPMWBPee65L7Wwz/QbxaljR98jaK8xuE4czilLzwLtW55T+lHW+q49H6Nnta//90zLX19LeyIenyPP79L+iMd9rIX98oz2Mvu9nn5Lc4wslvZKPNaFa0qMc12PS3PTL2NZx+jPFFvn6vvoz2TWlHri1rL0HBGbD2Pq19MsVuJuXfuS92zuzMExhszHmlJST4xuS13tm71kLMele7f2PZ3xmb+uK/NQV8uSP/2W1pI4s9hZx8ghY7tHv07s9Oe4tOYj93TNtK8pa1laR/pk/dW9x0ufjOG4JTZx+BC7fn2s7Yf4uTf1GVmqX1rPbB2zeuZJyTrou/a1kjEcY/YSrsRfWxftsz+zMH7Ni/XXsvTcbtnr2nrrfImX+THsv9+ljSP3po4f1fWY9FkyoJ1C7CXL0dyMW4rNGD7962JWv/b1cmQNrDFl9mdC2tf2MXIf7W3LHkbjssbcv9nXUzfo1xmfeGt7q/2Wfo/Z+3Wx1D9z1rVzzqc/K+nLMfcvfWt+o8aqfev348Tac69HnsSp89Vz2mZjaKOkfXaPa5/TgP//ZWnd6TeKvXQvWDuus/8e7ntbWgP7Wfr+lTXOjn+zZbMez6jvG3lGqIsayo2r6HwTrw/WRS32jRaTNxDeaPpXn/ba9vvqwB9kwo/6PfHI7fFr5oiaYxRQQAEFFHgdAf/Mcj5nLc9naaSXETC/8TKulxLVpN+BO0GCj0xvCpl7vlAsfwXIVPO5lnJt+72W+3ruffqHvr+ifs38tfBMAQUUUECBSxPwzyznuyNans/SSC8jYH7jZVwvJapJvwN3gjdU8qo738R504/XjS1/BXDB6VrKte33Wu7ruffpH/r+ivo189fCMwUUUEABBS5NwD+znO+OaHk+SyO9jID5jZdxvZSoL5r0u5RNug4FFFBAAQUUUEABBRRQQAEFFFBAAQWuScCk3zXdbfeqgAIKKKCAAgoooIACCiiggAIKKHAVAib9ruI2u0kFFFBAAQUUUEABBRRQQAEFFFBAgWsSMOl3TXfbvSqggAIKKKCAAgoooIACCiiggAIKXIWASb+ruM1uUgEFFFBAAQUUUEABBRRQQAEFFFDgmgRM+l3T3XavCiiggAIKKKCAAgoooIACCiiggAJXIWDS7ypus5tUQAEFFFBAAQUUUEABBRRQQAEFFLgmAZN+13S33asCCiiggAIKKKCAAgoooIACCiigwFUImPS7itvsJhVQQAEFFFBAAQUUUEABBRRQQAEFrknApN813W33qoACCiiggAIKKKCAAgoooIACCihwFQIm/a7iNrtJBRRQQAEFFFBAAQUUUEABBRRQQIFrEjDpd013270qoIACCiiggAIKKKCAAgoooIACClyFgEm/q7jNblIBBRRQQAEFFFBAAQUUUEABBRRQ4JoETPpd0912rwoooIACCiiggAIKKKCAAgoooIACVyFg0u8qbrObVEABBRRQQAEFFFBAAQUUUEABBRS4JgGTftd0t92rAgoooIACCiiggAIKKKCAAgoooMBVCJj0u4rb7CYVUEABBRRQQAEFFFBAAQUUUEABBa5JwKTfNd1t96qAAgoooIACCiiggAIKKKCAAgoocBUCJv2u4ja7SQUUUEABBRRQQAEFFFBAAQUUUECBaxIw6XdNd9u9KqCAAgoooIACCiiggAIKKKCAAgpchYBJv6u4zW5SAQUUUEABBRRQQAEFFFBAAQUUUOCaBEz6XdPddq8KKKCAAgoooIACCiiggAIKKKCAAlchYNLvKm6zm1RAAQUUUEABBRRQQAEFFFBAAQUUuCaBF0/6ff78+en29nZqutaegZ8+fXq6v7/P5Yc7bnX4cBu/sg15n6/shrtdBRRQQAEFFFBAAQUUUEABBd5IYHfSb2/yrSY5RmNr+5LBaCz9GU9bPiQYf/78uRTqItu2OtT9cv7t27eL3M9LLyr3ux4zJ/f/69evp2fiy5cv/zwPR9sS+7nHrff5ufM4XgEFFFBAAQUUUEABBRRQQAEFrlvgxZN+lZcEzdG39WZja/2vX7+eSPLw+ail7pcE1rUmkXAgsTcq1KeNY30ejraN5rFOAQUUUEABBRRQQAEFFFBAAQUUuFSBZyf9SL58//59+mZVklQc6ycgaee6voVFMou4KbVf6jj2epKK1NVyd3f3Z27Oa/nx48cpKcSYPePoy/pIKOWNu/5jzFzXJGddR+9LvPTtset6az/qEzN9ZmPTj/atBjMbYjw+PmbK07qpSzmyhozdemSOJPb6mMxPPfeIaxLClKNtp8HlF+Lgwxo472tZsst9Xnrey1SeKqCAAgoooIACCiiggAIKKKCAArsF/mZqNg4lwZGkBUO4JumVJNDNzc0Tn5Tav56P2hmX5EySVLkejSVGrc+bfjUBw1qzHpIs9Cchk8LaexKMtrVxxGEsMZmX/VNXC9e0U5iD/vTNOuuP5tI3rj12j5l+1BODuCmjsWt7mRnM6pkj95t5iU9dypE11LGM75+051jbSbzGOfch66vX9Zw49bqe97bMWY/ZI+MoPGP1fi7Z5f4tPe91Ls8VUEABBRRQQAEFFFBAAQUUUECBvQJ/MzUbR5LsSNKCIf16lABK/953ND7L6EmY0diMpy2fmnihneRLfWOQhGBNCtLe37rbMo75erKQ5FMSihyTbEy82j9JQNoodX+j2L97/dsPo55cGo19jsHIhjmS7GJdo3te90qftTXQ50iJQaz7c1Ov6zlz1et63ttG66r3i3YM2GMK5zO7fD2kL8c+f23zXAEFFFBAAQUUUEABBRRQQAEFFNgrcFFJP97WInlDQiUfkiGUnmTJRms9yT2SLbxJl5I49ViTMcTPj+gmYcfY2j/ndRx1PXlDoit92EdNNvb+o0RZ4vW+2UtfF3vtybXRWOr6J+sk5sxgVk+s3BfGL+2Fdkqfn+u6ht+9jv2KAfEorKuur17X8953qe0UuP3CHLlfNVa6EW/2XGXc0vOeOB4VUEABBRRQQAEFFFBAAQUUUECBIwIXlfQjiZU39XoSpidZstlez1t8iUEfYtbkW8b1Iwko+qasjevzMo4kDvU51uQj8WqCjnOSQik1Xj1Pe45LbfQZta/tJbG7wayeOWqCdEvSb+saiD36ZC2jI/eb+BTMGZ97zpHr57SdBrdfiJnkHU2cZw21azet4+ifZ7U/7zWG5woooIACCiiggAIKKKCAAgoooMBegVdN+pHkqIkvFtuTIEmkkAyhjWRI73eq+P9f6niqHh4e/iR5uCYOb93VBBz1vdTEEW1r4/q8icdcJPP6W2zEo5518MEie2VsjVfPEzfHpbYeJ2PW9lL7jRJX3YY9Zn/cH8awrpTRGreuITG2HjN/fa5wzo9w9x/nPtrW18Me2TcJXgpx2WMv3a7a1GeAfrTlee9xvFZAAQUUUEABBRRQQAEFFFBAAQX2CPzN1GwcVZMWDOnXJLKoS6ntaauJpdrO22NJIJHEoS1JkNovsTmO6knA5E0v+iShQt/eP3XMW99e2zKuJu3oT8mbZT0WbSTKMl9NUtFW11XPaatlqY1+s/YjBsTi021IdGFMG0m17DnrPLKGjN1yZM6sjXX0+9DXl8QcsY+29XUxP/eTBGgcap+sr9tRn/UuPe81lucKKKCAAgoooIACCiiggAIKKKDAXoG/2bm9I+2vwBUL1OTdFTO4dQUUUEABBRRQQAEFFFBAAQUUuFABk34XemNc1mULmPS77Pvj6hRQQAEFFFBAAQUUUEABBRS4dgGTftf+BLj/QwIm/Q6xOUgBBRRQQAEFFFBAAQUUUEABBV5JwKTfK0E7jQIKKKCAAgoooIACCiiggAIKKKCAAq8lYNLvtaSdRwEFFFBAAQUUUEABBRRQQAEFFFBAgVcSMOn3StBOo4ACCiiggAIKKKCAAgoooIACCiigwGsJmPR7LWnnUUABBRRQQAEFFFBAAQUUUEABBRRQ4JUETPq9EvQ5pvn27dsTH4sCCiiggAIKKKCAAgoooIACCiiggAJLAib9lnReoW3PvwL7+fPnp8fHx+Gq7u/vn4hlUUABBRRQQAEFFFBAAQUUUEABBRRQYHeWiMQTyaV8bm9vn37+/LlJck+Ca1PAQacfP348ffny5bQ+jnVtnH/9+vWsbYMlTKtG+x/VjQI8PDyc9jVqo86k30zGegUUUEABBRRQQAEFFFBAAQUUUOD6BHYn/WqS6tevX6dEFMm1LaWO3dL/SB+SkAgYu1YAACAASURBVBQSfMxX10bCjw+F4znaTsE2/jLa/6huFI593d3djZpOdSb9pjQ2KKCAAgoooIACCiiggAIKKKCAAlcn8KykH1o92VTfpuOtwO/fv59QSW7VT5UmmZW2pcRWHbPlPG/1pS9zZD0cuSZxSTnaltj1WN82JC6FY/2kP3XsOWtNUjLtOdKvvrVIfcbc3Nw8kRSkj0UBBRRQQAEFFFBAAQUUUEABBRRQQIHdWSISSyT6KHnTryaqSEAlkZZkXq7r2NATizGUvJ1H0qwXxo4+vV+9JumYt/n4u/AYn78Tr17Xc8bX63re2+pc9Zx5R8nL0f6po38Seqw3bysmJh4xSh3/oAfjsGUs58SyKKCAAgoooIACCiiggAIKKKCAAgoosDtLRGKpfpb+NdmeMGNcEoahJ1mVt++oI4FYk4jpt/eYN/mSQOxrqdf1nHnqdT3vbbM1saeeuKPvaP+9jmQh42vBoxrRRp+aWOxvXNbxniuggAIKKKCAAgoooIACCiiggAIKXJfAoaRfEnckokg+5U0+6HjrjLfSamKQxBmlJ7hSV/tyPkqYnQJs/CVvvtXk4VLy7mjbbDnE4409bJJ0zF5jl7HdpCfvsKVPNR7F6uMS36MCCiiggAIKKKCAAgoooIACCiigwPUJPCvpBxeJtfq2H4muXPdkWk9wMZ7+/S026nth7OjT+yXh138cNsmzzMWReJSjbX3ufk3ykv2ljPbf6/qbfqyzJi8Ti7i+6RcNjwoooIACCiiggAIKKKCAAgoooIACVeDZSb+Hh4c/yTMCk4zK22wk/0hqkfxLW01UUUcfEnT9TbbTgJ2/EIP5+ZD864W375JA45hz+h1t63PUa/bGWlI47/vHJ+vN+pM0ZRzrqm8LJhZ9aKMk0UksiwIKKKCAAgoooIACCiiggAIKKKCAAruzRP3NNAhJPuUNOhJUJLHoR4KLY5J++RHUmghjPAks+uWTpCFte0riJ06OiUdyjLVST8KvJgaPto3Wl3nZZ03YZX11//TFrq4rMVkT7bPCHrKX+ubirL/1CiiggAIKKKCAAgoooIACCiiggALXITDPKF3H/i96lyRN61t/F71YF6eAAgoooIACCiiggAIKKKCAAgoocDECJv0u5lb8dyG8/cePT1sUUEABBRRQQAEFFFBAAQUUUEABBRTYI2DSb4+WfRVQQAEFFFBAAQUUUEABBRRQQAEFFHgHAib93sFNcokKKKCAAgoooIACCiiggAIKKKCAAgrsETDpt0fLvgoooIACCiiggAIKKKCAAgoooIACCrwDAZN+7+AmuUQFFFBAAQUUUEABBRRQQAEFFFBAAQX2CJj026NlXwUUUEABBRRQQAEFFFBAAQUUUEABBd6BgEm/d3CTXKICCiiggAIKKKCAAgoooIACCiiggAJ7BD580u/z589Pt7e3e0wO9f306dPT/f39dOyWdazFmAb/QA0/fvx4wgoLzi0KKKCAAgoooIACCiiggAIKKKCAAvsFdif9kpAhKZPP/mlfZsQoabYl2bZ3NaN5RnU17pZ1rMWo8S7tnLX3T9b48+fPp69fv57av3z58sT1rFSnX79+nbq9Z5fZPq1XQAEFFFBAAQUUUEABBRRQQAEFXlJgd9LvkhMwr7W20Tyjur037hwx9s55rv6sncTeqFCfNo4k/mZlZDCqm423XgEFFFBAAQUUUEABBRRQQAEFFFDg6ensSb+7u7s/b3z1H6slefP9+/dT0oc3uiipIxnEOeOX3gyrbcQgXuIwPp9T5f/Hrz92u2V9WcvorbTEz7HOQ+zZWPrXdXz79u20VvaQH2PtfW5ubv4ky2hjr7P4rKPujfNamIP99HXP6uvYLefEZW2jkrXTxh64zlt8tX/WliNeOc+x9vdcAQUUUEABBRRQQAEFFFBAAQUUUGAscNakH4kmklgkdPiQZCK5lULihnYSd0n61LrHx8c/iTDOKSS++KRwnrFJcuWaWDWxxphat3V9s7mzhhqz1rG32dg6pq6D8dlf+rAf6upeaFuKT9/EwZf+SSYyB2OZt5dZffoRZ/RJe461T02W5p7GpV9nfI7EqfumflSX/h4VUEABBRRQQAEFFFBAAQUUUEABBf4rcCjpVxM89e2unkBKcivTMq4nnnpCp1+TAKJuVHoCqY9lTK3bsr6acJrNXWNmXb2uj63tfR01Bm9HkjRLkqy2La2NmHnrkTHcl35v+puX9GPcqJ62I4V1EzMJyH6P+nWfozqlbVSXNo8KKKCAAgoooIACCiiggAIKKKCAAv8VGGfT/tvvT81SAqa3LSW+ErCP6dc9Bm+xkVCiXz5JkPWxzFHr6jltPfZaO2Movd+obin2aHxikKgjaZa3F6mn9DGj+PSpn5rMw4hkIrHrG4Cz+t+zHvuVxC7roPQkX7/uM/R90j6q6+O8VkABBRRQQAEFFFBAAQUUUEABBRT4K3DWpB8JpfomH+ckmlJGyZte1697cos58iPDPYHUxzJvrdu7vj73nn30sUvr6HFJyuVNud6W6x6fvdU3/dKvH0kE0reXWT3rHn36+HrN/ckcJC8Zn7Xl7/Sr/et5dUr9qC5tHhVQQAEFFFBAAQUUUEABBRRQQAEF/itw1qQfyR6SfCR6+JD4ITmVMkre9Lp+PUpuJSbz0Z/kH4X5atKRuhpv7/r63MSjrM1Dnz62r4MYeZsvb+T1PjXxV9tG8dkb/ROTPqNCP+buZVbf+61dcy+6D89EftS4/9hxj9f3SXuP18d4rYACCiiggAIKKKCAAgoooIACCijwr8BZk36EJoFF4obPUgIuy+hJnn7dk2e8BUcSKPE5JumXvjWp1ePtWV/iZa05pn5pnvTJmNk6iEFfSu9DgiyJv97W4zOexB398kncxKae+eqP96Zvr2fM1sI6E4cEX52XGPxINvX0oS/Xs0KfPj57rd6z8dYroIACCiiggAIKKKCAAgoooIACCvwvzySCAgoooIACCiiggAIKKKCAAgoooIACCnwsAZN+H+t+uhsFFFBAAQUUUEABBRRQQAEFFFBAAQV8089nQAEFFFBAAQUUUEABBRRQQAEFFFBAgY8m4Jt+H+2Ouh8FFFBAAQUUUEABBRRQQAEFFFBAgasXMOl39Y+AAAoooIACCiiggAIKKKCAAgoooIACH03ApN9Hu6PuRwEFFFBAAQUUUEABBRRQQAEFFFDg6gVM+l39IyCAAgoooIACCiiggAIKKKCAAgoooMBHEzDp99HuqPtRQAEFFFBAAQUUUEABBRRQQAEFFLh6gXed9Pv8+fPT7e3t1d9EARRQQAEFFFBAAQUUUEABBRRQQAEFFKgCu5N+JNo+ffp0+nD+7du3Gu9Vz2vSjzXd39+/2Pw/f/58+vr162nfX758eeJ6Vn78+PFEH9Y06/v4+PjHcRbHegUUUEABBRRQQAEFFFBAAQUUUEABBY4I7E761eQaia+aeDuygHONqes6V8wah4QfHwpHknmzkrcP8Unir/dlfJKIvc1rBRRQQAEFFFBAAQUUUEABBRRQQAEFniPwrKQfE9/d3Z0SW3URqSPhlQRY2qn7/v37KWlGwjBlaUx9c47xKZzzdh/H+qGdeftbiDc3N6e5M37Pkfism8KR61+/fq2GGCX2WDPry9pXg9hBAQUUUEABBRRQQAEFFFBAAQUUUECBHQJ/M2gbB5Hsqj9GS2KtJ++4JiHGhzfaavKN8bTzFlySZiT8lsbQRp9e6lrqOf0eHh7+WRdz0SdzJhZ1o0/aOeZHcTmOrk+Vk19Ye38rkGvWYdJvgma1AgoooIACCiiggAIKKKCAAgoooMCzBJ6V9CMJ1hNy/ToJvaySBFtP4K2Nob2/MUg8YiUBWc8zF+N4S5DC23n58dy0bz0eTfrljcCsgflIgGbNJv223gH7KaCAAgoooIACCiiggAIKKKCAAgrsETiU9MubcT1Zx8Q9+dYTW719yxiSbrwdV5N4fdwoLsnFJAv50d6afGP81nIk6Ze/77AmGrOPzNttUu9RAQUUUEABBRRQQAEFFFBAAQUUUECB5wgcSvrlTbXRxD0RSOKt/njrKDm3NibzkMCjb0qNVc/Tnn9II8fU1yPjRp/aJz8a3P9Ov9qnnifhR6KxliT5RvORELQooIACCiiggAIKKKCAAgoooIACCihwDoGzJ/348dX8nXUky0jS1SThKDm3NiYbpd8s6dcThxlD4o02xj6nsKe8tccx58QkfhKC2TN1JP+WSpKAS31sU0ABBRRQQAEFFFBAAQUUUEABBRRQYK/A2ZN+LIA38vI2W//7+0ZJvy1jGEcirf6Ibo2VBBp9asnfq8c/7PGcQgKPxB9zkvCrCb2a9Ms66Fc/NfGZdaRvrj0qoIACCiiggAIKKKCAAgoooIACCihwDoHdSb9zTPqaMfq/4vuaczuXAgoooIACCiiggAIKKKCAAgoooIACbyHw4ZN+/Fjvc3+09y1ujHMqoIACCiiggAIKKKCAAgoooIACCihwVODDJ/34Edvn/mjvUVzHKaCAAgoooIACCiiggAIKKKCAAgoo8BYCHz7p9xaozqmAAgoooIACCiiggAIKKKCAAgoooMBbCpj0e0t951ZAAQUUUEABBRRQQAEFFFBAAQUUUOAFBEz6vQCqIRVQQAEFFFBAAQUUUEABBRRQQAEFFHhLAZN+b6nv3AoooIACCiiggAIKKKCAAgoooIACCryAwEUn/fhHOO7v719g2+8r5OfPn59ub29Pi14zmfWt9e9r9+ur/fr169Pj4+N6x4M9iI/7ly9fDkYYD5vdk7u7u9N8L7mn8YqsVUABBRRQQAEFFFBAAQUUUECBjyKwK+lH4mP22ZKcW0tYddRZ/1+/fj19+/btiaQJfW5ubj70v9Bbk0Mzk9jN+s7qM+4ljjwTS+slqUU7n6VCwjP9SIil8Axwzf3/8ePH6Xng2ahltoafP38+1WQe16PC3Em49tij/nvq6j3JuDzL7NekX1Q8KqCAAgoooIACCiiggAIKKKDAXoHlbMtCNJISWxJ9NcTeMaP+JF6SLEkShuQIyZJrKCOT2b5nfWf1szhH6mvyavac8OZcEm+zOb5///4nKfjw8HA6r8kwEn/sh1h5HhJraQ3My4fCcfYWH7GJw7EmHDPHSx2Zr+7zpeYxrgIKKKCAAgoooIACCiiggAIKfEyBsyf98qOJJC3yhhR0XNdPOOsbVyTzSPKk0L8njPKGX/qMjrM10JeYzJFkE33rGkj+1Le+6M9bZOmfRFHmTTzGsf6UugbOayEe/RnLJ2VWT584cE68pfXUvv08c+bI3NwnXGsh0VXvRW3bc17XXsexLublSJ9ZoT0JOZJ69E0ybMubfsQdrYG67I8j14nPeQrn3Jf0SX09ps/snqzdV8bXOYnNdfZZ5/JcAQUUUEABBRRQQAEFFFBAAQUU2CLwN7uxpXfpQ1IiCaVUk4wi8UXyhA/JmppMGo0huURfShJluR71J36Nmblz3LIGYpDYI6nCHFwnwcJ6+KSM2uv8aSde1o1LYlBPHxI/KczHOnuZ1TM+1nU+xmPck6u179o5MXiDjrlT2AfzZD+pp270SfvoSP+sobazbuLTRp9ZwY+1sUb6xrX2J9mW+1frc97XkPueMf064ziyTu4Vc1ej2of4tCUea6zPCG2j+93X1WMmXq33XAEFFFBAAQUUUEABBRRQQAEFFNgiMM+2rIweJSx6ciMJuIQajUkbx558GfUf1dUYe9fQ4/Uk1KidOVJo7wkd2vMWGf1ISvFJob0m6tbq6xrqOeOWjGvf2XmdO4lJ1l7Xmz5HjnXejCchhjOle6dPPeYtO2IdSYT1NfTnrF/XuTHhfvGJT23nvMfvCcLZ/e7jEov6fI7st6/PawUUUEABBRRQQAEFFFBAAQUUuD6Bsyb9ehKjJ3R6O9y8ycWbUUlycEyiY9SfuvoWVb9lfczaGvb2T4Io8/bx1FPXPzXJRwzeIOuJpFl9naOeM9fS/mrf2TkxKCQPs0buxyzB9bv39l/rvIzKHhOhrz/1OdKOFYX7Trz+BmL6zo6jNVDHWigc6/Uszqx+Fj/9s+d+v/u49PeogAIKKKCAAgoooIACCiiggAIKPFfgrEk/khr1rTfOk7BhoaMkB2OSxOvJl1F/ElM1ZgfYu4Y+R09CjdqZI6W3U097fdMvffuRvdRYae/1dY56Tv9zvemXH0POMWupR+YefWqfft7XG99RnCThaow+vl/XvrPzPiY/vpx7lDcJZ+PX6nt89rj3vq7NYbsCCiiggAIKKKCAAgoooIACCiiwR+CsST+SdyTkSKrwIfFBAiSF65oUpL72yZtcSf70ZAr9k5Sib974on/+rre1NfSY/TpJKeai0M4amZfC/pgjpY+nnnbWk/Wlbz/Sj9i99Po6R11PjGfr6eNyL0b3gTWwZtpqvL62vdd1DaOx3Zv5k4yjP975UeP8671730IcraHG7T9+PVrnUl29J1nzyHDpvi7Ft00BBRRQQAEFFFBAAQUUUEABBRTYK3DWpB+T85YaSRA+PcGXBE9NdOXvTEt/jktJP+agvc5DsoqEUEpt62sgfpJf9O/XWWNi0U485uA8CajaXuOlngQP/fOpfVKHQ01gLdVnPH1IipG04nxpPbTXcTnnSFu9D6w7b7xVy+xn75H4/ZP5a6ysJXU96UeyNXulrd/PjBsd+/xcZw01LoZJ6o7irNURd+0Zoc/ofmc9a3PYroACCiiggAIKKKCAAgoooIACCuwROJz02zPJe+5bE0XveR9b1k6yrycCt4y79j7X9Ixc+712/woooIACCiiggAIKKKCAAgq8FwGTfit36poSOrydOPqx1BWiq2++pmfk6m+2AAoooIACCiiggAIKKKCAAgq8EwGTfis36poSOuz1HD/au0L64Zqv6Rn5cDfPDSmggAIKKKCAAgoooIACCijwQQVM+n3QG+u2FFBAAQUUUEABBRRQQAEFFFBAAQWuV8Ck3/Xee3eugAIKKKCAAgoooIACCiiggAIKKPBBBUz6fdAb67YUUEABBRRQQAEFFFBAAQUUUEABBa5XwKTf9d57d66AAgoooIACCiiggAIKKKCAAgoo8EEFTPo948b6r90+A8+hCiiggAIKKKCAAgoooIACCiiggAIvJmDSr9Hu+ZdYP3/+/PT4+NgirF/umWM9mj0UUEABBRRQQAEFFFBAAQUUUEABBRT4V2B30o9EF0mrfL5+/fr08+fPf6O+wNX9/f1pTo5LJeuqx6X+vY1xa3Mw5uHh4enLly99+H+uR/FGdf8ZaIUCCiiggAIKKKCAAgoooIACCiiggAIHBXYn/XrCisTXluTXwfWdht3c3JySbH3uUUz6kIg8WrbMQezb29unu7u71WlG8UZ1q4HsoIACCiiggAIKKKCAAgoooIACCiigwEaBZyf98gZenY9kGIktPiTHzlW2JMvoszXpR9/v37+fkpa8wUihjvUTYykWbfUNxx8/fpziUM8nsXKdutRvmeMUxF8UUEABBRRQQAEFFFBAAQUUUEABBRTYKfCspN+vX79Oia76xhvnJNBoSzv/4EUvNRlWz3u/ek2/tR+9rbF4A7Em5moszunLWunDWnsd18ToiUsSfLx9WAtxqkPaRmuu89JvNEfGe1RAAQUUUEABBRRQQAEFFFBAAQUUUGCvwKGkX02sJWmWiXvyK0nAtD/nOEqgzeLxD2ywlp6cq/2J1xN1fY7R+nkLkDcEa2Gunhykvccb1Y3mqLE9V0ABBRRQQAEFFFBAAQUUUEABBRRQYI/AoaRf3rbLm3z17/TrSa7Rj//uWWDt22PXttE5yTTGzMooXq/r62fP9MmbgYlNkhEHkn+8CZjS41Hf6/ocGetRAQUUUEABBRRQQAEFFFBAAQUUUECBIwLzjNgk2lrCavSmX00KJixxRp+0j4597lGfWsePFbOeWRnF63X9LTze8Fv6OwN526/O2eOxll7X55it13oFFFBAAQUUUEABBRRQQAEFFFBAAQW2CDw76UdCrybBSLRRx5twfEiA5c3ALQta6tOTZfQlfv9RW+rz470k1GZlFI86Yubv+eO8/p2E7K2+yddj90Qj4/sa1uboMb1WQAEFFFBAAQUUUEABBRRQQAEFFFBgj8ChpB9Jq3x4s63/qCt1ae8Jrz2LS9/EqsckEmvSL//iLv1IzqVP4vQj/Xof6vIv+nJeE5okAqkbFer5sJ6aFCR+6jOO69kc6eNRAQUUUEABBRRQQAEFFFBAAQUUUECBowLjDNbRaB98HAnM+tbfB9+u21NAAQUUUEABBRRQQAEFFFBAAQUUeKcCJv123DjeHnx4eNgxwq4KKKCAAgoooIACCiiggAIKKKCAAgq8voBJv9c3d0YFFFBAAQUUUEABBRRQQAEFFFBAAQVeVMCk34vyGlwBBRRQQAEFFFBAAQUUUEABBRRQQIHXFzDp9/rmzqiAAgoooIACCiiggAIKKKCAAgoooMCLCpj0e1FegyuggAIKKKCAAgoooIACCiiggAIKKPD6Aib9Xt/cGRVQQAEFFFBAAQUUUEABBRRQQAEFFHhRAZN+L8prcAUUUEABBRRQQAEFFFBAAQUUUEABBV5f4MWSfp8/f366vb097ejTp09P9/f3u3ZXx+8a+IzObzHnM5brUAUUUEABBRRQQAEFFFBAAQUUUEABBYYCh5J+P3/+PCX0SObxubm5eXp4ePhngppAe49JvyNr/gdgwwWOX79+PRl++fLlietR+fXr18m4es/6jsZbp4ACCiiggAIKKKCAAgoooIACCihwXQK7k34km0g+ffv27Y/U3d3dqa4n/tLhNRJometcx9dYMwk/PhSOJP62FJKsW/tuiWcfBRRQQAEFFFBAAQUUUEABBRRQQIGPJbA76ceP7I4STiSi8uO8ENWkWT0PH0nD2p96rvNjwHXMjx8/TnNSx6cW4lDHm4X0S0kikrY+zywefZmfY/0Qkxg10Ukde/7+/TunhwpzZDxHrnmrb61kjUv9Ri7EZ+95uzAJx6U4timggAIKKKCAAgoooIACCiiggAIKvD+BfzNoG9ZPcq0nvxiWJFtCkGAaJfDS/vj4eEpy5ZojY/Jjq3U8cxK/F+poS6KMJByl1tNGkrKueRavzlnPiclbjIxLIS59MnfqqRt90p5j9s+R0q/Trx/pN1t/+tb9UxcX1sXYzEl9dcl4jwoooIACCiiggAIKKKCAAgoooIAC71tgd9KPxFGSeXXr/e2z2q+e1zEk4/J2Hsckp+hTx5Co6m/r0WeW/Or1SYIxhjKLV+es579H/R6X9fJm3nPelOtJvn6dOXOML+vCqScb049j33/a+p6ISV+LAgoooIACCiiggAIKKKCAAgoooMDHEjiU9COJ1gtvjNUEUk0w1fM6jjhJ5pHIyo+60qeOISFGgpD4Sbr1PjVuHUt9EmbpsyVej8HYvt66lsTeeuxJvn49i0OyD6tq3fuO1k6fXp85+3ivFVBAAQUUUEABBRRQQAEFFFBAAQXet8DupB9vt9U38rJ9knJJ4FFXE0z1PP055h8FybG+vTYaQ/ya7OJ8lIDs9fRhfb30eHXOep5xWWeOqa9Hxo0+tQ/n7JV+SXTm7/Tr/UbXSdZxHJW+//Tpe/JNv8h4VEABBRRQQAEFFFBAAQUUUEABBT6WwO6kH3+3XU8e5S0/kmEptU89T3uOJBB7wpC20ZjMk7G5TrIwSUfqiUk9H5JgJLh6yfjU1zlnibO8ZcfY5xbWmB8R5phz4jJ/EoJ9np6s7O3ZV3dhf8TNfWL+c+yjz++1AgoooIACCiiggAIKKKCAAgoooMDbCuxO+rFcEn8kv0gi8SEJlURStlMTaPU87TnmDbf+o7J1DOd8SFj1fsydtprYSz1t/W3AWTzqE4Nj4matHLNeDJ5bMCPxxjwk/KphTfqxlvSj78i7ryX7J072lLG5dzXJ2Md7rYACCiiggAIKKKCAAgoooIACCijwfgUOJf3e73afv/L+r/g+P+LrRSDplwTg683qTAoooIACCiiggAIKKKCAAgoooIACry1g0m+nOD8O+15/JNak386bbXcFFFBAAQUUUEABBRRQQAEFFFDgnQqY9Nt540icneNHe3dOe5buJv3OwmgQBRRQQAEFFFBAAQUUUEABBRRQ4OIFTPpd/C1ygQoooIACCiiggAIKKKCAAgoooIACCuwTMOm3z8veCiiggAIKKKCAAgoooIACCiiggAIKXLyASb+Lv0UuUAEFFFBAAQUUUEABBRRQQAEFFFBAgX0CJv32edlbAQUUUEABBRRQQAEFFFBAAQUUUECBixcw6Xfxt8gFKqCAAgoooIACCiiggAIKKKCAAgoosE/gIpJ+9V+VnZ3v29bb976/v39iLymfP39+ur29zeWHPv748eOJ/bJ/zi0KKKCAAgoooIACCiiggAIKKKCAAq8r8DcrtWFeEllfvnz5p+evX79OyZ3v37//U8/1169f/6mbXcwSfbV+NvZS6y8l6ffz58/TfcCSe8f1rJCgo8+ob41DQm8pmVcTnDwflPd8L2de1iuggAIKKKCAAgoooIACCiiggAKXKrAr6Ufih+RNEjlsiuQPdf0tNq7v7u427bsmhGbnmwJdUKee9HurpZF4TfKVY0/a1nXlHuY+1751LAnd/hzUOPUepn5UlzaPCiiggAIKKKCAAgoooIACCiiggALnFdiV9GNqEkH1rT4SRXxI6tTCdX2rjAQgdXx6MpA6kmSUfk5fEk7UJ3lV56lxk7RKO2NYK2vm7bOUOqavJX1GY/vbbtWBcVnnzc3Nf0z6vh4fHzPVae+0p9Q37mp92vccsw/GrCXratzsJXV1/dRxPXrbj/r6SfKz1iWmRwUUUEABBRRQQAEFFFBAAQUUUECBlxH4m2naGJ8kWU2ukUwjGcbx4eHhFIVjTbKR+CERvqokmQAACmxJREFURslbZDVhREJolvRLfMaSvKtzsxbaefOQD+3fvn2j66kQN+PzduLaWpbGsofESeIw18ybtcSD+VP6HpeSfsSZJSOJR6zRJ3PlyBz0y1z9Ov1GR9aAZwrnSbomTu5Z+uRY97pUlzaPCiiggAIKKKCAAgoooIACCiiggALnFfibldoYl4QeSR0Kya0khkh6JVHFsSbfSCDVt+JIHiWBRJyaJJqd04+4xErpybHeTqysqY5ZWkv6jcamjWMSX0mo9bWQECNGSt9XxtHe+xKrJjcTY++xr7Ffz+LljcCamOWcdbEP1lb30+OM2kZ1fZzXCiiggAIKKKCAAgoooIACCiiggALnEfibldoRj+QPyT+SVUnukRRKApBj3vojLAmf/qlJrZoQmp0TpyfHat8t7fTp6+C6roU+lB6bOpKcvO1XYyR51/svrZW+GUfc3pc2DHGuiTf67ik9ydevR7HylmJNyvZ+vN3IHmrytPbpFrSN6uoYzxVQQAEFFFBAAQUUUEABBRRQQAEFzidwKOlHkow36EgM1aRUklkcayF5NUsQ0a8mhGbn9Otv8hG3vsnHeRKPPS7XlLW1/O7175pSx9gkOXsCra+lJ/L6vqpb75v5cCZuL8QafXq/npzLG3y9X66T8MuPYqe+H1k789N/VOpe0z6qS5tHBRRQQAEFFFBAAQUUUEABBRRQQIHzCvybndsYm6QPyTUSObWQLOLT35wjUUZ9/v67OobzmhDq5yS9SC4xtibdGEdc1kFb2kmgpdRYqVtbS/qNxjJ/4hOHPiT/KFkL50me0Z5S41UjxhO39s0YYtL2nIJP3trjmHNiEjvJ2PhRN0rmpS57q3H6+upe00bcmqBNvUcFFFBAAQUUUEABBRRQQAEFFFBAgfML/M1K7YxNYofkVS15k6y+xZb2JMkY15NC9bqfEzMJxlGiiQRjYvakUo2VdXBcWkv6jcayL5JXtDEXxyT9GMf6qOMYi1E8Emd1T6O+xGGukWVibjn2uZK8YyzxmZuStw2Zt36S5MzeGIPfUmF8xqVf4jPeooACCiiggAIKKKCAAgoooIACCijwsgKHk34vuyyjK6CAAgoooIACCiiggAIKKKCAAgoooMBRAZN+R+Ucp4ACCiiggAIKKKCAAgoooIACCiigwIUKmPS70BvjshRQQAEFFFBAAQUUUEABBRRQQAEFFDgqYNLvqJzjFFBAAQUUUEABBRRQQAEFFFBAAQUUuFABk34XemNclgIKKKCAAgoooIACCiiggAIKKKCAAkcFTPodlXOcAgoooIACCiiggAIKKKCAAgoooIACFypg0u9Cb4zLUkABBRRQQAEFFFBAAQUUUEABBRRQ4KiASb+jco5TQAEFFFBAAQUUUEABBRRQQAEFFFDgQgVM+l3ojXFZCiiggAIKKKCAAgoooIACCiiggAIKHBUw6XdUznEKKKCAAgoooIACCiiggAIKKKCAAgpcqIBJvwu9MS5LAQUUUEABBRRQQAEFFFBAAQUUUECBowIm/Y7KOU4BBRRQQAEFFFBAAQUUUEABBRRQQIELFTDpd6E3xmUpoIACCiiggAIKKKCAAgoooIACCihwVMCk31E5xymggAIKKKCAAgoooIACCiiggAIKKHChAib9LvTGuCwFFFBAAQUUUEABBRRQQAEFFFBAAQWOCpj0OyrnOAUUUEABBRRQQAEFFFBAAQUUUEABBS5UwKTfhd4Yl6WAAgoooIACCiiggAIKKKCAAgoooMBRAZN+R+Ucp4ACCiiggAIKKKCAAgoooIACCiigwIUKmPS70BvjshRQQAEFFFBAAQUUUEABBRRQQAEFFDgqYNLvqJzjFFBAAQUUUEABBRRQQAEFFFBAAQUUuFABk34XemNclgIKKKCAAgoooIACCiiggAIKKKCAAkcFTPodlXOcAgoooIACCiiggAIKKKCAAgoooIACFypg0u9Cb4zLUkABBRRQQAEFFFBAAQUUUEABBRRQ4KiASb+jco5TQAEFFFBAAQUUUEABBRRQQAEFFFDgQgVM+l3ojXFZCiiggAIKKKCAAgoooIACCiiggAIKHBUw6XdUznEKKKCAAgoooIACCiiggAIKKKCAAgpcqMDFJf0+ffr0dH9//yZcbzn3m2zYSRVQQAEFFFBAAQUUUEABBRRQQAEFPqTA4aTft2/fnkiSPTw8nBXmtRJvo3lGdUc2d644zH3OWEf24hgFFFBAAQUUUEABBRRQQAEFFFBAgfcncDjp9/nz56cvX748kfw7Z3mtJNdonlHdkb2dKw5znzPWkb04RgEFFFBAAQUUUEABBRRQQAEFFFDg/QkcSvr9+PHjiaQfR5JSvVD3/fv3p69fv57aSQ7+/PnzTzfO00Yc+qYkyXV7e/ufhOLNzc2fvsSkbz7ES7m7u/tTz3kvGZNj2rmmf9bW102/o7HXxmJZ90T/rC9H6iwKKKCAAgoooIACCiiggAIKKKCAAgqsCfw3Y7c24n/tJMXyhh8JqZq0Yzh1JPMeHx9P0UjW8Unh/NevX6fLJNFyzVj+Tj9+bJgYKbTTln6p50iyLGtgbOYiucgYEmq9ZJ5aT93Sup8Te20s884SlIy1KKCAAgoooIACCiiggAIKKKCAAgoosFVgd9Ivybf8XX49ocfEPaFG0oq6USExSFsShHUsibAk7PLmYI9B8rG+5ceYJADpS1ttz/g6z6yur/s5sdfG0s7bjb2M1tn7eK2AAgoooIACCiiggAIKKKCAAgoooEAVGGfiao923hNhJNhITNUf3+2Jqj6GviQL6ZfPKOnHm29JhNE/CcAsKW8D1rf/Eq8eEyPjONLOumrpdX3dNWbO98TOmBzrWPbPG4sk/+o+6dvXWdfsuQIKKKCAAgoooIACCiiggAIKKKCAAl1gd9Kv/r1zSV5xrD+a2hNVPXlGYis/Hrz0pl9+PDfHvvj+9hzto7o+juu+xlHdaN31LcJR3FEc6raui0QgfVNG60ybRwUUUEABBRRQQAEFFFBAAQUUUEABBUYCu5J+SdDVN9EIyo/PLiWqRsmzvL1G8o/E1uhNP2Lzhh+xkySkjkJybPRju/RjTH377/eIf38lZk1U0toTbH3dz4m9dSz9quVondRtST7+u2OvFFBAAQUUUEABBRRQQAEFFFBAAQWuRWBX0i+Jq47Tk4FryTOShiSu6EfibSnplx8fzt8hmLkZ0z9pY521LQnGtHNMQq8m2BhT+6ZPHXc0NjGWxma9rKcmVbOGuk7OTfrVu+K5AgoooIACCiiggAIKKKCAAgoooEAV2JX0qwNf6zx/b99rzec8CiiggAIKKKCAAgoooIACCiiggAIKvHeBi0/68XYcH4sCCiiggAIKKKCAAgoooIACCiiggAIKbBO4+KQfP/baf7R329bspYACCiiggAIKKKCAAgoooIACCiigwHUKXHzS7zpvi7tWQAEFFFBAAQUUUEABBRRQQAEFFFDguIBJv+N2jlRAAQUUUEABBRRQQAEFFFBAAQUUUOAiBUz6XeRtcVEKKKCAAgoooIACCiiggAIKKKCAAgocF/g/RM3G1K7M9ZsAAAAASUVORK5CYII=)"
      ]
    },
    {
      "cell_type": "code",
      "metadata": {
        "id": "Jt_cl4ywJ7Mn",
        "colab_type": "code",
        "colab": {}
      },
      "source": [
        "Pi = 5000 #psi\n",
        "\n",
        "q = 2000 #stb/d\n",
        "\n",
        "h = 50 #ft\n",
        "\n",
        "phi = 0.24\n",
        "\n",
        "ct = 14.8E-6\n",
        "\n",
        "Bo = 1.5 #rb/stb\n",
        "\n",
        "mu = 0.3 #cp, oil\n",
        "\n",
        "rw = 0.29 #ft"
      ],
      "execution_count": 9,
      "outputs": []
    },
    {
      "cell_type": "code",
      "metadata": {
        "id": "lNS_5EToISe6",
        "colab_type": "code",
        "colab": {}
      },
      "source": [
        "df = pd.read_csv('hf.txt',sep='\\t')"
      ],
      "execution_count": 4,
      "outputs": []
    },
    {
      "cell_type": "code",
      "metadata": {
        "id": "Fi_lh4NgJFnW",
        "colab_type": "code",
        "colab": {}
      },
      "source": [
        "df['t_1/2'] = np.sqrt(df['t'])\n",
        "df['t_1/4'] = np.sqrt(df['t_1/2'])"
      ],
      "execution_count": 11,
      "outputs": []
    },
    {
      "cell_type": "code",
      "metadata": {
        "id": "K1RRfkHTJGdM",
        "colab_type": "code",
        "colab": {
          "base_uri": "https://localhost:8080/",
          "height": 198
        },
        "outputId": "4ea8b004-0d1d-4845-8622-a1d05d1ab733"
      },
      "source": [
        "df.head()"
      ],
      "execution_count": 12,
      "outputs": [
        {
          "output_type": "execute_result",
          "data": {
            "text/html": [
              "<div>\n",
              "<style scoped>\n",
              "    .dataframe tbody tr th:only-of-type {\n",
              "        vertical-align: middle;\n",
              "    }\n",
              "\n",
              "    .dataframe tbody tr th {\n",
              "        vertical-align: top;\n",
              "    }\n",
              "\n",
              "    .dataframe thead th {\n",
              "        text-align: right;\n",
              "    }\n",
              "</style>\n",
              "<table border=\"1\" class=\"dataframe\">\n",
              "  <thead>\n",
              "    <tr style=\"text-align: right;\">\n",
              "      <th></th>\n",
              "      <th>t</th>\n",
              "      <th>FBHP (psia)</th>\n",
              "      <th>t_1/2</th>\n",
              "      <th>t_1/4</th>\n",
              "    </tr>\n",
              "  </thead>\n",
              "  <tbody>\n",
              "    <tr>\n",
              "      <th>0</th>\n",
              "      <td>0.00000</td>\n",
              "      <td>5000.00</td>\n",
              "      <td>0.000000</td>\n",
              "      <td>0.000000</td>\n",
              "    </tr>\n",
              "    <tr>\n",
              "      <th>1</th>\n",
              "      <td>0.01002</td>\n",
              "      <td>4980.61</td>\n",
              "      <td>0.100100</td>\n",
              "      <td>0.316386</td>\n",
              "    </tr>\n",
              "    <tr>\n",
              "      <th>2</th>\n",
              "      <td>0.01209</td>\n",
              "      <td>4978.68</td>\n",
              "      <td>0.109955</td>\n",
              "      <td>0.331594</td>\n",
              "    </tr>\n",
              "    <tr>\n",
              "      <th>3</th>\n",
              "      <td>0.01420</td>\n",
              "      <td>4976.57</td>\n",
              "      <td>0.119164</td>\n",
              "      <td>0.345201</td>\n",
              "    </tr>\n",
              "    <tr>\n",
              "      <th>4</th>\n",
              "      <td>0.01730</td>\n",
              "      <td>4974.24</td>\n",
              "      <td>0.131529</td>\n",
              "      <td>0.362670</td>\n",
              "    </tr>\n",
              "  </tbody>\n",
              "</table>\n",
              "</div>"
            ],
            "text/plain": [
              "         t  FBHP (psia)     t_1/2     t_1/4\n",
              "0  0.00000      5000.00  0.000000  0.000000\n",
              "1  0.01002      4980.61  0.100100  0.316386\n",
              "2  0.01209      4978.68  0.109955  0.331594\n",
              "3  0.01420      4976.57  0.119164  0.345201\n",
              "4  0.01730      4974.24  0.131529  0.362670"
            ]
          },
          "metadata": {
            "tags": []
          },
          "execution_count": 12
        }
      ]
    },
    {
      "cell_type": "code",
      "metadata": {
        "id": "Ql00i8hsJY7X",
        "colab_type": "code",
        "colab": {
          "base_uri": "https://localhost:8080/",
          "height": 283
        },
        "outputId": "b6af761f-821e-40b2-af56-ddf5081a9301"
      },
      "source": [
        "plt.plot(df['t_1/2'] , df['FBHP (psia)'])\n",
        "plt.plot(df['t_1/4'] , df['FBHP (psia)'])"
      ],
      "execution_count": 13,
      "outputs": [
        {
          "output_type": "execute_result",
          "data": {
            "text/plain": [
              "[<matplotlib.lines.Line2D at 0x7f607ae42438>]"
            ]
          },
          "metadata": {
            "tags": []
          },
          "execution_count": 13
        },
        {
          "output_type": "display_data",
          "data": {
            "image/png": "[encoded data removed]",
            "text/plain": [
              "<Figure size 432x288 with 1 Axes>"
            ]
          },
          "metadata": {
            "tags": [],
            "needs_background": "light"
          }
        }
      ]
    },
    {
      "cell_type": "code",
      "metadata": {
        "id": "-K7NHKxKJfZo",
        "colab_type": "code",
        "colab": {}
      },
      "source": [
        "df['dP'] = np.zeros(len(df))\n",
        "df['dt'] = np.zeros(len(df))"
      ],
      "execution_count": 16,
      "outputs": []
    },
    {
      "cell_type": "code",
      "metadata": {
        "id": "03lIvbx1Ncwg",
        "colab_type": "code",
        "colab": {}
      },
      "source": [
        "df['dP'] = Pi - df['FBHP (psia)']\n",
        "\n",
        "# df"
      ],
      "execution_count": 19,
      "outputs": []
    },
    {
      "cell_type": "code",
      "metadata": {
        "id": "exSURxOxNdqS",
        "colab_type": "code",
        "colab": {}
      },
      "source": [
        "df['dt'].loc[1:] = df['t'].diff()"
      ],
      "execution_count": 31,
      "outputs": []
    },
    {
      "cell_type": "code",
      "metadata": {
        "id": "LSbwvAWfO-uV",
        "colab_type": "code",
        "colab": {}
      },
      "source": [
        "df['d(dP)'] = np.zeros(len(df))\n",
        "\n",
        "df['d(dP)'].loc[1:] = df['dP'].diff()\n",
        "\n",
        "df['t*d(dP)/dt'] = np.zeros(len(df))"
      ],
      "execution_count": 34,
      "outputs": []
    },
    {
      "cell_type": "code",
      "metadata": {
        "id": "5x_CeEW7OioW",
        "colab_type": "code",
        "colab": {}
      },
      "source": [
        "df['t*d(dP)/dt'].loc[1:] = df['d(dP)']*df['t']/df['dt']"
      ],
      "execution_count": 51,
      "outputs": []
    },
    {
      "cell_type": "code",
      "metadata": {
        "id": "ntNEh5BGOvNW",
        "colab_type": "code",
        "colab": {
          "base_uri": "https://localhost:8080/",
          "height": 1000
        },
        "outputId": "f3750cdb-93c4-447e-8503-e3566c760734"
      },
      "source": [
        "df"
      ],
      "execution_count": 52,
      "outputs": [
        {
          "output_type": "execute_result",
          "data": {
            "text/html": [
              "<div>\n",
              "<style scoped>\n",
              "    .dataframe tbody tr th:only-of-type {\n",
              "        vertical-align: middle;\n",
              "    }\n",
              "\n",
              "    .dataframe tbody tr th {\n",
              "        vertical-align: top;\n",
              "    }\n",
              "\n",
              "    .dataframe thead th {\n",
              "        text-align: right;\n",
              "    }\n",
              "</style>\n",
              "<table border=\"1\" class=\"dataframe\">\n",
              "  <thead>\n",
              "    <tr style=\"text-align: right;\">\n",
              "      <th></th>\n",
              "      <th>t</th>\n",
              "      <th>FBHP (psia)</th>\n",
              "      <th>t_1/2</th>\n",
              "      <th>t_1/4</th>\n",
              "      <th>dP</th>\n",
              "      <th>dt</th>\n",
              "      <th>d(dP)</th>\n",
              "      <th>t*d(dP)/dt</th>\n",
              "    </tr>\n",
              "  </thead>\n",
              "  <tbody>\n",
              "    <tr>\n",
              "      <th>0</th>\n",
              "      <td>0.00000</td>\n",
              "      <td>5000.00</td>\n",
              "      <td>0.000000</td>\n",
              "      <td>0.000000</td>\n",
              "      <td>0.00</td>\n",
              "      <td>0.00000</td>\n",
              "      <td>0.00</td>\n",
              "      <td>0.000000</td>\n",
              "    </tr>\n",
              "    <tr>\n",
              "      <th>1</th>\n",
              "      <td>0.01002</td>\n",
              "      <td>4980.61</td>\n",
              "      <td>0.100100</td>\n",
              "      <td>0.316386</td>\n",
              "      <td>19.39</td>\n",
              "      <td>0.01002</td>\n",
              "      <td>19.39</td>\n",
              "      <td>19.390000</td>\n",
              "    </tr>\n",
              "    <tr>\n",
              "      <th>2</th>\n",
              "      <td>0.01209</td>\n",
              "      <td>4978.68</td>\n",
              "      <td>0.109955</td>\n",
              "      <td>0.331594</td>\n",
              "      <td>21.32</td>\n",
              "      <td>0.00207</td>\n",
              "      <td>1.93</td>\n",
              "      <td>11.272319</td>\n",
              "    </tr>\n",
              "    <tr>\n",
              "      <th>3</th>\n",
              "      <td>0.01420</td>\n",
              "      <td>4976.57</td>\n",
              "      <td>0.119164</td>\n",
              "      <td>0.345201</td>\n",
              "      <td>23.43</td>\n",
              "      <td>0.00211</td>\n",
              "      <td>2.11</td>\n",
              "      <td>14.200000</td>\n",
              "    </tr>\n",
              "    <tr>\n",
              "      <th>4</th>\n",
              "      <td>0.01730</td>\n",
              "      <td>4974.24</td>\n",
              "      <td>0.131529</td>\n",
              "      <td>0.362670</td>\n",
              "      <td>25.76</td>\n",
              "      <td>0.00310</td>\n",
              "      <td>2.33</td>\n",
              "      <td>13.002903</td>\n",
              "    </tr>\n",
              "    <tr>\n",
              "      <th>5</th>\n",
              "      <td>0.02090</td>\n",
              "      <td>4971.98</td>\n",
              "      <td>0.144568</td>\n",
              "      <td>0.380221</td>\n",
              "      <td>28.02</td>\n",
              "      <td>0.00360</td>\n",
              "      <td>2.26</td>\n",
              "      <td>13.120556</td>\n",
              "    </tr>\n",
              "    <tr>\n",
              "      <th>6</th>\n",
              "      <td>0.02520</td>\n",
              "      <td>4969.20</td>\n",
              "      <td>0.158745</td>\n",
              "      <td>0.398428</td>\n",
              "      <td>30.80</td>\n",
              "      <td>0.00430</td>\n",
              "      <td>2.78</td>\n",
              "      <td>16.292093</td>\n",
              "    </tr>\n",
              "    <tr>\n",
              "      <th>7</th>\n",
              "      <td>0.03080</td>\n",
              "      <td>4966.14</td>\n",
              "      <td>0.175499</td>\n",
              "      <td>0.418926</td>\n",
              "      <td>33.86</td>\n",
              "      <td>0.00560</td>\n",
              "      <td>3.06</td>\n",
              "      <td>16.830000</td>\n",
              "    </tr>\n",
              "    <tr>\n",
              "      <th>8</th>\n",
              "      <td>0.03680</td>\n",
              "      <td>4963.17</td>\n",
              "      <td>0.191833</td>\n",
              "      <td>0.437988</td>\n",
              "      <td>36.83</td>\n",
              "      <td>0.00600</td>\n",
              "      <td>2.97</td>\n",
              "      <td>18.216000</td>\n",
              "    </tr>\n",
              "    <tr>\n",
              "      <th>9</th>\n",
              "      <td>0.04360</td>\n",
              "      <td>4959.52</td>\n",
              "      <td>0.208806</td>\n",
              "      <td>0.456953</td>\n",
              "      <td>40.48</td>\n",
              "      <td>0.00680</td>\n",
              "      <td>3.65</td>\n",
              "      <td>23.402941</td>\n",
              "    </tr>\n",
              "    <tr>\n",
              "      <th>10</th>\n",
              "      <td>0.05260</td>\n",
              "      <td>4955.96</td>\n",
              "      <td>0.229347</td>\n",
              "      <td>0.478902</td>\n",
              "      <td>44.04</td>\n",
              "      <td>0.00900</td>\n",
              "      <td>3.56</td>\n",
              "      <td>20.806222</td>\n",
              "    </tr>\n",
              "    <tr>\n",
              "      <th>11</th>\n",
              "      <td>0.06340</td>\n",
              "      <td>4951.59</td>\n",
              "      <td>0.251794</td>\n",
              "      <td>0.501790</td>\n",
              "      <td>48.41</td>\n",
              "      <td>0.01080</td>\n",
              "      <td>4.37</td>\n",
              "      <td>25.653519</td>\n",
              "    </tr>\n",
              "    <tr>\n",
              "      <th>12</th>\n",
              "      <td>0.07540</td>\n",
              "      <td>4947.35</td>\n",
              "      <td>0.274591</td>\n",
              "      <td>0.524014</td>\n",
              "      <td>52.65</td>\n",
              "      <td>0.01200</td>\n",
              "      <td>4.24</td>\n",
              "      <td>26.641333</td>\n",
              "    </tr>\n",
              "    <tr>\n",
              "      <th>13</th>\n",
              "      <td>0.09100</td>\n",
              "      <td>4942.72</td>\n",
              "      <td>0.301662</td>\n",
              "      <td>0.549238</td>\n",
              "      <td>57.28</td>\n",
              "      <td>0.01560</td>\n",
              "      <td>4.63</td>\n",
              "      <td>27.008333</td>\n",
              "    </tr>\n",
              "    <tr>\n",
              "      <th>14</th>\n",
              "      <td>0.11000</td>\n",
              "      <td>4937.66</td>\n",
              "      <td>0.331662</td>\n",
              "      <td>0.575901</td>\n",
              "      <td>62.34</td>\n",
              "      <td>0.01900</td>\n",
              "      <td>5.06</td>\n",
              "      <td>29.294737</td>\n",
              "    </tr>\n",
              "    <tr>\n",
              "      <th>15</th>\n",
              "      <td>0.13200</td>\n",
              "      <td>4932.23</td>\n",
              "      <td>0.363318</td>\n",
              "      <td>0.602759</td>\n",
              "      <td>67.77</td>\n",
              "      <td>0.02200</td>\n",
              "      <td>5.43</td>\n",
              "      <td>32.580000</td>\n",
              "    </tr>\n",
              "    <tr>\n",
              "      <th>16</th>\n",
              "      <td>0.15900</td>\n",
              "      <td>4927.05</td>\n",
              "      <td>0.398748</td>\n",
              "      <td>0.631465</td>\n",
              "      <td>72.95</td>\n",
              "      <td>0.02700</td>\n",
              "      <td>5.18</td>\n",
              "      <td>30.504444</td>\n",
              "    </tr>\n",
              "    <tr>\n",
              "      <th>17</th>\n",
              "      <td>0.19000</td>\n",
              "      <td>4921.48</td>\n",
              "      <td>0.435890</td>\n",
              "      <td>0.660220</td>\n",
              "      <td>78.52</td>\n",
              "      <td>0.03100</td>\n",
              "      <td>5.57</td>\n",
              "      <td>34.138710</td>\n",
              "    </tr>\n",
              "    <tr>\n",
              "      <th>18</th>\n",
              "      <td>0.22900</td>\n",
              "      <td>4915.49</td>\n",
              "      <td>0.478539</td>\n",
              "      <td>0.691765</td>\n",
              "      <td>84.51</td>\n",
              "      <td>0.03900</td>\n",
              "      <td>5.99</td>\n",
              "      <td>35.172051</td>\n",
              "    </tr>\n",
              "    <tr>\n",
              "      <th>19</th>\n",
              "      <td>0.27600</td>\n",
              "      <td>4907.10</td>\n",
              "      <td>0.525357</td>\n",
              "      <td>0.724815</td>\n",
              "      <td>92.90</td>\n",
              "      <td>0.04700</td>\n",
              "      <td>8.39</td>\n",
              "      <td>49.268936</td>\n",
              "    </tr>\n",
              "    <tr>\n",
              "      <th>20</th>\n",
              "      <td>0.33200</td>\n",
              "      <td>4900.00</td>\n",
              "      <td>0.576194</td>\n",
              "      <td>0.759075</td>\n",
              "      <td>100.00</td>\n",
              "      <td>0.05600</td>\n",
              "      <td>7.10</td>\n",
              "      <td>42.092857</td>\n",
              "    </tr>\n",
              "    <tr>\n",
              "      <th>21</th>\n",
              "      <td>0.39600</td>\n",
              "      <td>4892.37</td>\n",
              "      <td>0.629285</td>\n",
              "      <td>0.793275</td>\n",
              "      <td>107.63</td>\n",
              "      <td>0.06400</td>\n",
              "      <td>7.63</td>\n",
              "      <td>47.210625</td>\n",
              "    </tr>\n",
              "    <tr>\n",
              "      <th>22</th>\n",
              "      <td>0.47700</td>\n",
              "      <td>4884.14</td>\n",
              "      <td>0.690652</td>\n",
              "      <td>0.831055</td>\n",
              "      <td>115.86</td>\n",
              "      <td>0.08100</td>\n",
              "      <td>8.23</td>\n",
              "      <td>48.465556</td>\n",
              "    </tr>\n",
              "    <tr>\n",
              "      <th>23</th>\n",
              "      <td>0.56800</td>\n",
              "      <td>4875.29</td>\n",
              "      <td>0.753658</td>\n",
              "      <td>0.868135</td>\n",
              "      <td>124.71</td>\n",
              "      <td>0.09100</td>\n",
              "      <td>8.85</td>\n",
              "      <td>55.239560</td>\n",
              "    </tr>\n",
              "    <tr>\n",
              "      <th>24</th>\n",
              "      <td>0.68500</td>\n",
              "      <td>4865.77</td>\n",
              "      <td>0.827647</td>\n",
              "      <td>0.909751</td>\n",
              "      <td>134.23</td>\n",
              "      <td>0.11700</td>\n",
              "      <td>9.52</td>\n",
              "      <td>55.736752</td>\n",
              "    </tr>\n",
              "    <tr>\n",
              "      <th>25</th>\n",
              "      <td>0.83600</td>\n",
              "      <td>4855.52</td>\n",
              "      <td>0.914330</td>\n",
              "      <td>0.956206</td>\n",
              "      <td>144.48</td>\n",
              "      <td>0.15100</td>\n",
              "      <td>10.25</td>\n",
              "      <td>56.748344</td>\n",
              "    </tr>\n",
              "    <tr>\n",
              "      <th>26</th>\n",
              "      <td>0.99500</td>\n",
              "      <td>4844.48</td>\n",
              "      <td>0.997497</td>\n",
              "      <td>0.998748</td>\n",
              "      <td>155.52</td>\n",
              "      <td>0.15900</td>\n",
              "      <td>11.04</td>\n",
              "      <td>69.086792</td>\n",
              "    </tr>\n",
              "    <tr>\n",
              "      <th>27</th>\n",
              "      <td>1.20000</td>\n",
              "      <td>4832.60</td>\n",
              "      <td>1.095445</td>\n",
              "      <td>1.046635</td>\n",
              "      <td>167.40</td>\n",
              "      <td>0.20500</td>\n",
              "      <td>11.88</td>\n",
              "      <td>69.541463</td>\n",
              "    </tr>\n",
              "    <tr>\n",
              "      <th>28</th>\n",
              "      <td>1.44600</td>\n",
              "      <td>4819.82</td>\n",
              "      <td>1.202497</td>\n",
              "      <td>1.096584</td>\n",
              "      <td>180.18</td>\n",
              "      <td>0.24600</td>\n",
              "      <td>12.78</td>\n",
              "      <td>75.121463</td>\n",
              "    </tr>\n",
              "    <tr>\n",
              "      <th>29</th>\n",
              "      <td>1.74000</td>\n",
              "      <td>4806.06</td>\n",
              "      <td>1.319091</td>\n",
              "      <td>1.148517</td>\n",
              "      <td>193.94</td>\n",
              "      <td>0.29400</td>\n",
              "      <td>13.76</td>\n",
              "      <td>81.436735</td>\n",
              "    </tr>\n",
              "    <tr>\n",
              "      <th>30</th>\n",
              "      <td>2.10000</td>\n",
              "      <td>4793.43</td>\n",
              "      <td>1.449138</td>\n",
              "      <td>1.203801</td>\n",
              "      <td>206.57</td>\n",
              "      <td>0.36000</td>\n",
              "      <td>12.63</td>\n",
              "      <td>73.675000</td>\n",
              "    </tr>\n",
              "    <tr>\n",
              "      <th>31</th>\n",
              "      <td>2.50000</td>\n",
              "      <td>4779.98</td>\n",
              "      <td>1.581139</td>\n",
              "      <td>1.257433</td>\n",
              "      <td>220.02</td>\n",
              "      <td>0.40000</td>\n",
              "      <td>13.45</td>\n",
              "      <td>84.062500</td>\n",
              "    </tr>\n",
              "    <tr>\n",
              "      <th>32</th>\n",
              "      <td>3.02000</td>\n",
              "      <td>4763.17</td>\n",
              "      <td>1.737815</td>\n",
              "      <td>1.318262</td>\n",
              "      <td>236.83</td>\n",
              "      <td>0.52000</td>\n",
              "      <td>16.81</td>\n",
              "      <td>97.627308</td>\n",
              "    </tr>\n",
              "    <tr>\n",
              "      <th>33</th>\n",
              "      <td>3.63000</td>\n",
              "      <td>4747.75</td>\n",
              "      <td>1.905256</td>\n",
              "      <td>1.380310</td>\n",
              "      <td>252.25</td>\n",
              "      <td>0.61000</td>\n",
              "      <td>15.42</td>\n",
              "      <td>91.761639</td>\n",
              "    </tr>\n",
              "    <tr>\n",
              "      <th>34</th>\n",
              "      <td>4.38000</td>\n",
              "      <td>4731.33</td>\n",
              "      <td>2.092845</td>\n",
              "      <td>1.446667</td>\n",
              "      <td>268.67</td>\n",
              "      <td>0.75000</td>\n",
              "      <td>16.42</td>\n",
              "      <td>95.892800</td>\n",
              "    </tr>\n",
              "    <tr>\n",
              "      <th>35</th>\n",
              "      <td>5.21000</td>\n",
              "      <td>4713.83</td>\n",
              "      <td>2.282542</td>\n",
              "      <td>1.510809</td>\n",
              "      <td>286.17</td>\n",
              "      <td>0.83000</td>\n",
              "      <td>17.50</td>\n",
              "      <td>109.849398</td>\n",
              "    </tr>\n",
              "    <tr>\n",
              "      <th>36</th>\n",
              "      <td>6.29000</td>\n",
              "      <td>4698.38</td>\n",
              "      <td>2.507987</td>\n",
              "      <td>1.583663</td>\n",
              "      <td>301.62</td>\n",
              "      <td>1.08000</td>\n",
              "      <td>15.45</td>\n",
              "      <td>89.981944</td>\n",
              "    </tr>\n",
              "    <tr>\n",
              "      <th>37</th>\n",
              "      <td>7.58000</td>\n",
              "      <td>4678.74</td>\n",
              "      <td>2.753180</td>\n",
              "      <td>1.659271</td>\n",
              "      <td>321.26</td>\n",
              "      <td>1.29000</td>\n",
              "      <td>19.64</td>\n",
              "      <td>115.404031</td>\n",
              "    </tr>\n",
              "    <tr>\n",
              "      <th>38</th>\n",
              "      <td>9.14000</td>\n",
              "      <td>4661.40</td>\n",
              "      <td>3.023243</td>\n",
              "      <td>1.738748</td>\n",
              "      <td>338.60</td>\n",
              "      <td>1.56000</td>\n",
              "      <td>17.34</td>\n",
              "      <td>101.594615</td>\n",
              "    </tr>\n",
              "    <tr>\n",
              "      <th>39</th>\n",
              "      <td>11.02000</td>\n",
              "      <td>4643.13</td>\n",
              "      <td>3.319639</td>\n",
              "      <td>1.821988</td>\n",
              "      <td>356.87</td>\n",
              "      <td>1.88000</td>\n",
              "      <td>18.27</td>\n",
              "      <td>107.093298</td>\n",
              "    </tr>\n",
              "    <tr>\n",
              "      <th>40</th>\n",
              "      <td>13.12000</td>\n",
              "      <td>4623.87</td>\n",
              "      <td>3.622154</td>\n",
              "      <td>1.903196</td>\n",
              "      <td>376.13</td>\n",
              "      <td>2.10000</td>\n",
              "      <td>19.26</td>\n",
              "      <td>120.329143</td>\n",
              "    </tr>\n",
              "    <tr>\n",
              "      <th>41</th>\n",
              "      <td>15.81000</td>\n",
              "      <td>4607.71</td>\n",
              "      <td>3.976179</td>\n",
              "      <td>1.994036</td>\n",
              "      <td>392.29</td>\n",
              "      <td>2.69000</td>\n",
              "      <td>16.16</td>\n",
              "      <td>94.977546</td>\n",
              "    </tr>\n",
              "    <tr>\n",
              "      <th>42</th>\n",
              "      <td>19.07000</td>\n",
              "      <td>4586.54</td>\n",
              "      <td>4.366921</td>\n",
              "      <td>2.089718</td>\n",
              "      <td>413.46</td>\n",
              "      <td>3.26000</td>\n",
              "      <td>21.17</td>\n",
              "      <td>123.838006</td>\n",
              "    </tr>\n",
              "    <tr>\n",
              "      <th>43</th>\n",
              "      <td>21.99000</td>\n",
              "      <td>4568.78</td>\n",
              "      <td>4.689350</td>\n",
              "      <td>2.165491</td>\n",
              "      <td>431.22</td>\n",
              "      <td>2.92000</td>\n",
              "      <td>17.76</td>\n",
              "      <td>133.747397</td>\n",
              "    </tr>\n",
              "    <tr>\n",
              "      <th>44</th>\n",
              "      <td>27.72000</td>\n",
              "      <td>4550.26</td>\n",
              "      <td>5.264979</td>\n",
              "      <td>2.294554</td>\n",
              "      <td>449.74</td>\n",
              "      <td>5.73000</td>\n",
              "      <td>18.52</td>\n",
              "      <td>89.594136</td>\n",
              "    </tr>\n",
              "    <tr>\n",
              "      <th>45</th>\n",
              "      <td>32.99000</td>\n",
              "      <td>4530.93</td>\n",
              "      <td>5.743692</td>\n",
              "      <td>2.396600</td>\n",
              "      <td>469.07</td>\n",
              "      <td>5.27000</td>\n",
              "      <td>19.33</td>\n",
              "      <td>121.005066</td>\n",
              "    </tr>\n",
              "    <tr>\n",
              "      <th>46</th>\n",
              "      <td>39.77000</td>\n",
              "      <td>4510.79</td>\n",
              "      <td>6.306346</td>\n",
              "      <td>2.511244</td>\n",
              "      <td>489.21</td>\n",
              "      <td>6.78000</td>\n",
              "      <td>20.14</td>\n",
              "      <td>118.136844</td>\n",
              "    </tr>\n",
              "    <tr>\n",
              "      <th>47</th>\n",
              "      <td>47.94000</td>\n",
              "      <td>4495.11</td>\n",
              "      <td>6.923872</td>\n",
              "      <td>2.631325</td>\n",
              "      <td>504.89</td>\n",
              "      <td>8.17000</td>\n",
              "      <td>15.68</td>\n",
              "      <td>92.007246</td>\n",
              "    </tr>\n",
              "    <tr>\n",
              "      <th>48</th>\n",
              "      <td>57.80000</td>\n",
              "      <td>4473.44</td>\n",
              "      <td>7.602631</td>\n",
              "      <td>2.757287</td>\n",
              "      <td>526.56</td>\n",
              "      <td>9.86000</td>\n",
              "      <td>21.67</td>\n",
              "      <td>127.031034</td>\n",
              "    </tr>\n",
              "    <tr>\n",
              "      <th>49</th>\n",
              "      <td>68.80000</td>\n",
              "      <td>4456.55</td>\n",
              "      <td>8.294577</td>\n",
              "      <td>2.880031</td>\n",
              "      <td>543.45</td>\n",
              "      <td>11.00000</td>\n",
              "      <td>16.89</td>\n",
              "      <td>105.639273</td>\n",
              "    </tr>\n",
              "    <tr>\n",
              "      <th>50</th>\n",
              "      <td>82.95000</td>\n",
              "      <td>4433.21</td>\n",
              "      <td>9.107689</td>\n",
              "      <td>3.017895</td>\n",
              "      <td>566.79</td>\n",
              "      <td>14.15000</td>\n",
              "      <td>23.34</td>\n",
              "      <td>136.823534</td>\n",
              "    </tr>\n",
              "    <tr>\n",
              "      <th>51</th>\n",
              "      <td>97.50000</td>\n",
              "      <td>4408.86</td>\n",
              "      <td>9.874209</td>\n",
              "      <td>3.142325</td>\n",
              "      <td>591.14</td>\n",
              "      <td>14.55000</td>\n",
              "      <td>24.35</td>\n",
              "      <td>163.170103</td>\n",
              "    </tr>\n",
              "  </tbody>\n",
              "</table>\n",
              "</div>"
            ],
            "text/plain": [
              "           t  FBHP (psia)     t_1/2  ...        dt  d(dP)  t*d(dP)/dt\n",
              "0    0.00000      5000.00  0.000000  ...   0.00000   0.00    0.000000\n",
              "1    0.01002      4980.61  0.100100  ...   0.01002  19.39   19.390000\n",
              "2    0.01209      4978.68  0.109955  ...   0.00207   1.93   11.272319\n",
              "3    0.01420      4976.57  0.119164  ...   0.00211   2.11   14.200000\n",
              "4    0.01730      4974.24  0.131529  ...   0.00310   2.33   13.002903\n",
              "5    0.02090      4971.98  0.144568  ...   0.00360   2.26   13.120556\n",
              "6    0.02520      4969.20  0.158745  ...   0.00430   2.78   16.292093\n",
              "7    0.03080      4966.14  0.175499  ...   0.00560   3.06   16.830000\n",
              "8    0.03680      4963.17  0.191833  ...   0.00600   2.97   18.216000\n",
              "9    0.04360      4959.52  0.208806  ...   0.00680   3.65   23.402941\n",
              "10   0.05260      4955.96  0.229347  ...   0.00900   3.56   20.806222\n",
              "11   0.06340      4951.59  0.251794  ...   0.01080   4.37   25.653519\n",
              "12   0.07540      4947.35  0.274591  ...   0.01200   4.24   26.641333\n",
              "13   0.09100      4942.72  0.301662  ...   0.01560   4.63   27.008333\n",
              "14   0.11000      4937.66  0.331662  ...   0.01900   5.06   29.294737\n",
              "15   0.13200      4932.23  0.363318  ...   0.02200   5.43   32.580000\n",
              "16   0.15900      4927.05  0.398748  ...   0.02700   5.18   30.504444\n",
              "17   0.19000      4921.48  0.435890  ...   0.03100   5.57   34.138710\n",
              "18   0.22900      4915.49  0.478539  ...   0.03900   5.99   35.172051\n",
              "19   0.27600      4907.10  0.525357  ...   0.04700   8.39   49.268936\n",
              "20   0.33200      4900.00  0.576194  ...   0.05600   7.10   42.092857\n",
              "21   0.39600      4892.37  0.629285  ...   0.06400   7.63   47.210625\n",
              "22   0.47700      4884.14  0.690652  ...   0.08100   8.23   48.465556\n",
              "23   0.56800      4875.29  0.753658  ...   0.09100   8.85   55.239560\n",
              "24   0.68500      4865.77  0.827647  ...   0.11700   9.52   55.736752\n",
              "25   0.83600      4855.52  0.914330  ...   0.15100  10.25   56.748344\n",
              "26   0.99500      4844.48  0.997497  ...   0.15900  11.04   69.086792\n",
              "27   1.20000      4832.60  1.095445  ...   0.20500  11.88   69.541463\n",
              "28   1.44600      4819.82  1.202497  ...   0.24600  12.78   75.121463\n",
              "29   1.74000      4806.06  1.319091  ...   0.29400  13.76   81.436735\n",
              "30   2.10000      4793.43  1.449138  ...   0.36000  12.63   73.675000\n",
              "31   2.50000      4779.98  1.581139  ...   0.40000  13.45   84.062500\n",
              "32   3.02000      4763.17  1.737815  ...   0.52000  16.81   97.627308\n",
              "33   3.63000      4747.75  1.905256  ...   0.61000  15.42   91.761639\n",
              "34   4.38000      4731.33  2.092845  ...   0.75000  16.42   95.892800\n",
              "35   5.21000      4713.83  2.282542  ...   0.83000  17.50  109.849398\n",
              "36   6.29000      4698.38  2.507987  ...   1.08000  15.45   89.981944\n",
              "37   7.58000      4678.74  2.753180  ...   1.29000  19.64  115.404031\n",
              "38   9.14000      4661.40  3.023243  ...   1.56000  17.34  101.594615\n",
              "39  11.02000      4643.13  3.319639  ...   1.88000  18.27  107.093298\n",
              "40  13.12000      4623.87  3.622154  ...   2.10000  19.26  120.329143\n",
              "41  15.81000      4607.71  3.976179  ...   2.69000  16.16   94.977546\n",
              "42  19.07000      4586.54  4.366921  ...   3.26000  21.17  123.838006\n",
              "43  21.99000      4568.78  4.689350  ...   2.92000  17.76  133.747397\n",
              "44  27.72000      4550.26  5.264979  ...   5.73000  18.52   89.594136\n",
              "45  32.99000      4530.93  5.743692  ...   5.27000  19.33  121.005066\n",
              "46  39.77000      4510.79  6.306346  ...   6.78000  20.14  118.136844\n",
              "47  47.94000      4495.11  6.923872  ...   8.17000  15.68   92.007246\n",
              "48  57.80000      4473.44  7.602631  ...   9.86000  21.67  127.031034\n",
              "49  68.80000      4456.55  8.294577  ...  11.00000  16.89  105.639273\n",
              "50  82.95000      4433.21  9.107689  ...  14.15000  23.34  136.823534\n",
              "51  97.50000      4408.86  9.874209  ...  14.55000  24.35  163.170103\n",
              "\n",
              "[52 rows x 8 columns]"
            ]
          },
          "metadata": {
            "tags": []
          },
          "execution_count": 52
        }
      ]
    },
    {
      "cell_type": "code",
      "metadata": {
        "id": "I55HpCh6SaEn",
        "colab_type": "code",
        "colab": {
          "base_uri": "https://localhost:8080/",
          "height": 492
        },
        "outputId": "a937c3d3-c77b-4ffe-f4cf-d53e58da0d35"
      },
      "source": [
        "plt.figure(figsize=(12,5))\n",
        "plt.style.use('default')\n",
        "\n",
        "plt.loglog(df['t'], df['t*d(dP)/dt'],linewidth=2, marker='o', label = 'Derivative')\n",
        "plt.loglog(df['t'], df['dP'],linewidth=2, marker='o',label='Del(P)')\n",
        "\n",
        "plt.axhline(y=100, color='green',linewidth=3, label='IARF Reference')\n",
        "\n",
        "plt.title('Log-Log plot for a Hydraulic-Fractured Well')\n",
        "\n",
        "plt.xlabel('time(hours)')\n",
        "plt.ylabel('Pressure Related Axis')\n",
        "\n",
        "plt.legend(loc='best')\n",
        "\n",
        "\n",
        "plt.grid()"
      ],
      "execution_count": 83,
      "outputs": [
        {
          "output_type": "display_data",
          "data": {
            "image/png": "[encoded data removed]",
            "text/plain": [
              "<Figure size 1200x500 with 1 Axes>"
            ]
          },
          "metadata": {
            "tags": []
          }
        }
      ]
    },
    {
      "cell_type": "code",
      "metadata": {
        "id": "XLkSGBHhTHEY",
        "colab_type": "code",
        "colab": {}
      },
      "source": [
        "# around 0.1 to 100 hours, we have a good scene to plot conventional."
      ],
      "execution_count": 45,
      "outputs": []
    },
    {
      "cell_type": "markdown",
      "metadata": {
        "id": "i3Yfe86QZfdw",
        "colab_type": "text"
      },
      "source": [
        "Bravo! Radial flow around y = 100 value.\n",
        "\n",
        "Linear flow around 0.1 to 1 hours\n",
        "\n"
      ]
    },
    {
      "cell_type": "markdown",
      "metadata": {
        "id": "yuTsUW10aP5E",
        "colab_type": "text"
      },
      "source": [
        "#Finding K from the radial flow regime"
      ]
    },
    {
      "cell_type": "code",
      "metadata": {
        "id": "5J-Xv0wIaPM3",
        "colab_type": "code",
        "colab": {
          "base_uri": "https://localhost:8080/",
          "height": 35
        },
        "outputId": "7dd3d5e9-b47f-4ae7-b6b8-8345a4c41c50"
      },
      "source": [
        "#100 = 70.6*q*mu*B/kh\n",
        "\n",
        "k = 70.6*q*mu*Bo/100/h\n",
        "\n",
        "print(f'The Permeability of un-altered Reservoir is : {k} mD!')"
      ],
      "execution_count": 58,
      "outputs": [
        {
          "output_type": "stream",
          "text": [
            "The Permeability of un-altered Reservoir is : 12.708 mD!\n"
          ],
          "name": "stdout"
        }
      ]
    },
    {
      "cell_type": "markdown",
      "metadata": {
        "id": "TUBdXERKbGwm",
        "colab_type": "text"
      },
      "source": [
        "#Finding the Fracture Half Length."
      ]
    },
    {
      "cell_type": "code",
      "metadata": {
        "id": "kiFrTICQT4ia",
        "colab_type": "code",
        "colab": {}
      },
      "source": [
        "hf = df[(df['t']>0.1) & (df['t']<1)][['t_1/2','FBHP (psia)']"
      ],
      "execution_count": 63,
      "outputs": []
    },
    {
      "cell_type": "code",
      "metadata": {
        "id": "YVWJs1Pzejpo",
        "colab_type": "code",
        "colab": {}
      },
      "source": [
        "x = hf['t_1/2']\n",
        "\n",
        "y = c*x + m"
      ],
      "execution_count": 75,
      "outputs": []
    },
    {
      "cell_type": "code",
      "metadata": {
        "id": "U3eXK8eKbmsv",
        "colab_type": "code",
        "colab": {
          "base_uri": "https://localhost:8080/",
          "height": 490
        },
        "outputId": "509a619b-4317-44f8-ea18-982328bd7b75"
      },
      "source": [
        "plt.plot(hf['t_1/2'], hf['FBHP (psia)'], marker='o', label='Field Data')\n",
        "plt.plot(x,y,label='Theoritical Estimate')\n",
        "\n",
        "plt.grid()\n",
        "\n",
        "plt.title('Pwf v/s t^1/2')\n",
        "plt.xlabel('t^1/2')\n",
        "plt.ylabel('Pwf(Psia)')\n",
        "\n",
        "plt.legend(loc='best')\n"
      ],
      "execution_count": 77,
      "outputs": [
        {
          "output_type": "execute_result",
          "data": {
            "text/plain": [
              "<matplotlib.legend.Legend at 0x7f6079405b38>"
            ]
          },
          "metadata": {
            "tags": []
          },
          "execution_count": 77
        },
        {
          "output_type": "display_data",
          "data": {
            "image/png": "[encoded data removed]",
            "text/plain": [
              "<Figure size 640x480 with 1 Axes>"
            ]
          },
          "metadata": {
            "tags": []
          }
        }
      ]
    },
    {
      "cell_type": "code",
      "metadata": {
        "id": "NUAxmEX_boTz",
        "colab_type": "code",
        "colab": {}
      },
      "source": [
        "c , m = np.polyfit(hf['t_1/2'] , hf['FBHP (psia)'] , 1)"
      ],
      "execution_count": 68,
      "outputs": []
    },
    {
      "cell_type": "code",
      "metadata": {
        "id": "RhqJ4qukcbw_",
        "colab_type": "code",
        "colab": {
          "base_uri": "https://localhost:8080/",
          "height": 35
        },
        "outputId": "67618d0e-b740-45f3-a15c-a2b1c2613b87"
      },
      "source": [
        "c , m"
      ],
      "execution_count": 69,
      "outputs": [
        {
          "output_type": "execute_result",
          "data": {
            "text/plain": [
              "(-140.20313286400523, 4982.259877030024)"
            ]
          },
          "metadata": {
            "tags": []
          },
          "execution_count": 69
        }
      ]
    },
    {
      "cell_type": "code",
      "metadata": {
        "id": "KqRPWLlIcr5Y",
        "colab_type": "code",
        "colab": {}
      },
      "source": [
        "# The slope gives Fracture Half length.\n",
        "\n",
        "xf =(-1)*(4.06*q*Bo/(h*c))*np.sqrt(mu/k/phi/ct)"
      ],
      "execution_count": 72,
      "outputs": []
    },
    {
      "cell_type": "code",
      "metadata": {
        "id": "fqrwXOaidRtN",
        "colab_type": "code",
        "colab": {
          "base_uri": "https://localhost:8080/",
          "height": 108
        },
        "outputId": "53f83c5a-f5d8-4eac-8fc1-8ed3e44a0340"
      },
      "source": [
        "print('RESULTS of Analysis:\\n')\n",
        "print(f'1. Permeability of unaltered formation : {k} mD.\\n')\n",
        "print(f'2. Fracture Half Length : {xf} ft.')"
      ],
      "execution_count": 74,
      "outputs": [
        {
          "output_type": "stream",
          "text": [
            "RESULTS of Analysis:\n",
            "\n",
            "1. Permeability of unaltered formation : 12.708 mD.\n",
            "\n",
            "2. Fracture Half Length : 141.64625986347212 ft.\n"
          ],
          "name": "stdout"
        }
      ]
    },
    {
      "cell_type": "code",
      "metadata": {
        "id": "30MOnsMGdS3c",
        "colab_type": "code",
        "colab": {}
      },
      "source": [
        ""
      ],
      "execution_count": null,
      "outputs": []
    }
  ]
}