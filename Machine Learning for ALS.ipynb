{
 "cells": [
  {
   "cell_type": "markdown",
   "metadata": {},
   "source": [
    "## Machine Learning For Selection of Appropriate Artificial Lift Technique\n",
    "\n",
    ">Divyanshu Vyas (Oil and Gas Data Science (Machine Learning) Consultant\n",
    "\n",
    "www.linkedin.com/in/divyanshu-vyas\n"
   ]
  },
  {
   "cell_type": "code",
   "execution_count": 29,
   "metadata": {},
   "outputs": [],
   "source": [
    "import numpy as np\n",
    "import pandas as pd\n",
    "import seaborn as sns\n",
    "\n",
    "import matplotlib.pyplot as plt"
   ]
  },
  {
   "cell_type": "code",
   "execution_count": 9,
   "metadata": {},
   "outputs": [],
   "source": [
    "df = pd.read_csv('ALS.csv',index_col=False)\n",
    "\n",
    "df = df.iloc[:,1:]"
   ]
  },
  {
   "cell_type": "code",
   "execution_count": 10,
   "metadata": {},
   "outputs": [
    {
     "data": {
      "text/html": [
       "<div>\n",
       "<style scoped>\n",
       "    .dataframe tbody tr th:only-of-type {\n",
       "        vertical-align: middle;\n",
       "    }\n",
       "\n",
       "    .dataframe tbody tr th {\n",
       "        vertical-align: top;\n",
       "    }\n",
       "\n",
       "    .dataframe thead th {\n",
       "        text-align: right;\n",
       "    }\n",
       "</style>\n",
       "<table border=\"1\" class=\"dataframe\">\n",
       "  <thead>\n",
       "    <tr style=\"text-align: right;\">\n",
       "      <th></th>\n",
       "      <th>DEPTH(TVD,ft)</th>\n",
       "      <th>Flow-RATE(bpd)</th>\n",
       "      <th>Temperature(F)</th>\n",
       "      <th>API GRAVITY</th>\n",
       "      <th>LABEL</th>\n",
       "    </tr>\n",
       "  </thead>\n",
       "  <tbody>\n",
       "    <tr>\n",
       "      <th>0</th>\n",
       "      <td>10878.143422</td>\n",
       "      <td>20814.022380</td>\n",
       "      <td>287.118309</td>\n",
       "      <td>36.566497</td>\n",
       "      <td>Gas-Lift</td>\n",
       "    </tr>\n",
       "    <tr>\n",
       "      <th>1</th>\n",
       "      <td>8631.332818</td>\n",
       "      <td>2635.067440</td>\n",
       "      <td>304.069194</td>\n",
       "      <td>28.811594</td>\n",
       "      <td>SRP</td>\n",
       "    </tr>\n",
       "    <tr>\n",
       "      <th>2</th>\n",
       "      <td>2303.429459</td>\n",
       "      <td>684.280506</td>\n",
       "      <td>152.687094</td>\n",
       "      <td>13.745976</td>\n",
       "      <td>SRP</td>\n",
       "    </tr>\n",
       "    <tr>\n",
       "      <th>3</th>\n",
       "      <td>2987.234056</td>\n",
       "      <td>3376.023875</td>\n",
       "      <td>136.081863</td>\n",
       "      <td>15.270093</td>\n",
       "      <td>ESP</td>\n",
       "    </tr>\n",
       "    <tr>\n",
       "      <th>4</th>\n",
       "      <td>11394.914576</td>\n",
       "      <td>3509.794207</td>\n",
       "      <td>391.860717</td>\n",
       "      <td>36.416786</td>\n",
       "      <td>SRP</td>\n",
       "    </tr>\n",
       "    <tr>\n",
       "      <th>...</th>\n",
       "      <td>...</td>\n",
       "      <td>...</td>\n",
       "      <td>...</td>\n",
       "      <td>...</td>\n",
       "      <td>...</td>\n",
       "    </tr>\n",
       "    <tr>\n",
       "      <th>5995</th>\n",
       "      <td>10359.751076</td>\n",
       "      <td>7883.606777</td>\n",
       "      <td>272.675157</td>\n",
       "      <td>27.148606</td>\n",
       "      <td>Jet Pump</td>\n",
       "    </tr>\n",
       "    <tr>\n",
       "      <th>5996</th>\n",
       "      <td>10172.267152</td>\n",
       "      <td>7596.077089</td>\n",
       "      <td>263.490358</td>\n",
       "      <td>26.427341</td>\n",
       "      <td>Jet Pump</td>\n",
       "    </tr>\n",
       "    <tr>\n",
       "      <th>5997</th>\n",
       "      <td>5721.150763</td>\n",
       "      <td>4235.607393</td>\n",
       "      <td>238.334899</td>\n",
       "      <td>33.129422</td>\n",
       "      <td>PCP</td>\n",
       "    </tr>\n",
       "    <tr>\n",
       "      <th>5998</th>\n",
       "      <td>3836.394266</td>\n",
       "      <td>2447.347021</td>\n",
       "      <td>159.489878</td>\n",
       "      <td>20.486092</td>\n",
       "      <td>PCP</td>\n",
       "    </tr>\n",
       "    <tr>\n",
       "      <th>5999</th>\n",
       "      <td>13002.787388</td>\n",
       "      <td>25009.441823</td>\n",
       "      <td>352.257487</td>\n",
       "      <td>38.180599</td>\n",
       "      <td>ESP</td>\n",
       "    </tr>\n",
       "  </tbody>\n",
       "</table>\n",
       "<p>6000 rows × 5 columns</p>\n",
       "</div>"
      ],
      "text/plain": [
       "      DEPTH(TVD,ft)  Flow-RATE(bpd)  Temperature(F)  API GRAVITY     LABEL\n",
       "0      10878.143422    20814.022380      287.118309    36.566497  Gas-Lift\n",
       "1       8631.332818     2635.067440      304.069194    28.811594       SRP\n",
       "2       2303.429459      684.280506      152.687094    13.745976       SRP\n",
       "3       2987.234056     3376.023875      136.081863    15.270093       ESP\n",
       "4      11394.914576     3509.794207      391.860717    36.416786       SRP\n",
       "...             ...             ...             ...          ...       ...\n",
       "5995   10359.751076     7883.606777      272.675157    27.148606  Jet Pump\n",
       "5996   10172.267152     7596.077089      263.490358    26.427341  Jet Pump\n",
       "5997    5721.150763     4235.607393      238.334899    33.129422       PCP\n",
       "5998    3836.394266     2447.347021      159.489878    20.486092       PCP\n",
       "5999   13002.787388    25009.441823      352.257487    38.180599       ESP\n",
       "\n",
       "[6000 rows x 5 columns]"
      ]
     },
     "execution_count": 10,
     "metadata": {},
     "output_type": "execute_result"
    }
   ],
   "source": [
    "df"
   ]
  },
  {
   "cell_type": "code",
   "execution_count": 11,
   "metadata": {},
   "outputs": [],
   "source": [
    "X = df.iloc[:,:-1]"
   ]
  },
  {
   "cell_type": "code",
   "execution_count": 13,
   "metadata": {},
   "outputs": [
    {
     "data": {
      "text/plain": [
       "{'ESP', 'Gas-Lift', 'HPP', 'Jet Pump', 'PCP', 'SRP'}"
      ]
     },
     "execution_count": 13,
     "metadata": {},
     "output_type": "execute_result"
    }
   ],
   "source": [
    "set(df['LABEL'])"
   ]
  },
  {
   "cell_type": "code",
   "execution_count": 14,
   "metadata": {},
   "outputs": [],
   "source": [
    "def encoder(x):\n",
    "    \n",
    "    if x == 'ESP':\n",
    "        return 0\n",
    "    if x == 'Gas-Lift':\n",
    "        return 1\n",
    "    if x =='HPP':\n",
    "        return 2\n",
    "    if x == 'Jet Pump':\n",
    "        return 3\n",
    "    if x == 'PCP':\n",
    "        return 4\n",
    "    if x == 'SRP':\n",
    "        return 5"
   ]
  },
  {
   "cell_type": "code",
   "execution_count": 40,
   "metadata": {},
   "outputs": [],
   "source": [
    "names = {0:'ESP',\n",
    "        1:'Gas-Lift',\n",
    "        2:'Hydraulic-Piston Pump',\n",
    "        3: 'Jet Pump',\n",
    "        4: 'PCP',\n",
    "        5: 'SRP',\n",
    "        }"
   ]
  },
  {
   "cell_type": "code",
   "execution_count": 15,
   "metadata": {},
   "outputs": [],
   "source": [
    "df['LABEL'] = df['LABEL'].apply(encoder)"
   ]
  },
  {
   "cell_type": "code",
   "execution_count": 16,
   "metadata": {},
   "outputs": [
    {
     "data": {
      "text/html": [
       "<div>\n",
       "<style scoped>\n",
       "    .dataframe tbody tr th:only-of-type {\n",
       "        vertical-align: middle;\n",
       "    }\n",
       "\n",
       "    .dataframe tbody tr th {\n",
       "        vertical-align: top;\n",
       "    }\n",
       "\n",
       "    .dataframe thead th {\n",
       "        text-align: right;\n",
       "    }\n",
       "</style>\n",
       "<table border=\"1\" class=\"dataframe\">\n",
       "  <thead>\n",
       "    <tr style=\"text-align: right;\">\n",
       "      <th></th>\n",
       "      <th>DEPTH(TVD,ft)</th>\n",
       "      <th>Flow-RATE(bpd)</th>\n",
       "      <th>Temperature(F)</th>\n",
       "      <th>API GRAVITY</th>\n",
       "      <th>LABEL</th>\n",
       "    </tr>\n",
       "  </thead>\n",
       "  <tbody>\n",
       "    <tr>\n",
       "      <th>0</th>\n",
       "      <td>10878.143422</td>\n",
       "      <td>20814.022380</td>\n",
       "      <td>287.118309</td>\n",
       "      <td>36.566497</td>\n",
       "      <td>1</td>\n",
       "    </tr>\n",
       "    <tr>\n",
       "      <th>1</th>\n",
       "      <td>8631.332818</td>\n",
       "      <td>2635.067440</td>\n",
       "      <td>304.069194</td>\n",
       "      <td>28.811594</td>\n",
       "      <td>5</td>\n",
       "    </tr>\n",
       "    <tr>\n",
       "      <th>2</th>\n",
       "      <td>2303.429459</td>\n",
       "      <td>684.280506</td>\n",
       "      <td>152.687094</td>\n",
       "      <td>13.745976</td>\n",
       "      <td>5</td>\n",
       "    </tr>\n",
       "    <tr>\n",
       "      <th>3</th>\n",
       "      <td>2987.234056</td>\n",
       "      <td>3376.023875</td>\n",
       "      <td>136.081863</td>\n",
       "      <td>15.270093</td>\n",
       "      <td>0</td>\n",
       "    </tr>\n",
       "    <tr>\n",
       "      <th>4</th>\n",
       "      <td>11394.914576</td>\n",
       "      <td>3509.794207</td>\n",
       "      <td>391.860717</td>\n",
       "      <td>36.416786</td>\n",
       "      <td>5</td>\n",
       "    </tr>\n",
       "    <tr>\n",
       "      <th>...</th>\n",
       "      <td>...</td>\n",
       "      <td>...</td>\n",
       "      <td>...</td>\n",
       "      <td>...</td>\n",
       "      <td>...</td>\n",
       "    </tr>\n",
       "    <tr>\n",
       "      <th>5995</th>\n",
       "      <td>10359.751076</td>\n",
       "      <td>7883.606777</td>\n",
       "      <td>272.675157</td>\n",
       "      <td>27.148606</td>\n",
       "      <td>3</td>\n",
       "    </tr>\n",
       "    <tr>\n",
       "      <th>5996</th>\n",
       "      <td>10172.267152</td>\n",
       "      <td>7596.077089</td>\n",
       "      <td>263.490358</td>\n",
       "      <td>26.427341</td>\n",
       "      <td>3</td>\n",
       "    </tr>\n",
       "    <tr>\n",
       "      <th>5997</th>\n",
       "      <td>5721.150763</td>\n",
       "      <td>4235.607393</td>\n",
       "      <td>238.334899</td>\n",
       "      <td>33.129422</td>\n",
       "      <td>4</td>\n",
       "    </tr>\n",
       "    <tr>\n",
       "      <th>5998</th>\n",
       "      <td>3836.394266</td>\n",
       "      <td>2447.347021</td>\n",
       "      <td>159.489878</td>\n",
       "      <td>20.486092</td>\n",
       "      <td>4</td>\n",
       "    </tr>\n",
       "    <tr>\n",
       "      <th>5999</th>\n",
       "      <td>13002.787388</td>\n",
       "      <td>25009.441823</td>\n",
       "      <td>352.257487</td>\n",
       "      <td>38.180599</td>\n",
       "      <td>0</td>\n",
       "    </tr>\n",
       "  </tbody>\n",
       "</table>\n",
       "<p>6000 rows × 5 columns</p>\n",
       "</div>"
      ],
      "text/plain": [
       "      DEPTH(TVD,ft)  Flow-RATE(bpd)  Temperature(F)  API GRAVITY  LABEL\n",
       "0      10878.143422    20814.022380      287.118309    36.566497      1\n",
       "1       8631.332818     2635.067440      304.069194    28.811594      5\n",
       "2       2303.429459      684.280506      152.687094    13.745976      5\n",
       "3       2987.234056     3376.023875      136.081863    15.270093      0\n",
       "4      11394.914576     3509.794207      391.860717    36.416786      5\n",
       "...             ...             ...             ...          ...    ...\n",
       "5995   10359.751076     7883.606777      272.675157    27.148606      3\n",
       "5996   10172.267152     7596.077089      263.490358    26.427341      3\n",
       "5997    5721.150763     4235.607393      238.334899    33.129422      4\n",
       "5998    3836.394266     2447.347021      159.489878    20.486092      4\n",
       "5999   13002.787388    25009.441823      352.257487    38.180599      0\n",
       "\n",
       "[6000 rows x 5 columns]"
      ]
     },
     "execution_count": 16,
     "metadata": {},
     "output_type": "execute_result"
    }
   ],
   "source": [
    "df"
   ]
  },
  {
   "cell_type": "code",
   "execution_count": 17,
   "metadata": {},
   "outputs": [],
   "source": [
    "y = df['LABEL']"
   ]
  },
  {
   "cell_type": "code",
   "execution_count": 18,
   "metadata": {},
   "outputs": [],
   "source": [
    "from sklearn.tree import DecisionTreeClassifier\n",
    "\n",
    "from sklearn.model_selection import train_test_split"
   ]
  },
  {
   "cell_type": "code",
   "execution_count": 19,
   "metadata": {},
   "outputs": [],
   "source": [
    "X_train, X_test, y_train, y_test = train_test_split(X, y, test_size=0.3, random_state=42)"
   ]
  },
  {
   "cell_type": "code",
   "execution_count": 20,
   "metadata": {},
   "outputs": [],
   "source": [
    "tree = DecisionTreeClassifier()"
   ]
  },
  {
   "cell_type": "code",
   "execution_count": 21,
   "metadata": {},
   "outputs": [
    {
     "data": {
      "text/plain": [
       "DecisionTreeClassifier()"
      ]
     },
     "execution_count": 21,
     "metadata": {},
     "output_type": "execute_result"
    }
   ],
   "source": [
    "tree.fit(X_train,y_train)"
   ]
  },
  {
   "cell_type": "code",
   "execution_count": 22,
   "metadata": {},
   "outputs": [],
   "source": [
    "yp = tree.predict(X_test)"
   ]
  },
  {
   "cell_type": "code",
   "execution_count": 23,
   "metadata": {},
   "outputs": [],
   "source": [
    "from sklearn.metrics import classification_report, confusion_matrix"
   ]
  },
  {
   "cell_type": "code",
   "execution_count": 24,
   "metadata": {},
   "outputs": [],
   "source": [
    "#Model Evaluation"
   ]
  },
  {
   "cell_type": "code",
   "execution_count": 25,
   "metadata": {},
   "outputs": [
    {
     "data": {
      "text/plain": [
       "0.9961111111111111"
      ]
     },
     "execution_count": 25,
     "metadata": {},
     "output_type": "execute_result"
    }
   ],
   "source": [
    "tree.score(X_test, y_test)"
   ]
  },
  {
   "cell_type": "code",
   "execution_count": 26,
   "metadata": {},
   "outputs": [
    {
     "name": "stdout",
     "output_type": "stream",
     "text": [
      "              precision    recall  f1-score   support\n",
      "\n",
      "           0       1.00      0.99      0.99       280\n",
      "           1       0.99      1.00      1.00       302\n",
      "           2       1.00      0.99      1.00       301\n",
      "           3       0.99      1.00      1.00       290\n",
      "           4       1.00      1.00      1.00       318\n",
      "           5       1.00      1.00      1.00       309\n",
      "\n",
      "    accuracy                           1.00      1800\n",
      "   macro avg       1.00      1.00      1.00      1800\n",
      "weighted avg       1.00      1.00      1.00      1800\n",
      "\n"
     ]
    }
   ],
   "source": [
    "print(classification_report(y_test,yp))"
   ]
  },
  {
   "cell_type": "code",
   "execution_count": 27,
   "metadata": {},
   "outputs": [],
   "source": [
    "cm = confusion_matrix(y_test,yp)"
   ]
  },
  {
   "cell_type": "code",
   "execution_count": 35,
   "metadata": {},
   "outputs": [
    {
     "data": {
      "text/plain": [
       "Text(0.5, 1.0, 'The Diagonal represents correct classifications.')"
      ]
     },
     "execution_count": 35,
     "metadata": {},
     "output_type": "execute_result"
    },
    {
     "data": {
      "image/png": "[encoded data removed]",
      "text/plain": [
       "<Figure size 720x432 with 2 Axes>"
      ]
     },
     "metadata": {
      "needs_background": "light"
     },
     "output_type": "display_data"
    }
   ],
   "source": [
    "plt.figure(figsize=(10,6))\n",
    "\n",
    "sns.heatmap(cm,annot=True,cmap='viridis')\n",
    "\n",
    "plt.title('The Diagonal represents correct classifications.')"
   ]
  },
  {
   "cell_type": "code",
   "execution_count": 36,
   "metadata": {},
   "outputs": [],
   "source": [
    "yprob = tree.predict_proba(X_test)"
   ]
  },
  {
   "cell_type": "code",
   "execution_count": 39,
   "metadata": {},
   "outputs": [
    {
     "data": {
      "text/html": [
       "<div>\n",
       "<style scoped>\n",
       "    .dataframe tbody tr th:only-of-type {\n",
       "        vertical-align: middle;\n",
       "    }\n",
       "\n",
       "    .dataframe tbody tr th {\n",
       "        vertical-align: top;\n",
       "    }\n",
       "\n",
       "    .dataframe thead th {\n",
       "        text-align: right;\n",
       "    }\n",
       "</style>\n",
       "<table border=\"1\" class=\"dataframe\">\n",
       "  <thead>\n",
       "    <tr style=\"text-align: right;\">\n",
       "      <th></th>\n",
       "      <th>DEPTH(TVD,ft)</th>\n",
       "      <th>Flow-RATE(bpd)</th>\n",
       "      <th>Temperature(F)</th>\n",
       "      <th>API GRAVITY</th>\n",
       "      <th>LABEL</th>\n",
       "    </tr>\n",
       "  </thead>\n",
       "  <tbody>\n",
       "    <tr>\n",
       "      <th>0</th>\n",
       "      <td>10878.143422</td>\n",
       "      <td>20814.022380</td>\n",
       "      <td>287.118309</td>\n",
       "      <td>36.566497</td>\n",
       "      <td>1</td>\n",
       "    </tr>\n",
       "    <tr>\n",
       "      <th>1</th>\n",
       "      <td>8631.332818</td>\n",
       "      <td>2635.067440</td>\n",
       "      <td>304.069194</td>\n",
       "      <td>28.811594</td>\n",
       "      <td>5</td>\n",
       "    </tr>\n",
       "    <tr>\n",
       "      <th>2</th>\n",
       "      <td>2303.429459</td>\n",
       "      <td>684.280506</td>\n",
       "      <td>152.687094</td>\n",
       "      <td>13.745976</td>\n",
       "      <td>5</td>\n",
       "    </tr>\n",
       "    <tr>\n",
       "      <th>3</th>\n",
       "      <td>2987.234056</td>\n",
       "      <td>3376.023875</td>\n",
       "      <td>136.081863</td>\n",
       "      <td>15.270093</td>\n",
       "      <td>0</td>\n",
       "    </tr>\n",
       "    <tr>\n",
       "      <th>4</th>\n",
       "      <td>11394.914576</td>\n",
       "      <td>3509.794207</td>\n",
       "      <td>391.860717</td>\n",
       "      <td>36.416786</td>\n",
       "      <td>5</td>\n",
       "    </tr>\n",
       "  </tbody>\n",
       "</table>\n",
       "</div>"
      ],
      "text/plain": [
       "   DEPTH(TVD,ft)  Flow-RATE(bpd)  Temperature(F)  API GRAVITY  LABEL\n",
       "0   10878.143422    20814.022380      287.118309    36.566497      1\n",
       "1    8631.332818     2635.067440      304.069194    28.811594      5\n",
       "2    2303.429459      684.280506      152.687094    13.745976      5\n",
       "3    2987.234056     3376.023875      136.081863    15.270093      0\n",
       "4   11394.914576     3509.794207      391.860717    36.416786      5"
      ]
     },
     "execution_count": 39,
     "metadata": {},
     "output_type": "execute_result"
    }
   ],
   "source": [
    "df[:5]"
   ]
  },
  {
   "cell_type": "code",
   "execution_count": 41,
   "metadata": {},
   "outputs": [],
   "source": [
    "###"
   ]
  },
  {
   "cell_type": "code",
   "execution_count": 42,
   "metadata": {},
   "outputs": [],
   "source": [
    "###"
   ]
  },
  {
   "cell_type": "code",
   "execution_count": 43,
   "metadata": {},
   "outputs": [],
   "source": [
    "###"
   ]
  },
  {
   "cell_type": "code",
   "execution_count": 46,
   "metadata": {},
   "outputs": [],
   "source": [
    "#Test Cases\n",
    "\n",
    "testCasedf = df[:5]\n",
    "testcaseX = X[:5]"
   ]
  },
  {
   "cell_type": "code",
   "execution_count": 45,
   "metadata": {},
   "outputs": [
    {
     "data": {
      "text/html": [
       "<div>\n",
       "<style scoped>\n",
       "    .dataframe tbody tr th:only-of-type {\n",
       "        vertical-align: middle;\n",
       "    }\n",
       "\n",
       "    .dataframe tbody tr th {\n",
       "        vertical-align: top;\n",
       "    }\n",
       "\n",
       "    .dataframe thead th {\n",
       "        text-align: right;\n",
       "    }\n",
       "</style>\n",
       "<table border=\"1\" class=\"dataframe\">\n",
       "  <thead>\n",
       "    <tr style=\"text-align: right;\">\n",
       "      <th></th>\n",
       "      <th>DEPTH(TVD,ft)</th>\n",
       "      <th>Flow-RATE(bpd)</th>\n",
       "      <th>Temperature(F)</th>\n",
       "      <th>API GRAVITY</th>\n",
       "    </tr>\n",
       "  </thead>\n",
       "  <tbody>\n",
       "    <tr>\n",
       "      <th>0</th>\n",
       "      <td>10878.143422</td>\n",
       "      <td>20814.022380</td>\n",
       "      <td>287.118309</td>\n",
       "      <td>36.566497</td>\n",
       "    </tr>\n",
       "    <tr>\n",
       "      <th>1</th>\n",
       "      <td>8631.332818</td>\n",
       "      <td>2635.067440</td>\n",
       "      <td>304.069194</td>\n",
       "      <td>28.811594</td>\n",
       "    </tr>\n",
       "    <tr>\n",
       "      <th>2</th>\n",
       "      <td>2303.429459</td>\n",
       "      <td>684.280506</td>\n",
       "      <td>152.687094</td>\n",
       "      <td>13.745976</td>\n",
       "    </tr>\n",
       "    <tr>\n",
       "      <th>3</th>\n",
       "      <td>2987.234056</td>\n",
       "      <td>3376.023875</td>\n",
       "      <td>136.081863</td>\n",
       "      <td>15.270093</td>\n",
       "    </tr>\n",
       "    <tr>\n",
       "      <th>4</th>\n",
       "      <td>11394.914576</td>\n",
       "      <td>3509.794207</td>\n",
       "      <td>391.860717</td>\n",
       "      <td>36.416786</td>\n",
       "    </tr>\n",
       "  </tbody>\n",
       "</table>\n",
       "</div>"
      ],
      "text/plain": [
       "   DEPTH(TVD,ft)  Flow-RATE(bpd)  Temperature(F)  API GRAVITY\n",
       "0   10878.143422    20814.022380      287.118309    36.566497\n",
       "1    8631.332818     2635.067440      304.069194    28.811594\n",
       "2    2303.429459      684.280506      152.687094    13.745976\n",
       "3    2987.234056     3376.023875      136.081863    15.270093\n",
       "4   11394.914576     3509.794207      391.860717    36.416786"
      ]
     },
     "execution_count": 45,
     "metadata": {},
     "output_type": "execute_result"
    }
   ],
   "source": [
    "testCaseX"
   ]
  },
  {
   "cell_type": "code",
   "execution_count": 52,
   "metadata": {},
   "outputs": [
    {
     "data": {
      "text/html": [
       "<div>\n",
       "<style scoped>\n",
       "    .dataframe tbody tr th:only-of-type {\n",
       "        vertical-align: middle;\n",
       "    }\n",
       "\n",
       "    .dataframe tbody tr th {\n",
       "        vertical-align: top;\n",
       "    }\n",
       "\n",
       "    .dataframe thead th {\n",
       "        text-align: right;\n",
       "    }\n",
       "</style>\n",
       "<table border=\"1\" class=\"dataframe\">\n",
       "  <thead>\n",
       "    <tr style=\"text-align: right;\">\n",
       "      <th></th>\n",
       "      <th>DEPTH(TVD,ft)</th>\n",
       "      <th>Flow-RATE(bpd)</th>\n",
       "      <th>Temperature(F)</th>\n",
       "      <th>API GRAVITY</th>\n",
       "      <th>LABEL</th>\n",
       "    </tr>\n",
       "  </thead>\n",
       "  <tbody>\n",
       "    <tr>\n",
       "      <th>0</th>\n",
       "      <td>10878.143422</td>\n",
       "      <td>20814.022380</td>\n",
       "      <td>287.118309</td>\n",
       "      <td>36.566497</td>\n",
       "      <td>1</td>\n",
       "    </tr>\n",
       "    <tr>\n",
       "      <th>1</th>\n",
       "      <td>8631.332818</td>\n",
       "      <td>2635.067440</td>\n",
       "      <td>304.069194</td>\n",
       "      <td>28.811594</td>\n",
       "      <td>5</td>\n",
       "    </tr>\n",
       "    <tr>\n",
       "      <th>2</th>\n",
       "      <td>2303.429459</td>\n",
       "      <td>684.280506</td>\n",
       "      <td>152.687094</td>\n",
       "      <td>13.745976</td>\n",
       "      <td>5</td>\n",
       "    </tr>\n",
       "    <tr>\n",
       "      <th>3</th>\n",
       "      <td>2987.234056</td>\n",
       "      <td>3376.023875</td>\n",
       "      <td>136.081863</td>\n",
       "      <td>15.270093</td>\n",
       "      <td>0</td>\n",
       "    </tr>\n",
       "    <tr>\n",
       "      <th>4</th>\n",
       "      <td>11394.914576</td>\n",
       "      <td>3509.794207</td>\n",
       "      <td>391.860717</td>\n",
       "      <td>36.416786</td>\n",
       "      <td>5</td>\n",
       "    </tr>\n",
       "  </tbody>\n",
       "</table>\n",
       "</div>"
      ],
      "text/plain": [
       "   DEPTH(TVD,ft)  Flow-RATE(bpd)  Temperature(F)  API GRAVITY  LABEL\n",
       "0   10878.143422    20814.022380      287.118309    36.566497      1\n",
       "1    8631.332818     2635.067440      304.069194    28.811594      5\n",
       "2    2303.429459      684.280506      152.687094    13.745976      5\n",
       "3    2987.234056     3376.023875      136.081863    15.270093      0\n",
       "4   11394.914576     3509.794207      391.860717    36.416786      5"
      ]
     },
     "execution_count": 52,
     "metadata": {},
     "output_type": "execute_result"
    }
   ],
   "source": [
    "testCasedf"
   ]
  },
  {
   "cell_type": "code",
   "execution_count": 53,
   "metadata": {},
   "outputs": [
    {
     "data": {
      "text/plain": [
       "array([1, 5, 5, 0, 5], dtype=int64)"
      ]
     },
     "execution_count": 53,
     "metadata": {},
     "output_type": "execute_result"
    }
   ],
   "source": [
    "model_p = tree.predict(testCaseX)\n",
    "\n",
    "model_p\n",
    "\n"
   ]
  },
  {
   "cell_type": "code",
   "execution_count": 55,
   "metadata": {},
   "outputs": [],
   "source": [
    "df_elaborate = df.copy()"
   ]
  },
  {
   "cell_type": "code",
   "execution_count": 56,
   "metadata": {},
   "outputs": [],
   "source": [
    "def namer(n):\n",
    "    \n",
    "    return names[n]"
   ]
  },
  {
   "cell_type": "code",
   "execution_count": 57,
   "metadata": {},
   "outputs": [],
   "source": [
    "df_elaborate['Lift technique'] = df_elaborate['LABEL'].apply(namer) "
   ]
  },
  {
   "cell_type": "code",
   "execution_count": 58,
   "metadata": {},
   "outputs": [
    {
     "data": {
      "text/html": [
       "<div>\n",
       "<style scoped>\n",
       "    .dataframe tbody tr th:only-of-type {\n",
       "        vertical-align: middle;\n",
       "    }\n",
       "\n",
       "    .dataframe tbody tr th {\n",
       "        vertical-align: top;\n",
       "    }\n",
       "\n",
       "    .dataframe thead th {\n",
       "        text-align: right;\n",
       "    }\n",
       "</style>\n",
       "<table border=\"1\" class=\"dataframe\">\n",
       "  <thead>\n",
       "    <tr style=\"text-align: right;\">\n",
       "      <th></th>\n",
       "      <th>DEPTH(TVD,ft)</th>\n",
       "      <th>Flow-RATE(bpd)</th>\n",
       "      <th>Temperature(F)</th>\n",
       "      <th>API GRAVITY</th>\n",
       "      <th>LABEL</th>\n",
       "      <th>Lift technique</th>\n",
       "    </tr>\n",
       "  </thead>\n",
       "  <tbody>\n",
       "    <tr>\n",
       "      <th>0</th>\n",
       "      <td>10878.143422</td>\n",
       "      <td>20814.022380</td>\n",
       "      <td>287.118309</td>\n",
       "      <td>36.566497</td>\n",
       "      <td>1</td>\n",
       "      <td>Gas-Lift</td>\n",
       "    </tr>\n",
       "    <tr>\n",
       "      <th>1</th>\n",
       "      <td>8631.332818</td>\n",
       "      <td>2635.067440</td>\n",
       "      <td>304.069194</td>\n",
       "      <td>28.811594</td>\n",
       "      <td>5</td>\n",
       "      <td>SRP</td>\n",
       "    </tr>\n",
       "    <tr>\n",
       "      <th>2</th>\n",
       "      <td>2303.429459</td>\n",
       "      <td>684.280506</td>\n",
       "      <td>152.687094</td>\n",
       "      <td>13.745976</td>\n",
       "      <td>5</td>\n",
       "      <td>SRP</td>\n",
       "    </tr>\n",
       "    <tr>\n",
       "      <th>3</th>\n",
       "      <td>2987.234056</td>\n",
       "      <td>3376.023875</td>\n",
       "      <td>136.081863</td>\n",
       "      <td>15.270093</td>\n",
       "      <td>0</td>\n",
       "      <td>ESP</td>\n",
       "    </tr>\n",
       "    <tr>\n",
       "      <th>4</th>\n",
       "      <td>11394.914576</td>\n",
       "      <td>3509.794207</td>\n",
       "      <td>391.860717</td>\n",
       "      <td>36.416786</td>\n",
       "      <td>5</td>\n",
       "      <td>SRP</td>\n",
       "    </tr>\n",
       "    <tr>\n",
       "      <th>...</th>\n",
       "      <td>...</td>\n",
       "      <td>...</td>\n",
       "      <td>...</td>\n",
       "      <td>...</td>\n",
       "      <td>...</td>\n",
       "      <td>...</td>\n",
       "    </tr>\n",
       "    <tr>\n",
       "      <th>5995</th>\n",
       "      <td>10359.751076</td>\n",
       "      <td>7883.606777</td>\n",
       "      <td>272.675157</td>\n",
       "      <td>27.148606</td>\n",
       "      <td>3</td>\n",
       "      <td>Jet Pump</td>\n",
       "    </tr>\n",
       "    <tr>\n",
       "      <th>5996</th>\n",
       "      <td>10172.267152</td>\n",
       "      <td>7596.077089</td>\n",
       "      <td>263.490358</td>\n",
       "      <td>26.427341</td>\n",
       "      <td>3</td>\n",
       "      <td>Jet Pump</td>\n",
       "    </tr>\n",
       "    <tr>\n",
       "      <th>5997</th>\n",
       "      <td>5721.150763</td>\n",
       "      <td>4235.607393</td>\n",
       "      <td>238.334899</td>\n",
       "      <td>33.129422</td>\n",
       "      <td>4</td>\n",
       "      <td>PCP</td>\n",
       "    </tr>\n",
       "    <tr>\n",
       "      <th>5998</th>\n",
       "      <td>3836.394266</td>\n",
       "      <td>2447.347021</td>\n",
       "      <td>159.489878</td>\n",
       "      <td>20.486092</td>\n",
       "      <td>4</td>\n",
       "      <td>PCP</td>\n",
       "    </tr>\n",
       "    <tr>\n",
       "      <th>5999</th>\n",
       "      <td>13002.787388</td>\n",
       "      <td>25009.441823</td>\n",
       "      <td>352.257487</td>\n",
       "      <td>38.180599</td>\n",
       "      <td>0</td>\n",
       "      <td>ESP</td>\n",
       "    </tr>\n",
       "  </tbody>\n",
       "</table>\n",
       "<p>6000 rows × 6 columns</p>\n",
       "</div>"
      ],
      "text/plain": [
       "      DEPTH(TVD,ft)  Flow-RATE(bpd)  Temperature(F)  API GRAVITY  LABEL  \\\n",
       "0      10878.143422    20814.022380      287.118309    36.566497      1   \n",
       "1       8631.332818     2635.067440      304.069194    28.811594      5   \n",
       "2       2303.429459      684.280506      152.687094    13.745976      5   \n",
       "3       2987.234056     3376.023875      136.081863    15.270093      0   \n",
       "4      11394.914576     3509.794207      391.860717    36.416786      5   \n",
       "...             ...             ...             ...          ...    ...   \n",
       "5995   10359.751076     7883.606777      272.675157    27.148606      3   \n",
       "5996   10172.267152     7596.077089      263.490358    26.427341      3   \n",
       "5997    5721.150763     4235.607393      238.334899    33.129422      4   \n",
       "5998    3836.394266     2447.347021      159.489878    20.486092      4   \n",
       "5999   13002.787388    25009.441823      352.257487    38.180599      0   \n",
       "\n",
       "     Lift technique  \n",
       "0          Gas-Lift  \n",
       "1               SRP  \n",
       "2               SRP  \n",
       "3               ESP  \n",
       "4               SRP  \n",
       "...             ...  \n",
       "5995       Jet Pump  \n",
       "5996       Jet Pump  \n",
       "5997            PCP  \n",
       "5998            PCP  \n",
       "5999            ESP  \n",
       "\n",
       "[6000 rows x 6 columns]"
      ]
     },
     "execution_count": 58,
     "metadata": {},
     "output_type": "execute_result"
    }
   ],
   "source": [
    "df_elaborate"
   ]
  },
  {
   "cell_type": "code",
   "execution_count": null,
   "metadata": {},
   "outputs": [],
   "source": []
  }
 ],
 "metadata": {
  "kernelspec": {
   "display_name": "Python 3",
   "language": "python",
   "name": "python3"
  },
  "language_info": {
   "codemirror_mode": {
    "name": "ipython",
    "version": 3
   },
   "file_extension": ".py",
   "mimetype": "text/x-python",
   "name": "python",
   "nbconvert_exporter": "python",
   "pygments_lexer": "ipython3",
   "version": "3.8.3"
  }
 },
 "nbformat": 4,
 "nbformat_minor": 4
}
